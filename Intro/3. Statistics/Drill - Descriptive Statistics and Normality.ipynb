{
 "cells": [
  {
   "cell_type": "markdown",
   "metadata": {},
   "source": [
    "# Part 1"
   ]
  },
  {
   "cell_type": "code",
   "execution_count": 61,
   "metadata": {
    "collapsed": true
   },
   "outputs": [],
   "source": [
    "import numpy as np\n",
    "import matplotlib.pyplot as plt\n",
    "%matplotlib inline"
   ]
  },
  {
   "cell_type": "code",
   "execution_count": 76,
   "metadata": {},
   "outputs": [
    {
     "data": {
      "image/png": "[encoded data removed]",
      "text/plain": [
       "<matplotlib.figure.Figure at 0x1caf1744668>"
      ]
     },
     "metadata": {},
     "output_type": "display_data"
    },
    {
     "name": "stdout",
     "output_type": "stream",
     "text": [
      "Mean: 1.59\n",
      "Standard deviation: 1.04971424683\n",
      "Min: 1\n",
      "Max: 6\n"
     ]
    }
   ],
   "source": [
    "plt.rcParams['figure.figsize'] = [8,4]\n",
    "\n",
    "logs = np.random.logseries(.6, 100)\n",
    "count, bins, ignored = plt.hist(logs, bins=50)\n",
    "\n",
    "mean = logs.mean()\n",
    "stdev = logs.std()\n",
    "min = logs.min()\n",
    "max = logs.max()\n",
    "\n",
    "plt.axvline(mean, color='r', linestyle='solid', linewidth=2)\n",
    "plt.axvline(mean + stdev, color='r', linestyle='dashed', linewidth=2)\n",
    "plt.axvline(mean - stdev, color='r', linestyle='dashed', linewidth=2)\n",
    "\n",
    "plt.show()\n",
    "print('Mean: ' + str(mean))\n",
    "print('Standard deviation: ' + str(stdev))\n",
    "print('Min: ' + str(min))\n",
    "print('Max: ' + str(max))"
   ]
  },
  {
   "cell_type": "markdown",
   "metadata": {},
   "source": [
    "For the logarithmitic scale, the mean has limited usefulness, and the standard deviation seems even more limited. We can tell that the majority of values returned are 1, then 2, so it makes sense that the mean is 1.6. The standardard deviation tells us that the majority of values lie between .6 and 2.6. It is a little misleading since in this scenario, there are no values beyond 1 standard deviation below the mean, while the value 6, our maximum, is over 4 standard deviations away."
   ]
  },
  {
   "cell_type": "markdown",
   "metadata": {},
   "source": [
    "# Part 2"
   ]
  },
  {
   "cell_type": "code",
   "execution_count": 98,
   "metadata": {},
   "outputs": [
    {
     "data": {
      "image/png": "[encoded data removed]",
      "text/plain": [
       "<matplotlib.figure.Figure at 0x1caf0a91be0>"
      ]
     },
     "metadata": {},
     "output_type": "display_data"
    },
    {
     "name": "stdout",
     "output_type": "stream",
     "text": [
      "Mean1: 4.99935961905\n",
      "Standard deviation1: 0.473209415508\n",
      "Mean2: 9.97892412508\n",
      "Standard deviation2: 1.08414338744\n",
      "Mean: 15.1772365373\n",
      "Standard deviation: 1.24405487607\n"
     ]
    }
   ],
   "source": [
    "plt.rcParams['figure.figsize'] = [15,5]\n",
    "\n",
    "plt.subplot(1, 3, 1)\n",
    "var1 = np.random.normal(5, 0.5, 100)\n",
    "plt.title('Variable 1')\n",
    "plt.hist(norm1)\n",
    "\n",
    "plt.subplot(1, 3, 2)\n",
    "var2 = np.random.normal(10, 1, 100)\n",
    "plt.title('Variable 2')\n",
    "plt.hist(norm2)\n",
    "\n",
    "mean1 = var1.mean()\n",
    "stdev1 = var1.std()\n",
    "\n",
    "mean2 = var2.mean()\n",
    "stdev2 = var2.std()\n",
    "\n",
    "var3 = norm1 + norm2\n",
    "mean3 = var3.mean()\n",
    "stdev3 = var3.std()\n",
    "\n",
    "plt.subplot(1, 3, 3)\n",
    "plt.title('Variable 3')\n",
    "plt.hist(var3, color = 'green')\n",
    "\n",
    "plt.axvline(mean3, color='r', linestyle='solid', linewidth=2)\n",
    "plt.axvline(mean3 + stdev3, color='r', linestyle='dashed', linewidth=2)\n",
    "plt.axvline(mean3 - stdev3, color='r', linestyle='dashed', linewidth=2)\n",
    "\n",
    "plt.show()\n",
    "print('Mean1: ' + str(mean1))\n",
    "print('Standard deviation1: ' + str(stdev1))\n",
    "print('Mean2: ' + str(mean2))\n",
    "print('Standard deviation2: ' + str(stdev2))\n",
    "print('Mean: ' + str(mean3))\n",
    "print('Standard deviation: ' + str(stdev3))"
   ]
  },
  {
   "cell_type": "markdown",
   "metadata": {},
   "source": [
    "After looking at the mean and standard deviations of both normal distributions and their sums a few onservations can be made.\n",
    "1. The mean of the sum will always be the sum of the mean of distrinbution 1 and distribution 2.\n",
    "2. The standard deviation on the other hand is between the second distribution (which has the larger standard deviation) and the sum of the two standard deviations."
   ]
  },
  {
   "cell_type": "code",
   "execution_count": null,
   "metadata": {
    "collapsed": true
   },
   "outputs": [],
   "source": []
  }
 ],
 "metadata": {
  "kernelspec": {
   "display_name": "Python 3",
   "language": "python",
   "name": "python3"
  },
  "language_info": {
   "codemirror_mode": {
    "name": "ipython",
    "version": 3
   },
   "file_extension": ".py",
   "mimetype": "text/x-python",
   "name": "python",
   "nbconvert_exporter": "python",
   "pygments_lexer": "ipython3",
   "version": "3.6.3"
  }
 },
 "nbformat": 4,
 "nbformat_minor": 2
}
