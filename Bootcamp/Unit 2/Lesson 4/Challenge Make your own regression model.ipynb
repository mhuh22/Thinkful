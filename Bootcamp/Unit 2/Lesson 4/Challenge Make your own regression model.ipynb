{
 "cells": [
  {
   "cell_type": "code",
   "execution_count": 1,
   "metadata": {},
   "outputs": [],
   "source": [
    "import pandas as pd\n",
    "from matplotlib import pyplot as plt\n",
    "import numpy as np\n",
    "from sklearn import linear_model\n",
    "from sklearn.decomposition import PCA\n",
    "from sklearn.preprocessing import StandardScaler\n",
    "%matplotlib inline\n",
    "pd.options.display.float_format = '{:.3f}'.format\n",
    "\n",
    "# Suppress annoying harmless error.\n",
    "import warnings\n",
    "warnings.filterwarnings(action=\"ignore\", module=\"scipy\", message=\"^internal gelsd\")"
   ]
  },
  {
   "cell_type": "code",
   "execution_count": 52,
   "metadata": {},
   "outputs": [
    {
     "data": {
      "text/html": [
       "<div>\n",
       "<style scoped>\n",
       "    .dataframe tbody tr th:only-of-type {\n",
       "        vertical-align: middle;\n",
       "    }\n",
       "\n",
       "    .dataframe tbody tr th {\n",
       "        vertical-align: top;\n",
       "    }\n",
       "\n",
       "    .dataframe thead th {\n",
       "        text-align: right;\n",
       "    }\n",
       "</style>\n",
       "<table border=\"1\" class=\"dataframe\">\n",
       "  <thead>\n",
       "    <tr style=\"text-align: right;\">\n",
       "      <th></th>\n",
       "      <th>City</th>\n",
       "      <th>Population</th>\n",
       "      <th>Murder</th>\n",
       "      <th>Robbery</th>\n",
       "      <th>Property_crime</th>\n",
       "      <th>Burglary</th>\n",
       "      <th>Pop_squared</th>\n",
       "    </tr>\n",
       "  </thead>\n",
       "  <tbody>\n",
       "    <tr>\n",
       "      <th>0</th>\n",
       "      <td>Adams Village</td>\n",
       "      <td>1861.000</td>\n",
       "      <td>0.000</td>\n",
       "      <td>0.000</td>\n",
       "      <td>12.000</td>\n",
       "      <td>2.000</td>\n",
       "      <td>3463321.000</td>\n",
       "    </tr>\n",
       "    <tr>\n",
       "      <th>1</th>\n",
       "      <td>Addison Town and Village</td>\n",
       "      <td>2577.000</td>\n",
       "      <td>0.000</td>\n",
       "      <td>0.000</td>\n",
       "      <td>24.000</td>\n",
       "      <td>3.000</td>\n",
       "      <td>6640929.000</td>\n",
       "    </tr>\n",
       "    <tr>\n",
       "      <th>2</th>\n",
       "      <td>Akron Village</td>\n",
       "      <td>2846.000</td>\n",
       "      <td>0.000</td>\n",
       "      <td>0.000</td>\n",
       "      <td>16.000</td>\n",
       "      <td>1.000</td>\n",
       "      <td>8099716.000</td>\n",
       "    </tr>\n",
       "    <tr>\n",
       "      <th>3</th>\n",
       "      <td>Albany</td>\n",
       "      <td>97956.000</td>\n",
       "      <td>8.000</td>\n",
       "      <td>227.000</td>\n",
       "      <td>4090.000</td>\n",
       "      <td>705.000</td>\n",
       "      <td>9595377936.000</td>\n",
       "    </tr>\n",
       "    <tr>\n",
       "      <th>4</th>\n",
       "      <td>Albion Village</td>\n",
       "      <td>6388.000</td>\n",
       "      <td>0.000</td>\n",
       "      <td>4.000</td>\n",
       "      <td>223.000</td>\n",
       "      <td>53.000</td>\n",
       "      <td>40806544.000</td>\n",
       "    </tr>\n",
       "  </tbody>\n",
       "</table>\n",
       "</div>"
      ],
      "text/plain": [
       "                       City  Population  Murder  Robbery  Property_crime  \\\n",
       "0             Adams Village    1861.000   0.000    0.000          12.000   \n",
       "1  Addison Town and Village    2577.000   0.000    0.000          24.000   \n",
       "2             Akron Village    2846.000   0.000    0.000          16.000   \n",
       "3                    Albany   97956.000   8.000  227.000        4090.000   \n",
       "4            Albion Village    6388.000   0.000    4.000         223.000   \n",
       "\n",
       "   Burglary    Pop_squared  \n",
       "0     2.000    3463321.000  \n",
       "1     3.000    6640929.000  \n",
       "2     1.000    8099716.000  \n",
       "3   705.000 9595377936.000  \n",
       "4    53.000   40806544.000  "
      ]
     },
     "execution_count": 52,
     "metadata": {},
     "output_type": "execute_result"
    }
   ],
   "source": [
    "# Importing our data\n",
    "data = pd.read_excel('table_8_offenses_known_to_law_enforcement_new_york_by_city_2013.xls', \n",
    "                     encoding='latin1', skiprows=list(range(4)))\n",
    "\n",
    "# Condense and clean our dataset\n",
    "data = data.rename(index = str, columns={'Murder and\\nnonnegligent\\nmanslaughter': 'Murder', 'Property\\ncrime': \"Property_crime\"})\n",
    "propertycrime = data[['City', 'Population', 'Murder', 'Robbery', 'Property_crime', 'Burglary']]\n",
    "propertycrime = propertycrime.dropna()\n",
    "\n",
    "# Drop outlier, New York\n",
    "propertycrime = propertycrime.drop(propertycrime.index[216])\n",
    "\n",
    "# Create the new rows for our regression model\n",
    "propertycrime['Pop_squared'] = propertycrime['Population']**2\n",
    "\n",
    "# Preview the data\n",
    "propertycrime.head()"
   ]
  },
  {
   "cell_type": "code",
   "execution_count": 46,
   "metadata": {},
   "outputs": [
    {
     "data": {
      "text/html": [
       "<div>\n",
       "<style scoped>\n",
       "    .dataframe tbody tr th:only-of-type {\n",
       "        vertical-align: middle;\n",
       "    }\n",
       "\n",
       "    .dataframe tbody tr th {\n",
       "        vertical-align: top;\n",
       "    }\n",
       "\n",
       "    .dataframe thead th {\n",
       "        text-align: right;\n",
       "    }\n",
       "</style>\n",
       "<table border=\"1\" class=\"dataframe\">\n",
       "  <thead>\n",
       "    <tr style=\"text-align: right;\">\n",
       "      <th></th>\n",
       "      <th>Population</th>\n",
       "      <th>Murder</th>\n",
       "      <th>Robbery</th>\n",
       "      <th>Property_crime</th>\n",
       "      <th>Pop_squared</th>\n",
       "    </tr>\n",
       "  </thead>\n",
       "  <tbody>\n",
       "    <tr>\n",
       "      <th>count</th>\n",
       "      <td>347.000</td>\n",
       "      <td>347.000</td>\n",
       "      <td>347.000</td>\n",
       "      <td>347.000</td>\n",
       "      <td>347.000</td>\n",
       "    </tr>\n",
       "    <tr>\n",
       "      <th>mean</th>\n",
       "      <td>15956.686</td>\n",
       "      <td>0.605</td>\n",
       "      <td>17.867</td>\n",
       "      <td>385.752</td>\n",
       "      <td>985840709.758</td>\n",
       "    </tr>\n",
       "    <tr>\n",
       "      <th>std</th>\n",
       "      <td>27080.219</td>\n",
       "      <td>3.707</td>\n",
       "      <td>94.972</td>\n",
       "      <td>1034.369</td>\n",
       "      <td>5067232380.434</td>\n",
       "    </tr>\n",
       "    <tr>\n",
       "      <th>min</th>\n",
       "      <td>526.000</td>\n",
       "      <td>0.000</td>\n",
       "      <td>0.000</td>\n",
       "      <td>0.000</td>\n",
       "      <td>276676.000</td>\n",
       "    </tr>\n",
       "    <tr>\n",
       "      <th>25%</th>\n",
       "      <td>2997.000</td>\n",
       "      <td>0.000</td>\n",
       "      <td>0.000</td>\n",
       "      <td>40.000</td>\n",
       "      <td>8982153.000</td>\n",
       "    </tr>\n",
       "    <tr>\n",
       "      <th>50%</th>\n",
       "      <td>7187.000</td>\n",
       "      <td>0.000</td>\n",
       "      <td>1.000</td>\n",
       "      <td>112.000</td>\n",
       "      <td>51652969.000</td>\n",
       "    </tr>\n",
       "    <tr>\n",
       "      <th>75%</th>\n",
       "      <td>18160.500</td>\n",
       "      <td>0.000</td>\n",
       "      <td>5.000</td>\n",
       "      <td>340.500</td>\n",
       "      <td>329804222.500</td>\n",
       "    </tr>\n",
       "    <tr>\n",
       "      <th>max</th>\n",
       "      <td>258789.000</td>\n",
       "      <td>47.000</td>\n",
       "      <td>1322.000</td>\n",
       "      <td>12491.000</td>\n",
       "      <td>66971746521.000</td>\n",
       "    </tr>\n",
       "  </tbody>\n",
       "</table>\n",
       "</div>"
      ],
      "text/plain": [
       "       Population  Murder  Robbery  Property_crime     Pop_squared\n",
       "count     347.000 347.000  347.000         347.000         347.000\n",
       "mean    15956.686   0.605   17.867         385.752   985840709.758\n",
       "std     27080.219   3.707   94.972        1034.369  5067232380.434\n",
       "min       526.000   0.000    0.000           0.000      276676.000\n",
       "25%      2997.000   0.000    0.000          40.000     8982153.000\n",
       "50%      7187.000   0.000    1.000         112.000    51652969.000\n",
       "75%     18160.500   0.000    5.000         340.500   329804222.500\n",
       "max    258789.000  47.000 1322.000       12491.000 66971746521.000"
      ]
     },
     "execution_count": 46,
     "metadata": {},
     "output_type": "execute_result"
    }
   ],
   "source": [
    "# View the column statistics\n",
    "propertycrime.describe()"
   ]
  },
  {
   "cell_type": "code",
   "execution_count": 54,
   "metadata": {},
   "outputs": [
    {
     "name": "stdout",
     "output_type": "stream",
     "text": [
      "\n",
      "Coefficients: \n",
      " [[ 2.05519766e-02  1.02643381e+02  5.13001388e+00 -7.19468539e-08]]\n",
      "\n",
      "Intercept: \n",
      " [-25.03979961]\n",
      "\n",
      "R-squared:\n",
      "0.939283140822424\n"
     ]
    }
   ],
   "source": [
    "# Construct our linear regression model with our X variables \n",
    "# and predict Y\n",
    "regr = linear_model.LinearRegression()\n",
    "X = propertycrime[['Population', 'Murder', 'Robbery', 'Pop_squared']]\n",
    "Y = propertycrime['Property_crime'].values.reshape(-1, 1)\n",
    "regr.fit(X, Y)\n",
    "\n",
    "# Inspect the results.\n",
    "print('\\nCoefficients: \\n', regr.coef_)\n",
    "print('\\nIntercept: \\n', regr.intercept_)\n",
    "print('\\nR-squared:')\n",
    "print(regr.score(X, Y))"
   ]
  },
  {
   "cell_type": "code",
   "execution_count": 51,
   "metadata": {},
   "outputs": [
    {
     "data": {
      "text/plain": [
       "Index(['City', 'Population', 'Murder', 'Robbery', 'Property_crime',\n",
       "       'Pop_squared'],\n",
       "      dtype='object')"
      ]
     },
     "execution_count": 51,
     "metadata": {},
     "output_type": "execute_result"
    }
   ],
   "source": [
    "propertycrime.columns"
   ]
  },
  {
   "cell_type": "code",
   "execution_count": 53,
   "metadata": {},
   "outputs": [
    {
     "name": "stdout",
     "output_type": "stream",
     "text": [
      "\n",
      "Coefficients: \n",
      " [[ 1.20229958e-02  1.58813353e+00 -1.62410781e+00 -1.64297690e-08\n",
      "   3.62617711e+00]]\n",
      "\n",
      "Intercept: \n",
      " [-23.55210522]\n",
      "\n",
      "R-squared:\n",
      "0.9805504756378403\n"
     ]
    }
   ],
   "source": [
    "X = propertycrime[['Population', 'Murder', 'Robbery', 'Pop_squared','Burglary']]\n",
    "regr.fit(X, Y)\n",
    "\n",
    "# Inspect the results.\n",
    "print('\\nCoefficients: \\n', regr.coef_)\n",
    "print('\\nIntercept: \\n', regr.intercept_)\n",
    "print('\\nR-squared:')\n",
    "print(regr.score(X, Y))"
   ]
  },
  {
   "cell_type": "code",
   "execution_count": 55,
   "metadata": {},
   "outputs": [
    {
     "data": {
      "text/html": [
       "<div>\n",
       "<style scoped>\n",
       "    .dataframe tbody tr th:only-of-type {\n",
       "        vertical-align: middle;\n",
       "    }\n",
       "\n",
       "    .dataframe tbody tr th {\n",
       "        vertical-align: top;\n",
       "    }\n",
       "\n",
       "    .dataframe thead th {\n",
       "        text-align: right;\n",
       "    }\n",
       "</style>\n",
       "<table border=\"1\" class=\"dataframe\">\n",
       "  <thead>\n",
       "    <tr style=\"text-align: right;\">\n",
       "      <th></th>\n",
       "      <th>Population</th>\n",
       "      <th>Murder</th>\n",
       "      <th>Robbery</th>\n",
       "      <th>Pop_squared</th>\n",
       "    </tr>\n",
       "  </thead>\n",
       "  <tbody>\n",
       "    <tr>\n",
       "      <th>Population</th>\n",
       "      <td>1.000</td>\n",
       "      <td>0.756</td>\n",
       "      <td>0.816</td>\n",
       "      <td>0.889</td>\n",
       "    </tr>\n",
       "    <tr>\n",
       "      <th>Murder</th>\n",
       "      <td>0.756</td>\n",
       "      <td>1.000</td>\n",
       "      <td>0.963</td>\n",
       "      <td>0.884</td>\n",
       "    </tr>\n",
       "    <tr>\n",
       "      <th>Robbery</th>\n",
       "      <td>0.816</td>\n",
       "      <td>0.963</td>\n",
       "      <td>1.000</td>\n",
       "      <td>0.940</td>\n",
       "    </tr>\n",
       "    <tr>\n",
       "      <th>Pop_squared</th>\n",
       "      <td>0.889</td>\n",
       "      <td>0.884</td>\n",
       "      <td>0.940</td>\n",
       "      <td>1.000</td>\n",
       "    </tr>\n",
       "  </tbody>\n",
       "</table>\n",
       "</div>"
      ],
      "text/plain": [
       "             Population  Murder  Robbery  Pop_squared\n",
       "Population        1.000   0.756    0.816        0.889\n",
       "Murder            0.756   1.000    0.963        0.884\n",
       "Robbery           0.816   0.963    1.000        0.940\n",
       "Pop_squared       0.889   0.884    0.940        1.000"
      ]
     },
     "metadata": {},
     "output_type": "display_data"
    }
   ],
   "source": [
    "# Review the correlation matrix\n",
    "correlation_matrix = X.corr()\n",
    "display(correlation_matrix)"
   ]
  },
  {
   "cell_type": "markdown",
   "metadata": {},
   "source": [
    "# PCA"
   ]
  },
  {
   "cell_type": "code",
   "execution_count": 6,
   "metadata": {},
   "outputs": [
    {
     "data": {
      "text/html": [
       "<div>\n",
       "<style scoped>\n",
       "    .dataframe tbody tr th:only-of-type {\n",
       "        vertical-align: middle;\n",
       "    }\n",
       "\n",
       "    .dataframe tbody tr th {\n",
       "        vertical-align: top;\n",
       "    }\n",
       "\n",
       "    .dataframe thead th {\n",
       "        text-align: right;\n",
       "    }\n",
       "</style>\n",
       "<table border=\"1\" class=\"dataframe\">\n",
       "  <thead>\n",
       "    <tr style=\"text-align: right;\">\n",
       "      <th></th>\n",
       "      <th>principal component 1</th>\n",
       "    </tr>\n",
       "  </thead>\n",
       "  <tbody>\n",
       "    <tr>\n",
       "      <th>0</th>\n",
       "      <td>-0.526</td>\n",
       "    </tr>\n",
       "    <tr>\n",
       "      <th>1</th>\n",
       "      <td>-0.513</td>\n",
       "    </tr>\n",
       "    <tr>\n",
       "      <th>2</th>\n",
       "      <td>-0.508</td>\n",
       "    </tr>\n",
       "    <tr>\n",
       "      <th>3</th>\n",
       "      <td>4.441</td>\n",
       "    </tr>\n",
       "    <tr>\n",
       "      <th>4</th>\n",
       "      <td>-0.420</td>\n",
       "    </tr>\n",
       "  </tbody>\n",
       "</table>\n",
       "</div>"
      ],
      "text/plain": [
       "   principal component 1\n",
       "0                 -0.526\n",
       "1                 -0.513\n",
       "2                 -0.508\n",
       "3                  4.441\n",
       "4                 -0.420"
      ]
     },
     "execution_count": 6,
     "metadata": {},
     "output_type": "execute_result"
    }
   ],
   "source": [
    "pca = PCA(n_components=1)\n",
    "X = StandardScaler().fit_transform(X)\n",
    "principalComponents = pca.fit_transform(X)\n",
    "principalDf = pd.DataFrame(data = principalComponents\n",
    "             , columns = ['principal component 1'])\n",
    "principalDf.head()"
   ]
  },
  {
   "cell_type": "code",
   "execution_count": 7,
   "metadata": {},
   "outputs": [
    {
     "data": {
      "text/plain": [
       "array([0.90671722])"
      ]
     },
     "execution_count": 7,
     "metadata": {},
     "output_type": "execute_result"
    }
   ],
   "source": [
    "# How much of our variance do we retain after limiting our data to 1 component?\n",
    "pca.explained_variance_ratio_"
   ]
  },
  {
   "cell_type": "code",
   "execution_count": 8,
   "metadata": {},
   "outputs": [
    {
     "name": "stdout",
     "output_type": "stream",
     "text": [
      "\n",
      "Coefficients: \n",
      " [[516.93434211]]\n",
      "\n",
      "Intercept: \n",
      " [385.75216138]\n",
      "\n",
      "R-squared:\n",
      "0.9084581990068199\n"
     ]
    }
   ],
   "source": [
    "# Create a new linear regression model with our 1 variable\n",
    "X = principalDf\n",
    "Y = propertycrime['Property_crime'].values.reshape(-1, 1)\n",
    "regr.fit(X, Y)\n",
    "\n",
    "# Inspect the results.\n",
    "print('\\nCoefficients: \\n', regr.coef_)\n",
    "print('\\nIntercept: \\n', regr.intercept_)\n",
    "print('\\nR-squared:')\n",
    "print(regr.score(X, Y))"
   ]
  },
  {
   "cell_type": "code",
   "execution_count": 24,
   "metadata": {},
   "outputs": [
    {
     "data": {
      "text/plain": [
       "0     [[114.0539789126928]]\n",
       "1    [[120.73433640097852]]\n",
       "2    [[123.25799790403505]]\n",
       "3    [[2681.3815741998123]]\n",
       "4    [[168.38930500239923]]\n",
       "Name: principal component 1, dtype: object"
      ]
     },
     "execution_count": 24,
     "metadata": {},
     "output_type": "execute_result"
    }
   ],
   "source": [
    "data = principalDf['principal component 1'].apply(lambda x: x*regr.coef_+regr.intercept_)\n",
    "target = propertycrime['Property_crime']\n",
    "data.head()"
   ]
  },
  {
   "cell_type": "code",
   "execution_count": 25,
   "metadata": {},
   "outputs": [
    {
     "data": {
      "text/plain": [
       "0     12.000\n",
       "1     24.000\n",
       "2     16.000\n",
       "3   4090.000\n",
       "4    223.000\n",
       "Name: Property_crime, dtype: float64"
      ]
     },
     "execution_count": 25,
     "metadata": {},
     "output_type": "execute_result"
    }
   ],
   "source": [
    "target.head()"
   ]
  },
  {
   "cell_type": "code",
   "execution_count": 20,
   "metadata": {},
   "outputs": [
    {
     "ename": "ValueError",
     "evalue": "Expected 2D array, got 1D array instead:\narray=[ 369.21753535  916.5592435   249.12852175  113.98893294 2061.57318113\n  128.98047322  276.16262008  112.44791651  122.0280571   259.38073181\n  248.3848657   131.15886341  699.77580291  111.83602433  160.25597475\n  228.04841019  137.72128201  115.8400961   204.98028175  188.52754389\n  345.39203664  159.13955896  154.18726401  361.98500623  312.2028729\n  177.66209342  547.26318797 1219.53092364  170.03852821  439.63644351\n  110.12330137  121.54033417  153.82089084  111.89163206  120.75307175\n  137.58794604  284.26709309  175.24639931  451.5187258   156.00992734\n  256.23853881  205.72359099  132.85804949  298.9833584   187.18556615\n  120.98729887  237.11169104  126.67717257  200.80041263  156.16635707\n  123.94544027  221.26897068  484.98849799  162.83675291  377.54551438\n  790.92059416  152.74169842  260.58721057  169.93902958  143.89305833\n  223.12138654  136.88351088  118.37703171  121.04509477  109.31909673\n  154.54007593  226.63183665  127.25118645  120.61557767  188.2650713\n  159.21597216  263.5069842   252.7975658   189.23455242  113.06026449\n  176.95373633  119.73855734  102.95063739  112.88513867  480.89383664\n  104.91472254 1166.84763003  131.90228163  105.88016157  119.19011207\n  192.48754193  366.74977388  135.11543367  138.03772089  163.96657176\n  168.389305    185.46795528  112.47574062  153.66542958  112.86537706\n  109.64253211  214.44791347 1633.22445217  125.30875008  121.27783133\n  723.6220264   119.41006461  189.5588261   130.64494876  126.67553623\n  145.69168529  307.35753435  108.51568407  114.06327161  122.7695622\n  257.82736701  114.65822212  591.43769165  534.19418827  120.7343364\n  722.7665901   111.65069244  129.02166889  122.18756634  125.11098412\n  113.31090185  129.24537263  163.67239228 1215.35798693  120.48145021\n  178.69079691  736.07329519  358.19355053  118.90030296  170.62834658\n  598.6351664   114.85353364  272.17142125  181.06830201  478.22516361\n  417.32286105 9820.00244261  114.9744639   193.48933377  117.12625038\n  472.60831425  144.05666061  385.12259235  147.55823528  147.72212374\n  313.24141404  107.69462167  196.66156009  123.2579979   120.21927843\n  497.24895819  152.73197995  170.65087866 1452.33411699  326.75785421\n  515.00998247 1121.52873882 5491.74506411  679.37267381  202.43155252\n  140.94883043  131.63315894  104.51968522 2050.01989838  234.36679881\n  119.92911251 1192.8131304   120.43823305  130.68482946  115.84940889\n  473.56943455 1365.42734007  944.11930906  119.63904715  157.85356262\n  295.91572117  111.1968062   186.86989909  261.7177092   123.22041588\n  145.66542004  203.87189801  508.22018396  184.47722188  124.19933477\n  124.79088944  203.56439866  242.38385829  340.42590213  216.35794679\n  138.22871635  213.66073358  105.90776249  704.49894381  106.98493303\n  117.3874524   143.56594449  101.74153507  800.51109255  216.80175999\n  113.41303524  220.42913657  385.05487751 1156.48894768  180.38746213\n  206.98094479  107.04942455  164.29223632  302.9532804   300.76048525\n  118.6479705   219.5828011   212.03778303  168.74601372  265.39836043\n  296.10596899  237.77988394  129.01831097  478.27859924  140.34453944\n  103.90454754 2681.3815742   309.56880674  127.76110335  119.54549913\n  202.55148968  102.93230405  297.59108133  113.53375466  419.54695047\n  203.2442036   316.91108496  106.06418551  481.00183018  164.17413877\n  140.18214497  177.86411009  251.26055811  392.32958846  461.94337266\n  941.79456079  217.96194299  112.85609786  447.19987324  142.48442625\n  116.47189786  108.61722124  115.37660002  133.55000806  144.14328582\n  307.50377096  109.87363586  261.85040392  191.31236331  388.49414254\n  117.33616771  218.08148938  107.21528341  285.56361993  313.40728164\n  159.04169263  183.54305608  394.00872867  306.21358505  347.34367716\n  130.77013627  420.66677192  110.04007106  236.73432693  118.68534827\n  590.30939116  176.97582955  167.70386288  132.71553089  119.99462506\n  199.48057737  250.6483158 ].\nReshape your data either using array.reshape(-1, 1) if your data has a single feature or array.reshape(1, -1) if it contains a single sample.",
     "output_type": "error",
     "traceback": [
      "\u001b[1;31m---------------------------------------------------------------------------\u001b[0m",
      "\u001b[1;31mValueError\u001b[0m                                Traceback (most recent call last)",
      "\u001b[1;32m<ipython-input-20-1066b5ceb374>\u001b[0m in \u001b[0;36m<module>\u001b[1;34m()\u001b[0m\n\u001b[0;32m      2\u001b[0m \u001b[1;33m\u001b[0m\u001b[0m\n\u001b[0;32m      3\u001b[0m \u001b[0mX_train\u001b[0m\u001b[1;33m,\u001b[0m \u001b[0mX_test\u001b[0m\u001b[1;33m,\u001b[0m \u001b[0my_train\u001b[0m\u001b[1;33m,\u001b[0m \u001b[0my_test\u001b[0m \u001b[1;33m=\u001b[0m \u001b[0mtrain_test_split\u001b[0m\u001b[1;33m(\u001b[0m\u001b[0mdata\u001b[0m\u001b[1;33m,\u001b[0m \u001b[0mtarget\u001b[0m\u001b[1;33m,\u001b[0m \u001b[0mtest_size\u001b[0m\u001b[1;33m=\u001b[0m\u001b[1;36m0.20\u001b[0m\u001b[1;33m)\u001b[0m\u001b[1;33m\u001b[0m\u001b[0m\n\u001b[1;32m----> 4\u001b[1;33m \u001b[0mprint\u001b[0m\u001b[1;33m(\u001b[0m\u001b[1;34m'With 20% Holdout: '\u001b[0m \u001b[1;33m+\u001b[0m \u001b[0mstr\u001b[0m\u001b[1;33m(\u001b[0m\u001b[0mbnb\u001b[0m\u001b[1;33m.\u001b[0m\u001b[0mfit\u001b[0m\u001b[1;33m(\u001b[0m\u001b[0mX_train\u001b[0m\u001b[1;33m,\u001b[0m \u001b[0my_train\u001b[0m\u001b[1;33m)\u001b[0m\u001b[1;33m.\u001b[0m\u001b[0mscore\u001b[0m\u001b[1;33m(\u001b[0m\u001b[0mX_test\u001b[0m\u001b[1;33m,\u001b[0m \u001b[0my_test\u001b[0m\u001b[1;33m)\u001b[0m\u001b[1;33m)\u001b[0m\u001b[1;33m)\u001b[0m\u001b[1;33m\u001b[0m\u001b[0m\n\u001b[0m\u001b[0;32m      5\u001b[0m \u001b[0mprint\u001b[0m\u001b[1;33m(\u001b[0m\u001b[1;34m'Testing on Sample: '\u001b[0m \u001b[1;33m+\u001b[0m \u001b[0mstr\u001b[0m\u001b[1;33m(\u001b[0m\u001b[0mbnb\u001b[0m\u001b[1;33m.\u001b[0m\u001b[0mfit\u001b[0m\u001b[1;33m(\u001b[0m\u001b[0mdata\u001b[0m\u001b[1;33m,\u001b[0m \u001b[0mtarget\u001b[0m\u001b[1;33m)\u001b[0m\u001b[1;33m.\u001b[0m\u001b[0mscore\u001b[0m\u001b[1;33m(\u001b[0m\u001b[0mdata\u001b[0m\u001b[1;33m,\u001b[0m \u001b[0mtarget\u001b[0m\u001b[1;33m)\u001b[0m\u001b[1;33m)\u001b[0m\u001b[1;33m)\u001b[0m\u001b[1;33m\u001b[0m\u001b[0m\n",
      "\u001b[1;32m~\\Anaconda3\\lib\\site-packages\\sklearn\\naive_bayes.py\u001b[0m in \u001b[0;36mfit\u001b[1;34m(self, X, y, sample_weight)\u001b[0m\n\u001b[0;32m    577\u001b[0m             \u001b[0mReturns\u001b[0m \u001b[0mself\u001b[0m\u001b[1;33m.\u001b[0m\u001b[1;33m\u001b[0m\u001b[0m\n\u001b[0;32m    578\u001b[0m         \"\"\"\n\u001b[1;32m--> 579\u001b[1;33m         \u001b[0mX\u001b[0m\u001b[1;33m,\u001b[0m \u001b[0my\u001b[0m \u001b[1;33m=\u001b[0m \u001b[0mcheck_X_y\u001b[0m\u001b[1;33m(\u001b[0m\u001b[0mX\u001b[0m\u001b[1;33m,\u001b[0m \u001b[0my\u001b[0m\u001b[1;33m,\u001b[0m \u001b[1;34m'csr'\u001b[0m\u001b[1;33m)\u001b[0m\u001b[1;33m\u001b[0m\u001b[0m\n\u001b[0m\u001b[0;32m    580\u001b[0m         \u001b[0m_\u001b[0m\u001b[1;33m,\u001b[0m \u001b[0mn_features\u001b[0m \u001b[1;33m=\u001b[0m \u001b[0mX\u001b[0m\u001b[1;33m.\u001b[0m\u001b[0mshape\u001b[0m\u001b[1;33m\u001b[0m\u001b[0m\n\u001b[0;32m    581\u001b[0m \u001b[1;33m\u001b[0m\u001b[0m\n",
      "\u001b[1;32m~\\Anaconda3\\lib\\site-packages\\sklearn\\utils\\validation.py\u001b[0m in \u001b[0;36mcheck_X_y\u001b[1;34m(X, y, accept_sparse, dtype, order, copy, force_all_finite, ensure_2d, allow_nd, multi_output, ensure_min_samples, ensure_min_features, y_numeric, warn_on_dtype, estimator)\u001b[0m\n\u001b[0;32m    571\u001b[0m     X = check_array(X, accept_sparse, dtype, order, copy, force_all_finite,\n\u001b[0;32m    572\u001b[0m                     \u001b[0mensure_2d\u001b[0m\u001b[1;33m,\u001b[0m \u001b[0mallow_nd\u001b[0m\u001b[1;33m,\u001b[0m \u001b[0mensure_min_samples\u001b[0m\u001b[1;33m,\u001b[0m\u001b[1;33m\u001b[0m\u001b[0m\n\u001b[1;32m--> 573\u001b[1;33m                     ensure_min_features, warn_on_dtype, estimator)\n\u001b[0m\u001b[0;32m    574\u001b[0m     \u001b[1;32mif\u001b[0m \u001b[0mmulti_output\u001b[0m\u001b[1;33m:\u001b[0m\u001b[1;33m\u001b[0m\u001b[0m\n\u001b[0;32m    575\u001b[0m         y = check_array(y, 'csr', force_all_finite=True, ensure_2d=False,\n",
      "\u001b[1;32m~\\Anaconda3\\lib\\site-packages\\sklearn\\utils\\validation.py\u001b[0m in \u001b[0;36mcheck_array\u001b[1;34m(array, accept_sparse, dtype, order, copy, force_all_finite, ensure_2d, allow_nd, ensure_min_samples, ensure_min_features, warn_on_dtype, estimator)\u001b[0m\n\u001b[0;32m    439\u001b[0m                     \u001b[1;34m\"Reshape your data either using array.reshape(-1, 1) if \"\u001b[0m\u001b[1;33m\u001b[0m\u001b[0m\n\u001b[0;32m    440\u001b[0m                     \u001b[1;34m\"your data has a single feature or array.reshape(1, -1) \"\u001b[0m\u001b[1;33m\u001b[0m\u001b[0m\n\u001b[1;32m--> 441\u001b[1;33m                     \"if it contains a single sample.\".format(array))\n\u001b[0m\u001b[0;32m    442\u001b[0m             \u001b[0marray\u001b[0m \u001b[1;33m=\u001b[0m \u001b[0mnp\u001b[0m\u001b[1;33m.\u001b[0m\u001b[0matleast_2d\u001b[0m\u001b[1;33m(\u001b[0m\u001b[0marray\u001b[0m\u001b[1;33m)\u001b[0m\u001b[1;33m\u001b[0m\u001b[0m\n\u001b[0;32m    443\u001b[0m             \u001b[1;31m# To ensure that array flags are maintained\u001b[0m\u001b[1;33m\u001b[0m\u001b[1;33m\u001b[0m\u001b[0m\n",
      "\u001b[1;31mValueError\u001b[0m: Expected 2D array, got 1D array instead:\narray=[ 369.21753535  916.5592435   249.12852175  113.98893294 2061.57318113\n  128.98047322  276.16262008  112.44791651  122.0280571   259.38073181\n  248.3848657   131.15886341  699.77580291  111.83602433  160.25597475\n  228.04841019  137.72128201  115.8400961   204.98028175  188.52754389\n  345.39203664  159.13955896  154.18726401  361.98500623  312.2028729\n  177.66209342  547.26318797 1219.53092364  170.03852821  439.63644351\n  110.12330137  121.54033417  153.82089084  111.89163206  120.75307175\n  137.58794604  284.26709309  175.24639931  451.5187258   156.00992734\n  256.23853881  205.72359099  132.85804949  298.9833584   187.18556615\n  120.98729887  237.11169104  126.67717257  200.80041263  156.16635707\n  123.94544027  221.26897068  484.98849799  162.83675291  377.54551438\n  790.92059416  152.74169842  260.58721057  169.93902958  143.89305833\n  223.12138654  136.88351088  118.37703171  121.04509477  109.31909673\n  154.54007593  226.63183665  127.25118645  120.61557767  188.2650713\n  159.21597216  263.5069842   252.7975658   189.23455242  113.06026449\n  176.95373633  119.73855734  102.95063739  112.88513867  480.89383664\n  104.91472254 1166.84763003  131.90228163  105.88016157  119.19011207\n  192.48754193  366.74977388  135.11543367  138.03772089  163.96657176\n  168.389305    185.46795528  112.47574062  153.66542958  112.86537706\n  109.64253211  214.44791347 1633.22445217  125.30875008  121.27783133\n  723.6220264   119.41006461  189.5588261   130.64494876  126.67553623\n  145.69168529  307.35753435  108.51568407  114.06327161  122.7695622\n  257.82736701  114.65822212  591.43769165  534.19418827  120.7343364\n  722.7665901   111.65069244  129.02166889  122.18756634  125.11098412\n  113.31090185  129.24537263  163.67239228 1215.35798693  120.48145021\n  178.69079691  736.07329519  358.19355053  118.90030296  170.62834658\n  598.6351664   114.85353364  272.17142125  181.06830201  478.22516361\n  417.32286105 9820.00244261  114.9744639   193.48933377  117.12625038\n  472.60831425  144.05666061  385.12259235  147.55823528  147.72212374\n  313.24141404  107.69462167  196.66156009  123.2579979   120.21927843\n  497.24895819  152.73197995  170.65087866 1452.33411699  326.75785421\n  515.00998247 1121.52873882 5491.74506411  679.37267381  202.43155252\n  140.94883043  131.63315894  104.51968522 2050.01989838  234.36679881\n  119.92911251 1192.8131304   120.43823305  130.68482946  115.84940889\n  473.56943455 1365.42734007  944.11930906  119.63904715  157.85356262\n  295.91572117  111.1968062   186.86989909  261.7177092   123.22041588\n  145.66542004  203.87189801  508.22018396  184.47722188  124.19933477\n  124.79088944  203.56439866  242.38385829  340.42590213  216.35794679\n  138.22871635  213.66073358  105.90776249  704.49894381  106.98493303\n  117.3874524   143.56594449  101.74153507  800.51109255  216.80175999\n  113.41303524  220.42913657  385.05487751 1156.48894768  180.38746213\n  206.98094479  107.04942455  164.29223632  302.9532804   300.76048525\n  118.6479705   219.5828011   212.03778303  168.74601372  265.39836043\n  296.10596899  237.77988394  129.01831097  478.27859924  140.34453944\n  103.90454754 2681.3815742   309.56880674  127.76110335  119.54549913\n  202.55148968  102.93230405  297.59108133  113.53375466  419.54695047\n  203.2442036   316.91108496  106.06418551  481.00183018  164.17413877\n  140.18214497  177.86411009  251.26055811  392.32958846  461.94337266\n  941.79456079  217.96194299  112.85609786  447.19987324  142.48442625\n  116.47189786  108.61722124  115.37660002  133.55000806  144.14328582\n  307.50377096  109.87363586  261.85040392  191.31236331  388.49414254\n  117.33616771  218.08148938  107.21528341  285.56361993  313.40728164\n  159.04169263  183.54305608  394.00872867  306.21358505  347.34367716\n  130.77013627  420.66677192  110.04007106  236.73432693  118.68534827\n  590.30939116  176.97582955  167.70386288  132.71553089  119.99462506\n  199.48057737  250.6483158 ].\nReshape your data either using array.reshape(-1, 1) if your data has a single feature or array.reshape(1, -1) if it contains a single sample."
     ]
    }
   ],
   "source": [
    "from sklearn.model_selection import train_test_split\n",
    "\n",
    "X_train, X_test, y_train, y_test = train_test_split(data, target, test_size=0.20)\n",
    "print('With 20% Holdout: ' + str(bnb.fit(X_train, y_train).score(X_test, y_test)))\n",
    "print('Testing on Sample: ' + str(bnb.fit(data, target).score(data, target)))"
   ]
  },
  {
   "cell_type": "markdown",
   "metadata": {},
   "source": [
    "# Writeup\n",
    "\n",
    "The original features used to predict property crime were population, population squared, murder, and robbery rates. With the first regression model, our model turns out to have a r-squared value of 0.939, a very good score for our model, and an indication that we have picked the correct variables to predict with. Reducing the complexity of the murder and robbery column as we did with the previous exercise (changing values greater than 0 to 1) will decrease our r-squared value, so we're better off leaving the data as it is. Removing features will also reduce the accuracy of our model, while adding more variables (such as burglary) will increase it. This makes sense since adding more variables into the equation should provide more insight into the variables that cause these actions."
   ]
  },
  {
   "cell_type": "code",
   "execution_count": null,
   "metadata": {},
   "outputs": [],
   "source": []
  }
 ],
 "metadata": {
  "kernelspec": {
   "display_name": "Python 3",
   "language": "python",
   "name": "python3"
  },
  "language_info": {
   "codemirror_mode": {
    "name": "ipython",
    "version": 3
   },
   "file_extension": ".py",
   "mimetype": "text/x-python",
   "name": "python",
   "nbconvert_exporter": "python",
   "pygments_lexer": "ipython3",
   "version": "3.6.4"
  }
 },
 "nbformat": 4,
 "nbformat_minor": 2
}
