{
 "cells": [
  {
   "cell_type": "code",
   "execution_count": 1,
   "metadata": {},
   "outputs": [],
   "source": [
    "import pandas as pd\n",
    "from matplotlib import pyplot as plt\n",
    "import numpy as np\n",
    "from sklearn import linear_model\n",
    "from sklearn.decomposition import PCA\n",
    "from sklearn.preprocessing import StandardScaler\n",
    "%matplotlib inline\n",
    "pd.options.display.float_format = '{:.3f}'.format\n",
    "\n",
    "# Suppress annoying harmless error.\n",
    "import warnings\n",
    "warnings.filterwarnings(action=\"ignore\", module=\"scipy\", message=\"^internal gelsd\")"
   ]
  },
  {
   "cell_type": "code",
   "execution_count": 2,
   "metadata": {},
   "outputs": [
    {
     "data": {
      "text/html": [
       "<div>\n",
       "<style scoped>\n",
       "    .dataframe tbody tr th:only-of-type {\n",
       "        vertical-align: middle;\n",
       "    }\n",
       "\n",
       "    .dataframe tbody tr th {\n",
       "        vertical-align: top;\n",
       "    }\n",
       "\n",
       "    .dataframe thead th {\n",
       "        text-align: right;\n",
       "    }\n",
       "</style>\n",
       "<table border=\"1\" class=\"dataframe\">\n",
       "  <thead>\n",
       "    <tr style=\"text-align: right;\">\n",
       "      <th></th>\n",
       "      <th>Population</th>\n",
       "      <th>Murder</th>\n",
       "      <th>Robbery</th>\n",
       "      <th>Property_crime</th>\n",
       "      <th>Burglary</th>\n",
       "      <th>Pop_squared</th>\n",
       "    </tr>\n",
       "  </thead>\n",
       "  <tbody>\n",
       "    <tr>\n",
       "      <th>3</th>\n",
       "      <td>97956.000</td>\n",
       "      <td>8.000</td>\n",
       "      <td>227.000</td>\n",
       "      <td>4090.000</td>\n",
       "      <td>705.000</td>\n",
       "      <td>9595377936.000</td>\n",
       "    </tr>\n",
       "    <tr>\n",
       "      <th>126</th>\n",
       "      <td>96667.000</td>\n",
       "      <td>0.000</td>\n",
       "      <td>60.000</td>\n",
       "      <td>2303.000</td>\n",
       "      <td>332.000</td>\n",
       "      <td>9344508889.000</td>\n",
       "    </tr>\n",
       "    <tr>\n",
       "      <th>267</th>\n",
       "      <td>87204.000</td>\n",
       "      <td>2.000</td>\n",
       "      <td>9.000</td>\n",
       "      <td>567.000</td>\n",
       "      <td>88.000</td>\n",
       "      <td>7604537616.000</td>\n",
       "    </tr>\n",
       "    <tr>\n",
       "      <th>57</th>\n",
       "      <td>80705.000</td>\n",
       "      <td>0.000</td>\n",
       "      <td>17.000</td>\n",
       "      <td>1515.000</td>\n",
       "      <td>99.000</td>\n",
       "      <td>6513297025.000</td>\n",
       "    </tr>\n",
       "    <tr>\n",
       "      <th>214</th>\n",
       "      <td>78800.000</td>\n",
       "      <td>0.000</td>\n",
       "      <td>81.000</td>\n",
       "      <td>1391.000</td>\n",
       "      <td>150.000</td>\n",
       "      <td>6209440000.000</td>\n",
       "    </tr>\n",
       "  </tbody>\n",
       "</table>\n",
       "</div>"
      ],
      "text/plain": [
       "     Population  Murder  Robbery  Property_crime  Burglary    Pop_squared\n",
       "3     97956.000   8.000  227.000        4090.000   705.000 9595377936.000\n",
       "126   96667.000   0.000   60.000        2303.000   332.000 9344508889.000\n",
       "267   87204.000   2.000    9.000         567.000    88.000 7604537616.000\n",
       "57    80705.000   0.000   17.000        1515.000    99.000 6513297025.000\n",
       "214   78800.000   0.000   81.000        1391.000   150.000 6209440000.000"
      ]
     },
     "execution_count": 2,
     "metadata": {},
     "output_type": "execute_result"
    }
   ],
   "source": [
    "# Importing our data\n",
    "data = pd.read_excel('table_8_offenses_known_to_law_enforcement_new_york_by_city_2013.xls', \n",
    "                     encoding='latin1', skiprows=list(range(4)))\n",
    "\n",
    "# Condense and clean our dataset\n",
    "data = data.rename(index = str, columns={'Murder and\\nnonnegligent\\nmanslaughter': 'Murder', 'Property\\ncrime': \"Property_crime\"})\n",
    "data = data[['Population', 'Murder', 'Robbery', 'Property_crime', 'Burglary']]\n",
    "data = data.dropna()\n",
    "\n",
    "# Drop all coumns with population greater than 100000\n",
    "data = data.sort_values(by ='Population', ascending = False)\n",
    "data = data[data.Population < 100000]\n",
    "\n",
    "# Create the new rows for our regression model\n",
    "data['Pop_squared'] = data['Population']**2\n",
    "\n",
    "# Preview the data\n",
    "data.head()"
   ]
  },
  {
   "cell_type": "code",
   "execution_count": 3,
   "metadata": {},
   "outputs": [
    {
     "data": {
      "text/html": [
       "<div>\n",
       "<style scoped>\n",
       "    .dataframe tbody tr th:only-of-type {\n",
       "        vertical-align: middle;\n",
       "    }\n",
       "\n",
       "    .dataframe tbody tr th {\n",
       "        vertical-align: top;\n",
       "    }\n",
       "\n",
       "    .dataframe thead th {\n",
       "        text-align: right;\n",
       "    }\n",
       "</style>\n",
       "<table border=\"1\" class=\"dataframe\">\n",
       "  <thead>\n",
       "    <tr style=\"text-align: right;\">\n",
       "      <th></th>\n",
       "      <th>Population</th>\n",
       "      <th>Murder</th>\n",
       "      <th>Robbery</th>\n",
       "      <th>Property_crime</th>\n",
       "      <th>Burglary</th>\n",
       "      <th>Pop_squared</th>\n",
       "    </tr>\n",
       "  </thead>\n",
       "  <tbody>\n",
       "    <tr>\n",
       "      <th>count</th>\n",
       "      <td>342.000</td>\n",
       "      <td>342.000</td>\n",
       "      <td>342.000</td>\n",
       "      <td>342.000</td>\n",
       "      <td>342.000</td>\n",
       "      <td>342.000</td>\n",
       "    </tr>\n",
       "    <tr>\n",
       "      <th>mean</th>\n",
       "      <td>13468.874</td>\n",
       "      <td>0.272</td>\n",
       "      <td>9.178</td>\n",
       "      <td>293.436</td>\n",
       "      <td>48.374</td>\n",
       "      <td>457433072.494</td>\n",
       "    </tr>\n",
       "    <tr>\n",
       "      <th>std</th>\n",
       "      <td>16638.268</td>\n",
       "      <td>1.091</td>\n",
       "      <td>29.628</td>\n",
       "      <td>494.364</td>\n",
       "      <td>97.015</td>\n",
       "      <td>1214093208.009</td>\n",
       "    </tr>\n",
       "    <tr>\n",
       "      <th>min</th>\n",
       "      <td>526.000</td>\n",
       "      <td>0.000</td>\n",
       "      <td>0.000</td>\n",
       "      <td>0.000</td>\n",
       "      <td>0.000</td>\n",
       "      <td>276676.000</td>\n",
       "    </tr>\n",
       "    <tr>\n",
       "      <th>25%</th>\n",
       "      <td>2979.750</td>\n",
       "      <td>0.000</td>\n",
       "      <td>0.000</td>\n",
       "      <td>39.000</td>\n",
       "      <td>6.000</td>\n",
       "      <td>8878919.250</td>\n",
       "    </tr>\n",
       "    <tr>\n",
       "      <th>50%</th>\n",
       "      <td>7074.500</td>\n",
       "      <td>0.000</td>\n",
       "      <td>1.000</td>\n",
       "      <td>111.000</td>\n",
       "      <td>17.000</td>\n",
       "      <td>50049200.500</td>\n",
       "    </tr>\n",
       "    <tr>\n",
       "      <th>75%</th>\n",
       "      <td>17611.250</td>\n",
       "      <td>0.000</td>\n",
       "      <td>4.000</td>\n",
       "      <td>331.750</td>\n",
       "      <td>49.000</td>\n",
       "      <td>310156870.750</td>\n",
       "    </tr>\n",
       "    <tr>\n",
       "      <th>max</th>\n",
       "      <td>97956.000</td>\n",
       "      <td>10.000</td>\n",
       "      <td>228.000</td>\n",
       "      <td>4090.000</td>\n",
       "      <td>769.000</td>\n",
       "      <td>9595377936.000</td>\n",
       "    </tr>\n",
       "  </tbody>\n",
       "</table>\n",
       "</div>"
      ],
      "text/plain": [
       "       Population  Murder  Robbery  Property_crime  Burglary    Pop_squared\n",
       "count     342.000 342.000  342.000         342.000   342.000        342.000\n",
       "mean    13468.874   0.272    9.178         293.436    48.374  457433072.494\n",
       "std     16638.268   1.091   29.628         494.364    97.015 1214093208.009\n",
       "min       526.000   0.000    0.000           0.000     0.000     276676.000\n",
       "25%      2979.750   0.000    0.000          39.000     6.000    8878919.250\n",
       "50%      7074.500   0.000    1.000         111.000    17.000   50049200.500\n",
       "75%     17611.250   0.000    4.000         331.750    49.000  310156870.750\n",
       "max     97956.000  10.000  228.000        4090.000   769.000 9595377936.000"
      ]
     },
     "execution_count": 3,
     "metadata": {},
     "output_type": "execute_result"
    }
   ],
   "source": [
    "# View the column statistics\n",
    "data.describe()"
   ]
  },
  {
   "cell_type": "code",
   "execution_count": 4,
   "metadata": {},
   "outputs": [
    {
     "name": "stdout",
     "output_type": "stream",
     "text": [
      "\n",
      "Coefficients: \n",
      " [[ 1.49988559e-02 -9.55898302e+00  6.62223072e+00  4.39067785e-08]]\n",
      "\n",
      "Intercept: \n",
      " [13.15169356]\n",
      "\n",
      "R-squared:\n",
      "0.8107096642767955\n"
     ]
    }
   ],
   "source": [
    "# Construct our linear regression model with our X variables \n",
    "# and predict Y\n",
    "regr = linear_model.LinearRegression()\n",
    "X = data[['Population', 'Murder', 'Robbery', 'Pop_squared']]\n",
    "Y = data['Property_crime'].values.reshape(-1, 1)\n",
    "regr.fit(X, Y)\n",
    "\n",
    "# Inspect the results.\n",
    "print('\\nCoefficients: \\n', regr.coef_)\n",
    "print('\\nIntercept: \\n', regr.intercept_)\n",
    "print('\\nR-squared:')\n",
    "print(regr.score(X, Y))"
   ]
  },
  {
   "cell_type": "code",
   "execution_count": 5,
   "metadata": {},
   "outputs": [
    {
     "name": "stdout",
     "output_type": "stream",
     "text": [
      "\n",
      "Coefficients: \n",
      " [[ 6.37036446e-03  3.65578340e+00 -2.36893618e+00  7.61558391e-08\n",
      "   3.87285005e+00]]\n",
      "\n",
      "Intercept: \n",
      " [6.20038379]\n",
      "\n",
      "R-squared:\n",
      "0.9329543944064593\n"
     ]
    }
   ],
   "source": [
    "# Assigning our dependent variables to X, and fitting it to Y\n",
    "X = data[['Population', 'Murder', 'Robbery', 'Pop_squared','Burglary']]\n",
    "regr.fit(X, Y)\n",
    "\n",
    "# Inspect the results.\n",
    "print('\\nCoefficients: \\n', regr.coef_)\n",
    "print('\\nIntercept: \\n', regr.intercept_)\n",
    "print('\\nR-squared:')\n",
    "print(regr.score(X, Y))"
   ]
  },
  {
   "cell_type": "code",
   "execution_count": 6,
   "metadata": {},
   "outputs": [
    {
     "data": {
      "text/html": [
       "<div>\n",
       "<style scoped>\n",
       "    .dataframe tbody tr th:only-of-type {\n",
       "        vertical-align: middle;\n",
       "    }\n",
       "\n",
       "    .dataframe tbody tr th {\n",
       "        vertical-align: top;\n",
       "    }\n",
       "\n",
       "    .dataframe thead th {\n",
       "        text-align: right;\n",
       "    }\n",
       "</style>\n",
       "<table border=\"1\" class=\"dataframe\">\n",
       "  <thead>\n",
       "    <tr style=\"text-align: right;\">\n",
       "      <th></th>\n",
       "      <th>Population</th>\n",
       "      <th>Murder</th>\n",
       "      <th>Robbery</th>\n",
       "      <th>Pop_squared</th>\n",
       "      <th>Burglary</th>\n",
       "    </tr>\n",
       "  </thead>\n",
       "  <tbody>\n",
       "    <tr>\n",
       "      <th>Population</th>\n",
       "      <td>1.000</td>\n",
       "      <td>0.490</td>\n",
       "      <td>0.643</td>\n",
       "      <td>0.921</td>\n",
       "      <td>0.723</td>\n",
       "    </tr>\n",
       "    <tr>\n",
       "      <th>Murder</th>\n",
       "      <td>0.490</td>\n",
       "      <td>1.000</td>\n",
       "      <td>0.797</td>\n",
       "      <td>0.469</td>\n",
       "      <td>0.665</td>\n",
       "    </tr>\n",
       "    <tr>\n",
       "      <th>Robbery</th>\n",
       "      <td>0.643</td>\n",
       "      <td>0.797</td>\n",
       "      <td>1.000</td>\n",
       "      <td>0.634</td>\n",
       "      <td>0.858</td>\n",
       "    </tr>\n",
       "    <tr>\n",
       "      <th>Pop_squared</th>\n",
       "      <td>0.921</td>\n",
       "      <td>0.469</td>\n",
       "      <td>0.634</td>\n",
       "      <td>1.000</td>\n",
       "      <td>0.679</td>\n",
       "    </tr>\n",
       "    <tr>\n",
       "      <th>Burglary</th>\n",
       "      <td>0.723</td>\n",
       "      <td>0.665</td>\n",
       "      <td>0.858</td>\n",
       "      <td>0.679</td>\n",
       "      <td>1.000</td>\n",
       "    </tr>\n",
       "  </tbody>\n",
       "</table>\n",
       "</div>"
      ],
      "text/plain": [
       "             Population  Murder  Robbery  Pop_squared  Burglary\n",
       "Population        1.000   0.490    0.643        0.921     0.723\n",
       "Murder            0.490   1.000    0.797        0.469     0.665\n",
       "Robbery           0.643   0.797    1.000        0.634     0.858\n",
       "Pop_squared       0.921   0.469    0.634        1.000     0.679\n",
       "Burglary          0.723   0.665    0.858        0.679     1.000"
      ]
     },
     "metadata": {},
     "output_type": "display_data"
    }
   ],
   "source": [
    "# Review the correlation matrix\n",
    "correlation_matrix = X.corr()\n",
    "display(correlation_matrix)"
   ]
  },
  {
   "cell_type": "markdown",
   "metadata": {},
   "source": [
    "# PCA"
   ]
  },
  {
   "cell_type": "code",
   "execution_count": 7,
   "metadata": {},
   "outputs": [
    {
     "data": {
      "text/html": [
       "<div>\n",
       "<style scoped>\n",
       "    .dataframe tbody tr th:only-of-type {\n",
       "        vertical-align: middle;\n",
       "    }\n",
       "\n",
       "    .dataframe tbody tr th {\n",
       "        vertical-align: top;\n",
       "    }\n",
       "\n",
       "    .dataframe thead th {\n",
       "        text-align: right;\n",
       "    }\n",
       "</style>\n",
       "<table border=\"1\" class=\"dataframe\">\n",
       "  <thead>\n",
       "    <tr style=\"text-align: right;\">\n",
       "      <th></th>\n",
       "      <th>principal component 1</th>\n",
       "      <th>principal component 2</th>\n",
       "    </tr>\n",
       "  </thead>\n",
       "  <tbody>\n",
       "    <tr>\n",
       "      <th>0</th>\n",
       "      <td>15.108</td>\n",
       "      <td>-1.054</td>\n",
       "    </tr>\n",
       "    <tr>\n",
       "      <th>1</th>\n",
       "      <td>7.572</td>\n",
       "      <td>5.530</td>\n",
       "    </tr>\n",
       "    <tr>\n",
       "      <th>2</th>\n",
       "      <td>5.432</td>\n",
       "      <td>4.307</td>\n",
       "    </tr>\n",
       "    <tr>\n",
       "      <th>3</th>\n",
       "      <td>4.298</td>\n",
       "      <td>4.617</td>\n",
       "    </tr>\n",
       "    <tr>\n",
       "      <th>4</th>\n",
       "      <td>5.396</td>\n",
       "      <td>3.622</td>\n",
       "    </tr>\n",
       "  </tbody>\n",
       "</table>\n",
       "</div>"
      ],
      "text/plain": [
       "   principal component 1  principal component 2\n",
       "0                 15.108                 -1.054\n",
       "1                  7.572                  5.530\n",
       "2                  5.432                  4.307\n",
       "3                  4.298                  4.617\n",
       "4                  5.396                  3.622"
      ]
     },
     "execution_count": 7,
     "metadata": {},
     "output_type": "execute_result"
    }
   ],
   "source": [
    "# Condensing data to one principal component\n",
    "pca = PCA(n_components=2)\n",
    "X = StandardScaler().fit_transform(X)\n",
    "principalComponents = pca.fit_transform(X)\n",
    "principalDf = pd.DataFrame(data = principalComponents\n",
    "             , columns = ['principal component 1', 'principal component 2'])\n",
    "principalDf.head()"
   ]
  },
  {
   "cell_type": "code",
   "execution_count": 8,
   "metadata": {},
   "outputs": [
    {
     "data": {
      "text/plain": [
       "array([0.75236795, 0.1543409 ])"
      ]
     },
     "execution_count": 8,
     "metadata": {},
     "output_type": "execute_result"
    }
   ],
   "source": [
    "# How much of our variance do we retain after limiting our data to 1 component?\n",
    "pca.explained_variance_ratio_"
   ]
  },
  {
   "cell_type": "code",
   "execution_count": 9,
   "metadata": {},
   "outputs": [
    {
     "name": "stdout",
     "output_type": "stream",
     "text": [
      "\n",
      "Coefficients: \n",
      " [[233.27426737  77.65628239]]\n",
      "\n",
      "Intercept: \n",
      " [293.43567251]\n",
      "\n",
      "R-squared:\n",
      "0.8591621413725079\n"
     ]
    }
   ],
   "source": [
    "# Create a new linear regression model with our 1 variable\n",
    "X = principalDf\n",
    "Y = data['Property_crime'].values.reshape(-1, 1)\n",
    "regr.fit(X, Y)\n",
    "\n",
    "# Inspect the results.\n",
    "print('\\nCoefficients: \\n', regr.coef_)\n",
    "print('\\nIntercept: \\n', regr.intercept_)\n",
    "print('\\nR-squared:')\n",
    "print(regr.score(X, Y))"
   ]
  },
  {
   "cell_type": "code",
   "execution_count": 10,
   "metadata": {},
   "outputs": [],
   "source": [
    "#prediction = principalDf['principal component 1'].apply(lambda x: x*regr.coef_+regr.intercept_)\n",
    "\n",
    "# Creating our residual graph based on predicted and actual values\n",
    "predicted = regr.predict(X).ravel()\n",
    "target = data['Property_crime']\n",
    "residual = target - predicted"
   ]
  },
  {
   "cell_type": "code",
   "execution_count": 11,
   "metadata": {},
   "outputs": [
    {
     "data": {
      "image/png": "[encoded data removed]",
      "text/plain": [
       "<matplotlib.figure.Figure at 0x2b587993668>"
      ]
     },
     "metadata": {},
     "output_type": "display_data"
    }
   ],
   "source": [
    "# This looks a bit concerning.\n",
    "plt.hist(residual)\n",
    "plt.title('Residual counts')\n",
    "plt.xlabel('Residual')\n",
    "plt.ylabel('Count')\n",
    "plt.show()"
   ]
  },
  {
   "cell_type": "code",
   "execution_count": 12,
   "metadata": {},
   "outputs": [
    {
     "data": {
      "image/png": "[encoded data removed]",
      "text/plain": [
       "<matplotlib.figure.Figure at 0x2b5881c69e8>"
      ]
     },
     "metadata": {},
     "output_type": "display_data"
    }
   ],
   "source": [
    "# Create our residual graph\n",
    "plt.scatter(predicted, residual)\n",
    "plt.xlabel('Predicted')\n",
    "plt.ylabel('Residual')\n",
    "plt.axhline(y=0)\n",
    "plt.title('Residual vs. Predicted')\n",
    "plt.show()"
   ]
  },
  {
   "cell_type": "markdown",
   "metadata": {},
   "source": [
    "# Cross validation"
   ]
  },
  {
   "cell_type": "code",
   "execution_count": 13,
   "metadata": {},
   "outputs": [
    {
     "name": "stdout",
     "output_type": "stream",
     "text": [
      "With 20% Holdout: 0.014492753623188406\n",
      "Testing on Sample: 0.043859649122807015\n"
     ]
    }
   ],
   "source": [
    "from sklearn.naive_bayes import BernoulliNB\n",
    "from sklearn.model_selection import train_test_split\n",
    "\n",
    "# Create our model distribution\n",
    "bnb = BernoulliNB()\n",
    "y_pred = bnb.fit(data, target).predict(data)\n",
    "\n",
    "# Create cross validation with 5 groups\n",
    "X_train, X_test, y_train, y_test = train_test_split(data, target, test_size=0.20)\n",
    "print('With 20% Holdout: ' + str(bnb.fit(X_train, y_train).score(X_test, y_test)))\n",
    "print('Testing on Sample: ' + str(bnb.fit(data, target).score(data, target)))"
   ]
  },
  {
   "cell_type": "markdown",
   "metadata": {},
   "source": [
    "# Writeup\n",
    "\n",
    "The original features used to predict property crime were population, population squared, murder, and robbery rates. With the first regression model, our model turns out to have a r-squared value of 0.939, a very good score for our model, and an indication that we have picked the correct variables to predict with. Reducing the complexity of the murder and robbery column as we did with the previous exercise (changing values greater than 0 to 1) will decrease our r-squared value, so we're better off leaving the data as it is. Removing features will also reduce the accuracy of our model, while adding more variables (such as burglary) will increase it. This makes sense since adding more variables into the equation should provide more insight into the variables that cause these actions."
   ]
  },
  {
   "cell_type": "code",
   "execution_count": null,
   "metadata": {},
   "outputs": [],
   "source": []
  }
 ],
 "metadata": {
  "kernelspec": {
   "display_name": "Python 3",
   "language": "python",
   "name": "python3"
  },
  "language_info": {
   "codemirror_mode": {
    "name": "ipython",
    "version": 3
   },
   "file_extension": ".py",
   "mimetype": "text/x-python",
   "name": "python",
   "nbconvert_exporter": "python",
   "pygments_lexer": "ipython3",
   "version": "3.6.4"
  }
 },
 "nbformat": 4,
 "nbformat_minor": 2
}
