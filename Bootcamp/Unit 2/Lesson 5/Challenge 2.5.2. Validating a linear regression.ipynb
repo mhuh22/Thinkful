{
 "cells": [
  {
   "cell_type": "code",
   "execution_count": 1,
   "metadata": {},
   "outputs": [],
   "source": [
    "import pandas as pd\n",
    "from matplotlib import pyplot as plt\n",
    "import numpy as np\n",
    "from sklearn import linear_model\n",
    "from sklearn.decomposition import PCA\n",
    "from sklearn.preprocessing import StandardScaler\n",
    "%matplotlib inline\n",
    "pd.options.display.float_format = '{:.3f}'.format\n",
    "\n",
    "# Suppress annoying harmless error.\n",
    "import warnings\n",
    "warnings.filterwarnings(action=\"ignore\", module=\"scipy\", message=\"^internal gelsd\")"
   ]
  },
  {
   "cell_type": "code",
   "execution_count": 2,
   "metadata": {},
   "outputs": [
    {
     "data": {
      "text/html": [
       "<div>\n",
       "<style scoped>\n",
       "    .dataframe tbody tr th:only-of-type {\n",
       "        vertical-align: middle;\n",
       "    }\n",
       "\n",
       "    .dataframe tbody tr th {\n",
       "        vertical-align: top;\n",
       "    }\n",
       "\n",
       "    .dataframe thead th {\n",
       "        text-align: right;\n",
       "    }\n",
       "</style>\n",
       "<table border=\"1\" class=\"dataframe\">\n",
       "  <thead>\n",
       "    <tr style=\"text-align: right;\">\n",
       "      <th></th>\n",
       "      <th>Population</th>\n",
       "      <th>Murder</th>\n",
       "      <th>Robbery</th>\n",
       "      <th>Property_crime</th>\n",
       "      <th>Burglary</th>\n",
       "      <th>Pop_squared</th>\n",
       "    </tr>\n",
       "  </thead>\n",
       "  <tbody>\n",
       "    <tr>\n",
       "      <th>0</th>\n",
       "      <td>16408.000</td>\n",
       "      <td>0.000</td>\n",
       "      <td>13.000</td>\n",
       "      <td>944.000</td>\n",
       "      <td>208.000</td>\n",
       "      <td>269222464.000</td>\n",
       "    </tr>\n",
       "    <tr>\n",
       "      <th>1</th>\n",
       "      <td>6441.000</td>\n",
       "      <td>0.000</td>\n",
       "      <td>6.000</td>\n",
       "      <td>333.000</td>\n",
       "      <td>72.000</td>\n",
       "      <td>41486481.000</td>\n",
       "    </tr>\n",
       "    <tr>\n",
       "      <th>2</th>\n",
       "      <td>3123.000</td>\n",
       "      <td>0.000</td>\n",
       "      <td>0.000</td>\n",
       "      <td>73.000</td>\n",
       "      <td>22.000</td>\n",
       "      <td>9753129.000</td>\n",
       "    </tr>\n",
       "    <tr>\n",
       "      <th>3</th>\n",
       "      <td>15980.000</td>\n",
       "      <td>0.000</td>\n",
       "      <td>3.000</td>\n",
       "      <td>559.000</td>\n",
       "      <td>127.000</td>\n",
       "      <td>255360400.000</td>\n",
       "    </tr>\n",
       "    <tr>\n",
       "      <th>4</th>\n",
       "      <td>18425.000</td>\n",
       "      <td>0.000</td>\n",
       "      <td>11.000</td>\n",
       "      <td>1124.000</td>\n",
       "      <td>198.000</td>\n",
       "      <td>339480625.000</td>\n",
       "    </tr>\n",
       "  </tbody>\n",
       "</table>\n",
       "</div>"
      ],
      "text/plain": [
       "   Population  Murder  Robbery  Property_crime  Burglary   Pop_squared\n",
       "0   16408.000   0.000   13.000         944.000   208.000 269222464.000\n",
       "1    6441.000   0.000    6.000         333.000    72.000  41486481.000\n",
       "2    3123.000   0.000    0.000          73.000    22.000   9753129.000\n",
       "3   15980.000   0.000    3.000         559.000   127.000 255360400.000\n",
       "4   18425.000   0.000   11.000        1124.000   198.000 339480625.000"
      ]
     },
     "execution_count": 2,
     "metadata": {},
     "output_type": "execute_result"
    }
   ],
   "source": [
    "# Importing our data\n",
    "data = pd.read_excel('table_8_offenses_known_to_law_enforcement_washington_by_city_2013.xls', \n",
    "                     encoding='latin1', skiprows=list(range(4)))\n",
    "# Condense and clean our dataset\n",
    "data = data.rename(index = str, columns={'Murder and\\nnonnegligent\\nmanslaughter': 'Murder', 'Property\\ncrime': \"Property_crime\"})\n",
    "data = data[['Population', 'Murder', 'Robbery', 'Property_crime', 'Burglary']]\n",
    "data = data.dropna()\n",
    "\n",
    "# Create the new rows for our regression model\n",
    "data['Pop_squared'] = data['Population']**2\n",
    "\n",
    "# Preview the data\n",
    "data.head()"
   ]
  },
  {
   "cell_type": "code",
   "execution_count": 3,
   "metadata": {},
   "outputs": [
    {
     "data": {
      "text/html": [
       "<div>\n",
       "<style scoped>\n",
       "    .dataframe tbody tr th:only-of-type {\n",
       "        vertical-align: middle;\n",
       "    }\n",
       "\n",
       "    .dataframe tbody tr th {\n",
       "        vertical-align: top;\n",
       "    }\n",
       "\n",
       "    .dataframe thead th {\n",
       "        text-align: right;\n",
       "    }\n",
       "</style>\n",
       "<table border=\"1\" class=\"dataframe\">\n",
       "  <thead>\n",
       "    <tr style=\"text-align: right;\">\n",
       "      <th></th>\n",
       "      <th>Population</th>\n",
       "      <th>Murder</th>\n",
       "      <th>Robbery</th>\n",
       "      <th>Property_crime</th>\n",
       "      <th>Burglary</th>\n",
       "      <th>Pop_squared</th>\n",
       "    </tr>\n",
       "  </thead>\n",
       "  <tbody>\n",
       "    <tr>\n",
       "      <th>count</th>\n",
       "      <td>182.000</td>\n",
       "      <td>182.000</td>\n",
       "      <td>182.000</td>\n",
       "      <td>182.000</td>\n",
       "      <td>182.000</td>\n",
       "      <td>182.000</td>\n",
       "    </tr>\n",
       "    <tr>\n",
       "      <th>mean</th>\n",
       "      <td>23097.291</td>\n",
       "      <td>0.549</td>\n",
       "      <td>27.577</td>\n",
       "      <td>1057.478</td>\n",
       "      <td>208.390</td>\n",
       "      <td>3721156113.808</td>\n",
       "    </tr>\n",
       "    <tr>\n",
       "      <th>std</th>\n",
       "      <td>56615.216</td>\n",
       "      <td>2.021</td>\n",
       "      <td>132.211</td>\n",
       "      <td>3321.380</td>\n",
       "      <td>679.726</td>\n",
       "      <td>30982972046.175</td>\n",
       "    </tr>\n",
       "    <tr>\n",
       "      <th>min</th>\n",
       "      <td>278.000</td>\n",
       "      <td>0.000</td>\n",
       "      <td>0.000</td>\n",
       "      <td>0.000</td>\n",
       "      <td>0.000</td>\n",
       "      <td>77284.000</td>\n",
       "    </tr>\n",
       "    <tr>\n",
       "      <th>25%</th>\n",
       "      <td>2767.500</td>\n",
       "      <td>0.000</td>\n",
       "      <td>0.000</td>\n",
       "      <td>53.000</td>\n",
       "      <td>11.000</td>\n",
       "      <td>7659273.000</td>\n",
       "    </tr>\n",
       "    <tr>\n",
       "      <th>50%</th>\n",
       "      <td>7359.000</td>\n",
       "      <td>0.000</td>\n",
       "      <td>2.000</td>\n",
       "      <td>249.000</td>\n",
       "      <td>48.500</td>\n",
       "      <td>54155170.000</td>\n",
       "    </tr>\n",
       "    <tr>\n",
       "      <th>75%</th>\n",
       "      <td>20155.750</td>\n",
       "      <td>0.000</td>\n",
       "      <td>9.000</td>\n",
       "      <td>678.500</td>\n",
       "      <td>135.000</td>\n",
       "      <td>406305153.250</td>\n",
       "    </tr>\n",
       "    <tr>\n",
       "      <th>max</th>\n",
       "      <td>642814.000</td>\n",
       "      <td>19.000</td>\n",
       "      <td>1601.000</td>\n",
       "      <td>35883.000</td>\n",
       "      <td>7384.000</td>\n",
       "      <td>413209838596.000</td>\n",
       "    </tr>\n",
       "  </tbody>\n",
       "</table>\n",
       "</div>"
      ],
      "text/plain": [
       "       Population  Murder  Robbery  Property_crime  Burglary      Pop_squared\n",
       "count     182.000 182.000  182.000         182.000   182.000          182.000\n",
       "mean    23097.291   0.549   27.577        1057.478   208.390   3721156113.808\n",
       "std     56615.216   2.021  132.211        3321.380   679.726  30982972046.175\n",
       "min       278.000   0.000    0.000           0.000     0.000        77284.000\n",
       "25%      2767.500   0.000    0.000          53.000    11.000      7659273.000\n",
       "50%      7359.000   0.000    2.000         249.000    48.500     54155170.000\n",
       "75%     20155.750   0.000    9.000         678.500   135.000    406305153.250\n",
       "max    642814.000  19.000 1601.000       35883.000  7384.000 413209838596.000"
      ]
     },
     "execution_count": 3,
     "metadata": {},
     "output_type": "execute_result"
    }
   ],
   "source": [
    "# View the column statistics\n",
    "data.describe()"
   ]
  },
  {
   "cell_type": "code",
   "execution_count": 4,
   "metadata": {},
   "outputs": [
    {
     "name": "stdout",
     "output_type": "stream",
     "text": [
      "\n",
      "Coefficients: \n",
      " [[ 2.37246256e-02  2.62429363e+01  2.51147725e+01 -4.84154524e-08]]\n",
      "\n",
      "Intercept: \n",
      " [-17.34245159]\n",
      "\n",
      "R-squared:\n",
      "0.9829234289645801\n"
     ]
    }
   ],
   "source": [
    "# Construct our linear regression model with our X variables \n",
    "# and predict Y\n",
    "regr = linear_model.LinearRegression()\n",
    "X = data[['Population', 'Murder', 'Robbery', 'Pop_squared']]\n",
    "Y = data['Property_crime'].values.reshape(-1, 1)\n",
    "regr.fit(X, Y)\n",
    "\n",
    "# Inspect the results.\n",
    "print('\\nCoefficients: \\n', regr.coef_)\n",
    "print('\\nIntercept: \\n', regr.intercept_)\n",
    "print('\\nR-squared:')\n",
    "print(regr.score(X, Y))"
   ]
  },
  {
   "cell_type": "code",
   "execution_count": 5,
   "metadata": {},
   "outputs": [
    {
     "data": {
      "text/html": [
       "<div>\n",
       "<style scoped>\n",
       "    .dataframe tbody tr th:only-of-type {\n",
       "        vertical-align: middle;\n",
       "    }\n",
       "\n",
       "    .dataframe tbody tr th {\n",
       "        vertical-align: top;\n",
       "    }\n",
       "\n",
       "    .dataframe thead th {\n",
       "        text-align: right;\n",
       "    }\n",
       "</style>\n",
       "<table border=\"1\" class=\"dataframe\">\n",
       "  <thead>\n",
       "    <tr style=\"text-align: right;\">\n",
       "      <th></th>\n",
       "      <th>Population</th>\n",
       "      <th>Murder</th>\n",
       "      <th>Robbery</th>\n",
       "      <th>Pop_squared</th>\n",
       "    </tr>\n",
       "  </thead>\n",
       "  <tbody>\n",
       "    <tr>\n",
       "      <th>Population</th>\n",
       "      <td>1.000</td>\n",
       "      <td>0.876</td>\n",
       "      <td>0.952</td>\n",
       "      <td>0.895</td>\n",
       "    </tr>\n",
       "    <tr>\n",
       "      <th>Murder</th>\n",
       "      <td>0.876</td>\n",
       "      <td>1.000</td>\n",
       "      <td>0.891</td>\n",
       "      <td>0.770</td>\n",
       "    </tr>\n",
       "    <tr>\n",
       "      <th>Robbery</th>\n",
       "      <td>0.952</td>\n",
       "      <td>0.891</td>\n",
       "      <td>1.000</td>\n",
       "      <td>0.948</td>\n",
       "    </tr>\n",
       "    <tr>\n",
       "      <th>Pop_squared</th>\n",
       "      <td>0.895</td>\n",
       "      <td>0.770</td>\n",
       "      <td>0.948</td>\n",
       "      <td>1.000</td>\n",
       "    </tr>\n",
       "  </tbody>\n",
       "</table>\n",
       "</div>"
      ],
      "text/plain": [
       "             Population  Murder  Robbery  Pop_squared\n",
       "Population        1.000   0.876    0.952        0.895\n",
       "Murder            0.876   1.000    0.891        0.770\n",
       "Robbery           0.952   0.891    1.000        0.948\n",
       "Pop_squared       0.895   0.770    0.948        1.000"
      ]
     },
     "metadata": {},
     "output_type": "display_data"
    }
   ],
   "source": [
    "# Review the correlation matrix\n",
    "correlation_matrix = X.corr()\n",
    "display(correlation_matrix)"
   ]
  },
  {
   "cell_type": "markdown",
   "metadata": {},
   "source": [
    "# PCA"
   ]
  },
  {
   "cell_type": "code",
   "execution_count": 6,
   "metadata": {},
   "outputs": [
    {
     "data": {
      "text/html": [
       "<div>\n",
       "<style scoped>\n",
       "    .dataframe tbody tr th:only-of-type {\n",
       "        vertical-align: middle;\n",
       "    }\n",
       "\n",
       "    .dataframe tbody tr th {\n",
       "        vertical-align: top;\n",
       "    }\n",
       "\n",
       "    .dataframe thead th {\n",
       "        text-align: right;\n",
       "    }\n",
       "</style>\n",
       "<table border=\"1\" class=\"dataframe\">\n",
       "  <thead>\n",
       "    <tr style=\"text-align: right;\">\n",
       "      <th></th>\n",
       "      <th>principal component 1</th>\n",
       "    </tr>\n",
       "  </thead>\n",
       "  <tbody>\n",
       "    <tr>\n",
       "      <th>0</th>\n",
       "      <td>-0.304</td>\n",
       "    </tr>\n",
       "    <tr>\n",
       "      <th>1</th>\n",
       "      <td>-0.424</td>\n",
       "    </tr>\n",
       "    <tr>\n",
       "      <th>2</th>\n",
       "      <td>-0.478</td>\n",
       "    </tr>\n",
       "    <tr>\n",
       "      <th>3</th>\n",
       "      <td>-0.347</td>\n",
       "    </tr>\n",
       "    <tr>\n",
       "      <th>4</th>\n",
       "      <td>-0.292</td>\n",
       "    </tr>\n",
       "  </tbody>\n",
       "</table>\n",
       "</div>"
      ],
      "text/plain": [
       "   principal component 1\n",
       "0                 -0.304\n",
       "1                 -0.424\n",
       "2                 -0.478\n",
       "3                 -0.347\n",
       "4                 -0.292"
      ]
     },
     "execution_count": 6,
     "metadata": {},
     "output_type": "execute_result"
    }
   ],
   "source": [
    "pca = PCA(n_components=1)\n",
    "X = StandardScaler().fit_transform(X)\n",
    "principalComponents = pca.fit_transform(X)\n",
    "principalDf = pd.DataFrame(data = principalComponents\n",
    "             , columns = ['principal component 1'])\n",
    "principalDf.head()"
   ]
  },
  {
   "cell_type": "code",
   "execution_count": 7,
   "metadata": {},
   "outputs": [
    {
     "data": {
      "text/plain": [
       "array([0.91725437])"
      ]
     },
     "execution_count": 7,
     "metadata": {},
     "output_type": "execute_result"
    }
   ],
   "source": [
    "# How much of our variance do we retain after limiting our data to 1 component?\n",
    "pca.explained_variance_ratio_"
   ]
  },
  {
   "cell_type": "code",
   "execution_count": 8,
   "metadata": {},
   "outputs": [
    {
     "name": "stdout",
     "output_type": "stream",
     "text": [
      "\n",
      "Coefficients: \n",
      " [[1680.62298148]]\n",
      "\n",
      "Intercept: \n",
      " [1057.47802198]\n",
      "\n",
      "R-squared:\n",
      "0.9445956564588894\n"
     ]
    }
   ],
   "source": [
    "# Create a new linear regression model with our 1 variable\n",
    "X = principalDf\n",
    "Y = data['Property_crime'].values.reshape(-1, 1)\n",
    "regr.fit(X, Y)\n",
    "\n",
    "# Inspect the results.\n",
    "print('\\nCoefficients: \\n', regr.coef_)\n",
    "print('\\nIntercept: \\n', regr.intercept_)\n",
    "print('\\nR-squared:')\n",
    "print(regr.score(X, Y))"
   ]
  },
  {
   "cell_type": "code",
   "execution_count": 9,
   "metadata": {},
   "outputs": [],
   "source": [
    "# Creating our residual graph based on predicted and actual values\n",
    "predicted = regr.predict(X).ravel()\n",
    "target = data['Property_crime']\n",
    "residual = target - predicted"
   ]
  },
  {
   "cell_type": "code",
   "execution_count": 12,
   "metadata": {},
   "outputs": [
    {
     "data": {
      "image/png": "[encoded data removed]",
      "text/plain": [
       "<matplotlib.figure.Figure at 0x167b2faa518>"
      ]
     },
     "metadata": {},
     "output_type": "display_data"
    }
   ],
   "source": [
    "# This looks a bit concerning.\n",
    "plt.hist(residual)\n",
    "plt.title('Residual counts')\n",
    "plt.xlabel('Residual')\n",
    "plt.ylabel('Count')\n",
    "plt.show()"
   ]
  },
  {
   "cell_type": "code",
   "execution_count": 10,
   "metadata": {},
   "outputs": [
    {
     "data": {
      "image/png": "[encoded data removed]",
      "text/plain": [
       "<matplotlib.figure.Figure at 0x167b2ddb470>"
      ]
     },
     "metadata": {},
     "output_type": "display_data"
    }
   ],
   "source": [
    "# Create our residual graph\n",
    "plt.scatter(predicted, residual)\n",
    "plt.xlabel('Predicted')\n",
    "plt.ylabel('Residual')\n",
    "plt.axhline(y=0)\n",
    "plt.title('Residual vs. Predicted')\n",
    "plt.show()"
   ]
  },
  {
   "cell_type": "markdown",
   "metadata": {},
   "source": [
    "# Cross Validation"
   ]
  },
  {
   "cell_type": "code",
   "execution_count": 11,
   "metadata": {},
   "outputs": [
    {
     "name": "stdout",
     "output_type": "stream",
     "text": [
      "With 20% Holdout: 0.0\n",
      "Testing on Sample: 0.04945054945054945\n"
     ]
    }
   ],
   "source": [
    "from sklearn.naive_bayes import BernoulliNB\n",
    "from sklearn.model_selection import train_test_split\n",
    "\n",
    "# Create our model distribution\n",
    "bnb = BernoulliNB()\n",
    "y_pred = bnb.fit(data, target).predict(data)\n",
    "\n",
    "# Create cross validation with 5 groups\n",
    "X_train, X_test, y_train, y_test = train_test_split(data, target, test_size=0.20)\n",
    "print('With 20% Holdout: ' + str(bnb.fit(X_train, y_train).score(X_test, y_test)))\n",
    "print('Testing on Sample: ' + str(bnb.fit(data, target).score(data, target)))"
   ]
  },
  {
   "cell_type": "code",
   "execution_count": null,
   "metadata": {},
   "outputs": [],
   "source": []
  }
 ],
 "metadata": {
  "kernelspec": {
   "display_name": "Python 3",
   "language": "python",
   "name": "python3"
  },
  "language_info": {
   "codemirror_mode": {
    "name": "ipython",
    "version": 3
   },
   "file_extension": ".py",
   "mimetype": "text/x-python",
   "name": "python",
   "nbconvert_exporter": "python",
   "pygments_lexer": "ipython3",
   "version": "3.6.4"
  }
 },
 "nbformat": 4,
 "nbformat_minor": 2
}
