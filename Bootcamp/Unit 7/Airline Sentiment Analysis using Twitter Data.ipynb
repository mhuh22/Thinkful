{
 "cells": [
  {
   "cell_type": "markdown",
   "metadata": {},
   "source": [
    "# Sentiment Analysis using Airline Tweets\n",
    "Author: Matthew Huh\n",
    "\n",
    "## Introduction\n",
    "\n",
    "Social media is a treasure trove of textual data. It’s a free and easy way for users to express themselves and share whatever they want to say, get attention, and even start movements. \n",
    "\n",
    "It’s a powerful way for companies to get an idea of what users think about them, understand how their brands may be perceived, and identify ways to improve business by analyzing the concerns that users have with their products or services. And that is what I aim to accomplish in this project, by analyzing mentions of a few airlines and determining how people perceive their options, and evaluate what concerns people are mentioning. \n",
    "\n",
    "\n",
    "## About the Data\n",
    "\n",
    "The data for this project has been obtained from two sources. The first data set is a collection of data pre-compiled from crowdflower, and is freely available on Kaggle. The second data set has been obtained using Twitter’s API (tweepy to be precise) \n",
    "\n",
    "The first data set has far more information as the data has been reviewed by people to determine the sentiment, and the rationale behind negative comments. The tweets have been evaluated by people and for the sake of simplicity, we will be assuming that those results are correct. The data set contains data from February 2015 and only mentions 6 different airlines ('American', 'Delta', 'Southwest', 'US Airways', 'United', 'Virgin America'). \n",
    "\n",
    "Our second data set is more recent, November 2018, and has both the same airlines in our training set, but also a few more airlines that aren’t. This is done in order to introduce data that we haven’t trained with yet. In theory, the models developed in this project should be able to do just that.\n",
    "\n",
    "## Research Question\n",
    "\n",
    "How accurate of a model can we build to determine a tweet's sentiment?\n",
    "\n",
    "## Sources\n",
    "\n",
    "https://www.kaggle.com/crowdflower/twitter-airline-sentiment (Pre-compiled Kaggle data)\n",
    "\n",
    "http://nbviewer.jupyter.org/github/mhuh22/Thinkful/blob/master/Bootcamp/Unit%207/Twitter%20API%20%40Airline%20Tweets.ipynb (Tweepy Script)\n",
    "\n",
    "<div class=\"alert alert-block alert-warning\">\n",
    "Note: The visuals for this project do not render correctly on Github; if you would like to view the presentation the way it was meant to be viewed, please click on the following link.\n",
    "\n",
    "http://nbviewer.jupyter.org/github/mhuh22/Portfolio/blob/master/Sentiment%20Analysis%20with%20Airline%20Tweets/Airline%20Sentiment%20Analysis%20using%20Twitter%20Data.ipynb\n",
    "</div>\n",
    "\n",
    "## Packages"
   ]
  },
  {
   "cell_type": "code",
   "execution_count": 1,
   "metadata": {},
   "outputs": [
    {
     "name": "stderr",
     "output_type": "stream",
     "text": [
      "C:\\Users\\mhuh22\\Anaconda3\\lib\\site-packages\\sklearn\\ensemble\\weight_boosting.py:29: DeprecationWarning: numpy.core.umath_tests is an internal NumPy module and should not be imported. It will be removed in a future NumPy release.\n",
      "  from numpy.core.umath_tests import inner1d\n"
     ]
    },
    {
     "data": {
      "text/html": [
       "<script type=\"text/javascript\">window.PlotlyConfig = {MathJaxConfig: 'local'};</script><script type=\"text/javascript\">if (window.MathJax) {MathJax.Hub.Config({SVG: {font: \"STIX-Web\"}});}</script><script>requirejs.config({paths: { 'plotly': ['https://cdn.plot.ly/plotly-latest.min']},});if(!window._Plotly) {require(['plotly'],function(plotly) {window._Plotly=plotly;});}</script>"
      ],
      "text/vnd.plotly.v1+html": [
       "<script type=\"text/javascript\">window.PlotlyConfig = {MathJaxConfig: 'local'};</script><script type=\"text/javascript\">if (window.MathJax) {MathJax.Hub.Config({SVG: {font: \"STIX-Web\"}});}</script><script>requirejs.config({paths: { 'plotly': ['https://cdn.plot.ly/plotly-latest.min']},});if(!window._Plotly) {require(['plotly'],function(plotly) {window._Plotly=plotly;});}</script>"
      ]
     },
     "metadata": {},
     "output_type": "display_data"
    }
   ],
   "source": [
    "# Necessary imports\n",
    "import os\n",
    "import time\n",
    "import timeit\n",
    "import numpy as np\n",
    "import pandas as pd\n",
    "import scipy\n",
    "import sklearn\n",
    "import matplotlib.pyplot as plt\n",
    "import seaborn as sns\n",
    "from sklearn.utils import resample\n",
    "%matplotlib inline\n",
    "\n",
    "# Modelling packages\n",
    "from sklearn import ensemble\n",
    "from sklearn.feature_selection import chi2, f_classif, SelectKBest \n",
    "from sklearn.linear_model import LogisticRegression\n",
    "from sklearn.metrics import adjusted_rand_score, classification_report, confusion_matrix, silhouette_score\n",
    "from sklearn.model_selection import cross_val_score, GridSearchCV, train_test_split\n",
    "from sklearn.neural_network import MLPClassifier\n",
    "from sklearn.preprocessing import normalize\n",
    "\n",
    "# Natural Language processing\n",
    "import nltk\n",
    "import re\n",
    "import spacy\n",
    "from collections import Counter\n",
    "from nltk.corpus import stopwords\n",
    "from nltk.stem import WordNetLemmatizer\n",
    "from sklearn.datasets import fetch_rcv1\n",
    "from sklearn.decomposition import NMF, TruncatedSVD, LatentDirichletAllocation as LDA\n",
    "from sklearn.feature_extraction.text import TfidfVectorizer\n",
    "from sklearn.pipeline import make_pipeline\n",
    "from sklearn.preprocessing import Normalizer\n",
    "from nltk.corpus import stopwords\n",
    "from wordcloud import WordCloud, STOPWORDS\n",
    "\n",
    "# Clustering packages\n",
    "import sklearn.cluster as cluster\n",
    "from sklearn.cluster import KMeans, MeanShift, estimate_bandwidth, SpectralClustering, AffinityPropagation\n",
    "from scipy.spatial.distance import cdist\n",
    "\n",
    "# Plotly packages\n",
    "import cufflinks as cf\n",
    "import ipywidgets as widgets\n",
    "import plotly as py\n",
    "import plotly.figure_factory as ff\n",
    "import plotly.graph_objs as go\n",
    "from plotly import tools\n",
    "from scipy import special\n",
    "py.offline.init_notebook_mode(connected=True)"
   ]
  },
  {
   "cell_type": "code",
   "execution_count": 2,
   "metadata": {},
   "outputs": [
    {
     "data": {
      "text/html": [
       "<div>\n",
       "<style scoped>\n",
       "    .dataframe tbody tr th:only-of-type {\n",
       "        vertical-align: middle;\n",
       "    }\n",
       "\n",
       "    .dataframe tbody tr th {\n",
       "        vertical-align: top;\n",
       "    }\n",
       "\n",
       "    .dataframe thead th {\n",
       "        text-align: right;\n",
       "    }\n",
       "</style>\n",
       "<table border=\"1\" class=\"dataframe\">\n",
       "  <thead>\n",
       "    <tr style=\"text-align: right;\">\n",
       "      <th></th>\n",
       "      <th>tweet_id</th>\n",
       "      <th>airline_sentiment</th>\n",
       "      <th>airline_sentiment_confidence</th>\n",
       "      <th>negativereason</th>\n",
       "      <th>negativereason_confidence</th>\n",
       "      <th>airline</th>\n",
       "      <th>airline_sentiment_gold</th>\n",
       "      <th>name</th>\n",
       "      <th>negativereason_gold</th>\n",
       "      <th>retweet_count</th>\n",
       "      <th>text</th>\n",
       "      <th>tweet_coord</th>\n",
       "      <th>tweet_created</th>\n",
       "      <th>tweet_location</th>\n",
       "      <th>user_timezone</th>\n",
       "    </tr>\n",
       "  </thead>\n",
       "  <tbody>\n",
       "    <tr>\n",
       "      <th>0</th>\n",
       "      <td>570306133677760513</td>\n",
       "      <td>neutral</td>\n",
       "      <td>1.0000</td>\n",
       "      <td>NaN</td>\n",
       "      <td>NaN</td>\n",
       "      <td>Virgin America</td>\n",
       "      <td>NaN</td>\n",
       "      <td>cairdin</td>\n",
       "      <td>NaN</td>\n",
       "      <td>0</td>\n",
       "      <td>@VirginAmerica What @dhepburn said.</td>\n",
       "      <td>NaN</td>\n",
       "      <td>2015-02-24 11:35:52 -0800</td>\n",
       "      <td>NaN</td>\n",
       "      <td>Eastern Time (US &amp; Canada)</td>\n",
       "    </tr>\n",
       "    <tr>\n",
       "      <th>1</th>\n",
       "      <td>570301130888122368</td>\n",
       "      <td>positive</td>\n",
       "      <td>0.3486</td>\n",
       "      <td>NaN</td>\n",
       "      <td>0.0000</td>\n",
       "      <td>Virgin America</td>\n",
       "      <td>NaN</td>\n",
       "      <td>jnardino</td>\n",
       "      <td>NaN</td>\n",
       "      <td>0</td>\n",
       "      <td>@VirginAmerica plus you've added commercials t...</td>\n",
       "      <td>NaN</td>\n",
       "      <td>2015-02-24 11:15:59 -0800</td>\n",
       "      <td>NaN</td>\n",
       "      <td>Pacific Time (US &amp; Canada)</td>\n",
       "    </tr>\n",
       "    <tr>\n",
       "      <th>2</th>\n",
       "      <td>570301083672813571</td>\n",
       "      <td>neutral</td>\n",
       "      <td>0.6837</td>\n",
       "      <td>NaN</td>\n",
       "      <td>NaN</td>\n",
       "      <td>Virgin America</td>\n",
       "      <td>NaN</td>\n",
       "      <td>yvonnalynn</td>\n",
       "      <td>NaN</td>\n",
       "      <td>0</td>\n",
       "      <td>@VirginAmerica I didn't today... Must mean I n...</td>\n",
       "      <td>NaN</td>\n",
       "      <td>2015-02-24 11:15:48 -0800</td>\n",
       "      <td>Lets Play</td>\n",
       "      <td>Central Time (US &amp; Canada)</td>\n",
       "    </tr>\n",
       "    <tr>\n",
       "      <th>3</th>\n",
       "      <td>570301031407624196</td>\n",
       "      <td>negative</td>\n",
       "      <td>1.0000</td>\n",
       "      <td>Bad Flight</td>\n",
       "      <td>0.7033</td>\n",
       "      <td>Virgin America</td>\n",
       "      <td>NaN</td>\n",
       "      <td>jnardino</td>\n",
       "      <td>NaN</td>\n",
       "      <td>0</td>\n",
       "      <td>@VirginAmerica it's really aggressive to blast...</td>\n",
       "      <td>NaN</td>\n",
       "      <td>2015-02-24 11:15:36 -0800</td>\n",
       "      <td>NaN</td>\n",
       "      <td>Pacific Time (US &amp; Canada)</td>\n",
       "    </tr>\n",
       "    <tr>\n",
       "      <th>4</th>\n",
       "      <td>570300817074462722</td>\n",
       "      <td>negative</td>\n",
       "      <td>1.0000</td>\n",
       "      <td>Can't Tell</td>\n",
       "      <td>1.0000</td>\n",
       "      <td>Virgin America</td>\n",
       "      <td>NaN</td>\n",
       "      <td>jnardino</td>\n",
       "      <td>NaN</td>\n",
       "      <td>0</td>\n",
       "      <td>@VirginAmerica and it's a really big bad thing...</td>\n",
       "      <td>NaN</td>\n",
       "      <td>2015-02-24 11:14:45 -0800</td>\n",
       "      <td>NaN</td>\n",
       "      <td>Pacific Time (US &amp; Canada)</td>\n",
       "    </tr>\n",
       "  </tbody>\n",
       "</table>\n",
       "</div>"
      ],
      "text/plain": [
       "             tweet_id airline_sentiment  airline_sentiment_confidence  \\\n",
       "0  570306133677760513           neutral                        1.0000   \n",
       "1  570301130888122368          positive                        0.3486   \n",
       "2  570301083672813571           neutral                        0.6837   \n",
       "3  570301031407624196          negative                        1.0000   \n",
       "4  570300817074462722          negative                        1.0000   \n",
       "\n",
       "  negativereason  negativereason_confidence         airline  \\\n",
       "0            NaN                        NaN  Virgin America   \n",
       "1            NaN                     0.0000  Virgin America   \n",
       "2            NaN                        NaN  Virgin America   \n",
       "3     Bad Flight                     0.7033  Virgin America   \n",
       "4     Can't Tell                     1.0000  Virgin America   \n",
       "\n",
       "  airline_sentiment_gold        name negativereason_gold  retweet_count  \\\n",
       "0                    NaN     cairdin                 NaN              0   \n",
       "1                    NaN    jnardino                 NaN              0   \n",
       "2                    NaN  yvonnalynn                 NaN              0   \n",
       "3                    NaN    jnardino                 NaN              0   \n",
       "4                    NaN    jnardino                 NaN              0   \n",
       "\n",
       "                                                text tweet_coord  \\\n",
       "0                @VirginAmerica What @dhepburn said.         NaN   \n",
       "1  @VirginAmerica plus you've added commercials t...         NaN   \n",
       "2  @VirginAmerica I didn't today... Must mean I n...         NaN   \n",
       "3  @VirginAmerica it's really aggressive to blast...         NaN   \n",
       "4  @VirginAmerica and it's a really big bad thing...         NaN   \n",
       "\n",
       "               tweet_created tweet_location               user_timezone  \n",
       "0  2015-02-24 11:35:52 -0800            NaN  Eastern Time (US & Canada)  \n",
       "1  2015-02-24 11:15:59 -0800            NaN  Pacific Time (US & Canada)  \n",
       "2  2015-02-24 11:15:48 -0800      Lets Play  Central Time (US & Canada)  \n",
       "3  2015-02-24 11:15:36 -0800            NaN  Pacific Time (US & Canada)  \n",
       "4  2015-02-24 11:14:45 -0800            NaN  Pacific Time (US & Canada)  "
      ]
     },
     "execution_count": 2,
     "metadata": {},
     "output_type": "execute_result"
    }
   ],
   "source": [
    "# Import the data\n",
    "tweets = pd.read_csv(\"airline_tweets/Tweets.csv\")\n",
    "\n",
    "# Preview the dataset\n",
    "tweets.head()"
   ]
  },
  {
   "cell_type": "code",
   "execution_count": 3,
   "metadata": {},
   "outputs": [
    {
     "data": {
      "text/plain": [
       "(14640, 15)"
      ]
     },
     "execution_count": 3,
     "metadata": {},
     "output_type": "execute_result"
    }
   ],
   "source": [
    "# View the size of the dataset\n",
    "tweets.shape"
   ]
  },
  {
   "cell_type": "markdown",
   "metadata": {},
   "source": [
    "This dataset has a bit more information than we actually need for this project. We definitely need the text information since that is what we are evaluating, the sentiment since that is what we are trying to measure, and the reason to determine what clusters of complaints people are encountering. As for the rest, they could have some impact on the outcome, but they are not what we are trying to measure so, we'll drop the rest before continuing in order to improve our runtimes."
   ]
  },
  {
   "cell_type": "code",
   "execution_count": 4,
   "metadata": {},
   "outputs": [],
   "source": [
    "# Condense dataframe to only include what we want\n",
    "tweets = tweets[['airline_sentiment', 'negativereason', 'airline', 'text']]"
   ]
  },
  {
   "cell_type": "code",
   "execution_count": 5,
   "metadata": {},
   "outputs": [
    {
     "data": {
      "text/plain": [
       "['American', 'Delta', 'Southwest', 'US Airways', 'United', 'Virgin America']"
      ]
     },
     "execution_count": 5,
     "metadata": {},
     "output_type": "execute_result"
    }
   ],
   "source": [
    "# Print unique airlines in the dataset\n",
    "sorted(tweets['airline'].unique())"
   ]
  },
  {
   "cell_type": "code",
   "execution_count": 6,
   "metadata": {},
   "outputs": [
    {
     "data": {
      "text/plain": [
       "airline_sentiment        3\n",
       "negativereason          10\n",
       "airline                  6\n",
       "text                 14427\n",
       "dtype: int64"
      ]
     },
     "execution_count": 6,
     "metadata": {},
     "output_type": "execute_result"
    }
   ],
   "source": [
    "# Describe unique occurences for each categorical variable\n",
    "tweets.nunique()"
   ]
  },
  {
   "cell_type": "markdown",
   "metadata": {},
   "source": [
    "## Data Visualization"
   ]
  },
  {
   "cell_type": "code",
   "execution_count": 7,
   "metadata": {},
   "outputs": [
    {
     "data": {
      "application/vnd.plotly.v1+json": {
       "data": [
        {
         "labels": [
          "negative",
          "neutral",
          "positive"
         ],
         "type": "pie",
         "uid": "85905521-ac5d-4b35-88fd-56b06a55c0a2",
         "values": [
          9178,
          3099,
          2363
         ]
        }
       ],
       "layout": {
        "autosize": false,
        "height": 400,
        "title": "Tweet Sentiment",
        "width": 500,
        "yaxis": {
         "title": "Number of tweets"
        }
       }
      },
      "text/html": [
       "<div id=\"31319763-2e88-46c1-b793-6706cecac63b\" style=\"height: 400px; width: 500px;\" class=\"plotly-graph-div\"></div><script type=\"text/javascript\">require([\"plotly\"], function(Plotly) { window.PLOTLYENV=window.PLOTLYENV || {};window.PLOTLYENV.BASE_URL=\"https://plot.ly\";Plotly.newPlot(\"31319763-2e88-46c1-b793-6706cecac63b\", [{\"labels\": [\"negative\", \"neutral\", \"positive\"], \"values\": [9178, 3099, 2363], \"type\": \"pie\", \"uid\": \"85905521-ac5d-4b35-88fd-56b06a55c0a2\"}], {\"autosize\": false, \"height\": 400, \"title\": \"Tweet Sentiment\", \"width\": 500, \"yaxis\": {\"title\": \"Number of tweets\"}}, {\"showLink\": true, \"linkText\": \"Export to plot.ly\"})});</script>"
      ],
      "text/vnd.plotly.v1+html": [
       "<div id=\"31319763-2e88-46c1-b793-6706cecac63b\" style=\"height: 400px; width: 500px;\" class=\"plotly-graph-div\"></div><script type=\"text/javascript\">require([\"plotly\"], function(Plotly) { window.PLOTLYENV=window.PLOTLYENV || {};window.PLOTLYENV.BASE_URL=\"https://plot.ly\";Plotly.newPlot(\"31319763-2e88-46c1-b793-6706cecac63b\", [{\"labels\": [\"negative\", \"neutral\", \"positive\"], \"values\": [9178, 3099, 2363], \"type\": \"pie\", \"uid\": \"85905521-ac5d-4b35-88fd-56b06a55c0a2\"}], {\"autosize\": false, \"height\": 400, \"title\": \"Tweet Sentiment\", \"width\": 500, \"yaxis\": {\"title\": \"Number of tweets\"}}, {\"showLink\": true, \"linkText\": \"Export to plot.ly\"})});</script>"
      ]
     },
     "metadata": {},
     "output_type": "display_data"
    }
   ],
   "source": [
    "# View distribution of tweets by sentiment \n",
    "# (Changing colors to red/gray/green would be nice)\n",
    "trace = go.Pie(labels=tweets['airline_sentiment'].value_counts().index, \n",
    "              values=tweets['airline_sentiment'].value_counts())\n",
    "\n",
    "# Create the layout\n",
    "layout = go.Layout(\n",
    "    title = 'Tweet Sentiment',\n",
    "    height = 400,\n",
    "    width = 500,\n",
    "    autosize = False,\n",
    "    yaxis = dict(title='Number of tweets')\n",
    ")\n",
    "\n",
    "fig = go.Figure(data = [trace], layout = layout)\n",
    "py.offline.iplot(fig, filename='cufflinks/simple')"
   ]
  },
  {
   "cell_type": "markdown",
   "metadata": {},
   "source": [
    "Based on the sentiment values in our dataset, it appears as though practically ⅔ of the tweets aren’t too happy about their choice of airline, while only ⅙ mention it in a positive way. We do have to keep in mind that these are tweets, not reviews, so they are mostly a form of expression, or expressing a concern/complaint more so than thinking about the experience as whole. "
   ]
  },
  {
   "cell_type": "code",
   "execution_count": 8,
   "metadata": {},
   "outputs": [
    {
     "data": {
      "application/vnd.plotly.v1+json": {
       "data": [
        {
         "opacity": 0.7,
         "type": "bar",
         "uid": "6be30a5d-5e7a-4a9a-b987-b7f6b03c7786",
         "x": [
          "Customer Service Issue",
          "Late Flight",
          "Can't Tell",
          "Cancelled Flight",
          "Lost Luggage",
          "Bad Flight",
          "Flight Booking Problems",
          "Flight Attendant Complaints",
          "longlines",
          "Damaged Luggage"
         ],
         "y": [
          2910,
          1665,
          1190,
          847,
          724,
          580,
          529,
          481,
          178,
          74
         ]
        }
       ],
       "layout": {
        "title": "Negative Tweets by Reason",
        "yaxis": {
         "title": "Number of tweets"
        }
       }
      },
      "text/html": [
       "<div id=\"58d5c851-ae48-4bd3-ad9a-e14a46841687\" style=\"height: 525px; width: 100%;\" class=\"plotly-graph-div\"></div><script type=\"text/javascript\">require([\"plotly\"], function(Plotly) { window.PLOTLYENV=window.PLOTLYENV || {};window.PLOTLYENV.BASE_URL=\"https://plot.ly\";Plotly.newPlot(\"58d5c851-ae48-4bd3-ad9a-e14a46841687\", [{\"opacity\": 0.7, \"x\": [\"Customer Service Issue\", \"Late Flight\", \"Can't Tell\", \"Cancelled Flight\", \"Lost Luggage\", \"Bad Flight\", \"Flight Booking Problems\", \"Flight Attendant Complaints\", \"longlines\", \"Damaged Luggage\"], \"y\": [2910, 1665, 1190, 847, 724, 580, 529, 481, 178, 74], \"type\": \"bar\", \"uid\": \"6be30a5d-5e7a-4a9a-b987-b7f6b03c7786\"}], {\"title\": \"Negative Tweets by Reason\", \"yaxis\": {\"title\": \"Number of tweets\"}}, {\"showLink\": true, \"linkText\": \"Export to plot.ly\"})});</script><script type=\"text/javascript\">window.addEventListener(\"resize\", function(){window._Plotly.Plots.resize(document.getElementById(\"58d5c851-ae48-4bd3-ad9a-e14a46841687\"));});</script>"
      ],
      "text/vnd.plotly.v1+html": [
       "<div id=\"58d5c851-ae48-4bd3-ad9a-e14a46841687\" style=\"height: 525px; width: 100%;\" class=\"plotly-graph-div\"></div><script type=\"text/javascript\">require([\"plotly\"], function(Plotly) { window.PLOTLYENV=window.PLOTLYENV || {};window.PLOTLYENV.BASE_URL=\"https://plot.ly\";Plotly.newPlot(\"58d5c851-ae48-4bd3-ad9a-e14a46841687\", [{\"opacity\": 0.7, \"x\": [\"Customer Service Issue\", \"Late Flight\", \"Can't Tell\", \"Cancelled Flight\", \"Lost Luggage\", \"Bad Flight\", \"Flight Booking Problems\", \"Flight Attendant Complaints\", \"longlines\", \"Damaged Luggage\"], \"y\": [2910, 1665, 1190, 847, 724, 580, 529, 481, 178, 74], \"type\": \"bar\", \"uid\": \"6be30a5d-5e7a-4a9a-b987-b7f6b03c7786\"}], {\"title\": \"Negative Tweets by Reason\", \"yaxis\": {\"title\": \"Number of tweets\"}}, {\"showLink\": true, \"linkText\": \"Export to plot.ly\"})});</script><script type=\"text/javascript\">window.addEventListener(\"resize\", function(){window._Plotly.Plots.resize(document.getElementById(\"58d5c851-ae48-4bd3-ad9a-e14a46841687\"));});</script>"
      ]
     },
     "metadata": {},
     "output_type": "display_data"
    }
   ],
   "source": [
    "# Plots the complaint reasons, and their frequency\n",
    "# (It might be nice to somehow show how common each reason is for each airline)\n",
    "\n",
    "# The input is the number of negative tweets by reason\n",
    "data = [go.Bar(\n",
    "    x = tweets.negativereason.value_counts().index,\n",
    "    y = tweets.negativereason.value_counts(),\n",
    "    opacity = 0.7\n",
    ")]\n",
    "\n",
    "# Create the layout\n",
    "layout = go.Layout(\n",
    "    title = 'Negative Tweets by Reason',\n",
    "    yaxis = dict(title='Number of tweets')\n",
    ")\n",
    "\n",
    "fig = go.Figure(data = data, layout = layout)\n",
    "py.offline.iplot(fig, filename='cufflinks/simple')"
   ]
  },
  {
   "cell_type": "markdown",
   "metadata": {},
   "source": [
    "Out of the 9000 negative tweets in our dataset, the reasons have been distilled into 10 categories, with the most common reason for it has being related to customer service. Let’s take a look at what those complaints look like."
   ]
  },
  {
   "cell_type": "code",
   "execution_count": 9,
   "metadata": {},
   "outputs": [
    {
     "data": {
      "text/html": [
       "<div>\n",
       "<style scoped>\n",
       "    .dataframe tbody tr th:only-of-type {\n",
       "        vertical-align: middle;\n",
       "    }\n",
       "\n",
       "    .dataframe tbody tr th {\n",
       "        vertical-align: top;\n",
       "    }\n",
       "\n",
       "    .dataframe thead th {\n",
       "        text-align: right;\n",
       "    }\n",
       "</style>\n",
       "<table border=\"1\" class=\"dataframe\">\n",
       "  <thead>\n",
       "    <tr style=\"text-align: right;\">\n",
       "      <th></th>\n",
       "      <th>airline_sentiment</th>\n",
       "      <th>negativereason</th>\n",
       "      <th>airline</th>\n",
       "      <th>text</th>\n",
       "    </tr>\n",
       "  </thead>\n",
       "  <tbody>\n",
       "    <tr>\n",
       "      <th>24</th>\n",
       "      <td>negative</td>\n",
       "      <td>Customer Service Issue</td>\n",
       "      <td>Virgin America</td>\n",
       "      <td>@VirginAmerica you guys messed up my seating.....</td>\n",
       "    </tr>\n",
       "    <tr>\n",
       "      <th>25</th>\n",
       "      <td>negative</td>\n",
       "      <td>Customer Service Issue</td>\n",
       "      <td>Virgin America</td>\n",
       "      <td>@VirginAmerica status match program.  I applie...</td>\n",
       "    </tr>\n",
       "    <tr>\n",
       "      <th>32</th>\n",
       "      <td>negative</td>\n",
       "      <td>Customer Service Issue</td>\n",
       "      <td>Virgin America</td>\n",
       "      <td>@VirginAmerica help, left expensive headphones...</td>\n",
       "    </tr>\n",
       "    <tr>\n",
       "      <th>33</th>\n",
       "      <td>negative</td>\n",
       "      <td>Customer Service Issue</td>\n",
       "      <td>Virgin America</td>\n",
       "      <td>@VirginAmerica awaiting my return phone call, ...</td>\n",
       "    </tr>\n",
       "    <tr>\n",
       "      <th>39</th>\n",
       "      <td>negative</td>\n",
       "      <td>Customer Service Issue</td>\n",
       "      <td>Virgin America</td>\n",
       "      <td>@VirginAmerica Your chat support is not workin...</td>\n",
       "    </tr>\n",
       "  </tbody>\n",
       "</table>\n",
       "</div>"
      ],
      "text/plain": [
       "   airline_sentiment          negativereason         airline  \\\n",
       "24          negative  Customer Service Issue  Virgin America   \n",
       "25          negative  Customer Service Issue  Virgin America   \n",
       "32          negative  Customer Service Issue  Virgin America   \n",
       "33          negative  Customer Service Issue  Virgin America   \n",
       "39          negative  Customer Service Issue  Virgin America   \n",
       "\n",
       "                                                 text  \n",
       "24  @VirginAmerica you guys messed up my seating.....  \n",
       "25  @VirginAmerica status match program.  I applie...  \n",
       "32  @VirginAmerica help, left expensive headphones...  \n",
       "33  @VirginAmerica awaiting my return phone call, ...  \n",
       "39  @VirginAmerica Your chat support is not workin...  "
      ]
     },
     "execution_count": 9,
     "metadata": {},
     "output_type": "execute_result"
    }
   ],
   "source": [
    "tweets.loc[tweets['negativereason']=='Customer Service Issue'].head()"
   ]
  },
  {
   "cell_type": "code",
   "execution_count": 10,
   "metadata": {},
   "outputs": [
    {
     "data": {
      "application/vnd.plotly.v1+json": {
       "data": [
        {
         "marker": {
          "color": "rgba(200,0,0,.7)"
         },
         "name": "Negative",
         "type": "bar",
         "uid": "8a5590e4-a546-48f8-b1f9-6f2b4aaf44d3",
         "x": [
          "American",
          "Delta",
          "Southwest",
          "US Airways",
          "United",
          "Virgin America"
         ],
         "y": [
          1960,
          955,
          1186,
          2263,
          2633,
          181
         ]
        },
        {
         "marker": {
          "color": "rgba(150,150,150,.7)"
         },
         "name": "Neutral",
         "type": "bar",
         "uid": "f3afd79e-68db-4ca8-8c89-09ae0bdb8bf2",
         "x": [
          "American",
          "Delta",
          "Southwest",
          "US Airways",
          "United",
          "Virgin America"
         ],
         "y": [
          463,
          723,
          664,
          381,
          697,
          171
         ]
        },
        {
         "marker": {
          "color": "rgba(0,200,0,.7)"
         },
         "name": "Positive",
         "type": "bar",
         "uid": "af3d84e7-b41b-49bf-a200-c5083c191849",
         "x": [
          "American",
          "Delta",
          "Southwest",
          "US Airways",
          "United",
          "Virgin America"
         ],
         "y": [
          336,
          544,
          570,
          269,
          492,
          152
         ]
        }
       ],
       "layout": {
        "barmode": "group",
        "title": "Airline Sentiment (Total Tweets)",
        "yaxis": {
         "title": "Number of tweets"
        }
       }
      },
      "text/html": [
       "<div id=\"f45d6fa3-83ec-483a-b992-1cf7004aa8cd\" style=\"height: 525px; width: 100%;\" class=\"plotly-graph-div\"></div><script type=\"text/javascript\">require([\"plotly\"], function(Plotly) { window.PLOTLYENV=window.PLOTLYENV || {};window.PLOTLYENV.BASE_URL=\"https://plot.ly\";Plotly.newPlot(\"f45d6fa3-83ec-483a-b992-1cf7004aa8cd\", [{\"marker\": {\"color\": \"rgba(200,0,0,.7)\"}, \"name\": \"Negative\", \"x\": [\"American\", \"Delta\", \"Southwest\", \"US Airways\", \"United\", \"Virgin America\"], \"y\": [1960, 955, 1186, 2263, 2633, 181], \"type\": \"bar\", \"uid\": \"8a5590e4-a546-48f8-b1f9-6f2b4aaf44d3\"}, {\"marker\": {\"color\": \"rgba(150,150,150,.7)\"}, \"name\": \"Neutral\", \"x\": [\"American\", \"Delta\", \"Southwest\", \"US Airways\", \"United\", \"Virgin America\"], \"y\": [463, 723, 664, 381, 697, 171], \"type\": \"bar\", \"uid\": \"f3afd79e-68db-4ca8-8c89-09ae0bdb8bf2\"}, {\"marker\": {\"color\": \"rgba(0,200,0,.7)\"}, \"name\": \"Positive\", \"x\": [\"American\", \"Delta\", \"Southwest\", \"US Airways\", \"United\", \"Virgin America\"], \"y\": [336, 544, 570, 269, 492, 152], \"type\": \"bar\", \"uid\": \"af3d84e7-b41b-49bf-a200-c5083c191849\"}], {\"barmode\": \"group\", \"title\": \"Airline Sentiment (Total Tweets)\", \"yaxis\": {\"title\": \"Number of tweets\"}}, {\"showLink\": true, \"linkText\": \"Export to plot.ly\"})});</script><script type=\"text/javascript\">window.addEventListener(\"resize\", function(){window._Plotly.Plots.resize(document.getElementById(\"f45d6fa3-83ec-483a-b992-1cf7004aa8cd\"));});</script>"
      ],
      "text/vnd.plotly.v1+html": [
       "<div id=\"f45d6fa3-83ec-483a-b992-1cf7004aa8cd\" style=\"height: 525px; width: 100%;\" class=\"plotly-graph-div\"></div><script type=\"text/javascript\">require([\"plotly\"], function(Plotly) { window.PLOTLYENV=window.PLOTLYENV || {};window.PLOTLYENV.BASE_URL=\"https://plot.ly\";Plotly.newPlot(\"f45d6fa3-83ec-483a-b992-1cf7004aa8cd\", [{\"marker\": {\"color\": \"rgba(200,0,0,.7)\"}, \"name\": \"Negative\", \"x\": [\"American\", \"Delta\", \"Southwest\", \"US Airways\", \"United\", \"Virgin America\"], \"y\": [1960, 955, 1186, 2263, 2633, 181], \"type\": \"bar\", \"uid\": \"8a5590e4-a546-48f8-b1f9-6f2b4aaf44d3\"}, {\"marker\": {\"color\": \"rgba(150,150,150,.7)\"}, \"name\": \"Neutral\", \"x\": [\"American\", \"Delta\", \"Southwest\", \"US Airways\", \"United\", \"Virgin America\"], \"y\": [463, 723, 664, 381, 697, 171], \"type\": \"bar\", \"uid\": \"f3afd79e-68db-4ca8-8c89-09ae0bdb8bf2\"}, {\"marker\": {\"color\": \"rgba(0,200,0,.7)\"}, \"name\": \"Positive\", \"x\": [\"American\", \"Delta\", \"Southwest\", \"US Airways\", \"United\", \"Virgin America\"], \"y\": [336, 544, 570, 269, 492, 152], \"type\": \"bar\", \"uid\": \"af3d84e7-b41b-49bf-a200-c5083c191849\"}], {\"barmode\": \"group\", \"title\": \"Airline Sentiment (Total Tweets)\", \"yaxis\": {\"title\": \"Number of tweets\"}}, {\"showLink\": true, \"linkText\": \"Export to plot.ly\"})});</script><script type=\"text/javascript\">window.addEventListener(\"resize\", function(){window._Plotly.Plots.resize(document.getElementById(\"f45d6fa3-83ec-483a-b992-1cf7004aa8cd\"));});</script>"
      ]
     },
     "metadata": {},
     "output_type": "display_data"
    }
   ],
   "source": [
    "# Show distribution of texts\n",
    "\n",
    "trace1 = go.Bar(\n",
    "    x = sorted(tweets['airline'].unique()),\n",
    "    y = tweets[tweets['airline_sentiment'] == 'negative'].groupby('airline')['airline_sentiment'].value_counts(),\n",
    "    name = 'Negative',\n",
    "    marker = dict(color='rgba(200,0,0,.7)')\n",
    ")\n",
    "\n",
    "trace2 = go.Bar(\n",
    "    x = sorted(tweets['airline'].unique()),\n",
    "    y = tweets[tweets['airline_sentiment'] == 'neutral'].groupby('airline')['airline_sentiment'].value_counts(),\n",
    "    name = 'Neutral',\n",
    "    marker = dict(color='rgba(150,150,150,.7)')\n",
    ")\n",
    "\n",
    "trace3 = go.Bar(\n",
    "    x = sorted(tweets['airline'].unique()),\n",
    "    y = tweets[tweets['airline_sentiment'] == 'positive'].groupby('airline')['airline_sentiment'].value_counts(),\n",
    "    name = 'Positive',\n",
    "    marker = dict(color='rgba(0,200,0,.7)')\n",
    ")\n",
    "\n",
    "data = [trace1, trace2, trace3]\n",
    "layout = go.Layout(\n",
    "    title = 'Airline Sentiment (Total Tweets)',\n",
    "    barmode='group',\n",
    "    yaxis = dict(title='Number of tweets')\n",
    ")\n",
    "\n",
    "fig = go.Figure(data=data, layout=layout)\n",
    "py.offline.iplot(fig, filename='stacked-bar')"
   ]
  },
  {
   "cell_type": "markdown",
   "metadata": {},
   "source": [
    "<div class=\"alert alert-block alert-warning\">\n",
    "For the above visual, please hover over the bars to see the actual values, and feel free to toggle the sentiment categories on the right.\n",
    "</div>\n",
    "\n",
    "First impressions say a lot, and the one you might be getting with this chart is that there are a lot of tweets about American, US Airways, and United, and it doesn’t look very good. Granted, they are some of the largest airlines in the world, but it seems like people have just as much to say.\n",
    "\n",
    "### Class Imbalance\n",
    "\n",
    "Based on the number of total tweets above, we can see that certain airlines don't have the same presence as others, namely Virgin America, which is a much smaller airline than the others in our dataset. In order to fix this issue, I will be upsampling the data so that all of the airlines will have an equal number of tweets and look at the ratio of tweet sentiments rather than the absolute numbers."
   ]
  },
  {
   "cell_type": "code",
   "execution_count": 11,
   "metadata": {},
   "outputs": [
    {
     "data": {
      "text/plain": [
       "airline\n",
       "United            3822\n",
       "US Airways        2913\n",
       "American          2759\n",
       "Southwest         2420\n",
       "Delta             2222\n",
       "Virgin America     504\n",
       "dtype: int64"
      ]
     },
     "execution_count": 11,
     "metadata": {},
     "output_type": "execute_result"
    }
   ],
   "source": [
    "# Count # of tweets for each airline\n",
    "tweets.groupby(['airline']).size().sort_values(ascending = False)"
   ]
  },
  {
   "cell_type": "code",
   "execution_count": 12,
   "metadata": {},
   "outputs": [
    {
     "data": {
      "text/plain": [
       "airline\n",
       "American          3822\n",
       "Delta             3822\n",
       "Southwest         3822\n",
       "US Airways        3822\n",
       "United            3822\n",
       "Virgin America    3822\n",
       "dtype: int64"
      ]
     },
     "execution_count": 12,
     "metadata": {},
     "output_type": "execute_result"
    }
   ],
   "source": [
    "# Create temporary dataframe for all airlines to upsample and concatenate\n",
    "tweets_united = tweets[tweets.airline=='United']\n",
    "sample_size = len(tweets[tweets['airline']=='United'])\n",
    "\n",
    "# Upsample all other airlines\n",
    "tweets_usairways = resample(tweets[tweets.airline=='US Airways'], \n",
    "                            replace=True, n_samples=sample_size)\n",
    "tweets_american = resample(tweets[tweets.airline=='American'], \n",
    "                           replace=True, n_samples=sample_size)\n",
    "tweets_southwest = resample(tweets[tweets.airline=='Southwest'], \n",
    "                            replace=True, n_samples=sample_size)\n",
    "tweets_delta = resample(tweets[tweets.airline=='Delta'], \n",
    "                        replace=True, n_samples=sample_size)\n",
    "tweets_virgin = resample(tweets[tweets.airline=='Virgin America'], \n",
    "                         replace=True, n_samples=sample_size)\n",
    "\n",
    "# Concatenate the individual dataframes\n",
    "tweets = pd.concat([tweets_united, \n",
    "                   tweets_usairways, \n",
    "                   tweets_american, \n",
    "                   tweets_southwest,\n",
    "                   tweets_delta,\n",
    "                   tweets_virgin])\n",
    "\n",
    "tweets = tweets.reset_index(drop=True)\n",
    "\n",
    "# Count # of tweets for each airline to verify\n",
    "tweets.groupby(['airline']).size()"
   ]
  },
  {
   "cell_type": "code",
   "execution_count": 13,
   "metadata": {},
   "outputs": [
    {
     "data": {
      "application/vnd.plotly.v1+json": {
       "data": [
        {
         "marker": {
          "color": "rgba(200,0,0,.7)"
         },
         "name": "Negative",
         "type": "bar",
         "uid": "403a6389-c7e9-46cb-8771-9849f3c54d19",
         "x": [
          "American",
          "Delta",
          "Southwest",
          "US Airways",
          "United",
          "Virgin America"
         ],
         "y": [
          0.7247514390371533,
          0.42647828362114076,
          0.5015698587127159,
          0.7757718472004186,
          0.6889063317634746,
          0.37362637362637363
         ]
        },
        {
         "marker": {
          "color": "rgba(150,150,150,.7)"
         },
         "name": "Neutral",
         "type": "bar",
         "uid": "903c6a3b-fa20-4c27-8900-95b2c340983e",
         "x": [
          "American",
          "Delta",
          "Southwest",
          "US Airways",
          "United",
          "Virgin America"
         ],
         "y": [
          0.15070643642072212,
          0.32967032967032966,
          0.2673992673992674,
          0.13762428048142333,
          0.18236525379382523,
          0.3333333333333333
         ]
        },
        {
         "marker": {
          "color": "rgba(0,200,0,.7)"
         },
         "name": "Positive",
         "type": "bar",
         "uid": "0f572982-797e-433f-bf6c-963d3cd26917",
         "x": [
          "American",
          "Delta",
          "Southwest",
          "US Airways",
          "United",
          "Virgin America"
         ],
         "y": [
          0.12454212454212454,
          0.24385138670852957,
          0.23103087388801674,
          0.08660387231815803,
          0.12872841444270017,
          0.29304029304029305
         ]
        }
       ],
       "layout": {
        "barmode": "group",
        "title": "Airline Sentiment (Percentage)",
        "yaxis": {
         "title": "% of tweets"
        }
       }
      },
      "text/html": [
       "<div id=\"a5f89be5-cfb2-47ab-a5c7-194c8a863d06\" style=\"height: 525px; width: 100%;\" class=\"plotly-graph-div\"></div><script type=\"text/javascript\">require([\"plotly\"], function(Plotly) { window.PLOTLYENV=window.PLOTLYENV || {};window.PLOTLYENV.BASE_URL=\"https://plot.ly\";Plotly.newPlot(\"a5f89be5-cfb2-47ab-a5c7-194c8a863d06\", [{\"marker\": {\"color\": \"rgba(200,0,0,.7)\"}, \"name\": \"Negative\", \"x\": [\"American\", \"Delta\", \"Southwest\", \"US Airways\", \"United\", \"Virgin America\"], \"y\": [0.7247514390371533, 0.42647828362114076, 0.5015698587127159, 0.7757718472004186, 0.6889063317634746, 0.37362637362637363], \"type\": \"bar\", \"uid\": \"403a6389-c7e9-46cb-8771-9849f3c54d19\"}, {\"marker\": {\"color\": \"rgba(150,150,150,.7)\"}, \"name\": \"Neutral\", \"x\": [\"American\", \"Delta\", \"Southwest\", \"US Airways\", \"United\", \"Virgin America\"], \"y\": [0.15070643642072212, 0.32967032967032966, 0.2673992673992674, 0.13762428048142333, 0.18236525379382523, 0.3333333333333333], \"type\": \"bar\", \"uid\": \"903c6a3b-fa20-4c27-8900-95b2c340983e\"}, {\"marker\": {\"color\": \"rgba(0,200,0,.7)\"}, \"name\": \"Positive\", \"x\": [\"American\", \"Delta\", \"Southwest\", \"US Airways\", \"United\", \"Virgin America\"], \"y\": [0.12454212454212454, 0.24385138670852957, 0.23103087388801674, 0.08660387231815803, 0.12872841444270017, 0.29304029304029305], \"type\": \"bar\", \"uid\": \"0f572982-797e-433f-bf6c-963d3cd26917\"}], {\"barmode\": \"group\", \"title\": \"Airline Sentiment (Percentage)\", \"yaxis\": {\"title\": \"% of tweets\"}}, {\"showLink\": true, \"linkText\": \"Export to plot.ly\"})});</script><script type=\"text/javascript\">window.addEventListener(\"resize\", function(){window._Plotly.Plots.resize(document.getElementById(\"a5f89be5-cfb2-47ab-a5c7-194c8a863d06\"));});</script>"
      ],
      "text/vnd.plotly.v1+html": [
       "<div id=\"a5f89be5-cfb2-47ab-a5c7-194c8a863d06\" style=\"height: 525px; width: 100%;\" class=\"plotly-graph-div\"></div><script type=\"text/javascript\">require([\"plotly\"], function(Plotly) { window.PLOTLYENV=window.PLOTLYENV || {};window.PLOTLYENV.BASE_URL=\"https://plot.ly\";Plotly.newPlot(\"a5f89be5-cfb2-47ab-a5c7-194c8a863d06\", [{\"marker\": {\"color\": \"rgba(200,0,0,.7)\"}, \"name\": \"Negative\", \"x\": [\"American\", \"Delta\", \"Southwest\", \"US Airways\", \"United\", \"Virgin America\"], \"y\": [0.7247514390371533, 0.42647828362114076, 0.5015698587127159, 0.7757718472004186, 0.6889063317634746, 0.37362637362637363], \"type\": \"bar\", \"uid\": \"403a6389-c7e9-46cb-8771-9849f3c54d19\"}, {\"marker\": {\"color\": \"rgba(150,150,150,.7)\"}, \"name\": \"Neutral\", \"x\": [\"American\", \"Delta\", \"Southwest\", \"US Airways\", \"United\", \"Virgin America\"], \"y\": [0.15070643642072212, 0.32967032967032966, 0.2673992673992674, 0.13762428048142333, 0.18236525379382523, 0.3333333333333333], \"type\": \"bar\", \"uid\": \"903c6a3b-fa20-4c27-8900-95b2c340983e\"}, {\"marker\": {\"color\": \"rgba(0,200,0,.7)\"}, \"name\": \"Positive\", \"x\": [\"American\", \"Delta\", \"Southwest\", \"US Airways\", \"United\", \"Virgin America\"], \"y\": [0.12454212454212454, 0.24385138670852957, 0.23103087388801674, 0.08660387231815803, 0.12872841444270017, 0.29304029304029305], \"type\": \"bar\", \"uid\": \"0f572982-797e-433f-bf6c-963d3cd26917\"}], {\"barmode\": \"group\", \"title\": \"Airline Sentiment (Percentage)\", \"yaxis\": {\"title\": \"% of tweets\"}}, {\"showLink\": true, \"linkText\": \"Export to plot.ly\"})});</script><script type=\"text/javascript\">window.addEventListener(\"resize\", function(){window._Plotly.Plots.resize(document.getElementById(\"a5f89be5-cfb2-47ab-a5c7-194c8a863d06\"));});</script>"
      ]
     },
     "metadata": {},
     "output_type": "display_data"
    }
   ],
   "source": [
    "# Show distribution of texts\n",
    "\n",
    "trace1 = go.Bar(\n",
    "    x = sorted(tweets['airline'].unique()),\n",
    "    y = (tweets[tweets['airline_sentiment'] == 'negative'].groupby('airline')['airline_sentiment'].value_counts().values) / (tweets['airline'].value_counts().sort_index().values),\n",
    "    name = 'Negative',\n",
    "    marker = dict(color='rgba(200,0,0,.7)')\n",
    ")\n",
    "\n",
    "trace2 = go.Bar(\n",
    "    x = sorted(tweets['airline'].unique()),\n",
    "    y = (tweets[tweets['airline_sentiment'] == 'neutral'].groupby('airline')['airline_sentiment'].value_counts().values) / (tweets['airline'].value_counts().sort_index().values),\n",
    "    name = 'Neutral',\n",
    "    marker = dict(color='rgba(150,150,150,.7)')\n",
    ")\n",
    "\n",
    "trace3 = go.Bar(\n",
    "    x = sorted(tweets['airline'].unique()),\n",
    "    y = (tweets[tweets['airline_sentiment'] == 'positive'].groupby('airline')['airline_sentiment'].value_counts().values) / (tweets['airline'].value_counts().sort_index().values),\n",
    "    name = 'Positive',\n",
    "    marker = dict(color='rgba(0,200,0,.7)')\n",
    ")\n",
    "\n",
    "data = [trace1, trace2, trace3]\n",
    "layout = go.Layout(\n",
    "    title = 'Airline Sentiment (Percentage)',\n",
    "    barmode='group',\n",
    "    yaxis = dict(title='% of tweets')\n",
    ")\n",
    "\n",
    "fig = go.Figure(data=data, layout=layout)\n",
    "py.offline.iplot(fig, filename='stacked-bar')"
   ]
  },
  {
   "cell_type": "markdown",
   "metadata": {},
   "source": [
    "<div class=\"alert alert-block alert-warning\">\n",
    "For the above visual, please feel free to toggle the sentiment categories on the right.\n",
    "</div>\n",
    "\n",
    "After balancing the number of tweets for each airline, we can get a better idea of what people think about their choice of airline. Virgin America seems to fare the best with an almost equal number of positive and negative tweets, followed by Delta and Southwest. \n",
    "\n",
    "## Text Cleaning\n",
    "\n",
    "There’s only so much that you can fit into 140 characters or less (the training set is from 2014, before Twitter updated their character limit), and it’s not as if most of these tweets have as much post-processing put into them as an academic essay, so there are going to be quite a few components that need to be cleaned up before modelling. To keep it short, this is the process for how what needs to happen first\n",
    "\n",
    "* Remove special characters\n",
    "* Remove excess spaces\n",
    "* Remove stopwords like ‘like’, ‘the’ ‘and’ \n",
    "* Reduce words to their lemmas (base forms)"
   ]
  },
  {
   "cell_type": "code",
   "execution_count": 14,
   "metadata": {},
   "outputs": [],
   "source": [
    "def text_cleaner(text):\n",
    "    # Visual inspection identifies a form of punctuation spaCy does not\n",
    "    text = re.sub(r'\\n',' ',text)\n",
    "    text = re.sub(r'\\t',' ',text)\n",
    "    text = re.sub(r'--',' ',text)\n",
    "    text = re.sub(\"[\\[].*?[\\]]\", \"\", text)\n",
    "    text = ' '.join(text.split())\n",
    "    return text"
   ]
  },
  {
   "cell_type": "code",
   "execution_count": 15,
   "metadata": {},
   "outputs": [
    {
     "data": {
      "text/plain": [
       "0                                                                                                                                @united thanks\n",
       "1                                                                                   @united Thanks for taking care of that MR!! Happy customer.\n",
       "2      @united still no refund or word via DM. Please resolve this issue as your Cancelled Flightled flight was useless to my assistant's trip.\n",
       "3    @united Delayed due to lack of crew and now delayed again because there's a long line for deicing... Still need to improve service #united\n",
       "4                                                                      @united thanks we filled it out. How's our luck with this? Is it common?\n",
       "Name: text, dtype: object"
      ]
     },
     "execution_count": 15,
     "metadata": {},
     "output_type": "execute_result"
    }
   ],
   "source": [
    "# Remove non-essential punctuation from the tweets\n",
    "pd.options.display.max_colwidth = 200\n",
    "tweets['text'] = tweets['text'].map(lambda x: text_cleaner(str(x)))\n",
    "tweets['text'].head()"
   ]
  },
  {
   "cell_type": "code",
   "execution_count": 16,
   "metadata": {},
   "outputs": [],
   "source": [
    "# Reduce all text to their lemmas\n",
    "lemmatizer = WordNetLemmatizer()\n",
    "\n",
    "for tweet in tweets['text']:\n",
    "    tweet = lemmatizer.lemmatize(tweet)"
   ]
  },
  {
   "cell_type": "markdown",
   "metadata": {},
   "source": [
    "Now, the last part before modelling, converting the sentiment from text to numbers. Computers don’t really like working with characters, so we have to remap these values before continuing."
   ]
  },
  {
   "cell_type": "code",
   "execution_count": 17,
   "metadata": {},
   "outputs": [],
   "source": [
    "# Modify values of sentiment to numerical values\n",
    "sentiment = {'negative': -1, 'neutral': 0, 'positive': 1}\n",
    "tweets['airline_sentiment'] = tweets['airline_sentiment'].map(lambda x: sentiment[x])"
   ]
  },
  {
   "cell_type": "markdown",
   "metadata": {},
   "source": [
    "# Natural Lanuage Processing\n",
    "\n",
    "Now that we’ve reached the end of the course, it’s time to pull out all the stops for natural language processing. We’ll be trying out a few methods and combine them to generate the most useful factors for sentiment analysis prediction. We’ll try a few simpler methods like extracting the types of words used in each tweet using spacy, looking at the characteristics of each tweet, and finally extracting the most useful words in the dataset using tf-idf vectorization."
   ]
  },
  {
   "cell_type": "code",
   "execution_count": 18,
   "metadata": {},
   "outputs": [],
   "source": [
    "# Identify our predictor (tweets) and outcome (sentiment) variable\n",
    "X = tweets['text']\n",
    "y = tweets['airline_sentiment']\n",
    "\n",
    "# Instantiating spaCy\n",
    "nlp = spacy.load('en')\n",
    "X_words = []\n",
    "\n",
    "# Create list of dataframes that we'll combine later\n",
    "nlp_methods = []"
   ]
  },
  {
   "cell_type": "code",
   "execution_count": 19,
   "metadata": {},
   "outputs": [],
   "source": [
    "# Count parts of speech\n",
    "\n",
    "for row in X:\n",
    "    row_doc = nlp(row)          # Processing each row for tokens\n",
    "    sent_len = len(row_doc)     # Calculating length of each sentence\n",
    "\n",
    "    advs = 0                    # Initializing counts of different parts of speech\n",
    "    verb = 0\n",
    "    noun = 0\n",
    "    adj = 0\n",
    "    \n",
    "    for token in row_doc:\n",
    "        # Identifying each part of speech and adding to counts\n",
    "        if token.pos_ == 'ADV':\n",
    "            advs +=1\n",
    "        elif token.pos_ == 'VERB':\n",
    "            verb +=1\n",
    "        elif token.pos_ == 'NOUN':\n",
    "            noun +=1\n",
    "        elif token.pos_ == 'ADJ':\n",
    "            adj +=1\n",
    "    # Creating a list of all features for each sentence\n",
    "    X_words.append([row_doc, advs, verb, noun, adj, sent_len])\n",
    "\n",
    "# Create dataframe with count of adverbs, verbs, nouns, and adjectives\n",
    "X_count = pd.DataFrame(data=X_words, columns=['BOW', 'ADV', 'VERB', 'NOUN', 'ADJ', 'sent_length'])\n",
    "\n",
    "# Change token count to token percentage\n",
    "for column in X_count.columns[1:5]:\n",
    "    X_count[column] = X_count[column] / X_count['sent_length']\n",
    "\n",
    "# Normalize X_count\n",
    "X_counter = normalize(X_count.drop('BOW',axis=1))\n",
    "X_counter  = pd.DataFrame(data=X_counter)\n",
    "\n",
    "nlp_methods.append(X_counter)"
   ]
  },
  {
   "cell_type": "code",
   "execution_count": 20,
   "metadata": {},
   "outputs": [],
   "source": [
    "# Track tweet composition\n",
    "\n",
    "# Create new dataframe to track tweet characteristics\n",
    "tweet_characteristics = pd.DataFrame()\n",
    "\n",
    "# Track characteristics of each tweet\n",
    "tweet_characteristics['word_count'] = tweets['text'].apply(lambda x: len(str(x).split(\" \")))\n",
    "tweet_characteristics['char_count'] = tweets['text'].str.len()\n",
    "tweet_characteristics['stop_count'] = tweets['text'].apply(lambda x: len([x for x in x.split() if x in stopwords.words('english')]))\n",
    "tweet_characteristics['special_count'] = tweets['text'].apply(lambda x: len([x for x in x.split() if x.startswith('#')]))\n",
    "\n",
    "# Preview the tweet characteristics\n",
    "tweet_characteristics.head()\n",
    "\n",
    "nlp_methods.append(tweet_characteristics)"
   ]
  },
  {
   "cell_type": "markdown",
   "metadata": {},
   "source": [
    "### Tf-idf Vectorization\n",
    "The first types of features that we are going to add are the most useful words in our dataset. Now how are we going to determine which words are deemed the most \"useful\"? With TF-IDF vectorizer, of course.\n",
    "\n",
    "TF tracks the term frequency, or how often each word appears in all articles of text, while idf (or Inverse Document Frequency) is a value that places less weight on variables that occur too often and lose their predictive power. Put together, it's a tool that allows us to assign an 'importance' value to each word in the entire dataset based on frequency in each row and throughout the database."
   ]
  },
  {
   "cell_type": "code",
   "execution_count": 21,
   "metadata": {},
   "outputs": [],
   "source": [
    "# Parameters for TF-idf vectorizer\n",
    "vectorizer = TfidfVectorizer(max_df=0.5,            # Throw out words that occur in over half of tweets\n",
    "                             min_df=3,              # Words need to apper at least 3 times to count\n",
    "                             max_features=1200,       \n",
    "                             stop_words='english',  # Ignore stop words\n",
    "                             lowercase=True,        # Ignore case\n",
    "                             use_idf=True,          # Penalize frequent words\n",
    "                             norm=u'l2',\n",
    "                             smooth_idf=True        # Add 1 to df in case we have to divide by 0\n",
    "                            )\n",
    "\n",
    "#Applying the vectorizer\n",
    "X_tfidf=vectorizer.fit_transform(X)\n",
    "\n",
    "#splitting into training and test sets\n",
    "X_train_tfidf, X_test_tfidf, y_train_tfidf, y_test_tfidf = train_test_split(X_tfidf, y, test_size=0.25, random_state=42)\n",
    "\n",
    "#Removes all zeros from the matrix\n",
    "X_train_tfidf_csr = X_train_tfidf.tocsr()\n",
    "\n",
    "#number of paragraphs\n",
    "n = X_train_tfidf_csr.shape[0]\n",
    "\n",
    "#A list of dictionaries, one per paragraph\n",
    "tfidf_bypara = [{} for _ in range(0,n)]\n",
    "\n",
    "#List of features\n",
    "terms = vectorizer.get_feature_names()\n",
    "\n",
    "#for each paragraph, lists the feature words and their tf-idf scores\n",
    "for i, j in zip(*X_train_tfidf_csr.nonzero()):\n",
    "    tfidf_bypara[i][terms[j]] = X_train_tfidf_csr[i, j]\n",
    "\n",
    "# Normalize the dataset    \n",
    "X_norm = normalize(X_train_tfidf)\n",
    "\n",
    "# Convert from tf-idf matrix to dataframe\n",
    "X_normal  = pd.DataFrame(data=X_norm.toarray())\n",
    "\n",
    "# Append tf-idf vectorizer to our list of nlp methods\n",
    "nlp_methods.append(X_normal)"
   ]
  },
  {
   "cell_type": "code",
   "execution_count": 22,
   "metadata": {},
   "outputs": [],
   "source": [
    "## Creating tf-idf matrix\n",
    "synopsis_tfidf = vectorizer.fit_transform(tweets['text'])\n",
    "\n",
    "# Getting the word list.\n",
    "terms = vectorizer.get_feature_names()\n",
    "\n",
    "# Linking words to topics\n",
    "def word_topic(tfidf,solution, wordlist):\n",
    "    \n",
    "    # Loading scores for each word on each topic/component.\n",
    "    words_by_topic=tfidf.T * solution\n",
    "\n",
    "    # Linking the loadings to the words in an easy-to-read way.\n",
    "    components=pd.DataFrame(words_by_topic,index=wordlist)\n",
    "    \n",
    "    return components\n",
    "\n",
    "# Extracts the top N words and their loadings for each topic.\n",
    "def top_words(components, n_top_words):\n",
    "    n_topics = range(components.shape[1])\n",
    "    index= np.repeat(n_topics, n_top_words, axis=0)\n",
    "    topwords=pd.Series(index=index)\n",
    "    for column in range(components.shape[1]):\n",
    "        # Sort the column so that highest loadings are at the top.\n",
    "        sortedwords=components.iloc[:,column].sort_values(ascending=False)\n",
    "        # Choose the N highest loadings.\n",
    "        chosen=sortedwords[:n_top_words]\n",
    "        # Combine loading and index into a string.\n",
    "        chosenlist=chosen.index +\" \"+round(chosen,2).map(str) \n",
    "        topwords.loc[column]=chosenlist\n",
    "    return(topwords)\n",
    "\n",
    "# Number of words to look at for each topic.\n",
    "n_top_words = 200\n",
    "\n",
    "# Number of possible outcomes (3 = positive, neutral, negative)\n",
    "ntopics = tweets['airline_sentiment'].nunique()"
   ]
  },
  {
   "cell_type": "code",
   "execution_count": 23,
   "metadata": {},
   "outputs": [],
   "source": [
    "# Parameters for LSA\n",
    "svd= TruncatedSVD(ntopics)\n",
    "lsa = make_pipeline(svd, Normalizer(copy=False))\n",
    "\n",
    "# Time and run LSA model\n",
    "start_time = timeit.default_timer()\n",
    "synopsis_lsa = lsa.fit_transform(synopsis_tfidf)\n",
    "elapsed_lsa = timeit.default_timer() - start_time\n",
    "\n",
    "# Extract most common words for LSA\n",
    "components_lsa = word_topic(synopsis_tfidf, synopsis_lsa, terms)\n",
    "topwords=pd.DataFrame()\n",
    "topwords['LSA']=top_words(components_lsa, n_top_words)"
   ]
  },
  {
   "cell_type": "code",
   "execution_count": 24,
   "metadata": {},
   "outputs": [],
   "source": [
    "# Parameters for NNMF\n",
    "nmf = NMF(alpha=0.0, \n",
    "          init='nndsvdar', # how starting value are calculated\n",
    "          l1_ratio=0.0, # Sets whether regularization is L2 (0), L1 (1), or a combination (values between 0 and 1)\n",
    "          max_iter=200, # when to stop even if the model is not converging (to prevent running forever)\n",
    "          n_components=ntopics, \n",
    "          random_state=0, \n",
    "          solver='cd', # Use Coordinate Descent to solve\n",
    "          tol=0.0001, # model will stop if tfidf-WH <= tol\n",
    "          verbose=0 # amount of output to give while iterating\n",
    "         )\n",
    "\n",
    "# Time and run NNMF model\n",
    "start_time = timeit.default_timer()\n",
    "synopsis_nmf = nmf.fit_transform(synopsis_tfidf)\n",
    "elapsed_nmf = timeit.default_timer() - start_time\n",
    "\n",
    "# Extract most common words for NNMF\n",
    "components_nmf = word_topic(synopsis_tfidf, synopsis_nmf, terms)\n",
    "topwords['NNMF']=top_words(components_nmf, n_top_words)"
   ]
  },
  {
   "cell_type": "code",
   "execution_count": 25,
   "metadata": {},
   "outputs": [
    {
     "name": "stdout",
     "output_type": "stream",
     "text": [
      "Top positive words: \n",
      "\n",
      "                     LSA                NNMF\n",
      "0         flight 873.59        flight 42.94\n",
      "0         united 809.93  southwestair 32.15\n",
      "0     americanair 778.4   americanair 29.01\n",
      "0      usairways 738.76        united 28.71\n",
      "0   southwestair 604.97     usairways 27.33\n",
      "0        jetblue 581.21     cancelled 18.55\n",
      "0  virginamerica 464.01        thanks 18.43\n",
      "0         thanks 456.69          help 11.53\n",
      "0           http 402.45     flightled 11.52\n",
      "0           just 331.39         thank 11.41 \n",
      "\n",
      "\n",
      "Top neutral words: \n",
      "\n",
      "               LSA           NNMF\n",
      "1  jetblue 761.72  jetblue 83.49\n",
      "1      http 236.9      http 27.8\n",
      "1     fleek 121.8    fleek 16.96\n",
      "1    fleet 117.11    fleet 16.43\n",
      "1         rt 50.4    thank 11.49\n",
      "1        jfk 27.2   thanks 10.65\n",
      "1      blue 21.16    flight 9.18\n",
      "1      love 17.48        rt 5.97\n",
      "1       ceo 15.52      just 4.92\n",
      "1       wall 13.8      like 4.07 \n",
      "\n",
      "\n",
      "Top negative words: \n",
      "\n",
      "                      LSA                 NNMF\n",
      "2   virginamerica 719.71  virginamerica 77.97\n",
      "2            http 173.61           http 25.55\n",
      "2          website 55.79         flight 12.49\n",
      "2           virgin 54.21         thanks 11.71\n",
      "2              sfo 51.97         flights 7.14\n",
      "2           united 51.84          flying 6.09\n",
      "2             site 50.23            love 6.08\n",
      "2  carrieunderwood 45.85         airline 5.89\n",
      "2         ladygaga 42.72            site 5.72\n",
      "2             seat 37.44            great 5.3\n"
     ]
    }
   ],
   "source": [
    "# View top words identified by LSA and NNMF\n",
    "print('Top positive words: \\n\\n', topwords[:10], '\\n\\n')\n",
    "print('Top neutral words: \\n\\n', topwords[200:210], '\\n\\n')\n",
    "print('Top negative words: \\n\\n', topwords[400:410])"
   ]
  },
  {
   "cell_type": "code",
   "execution_count": 26,
   "metadata": {},
   "outputs": [
    {
     "name": "stderr",
     "output_type": "stream",
     "text": [
      "C:\\Users\\mhuh22\\Anaconda3\\lib\\site-packages\\pandas\\core\\indexes\\range.py:465: RuntimeWarning:\n",
      "\n",
      "'<' not supported between instances of 'int' and 'str', sort order is undefined for incomparable objects\n",
      "\n"
     ]
    },
    {
     "data": {
      "text/html": [
       "<div>\n",
       "<style scoped>\n",
       "    .dataframe tbody tr th:only-of-type {\n",
       "        vertical-align: middle;\n",
       "    }\n",
       "\n",
       "    .dataframe tbody tr th {\n",
       "        vertical-align: top;\n",
       "    }\n",
       "\n",
       "    .dataframe thead th {\n",
       "        text-align: right;\n",
       "    }\n",
       "</style>\n",
       "<table border=\"1\" class=\"dataframe\">\n",
       "  <thead>\n",
       "    <tr style=\"text-align: right;\">\n",
       "      <th></th>\n",
       "      <th>0</th>\n",
       "      <th>1</th>\n",
       "      <th>2</th>\n",
       "      <th>3</th>\n",
       "      <th>4</th>\n",
       "      <th>word_count</th>\n",
       "      <th>char_count</th>\n",
       "      <th>stop_count</th>\n",
       "      <th>special_count</th>\n",
       "      <th>5</th>\n",
       "      <th>...</th>\n",
       "      <th>1190</th>\n",
       "      <th>1191</th>\n",
       "      <th>1192</th>\n",
       "      <th>1193</th>\n",
       "      <th>1194</th>\n",
       "      <th>1195</th>\n",
       "      <th>1196</th>\n",
       "      <th>1197</th>\n",
       "      <th>1198</th>\n",
       "      <th>1199</th>\n",
       "    </tr>\n",
       "  </thead>\n",
       "  <tbody>\n",
       "    <tr>\n",
       "      <th>0</th>\n",
       "      <td>0.000000</td>\n",
       "      <td>0.000000</td>\n",
       "      <td>0.235702</td>\n",
       "      <td>0.235702</td>\n",
       "      <td>0.942809</td>\n",
       "      <td>NaN</td>\n",
       "      <td>NaN</td>\n",
       "      <td>NaN</td>\n",
       "      <td>NaN</td>\n",
       "      <td>NaN</td>\n",
       "      <td>...</td>\n",
       "      <td>NaN</td>\n",
       "      <td>NaN</td>\n",
       "      <td>NaN</td>\n",
       "      <td>NaN</td>\n",
       "      <td>NaN</td>\n",
       "      <td>NaN</td>\n",
       "      <td>NaN</td>\n",
       "      <td>NaN</td>\n",
       "      <td>NaN</td>\n",
       "      <td>NaN</td>\n",
       "    </tr>\n",
       "    <tr>\n",
       "      <th>1</th>\n",
       "      <td>0.000000</td>\n",
       "      <td>0.011831</td>\n",
       "      <td>0.017747</td>\n",
       "      <td>0.005916</td>\n",
       "      <td>0.999755</td>\n",
       "      <td>NaN</td>\n",
       "      <td>NaN</td>\n",
       "      <td>NaN</td>\n",
       "      <td>NaN</td>\n",
       "      <td>NaN</td>\n",
       "      <td>...</td>\n",
       "      <td>NaN</td>\n",
       "      <td>NaN</td>\n",
       "      <td>NaN</td>\n",
       "      <td>NaN</td>\n",
       "      <td>NaN</td>\n",
       "      <td>NaN</td>\n",
       "      <td>NaN</td>\n",
       "      <td>NaN</td>\n",
       "      <td>NaN</td>\n",
       "      <td>NaN</td>\n",
       "    </tr>\n",
       "    <tr>\n",
       "      <th>2</th>\n",
       "      <td>0.001479</td>\n",
       "      <td>0.005917</td>\n",
       "      <td>0.010354</td>\n",
       "      <td>0.004438</td>\n",
       "      <td>0.999918</td>\n",
       "      <td>NaN</td>\n",
       "      <td>NaN</td>\n",
       "      <td>NaN</td>\n",
       "      <td>NaN</td>\n",
       "      <td>NaN</td>\n",
       "      <td>...</td>\n",
       "      <td>NaN</td>\n",
       "      <td>NaN</td>\n",
       "      <td>NaN</td>\n",
       "      <td>NaN</td>\n",
       "      <td>NaN</td>\n",
       "      <td>NaN</td>\n",
       "      <td>NaN</td>\n",
       "      <td>NaN</td>\n",
       "      <td>NaN</td>\n",
       "      <td>NaN</td>\n",
       "    </tr>\n",
       "    <tr>\n",
       "      <th>3</th>\n",
       "      <td>0.005486</td>\n",
       "      <td>0.009601</td>\n",
       "      <td>0.006858</td>\n",
       "      <td>0.001372</td>\n",
       "      <td>0.999914</td>\n",
       "      <td>NaN</td>\n",
       "      <td>NaN</td>\n",
       "      <td>NaN</td>\n",
       "      <td>NaN</td>\n",
       "      <td>NaN</td>\n",
       "      <td>...</td>\n",
       "      <td>NaN</td>\n",
       "      <td>NaN</td>\n",
       "      <td>NaN</td>\n",
       "      <td>NaN</td>\n",
       "      <td>NaN</td>\n",
       "      <td>NaN</td>\n",
       "      <td>NaN</td>\n",
       "      <td>NaN</td>\n",
       "      <td>NaN</td>\n",
       "      <td>NaN</td>\n",
       "    </tr>\n",
       "    <tr>\n",
       "      <th>4</th>\n",
       "      <td>0.003086</td>\n",
       "      <td>0.009258</td>\n",
       "      <td>0.006172</td>\n",
       "      <td>0.009258</td>\n",
       "      <td>0.999890</td>\n",
       "      <td>NaN</td>\n",
       "      <td>NaN</td>\n",
       "      <td>NaN</td>\n",
       "      <td>NaN</td>\n",
       "      <td>NaN</td>\n",
       "      <td>...</td>\n",
       "      <td>NaN</td>\n",
       "      <td>NaN</td>\n",
       "      <td>NaN</td>\n",
       "      <td>NaN</td>\n",
       "      <td>NaN</td>\n",
       "      <td>NaN</td>\n",
       "      <td>NaN</td>\n",
       "      <td>NaN</td>\n",
       "      <td>NaN</td>\n",
       "      <td>NaN</td>\n",
       "    </tr>\n",
       "  </tbody>\n",
       "</table>\n",
       "<p>5 rows × 1204 columns</p>\n",
       "</div>"
      ],
      "text/plain": [
       "          0         1         2         3         4  word_count  char_count  \\\n",
       "0  0.000000  0.000000  0.235702  0.235702  0.942809         NaN         NaN   \n",
       "1  0.000000  0.011831  0.017747  0.005916  0.999755         NaN         NaN   \n",
       "2  0.001479  0.005917  0.010354  0.004438  0.999918         NaN         NaN   \n",
       "3  0.005486  0.009601  0.006858  0.001372  0.999914         NaN         NaN   \n",
       "4  0.003086  0.009258  0.006172  0.009258  0.999890         NaN         NaN   \n",
       "\n",
       "   stop_count  special_count   5  ...   1190  1191  1192  1193  1194  1195  \\\n",
       "0         NaN            NaN NaN  ...    NaN   NaN   NaN   NaN   NaN   NaN   \n",
       "1         NaN            NaN NaN  ...    NaN   NaN   NaN   NaN   NaN   NaN   \n",
       "2         NaN            NaN NaN  ...    NaN   NaN   NaN   NaN   NaN   NaN   \n",
       "3         NaN            NaN NaN  ...    NaN   NaN   NaN   NaN   NaN   NaN   \n",
       "4         NaN            NaN NaN  ...    NaN   NaN   NaN   NaN   NaN   NaN   \n",
       "\n",
       "   1196  1197  1198  1199  \n",
       "0   NaN   NaN   NaN   NaN  \n",
       "1   NaN   NaN   NaN   NaN  \n",
       "2   NaN   NaN   NaN   NaN  \n",
       "3   NaN   NaN   NaN   NaN  \n",
       "4   NaN   NaN   NaN   NaN  \n",
       "\n",
       "[5 rows x 1204 columns]"
      ]
     },
     "execution_count": 26,
     "metadata": {},
     "output_type": "execute_result"
    }
   ],
   "source": [
    "# Create final training dataset\n",
    "X_train = pd.concat(nlp_methods)\n",
    "\n",
    "# Review the data that we are placing into our models\n",
    "X_train.head()"
   ]
  },
  {
   "cell_type": "code",
   "execution_count": 27,
   "metadata": {},
   "outputs": [
    {
     "data": {
      "image/png": "[encoded data removed]",
      "text/plain": [
       "<Figure size 864x864 with 1 Axes>"
      ]
     },
     "metadata": {
      "needs_background": "light"
     },
     "output_type": "display_data"
    }
   ],
   "source": [
    "# Generates a wordcloud of the most common words in negative tweets\n",
    "df=tweets[tweets['airline_sentiment']==-1]\n",
    "words = ' '.join(df['text'])\n",
    "cleaned_word = \" \".join([word for word in words.split()\n",
    "                            if 'http' not in word\n",
    "                                and not word.startswith('@')\n",
    "                                and word != 'RT'\n",
    "                            ])\n",
    "\n",
    "wordcloud = WordCloud(stopwords=STOPWORDS,\n",
    "                      background_color='black',\n",
    "                      max_words = 100\n",
    "                     ).generate(cleaned_word)\n",
    "\n",
    "plt.figure(1,figsize=(12, 12))\n",
    "plt.imshow(wordcloud)\n",
    "plt.axis('off')\n",
    "plt.show()"
   ]
  },
  {
   "cell_type": "markdown",
   "metadata": {},
   "source": [
    "# Modelling Phase\n",
    "\n",
    "So, the tweets have been parsed and prepared for our models. We're trying to determine if it's possible to predict sentiment (a binary variable) so that means that we will require some classification models. As for which models to test, we will be using \n",
    "* Logistic Regression\n",
    "* Random Forest Ensemble\n",
    "* Gradient Boosting Ensemble\n",
    "* Neural Networks\n",
    "\n",
    "These four models differ fundamentally in how they operate, and range from least to most complex, meaning that logistic regression will almost always take the least amount of time, but the latter three will likely be more accurate."
   ]
  },
  {
   "cell_type": "code",
   "execution_count": 28,
   "metadata": {},
   "outputs": [],
   "source": [
    "# Create dataframe to track runtime and scores\n",
    "models = ['Logistic regression' , 'Random forest', 'Gradient Boosting', 'Neural Networks']\n",
    "runtime = []\n",
    "train_score = []\n",
    "test_score = []"
   ]
  },
  {
   "cell_type": "code",
   "execution_count": 29,
   "metadata": {},
   "outputs": [],
   "source": [
    "def run_model(model):\n",
    "    \n",
    "    # Train the model\n",
    "    train_set = cross_val_score(model, X_train_tfidf, y_train_tfidf, cv=5, n_jobs=-1)\n",
    "    \n",
    "    # Test and time the model\n",
    "    start_time = timeit.default_timer()\n",
    "    test_set = cross_val_score(model, X_test_tfidf, y_test_tfidf, cv=5, n_jobs=-1)\n",
    "    elapsed_time = timeit.default_timer() - start_time\n",
    "    \n",
    "    # Append the scores and runtime to our dataframe\n",
    "    train_score.append(train_set.mean())\n",
    "    test_score.append(test_set.mean())\n",
    "    runtime.append(elapsed_time)\n",
    "    \n",
    "    # Fit the model to the data\n",
    "    model.fit(X_train_tfidf, y_train_tfidf)\n",
    "    \n",
    "    # Store the predicted values in a dataframe\n",
    "    y_pred = model.predict(X_test_tfidf)\n",
    "    \n",
    "    # Print scores and runtime\n",
    "    print(str(model), '\\n\\nTrain score: {:.5f}(+/- {:.2f})\\n'.format(train_set.mean(), train_set.std()*2))\n",
    "    print('Test score: {:.5f}(+/- {:.2f})\\n'.format(test_set.mean(), test_set.std()*2))\n",
    "    print('Runtime:', elapsed_time, 'seconds\\n')\n",
    "    \n",
    "    # Generate and print the confusion matrix\n",
    "    print('Confusion matrix:\\n\\n', confusion_matrix(y_test_tfidf, y_pred))\n",
    "    \n",
    "    # Print the model's statisitcs\n",
    "    print('\\nClassification Report:\\n\\n' + classification_report(y_test_tfidf, y_pred))"
   ]
  },
  {
   "cell_type": "code",
   "execution_count": 30,
   "metadata": {},
   "outputs": [
    {
     "name": "stdout",
     "output_type": "stream",
     "text": [
      "LogisticRegression(C=1.0, class_weight=None, dual=False, fit_intercept=True,\n",
      "          intercept_scaling=1, max_iter=100, multi_class='multinomial',\n",
      "          n_jobs=1, penalty='l2', random_state=None, solver='lbfgs',\n",
      "          tol=0.0001, verbose=0, warm_start=False) \n",
      "\n",
      "Train score: 0.81545(+/- 0.01)\n",
      "\n",
      "Test score: 0.77744(+/- 0.04)\n",
      "\n",
      "Runtime: 6.740068185000041 seconds\n",
      "\n",
      "Confusion matrix:\n",
      "\n",
      " [[3109  188   53]\n",
      " [ 426  820  100]\n",
      " [ 148  132  757]]\n",
      "\n",
      "Classification Report:\n",
      "\n",
      "             precision    recall  f1-score   support\n",
      "\n",
      "         -1       0.84      0.93      0.88      3350\n",
      "          0       0.72      0.61      0.66      1346\n",
      "          1       0.83      0.73      0.78      1037\n",
      "\n",
      "avg / total       0.81      0.82      0.81      5733\n",
      "\n"
     ]
    }
   ],
   "source": [
    "# Logistic regression model\n",
    "lr = LogisticRegression(solver='lbfgs', multi_class='multinomial')\n",
    "run_model(lr)"
   ]
  },
  {
   "cell_type": "code",
   "execution_count": 31,
   "metadata": {},
   "outputs": [
    {
     "name": "stdout",
     "output_type": "stream",
     "text": [
      "RandomForestClassifier(bootstrap=True, class_weight='balanced',\n",
      "            criterion='gini', max_depth=None, max_features='auto',\n",
      "            max_leaf_nodes=None, min_impurity_decrease=0.0,\n",
      "            min_impurity_split=None, min_samples_leaf=1,\n",
      "            min_samples_split=2, min_weight_fraction_leaf=0.0,\n",
      "            n_estimators=60, n_jobs=1, oob_score=True, random_state=None,\n",
      "            verbose=0, warm_start=False) \n",
      "\n",
      "Train score: 0.88371(+/- 0.01)\n",
      "\n",
      "Test score: 0.80151(+/- 0.03)\n",
      "\n",
      "Runtime: 13.840950098999997 seconds\n",
      "\n",
      "Confusion matrix:\n",
      "\n",
      " [[3197  111   42]\n",
      " [ 276 1015   55]\n",
      " [ 104   45  888]]\n",
      "\n",
      "Classification Report:\n",
      "\n",
      "             precision    recall  f1-score   support\n",
      "\n",
      "         -1       0.89      0.95      0.92      3350\n",
      "          0       0.87      0.75      0.81      1346\n",
      "          1       0.90      0.86      0.88      1037\n",
      "\n",
      "avg / total       0.89      0.89      0.89      5733\n",
      "\n"
     ]
    }
   ],
   "source": [
    "# Setting up grid search to return the best results for the random forest model\n",
    "rfc = ensemble.RandomForestClassifier(n_jobs=-1)\n",
    "param_grid = {'n_estimators' : [10, 20, 40, 60],\n",
    "              'class_weight': ['balanced', 'balanced_subsample'],\n",
    "             'oob_score': [True, False]}\n",
    "\n",
    "# Run grid search to find ideal parameters\n",
    "rfc_grid = GridSearchCV(rfc, param_grid, cv=5, n_jobs=-1)\n",
    "\n",
    "# Fit the model to the data\n",
    "rfc_grid.fit(X_train_tfidf, y_train_tfidf)\n",
    "\n",
    "# Run the model with the best parameters\n",
    "rfc_2 = ensemble.RandomForestClassifier(**rfc_grid.best_params_)\n",
    "run_model(rfc_2)"
   ]
  },
  {
   "cell_type": "code",
   "execution_count": 32,
   "metadata": {},
   "outputs": [
    {
     "name": "stdout",
     "output_type": "stream",
     "text": [
      "GradientBoostingClassifier(criterion='friedman_mse', init=None,\n",
      "              learning_rate=0.1, loss='deviance', max_depth=3,\n",
      "              max_features=None, max_leaf_nodes=None,\n",
      "              min_impurity_decrease=0.0, min_impurity_split=None,\n",
      "              min_samples_leaf=1, min_samples_split=2,\n",
      "              min_weight_fraction_leaf=0.0, n_estimators=100,\n",
      "              presort='auto', random_state=None, subsample=1.0, verbose=0,\n",
      "              warm_start=False) \n",
      "\n",
      "Train score: 0.75097(+/- 0.00)\n",
      "\n",
      "Test score: 0.73697(+/- 0.02)\n",
      "\n",
      "Runtime: 18.9464754789999 seconds\n",
      "\n",
      "Confusion matrix:\n",
      "\n",
      " [[3200   86   64]\n",
      " [ 765  495   86]\n",
      " [ 345   97  595]]\n",
      "\n",
      "Classification Report:\n",
      "\n",
      "             precision    recall  f1-score   support\n",
      "\n",
      "         -1       0.74      0.96      0.84      3350\n",
      "          0       0.73      0.37      0.49      1346\n",
      "          1       0.80      0.57      0.67      1037\n",
      "\n",
      "avg / total       0.75      0.75      0.72      5733\n",
      "\n"
     ]
    }
   ],
   "source": [
    "# Gradient Boosting Model\n",
    "gbc = ensemble.GradientBoostingClassifier()\n",
    "run_model(gbc)"
   ]
  },
  {
   "cell_type": "code",
   "execution_count": 33,
   "metadata": {},
   "outputs": [
    {
     "name": "stdout",
     "output_type": "stream",
     "text": [
      "MLPClassifier(activation='relu', alpha=0.0001, batch_size='auto', beta_1=0.9,\n",
      "       beta_2=0.999, early_stopping=False, epsilon=1e-08,\n",
      "       hidden_layer_sizes=(100, 10), learning_rate='constant',\n",
      "       learning_rate_init=0.001, max_iter=200, momentum=0.9,\n",
      "       nesterovs_momentum=True, power_t=0.5, random_state=None,\n",
      "       shuffle=True, solver='adam', tol=0.0001, validation_fraction=0.1,\n",
      "       verbose=False, warm_start=False) \n",
      "\n",
      "Train score: 0.87767(+/- 0.01)\n",
      "\n",
      "Test score: 0.79157(+/- 0.04)\n",
      "\n",
      "Runtime: 41.84777624599997 seconds\n",
      "\n",
      "Confusion matrix:\n",
      "\n",
      " [[3140  146   64]\n",
      " [ 184 1098   64]\n",
      " [  72   59  906]]\n",
      "\n",
      "Classification Report:\n",
      "\n",
      "             precision    recall  f1-score   support\n",
      "\n",
      "         -1       0.92      0.94      0.93      3350\n",
      "          0       0.84      0.82      0.83      1346\n",
      "          1       0.88      0.87      0.87      1037\n",
      "\n",
      "avg / total       0.90      0.90      0.90      5733\n",
      "\n"
     ]
    }
   ],
   "source": [
    "# Neural Network Model\n",
    "mlp = MLPClassifier(hidden_layer_sizes=(100,10))\n",
    "run_model(mlp)"
   ]
  },
  {
   "cell_type": "code",
   "execution_count": 37,
   "metadata": {},
   "outputs": [
    {
     "name": "stdout",
     "output_type": "stream",
     "text": [
      "Scores: \n",
      "                  Model  Train_score  Test_score    Runtime\n",
      "0  Logistic regression     0.815455    0.777441   6.740068\n",
      "1        Random forest     0.883714    0.801509  13.840950\n",
      "2    Gradient Boosting     0.750975    0.736968  18.946475\n",
      "3      Neural Networks     0.877668    0.791568  41.847776 \n",
      "\n"
     ]
    }
   ],
   "source": [
    "# Create dataframes for the models and the scores\n",
    "results = pd.DataFrame({'Model': models,\n",
    "                        'Train_score': train_score,\n",
    "                        'Test_score': test_score,\n",
    "                        'Runtime': runtime})\n",
    "\n",
    "# Print out the results\n",
    "print('Scores: \\n', results, '\\n')"
   ]
  },
  {
   "cell_type": "code",
   "execution_count": 39,
   "metadata": {},
   "outputs": [
    {
     "data": {
      "application/vnd.plotly.v1+json": {
       "data": [
        {
         "name": "Test Score",
         "type": "bar",
         "uid": "2b6795c2-c0ec-4edf-b500-18056e82c0d5",
         "x": [
          "Logistic regression",
          "Random forest",
          "Gradient Boosting",
          "Neural Networks"
         ],
         "y": [
          0.777441036713119,
          0.8015092964969591,
          0.7369683481532172,
          0.7915677301756616
         ]
        },
        {
         "name": "Runtime",
         "type": "bar",
         "uid": "4c10d3be-fbdb-4bd4-9b24-94d2159cf13c",
         "x": [
          "Logistic regression",
          "Random forest",
          "Gradient Boosting",
          "Neural Networks"
         ],
         "y": [
          6.740068185000041,
          13.840950098999997,
          18.9464754789999,
          41.84777624599997
         ]
        }
       ],
       "layout": {
        "barmode": "group",
        "title": "Results"
       }
      },
      "text/html": [
       "<div id=\"95bbd9ae-9e42-4f2e-bd32-dbea9497050c\" style=\"height: 525px; width: 100%;\" class=\"plotly-graph-div\"></div><script type=\"text/javascript\">require([\"plotly\"], function(Plotly) { window.PLOTLYENV=window.PLOTLYENV || {};window.PLOTLYENV.BASE_URL=\"https://plot.ly\";Plotly.newPlot(\"95bbd9ae-9e42-4f2e-bd32-dbea9497050c\", [{\"name\": \"Test Score\", \"x\": [\"Logistic regression\", \"Random forest\", \"Gradient Boosting\", \"Neural Networks\"], \"y\": [0.777441036713119, 0.8015092964969591, 0.7369683481532172, 0.7915677301756616], \"type\": \"bar\", \"uid\": \"2b6795c2-c0ec-4edf-b500-18056e82c0d5\"}, {\"name\": \"Runtime\", \"x\": [\"Logistic regression\", \"Random forest\", \"Gradient Boosting\", \"Neural Networks\"], \"y\": [6.740068185000041, 13.840950098999997, 18.9464754789999, 41.84777624599997], \"type\": \"bar\", \"uid\": \"4c10d3be-fbdb-4bd4-9b24-94d2159cf13c\"}], {\"barmode\": \"group\", \"title\": \"Results\"}, {\"showLink\": true, \"linkText\": \"Export to plot.ly\"})});</script><script type=\"text/javascript\">window.addEventListener(\"resize\", function(){window._Plotly.Plots.resize(document.getElementById(\"95bbd9ae-9e42-4f2e-bd32-dbea9497050c\"));});</script>"
      ],
      "text/vnd.plotly.v1+html": [
       "<div id=\"95bbd9ae-9e42-4f2e-bd32-dbea9497050c\" style=\"height: 525px; width: 100%;\" class=\"plotly-graph-div\"></div><script type=\"text/javascript\">require([\"plotly\"], function(Plotly) { window.PLOTLYENV=window.PLOTLYENV || {};window.PLOTLYENV.BASE_URL=\"https://plot.ly\";Plotly.newPlot(\"95bbd9ae-9e42-4f2e-bd32-dbea9497050c\", [{\"name\": \"Test Score\", \"x\": [\"Logistic regression\", \"Random forest\", \"Gradient Boosting\", \"Neural Networks\"], \"y\": [0.777441036713119, 0.8015092964969591, 0.7369683481532172, 0.7915677301756616], \"type\": \"bar\", \"uid\": \"2b6795c2-c0ec-4edf-b500-18056e82c0d5\"}, {\"name\": \"Runtime\", \"x\": [\"Logistic regression\", \"Random forest\", \"Gradient Boosting\", \"Neural Networks\"], \"y\": [6.740068185000041, 13.840950098999997, 18.9464754789999, 41.84777624599997], \"type\": \"bar\", \"uid\": \"4c10d3be-fbdb-4bd4-9b24-94d2159cf13c\"}], {\"barmode\": \"group\", \"title\": \"Results\"}, {\"showLink\": true, \"linkText\": \"Export to plot.ly\"})});</script><script type=\"text/javascript\">window.addEventListener(\"resize\", function(){window._Plotly.Plots.resize(document.getElementById(\"95bbd9ae-9e42-4f2e-bd32-dbea9497050c\"));});</script>"
      ]
     },
     "metadata": {},
     "output_type": "display_data"
    }
   ],
   "source": [
    "# (Heavily consider separating the two later)\n",
    "\n",
    "trace1 = go.Bar(\n",
    "    x = results.Model,\n",
    "    y = results.Test_score,\n",
    "    name = 'Test Score'\n",
    ")\n",
    "\n",
    "trace2 = go.Bar(\n",
    "    x = results.Model,\n",
    "    y = results.Runtime,\n",
    "    name = 'Runtime'\n",
    ")\n",
    "\n",
    "data = [trace1, trace2]\n",
    "layout = go.Layout(\n",
    "    title = 'Results',\n",
    "    barmode = 'group'\n",
    ")\n",
    "\n",
    "fig = go.Figure(data=data, layout=layout)\n",
    "py.offline.iplot(fig, filename='stacked-bar')"
   ]
  },
  {
   "cell_type": "markdown",
   "metadata": {},
   "source": [
    "## Model Comparison\n",
    "\n",
    "So, after running all 4 types of models it seems as though logistic regression took the least time, but random forests fared almost as well due to parallelization and forgiving parameters, and is also the most accurate of the 4. While it was prone to overfitting, it still behaves well enough for the training set\n",
    "\n",
    "## Clustering\n",
    "\n",
    "Now, it's time to determine if we can identify any trends with our data through unsupervised machine learning. The way that we'll be doing that is through clustering, to determine if there are groups of tweet with a similar tf-idf score"
   ]
  },
  {
   "cell_type": "code",
   "execution_count": 40,
   "metadata": {},
   "outputs": [
    {
     "ename": "ValueError",
     "evalue": "Input contains NaN, infinity or a value too large for dtype('float64').",
     "output_type": "error",
     "traceback": [
      "\u001b[1;31m---------------------------------------------------------------------------\u001b[0m",
      "\u001b[1;31mValueError\u001b[0m                                Traceback (most recent call last)",
      "\u001b[1;32m<ipython-input-40-8c4b03e2505a>\u001b[0m in \u001b[0;36m<module>\u001b[1;34m()\u001b[0m\n\u001b[0;32m      6\u001b[0m \u001b[0mK\u001b[0m \u001b[1;33m=\u001b[0m \u001b[0mrange\u001b[0m\u001b[1;33m(\u001b[0m\u001b[1;36m1\u001b[0m\u001b[1;33m,\u001b[0m\u001b[1;36m10\u001b[0m\u001b[1;33m)\u001b[0m\u001b[1;33m\u001b[0m\u001b[0m\n\u001b[0;32m      7\u001b[0m \u001b[1;32mfor\u001b[0m \u001b[0mk\u001b[0m \u001b[1;32min\u001b[0m \u001b[0mK\u001b[0m\u001b[1;33m:\u001b[0m\u001b[1;33m\u001b[0m\u001b[0m\n\u001b[1;32m----> 8\u001b[1;33m     \u001b[0mkmeanModel\u001b[0m \u001b[1;33m=\u001b[0m \u001b[0mKMeans\u001b[0m\u001b[1;33m(\u001b[0m\u001b[0mn_clusters\u001b[0m\u001b[1;33m=\u001b[0m\u001b[0mk\u001b[0m\u001b[1;33m)\u001b[0m\u001b[1;33m.\u001b[0m\u001b[0mfit\u001b[0m\u001b[1;33m(\u001b[0m\u001b[0mX_train\u001b[0m\u001b[1;33m)\u001b[0m\u001b[1;33m\u001b[0m\u001b[0m\n\u001b[0m\u001b[0;32m      9\u001b[0m     \u001b[0mkmeanModel\u001b[0m\u001b[1;33m.\u001b[0m\u001b[0mfit\u001b[0m\u001b[1;33m(\u001b[0m\u001b[0mX_train\u001b[0m\u001b[1;33m)\u001b[0m\u001b[1;33m\u001b[0m\u001b[0m\n\u001b[0;32m     10\u001b[0m     \u001b[0mdistortions\u001b[0m\u001b[1;33m.\u001b[0m\u001b[0mappend\u001b[0m\u001b[1;33m(\u001b[0m\u001b[0msum\u001b[0m\u001b[1;33m(\u001b[0m\u001b[0mnp\u001b[0m\u001b[1;33m.\u001b[0m\u001b[0mmin\u001b[0m\u001b[1;33m(\u001b[0m\u001b[0mcdist\u001b[0m\u001b[1;33m(\u001b[0m\u001b[0mX_train\u001b[0m\u001b[1;33m,\u001b[0m \u001b[0mkmeanModel\u001b[0m\u001b[1;33m.\u001b[0m\u001b[0mcluster_centers_\u001b[0m\u001b[1;33m,\u001b[0m \u001b[1;34m'euclidean'\u001b[0m\u001b[1;33m)\u001b[0m\u001b[1;33m,\u001b[0m \u001b[0maxis\u001b[0m\u001b[1;33m=\u001b[0m\u001b[1;36m1\u001b[0m\u001b[1;33m)\u001b[0m\u001b[1;33m)\u001b[0m \u001b[1;33m/\u001b[0m \u001b[0mX_train_tfidf\u001b[0m\u001b[1;33m.\u001b[0m\u001b[0mshape\u001b[0m\u001b[1;33m[\u001b[0m\u001b[1;36m0\u001b[0m\u001b[1;33m]\u001b[0m\u001b[1;33m)\u001b[0m\u001b[1;33m\u001b[0m\u001b[0m\n",
      "\u001b[1;32m~\\Anaconda3\\lib\\site-packages\\sklearn\\cluster\\k_means_.py\u001b[0m in \u001b[0;36mfit\u001b[1;34m(self, X, y)\u001b[0m\n\u001b[0;32m    885\u001b[0m         \"\"\"\n\u001b[0;32m    886\u001b[0m         \u001b[0mrandom_state\u001b[0m \u001b[1;33m=\u001b[0m \u001b[0mcheck_random_state\u001b[0m\u001b[1;33m(\u001b[0m\u001b[0mself\u001b[0m\u001b[1;33m.\u001b[0m\u001b[0mrandom_state\u001b[0m\u001b[1;33m)\u001b[0m\u001b[1;33m\u001b[0m\u001b[0m\n\u001b[1;32m--> 887\u001b[1;33m         \u001b[0mX\u001b[0m \u001b[1;33m=\u001b[0m \u001b[0mself\u001b[0m\u001b[1;33m.\u001b[0m\u001b[0m_check_fit_data\u001b[0m\u001b[1;33m(\u001b[0m\u001b[0mX\u001b[0m\u001b[1;33m)\u001b[0m\u001b[1;33m\u001b[0m\u001b[0m\n\u001b[0m\u001b[0;32m    888\u001b[0m \u001b[1;33m\u001b[0m\u001b[0m\n\u001b[0;32m    889\u001b[0m         \u001b[0mself\u001b[0m\u001b[1;33m.\u001b[0m\u001b[0mcluster_centers_\u001b[0m\u001b[1;33m,\u001b[0m \u001b[0mself\u001b[0m\u001b[1;33m.\u001b[0m\u001b[0mlabels_\u001b[0m\u001b[1;33m,\u001b[0m \u001b[0mself\u001b[0m\u001b[1;33m.\u001b[0m\u001b[0minertia_\u001b[0m\u001b[1;33m,\u001b[0m \u001b[0mself\u001b[0m\u001b[1;33m.\u001b[0m\u001b[0mn_iter_\u001b[0m \u001b[1;33m=\u001b[0m\u001b[0;31m \u001b[0m\u001b[0;31m\\\u001b[0m\u001b[1;33m\u001b[0m\u001b[0m\n",
      "\u001b[1;32m~\\Anaconda3\\lib\\site-packages\\sklearn\\cluster\\k_means_.py\u001b[0m in \u001b[0;36m_check_fit_data\u001b[1;34m(self, X)\u001b[0m\n\u001b[0;32m    856\u001b[0m     \u001b[1;32mdef\u001b[0m \u001b[0m_check_fit_data\u001b[0m\u001b[1;33m(\u001b[0m\u001b[0mself\u001b[0m\u001b[1;33m,\u001b[0m \u001b[0mX\u001b[0m\u001b[1;33m)\u001b[0m\u001b[1;33m:\u001b[0m\u001b[1;33m\u001b[0m\u001b[0m\n\u001b[0;32m    857\u001b[0m         \u001b[1;34m\"\"\"Verify that the number of samples given is larger than k\"\"\"\u001b[0m\u001b[1;33m\u001b[0m\u001b[0m\n\u001b[1;32m--> 858\u001b[1;33m         \u001b[0mX\u001b[0m \u001b[1;33m=\u001b[0m \u001b[0mcheck_array\u001b[0m\u001b[1;33m(\u001b[0m\u001b[0mX\u001b[0m\u001b[1;33m,\u001b[0m \u001b[0maccept_sparse\u001b[0m\u001b[1;33m=\u001b[0m\u001b[1;34m'csr'\u001b[0m\u001b[1;33m,\u001b[0m \u001b[0mdtype\u001b[0m\u001b[1;33m=\u001b[0m\u001b[1;33m[\u001b[0m\u001b[0mnp\u001b[0m\u001b[1;33m.\u001b[0m\u001b[0mfloat64\u001b[0m\u001b[1;33m,\u001b[0m \u001b[0mnp\u001b[0m\u001b[1;33m.\u001b[0m\u001b[0mfloat32\u001b[0m\u001b[1;33m]\u001b[0m\u001b[1;33m)\u001b[0m\u001b[1;33m\u001b[0m\u001b[0m\n\u001b[0m\u001b[0;32m    859\u001b[0m         \u001b[1;32mif\u001b[0m \u001b[0mX\u001b[0m\u001b[1;33m.\u001b[0m\u001b[0mshape\u001b[0m\u001b[1;33m[\u001b[0m\u001b[1;36m0\u001b[0m\u001b[1;33m]\u001b[0m \u001b[1;33m<\u001b[0m \u001b[0mself\u001b[0m\u001b[1;33m.\u001b[0m\u001b[0mn_clusters\u001b[0m\u001b[1;33m:\u001b[0m\u001b[1;33m\u001b[0m\u001b[0m\n\u001b[0;32m    860\u001b[0m             raise ValueError(\"n_samples=%d should be >= n_clusters=%d\" % (\n",
      "\u001b[1;32m~\\Anaconda3\\lib\\site-packages\\sklearn\\utils\\validation.py\u001b[0m in \u001b[0;36mcheck_array\u001b[1;34m(array, accept_sparse, dtype, order, copy, force_all_finite, ensure_2d, allow_nd, ensure_min_samples, ensure_min_features, warn_on_dtype, estimator)\u001b[0m\n\u001b[0;32m    451\u001b[0m                              % (array.ndim, estimator_name))\n\u001b[0;32m    452\u001b[0m         \u001b[1;32mif\u001b[0m \u001b[0mforce_all_finite\u001b[0m\u001b[1;33m:\u001b[0m\u001b[1;33m\u001b[0m\u001b[0m\n\u001b[1;32m--> 453\u001b[1;33m             \u001b[0m_assert_all_finite\u001b[0m\u001b[1;33m(\u001b[0m\u001b[0marray\u001b[0m\u001b[1;33m)\u001b[0m\u001b[1;33m\u001b[0m\u001b[0m\n\u001b[0m\u001b[0;32m    454\u001b[0m \u001b[1;33m\u001b[0m\u001b[0m\n\u001b[0;32m    455\u001b[0m     \u001b[0mshape_repr\u001b[0m \u001b[1;33m=\u001b[0m \u001b[0m_shape_repr\u001b[0m\u001b[1;33m(\u001b[0m\u001b[0marray\u001b[0m\u001b[1;33m.\u001b[0m\u001b[0mshape\u001b[0m\u001b[1;33m)\u001b[0m\u001b[1;33m\u001b[0m\u001b[0m\n",
      "\u001b[1;32m~\\Anaconda3\\lib\\site-packages\\sklearn\\utils\\validation.py\u001b[0m in \u001b[0;36m_assert_all_finite\u001b[1;34m(X)\u001b[0m\n\u001b[0;32m     42\u001b[0m             and not np.isfinite(X).all()):\n\u001b[0;32m     43\u001b[0m         raise ValueError(\"Input contains NaN, infinity\"\n\u001b[1;32m---> 44\u001b[1;33m                          \" or a value too large for %r.\" % X.dtype)\n\u001b[0m\u001b[0;32m     45\u001b[0m \u001b[1;33m\u001b[0m\u001b[0m\n\u001b[0;32m     46\u001b[0m \u001b[1;33m\u001b[0m\u001b[0m\n",
      "\u001b[1;31mValueError\u001b[0m: Input contains NaN, infinity or a value too large for dtype('float64')."
     ]
    }
   ],
   "source": [
    "# Size of graph\n",
    "plt.rcParams['figure.figsize'] = [8,5]\n",
    "\n",
    "# k means determine k\n",
    "distortions = []\n",
    "K = range(1,10)\n",
    "for k in K:\n",
    "    kmeanModel = KMeans(n_clusters=k).fit(X_train)\n",
    "    kmeanModel.fit(X_train)\n",
    "    distortions.append(sum(np.min(cdist(X_train, kmeanModel.cluster_centers_, 'euclidean'), axis=1)) / X_train_tfidf.shape[0])\n",
    "\n",
    "# Plot the elbow\n",
    "plt.plot(K, distortions, 'bx-')\n",
    "plt.xlabel('k')\n",
    "plt.ylabel('Distortion')\n",
    "plt.title('The Elbow Method showing the optimal k')\n",
    "plt.show()"
   ]
  },
  {
   "cell_type": "code",
   "execution_count": null,
   "metadata": {},
   "outputs": [],
   "source": [
    "# Calulate predicted values\n",
    "kmeans = KMeans(n_clusters=3, init='k-means++', random_state=42, n_init=20)\n",
    "y_pred = kmeans.fit_predict(X_train)\n",
    "\n",
    "pd.crosstab(y_train_tfidf, y_pred)"
   ]
  },
  {
   "cell_type": "code",
   "execution_count": null,
   "metadata": {},
   "outputs": [],
   "source": [
    "plt.figure(figsize=(6,6))\n",
    "\n",
    "# We are limiting our feature space to 2 components here. \n",
    "#  This makes it easier to graph and see the clusters.\n",
    "svd= TruncatedSVD(2)\n",
    "\n",
    "# Normalize the data.\n",
    "X_norm = normalize(X_tfidf)\n",
    "\n",
    "# Reduce it to two components.\n",
    "X_svd = svd.fit_transform(X_norm)\n",
    "\n",
    "# Calculate predicted values.\n",
    "y_pred = KMeans(n_clusters=3, random_state=42).fit_predict(X_svd)\n",
    "\n",
    "# Plot the solution.\n",
    "plt.scatter(X_svd[:, 0], X_svd[:, 1], c=y_pred, cmap='viridis')\n",
    "plt.show()\n",
    "\n",
    "# Check the solution against the data.\n",
    "print('Comparing k-means clusters against the data:')\n",
    "print(pd.crosstab(y_pred, y))"
   ]
  },
  {
   "cell_type": "code",
   "execution_count": null,
   "metadata": {},
   "outputs": [],
   "source": [
    "# # View clustering score\n",
    "# print('Adjusted Rand Score: {:0.7}'.format(adjusted_rand_score(y_train_tfidf, y_pred)))\n",
    "# print('Silhouette Score: {:0.7}'.format(silhouette_score(X_train, y_pred, sample_size=60000, metric='euclidean')))"
   ]
  },
  {
   "cell_type": "markdown",
   "metadata": {},
   "source": [
    "# Testing Set\n",
    "\n",
    "Finally, we get to open the testing set. What if we decide to look at more recent tweets from the same airline, or how about we also decide to look at other airlines that weren't even in our dataset? \n",
    "\n",
    "Enough with the hypotheticals. The next dataset is a collection of recent tweets containing the testing data that we want and while we won't be able to assess its accuracy since we don't have the correct values, we should be able to get a good idea of measuring sentiment analysis for more recent tweets targetting the airlines in our dataset, as well as other airlines that actually aren't in our model. \n",
    "\n",
    "What this will demonstrate is how useful our models are for predicting sentiment analysis for tweets that our model has not seen yet."
   ]
  },
  {
   "cell_type": "code",
   "execution_count": 44,
   "metadata": {},
   "outputs": [
    {
     "data": {
      "text/html": [
       "<div>\n",
       "<style scoped>\n",
       "    .dataframe tbody tr th:only-of-type {\n",
       "        vertical-align: middle;\n",
       "    }\n",
       "\n",
       "    .dataframe tbody tr th {\n",
       "        vertical-align: top;\n",
       "    }\n",
       "\n",
       "    .dataframe thead th {\n",
       "        text-align: right;\n",
       "    }\n",
       "</style>\n",
       "<table border=\"1\" class=\"dataframe\">\n",
       "  <thead>\n",
       "    <tr style=\"text-align: right;\">\n",
       "      <th></th>\n",
       "      <th>airline</th>\n",
       "      <th>text</th>\n",
       "    </tr>\n",
       "  </thead>\n",
       "  <tbody>\n",
       "    <tr>\n",
       "      <th>0</th>\n",
       "      <td>@AlaskaAir</td>\n",
       "      <td>RT @AlaskaAir: Happy birthday to our Chief Football Officer, @DangeRussWilson! We hope your thirties are as fly as you! 🎂 https://t.co/XfTm…</td>\n",
       "    </tr>\n",
       "    <tr>\n",
       "      <th>1</th>\n",
       "      <td>@AlaskaAir</td>\n",
       "      <td>@AlaskaAir My monthly+ flughts in and out of Montana will have to be with another airline if these flights after 9pm aren't possible.</td>\n",
       "    </tr>\n",
       "    <tr>\n",
       "      <th>2</th>\n",
       "      <td>@AlaskaAir</td>\n",
       "      <td>RT @ChrisEgan5: UW #Husky fans fired up for @pac12 championship game! Leaving #Seattle on @AlaskaAir on plane filled with @UW_Football @uw…</td>\n",
       "    </tr>\n",
       "    <tr>\n",
       "      <th>3</th>\n",
       "      <td>@AlaskaAir</td>\n",
       "      <td>@ChrisEgan5 @mcclainfan59 @pac12 @AlaskaAir @UW_Football @UW That's a Virgin Plane. 🤣</td>\n",
       "    </tr>\n",
       "    <tr>\n",
       "      <th>4</th>\n",
       "      <td>@AlaskaAir</td>\n",
       "      <td>@AlaskaAir Stupid, stupid decision!!</td>\n",
       "    </tr>\n",
       "  </tbody>\n",
       "</table>\n",
       "</div>"
      ],
      "text/plain": [
       "      airline  \\\n",
       "0  @AlaskaAir   \n",
       "1  @AlaskaAir   \n",
       "2  @AlaskaAir   \n",
       "3  @AlaskaAir   \n",
       "4  @AlaskaAir   \n",
       "\n",
       "                                                                                                                                           text  \n",
       "0  RT @AlaskaAir: Happy birthday to our Chief Football Officer, @DangeRussWilson! We hope your thirties are as fly as you! 🎂 https://t.co/XfTm…  \n",
       "1         @AlaskaAir My monthly+ flughts in and out of Montana will have to be with another airline if these flights after 9pm aren't possible.  \n",
       "2   RT @ChrisEgan5: UW #Husky fans fired up for @pac12 championship game! Leaving #Seattle on @AlaskaAir on plane filled with @UW_Football @uw…  \n",
       "3                                                         @ChrisEgan5 @mcclainfan59 @pac12 @AlaskaAir @UW_Football @UW That's a Virgin Plane. 🤣  \n",
       "4                                                                                                          @AlaskaAir Stupid, stupid decision!!  "
      ]
     },
     "execution_count": 44,
     "metadata": {},
     "output_type": "execute_result"
    }
   ],
   "source": [
    "# Import the training dataset\n",
    "tweets_test = pd.read_csv(\"airline_tweets/test_set.csv\", usecols=[1,2])\n",
    "\n",
    "# Preview the data\n",
    "tweets_test.head()"
   ]
  },
  {
   "cell_type": "code",
   "execution_count": 45,
   "metadata": {},
   "outputs": [
    {
     "data": {
      "text/plain": [
       "(18000, 2)"
      ]
     },
     "execution_count": 45,
     "metadata": {},
     "output_type": "execute_result"
    }
   ],
   "source": [
    "# View size of the testing dataframe\n",
    "tweets_test.shape"
   ]
  },
  {
   "cell_type": "code",
   "execution_count": 46,
   "metadata": {},
   "outputs": [
    {
     "data": {
      "text/plain": [
       "['@AlaskaAir',\n",
       " '@Allegiant',\n",
       " '@AmericanAir',\n",
       " '@Delta',\n",
       " '@FlyFrontier',\n",
       " '@HawaiianAir',\n",
       " '@JetBlue',\n",
       " '@SouthwestAir',\n",
       " '@SpiritAirlines',\n",
       " '@united']"
      ]
     },
     "execution_count": 46,
     "metadata": {},
     "output_type": "execute_result"
    }
   ],
   "source": [
    "# Print unique airlines in the test dataset\n",
    "sorted(tweets_test['airline'].unique())"
   ]
  },
  {
   "cell_type": "markdown",
   "metadata": {},
   "source": [
    "Since the original dataset was obtained in February 2015, two of the airlines in the dataset no longer operate under the same name, 'US Airways' and 'Virgin' which have since merged with 'American' and 'Alaska' respectively. Due to this, we can only compare the remaining 4 airlines in the original dataset with 6 other major airlines currently in service in the United States."
   ]
  },
  {
   "cell_type": "code",
   "execution_count": 50,
   "metadata": {},
   "outputs": [],
   "source": [
    "# Remove non-essential punctuation from the tweets\n",
    "pd.options.display.max_colwidth = 200\n",
    "tweets_test['text'] = tweets_test['text'].map(lambda x: text_cleaner(str(x)))\n",
    "\n",
    "# Reduce all text to their lemmas\n",
    "for tweet in tweets_test['text']:\n",
    "    tweet = lemmatizer.lemmatize(tweet)\n",
    "    \n",
    "# Specify the new test input\n",
    "X = tweets_test['text']\n",
    "\n",
    "# Apply the vectorizer to the test data\n",
    "X_tfidf_2 = vectorizer.fit_transform(X)\n",
    "\n",
    "# Predict the results using our best model\n",
    "tweets_test['airline_sentiment'] = rfc_2.predict(X_tfidf_2)"
   ]
  },
  {
   "cell_type": "code",
   "execution_count": 51,
   "metadata": {},
   "outputs": [],
   "source": [
    "# Modify values of sentiment to numerical values\n",
    "sentiment = {-1:'negative', 0:'neutral', 1:'positive'}\n",
    "tweets_test['airline_sentiment'] = tweets_test['airline_sentiment'].map(lambda x: sentiment[x])"
   ]
  },
  {
   "cell_type": "code",
   "execution_count": 52,
   "metadata": {},
   "outputs": [
    {
     "data": {
      "application/vnd.plotly.v1+json": {
       "data": [
        {
         "labels": [
          "negative",
          "neutral",
          "positive"
         ],
         "type": "pie",
         "uid": "774a8989-adec-4575-8d72-566fe8fc311c",
         "values": [
          15133,
          1723,
          1144
         ]
        }
       ],
       "layout": {
        "autosize": false,
        "height": 400,
        "title": "Tweet Sentiment (Nov 2018)",
        "width": 500,
        "yaxis": {
         "title": "Number of tweets"
        }
       }
      },
      "text/html": [
       "<div id=\"0f2c0b46-cf21-4468-8a8a-296f3ceb0c34\" style=\"height: 400px; width: 500px;\" class=\"plotly-graph-div\"></div><script type=\"text/javascript\">require([\"plotly\"], function(Plotly) { window.PLOTLYENV=window.PLOTLYENV || {};window.PLOTLYENV.BASE_URL=\"https://plot.ly\";Plotly.newPlot(\"0f2c0b46-cf21-4468-8a8a-296f3ceb0c34\", [{\"labels\": [\"negative\", \"neutral\", \"positive\"], \"values\": [15133, 1723, 1144], \"type\": \"pie\", \"uid\": \"774a8989-adec-4575-8d72-566fe8fc311c\"}], {\"autosize\": false, \"height\": 400, \"title\": \"Tweet Sentiment (Nov 2018)\", \"width\": 500, \"yaxis\": {\"title\": \"Number of tweets\"}}, {\"showLink\": true, \"linkText\": \"Export to plot.ly\"})});</script>"
      ],
      "text/vnd.plotly.v1+html": [
       "<div id=\"0f2c0b46-cf21-4468-8a8a-296f3ceb0c34\" style=\"height: 400px; width: 500px;\" class=\"plotly-graph-div\"></div><script type=\"text/javascript\">require([\"plotly\"], function(Plotly) { window.PLOTLYENV=window.PLOTLYENV || {};window.PLOTLYENV.BASE_URL=\"https://plot.ly\";Plotly.newPlot(\"0f2c0b46-cf21-4468-8a8a-296f3ceb0c34\", [{\"labels\": [\"negative\", \"neutral\", \"positive\"], \"values\": [15133, 1723, 1144], \"type\": \"pie\", \"uid\": \"774a8989-adec-4575-8d72-566fe8fc311c\"}], {\"autosize\": false, \"height\": 400, \"title\": \"Tweet Sentiment (Nov 2018)\", \"width\": 500, \"yaxis\": {\"title\": \"Number of tweets\"}}, {\"showLink\": true, \"linkText\": \"Export to plot.ly\"})});</script>"
      ]
     },
     "metadata": {},
     "output_type": "display_data"
    }
   ],
   "source": [
    "# View distribution of tweets by sentiment \n",
    "# (Changing colors to red/gray/green would be nice)\n",
    "trace = go.Pie(labels=tweets_test['airline_sentiment'].value_counts().index, \n",
    "              values=tweets_test['airline_sentiment'].value_counts())\n",
    "\n",
    "# Create the layout\n",
    "layout = go.Layout(\n",
    "    title = 'Tweet Sentiment (Nov 2018)',\n",
    "    height = 400,\n",
    "    width = 500,\n",
    "    autosize = False,\n",
    "    yaxis = dict(title='Number of tweets')\n",
    ")\n",
    "\n",
    "fig = go.Figure(data = [trace], layout = layout)\n",
    "py.offline.iplot(fig, filename='cufflinks/simple')"
   ]
  },
  {
   "cell_type": "markdown",
   "metadata": {},
   "source": [
    "When we apply the random forest model to our testing dataset, the results do look a bit more ... negative. Now, the differences in our dataset could be due to a number of things, so let's take a look at the data and see what our model spit out."
   ]
  },
  {
   "cell_type": "code",
   "execution_count": 53,
   "metadata": {},
   "outputs": [
    {
     "data": {
      "text/html": [
       "<div>\n",
       "<style scoped>\n",
       "    .dataframe tbody tr th:only-of-type {\n",
       "        vertical-align: middle;\n",
       "    }\n",
       "\n",
       "    .dataframe tbody tr th {\n",
       "        vertical-align: top;\n",
       "    }\n",
       "\n",
       "    .dataframe thead th {\n",
       "        text-align: right;\n",
       "    }\n",
       "</style>\n",
       "<table border=\"1\" class=\"dataframe\">\n",
       "  <thead>\n",
       "    <tr style=\"text-align: right;\">\n",
       "      <th>airline</th>\n",
       "      <th>@AlaskaAir</th>\n",
       "      <th>@Allegiant</th>\n",
       "      <th>@AmericanAir</th>\n",
       "      <th>@Delta</th>\n",
       "      <th>@FlyFrontier</th>\n",
       "      <th>@HawaiianAir</th>\n",
       "      <th>@JetBlue</th>\n",
       "      <th>@SouthwestAir</th>\n",
       "      <th>@SpiritAirlines</th>\n",
       "      <th>@united</th>\n",
       "    </tr>\n",
       "    <tr>\n",
       "      <th>airline_sentiment</th>\n",
       "      <th></th>\n",
       "      <th></th>\n",
       "      <th></th>\n",
       "      <th></th>\n",
       "      <th></th>\n",
       "      <th></th>\n",
       "      <th></th>\n",
       "      <th></th>\n",
       "      <th></th>\n",
       "      <th></th>\n",
       "    </tr>\n",
       "  </thead>\n",
       "  <tbody>\n",
       "    <tr>\n",
       "      <th>negative</th>\n",
       "      <td>1656</td>\n",
       "      <td>1494</td>\n",
       "      <td>1494</td>\n",
       "      <td>1516</td>\n",
       "      <td>1512</td>\n",
       "      <td>1242</td>\n",
       "      <td>1512</td>\n",
       "      <td>1466</td>\n",
       "      <td>1620</td>\n",
       "      <td>1621</td>\n",
       "    </tr>\n",
       "    <tr>\n",
       "      <th>neutral</th>\n",
       "      <td>126</td>\n",
       "      <td>216</td>\n",
       "      <td>103</td>\n",
       "      <td>180</td>\n",
       "      <td>234</td>\n",
       "      <td>108</td>\n",
       "      <td>252</td>\n",
       "      <td>324</td>\n",
       "      <td>90</td>\n",
       "      <td>90</td>\n",
       "    </tr>\n",
       "    <tr>\n",
       "      <th>positive</th>\n",
       "      <td>18</td>\n",
       "      <td>90</td>\n",
       "      <td>203</td>\n",
       "      <td>104</td>\n",
       "      <td>54</td>\n",
       "      <td>450</td>\n",
       "      <td>36</td>\n",
       "      <td>10</td>\n",
       "      <td>90</td>\n",
       "      <td>89</td>\n",
       "    </tr>\n",
       "  </tbody>\n",
       "</table>\n",
       "</div>"
      ],
      "text/plain": [
       "airline            @AlaskaAir  @Allegiant  @AmericanAir  @Delta  @FlyFrontier  \\\n",
       "airline_sentiment                                                               \n",
       "negative                 1656        1494          1494    1516          1512   \n",
       "neutral                   126         216           103     180           234   \n",
       "positive                   18          90           203     104            54   \n",
       "\n",
       "airline            @HawaiianAir  @JetBlue  @SouthwestAir  @SpiritAirlines  \\\n",
       "airline_sentiment                                                           \n",
       "negative                   1242      1512           1466             1620   \n",
       "neutral                     108       252            324               90   \n",
       "positive                    450        36             10               90   \n",
       "\n",
       "airline            @united  \n",
       "airline_sentiment           \n",
       "negative              1621  \n",
       "neutral                 90  \n",
       "positive                89  "
      ]
     },
     "execution_count": 53,
     "metadata": {},
     "output_type": "execute_result"
    }
   ],
   "source": [
    "# Pivot table of airline sentiment\n",
    "tweets_test.pivot_table(index=['airline_sentiment'],columns='airline', aggfunc='size', fill_value=0)"
   ]
  },
  {
   "cell_type": "code",
   "execution_count": 54,
   "metadata": {
    "scrolled": true
   },
   "outputs": [
    {
     "data": {
      "application/vnd.plotly.v1+json": {
       "data": [
        {
         "marker": {
          "color": "rgba(200,0,0,.7)"
         },
         "name": "Negative",
         "type": "bar",
         "uid": "0e9fd41e-d12c-4626-b6f2-bc5e09e8c426",
         "x": [
          "@AlaskaAir",
          "@Allegiant",
          "@AmericanAir",
          "@Delta",
          "@FlyFrontier",
          "@HawaiianAir",
          "@JetBlue",
          "@SouthwestAir",
          "@SpiritAirlines",
          "@united"
         ],
         "y": [
          0.92,
          0.83,
          0.83,
          0.8422222222222222,
          0.84,
          0.69,
          0.84,
          0.8144444444444444,
          0.9,
          0.9005555555555556
         ]
        },
        {
         "marker": {
          "color": "rgba(150,150,150,.7)"
         },
         "name": "Neutral",
         "type": "bar",
         "uid": "676f3225-affa-4a95-a218-73bfc80b607a",
         "x": [
          "@AlaskaAir",
          "@Allegiant",
          "@AmericanAir",
          "@Delta",
          "@FlyFrontier",
          "@HawaiianAir",
          "@JetBlue",
          "@SouthwestAir",
          "@SpiritAirlines",
          "@united"
         ],
         "y": [
          0.07,
          0.12,
          0.05722222222222222,
          0.1,
          0.13,
          0.06,
          0.14,
          0.18,
          0.05,
          0.05
         ]
        },
        {
         "marker": {
          "color": "rgba(0,200,0,.7)"
         },
         "name": "Positive",
         "type": "bar",
         "uid": "ca794d3b-787d-4e45-bdc4-414027f7c158",
         "x": [
          "@AlaskaAir",
          "@Allegiant",
          "@AmericanAir",
          "@Delta",
          "@FlyFrontier",
          "@HawaiianAir",
          "@JetBlue",
          "@SouthwestAir",
          "@SpiritAirlines",
          "@united"
         ],
         "y": [
          0.01,
          0.05,
          0.11277777777777778,
          0.057777777777777775,
          0.03,
          0.25,
          0.02,
          0.005555555555555556,
          0.05,
          0.049444444444444444
         ]
        }
       ],
       "layout": {
        "barmode": "group",
        "title": "Airline Sentiment (Percentage)",
        "yaxis": {
         "title": "% of tweets"
        }
       }
      },
      "text/html": [
       "<div id=\"dd0b579d-0483-4ba8-bccf-c5c2ac0cbbe9\" style=\"height: 525px; width: 100%;\" class=\"plotly-graph-div\"></div><script type=\"text/javascript\">require([\"plotly\"], function(Plotly) { window.PLOTLYENV=window.PLOTLYENV || {};window.PLOTLYENV.BASE_URL=\"https://plot.ly\";Plotly.newPlot(\"dd0b579d-0483-4ba8-bccf-c5c2ac0cbbe9\", [{\"marker\": {\"color\": \"rgba(200,0,0,.7)\"}, \"name\": \"Negative\", \"x\": [\"@AlaskaAir\", \"@Allegiant\", \"@AmericanAir\", \"@Delta\", \"@FlyFrontier\", \"@HawaiianAir\", \"@JetBlue\", \"@SouthwestAir\", \"@SpiritAirlines\", \"@united\"], \"y\": [0.92, 0.83, 0.83, 0.8422222222222222, 0.84, 0.69, 0.84, 0.8144444444444444, 0.9, 0.9005555555555556], \"type\": \"bar\", \"uid\": \"0e9fd41e-d12c-4626-b6f2-bc5e09e8c426\"}, {\"marker\": {\"color\": \"rgba(150,150,150,.7)\"}, \"name\": \"Neutral\", \"x\": [\"@AlaskaAir\", \"@Allegiant\", \"@AmericanAir\", \"@Delta\", \"@FlyFrontier\", \"@HawaiianAir\", \"@JetBlue\", \"@SouthwestAir\", \"@SpiritAirlines\", \"@united\"], \"y\": [0.07, 0.12, 0.05722222222222222, 0.1, 0.13, 0.06, 0.14, 0.18, 0.05, 0.05], \"type\": \"bar\", \"uid\": \"676f3225-affa-4a95-a218-73bfc80b607a\"}, {\"marker\": {\"color\": \"rgba(0,200,0,.7)\"}, \"name\": \"Positive\", \"x\": [\"@AlaskaAir\", \"@Allegiant\", \"@AmericanAir\", \"@Delta\", \"@FlyFrontier\", \"@HawaiianAir\", \"@JetBlue\", \"@SouthwestAir\", \"@SpiritAirlines\", \"@united\"], \"y\": [0.01, 0.05, 0.11277777777777778, 0.057777777777777775, 0.03, 0.25, 0.02, 0.005555555555555556, 0.05, 0.049444444444444444], \"type\": \"bar\", \"uid\": \"ca794d3b-787d-4e45-bdc4-414027f7c158\"}], {\"barmode\": \"group\", \"title\": \"Airline Sentiment (Percentage)\", \"yaxis\": {\"title\": \"% of tweets\"}}, {\"showLink\": true, \"linkText\": \"Export to plot.ly\"})});</script><script type=\"text/javascript\">window.addEventListener(\"resize\", function(){window._Plotly.Plots.resize(document.getElementById(\"dd0b579d-0483-4ba8-bccf-c5c2ac0cbbe9\"));});</script>"
      ],
      "text/vnd.plotly.v1+html": [
       "<div id=\"dd0b579d-0483-4ba8-bccf-c5c2ac0cbbe9\" style=\"height: 525px; width: 100%;\" class=\"plotly-graph-div\"></div><script type=\"text/javascript\">require([\"plotly\"], function(Plotly) { window.PLOTLYENV=window.PLOTLYENV || {};window.PLOTLYENV.BASE_URL=\"https://plot.ly\";Plotly.newPlot(\"dd0b579d-0483-4ba8-bccf-c5c2ac0cbbe9\", [{\"marker\": {\"color\": \"rgba(200,0,0,.7)\"}, \"name\": \"Negative\", \"x\": [\"@AlaskaAir\", \"@Allegiant\", \"@AmericanAir\", \"@Delta\", \"@FlyFrontier\", \"@HawaiianAir\", \"@JetBlue\", \"@SouthwestAir\", \"@SpiritAirlines\", \"@united\"], \"y\": [0.92, 0.83, 0.83, 0.8422222222222222, 0.84, 0.69, 0.84, 0.8144444444444444, 0.9, 0.9005555555555556], \"type\": \"bar\", \"uid\": \"0e9fd41e-d12c-4626-b6f2-bc5e09e8c426\"}, {\"marker\": {\"color\": \"rgba(150,150,150,.7)\"}, \"name\": \"Neutral\", \"x\": [\"@AlaskaAir\", \"@Allegiant\", \"@AmericanAir\", \"@Delta\", \"@FlyFrontier\", \"@HawaiianAir\", \"@JetBlue\", \"@SouthwestAir\", \"@SpiritAirlines\", \"@united\"], \"y\": [0.07, 0.12, 0.05722222222222222, 0.1, 0.13, 0.06, 0.14, 0.18, 0.05, 0.05], \"type\": \"bar\", \"uid\": \"676f3225-affa-4a95-a218-73bfc80b607a\"}, {\"marker\": {\"color\": \"rgba(0,200,0,.7)\"}, \"name\": \"Positive\", \"x\": [\"@AlaskaAir\", \"@Allegiant\", \"@AmericanAir\", \"@Delta\", \"@FlyFrontier\", \"@HawaiianAir\", \"@JetBlue\", \"@SouthwestAir\", \"@SpiritAirlines\", \"@united\"], \"y\": [0.01, 0.05, 0.11277777777777778, 0.057777777777777775, 0.03, 0.25, 0.02, 0.005555555555555556, 0.05, 0.049444444444444444], \"type\": \"bar\", \"uid\": \"ca794d3b-787d-4e45-bdc4-414027f7c158\"}], {\"barmode\": \"group\", \"title\": \"Airline Sentiment (Percentage)\", \"yaxis\": {\"title\": \"% of tweets\"}}, {\"showLink\": true, \"linkText\": \"Export to plot.ly\"})});</script><script type=\"text/javascript\">window.addEventListener(\"resize\", function(){window._Plotly.Plots.resize(document.getElementById(\"dd0b579d-0483-4ba8-bccf-c5c2ac0cbbe9\"));});</script>"
      ]
     },
     "metadata": {},
     "output_type": "display_data"
    }
   ],
   "source": [
    "# Show distribution of texts\n",
    "\n",
    "trace1 = go.Bar(\n",
    "    x = sorted(tweets_test['airline'].unique()),\n",
    "    y = (tweets_test[tweets_test['airline_sentiment'] == 'negative'].groupby('airline')['airline_sentiment'].value_counts().values) / (tweets_test['airline'].value_counts().sort_index().values),\n",
    "    name = 'Negative',\n",
    "    marker = dict(color='rgba(200,0,0,.7)')\n",
    ")\n",
    "\n",
    "trace2 = go.Bar(\n",
    "    x = sorted(tweets_test['airline'].unique()),\n",
    "    y = (tweets_test[tweets_test['airline_sentiment'] == 'neutral'].groupby('airline')['airline_sentiment'].value_counts().values) / (tweets_test['airline'].value_counts().sort_index().values),\n",
    "    name = 'Neutral',\n",
    "    marker = dict(color='rgba(150,150,150,.7)')\n",
    ")\n",
    "\n",
    "trace3 = go.Bar(\n",
    "    x = sorted(tweets_test['airline'].unique()),\n",
    "    y = (tweets_test[tweets_test['airline_sentiment'] == 'positive'].groupby('airline')['airline_sentiment'].value_counts().values) / (tweets_test['airline'].value_counts().sort_index().values),\n",
    "    name = 'Positive',\n",
    "    marker = dict(color='rgba(0,200,0,.7)')\n",
    ")\n",
    "\n",
    "data = [trace1, trace2, trace3]\n",
    "layout = go.Layout(\n",
    "    title = 'Airline Sentiment (Percentage)',\n",
    "    barmode='group',\n",
    "    yaxis = dict(title='% of tweets')\n",
    ")\n",
    "\n",
    "fig = go.Figure(data=data, layout=layout)\n",
    "py.offline.iplot(fig, filename='stacked-bar')"
   ]
  },
  {
   "cell_type": "markdown",
   "metadata": {},
   "source": [
    "<div class=\"alert alert-block alert-warning\">\n",
    "For the above visual, please feel free to toggle the sentiment categories on the right. For example, toggle negative and neutral off to view only positive tweets.\n",
    "</div>\n",
    "\n",
    "The model predicted so few positive results that these bars do look a bit off. Wasn't 'American' one of the most poorly received in the training set? You would be correct, but that doesn't appear to be the case here. \n",
    "\n",
    "* The training set was acquired in February 2015, and our test set in November 2018\n",
    "* We didn't capture enough characteristics / words in our original model, and require a larger data set."
   ]
  },
  {
   "cell_type": "code",
   "execution_count": 55,
   "metadata": {},
   "outputs": [
    {
     "data": {
      "text/html": [
       "<div>\n",
       "<style scoped>\n",
       "    .dataframe tbody tr th:only-of-type {\n",
       "        vertical-align: middle;\n",
       "    }\n",
       "\n",
       "    .dataframe tbody tr th {\n",
       "        vertical-align: top;\n",
       "    }\n",
       "\n",
       "    .dataframe thead th {\n",
       "        text-align: right;\n",
       "    }\n",
       "</style>\n",
       "<table border=\"1\" class=\"dataframe\">\n",
       "  <thead>\n",
       "    <tr style=\"text-align: right;\">\n",
       "      <th></th>\n",
       "      <th>airline</th>\n",
       "      <th>text</th>\n",
       "      <th>airline_sentiment</th>\n",
       "    </tr>\n",
       "  </thead>\n",
       "  <tbody>\n",
       "    <tr>\n",
       "      <th>0</th>\n",
       "      <td>@AlaskaAir</td>\n",
       "      <td>RT @AlaskaAir: Happy birthday to our Chief Football Officer, @DangeRussWilson! We hope your thirties are as fly as you! 🎂 https://t.co/XfTm…</td>\n",
       "      <td>negative</td>\n",
       "    </tr>\n",
       "    <tr>\n",
       "      <th>1</th>\n",
       "      <td>@AlaskaAir</td>\n",
       "      <td>@AlaskaAir My monthly+ flughts in and out of Montana will have to be with another airline if these flights after 9pm aren't possible.</td>\n",
       "      <td>negative</td>\n",
       "    </tr>\n",
       "    <tr>\n",
       "      <th>2</th>\n",
       "      <td>@AlaskaAir</td>\n",
       "      <td>RT @ChrisEgan5: UW #Husky fans fired up for @pac12 championship game! Leaving #Seattle on @AlaskaAir on plane filled with @UW_Football @uw…</td>\n",
       "      <td>negative</td>\n",
       "    </tr>\n",
       "    <tr>\n",
       "      <th>3</th>\n",
       "      <td>@AlaskaAir</td>\n",
       "      <td>@ChrisEgan5 @mcclainfan59 @pac12 @AlaskaAir @UW_Football @UW That's a Virgin Plane. 🤣</td>\n",
       "      <td>negative</td>\n",
       "    </tr>\n",
       "    <tr>\n",
       "      <th>4</th>\n",
       "      <td>@AlaskaAir</td>\n",
       "      <td>@AlaskaAir Stupid, stupid decision!!</td>\n",
       "      <td>negative</td>\n",
       "    </tr>\n",
       "  </tbody>\n",
       "</table>\n",
       "</div>"
      ],
      "text/plain": [
       "      airline  \\\n",
       "0  @AlaskaAir   \n",
       "1  @AlaskaAir   \n",
       "2  @AlaskaAir   \n",
       "3  @AlaskaAir   \n",
       "4  @AlaskaAir   \n",
       "\n",
       "                                                                                                                                           text  \\\n",
       "0  RT @AlaskaAir: Happy birthday to our Chief Football Officer, @DangeRussWilson! We hope your thirties are as fly as you! 🎂 https://t.co/XfTm…   \n",
       "1         @AlaskaAir My monthly+ flughts in and out of Montana will have to be with another airline if these flights after 9pm aren't possible.   \n",
       "2   RT @ChrisEgan5: UW #Husky fans fired up for @pac12 championship game! Leaving #Seattle on @AlaskaAir on plane filled with @UW_Football @uw…   \n",
       "3                                                         @ChrisEgan5 @mcclainfan59 @pac12 @AlaskaAir @UW_Football @UW That's a Virgin Plane. 🤣   \n",
       "4                                                                                                          @AlaskaAir Stupid, stupid decision!!   \n",
       "\n",
       "  airline_sentiment  \n",
       "0          negative  \n",
       "1          negative  \n",
       "2          negative  \n",
       "3          negative  \n",
       "4          negative  "
      ]
     },
     "execution_count": 55,
     "metadata": {},
     "output_type": "execute_result"
    }
   ],
   "source": [
    "# Preview the top tweets for @AlaskaAir to see the correlation between tweets and predicted results\n",
    "tweets_test.loc[tweets_test['airline']=='@AlaskaAir'].head()"
   ]
  },
  {
   "cell_type": "code",
   "execution_count": 56,
   "metadata": {},
   "outputs": [
    {
     "data": {
      "text/html": [
       "<div>\n",
       "<style scoped>\n",
       "    .dataframe tbody tr th:only-of-type {\n",
       "        vertical-align: middle;\n",
       "    }\n",
       "\n",
       "    .dataframe tbody tr th {\n",
       "        vertical-align: top;\n",
       "    }\n",
       "\n",
       "    .dataframe thead th {\n",
       "        text-align: right;\n",
       "    }\n",
       "</style>\n",
       "<table border=\"1\" class=\"dataframe\">\n",
       "  <thead>\n",
       "    <tr style=\"text-align: right;\">\n",
       "      <th></th>\n",
       "      <th>airline_sentiment</th>\n",
       "      <th>negativereason</th>\n",
       "      <th>airline</th>\n",
       "      <th>text</th>\n",
       "    </tr>\n",
       "  </thead>\n",
       "  <tbody>\n",
       "    <tr>\n",
       "      <th>7644</th>\n",
       "      <td>-1</td>\n",
       "      <td>Customer Service Issue</td>\n",
       "      <td>American</td>\n",
       "      <td>@AmericanAir Stuck in Miami, and one of the worst customer experiences I have ever had. Will be sure to let everyone know about my time w/AA</td>\n",
       "    </tr>\n",
       "    <tr>\n",
       "      <th>7645</th>\n",
       "      <td>1</td>\n",
       "      <td>NaN</td>\n",
       "      <td>American</td>\n",
       "      <td>@AmericanAir Yay, thanks! Appreciate the help, I know it's NUTS right now with the cold and ice!</td>\n",
       "    </tr>\n",
       "    <tr>\n",
       "      <th>7646</th>\n",
       "      <td>-1</td>\n",
       "      <td>Can't Tell</td>\n",
       "      <td>American</td>\n",
       "      <td>@AmericanAir why would I pay $200 to reactivate my points that are only useful for certain flights that aren't even worth $200?</td>\n",
       "    </tr>\n",
       "    <tr>\n",
       "      <th>7647</th>\n",
       "      <td>-1</td>\n",
       "      <td>Customer Service Issue</td>\n",
       "      <td>American</td>\n",
       "      <td>@AmericanAir I just checked the app and it said my flight had been moved back a day? No explanations why. No answer on the 800 number.</td>\n",
       "    </tr>\n",
       "    <tr>\n",
       "      <th>7648</th>\n",
       "      <td>-1</td>\n",
       "      <td>Customer Service Issue</td>\n",
       "      <td>American</td>\n",
       "      <td>@AmericanAir She told us we had to drive back to drop it off so they could attempt to fix it. Really? Don't have time to do that. #terrible</td>\n",
       "    </tr>\n",
       "  </tbody>\n",
       "</table>\n",
       "</div>"
      ],
      "text/plain": [
       "      airline_sentiment          negativereason   airline  \\\n",
       "7644                 -1  Customer Service Issue  American   \n",
       "7645                  1                     NaN  American   \n",
       "7646                 -1              Can't Tell  American   \n",
       "7647                 -1  Customer Service Issue  American   \n",
       "7648                 -1  Customer Service Issue  American   \n",
       "\n",
       "                                                                                                                                              text  \n",
       "7644  @AmericanAir Stuck in Miami, and one of the worst customer experiences I have ever had. Will be sure to let everyone know about my time w/AA  \n",
       "7645                                              @AmericanAir Yay, thanks! Appreciate the help, I know it's NUTS right now with the cold and ice!  \n",
       "7646               @AmericanAir why would I pay $200 to reactivate my points that are only useful for certain flights that aren't even worth $200?  \n",
       "7647        @AmericanAir I just checked the app and it said my flight had been moved back a day? No explanations why. No answer on the 800 number.  \n",
       "7648   @AmericanAir She told us we had to drive back to drop it off so they could attempt to fix it. Really? Don't have time to do that. #terrible  "
      ]
     },
     "execution_count": 56,
     "metadata": {},
     "output_type": "execute_result"
    }
   ],
   "source": [
    "# Preview the top tweets for 'American' in our test set\n",
    "tweets.loc[tweets['airline']=='American'].head()"
   ]
  },
  {
   "cell_type": "markdown",
   "metadata": {},
   "source": [
    "## Conclusion\n",
    "\n",
    "## Next Steps\n",
    "\n",
    "Predicting outcomes without a training set"
   ]
  },
  {
   "cell_type": "code",
   "execution_count": null,
   "metadata": {},
   "outputs": [],
   "source": []
  }
 ],
 "metadata": {
  "kernelspec": {
   "display_name": "Python 3",
   "language": "python",
   "name": "python3"
  },
  "language_info": {
   "codemirror_mode": {
    "name": "ipython",
    "version": 3
   },
   "file_extension": ".py",
   "mimetype": "text/x-python",
   "name": "python",
   "nbconvert_exporter": "python",
   "pygments_lexer": "ipython3",
   "version": "3.7.0"
  }
 },
 "nbformat": 4,
 "nbformat_minor": 2
}
