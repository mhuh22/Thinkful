{
 "cells": [
  {
   "cell_type": "code",
   "execution_count": 1,
   "metadata": {},
   "outputs": [],
   "source": [
    "import tweepy\n",
    "from tweepy import Stream, StreamListener\n",
    "import twitter_credentials\n",
    "from textblob import TextBlob\n",
    "import time"
   ]
  },
  {
   "cell_type": "code",
   "execution_count": 5,
   "metadata": {},
   "outputs": [],
   "source": [
    "# Entering credentials to utilize Tweepy\n",
    "\n",
    "auth = OAuthHandler(twitter_credentials.CONSUMER_KEY, twitter_credentials.CONSUMER_SECRET)\n",
    "auth.set_access_token(twitter_credentials.ACCESS_TOKEN, twitter_credentials.ACCESS_TOKEN_SECRET)\n",
    "\n",
    "api = tweepy.API(auth)"
   ]
  },
  {
   "cell_type": "code",
   "execution_count": 6,
   "metadata": {},
   "outputs": [],
   "source": [
    "class listener (StreamListener):\n",
    "     \n",
    "    def on_data(self, data, time_limit=1):\n",
    "        self.start_time = time.time()\n",
    "        self.limit = time_limit\n",
    "        try:\n",
    "            print(data)\n",
    "            \n",
    "#             tweet = data.split(', \"text\":\"')[1].split('\",\"source')[0]\n",
    "#             print(tweet)\n",
    "            \n",
    "#             saveThis = str(time.time()) + '::' + tweet\n",
    "            \n",
    "            saveFile = open('twitDB.csv', 'a')\n",
    "            saveFile.write(data)\n",
    "            saveFile.write('\\n')\n",
    "            saveFile.close()\n",
    "            return(True)\n",
    "        except BaseException:\n",
    "            print('failed ondata', str(e))\n",
    "            time.sleep(5)\n",
    "    \n",
    "    def on_error(self, status):\n",
    "        print(status)"
   ]
  },
  {
   "cell_type": "code",
   "execution_count": 1,
   "metadata": {},
   "outputs": [],
   "source": [
    "# # How to continuously stream data with 'car'\n",
    "# # This works, but it's continuous and will crash this file!\n",
    "\n",
    "# twitterStream = Stream(auth, listener())\n",
    "# twitterStream.filter(track=['car'])"
   ]
  },
  {
   "cell_type": "code",
   "execution_count": null,
   "metadata": {},
   "outputs": [],
   "source": [
    "# Search for tweets involving 'Trump'\n",
    "public_tweets = api.search('Trump')"
   ]
  },
  {
   "cell_type": "code",
   "execution_count": null,
   "metadata": {},
   "outputs": [],
   "source": [
    "# Extracts tweets, and sentiment for statements about Trump\n",
    "\n",
    "# for tweet in public_tweets:\n",
    "#     print(tweet.text)\n",
    "#     analysis = TextBlob(tweet.text)\n",
    "#     print(analysis.sentiment)"
   ]
  },
  {
   "cell_type": "code",
   "execution_count": null,
   "metadata": {},
   "outputs": [],
   "source": [
    "user = api.me()\n",
    "\n",
    "print('Name: ' + user.name)\n",
    "print('Location: ' + user.location)\n",
    "print('Friends: ' + str(user.friends_count))"
   ]
  },
  {
   "cell_type": "code",
   "execution_count": null,
   "metadata": {},
   "outputs": [],
   "source": [
    "# Save scraped data to a local directory\n",
    "if os.path.exists(\"tweets/sentiment.csv\"):\n",
    "    os.remove(\"tweets/sentiment.csv\")\n",
    "tweets.to_csv('tweets/sentiment.csv', encoding='utf-8')"
   ]
  }
 ],
 "metadata": {
  "kernelspec": {
   "display_name": "Python 3",
   "language": "python",
   "name": "python3"
  },
  "language_info": {
   "codemirror_mode": {
    "name": "ipython",
    "version": 3
   },
   "file_extension": ".py",
   "mimetype": "text/x-python",
   "name": "python",
   "nbconvert_exporter": "python",
   "pygments_lexer": "ipython3",
   "version": "3.7.0"
  }
 },
 "nbformat": 4,
 "nbformat_minor": 2
}
