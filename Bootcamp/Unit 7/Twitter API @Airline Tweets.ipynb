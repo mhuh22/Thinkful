{
 "cells": [
  {
   "cell_type": "markdown",
   "metadata": {},
   "source": [
    "# Twitter API for Airline Sentiment Analysis\n",
    "Author: Matthew Huh\n",
    "\n",
    "\n",
    "The objective of this program is to retrieve tweets about each airline from twitter. Since the twitter API limits access to tweets from the past week, the data is time sensitive, and non-repeatable. The output of this program will be a csv file that will be used as the testing set for the main project. To see how this dataset will be utilized, please view the project below.\n",
    "\n",
    "Sentiment Analysis using Airline Tweets\n",
    "https://github.com/mhuh22/Thinkful/blob/master/Bootcamp/Unit%207/Sentiment%20Analysis%20using%20Airline%20Tweets.ipynb\n",
    "\n",
    "### Packages"
   ]
  },
  {
   "cell_type": "code",
   "execution_count": 1,
   "metadata": {},
   "outputs": [],
   "source": [
    "import tweepy\n",
    "import twitter_credentials\n",
    "from textblob import TextBlob\n",
    "import pandas as pd\n",
    "import time\n",
    "import os"
   ]
  },
  {
   "cell_type": "code",
   "execution_count": 2,
   "metadata": {},
   "outputs": [],
   "source": [
    "# Entering credentials to utilize Tweepy\n",
    "\n",
    "auth = tweepy.OAuthHandler(twitter_credentials.CONSUMER_KEY, twitter_credentials.CONSUMER_SECRET)\n",
    "auth.set_access_token(twitter_credentials.ACCESS_TOKEN, twitter_credentials.ACCESS_TOKEN_SECRET)\n",
    "\n",
    "api = tweepy.API(auth)"
   ]
  },
  {
   "cell_type": "code",
   "execution_count": 3,
   "metadata": {},
   "outputs": [],
   "source": [
    "class listener (tweepy.StreamListener):\n",
    "     \n",
    "    def on_data(self, data, time_limit=1):\n",
    "        self.start_time = time.time()\n",
    "        self.limit = time_limit\n",
    "        try:\n",
    "            print(data)\n",
    "            \n",
    "#             tweet = data.split(', \"text\":\"')[1].split('\",\"source')[0]\n",
    "#             print(tweet)\n",
    "            \n",
    "#             saveThis = str(time.time()) + '::' + tweet\n",
    "            \n",
    "            saveFile = open('twitDB.csv', 'a')\n",
    "            saveFile.write(data)\n",
    "            saveFile.write('\\n')\n",
    "            saveFile.close()\n",
    "            return(True)\n",
    "        except BaseException:\n",
    "            print('failed ondata', str(e))\n",
    "            time.sleep(5)\n",
    "    \n",
    "    def on_error(self, status):\n",
    "        print(status)"
   ]
  },
  {
   "cell_type": "code",
   "execution_count": 4,
   "metadata": {},
   "outputs": [],
   "source": [
    "# Create dataframe to store twitter information\n",
    "tweet_df = pd.DataFrame(columns=['airline', 'text'])\n",
    "\n",
    "# A list of the official airline accounts\n",
    "airlines = ['AmericanAir', 'delta_airline4', 'SouthwestAir', 'USAirways', 'united', 'VirginAirline']"
   ]
  },
  {
   "cell_type": "code",
   "execution_count": 7,
   "metadata": {},
   "outputs": [],
   "source": [
    "# Access data for each airline, and append to the dataframe\n",
    "# (Technically works, but only returns 75 results)\n",
    "for airline in airlines:\n",
    "    airline_tweets = api.search(airline, \n",
    "                                count=1000)\n",
    "    for tweet in airline_tweets:\n",
    "        tweet_df = tweet_df.append({'airline': airline, 'text':tweet.text}, ignore_index=True)"
   ]
  },
  {
   "cell_type": "code",
   "execution_count": 11,
   "metadata": {},
   "outputs": [
    {
     "data": {
      "text/plain": [
       "(708, 2)"
      ]
     },
     "execution_count": 11,
     "metadata": {},
     "output_type": "execute_result"
    }
   ],
   "source": [
    "tweet_df.shape"
   ]
  },
  {
   "cell_type": "code",
   "execution_count": 12,
   "metadata": {},
   "outputs": [
    {
     "data": {
      "text/html": [
       "<div>\n",
       "<style scoped>\n",
       "    .dataframe tbody tr th:only-of-type {\n",
       "        vertical-align: middle;\n",
       "    }\n",
       "\n",
       "    .dataframe tbody tr th {\n",
       "        vertical-align: top;\n",
       "    }\n",
       "\n",
       "    .dataframe thead th {\n",
       "        text-align: right;\n",
       "    }\n",
       "</style>\n",
       "<table border=\"1\" class=\"dataframe\">\n",
       "  <thead>\n",
       "    <tr style=\"text-align: right;\">\n",
       "      <th></th>\n",
       "      <th>airline</th>\n",
       "      <th>text</th>\n",
       "    </tr>\n",
       "  </thead>\n",
       "  <tbody>\n",
       "    <tr>\n",
       "      <th>0</th>\n",
       "      <td>AmericanAir</td>\n",
       "      <td>@AmericanAir Must admit. Pretty disappointed i...</td>\n",
       "    </tr>\n",
       "    <tr>\n",
       "      <th>1</th>\n",
       "      <td>AmericanAir</td>\n",
       "      <td>RT jonnajarian \"Chicago pilots👨‍✈️👩‍✈️ America...</td>\n",
       "    </tr>\n",
       "    <tr>\n",
       "      <th>2</th>\n",
       "      <td>AmericanAir</td>\n",
       "      <td>RT @RoseBartu: yasssss!!! @americanair #upgrad...</td>\n",
       "    </tr>\n",
       "    <tr>\n",
       "      <th>3</th>\n",
       "      <td>AmericanAir</td>\n",
       "      <td>RT @TheRealTea_Ling: Are there any cyber Monda...</td>\n",
       "    </tr>\n",
       "    <tr>\n",
       "      <th>4</th>\n",
       "      <td>AmericanAir</td>\n",
       "      <td>RT @jonnajarian: What a class act: Chicago pil...</td>\n",
       "    </tr>\n",
       "  </tbody>\n",
       "</table>\n",
       "</div>"
      ],
      "text/plain": [
       "       airline                                               text\n",
       "0  AmericanAir  @AmericanAir Must admit. Pretty disappointed i...\n",
       "1  AmericanAir  RT jonnajarian \"Chicago pilots👨‍✈️👩‍✈️ America...\n",
       "2  AmericanAir  RT @RoseBartu: yasssss!!! @americanair #upgrad...\n",
       "3  AmericanAir  RT @TheRealTea_Ling: Are there any cyber Monda...\n",
       "4  AmericanAir  RT @jonnajarian: What a class act: Chicago pil..."
      ]
     },
     "execution_count": 12,
     "metadata": {},
     "output_type": "execute_result"
    }
   ],
   "source": [
    "tweet_df.head()"
   ]
  },
  {
   "cell_type": "code",
   "execution_count": 10,
   "metadata": {},
   "outputs": [],
   "source": [
    "# Save extracted data to a local directory\n",
    "if os.path.exists('airline_tweets/test_set.csv'):\n",
    "    os.remove('airline_tweets/test_set.csv')\n",
    "tweet_df.to_csv('airline_tweets/test_set.csv', encoding='utf-8')"
   ]
  },
  {
   "cell_type": "markdown",
   "metadata": {},
   "source": [
    "### Note: Accessing this file from another location\n",
    "\n",
    "This file requires a separate file called twitter_credentials.py with the following format\n",
    "\n",
    "CONSUMER_KEY = \n",
    "CONSUMER_SECRET = \n",
    "ACCESS_TOKEN = \n",
    "ACCESS_TOKEN_SECRET = \n",
    "\n",
    "Find credentials here after logging in \n",
    "https://apps.twitter.com/app/15976800/keys"
   ]
  }
 ],
 "metadata": {
  "kernelspec": {
   "display_name": "Python 3",
   "language": "python",
   "name": "python3"
  },
  "language_info": {
   "codemirror_mode": {
    "name": "ipython",
    "version": 3
   },
   "file_extension": ".py",
   "mimetype": "text/x-python",
   "name": "python",
   "nbconvert_exporter": "python",
   "pygments_lexer": "ipython3",
   "version": "3.7.0"
  }
 },
 "nbformat": 4,
 "nbformat_minor": 2
}
