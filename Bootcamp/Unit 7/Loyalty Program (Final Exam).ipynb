{
 "cells": [
  {
   "cell_type": "markdown",
   "metadata": {},
   "source": [
    "# 5) Using the data in the link below, attempt to model a customer’s propensity to join our loyalty program"
   ]
  },
  {
   "cell_type": "code",
   "execution_count": 1,
   "metadata": {},
   "outputs": [
    {
     "name": "stderr",
     "output_type": "stream",
     "text": [
      "C:\\Users\\mhuh22\\Anaconda3\\lib\\site-packages\\sklearn\\ensemble\\weight_boosting.py:29: DeprecationWarning: numpy.core.umath_tests is an internal NumPy module and should not be imported. It will be removed in a future NumPy release.\n",
      "  from numpy.core.umath_tests import inner1d\n"
     ]
    }
   ],
   "source": [
    "import numpy as np\n",
    "import pandas as pd\n",
    "import matplotlib.pyplot as plt\n",
    "import seaborn as sns\n",
    "from sklearn import ensemble\n",
    "from sklearn.linear_model import LogisticRegression\n",
    "from sklearn.metrics import confusion_matrix\n",
    "from sklearn.model_selection import cross_val_score, GridSearchCV, train_test_split\n",
    "from sklearn.utils import resample"
   ]
  },
  {
   "cell_type": "code",
   "execution_count": 2,
   "metadata": {},
   "outputs": [
    {
     "data": {
      "text/html": [
       "<div>\n",
       "<style scoped>\n",
       "    .dataframe tbody tr th:only-of-type {\n",
       "        vertical-align: middle;\n",
       "    }\n",
       "\n",
       "    .dataframe tbody tr th {\n",
       "        vertical-align: top;\n",
       "    }\n",
       "\n",
       "    .dataframe thead th {\n",
       "        text-align: right;\n",
       "    }\n",
       "</style>\n",
       "<table border=\"1\" class=\"dataframe\">\n",
       "  <thead>\n",
       "    <tr style=\"text-align: right;\">\n",
       "      <th></th>\n",
       "      <th>purch_amt</th>\n",
       "      <th>gender</th>\n",
       "      <th>card_on_file</th>\n",
       "      <th>age</th>\n",
       "      <th>days_since_last_purch</th>\n",
       "      <th>loyalty</th>\n",
       "    </tr>\n",
       "  </thead>\n",
       "  <tbody>\n",
       "    <tr>\n",
       "      <th>0</th>\n",
       "      <td>19.58</td>\n",
       "      <td>male</td>\n",
       "      <td>no</td>\n",
       "      <td>31.0</td>\n",
       "      <td>35.0</td>\n",
       "      <td>False</td>\n",
       "    </tr>\n",
       "    <tr>\n",
       "      <th>1</th>\n",
       "      <td>65.16</td>\n",
       "      <td>male</td>\n",
       "      <td>yes</td>\n",
       "      <td>23.0</td>\n",
       "      <td>61.0</td>\n",
       "      <td>False</td>\n",
       "    </tr>\n",
       "    <tr>\n",
       "      <th>2</th>\n",
       "      <td>40.60</td>\n",
       "      <td>female</td>\n",
       "      <td>no</td>\n",
       "      <td>36.0</td>\n",
       "      <td>49.0</td>\n",
       "      <td>False</td>\n",
       "    </tr>\n",
       "    <tr>\n",
       "      <th>3</th>\n",
       "      <td>38.01</td>\n",
       "      <td>male</td>\n",
       "      <td>yes</td>\n",
       "      <td>47.0</td>\n",
       "      <td>57.0</td>\n",
       "      <td>False</td>\n",
       "    </tr>\n",
       "    <tr>\n",
       "      <th>4</th>\n",
       "      <td>22.32</td>\n",
       "      <td>female</td>\n",
       "      <td>yes</td>\n",
       "      <td>5.0</td>\n",
       "      <td>39.0</td>\n",
       "      <td>False</td>\n",
       "    </tr>\n",
       "  </tbody>\n",
       "</table>\n",
       "</div>"
      ],
      "text/plain": [
       "   purch_amt  gender card_on_file   age  days_since_last_purch  loyalty\n",
       "0      19.58    male           no  31.0                   35.0    False\n",
       "1      65.16    male          yes  23.0                   61.0    False\n",
       "2      40.60  female           no  36.0                   49.0    False\n",
       "3      38.01    male          yes  47.0                   57.0    False\n",
       "4      22.32  female          yes   5.0                   39.0    False"
      ]
     },
     "execution_count": 2,
     "metadata": {},
     "output_type": "execute_result"
    }
   ],
   "source": [
    "# Read, clean, and preview the data\n",
    "data = pd.read_csv('https://raw.githubusercontent.com/Thinkful-Ed/data-201-resources/master/customers_data.csv')\n",
    "data.drop('Unnamed: 0',axis=1, inplace=True)\n",
    "data.head()"
   ]
  },
  {
   "cell_type": "code",
   "execution_count": 3,
   "metadata": {},
   "outputs": [
    {
     "data": {
      "text/html": [
       "<div>\n",
       "<style scoped>\n",
       "    .dataframe tbody tr th:only-of-type {\n",
       "        vertical-align: middle;\n",
       "    }\n",
       "\n",
       "    .dataframe tbody tr th {\n",
       "        vertical-align: top;\n",
       "    }\n",
       "\n",
       "    .dataframe thead th {\n",
       "        text-align: right;\n",
       "    }\n",
       "</style>\n",
       "<table border=\"1\" class=\"dataframe\">\n",
       "  <thead>\n",
       "    <tr style=\"text-align: right;\">\n",
       "      <th></th>\n",
       "      <th>purch_amt</th>\n",
       "      <th>age</th>\n",
       "      <th>days_since_last_purch</th>\n",
       "    </tr>\n",
       "  </thead>\n",
       "  <tbody>\n",
       "    <tr>\n",
       "      <th>count</th>\n",
       "      <td>120000.000000</td>\n",
       "      <td>120000.000000</td>\n",
       "      <td>120000.000000</td>\n",
       "    </tr>\n",
       "    <tr>\n",
       "      <th>mean</th>\n",
       "      <td>44.036234</td>\n",
       "      <td>25.803008</td>\n",
       "      <td>56.605908</td>\n",
       "    </tr>\n",
       "    <tr>\n",
       "      <th>std</th>\n",
       "      <td>20.473148</td>\n",
       "      <td>10.153072</td>\n",
       "      <td>16.422187</td>\n",
       "    </tr>\n",
       "    <tr>\n",
       "      <th>min</th>\n",
       "      <td>-43.950000</td>\n",
       "      <td>-22.000000</td>\n",
       "      <td>-9.000000</td>\n",
       "    </tr>\n",
       "    <tr>\n",
       "      <th>25%</th>\n",
       "      <td>30.210000</td>\n",
       "      <td>19.000000</td>\n",
       "      <td>45.000000</td>\n",
       "    </tr>\n",
       "    <tr>\n",
       "      <th>50%</th>\n",
       "      <td>43.970000</td>\n",
       "      <td>26.000000</td>\n",
       "      <td>57.000000</td>\n",
       "    </tr>\n",
       "    <tr>\n",
       "      <th>75%</th>\n",
       "      <td>57.830000</td>\n",
       "      <td>33.000000</td>\n",
       "      <td>68.000000</td>\n",
       "    </tr>\n",
       "    <tr>\n",
       "      <th>max</th>\n",
       "      <td>142.200000</td>\n",
       "      <td>71.000000</td>\n",
       "      <td>125.000000</td>\n",
       "    </tr>\n",
       "  </tbody>\n",
       "</table>\n",
       "</div>"
      ],
      "text/plain": [
       "           purch_amt            age  days_since_last_purch\n",
       "count  120000.000000  120000.000000          120000.000000\n",
       "mean       44.036234      25.803008              56.605908\n",
       "std        20.473148      10.153072              16.422187\n",
       "min       -43.950000     -22.000000              -9.000000\n",
       "25%        30.210000      19.000000              45.000000\n",
       "50%        43.970000      26.000000              57.000000\n",
       "75%        57.830000      33.000000              68.000000\n",
       "max       142.200000      71.000000             125.000000"
      ]
     },
     "execution_count": 3,
     "metadata": {},
     "output_type": "execute_result"
    }
   ],
   "source": [
    "# View statistics on dataset\n",
    "data.describe()"
   ]
  },
  {
   "cell_type": "code",
   "execution_count": 4,
   "metadata": {},
   "outputs": [],
   "source": [
    "# Drop all rows with negative values\n",
    "# The 3 columns above should not have negative values\n",
    "for col in data.select_dtypes(include=[np.number]).columns.tolist()[1:]:\n",
    "    data = data[data[col] >= 0]"
   ]
  },
  {
   "cell_type": "code",
   "execution_count": 5,
   "metadata": {},
   "outputs": [
    {
     "name": "stderr",
     "output_type": "stream",
     "text": [
      "C:\\Users\\mhuh22\\Anaconda3\\lib\\site-packages\\scipy\\stats\\stats.py:1713: FutureWarning: Using a non-tuple sequence for multidimensional indexing is deprecated; use `arr[tuple(seq)]` instead of `arr[seq]`. In the future this will be interpreted as an array index, `arr[np.array(seq)]`, which will result either in an error or a different result.\n",
      "  return np.add.reduce(sorted[indexer] * weights, axis=axis) / sumval\n"
     ]
    },
    {
     "data": {
      "text/plain": [
       "<matplotlib.axes._subplots.AxesSubplot at 0x1dcba384b70>"
      ]
     },
     "execution_count": 5,
     "metadata": {},
     "output_type": "execute_result"
    },
    {
     "data": {
      "image/png": "[encoded data removed]",
      "text/plain": [
       "<Figure size 1080x504 with 4 Axes>"
      ]
     },
     "metadata": {
      "needs_background": "light"
     },
     "output_type": "display_data"
    }
   ],
   "source": [
    "# View all numeric values\n",
    "f, axes = plt.subplots(2,2, figsize=(15,7), sharex=True)\n",
    "sns.despine(left=True)\n",
    "\n",
    "sns.distplot(data['purch_amt'], ax=axes[0, 0])\n",
    "\n",
    "sns.distplot(data['age'], ax=axes[0, 1])\n",
    "\n",
    "sns.distplot(data['days_since_last_purch'], ax=axes[1, 0])"
   ]
  },
  {
   "cell_type": "code",
   "execution_count": 6,
   "metadata": {},
   "outputs": [
    {
     "data": {
      "text/plain": [
       "<matplotlib.axes._subplots.AxesSubplot at 0x1dcbaaf3eb8>"
      ]
     },
     "execution_count": 6,
     "metadata": {},
     "output_type": "execute_result"
    },
    {
     "data": {
      "image/png": "[encoded data removed]",
      "text/plain": [
       "<Figure size 1080x504 with 4 Axes>"
      ]
     },
     "metadata": {
      "needs_background": "light"
     },
     "output_type": "display_data"
    }
   ],
   "source": [
    "# View all binary values\n",
    "f, axes = plt.subplots(2,2, figsize=(15,7), sharex=True)\n",
    "sns.despine(left=True)\n",
    "\n",
    "sns.barplot(x = data['gender'].value_counts().index,\n",
    "            y = data['gender'].value_counts(), \n",
    "            ax=axes[0, 0],)\n",
    "\n",
    "sns.barplot(x = data['card_on_file'].value_counts().index,\n",
    "            y = data['card_on_file'].value_counts(),\n",
    "            ax = axes[0, 1])\n",
    "\n",
    "sns.barplot(x = data['loyalty'].value_counts().index,\n",
    "            y = data['loyalty'].value_counts(),\n",
    "            ax = axes[1,0])"
   ]
  },
  {
   "cell_type": "code",
   "execution_count": 7,
   "metadata": {},
   "outputs": [],
   "source": [
    "# Binarize variables\n",
    "gender_map = {'male': 0, 'female': 1}\n",
    "card_on_file_map = {'no': 0, 'yes': 1}\n",
    "loyalty_map = {False: 0, True: 1}\n",
    "\n",
    "data['gender'] = data['gender'].map(lambda x: gender_map[x])\n",
    "data['card_on_file'] = data['card_on_file'].map(lambda x: card_on_file_map[x])\n",
    "data['loyalty'] = data['loyalty'].map(lambda x: loyalty_map[x])"
   ]
  },
  {
   "cell_type": "code",
   "execution_count": 8,
   "metadata": {},
   "outputs": [
    {
     "data": {
      "text/html": [
       "<div>\n",
       "<style scoped>\n",
       "    .dataframe tbody tr th:only-of-type {\n",
       "        vertical-align: middle;\n",
       "    }\n",
       "\n",
       "    .dataframe tbody tr th {\n",
       "        vertical-align: top;\n",
       "    }\n",
       "\n",
       "    .dataframe thead th {\n",
       "        text-align: right;\n",
       "    }\n",
       "</style>\n",
       "<table border=\"1\" class=\"dataframe\">\n",
       "  <thead>\n",
       "    <tr style=\"text-align: right;\">\n",
       "      <th></th>\n",
       "      <th>purch_amt</th>\n",
       "      <th>gender</th>\n",
       "      <th>card_on_file</th>\n",
       "      <th>age</th>\n",
       "      <th>days_since_last_purch</th>\n",
       "      <th>loyalty</th>\n",
       "    </tr>\n",
       "  </thead>\n",
       "  <tbody>\n",
       "    <tr>\n",
       "      <th>0</th>\n",
       "      <td>19.58</td>\n",
       "      <td>0</td>\n",
       "      <td>0</td>\n",
       "      <td>31.0</td>\n",
       "      <td>35.0</td>\n",
       "      <td>0</td>\n",
       "    </tr>\n",
       "    <tr>\n",
       "      <th>1</th>\n",
       "      <td>65.16</td>\n",
       "      <td>0</td>\n",
       "      <td>1</td>\n",
       "      <td>23.0</td>\n",
       "      <td>61.0</td>\n",
       "      <td>0</td>\n",
       "    </tr>\n",
       "    <tr>\n",
       "      <th>2</th>\n",
       "      <td>40.60</td>\n",
       "      <td>1</td>\n",
       "      <td>0</td>\n",
       "      <td>36.0</td>\n",
       "      <td>49.0</td>\n",
       "      <td>0</td>\n",
       "    </tr>\n",
       "    <tr>\n",
       "      <th>3</th>\n",
       "      <td>38.01</td>\n",
       "      <td>0</td>\n",
       "      <td>1</td>\n",
       "      <td>47.0</td>\n",
       "      <td>57.0</td>\n",
       "      <td>0</td>\n",
       "    </tr>\n",
       "    <tr>\n",
       "      <th>4</th>\n",
       "      <td>22.32</td>\n",
       "      <td>1</td>\n",
       "      <td>1</td>\n",
       "      <td>5.0</td>\n",
       "      <td>39.0</td>\n",
       "      <td>0</td>\n",
       "    </tr>\n",
       "  </tbody>\n",
       "</table>\n",
       "</div>"
      ],
      "text/plain": [
       "   purch_amt  gender  card_on_file   age  days_since_last_purch  loyalty\n",
       "0      19.58       0             0  31.0                   35.0        0\n",
       "1      65.16       0             1  23.0                   61.0        0\n",
       "2      40.60       1             0  36.0                   49.0        0\n",
       "3      38.01       0             1  47.0                   57.0        0\n",
       "4      22.32       1             1   5.0                   39.0        0"
      ]
     },
     "execution_count": 8,
     "metadata": {},
     "output_type": "execute_result"
    }
   ],
   "source": [
    "# Preview the data before modelling\n",
    "data.head()"
   ]
  },
  {
   "cell_type": "code",
   "execution_count": 9,
   "metadata": {},
   "outputs": [],
   "source": [
    "# Declare input and output variables\n",
    "X = data.drop(['loyalty'], axis=1)\n",
    "y = data['loyalty']\n",
    "\n",
    "# Divide the dataset into training and testing datasets\n",
    "X_train, X_test, y_train, y_test = train_test_split(X, y, test_size=0.3, stratify = y, random_state=0)"
   ]
  },
  {
   "cell_type": "code",
   "execution_count": 10,
   "metadata": {},
   "outputs": [],
   "source": [
    "# Upsample loyalty so that both values are equally represented \n",
    "loyalty_false = data[data.loyalty==False]\n",
    "loyalty_true = resample(data[data.loyalty==True], replace=True, n_samples = len(loyalty_false))\n",
    "data = pd.concat([loyalty_false, loyalty_true])"
   ]
  },
  {
   "cell_type": "code",
   "execution_count": 11,
   "metadata": {},
   "outputs": [],
   "source": [
    "# Declare input and output variables\n",
    "X_u = data.drop(['loyalty'], axis=1)\n",
    "y_u = data['loyalty']\n",
    "\n",
    "# Divide the dataset into training and testing datasets\n",
    "X_train_u, X_test_u, y_train_u, y_test_u = train_test_split(X_u, y_u, test_size=0.3, stratify = y_u, random_state=0)"
   ]
  },
  {
   "cell_type": "code",
   "execution_count": 12,
   "metadata": {},
   "outputs": [
    {
     "name": "stdout",
     "output_type": "stream",
     "text": [
      "Logistic regression train score: 0.79508(+/- 0.00)\n",
      "\n",
      "Logistic regression test score: 0.87016(+/- 0.00)\n",
      "\n",
      "Confusion matrix:\n",
      "\n",
      " [[23541  6293]\n",
      " [ 1160  4827]]\n"
     ]
    }
   ],
   "source": [
    "## Logistic regression model\n",
    "lr = LogisticRegression()\n",
    "\n",
    "# Parameters for logistic regression model\n",
    "param_grid = {'solver': ['lbfgs', 'liblinear'],\n",
    "             'C': [1, 10, 100, 1000]}\n",
    "\n",
    "lr_grid = GridSearchCV(lr, param_grid, cv=5, n_jobs=-1)\n",
    "\n",
    "lr_grid.fit(X_train_u, y_train_u)\n",
    "\n",
    "lr_train = cross_val_score(lr_grid, X_train_u, y_train_u, cv=5, n_jobs=-1)\n",
    "lr_test = cross_val_score(lr_grid, X_test, y_test, cv=5, n_jobs=-1)\n",
    "\n",
    "print('Logistic regression train score: {:.5f}(+/- {:.2f})\\n'.format(lr_train.mean(), lr_train.std()*2))\n",
    "print('Logistic regression test score: {:.5f}(+/- {:.2f})\\n'.format(lr_test.mean(), lr_test.std()*2))\n",
    "\n",
    "y_pred_lr = lr_grid.predict(X_test)\n",
    "print('Confusion matrix:\\n\\n', confusion_matrix(y_test, y_pred_lr))"
   ]
  },
  {
   "cell_type": "code",
   "execution_count": 13,
   "metadata": {},
   "outputs": [
    {
     "name": "stdout",
     "output_type": "stream",
     "text": [
      "Random forest train score: 0.91685(+/- 0.00)\n",
      "\n",
      "Random forest test score: 0.85428(+/- 0.00)\n",
      "\n",
      "Confusion matrix:\n",
      "\n",
      " [[26185  3649]\n",
      " [   84  5903]]\n"
     ]
    }
   ],
   "source": [
    "# Random forest model\n",
    "rfc = ensemble.RandomForestClassifier()\n",
    "\n",
    "param_grid = {'n_estimators' : [10, 20, 40, 60],\n",
    "              'class_weight': ['balanced', 'balanced_subsample'],\n",
    "             'oob_score': [True, False]}\n",
    "\n",
    "# Run grid search to find ideal parameters\n",
    "rfc_grid = GridSearchCV(rfc, param_grid, cv=5, n_jobs=-1)\n",
    "\n",
    "# Fit the model to the data\n",
    "rfc_grid.fit(X_train_u, y_train_u)\n",
    "\n",
    "rfc_train = cross_val_score(rfc_grid, X_train_u, y_train_u, cv=5, n_jobs=-1)\n",
    "rfc_test = cross_val_score(rfc_grid, X_test, y_test, cv=5, n_jobs=-1)\n",
    "print('Random forest train score: {:.5f}(+/- {:.2f})\\n'.format(rfc_train.mean(), rfc_train.std()*2))\n",
    "print('Random forest test score: {:.5f}(+/- {:.2f})\\n'.format(rfc_test.mean(), rfc_test.std()*2))\n",
    "\n",
    "y_pred_rfc = rfc_grid.predict(X_test)\n",
    "print('Confusion matrix:\\n\\n', confusion_matrix(y_test, y_pred_rfc))"
   ]
  }
 ],
 "metadata": {
  "kernelspec": {
   "display_name": "Python 3",
   "language": "python",
   "name": "python3"
  },
  "language_info": {
   "codemirror_mode": {
    "name": "ipython",
    "version": 3
   },
   "file_extension": ".py",
   "mimetype": "text/x-python",
   "name": "python",
   "nbconvert_exporter": "python",
   "pygments_lexer": "ipython3",
   "version": "3.7.0"
  }
 },
 "nbformat": 4,
 "nbformat_minor": 2
}
