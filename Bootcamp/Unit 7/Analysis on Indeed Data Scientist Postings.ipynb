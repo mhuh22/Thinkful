{
 "cells": [
  {
   "cell_type": "markdown",
   "metadata": {},
   "source": [
    "# Basic summary of what this capstone will, and may accomplish\n",
    "\n",
    "* Scrape data from indeed, and return job postings\n",
    "* properly format location, title, requirements\n",
    "* analyze what words and requirements occur the most\n",
    "* Determine the quality of each job posting (how generic does it sound, and how common are the phrases that they are using) - this is important, but needs a bit of refinement\n",
    "\n",
    "Stretch goals\n",
    "* add input to allow users to specifiy the cities to look at\n",
    "\n",
    "* add a map to visualize how many postings there are in each city "
   ]
  },
  {
   "cell_type": "code",
   "execution_count": 1,
   "metadata": {},
   "outputs": [],
   "source": [
    "import requests\n",
    "import bs4\n",
    "from bs4 import BeautifulSoup\n",
    "import pandas as pd\n",
    "import time"
   ]
  },
  {
   "cell_type": "code",
   "execution_count": null,
   "metadata": {},
   "outputs": [],
   "source": [
    "URL = 'https://www.indeed.com/jobs?q=data+scientist+%2420%2C000&l=New+York&start=10'\n",
    "# conducting a request of the stated URL above:\n",
    "page = requests.get(URL)\n",
    "# specifying a desired format of “page” using the html parser \n",
    "# - this allows python to read the various components of the page\n",
    "# , rather than treating it as one long string.\n",
    "soup = BeautifulSoup(page.text, “html.parser”)\n",
    "# printing soup in a more structured tree format that makes for easier reading\n",
    "print(soup.prettify())"
   ]
  }
 ],
 "metadata": {
  "kernelspec": {
   "display_name": "Python 3",
   "language": "python",
   "name": "python3"
  },
  "language_info": {
   "codemirror_mode": {
    "name": "ipython",
    "version": 3
   },
   "file_extension": ".py",
   "mimetype": "text/x-python",
   "name": "python",
   "nbconvert_exporter": "python",
   "pygments_lexer": "ipython3",
   "version": "3.6.4"
  }
 },
 "nbformat": 4,
 "nbformat_minor": 2
}
