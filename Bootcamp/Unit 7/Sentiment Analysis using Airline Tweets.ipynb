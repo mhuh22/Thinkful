{
 "cells": [
  {
   "cell_type": "markdown",
   "metadata": {},
   "source": [
    "# Sentiment Analysis using Airline Tweets\n",
    "Author: Matthew Huh\n",
    "\n",
    "<div class=\"alert alert-block alert-warning\">\n",
    "Note: The visuals for this project do not render correctly on Github; if you would like to view the presentation the way it was meant to be seen, please click on the following link.\n",
    "\n",
    "http://nbviewer.jupyter.org/github/mhuh22/Thinkful/blob/master/Bootcamp/Unit%207/Sentiment%20Analysis%20using%20Airline%20Tweets.ipynb\n",
    "</div>\n",
    "\n",
    "## Introduction\n",
    "\n",
    "Corporations, like airlines, should care about what their customers have to say about them, especially if customers are able to take their money to another competitor. I’ll be evaluating the comments by what types of comments people are leaving, and if that is viewed positively, negatively, or somewhere in the middle. This feedback should allow companies to know what their customers think about them, and how people perceive them.\n",
    "\n",
    "## About the Data\n",
    "\n",
    "The training data has been obtained from crowdflower on Kaggle, and the testing set has been obtained via Twitter's API on more recent data. \n",
    "\n",
    "The training set has far more information as the data has been reviewed by people to determine the sentiment, and the rationale behind negative comments, something that may not be so easily extracted from the testing data set.\n",
    "\n",
    "## Research Question\n",
    "\n",
    "## Packages\n",
    "\n",
    "## Source\n",
    "\n",
    "https://www.kaggle.com/crowdflower/twitter-airline-sentiment\n",
    "\n",
    "\n",
    "# To-do list\n",
    "\n",
    "### Necessary\n",
    "* Profread the text (Yes, this is intentional)\n",
    "* Implement NLP methods (LSA, LDA, NNMF)\n",
    "\n",
    "\n",
    "* Done: Run machine learning models\n",
    "* Todo: Optimize machine learning models\n",
    "\n",
    "\n",
    "### Optional\n",
    "* Done: Extract twitter data for testing data set (sort of)\n",
    "* Todo: Extract more data? (Is 18,000 possible?)"
   ]
  },
  {
   "cell_type": "code",
   "execution_count": 1,
   "metadata": {},
   "outputs": [
    {
     "name": "stderr",
     "output_type": "stream",
     "text": [
      "C:\\Users\\mhuh22\\Anaconda3\\lib\\site-packages\\sklearn\\ensemble\\weight_boosting.py:29: DeprecationWarning: numpy.core.umath_tests is an internal NumPy module and should not be imported. It will be removed in a future NumPy release.\n",
      "  from numpy.core.umath_tests import inner1d\n"
     ]
    },
    {
     "data": {
      "text/html": [
       "<script type=\"text/javascript\">window.PlotlyConfig = {MathJaxConfig: 'local'};</script><script type=\"text/javascript\">if (window.MathJax) {MathJax.Hub.Config({SVG: {font: \"STIX-Web\"}});}</script><script>requirejs.config({paths: { 'plotly': ['https://cdn.plot.ly/plotly-latest.min']},});if(!window._Plotly) {require(['plotly'],function(plotly) {window._Plotly=plotly;});}</script>"
      ],
      "text/vnd.plotly.v1+html": [
       "<script type=\"text/javascript\">window.PlotlyConfig = {MathJaxConfig: 'local'};</script><script type=\"text/javascript\">if (window.MathJax) {MathJax.Hub.Config({SVG: {font: \"STIX-Web\"}});}</script><script>requirejs.config({paths: { 'plotly': ['https://cdn.plot.ly/plotly-latest.min']},});if(!window._Plotly) {require(['plotly'],function(plotly) {window._Plotly=plotly;});}</script>"
      ]
     },
     "metadata": {},
     "output_type": "display_data"
    }
   ],
   "source": [
    "# Basic imports\n",
    "import os\n",
    "import time\n",
    "import timeit\n",
    "import numpy as np\n",
    "import pandas as pd\n",
    "import scipy\n",
    "import sklearn\n",
    "import matplotlib.pyplot as plt\n",
    "import seaborn as sns\n",
    "from sklearn.utils import resample\n",
    "%matplotlib inline\n",
    "\n",
    "# Machine Learning packages\n",
    "from sklearn import ensemble\n",
    "from sklearn.feature_selection import chi2, f_classif, SelectKBest \n",
    "from sklearn.linear_model import LogisticRegression\n",
    "from sklearn.model_selection import cross_val_score, GridSearchCV, train_test_split\n",
    "from sklearn.preprocessing import normalize\n",
    "\n",
    "# Natural Language processing\n",
    "import nltk\n",
    "import re\n",
    "from collections import Counter\n",
    "from nltk.corpus import stopwords\n",
    "from nltk.stem import WordNetLemmatizer\n",
    "from sklearn.datasets import fetch_rcv1\n",
    "from sklearn.decomposition import NMF, TruncatedSVD\n",
    "from sklearn.feature_extraction.text import TfidfVectorizer\n",
    "from sklearn.pipeline import make_pipeline\n",
    "from sklearn.preprocessing import Normalizer\n",
    "from nltk.corpus import stopwords\n",
    "from wordcloud import WordCloud, STOPWORDS\n",
    "\n",
    "# Clustering packages\n",
    "import sklearn.cluster as cluster\n",
    "from sklearn.cluster import KMeans, MeanShift, estimate_bandwidth, SpectralClustering, AffinityPropagation\n",
    "from scipy.spatial.distance import cdist\n",
    "\n",
    "# Plotly packages\n",
    "import plotly as py\n",
    "import plotly.figure_factory as ff\n",
    "import plotly.graph_objs as go\n",
    "from plotly import tools\n",
    "import cufflinks as cf\n",
    "import ipywidgets as widgets\n",
    "from scipy import special\n",
    "py.offline.init_notebook_mode(connected=True)"
   ]
  },
  {
   "cell_type": "code",
   "execution_count": 2,
   "metadata": {},
   "outputs": [
    {
     "data": {
      "text/html": [
       "<div>\n",
       "<style scoped>\n",
       "    .dataframe tbody tr th:only-of-type {\n",
       "        vertical-align: middle;\n",
       "    }\n",
       "\n",
       "    .dataframe tbody tr th {\n",
       "        vertical-align: top;\n",
       "    }\n",
       "\n",
       "    .dataframe thead th {\n",
       "        text-align: right;\n",
       "    }\n",
       "</style>\n",
       "<table border=\"1\" class=\"dataframe\">\n",
       "  <thead>\n",
       "    <tr style=\"text-align: right;\">\n",
       "      <th></th>\n",
       "      <th>tweet_id</th>\n",
       "      <th>airline_sentiment</th>\n",
       "      <th>airline_sentiment_confidence</th>\n",
       "      <th>negativereason</th>\n",
       "      <th>negativereason_confidence</th>\n",
       "      <th>airline</th>\n",
       "      <th>airline_sentiment_gold</th>\n",
       "      <th>name</th>\n",
       "      <th>negativereason_gold</th>\n",
       "      <th>retweet_count</th>\n",
       "      <th>text</th>\n",
       "      <th>tweet_coord</th>\n",
       "      <th>tweet_created</th>\n",
       "      <th>tweet_location</th>\n",
       "      <th>user_timezone</th>\n",
       "    </tr>\n",
       "  </thead>\n",
       "  <tbody>\n",
       "    <tr>\n",
       "      <th>0</th>\n",
       "      <td>570306133677760513</td>\n",
       "      <td>neutral</td>\n",
       "      <td>1.0000</td>\n",
       "      <td>NaN</td>\n",
       "      <td>NaN</td>\n",
       "      <td>Virgin America</td>\n",
       "      <td>NaN</td>\n",
       "      <td>cairdin</td>\n",
       "      <td>NaN</td>\n",
       "      <td>0</td>\n",
       "      <td>@VirginAmerica What @dhepburn said.</td>\n",
       "      <td>NaN</td>\n",
       "      <td>2015-02-24 11:35:52 -0800</td>\n",
       "      <td>NaN</td>\n",
       "      <td>Eastern Time (US &amp; Canada)</td>\n",
       "    </tr>\n",
       "    <tr>\n",
       "      <th>1</th>\n",
       "      <td>570301130888122368</td>\n",
       "      <td>positive</td>\n",
       "      <td>0.3486</td>\n",
       "      <td>NaN</td>\n",
       "      <td>0.0000</td>\n",
       "      <td>Virgin America</td>\n",
       "      <td>NaN</td>\n",
       "      <td>jnardino</td>\n",
       "      <td>NaN</td>\n",
       "      <td>0</td>\n",
       "      <td>@VirginAmerica plus you've added commercials t...</td>\n",
       "      <td>NaN</td>\n",
       "      <td>2015-02-24 11:15:59 -0800</td>\n",
       "      <td>NaN</td>\n",
       "      <td>Pacific Time (US &amp; Canada)</td>\n",
       "    </tr>\n",
       "    <tr>\n",
       "      <th>2</th>\n",
       "      <td>570301083672813571</td>\n",
       "      <td>neutral</td>\n",
       "      <td>0.6837</td>\n",
       "      <td>NaN</td>\n",
       "      <td>NaN</td>\n",
       "      <td>Virgin America</td>\n",
       "      <td>NaN</td>\n",
       "      <td>yvonnalynn</td>\n",
       "      <td>NaN</td>\n",
       "      <td>0</td>\n",
       "      <td>@VirginAmerica I didn't today... Must mean I n...</td>\n",
       "      <td>NaN</td>\n",
       "      <td>2015-02-24 11:15:48 -0800</td>\n",
       "      <td>Lets Play</td>\n",
       "      <td>Central Time (US &amp; Canada)</td>\n",
       "    </tr>\n",
       "    <tr>\n",
       "      <th>3</th>\n",
       "      <td>570301031407624196</td>\n",
       "      <td>negative</td>\n",
       "      <td>1.0000</td>\n",
       "      <td>Bad Flight</td>\n",
       "      <td>0.7033</td>\n",
       "      <td>Virgin America</td>\n",
       "      <td>NaN</td>\n",
       "      <td>jnardino</td>\n",
       "      <td>NaN</td>\n",
       "      <td>0</td>\n",
       "      <td>@VirginAmerica it's really aggressive to blast...</td>\n",
       "      <td>NaN</td>\n",
       "      <td>2015-02-24 11:15:36 -0800</td>\n",
       "      <td>NaN</td>\n",
       "      <td>Pacific Time (US &amp; Canada)</td>\n",
       "    </tr>\n",
       "    <tr>\n",
       "      <th>4</th>\n",
       "      <td>570300817074462722</td>\n",
       "      <td>negative</td>\n",
       "      <td>1.0000</td>\n",
       "      <td>Can't Tell</td>\n",
       "      <td>1.0000</td>\n",
       "      <td>Virgin America</td>\n",
       "      <td>NaN</td>\n",
       "      <td>jnardino</td>\n",
       "      <td>NaN</td>\n",
       "      <td>0</td>\n",
       "      <td>@VirginAmerica and it's a really big bad thing...</td>\n",
       "      <td>NaN</td>\n",
       "      <td>2015-02-24 11:14:45 -0800</td>\n",
       "      <td>NaN</td>\n",
       "      <td>Pacific Time (US &amp; Canada)</td>\n",
       "    </tr>\n",
       "  </tbody>\n",
       "</table>\n",
       "</div>"
      ],
      "text/plain": [
       "             tweet_id airline_sentiment  airline_sentiment_confidence  \\\n",
       "0  570306133677760513           neutral                        1.0000   \n",
       "1  570301130888122368          positive                        0.3486   \n",
       "2  570301083672813571           neutral                        0.6837   \n",
       "3  570301031407624196          negative                        1.0000   \n",
       "4  570300817074462722          negative                        1.0000   \n",
       "\n",
       "  negativereason  negativereason_confidence         airline  \\\n",
       "0            NaN                        NaN  Virgin America   \n",
       "1            NaN                     0.0000  Virgin America   \n",
       "2            NaN                        NaN  Virgin America   \n",
       "3     Bad Flight                     0.7033  Virgin America   \n",
       "4     Can't Tell                     1.0000  Virgin America   \n",
       "\n",
       "  airline_sentiment_gold        name negativereason_gold  retweet_count  \\\n",
       "0                    NaN     cairdin                 NaN              0   \n",
       "1                    NaN    jnardino                 NaN              0   \n",
       "2                    NaN  yvonnalynn                 NaN              0   \n",
       "3                    NaN    jnardino                 NaN              0   \n",
       "4                    NaN    jnardino                 NaN              0   \n",
       "\n",
       "                                                text tweet_coord  \\\n",
       "0                @VirginAmerica What @dhepburn said.         NaN   \n",
       "1  @VirginAmerica plus you've added commercials t...         NaN   \n",
       "2  @VirginAmerica I didn't today... Must mean I n...         NaN   \n",
       "3  @VirginAmerica it's really aggressive to blast...         NaN   \n",
       "4  @VirginAmerica and it's a really big bad thing...         NaN   \n",
       "\n",
       "               tweet_created tweet_location               user_timezone  \n",
       "0  2015-02-24 11:35:52 -0800            NaN  Eastern Time (US & Canada)  \n",
       "1  2015-02-24 11:15:59 -0800            NaN  Pacific Time (US & Canada)  \n",
       "2  2015-02-24 11:15:48 -0800      Lets Play  Central Time (US & Canada)  \n",
       "3  2015-02-24 11:15:36 -0800            NaN  Pacific Time (US & Canada)  \n",
       "4  2015-02-24 11:14:45 -0800            NaN  Pacific Time (US & Canada)  "
      ]
     },
     "execution_count": 2,
     "metadata": {},
     "output_type": "execute_result"
    }
   ],
   "source": [
    "# Import the data\n",
    "tweets = pd.read_csv(\"airline_tweets/Tweets.csv\")\n",
    "\n",
    "# Preview the dataset\n",
    "tweets.head()"
   ]
  },
  {
   "cell_type": "code",
   "execution_count": 3,
   "metadata": {},
   "outputs": [
    {
     "data": {
      "text/plain": [
       "(14640, 15)"
      ]
     },
     "execution_count": 3,
     "metadata": {},
     "output_type": "execute_result"
    }
   ],
   "source": [
    "# View the size of the dataset\n",
    "tweets.shape"
   ]
  },
  {
   "cell_type": "markdown",
   "metadata": {},
   "source": [
    "This dataset has a bit more information than we actually need for this project. We definitely need the text information since that is what we are evaluating, the sentiment since that is what we are trying to measure, and the reason to determine what clusters of complaints people are encountering. As for the rest, they could have some impact on the outcome, but they are not what we are trying to measure so, we'll drop the rest before continuing in order to improve our runtimes."
   ]
  },
  {
   "cell_type": "code",
   "execution_count": 4,
   "metadata": {},
   "outputs": [],
   "source": [
    "# Drop columns that have no predictive power\n",
    "tweets.drop(['tweet_id'], axis=1,inplace=True)"
   ]
  },
  {
   "cell_type": "code",
   "execution_count": 5,
   "metadata": {},
   "outputs": [
    {
     "data": {
      "text/plain": [
       "['American', 'Delta', 'Southwest', 'US Airways', 'United', 'Virgin America']"
      ]
     },
     "execution_count": 5,
     "metadata": {},
     "output_type": "execute_result"
    }
   ],
   "source": [
    "# Print unique airlines in the dataset\n",
    "sorted(tweets['airline'].unique())"
   ]
  },
  {
   "cell_type": "code",
   "execution_count": 6,
   "metadata": {},
   "outputs": [
    {
     "data": {
      "text/plain": [
       "airline_sentiment             3\n",
       "negativereason               10\n",
       "airline                       6\n",
       "airline_sentiment_gold        3\n",
       "name                       7701\n",
       "negativereason_gold          13\n",
       "text                      14427\n",
       "tweet_coord                 832\n",
       "tweet_created             14247\n",
       "tweet_location             3081\n",
       "user_timezone                85\n",
       "dtype: int64"
      ]
     },
     "execution_count": 6,
     "metadata": {},
     "output_type": "execute_result"
    }
   ],
   "source": [
    "# Describe unique occurences for each categorical variable\n",
    "tweets.select_dtypes(include=['object']).nunique()"
   ]
  },
  {
   "cell_type": "markdown",
   "metadata": {},
   "source": [
    "## Data Visualization"
   ]
  },
  {
   "cell_type": "code",
   "execution_count": 7,
   "metadata": {},
   "outputs": [
    {
     "data": {
      "application/vnd.plotly.v1+json": {
       "data": [
        {
         "labels": [
          "negative",
          "neutral",
          "positive"
         ],
         "type": "pie",
         "uid": "1098ca2c-dd56-4b3c-920d-eee92840c448",
         "values": [
          9178,
          3099,
          2363
         ]
        }
       ],
       "layout": {
        "autosize": false,
        "height": 400,
        "title": "Tweet Sentiment",
        "width": 500,
        "yaxis": {
         "title": "Number of tweets"
        }
       }
      },
      "text/html": [
       "<div id=\"156eec21-bf6a-4104-89e5-671caa0fc71c\" style=\"height: 400px; width: 500px;\" class=\"plotly-graph-div\"></div><script type=\"text/javascript\">require([\"plotly\"], function(Plotly) { window.PLOTLYENV=window.PLOTLYENV || {};window.PLOTLYENV.BASE_URL=\"https://plot.ly\";Plotly.newPlot(\"156eec21-bf6a-4104-89e5-671caa0fc71c\", [{\"labels\": [\"negative\", \"neutral\", \"positive\"], \"values\": [9178, 3099, 2363], \"type\": \"pie\", \"uid\": \"1098ca2c-dd56-4b3c-920d-eee92840c448\"}], {\"autosize\": false, \"height\": 400, \"title\": \"Tweet Sentiment\", \"width\": 500, \"yaxis\": {\"title\": \"Number of tweets\"}}, {\"showLink\": true, \"linkText\": \"Export to plot.ly\"})});</script>"
      ],
      "text/vnd.plotly.v1+html": [
       "<div id=\"156eec21-bf6a-4104-89e5-671caa0fc71c\" style=\"height: 400px; width: 500px;\" class=\"plotly-graph-div\"></div><script type=\"text/javascript\">require([\"plotly\"], function(Plotly) { window.PLOTLYENV=window.PLOTLYENV || {};window.PLOTLYENV.BASE_URL=\"https://plot.ly\";Plotly.newPlot(\"156eec21-bf6a-4104-89e5-671caa0fc71c\", [{\"labels\": [\"negative\", \"neutral\", \"positive\"], \"values\": [9178, 3099, 2363], \"type\": \"pie\", \"uid\": \"1098ca2c-dd56-4b3c-920d-eee92840c448\"}], {\"autosize\": false, \"height\": 400, \"title\": \"Tweet Sentiment\", \"width\": 500, \"yaxis\": {\"title\": \"Number of tweets\"}}, {\"showLink\": true, \"linkText\": \"Export to plot.ly\"})});</script>"
      ]
     },
     "metadata": {},
     "output_type": "display_data"
    }
   ],
   "source": [
    "# View distribution of tweets by sentiment \n",
    "# (Changing colors to red/gray/green would be nice)\n",
    "trace = go.Pie(labels=tweets['airline_sentiment'].value_counts().index, \n",
    "              values=tweets['airline_sentiment'].value_counts())\n",
    "\n",
    "# Create the layout\n",
    "layout = go.Layout(\n",
    "    title = 'Tweet Sentiment',\n",
    "    height = 400,\n",
    "    width = 500,\n",
    "    autosize = False,\n",
    "    yaxis = dict(title='Number of tweets')\n",
    ")\n",
    "\n",
    "fig = go.Figure(data = [trace], layout = layout)\n",
    "py.offline.iplot(fig, filename='cufflinks/simple')"
   ]
  },
  {
   "cell_type": "code",
   "execution_count": 8,
   "metadata": {},
   "outputs": [
    {
     "data": {
      "application/vnd.plotly.v1+json": {
       "data": [
        {
         "opacity": 0.7,
         "type": "bar",
         "uid": "dc3eee1d-998b-4c41-872f-ead8252fff19",
         "x": [
          "Customer Service Issue",
          "Late Flight",
          "Can't Tell",
          "Cancelled Flight",
          "Lost Luggage",
          "Bad Flight",
          "Flight Booking Problems",
          "Flight Attendant Complaints",
          "longlines",
          "Damaged Luggage"
         ],
         "y": [
          2910,
          1665,
          1190,
          847,
          724,
          580,
          529,
          481,
          178,
          74
         ]
        }
       ],
       "layout": {
        "title": "Negative Tweets by Reason",
        "yaxis": {
         "title": "Number of tweets"
        }
       }
      },
      "text/html": [
       "<div id=\"b16709ef-6b80-4c1b-b9cc-32c89eb583ed\" style=\"height: 525px; width: 100%;\" class=\"plotly-graph-div\"></div><script type=\"text/javascript\">require([\"plotly\"], function(Plotly) { window.PLOTLYENV=window.PLOTLYENV || {};window.PLOTLYENV.BASE_URL=\"https://plot.ly\";Plotly.newPlot(\"b16709ef-6b80-4c1b-b9cc-32c89eb583ed\", [{\"opacity\": 0.7, \"x\": [\"Customer Service Issue\", \"Late Flight\", \"Can't Tell\", \"Cancelled Flight\", \"Lost Luggage\", \"Bad Flight\", \"Flight Booking Problems\", \"Flight Attendant Complaints\", \"longlines\", \"Damaged Luggage\"], \"y\": [2910, 1665, 1190, 847, 724, 580, 529, 481, 178, 74], \"type\": \"bar\", \"uid\": \"dc3eee1d-998b-4c41-872f-ead8252fff19\"}], {\"title\": \"Negative Tweets by Reason\", \"yaxis\": {\"title\": \"Number of tweets\"}}, {\"showLink\": true, \"linkText\": \"Export to plot.ly\"})});</script><script type=\"text/javascript\">window.addEventListener(\"resize\", function(){window._Plotly.Plots.resize(document.getElementById(\"b16709ef-6b80-4c1b-b9cc-32c89eb583ed\"));});</script>"
      ],
      "text/vnd.plotly.v1+html": [
       "<div id=\"b16709ef-6b80-4c1b-b9cc-32c89eb583ed\" style=\"height: 525px; width: 100%;\" class=\"plotly-graph-div\"></div><script type=\"text/javascript\">require([\"plotly\"], function(Plotly) { window.PLOTLYENV=window.PLOTLYENV || {};window.PLOTLYENV.BASE_URL=\"https://plot.ly\";Plotly.newPlot(\"b16709ef-6b80-4c1b-b9cc-32c89eb583ed\", [{\"opacity\": 0.7, \"x\": [\"Customer Service Issue\", \"Late Flight\", \"Can't Tell\", \"Cancelled Flight\", \"Lost Luggage\", \"Bad Flight\", \"Flight Booking Problems\", \"Flight Attendant Complaints\", \"longlines\", \"Damaged Luggage\"], \"y\": [2910, 1665, 1190, 847, 724, 580, 529, 481, 178, 74], \"type\": \"bar\", \"uid\": \"dc3eee1d-998b-4c41-872f-ead8252fff19\"}], {\"title\": \"Negative Tweets by Reason\", \"yaxis\": {\"title\": \"Number of tweets\"}}, {\"showLink\": true, \"linkText\": \"Export to plot.ly\"})});</script><script type=\"text/javascript\">window.addEventListener(\"resize\", function(){window._Plotly.Plots.resize(document.getElementById(\"b16709ef-6b80-4c1b-b9cc-32c89eb583ed\"));});</script>"
      ]
     },
     "metadata": {},
     "output_type": "display_data"
    }
   ],
   "source": [
    "# Plots the complaint reasons, and their frequency\n",
    "# (It might be nice to somehow show how common each reason is for each airline)\n",
    "\n",
    "# The input is the number of negative tweets by reason\n",
    "data = [go.Bar(\n",
    "    x = tweets.negativereason.value_counts().index,\n",
    "    y = tweets.negativereason.value_counts(),\n",
    "    opacity = 0.7\n",
    ")]\n",
    "\n",
    "# Create the layout\n",
    "layout = go.Layout(\n",
    "    title = 'Negative Tweets by Reason',\n",
    "    yaxis = dict(title='Number of tweets')\n",
    ")\n",
    "\n",
    "fig = go.Figure(data = data, layout = layout)\n",
    "py.offline.iplot(fig, filename='cufflinks/simple')"
   ]
  },
  {
   "cell_type": "code",
   "execution_count": 9,
   "metadata": {},
   "outputs": [
    {
     "data": {
      "application/vnd.plotly.v1+json": {
       "data": [
        {
         "marker": {
          "color": "rgba(200,0,0,.7)"
         },
         "name": "Negative",
         "type": "bar",
         "uid": "032c1dcc-0b90-4ec4-bed8-2e617da008a0",
         "x": [
          "American",
          "Delta",
          "Southwest",
          "US Airways",
          "United",
          "Virgin America"
         ],
         "y": [
          1960,
          955,
          1186,
          2263,
          2633,
          181
         ]
        },
        {
         "marker": {
          "color": "rgba(150,150,150,.7)"
         },
         "name": "Neutral",
         "type": "bar",
         "uid": "d05df132-5a93-4a5b-b548-41012c5a3d33",
         "x": [
          "American",
          "Delta",
          "Southwest",
          "US Airways",
          "United",
          "Virgin America"
         ],
         "y": [
          463,
          723,
          664,
          381,
          697,
          171
         ]
        },
        {
         "marker": {
          "color": "rgba(0,200,0,.7)"
         },
         "name": "Positive",
         "type": "bar",
         "uid": "4965e468-0cd4-4488-b289-b32c0fb2b424",
         "x": [
          "American",
          "Delta",
          "Southwest",
          "US Airways",
          "United",
          "Virgin America"
         ],
         "y": [
          336,
          544,
          570,
          269,
          492,
          152
         ]
        }
       ],
       "layout": {
        "barmode": "group",
        "title": "Airline Sentiment (Total Tweets)",
        "yaxis": {
         "title": "Number of tweets"
        }
       }
      },
      "text/html": [
       "<div id=\"23a063a5-bdb4-4462-a8b9-7d576c132ac1\" style=\"height: 525px; width: 100%;\" class=\"plotly-graph-div\"></div><script type=\"text/javascript\">require([\"plotly\"], function(Plotly) { window.PLOTLYENV=window.PLOTLYENV || {};window.PLOTLYENV.BASE_URL=\"https://plot.ly\";Plotly.newPlot(\"23a063a5-bdb4-4462-a8b9-7d576c132ac1\", [{\"marker\": {\"color\": \"rgba(200,0,0,.7)\"}, \"name\": \"Negative\", \"x\": [\"American\", \"Delta\", \"Southwest\", \"US Airways\", \"United\", \"Virgin America\"], \"y\": [1960, 955, 1186, 2263, 2633, 181], \"type\": \"bar\", \"uid\": \"032c1dcc-0b90-4ec4-bed8-2e617da008a0\"}, {\"marker\": {\"color\": \"rgba(150,150,150,.7)\"}, \"name\": \"Neutral\", \"x\": [\"American\", \"Delta\", \"Southwest\", \"US Airways\", \"United\", \"Virgin America\"], \"y\": [463, 723, 664, 381, 697, 171], \"type\": \"bar\", \"uid\": \"d05df132-5a93-4a5b-b548-41012c5a3d33\"}, {\"marker\": {\"color\": \"rgba(0,200,0,.7)\"}, \"name\": \"Positive\", \"x\": [\"American\", \"Delta\", \"Southwest\", \"US Airways\", \"United\", \"Virgin America\"], \"y\": [336, 544, 570, 269, 492, 152], \"type\": \"bar\", \"uid\": \"4965e468-0cd4-4488-b289-b32c0fb2b424\"}], {\"barmode\": \"group\", \"title\": \"Airline Sentiment (Total Tweets)\", \"yaxis\": {\"title\": \"Number of tweets\"}}, {\"showLink\": true, \"linkText\": \"Export to plot.ly\"})});</script><script type=\"text/javascript\">window.addEventListener(\"resize\", function(){window._Plotly.Plots.resize(document.getElementById(\"23a063a5-bdb4-4462-a8b9-7d576c132ac1\"));});</script>"
      ],
      "text/vnd.plotly.v1+html": [
       "<div id=\"23a063a5-bdb4-4462-a8b9-7d576c132ac1\" style=\"height: 525px; width: 100%;\" class=\"plotly-graph-div\"></div><script type=\"text/javascript\">require([\"plotly\"], function(Plotly) { window.PLOTLYENV=window.PLOTLYENV || {};window.PLOTLYENV.BASE_URL=\"https://plot.ly\";Plotly.newPlot(\"23a063a5-bdb4-4462-a8b9-7d576c132ac1\", [{\"marker\": {\"color\": \"rgba(200,0,0,.7)\"}, \"name\": \"Negative\", \"x\": [\"American\", \"Delta\", \"Southwest\", \"US Airways\", \"United\", \"Virgin America\"], \"y\": [1960, 955, 1186, 2263, 2633, 181], \"type\": \"bar\", \"uid\": \"032c1dcc-0b90-4ec4-bed8-2e617da008a0\"}, {\"marker\": {\"color\": \"rgba(150,150,150,.7)\"}, \"name\": \"Neutral\", \"x\": [\"American\", \"Delta\", \"Southwest\", \"US Airways\", \"United\", \"Virgin America\"], \"y\": [463, 723, 664, 381, 697, 171], \"type\": \"bar\", \"uid\": \"d05df132-5a93-4a5b-b548-41012c5a3d33\"}, {\"marker\": {\"color\": \"rgba(0,200,0,.7)\"}, \"name\": \"Positive\", \"x\": [\"American\", \"Delta\", \"Southwest\", \"US Airways\", \"United\", \"Virgin America\"], \"y\": [336, 544, 570, 269, 492, 152], \"type\": \"bar\", \"uid\": \"4965e468-0cd4-4488-b289-b32c0fb2b424\"}], {\"barmode\": \"group\", \"title\": \"Airline Sentiment (Total Tweets)\", \"yaxis\": {\"title\": \"Number of tweets\"}}, {\"showLink\": true, \"linkText\": \"Export to plot.ly\"})});</script><script type=\"text/javascript\">window.addEventListener(\"resize\", function(){window._Plotly.Plots.resize(document.getElementById(\"23a063a5-bdb4-4462-a8b9-7d576c132ac1\"));});</script>"
      ]
     },
     "metadata": {},
     "output_type": "display_data"
    }
   ],
   "source": [
    "# Show distribution of texts\n",
    "\n",
    "trace1 = go.Bar(\n",
    "    x = sorted(tweets['airline'].unique()),\n",
    "    y = tweets[tweets['airline_sentiment'] == 'negative'].groupby('airline')['airline_sentiment'].value_counts(),\n",
    "    name = 'Negative',\n",
    "    marker = dict(color='rgba(200,0,0,.7)')\n",
    ")\n",
    "\n",
    "trace2 = go.Bar(\n",
    "    x = sorted(tweets['airline'].unique()),\n",
    "    y = tweets[tweets['airline_sentiment'] == 'neutral'].groupby('airline')['airline_sentiment'].value_counts(),\n",
    "    name = 'Neutral',\n",
    "    marker = dict(color='rgba(150,150,150,.7)')\n",
    ")\n",
    "\n",
    "trace3 = go.Bar(\n",
    "    x = sorted(tweets['airline'].unique()),\n",
    "    y = tweets[tweets['airline_sentiment'] == 'positive'].groupby('airline')['airline_sentiment'].value_counts(),\n",
    "    name = 'Positive',\n",
    "    marker = dict(color='rgba(0,200,0,.7)')\n",
    ")\n",
    "\n",
    "data = [trace1, trace2, trace3]\n",
    "layout = go.Layout(\n",
    "    title = 'Airline Sentiment (Total Tweets)',\n",
    "    barmode='group',\n",
    "    yaxis = dict(title='Number of tweets')\n",
    ")\n",
    "\n",
    "fig = go.Figure(data=data, layout=layout)\n",
    "py.offline.iplot(fig, filename='stacked-bar')"
   ]
  },
  {
   "cell_type": "markdown",
   "metadata": {},
   "source": [
    "<div class=\"alert alert-block alert-warning\">\n",
    "For the above visual, please feel free to toggle the sentiment categories on the right.\n",
    "</div>\n",
    "\n",
    "### Class Imbalance\n",
    "\n",
    "Based on the number of total tweets above, we can see that certain airlines don't have the same presence as others, namely Virgin America, which is a much smaller airline than the others in our dataset. In order to fix this issue, I will be upsampling the data so that all of the airlines will have an equal number of tweets."
   ]
  },
  {
   "cell_type": "code",
   "execution_count": 10,
   "metadata": {},
   "outputs": [
    {
     "data": {
      "text/plain": [
       "airline\n",
       "United            3822\n",
       "US Airways        2913\n",
       "American          2759\n",
       "Southwest         2420\n",
       "Delta             2222\n",
       "Virgin America     504\n",
       "dtype: int64"
      ]
     },
     "execution_count": 10,
     "metadata": {},
     "output_type": "execute_result"
    }
   ],
   "source": [
    "# Count # of tweets for each airline\n",
    "tweets.groupby(['airline']).size().sort_values(ascending = False)"
   ]
  },
  {
   "cell_type": "code",
   "execution_count": 11,
   "metadata": {},
   "outputs": [
    {
     "data": {
      "text/plain": [
       "airline\n",
       "American          3822\n",
       "Delta             3822\n",
       "Southwest         3822\n",
       "US Airways        3822\n",
       "United            3822\n",
       "Virgin America    3822\n",
       "dtype: int64"
      ]
     },
     "execution_count": 11,
     "metadata": {},
     "output_type": "execute_result"
    }
   ],
   "source": [
    "# Create temporary dataframe for all airlines to upsample and concatenate\n",
    "tweets_united = tweets[tweets.airline=='United']\n",
    "sample_size = len(tweets[tweets['airline']=='United'])\n",
    "\n",
    "# Upsample all other airlines\n",
    "tweets_usairways = resample(tweets[tweets.airline=='US Airways'], \n",
    "                            replace=True, n_samples=sample_size)\n",
    "tweets_american = resample(tweets[tweets.airline=='American'], \n",
    "                           replace=True, n_samples=sample_size)\n",
    "tweets_southwest = resample(tweets[tweets.airline=='Southwest'], \n",
    "                            replace=True, n_samples=sample_size)\n",
    "tweets_delta = resample(tweets[tweets.airline=='Delta'], \n",
    "                        replace=True, n_samples=sample_size)\n",
    "tweets_virgin = resample(tweets[tweets.airline=='Virgin America'], \n",
    "                         replace=True, n_samples=sample_size)\n",
    "\n",
    "# Concatenate the individual dataframes\n",
    "tweets = pd.concat([tweets_united, \n",
    "                   tweets_usairways, \n",
    "                   tweets_american, \n",
    "                   tweets_southwest,\n",
    "                   tweets_delta,\n",
    "                   tweets_virgin])\n",
    "\n",
    "tweets = tweets.reset_index(drop=True)\n",
    "\n",
    "# Count # of tweets for each airline to verify\n",
    "tweets.groupby(['airline']).size()"
   ]
  },
  {
   "cell_type": "code",
   "execution_count": 12,
   "metadata": {},
   "outputs": [
    {
     "data": {
      "application/vnd.plotly.v1+json": {
       "data": [
        {
         "marker": {
          "color": "rgba(200,0,0,.7)"
         },
         "name": "Negative",
         "type": "bar",
         "uid": "47fb8387-5b0f-4263-9d6e-bd7411c27c3f",
         "x": [
          "American",
          "Delta",
          "Southwest",
          "US Airways",
          "United",
          "Virgin America"
         ],
         "y": [
          0.7048665620094191,
          0.434850863422292,
          0.49843014128728413,
          0.7739403453689168,
          0.6889063317634746,
          0.3618524332810047
         ]
        },
        {
         "marker": {
          "color": "rgba(150,150,150,.7)"
         },
         "name": "Neutral",
         "type": "bar",
         "uid": "4242e6d0-3cd9-4679-845f-6729b5a28df5",
         "x": [
          "American",
          "Delta",
          "Southwest",
          "US Airways",
          "United",
          "Virgin America"
         ],
         "y": [
          0.1726844583987441,
          0.3108320251177394,
          0.2692307692307692,
          0.12977498691784406,
          0.18236525379382523,
          0.3435374149659864
         ]
        },
        {
         "marker": {
          "color": "rgba(0,200,0,.7)"
         },
         "name": "Positive",
         "type": "bar",
         "uid": "b8b19e54-76dd-4249-b797-a579e40026c7",
         "x": [
          "American",
          "Delta",
          "Southwest",
          "US Airways",
          "United",
          "Virgin America"
         ],
         "y": [
          0.12244897959183673,
          0.2543171114599686,
          0.23233908948194662,
          0.09628466771323914,
          0.12872841444270017,
          0.2946101517530089
         ]
        }
       ],
       "layout": {
        "barmode": "group",
        "title": "Airline Sentiment (Percentage)",
        "yaxis": {
         "title": "% of tweets"
        }
       }
      },
      "text/html": [
       "<div id=\"bc2527aa-92d2-46b5-b196-f42e73869f34\" style=\"height: 525px; width: 100%;\" class=\"plotly-graph-div\"></div><script type=\"text/javascript\">require([\"plotly\"], function(Plotly) { window.PLOTLYENV=window.PLOTLYENV || {};window.PLOTLYENV.BASE_URL=\"https://plot.ly\";Plotly.newPlot(\"bc2527aa-92d2-46b5-b196-f42e73869f34\", [{\"marker\": {\"color\": \"rgba(200,0,0,.7)\"}, \"name\": \"Negative\", \"x\": [\"American\", \"Delta\", \"Southwest\", \"US Airways\", \"United\", \"Virgin America\"], \"y\": [0.7048665620094191, 0.434850863422292, 0.49843014128728413, 0.7739403453689168, 0.6889063317634746, 0.3618524332810047], \"type\": \"bar\", \"uid\": \"47fb8387-5b0f-4263-9d6e-bd7411c27c3f\"}, {\"marker\": {\"color\": \"rgba(150,150,150,.7)\"}, \"name\": \"Neutral\", \"x\": [\"American\", \"Delta\", \"Southwest\", \"US Airways\", \"United\", \"Virgin America\"], \"y\": [0.1726844583987441, 0.3108320251177394, 0.2692307692307692, 0.12977498691784406, 0.18236525379382523, 0.3435374149659864], \"type\": \"bar\", \"uid\": \"4242e6d0-3cd9-4679-845f-6729b5a28df5\"}, {\"marker\": {\"color\": \"rgba(0,200,0,.7)\"}, \"name\": \"Positive\", \"x\": [\"American\", \"Delta\", \"Southwest\", \"US Airways\", \"United\", \"Virgin America\"], \"y\": [0.12244897959183673, 0.2543171114599686, 0.23233908948194662, 0.09628466771323914, 0.12872841444270017, 0.2946101517530089], \"type\": \"bar\", \"uid\": \"b8b19e54-76dd-4249-b797-a579e40026c7\"}], {\"barmode\": \"group\", \"title\": \"Airline Sentiment (Percentage)\", \"yaxis\": {\"title\": \"% of tweets\"}}, {\"showLink\": true, \"linkText\": \"Export to plot.ly\"})});</script><script type=\"text/javascript\">window.addEventListener(\"resize\", function(){window._Plotly.Plots.resize(document.getElementById(\"bc2527aa-92d2-46b5-b196-f42e73869f34\"));});</script>"
      ],
      "text/vnd.plotly.v1+html": [
       "<div id=\"bc2527aa-92d2-46b5-b196-f42e73869f34\" style=\"height: 525px; width: 100%;\" class=\"plotly-graph-div\"></div><script type=\"text/javascript\">require([\"plotly\"], function(Plotly) { window.PLOTLYENV=window.PLOTLYENV || {};window.PLOTLYENV.BASE_URL=\"https://plot.ly\";Plotly.newPlot(\"bc2527aa-92d2-46b5-b196-f42e73869f34\", [{\"marker\": {\"color\": \"rgba(200,0,0,.7)\"}, \"name\": \"Negative\", \"x\": [\"American\", \"Delta\", \"Southwest\", \"US Airways\", \"United\", \"Virgin America\"], \"y\": [0.7048665620094191, 0.434850863422292, 0.49843014128728413, 0.7739403453689168, 0.6889063317634746, 0.3618524332810047], \"type\": \"bar\", \"uid\": \"47fb8387-5b0f-4263-9d6e-bd7411c27c3f\"}, {\"marker\": {\"color\": \"rgba(150,150,150,.7)\"}, \"name\": \"Neutral\", \"x\": [\"American\", \"Delta\", \"Southwest\", \"US Airways\", \"United\", \"Virgin America\"], \"y\": [0.1726844583987441, 0.3108320251177394, 0.2692307692307692, 0.12977498691784406, 0.18236525379382523, 0.3435374149659864], \"type\": \"bar\", \"uid\": \"4242e6d0-3cd9-4679-845f-6729b5a28df5\"}, {\"marker\": {\"color\": \"rgba(0,200,0,.7)\"}, \"name\": \"Positive\", \"x\": [\"American\", \"Delta\", \"Southwest\", \"US Airways\", \"United\", \"Virgin America\"], \"y\": [0.12244897959183673, 0.2543171114599686, 0.23233908948194662, 0.09628466771323914, 0.12872841444270017, 0.2946101517530089], \"type\": \"bar\", \"uid\": \"b8b19e54-76dd-4249-b797-a579e40026c7\"}], {\"barmode\": \"group\", \"title\": \"Airline Sentiment (Percentage)\", \"yaxis\": {\"title\": \"% of tweets\"}}, {\"showLink\": true, \"linkText\": \"Export to plot.ly\"})});</script><script type=\"text/javascript\">window.addEventListener(\"resize\", function(){window._Plotly.Plots.resize(document.getElementById(\"bc2527aa-92d2-46b5-b196-f42e73869f34\"));});</script>"
      ]
     },
     "metadata": {},
     "output_type": "display_data"
    }
   ],
   "source": [
    "# Show distribution of texts\n",
    "\n",
    "trace1 = go.Bar(\n",
    "    x = sorted(tweets['airline'].unique()),\n",
    "    y = (tweets[tweets['airline_sentiment'] == 'negative'].groupby('airline')['airline_sentiment'].value_counts().values) / (tweets['airline'].value_counts().sort_index().values),\n",
    "    name = 'Negative',\n",
    "    marker = dict(color='rgba(200,0,0,.7)')\n",
    ")\n",
    "\n",
    "trace2 = go.Bar(\n",
    "    x = sorted(tweets['airline'].unique()),\n",
    "    y = (tweets[tweets['airline_sentiment'] == 'neutral'].groupby('airline')['airline_sentiment'].value_counts().values) / (tweets['airline'].value_counts().sort_index().values),\n",
    "    name = 'Neutral',\n",
    "    marker = dict(color='rgba(150,150,150,.7)')\n",
    ")\n",
    "\n",
    "trace3 = go.Bar(\n",
    "    x = sorted(tweets['airline'].unique()),\n",
    "    y = (tweets[tweets['airline_sentiment'] == 'positive'].groupby('airline')['airline_sentiment'].value_counts().values) / (tweets['airline'].value_counts().sort_index().values),\n",
    "    name = 'Positive',\n",
    "    marker = dict(color='rgba(0,200,0,.7)')\n",
    ")\n",
    "\n",
    "data = [trace1, trace2, trace3]\n",
    "layout = go.Layout(\n",
    "    title = 'Airline Sentiment (Percentage)',\n",
    "    barmode='group',\n",
    "    yaxis = dict(title='% of tweets')\n",
    ")\n",
    "\n",
    "fig = go.Figure(data=data, layout=layout)\n",
    "py.offline.iplot(fig, filename='stacked-bar')"
   ]
  },
  {
   "cell_type": "markdown",
   "metadata": {},
   "source": [
    "<div class=\"alert alert-block alert-warning\">\n",
    "For the above visual, please feel free to toggle the sentiment categories on the right.\n",
    "</div>\n",
    "\n",
    "## Text Cleaning"
   ]
  },
  {
   "cell_type": "code",
   "execution_count": 13,
   "metadata": {},
   "outputs": [],
   "source": [
    "def text_cleaner(text):\n",
    "    # Visual inspection identifies a form of punctuation spaCy does not\n",
    "    # recognize: the double dash '--'.  Better get rid of it now!\n",
    "    text = re.sub(r'--',' ',text)\n",
    "    text = re.sub(\"[\\[].*?[\\]]\", \"\", text)\n",
    "    text = ' '.join(text.split())\n",
    "    return text"
   ]
  },
  {
   "cell_type": "code",
   "execution_count": 14,
   "metadata": {},
   "outputs": [
    {
     "data": {
      "text/plain": [
       "0                                                                                                                                @united thanks\n",
       "1                                                                                   @united Thanks for taking care of that MR!! Happy customer.\n",
       "2      @united still no refund or word via DM. Please resolve this issue as your Cancelled Flightled flight was useless to my assistant's trip.\n",
       "3    @united Delayed due to lack of crew and now delayed again because there's a long line for deicing... Still need to improve service #united\n",
       "4                                                                      @united thanks we filled it out. How's our luck with this? Is it common?\n",
       "Name: text, dtype: object"
      ]
     },
     "execution_count": 14,
     "metadata": {},
     "output_type": "execute_result"
    }
   ],
   "source": [
    "# Remove non-essential punctuation from the tweets\n",
    "pd.options.display.max_colwidth = 200\n",
    "tweets['text'] = tweets['text'].map(lambda x: text_cleaner(str(x)))\n",
    "tweets['text'].head()"
   ]
  },
  {
   "cell_type": "code",
   "execution_count": 15,
   "metadata": {},
   "outputs": [],
   "source": [
    "lemmatizer = WordNetLemmatizer()\n",
    "\n",
    "# Reduce all text to their lemmas\n",
    "for tweet in tweets['text']:\n",
    "    tweet = lemmatizer.lemmatize(tweet)"
   ]
  },
  {
   "cell_type": "code",
   "execution_count": 16,
   "metadata": {},
   "outputs": [
    {
     "data": {
      "text/html": [
       "<div>\n",
       "<style scoped>\n",
       "    .dataframe tbody tr th:only-of-type {\n",
       "        vertical-align: middle;\n",
       "    }\n",
       "\n",
       "    .dataframe tbody tr th {\n",
       "        vertical-align: top;\n",
       "    }\n",
       "\n",
       "    .dataframe thead th {\n",
       "        text-align: right;\n",
       "    }\n",
       "</style>\n",
       "<table border=\"1\" class=\"dataframe\">\n",
       "  <thead>\n",
       "    <tr style=\"text-align: right;\">\n",
       "      <th></th>\n",
       "      <th>airline_sentiment</th>\n",
       "      <th>text</th>\n",
       "    </tr>\n",
       "  </thead>\n",
       "  <tbody>\n",
       "    <tr>\n",
       "      <th>0</th>\n",
       "      <td>positive</td>\n",
       "      <td>@united thanks</td>\n",
       "    </tr>\n",
       "    <tr>\n",
       "      <th>1</th>\n",
       "      <td>positive</td>\n",
       "      <td>@united Thanks for taking care of that MR!! Happy customer.</td>\n",
       "    </tr>\n",
       "    <tr>\n",
       "      <th>2</th>\n",
       "      <td>negative</td>\n",
       "      <td>@united still no refund or word via DM. Please resolve this issue as your Cancelled Flightled flight was useless to my assistant's trip.</td>\n",
       "    </tr>\n",
       "    <tr>\n",
       "      <th>3</th>\n",
       "      <td>negative</td>\n",
       "      <td>@united Delayed due to lack of crew and now delayed again because there's a long line for deicing... Still need to improve service #united</td>\n",
       "    </tr>\n",
       "    <tr>\n",
       "      <th>4</th>\n",
       "      <td>positive</td>\n",
       "      <td>@united thanks we filled it out. How's our luck with this? Is it common?</td>\n",
       "    </tr>\n",
       "  </tbody>\n",
       "</table>\n",
       "</div>"
      ],
      "text/plain": [
       "  airline_sentiment  \\\n",
       "0          positive   \n",
       "1          positive   \n",
       "2          negative   \n",
       "3          negative   \n",
       "4          positive   \n",
       "\n",
       "                                                                                                                                         text  \n",
       "0                                                                                                                              @united thanks  \n",
       "1                                                                                 @united Thanks for taking care of that MR!! Happy customer.  \n",
       "2    @united still no refund or word via DM. Please resolve this issue as your Cancelled Flightled flight was useless to my assistant's trip.  \n",
       "3  @united Delayed due to lack of crew and now delayed again because there's a long line for deicing... Still need to improve service #united  \n",
       "4                                                                    @united thanks we filled it out. How's our luck with this? Is it common?  "
      ]
     },
     "execution_count": 16,
     "metadata": {},
     "output_type": "execute_result"
    }
   ],
   "source": [
    "tweets[['airline_sentiment', 'text']].head()"
   ]
  },
  {
   "cell_type": "code",
   "execution_count": 17,
   "metadata": {},
   "outputs": [],
   "source": [
    "# Modify values of sentiment to numerical values\n",
    "# This block is useful before modelling, but it's pretty annoying right now\n",
    "sentiment = {'negative': -1, 'neutral': 0, 'positive': 1}\n",
    "tweets['airline_sentiment'] = tweets['airline_sentiment'].map(lambda x: sentiment[x])"
   ]
  },
  {
   "cell_type": "markdown",
   "metadata": {},
   "source": [
    "# Wordcloud generation"
   ]
  },
  {
   "cell_type": "code",
   "execution_count": 18,
   "metadata": {},
   "outputs": [
    {
     "data": {
      "image/png": "[encoded data removed]",
      "text/plain": [
       "<Figure size 864x864 with 1 Axes>"
      ]
     },
     "metadata": {
      "needs_background": "light"
     },
     "output_type": "display_data"
    }
   ],
   "source": [
    "# Modify later; \n",
    "# (there are a lot of non-descript filler words like flight)\n",
    "# (Maybe add a wordcloud for positive tweets?)\n",
    "\n",
    "df=tweets[tweets['airline_sentiment']==-1]\n",
    "words = ' '.join(df['text'])\n",
    "cleaned_word = \" \".join([word for word in words.split()\n",
    "                            if 'http' not in word\n",
    "                                and not word.startswith('@')\n",
    "                                and word != 'RT'\n",
    "                            ])\n",
    "\n",
    "wordcloud = WordCloud(stopwords=STOPWORDS,\n",
    "                      background_color='black',\n",
    "                      max_words = 100\n",
    "                     ).generate(cleaned_word)\n",
    "\n",
    "plt.figure(1,figsize=(12, 12))\n",
    "plt.imshow(wordcloud)\n",
    "plt.axis('off')\n",
    "plt.show()"
   ]
  },
  {
   "cell_type": "markdown",
   "metadata": {},
   "source": [
    "# Natural Lanuage Processing"
   ]
  },
  {
   "cell_type": "code",
   "execution_count": 19,
   "metadata": {},
   "outputs": [],
   "source": [
    "X = tweets['text']\n",
    "y = tweets['airline_sentiment']"
   ]
  },
  {
   "cell_type": "code",
   "execution_count": 20,
   "metadata": {},
   "outputs": [],
   "source": [
    "# Parameters for TF-idf vectorizer\n",
    "vectorizer = TfidfVectorizer(max_df=0.5,\n",
    "                             min_df=5, \n",
    "                             max_features=500, \n",
    "                             stop_words='english', \n",
    "                             lowercase=True, \n",
    "                             use_idf=True,\n",
    "                             norm=u'l2',\n",
    "                             smooth_idf=True\n",
    "                            )\n",
    "\n",
    "#Applying the vectorizer\n",
    "X_tfidf=vectorizer.fit_transform(X)\n",
    "\n",
    "#splitting into training and test sets\n",
    "X_train_tfidf, X_test_tfidf, y_train, y_test = train_test_split(X_tfidf, y, test_size=0.25, random_state=42)\n",
    "\n",
    "#Removes all zeros from the matrix\n",
    "X_train_tfidf_csr = X_train_tfidf.tocsr()\n",
    "\n",
    "#number of paragraphs\n",
    "n = X_train_tfidf_csr.shape[0]\n",
    "\n",
    "#A list of dictionaries, one per paragraph\n",
    "tfidf_bypara = [{} for _ in range(0,n)]\n",
    "\n",
    "#List of features\n",
    "terms = vectorizer.get_feature_names()\n",
    "\n",
    "#for each paragraph, lists the feature words and their tf-idf scores\n",
    "for i, j in zip(*X_train_tfidf_csr.nonzero()):\n",
    "    tfidf_bypara[i][terms[j]] = X_train_tfidf_csr[i, j]\n",
    "\n",
    "# Normalize the dataset    \n",
    "X_norm = normalize(X_train_tfidf)\n",
    "\n",
    "# Convert from tf-idf matrix to dataframe\n",
    "X_normal  = pd.DataFrame(data=X_norm.toarray())"
   ]
  },
  {
   "cell_type": "code",
   "execution_count": 21,
   "metadata": {},
   "outputs": [],
   "source": [
    "## Creating tf-idf matrix\n",
    "vectorizer = TfidfVectorizer(stop_words='english')\n",
    "synopsis_tfidf = vectorizer.fit_transform(tweets['text'])\n",
    "\n",
    "# Getting the word list.\n",
    "terms = vectorizer.get_feature_names()\n",
    "\n",
    "# Linking words to topics\n",
    "def word_topic(tfidf,solution, wordlist):\n",
    "    \n",
    "    # Loading scores for each word on each topic/component.\n",
    "    words_by_topic=tfidf.T * solution\n",
    "\n",
    "    # Linking the loadings to the words in an easy-to-read way.\n",
    "    components=pd.DataFrame(words_by_topic,index=wordlist)\n",
    "    \n",
    "    return components\n",
    "\n",
    "# Extracts the top N words and their loadings for each topic.\n",
    "def top_words(components, n_top_words):\n",
    "    n_topics = range(components.shape[1])\n",
    "    index= np.repeat(n_topics, n_top_words, axis=0)\n",
    "    topwords=pd.Series(index=index)\n",
    "    for column in range(components.shape[1]):\n",
    "        # Sort the column so that highest loadings are at the top.\n",
    "        sortedwords=components.iloc[:,column].sort_values(ascending=False)\n",
    "        # Choose the N highest loadings.\n",
    "        chosen=sortedwords[:n_top_words]\n",
    "        # Combine loading and index into a string.\n",
    "        chosenlist=chosen.index +\" \"+round(chosen,2).map(str) \n",
    "        topwords.loc[column]=chosenlist\n",
    "    return(topwords)\n",
    "\n",
    "# Number of words to look at for each topic.\n",
    "n_top_words = 50\n",
    "\n",
    "# Number of possible outcomes (3 = positive, neutral, negative)\n",
    "ntopics = tweets['airline_sentiment'].nunique()"
   ]
  },
  {
   "cell_type": "code",
   "execution_count": 22,
   "metadata": {},
   "outputs": [],
   "source": [
    "# Parameters for LSA\n",
    "svd= TruncatedSVD(ntopics)\n",
    "lsa = make_pipeline(svd, Normalizer(copy=False))\n",
    "\n",
    "# Time and run LSA model\n",
    "start_time = timeit.default_timer()\n",
    "synopsis_lsa = lsa.fit_transform(synopsis_tfidf)\n",
    "elapsed_lsa = timeit.default_timer() - start_time\n",
    "\n",
    "# Extract most common words for LSA\n",
    "components_lsa = word_topic(synopsis_tfidf, synopsis_lsa, terms)\n",
    "topwords=pd.DataFrame()\n",
    "topwords['LSA']=top_words(components_lsa, n_top_words)"
   ]
  },
  {
   "cell_type": "code",
   "execution_count": 23,
   "metadata": {},
   "outputs": [],
   "source": [
    "# Parameters for NNMF\n",
    "nmf = NMF(alpha=0.0, \n",
    "          init='nndsvdar', # how starting value are calculated\n",
    "          l1_ratio=0.0, # Sets whether regularization is L2 (0), L1 (1), or a combination (values between 0 and 1)\n",
    "          max_iter=200, # when to stop even if the model is not converging (to prevent running forever)\n",
    "          n_components=ntopics, \n",
    "          random_state=0, \n",
    "          solver='cd', # Use Coordinate Descent to solve\n",
    "          tol=0.0001, # model will stop if tfidf-WH <= tol\n",
    "          verbose=0 # amount of output to give while iterating\n",
    "         )\n",
    "\n",
    "# Time and run NNMF model\n",
    "start_time = timeit.default_timer()\n",
    "synopsis_nmf = nmf.fit_transform(synopsis_tfidf)\n",
    "elapsed_nnmf = timeit.default_timer() - start_time\n",
    "\n",
    "# Extract most common words for NNMF\n",
    "components_nmf = word_topic(synopsis_tfidf, synopsis_nmf, terms)\n",
    "topwords['NNMF']=top_words(components_nmf, n_top_words)"
   ]
  },
  {
   "cell_type": "code",
   "execution_count": 24,
   "metadata": {},
   "outputs": [
    {
     "name": "stdout",
     "output_type": "stream",
     "text": [
      "Topic 0:\n",
      "                    LSA                 NNMF\n",
      "0         flight 666.26         flight 31.49\n",
      "0    americanair 570.89      usairways 18.38\n",
      "0         united 570.73    americanair 17.05\n",
      "0   southwestair 545.08      cancelled 15.79\n",
      "0      usairways 520.72  virginamerica 12.67\n",
      "0  virginamerica 509.72         united 12.63\n",
      "0        jetblue 438.85   southwestair 12.11\n",
      "0         thanks 299.65           help 10.25\n",
      "0           just 279.49      flightled 10.16\n",
      "0           http 278.63            hold 8.78\n",
      "0           help 255.29            just 8.12\n",
      "0       cancelled 246.8            hours 7.6\n",
      "0        service 240.04          service 7.1\n",
      "0         flights 205.3         flights 7.07\n",
      "0       customer 205.25            need 6.96\n",
      "0           time 203.89            time 6.11\n",
      "0          hours 182.41        customer 6.11\n",
      "0           need 180.03          thanks 5.86\n",
      "0           hold 178.85         delayed 5.46\n",
      "0          plane 174.26            hour 5.43\n",
      "0            amp 163.53            late 5.43\n",
      "0        airline 151.52           phone 5.32\n",
      "0          thank 150.64         jetblue 5.19\n",
      "0        delayed 150.44              ve 5.05\n",
      "0           guys 149.04         tomorrow 4.9\n",
      "0           like 148.74             amp 4.79\n",
      "0             ve 148.35           plane 4.62\n",
      "0             got 147.3          trying 4.57\n",
      "0            don 146.28              got 4.5\n",
      "0             dm 144.81           today 4.27\n",
      "0           hour 142.65          change 4.17\n",
      "0          phone 142.11        flighted 4.13\n",
      "0      flightled 141.52            http 4.01\n",
      "0            bag 140.24         waiting 3.98\n",
      "0            fly 138.54             don 3.94\n",
      "0           gate 133.23         airline 3.87\n",
      "0          today 131.28            like 3.87\n",
      "0          great 130.71            guys 3.76\n",
      "0         flying 126.42            gate 3.71\n",
      "0           know 123.63              dm 3.59\n",
      "0            way 122.68           check 3.55\n",
      "0         trying 121.57         minutes 3.53\n",
      "0          check 121.02             bag 3.45\n",
      "0           late 119.99             home 3.2\n",
      "0            did 118.36             way 3.14\n",
      "0        waiting 117.11          flying 3.11\n",
      "0       tomorrow 109.92             wait 3.1\n",
      "0         really 106.85          online 3.07\n",
      "0         change 106.26             did 3.06\n",
      "0           good 103.74            know 2.95\n",
      "Topic 1:\n",
      "                    LSA                 NNMF\n",
      "1        jetblue 451.94         thanks 44.21\n",
      "1         thanks 259.54        jetblue 35.17\n",
      "1           http 113.76  virginamerica 11.36\n",
      "1           fleek 76.93             http 7.7\n",
      "1           fleet 73.92     americanair 6.77\n",
      "1           thank 64.78          flight 5.87\n",
      "1    virginamerica 51.2            fleek 4.9\n",
      "1           great 36.31    southwestair 4.86\n",
      "1              rt 35.35          united 4.84\n",
      "1         awesome 19.23           fleet 4.74\n",
      "1            love 18.64           great 4.47\n",
      "1            good 16.89            just 3.83\n",
      "1            blue 13.94           thank 3.31\n",
      "1          follow 13.78            guys 3.24\n",
      "1            wall 13.35       usairways 3.15\n",
      "1             ceo 12.28             got 3.05\n",
      "1              ll 11.87            good 3.02\n",
      "1             jfk 11.29         service 2.53\n",
      "1            guys 11.21         awesome 2.31\n",
      "1         trueblue 10.5             help 2.3\n",
      "1           https 10.42            time 2.29\n",
      "1             best 10.4              ll 2.27\n",
      "1             year 9.52          flying 2.25\n",
      "1             haha 9.48              rt 2.18\n",
      "1              jet 9.44             best 1.9\n",
      "1  carrieunderwood 9.23             jfk 1.87\n",
      "1              new 9.14            love 1.87\n",
      "1              set 8.78             fly 1.87\n",
      "1               ok 8.63            like 1.86\n",
      "1           street 8.02        customer 1.85\n",
      "1          journal 7.86            know 1.82\n",
      "1            quick 7.76        response 1.81\n",
      "1         response 7.73             did 1.81\n",
      "1             team 7.67         airline 1.76\n",
      "1             rock 7.53         flights 1.68\n",
      "1            deals 7.39          follow 1.59\n",
      "1           social 7.34             way 1.59\n",
      "1              lol 7.27             new 1.58\n",
      "1           boston 7.24            sent 1.57\n",
      "1         ladygaga 7.22           check 1.55\n",
      "1              wish 7.1             don 1.54\n",
      "1            route 7.06              dm 1.52\n",
      "1             mint 6.79         delayed 1.43\n",
      "1            media 6.62             amp 1.42\n",
      "1          appease 6.45             bag 1.39\n",
      "1             soon 6.25              ok 1.34\n",
      "1             reply 6.0          really 1.32\n",
      "1          amazing 5.97           delay 1.31\n",
      "1       definitely 5.96         getting 1.27\n",
      "1             ssal 5.95           today 1.25\n",
      "Topic 2:\n",
      "                        LSA                     NNMF\n",
      "2              thank 275.51              thank 50.44\n",
      "2       southwestair 186.37       southwestair 16.72\n",
      "2             united 138.08             united 11.12\n",
      "2            jetblue 121.37             jetblue 7.54\n",
      "2           usairways 52.38         americanair 6.74\n",
      "2              follow 44.29              follow 4.96\n",
      "2            customer 38.57           usairways 4.52\n",
      "2                  dm 37.93                  dm 4.36\n",
      "2             service 35.94       virginamerica 4.25\n",
      "2               fleek 24.35               great 3.73\n",
      "2               fleet 23.82                just 2.64\n",
      "2                sent 20.26                sent 2.51\n",
      "2  destinationdragons 17.87            customer 2.32\n",
      "2                sure 16.93              thanks 2.15\n",
      "2             tickets 16.64             service 2.08\n",
      "2                 yes 15.53                help 2.06\n",
      "2          absolutely 14.25              flight 2.05\n",
      "2          appreciate 13.17             awesome 1.87\n",
      "2                hold 12.34            response 1.82\n",
      "2                send 11.91                time 1.79\n",
      "2                just 11.71          absolutely 1.69\n",
      "2               quick 11.51                guys 1.62\n",
      "2            response 11.32          appreciate 1.54\n",
      "2           following 11.13                 got 1.45\n",
      "2               worst 10.84             flights 1.39\n",
      "2              people 10.47                good 1.37\n",
      "2      imaginedragons 10.28                best 1.36\n",
      "2             sitting 10.17               quick 1.31\n",
      "2                   15 9.94                  ok 1.28\n",
      "2              twitter 9.93               today 1.26\n",
      "2                 gate 9.42                 fly 1.24\n",
      "2                  time 9.2             amazing 1.23\n",
      "2                   ok 8.96                 yes 1.22\n",
      "2                  rep 8.58                 did 1.06\n",
      "2                  day 8.36                love 1.01\n",
      "2                 bags 8.23                http 1.01\n",
      "2                 staff 8.2                 team 1.0\n",
      "2                   oh 7.97                okay 0.98\n",
      "2                 pass 7.88             tickets 0.98\n",
      "2                   ll 7.86                sure 0.97\n",
      "2                plane 7.66                  ll 0.97\n",
      "2                 hour 7.62                hold 0.96\n",
      "2             employees 7.6           following 0.95\n",
      "2                   rt 7.51             airline 0.94\n",
      "2              waiting 7.46                send 0.93\n",
      "2                going 7.31  destinationdragons 0.91\n",
      "2                 lost 7.25             finally 0.87\n",
      "2              finally 7.12                 bag 0.86\n",
      "2               travel 7.01          experience 0.85\n",
      "2                   sw 6.96                  amp 0.8\n"
     ]
    }
   ],
   "source": [
    "# View top words identified by LSA and NNMF\n",
    "for topic in range(ntopics):\n",
    "    print('Topic {}:'.format(topic))\n",
    "    print(topwords.loc[topic])"
   ]
  },
  {
   "cell_type": "code",
   "execution_count": 25,
   "metadata": {},
   "outputs": [],
   "source": [
    "# Create keyword set with top words identified by LSA\n",
    "keywords = set(topwords['LSA'].str.split(' ', 0).str[0])\n",
    "\n",
    "# New dataframe with just the text and query\n",
    "sentences = tweets[['text', 'airline_sentiment']]"
   ]
  },
  {
   "cell_type": "markdown",
   "metadata": {},
   "source": [
    "# Modelling Phase\n",
    "\n",
    "So, the tweets have been parsed and prepared for our models. We're trying to determine if it's possible to predict sentiment (a binary variable) so that means that we will require some classification models. As for which models to test, we will be using \n",
    "* Logistic Regression (a fast and simple model)\n",
    "* Random Forest Ensemble (a powerful and scaleable model)\n",
    "* Gradient Boosting Ensemble (a powerful, iterable model)"
   ]
  },
  {
   "cell_type": "code",
   "execution_count": 26,
   "metadata": {},
   "outputs": [],
   "source": [
    "# Testing the model\n",
    "\n",
    "X_train = X_normal\n",
    "X_test = normalize(X_test_tfidf)"
   ]
  },
  {
   "cell_type": "code",
   "execution_count": 27,
   "metadata": {},
   "outputs": [],
   "source": [
    "# # Size of graph\n",
    "# plt.rcParams['figure.figsize'] = [10,5]\n",
    "\n",
    "# # k means determine k\n",
    "# distortions = []\n",
    "# K = range(1,15)\n",
    "# for k in K:\n",
    "#     kmeanModel = KMeans(n_clusters=k).fit(features)\n",
    "#     kmeanModel.fit(features)\n",
    "#     distortions.append(sum(np.min(cdist(features, kmeanModel.cluster_centers_, 'euclidean'), axis=1)) / features.shape[0])\n",
    "\n",
    "# # Plot the elbow\n",
    "# plt.plot(K, distortions, 'bx-')\n",
    "# plt.xlabel('k')\n",
    "# plt.ylabel('Distortion')\n",
    "# plt.title('The Elbow Method showing the optimal k')\n",
    "# plt.show()"
   ]
  },
  {
   "cell_type": "code",
   "execution_count": 28,
   "metadata": {},
   "outputs": [
    {
     "name": "stdout",
     "output_type": "stream",
     "text": [
      "Logistic regression training score: 0.77522(+/- 0.01)\n",
      "\n",
      "Logistic regression testing score: 0.75336(+/- 0.02)\n",
      "\n"
     ]
    }
   ],
   "source": [
    "# Logistic Regression Model\n",
    "\n",
    "lr = LogisticRegression()\n",
    "lr_train = cross_val_score(lr, X_train, y_train, cv=5, n_jobs=-1)\n",
    "print('Logistic regression training score: {:.5f}(+/- {:.2f})\\n'.format(lr_train.mean(), lr_train.std()*2))\n",
    "\n",
    "lr_test = cross_val_score(lr, X_test, y_test, cv=5, n_jobs=-1)\n",
    "print('Logistic regression testing score: {:.5f}(+/- {:.2f})\\n'.format(lr_test.mean(), lr_test.std()*2))"
   ]
  },
  {
   "cell_type": "code",
   "execution_count": 29,
   "metadata": {},
   "outputs": [
    {
     "ename": "SyntaxError",
     "evalue": "'break' outside loop (<ipython-input-29-459966b57575>, line 4)",
     "output_type": "error",
     "traceback": [
      "\u001b[1;36m  File \u001b[1;32m\"<ipython-input-29-459966b57575>\"\u001b[1;36m, line \u001b[1;32m4\u001b[0m\n\u001b[1;33m    break\u001b[0m\n\u001b[1;37m         ^\u001b[0m\n\u001b[1;31mSyntaxError\u001b[0m\u001b[1;31m:\u001b[0m 'break' outside loop\n"
     ]
    }
   ],
   "source": [
    "# Just test to see if the first model is working; \n",
    "# no need to run the other two just yet!\n",
    "\n",
    "break"
   ]
  },
  {
   "cell_type": "code",
   "execution_count": null,
   "metadata": {},
   "outputs": [],
   "source": [
    "# Random Forest Classifier Model\n",
    "\n",
    "rfc = ensemble.RandomForestClassifier(n_jobs=-1)\n",
    "rfc_train = cross_val_score(rfc, X_train, y_train, cv=5, n_jobs=-1)\n",
    "print('Random forest classifier training score: {:.5f}(+/- {:.2f})\\n'.format(rfc_train.mean(), rfc_train.std()*2))\n",
    "\n",
    "rfc_test = cross_val_score(rfc, X_test, y_train, cv=5, n_jobs=-1)\n",
    "print('Random forest classifier testing score: {:.5f}(+/- {:.2f})\\n'.format(rfc_test.mean(), rfc_test.std()*2))"
   ]
  },
  {
   "cell_type": "code",
   "execution_count": null,
   "metadata": {},
   "outputs": [],
   "source": [
    "# Gradient Boosting Model\n",
    "\n",
    "gbc = ensemble.GradientBoostingClassifier()\n",
    "gbc_train = cross_val_score(gbc, X_train, y_train, cv=5, n_jobs=-1)\n",
    "print('Gradient boosting classifier training score: {:.5f}(+/- {:.2f})\\n'.format(gbc_train.mean(), gbc_train.std()*2))\n",
    "\n",
    "gbc_test = cross_val_score(gbc, X_test, y_train, cv=5, n_jobs=-1)\n",
    "print('Gradient boosting classifier testing score: {:.5f}(+/- {:.2f})\\n'.format(gbc_test.mean(), gbc_test.std()*2))"
   ]
  },
  {
   "cell_type": "markdown",
   "metadata": {},
   "source": [
    "# Testing Set\n",
    "\n",
    "Now, it's time to add our testing data set. What if we decide to look at more recent tweets from the same airline, or how about we also decide to look at other airlines that weren't even in our dataset? \n",
    "\n",
    "Enough with the hypotheticals. The next dataset is a collection of recent tweets containing the testing data that we want and while we won't be able to assess its accuracy since we don't have the correct values, we should be able to get a good idea of measuring sentiment analysis for other airlines with our training set."
   ]
  },
  {
   "cell_type": "code",
   "execution_count": null,
   "metadata": {},
   "outputs": [],
   "source": [
    "# Import the training dataset\n",
    "tweets_test = pd.read_csv(\"airline_tweets/test_set.csv\")\n",
    "\n",
    "# Preview the data\n",
    "tweets_test.head()"
   ]
  },
  {
   "cell_type": "code",
   "execution_count": null,
   "metadata": {},
   "outputs": [],
   "source": []
  }
 ],
 "metadata": {
  "kernelspec": {
   "display_name": "Python 3",
   "language": "python",
   "name": "python3"
  },
  "language_info": {
   "codemirror_mode": {
    "name": "ipython",
    "version": 3
   },
   "file_extension": ".py",
   "mimetype": "text/x-python",
   "name": "python",
   "nbconvert_exporter": "python",
   "pygments_lexer": "ipython3",
   "version": "3.7.0"
  }
 },
 "nbformat": 4,
 "nbformat_minor": 2
}
