{
 "cells": [
  {
   "cell_type": "markdown",
   "metadata": {},
   "source": [
    "# Sentiment Analysis using Airline Tweets\n",
    "Author: Matthew Huh\n",
    "\n",
    "## Introduction\n",
    "\n",
    "Companies, like airlines, should care about what their customers have to say about them, especially if customers are able to take their money to another competitor. I’ll be evaluating the comments by what types of comments people are leaving, and if that is viewed positively, negatively, or somewhere in the middle. This feedback should allow companies to know what their customers think about them, and how people perceive them.\n",
    "\n",
    "## About the Data\n",
    "\n",
    "The training data has been obtained from crowdflower on Kaggle, and the testing set has been obtained via Twitter's API on more recent data. \n",
    "\n",
    "The training set has far more information as the data has been reviewed by people to determine the sentiment, and the rationale behind negative comments, something that may not be so easily extracted from the testing data set.\n",
    "\n",
    "## Research Question\n",
    "\n",
    "## Packages\n",
    "\n",
    "## Source\n",
    "\n",
    "https://www.kaggle.com/crowdflower/twitter-airline-sentiment\n",
    "\n",
    "\n",
    "# To-do list\n",
    "\n",
    "* Implement NLP methods (LSA, TF-IDF, LDA, NNMF, etc.)\n",
    "* Run machine learning models\n",
    "* Extract twitter data for testing data set"
   ]
  },
  {
   "cell_type": "code",
   "execution_count": 1,
   "metadata": {},
   "outputs": [
    {
     "name": "stderr",
     "output_type": "stream",
     "text": [
      "C:\\Users\\mhuh22\\Anaconda3\\lib\\site-packages\\sklearn\\ensemble\\weight_boosting.py:29: DeprecationWarning: numpy.core.umath_tests is an internal NumPy module and should not be imported. It will be removed in a future NumPy release.\n",
      "  from numpy.core.umath_tests import inner1d\n"
     ]
    },
    {
     "data": {
      "text/html": [
       "<script type=\"text/javascript\">window.PlotlyConfig = {MathJaxConfig: 'local'};</script><script type=\"text/javascript\">if (window.MathJax) {MathJax.Hub.Config({SVG: {font: \"STIX-Web\"}});}</script><script>requirejs.config({paths: { 'plotly': ['https://cdn.plot.ly/plotly-latest.min']},});if(!window._Plotly) {require(['plotly'],function(plotly) {window._Plotly=plotly;});}</script>"
      ],
      "text/vnd.plotly.v1+html": [
       "<script type=\"text/javascript\">window.PlotlyConfig = {MathJaxConfig: 'local'};</script><script type=\"text/javascript\">if (window.MathJax) {MathJax.Hub.Config({SVG: {font: \"STIX-Web\"}});}</script><script>requirejs.config({paths: { 'plotly': ['https://cdn.plot.ly/plotly-latest.min']},});if(!window._Plotly) {require(['plotly'],function(plotly) {window._Plotly=plotly;});}</script>"
      ]
     },
     "metadata": {},
     "output_type": "display_data"
    }
   ],
   "source": [
    "# Basic imports\n",
    "import os\n",
    "import time\n",
    "import timeit\n",
    "import numpy as np\n",
    "import pandas as pd\n",
    "import scipy\n",
    "import sklearn\n",
    "import matplotlib.pyplot as plt\n",
    "import seaborn as sns\n",
    "%matplotlib inline\n",
    "\n",
    "# Machine Learning packages\n",
    "from sklearn import ensemble\n",
    "from sklearn.feature_selection import chi2, f_classif, SelectKBest \n",
    "from sklearn.linear_model import LogisticRegression\n",
    "from sklearn.model_selection import cross_val_score, GridSearchCV, train_test_split\n",
    "from sklearn.preprocessing import normalize\n",
    "\n",
    "# Natural Language processing\n",
    "import nltk\n",
    "import re\n",
    "from collections import Counter\n",
    "from nltk.corpus import stopwords\n",
    "from nltk.stem import WordNetLemmatizer\n",
    "from sklearn.datasets import fetch_rcv1\n",
    "from sklearn.feature_extraction.text import TfidfVectorizer\n",
    "from nltk.corpus import stopwords\n",
    "from wordcloud import WordCloud, STOPWORDS\n",
    "\n",
    "# Clustering packages\n",
    "import sklearn.cluster as cluster\n",
    "from sklearn.cluster import KMeans, MeanShift, estimate_bandwidth, SpectralClustering, AffinityPropagation\n",
    "from scipy.spatial.distance import cdist\n",
    "\n",
    "# Plotly packages\n",
    "import plotly as py\n",
    "import plotly.figure_factory as ff\n",
    "import plotly.graph_objs as go\n",
    "from plotly import tools\n",
    "import cufflinks as cf\n",
    "import ipywidgets as widgets\n",
    "from scipy import special\n",
    "py.offline.init_notebook_mode(connected=True)"
   ]
  },
  {
   "cell_type": "code",
   "execution_count": 2,
   "metadata": {},
   "outputs": [
    {
     "data": {
      "text/html": [
       "<div>\n",
       "<style scoped>\n",
       "    .dataframe tbody tr th:only-of-type {\n",
       "        vertical-align: middle;\n",
       "    }\n",
       "\n",
       "    .dataframe tbody tr th {\n",
       "        vertical-align: top;\n",
       "    }\n",
       "\n",
       "    .dataframe thead th {\n",
       "        text-align: right;\n",
       "    }\n",
       "</style>\n",
       "<table border=\"1\" class=\"dataframe\">\n",
       "  <thead>\n",
       "    <tr style=\"text-align: right;\">\n",
       "      <th></th>\n",
       "      <th>tweet_id</th>\n",
       "      <th>airline_sentiment</th>\n",
       "      <th>airline_sentiment_confidence</th>\n",
       "      <th>negativereason</th>\n",
       "      <th>negativereason_confidence</th>\n",
       "      <th>airline</th>\n",
       "      <th>airline_sentiment_gold</th>\n",
       "      <th>name</th>\n",
       "      <th>negativereason_gold</th>\n",
       "      <th>retweet_count</th>\n",
       "      <th>text</th>\n",
       "      <th>tweet_coord</th>\n",
       "      <th>tweet_created</th>\n",
       "      <th>tweet_location</th>\n",
       "      <th>user_timezone</th>\n",
       "    </tr>\n",
       "  </thead>\n",
       "  <tbody>\n",
       "    <tr>\n",
       "      <th>0</th>\n",
       "      <td>570306133677760513</td>\n",
       "      <td>neutral</td>\n",
       "      <td>1.0000</td>\n",
       "      <td>NaN</td>\n",
       "      <td>NaN</td>\n",
       "      <td>Virgin America</td>\n",
       "      <td>NaN</td>\n",
       "      <td>cairdin</td>\n",
       "      <td>NaN</td>\n",
       "      <td>0</td>\n",
       "      <td>@VirginAmerica What @dhepburn said.</td>\n",
       "      <td>NaN</td>\n",
       "      <td>2015-02-24 11:35:52 -0800</td>\n",
       "      <td>NaN</td>\n",
       "      <td>Eastern Time (US &amp; Canada)</td>\n",
       "    </tr>\n",
       "    <tr>\n",
       "      <th>1</th>\n",
       "      <td>570301130888122368</td>\n",
       "      <td>positive</td>\n",
       "      <td>0.3486</td>\n",
       "      <td>NaN</td>\n",
       "      <td>0.0000</td>\n",
       "      <td>Virgin America</td>\n",
       "      <td>NaN</td>\n",
       "      <td>jnardino</td>\n",
       "      <td>NaN</td>\n",
       "      <td>0</td>\n",
       "      <td>@VirginAmerica plus you've added commercials t...</td>\n",
       "      <td>NaN</td>\n",
       "      <td>2015-02-24 11:15:59 -0800</td>\n",
       "      <td>NaN</td>\n",
       "      <td>Pacific Time (US &amp; Canada)</td>\n",
       "    </tr>\n",
       "    <tr>\n",
       "      <th>2</th>\n",
       "      <td>570301083672813571</td>\n",
       "      <td>neutral</td>\n",
       "      <td>0.6837</td>\n",
       "      <td>NaN</td>\n",
       "      <td>NaN</td>\n",
       "      <td>Virgin America</td>\n",
       "      <td>NaN</td>\n",
       "      <td>yvonnalynn</td>\n",
       "      <td>NaN</td>\n",
       "      <td>0</td>\n",
       "      <td>@VirginAmerica I didn't today... Must mean I n...</td>\n",
       "      <td>NaN</td>\n",
       "      <td>2015-02-24 11:15:48 -0800</td>\n",
       "      <td>Lets Play</td>\n",
       "      <td>Central Time (US &amp; Canada)</td>\n",
       "    </tr>\n",
       "    <tr>\n",
       "      <th>3</th>\n",
       "      <td>570301031407624196</td>\n",
       "      <td>negative</td>\n",
       "      <td>1.0000</td>\n",
       "      <td>Bad Flight</td>\n",
       "      <td>0.7033</td>\n",
       "      <td>Virgin America</td>\n",
       "      <td>NaN</td>\n",
       "      <td>jnardino</td>\n",
       "      <td>NaN</td>\n",
       "      <td>0</td>\n",
       "      <td>@VirginAmerica it's really aggressive to blast...</td>\n",
       "      <td>NaN</td>\n",
       "      <td>2015-02-24 11:15:36 -0800</td>\n",
       "      <td>NaN</td>\n",
       "      <td>Pacific Time (US &amp; Canada)</td>\n",
       "    </tr>\n",
       "    <tr>\n",
       "      <th>4</th>\n",
       "      <td>570300817074462722</td>\n",
       "      <td>negative</td>\n",
       "      <td>1.0000</td>\n",
       "      <td>Can't Tell</td>\n",
       "      <td>1.0000</td>\n",
       "      <td>Virgin America</td>\n",
       "      <td>NaN</td>\n",
       "      <td>jnardino</td>\n",
       "      <td>NaN</td>\n",
       "      <td>0</td>\n",
       "      <td>@VirginAmerica and it's a really big bad thing...</td>\n",
       "      <td>NaN</td>\n",
       "      <td>2015-02-24 11:14:45 -0800</td>\n",
       "      <td>NaN</td>\n",
       "      <td>Pacific Time (US &amp; Canada)</td>\n",
       "    </tr>\n",
       "  </tbody>\n",
       "</table>\n",
       "</div>"
      ],
      "text/plain": [
       "             tweet_id airline_sentiment  airline_sentiment_confidence  \\\n",
       "0  570306133677760513           neutral                        1.0000   \n",
       "1  570301130888122368          positive                        0.3486   \n",
       "2  570301083672813571           neutral                        0.6837   \n",
       "3  570301031407624196          negative                        1.0000   \n",
       "4  570300817074462722          negative                        1.0000   \n",
       "\n",
       "  negativereason  negativereason_confidence         airline  \\\n",
       "0            NaN                        NaN  Virgin America   \n",
       "1            NaN                     0.0000  Virgin America   \n",
       "2            NaN                        NaN  Virgin America   \n",
       "3     Bad Flight                     0.7033  Virgin America   \n",
       "4     Can't Tell                     1.0000  Virgin America   \n",
       "\n",
       "  airline_sentiment_gold        name negativereason_gold  retweet_count  \\\n",
       "0                    NaN     cairdin                 NaN              0   \n",
       "1                    NaN    jnardino                 NaN              0   \n",
       "2                    NaN  yvonnalynn                 NaN              0   \n",
       "3                    NaN    jnardino                 NaN              0   \n",
       "4                    NaN    jnardino                 NaN              0   \n",
       "\n",
       "                                                text tweet_coord  \\\n",
       "0                @VirginAmerica What @dhepburn said.         NaN   \n",
       "1  @VirginAmerica plus you've added commercials t...         NaN   \n",
       "2  @VirginAmerica I didn't today... Must mean I n...         NaN   \n",
       "3  @VirginAmerica it's really aggressive to blast...         NaN   \n",
       "4  @VirginAmerica and it's a really big bad thing...         NaN   \n",
       "\n",
       "               tweet_created tweet_location               user_timezone  \n",
       "0  2015-02-24 11:35:52 -0800            NaN  Eastern Time (US & Canada)  \n",
       "1  2015-02-24 11:15:59 -0800            NaN  Pacific Time (US & Canada)  \n",
       "2  2015-02-24 11:15:48 -0800      Lets Play  Central Time (US & Canada)  \n",
       "3  2015-02-24 11:15:36 -0800            NaN  Pacific Time (US & Canada)  \n",
       "4  2015-02-24 11:14:45 -0800            NaN  Pacific Time (US & Canada)  "
      ]
     },
     "execution_count": 2,
     "metadata": {},
     "output_type": "execute_result"
    }
   ],
   "source": [
    "# Import the data\n",
    "airline_tweets = pd.read_csv(\"airline_tweets/Tweets.csv\")\n",
    "\n",
    "# Preview the dataset\n",
    "airline_tweets.head()"
   ]
  },
  {
   "cell_type": "code",
   "execution_count": 3,
   "metadata": {},
   "outputs": [
    {
     "data": {
      "text/plain": [
       "(14640, 15)"
      ]
     },
     "execution_count": 3,
     "metadata": {},
     "output_type": "execute_result"
    }
   ],
   "source": [
    "# View the size of the dataset\n",
    "airline_tweets.shape"
   ]
  },
  {
   "cell_type": "markdown",
   "metadata": {},
   "source": [
    "This dataset has a bit more information than we actually need for this project. We definitely need the text information since that is what we are evaluating, the sentiment since that is what we are trying to measure, and the reason to determine what clusters of complaints people are encountering. As for the rest, they could have some impact on the outcome, but they are not what we are trying to measure so, we'll drop the rest before continuing."
   ]
  },
  {
   "cell_type": "code",
   "execution_count": 4,
   "metadata": {},
   "outputs": [],
   "source": [
    "# Drop columns that have no predictive power\n",
    "airline_tweets.drop(['tweet_id'], axis=1,inplace=True)"
   ]
  },
  {
   "cell_type": "code",
   "execution_count": 5,
   "metadata": {},
   "outputs": [
    {
     "data": {
      "text/plain": [
       "['American', 'Delta', 'Southwest', 'US Airways', 'United', 'Virgin America']"
      ]
     },
     "execution_count": 5,
     "metadata": {},
     "output_type": "execute_result"
    }
   ],
   "source": [
    "# Print unique airlines in the dataset\n",
    "sorted(airline_tweets['airline'].unique())"
   ]
  },
  {
   "cell_type": "code",
   "execution_count": 6,
   "metadata": {},
   "outputs": [
    {
     "data": {
      "text/plain": [
       "airline_sentiment             3\n",
       "negativereason               10\n",
       "airline                       6\n",
       "airline_sentiment_gold        3\n",
       "name                       7701\n",
       "negativereason_gold          13\n",
       "text                      14427\n",
       "tweet_coord                 832\n",
       "tweet_created             14247\n",
       "tweet_location             3081\n",
       "user_timezone                85\n",
       "dtype: int64"
      ]
     },
     "execution_count": 6,
     "metadata": {},
     "output_type": "execute_result"
    }
   ],
   "source": [
    "# Describe unique occurences for each categorical variable\n",
    "airline_tweets.select_dtypes(include=['object']).nunique()"
   ]
  },
  {
   "cell_type": "markdown",
   "metadata": {},
   "source": [
    "## Data Visualization"
   ]
  },
  {
   "cell_type": "code",
   "execution_count": 7,
   "metadata": {},
   "outputs": [
    {
     "data": {
      "application/vnd.plotly.v1+json": {
       "data": [
        {
         "labels": [
          "negative",
          "neutral",
          "positive"
         ],
         "type": "pie",
         "uid": "e157f528-d013-4647-89c5-a86d4f33f380",
         "values": [
          9178,
          3099,
          2363
         ]
        }
       ],
       "layout": {
        "autosize": false,
        "height": 400,
        "title": "Tweet Sentiment",
        "width": 500,
        "yaxis": {
         "title": "Number of tweets"
        }
       }
      },
      "text/html": [
       "<div id=\"afd4a8c9-4321-406a-89e7-b1b0cc2c8d65\" style=\"height: 400px; width: 500px;\" class=\"plotly-graph-div\"></div><script type=\"text/javascript\">require([\"plotly\"], function(Plotly) { window.PLOTLYENV=window.PLOTLYENV || {};window.PLOTLYENV.BASE_URL=\"https://plot.ly\";Plotly.newPlot(\"afd4a8c9-4321-406a-89e7-b1b0cc2c8d65\", [{\"labels\": [\"negative\", \"neutral\", \"positive\"], \"values\": [9178, 3099, 2363], \"type\": \"pie\", \"uid\": \"e157f528-d013-4647-89c5-a86d4f33f380\"}], {\"autosize\": false, \"height\": 400, \"title\": \"Tweet Sentiment\", \"width\": 500, \"yaxis\": {\"title\": \"Number of tweets\"}}, {\"showLink\": true, \"linkText\": \"Export to plot.ly\"})});</script>"
      ],
      "text/vnd.plotly.v1+html": [
       "<div id=\"afd4a8c9-4321-406a-89e7-b1b0cc2c8d65\" style=\"height: 400px; width: 500px;\" class=\"plotly-graph-div\"></div><script type=\"text/javascript\">require([\"plotly\"], function(Plotly) { window.PLOTLYENV=window.PLOTLYENV || {};window.PLOTLYENV.BASE_URL=\"https://plot.ly\";Plotly.newPlot(\"afd4a8c9-4321-406a-89e7-b1b0cc2c8d65\", [{\"labels\": [\"negative\", \"neutral\", \"positive\"], \"values\": [9178, 3099, 2363], \"type\": \"pie\", \"uid\": \"e157f528-d013-4647-89c5-a86d4f33f380\"}], {\"autosize\": false, \"height\": 400, \"title\": \"Tweet Sentiment\", \"width\": 500, \"yaxis\": {\"title\": \"Number of tweets\"}}, {\"showLink\": true, \"linkText\": \"Export to plot.ly\"})});</script>"
      ]
     },
     "metadata": {},
     "output_type": "display_data"
    }
   ],
   "source": [
    "# View distribution of tweets by sentiment \n",
    "# (Changing colors to red/gray/green would be nice)\n",
    "trace = go.Pie(labels=airline_tweets['airline_sentiment'].value_counts().index, \n",
    "              values=airline_tweets['airline_sentiment'].value_counts())\n",
    "\n",
    "# Create the layout\n",
    "layout = go.Layout(\n",
    "    title = 'Tweet Sentiment',\n",
    "    height = 400,\n",
    "    width = 500,\n",
    "    autosize = False,\n",
    "    yaxis = dict(title='Number of tweets')\n",
    ")\n",
    "\n",
    "fig = go.Figure(data = [trace], layout = layout)\n",
    "py.offline.iplot(fig, filename='cufflinks/simple')"
   ]
  },
  {
   "cell_type": "code",
   "execution_count": 8,
   "metadata": {},
   "outputs": [
    {
     "data": {
      "application/vnd.plotly.v1+json": {
       "data": [
        {
         "marker": {
          "color": "rgba(200,0,0,.7)"
         },
         "name": "Negative",
         "type": "bar",
         "uid": "555fb65c-4c71-4f86-b6db-91136c0b8151",
         "x": [
          "American",
          "Delta",
          "Southwest",
          "US Airways",
          "United",
          "Virgin America"
         ],
         "y": [
          1960,
          955,
          1186,
          2263,
          2633,
          181
         ]
        },
        {
         "marker": {
          "color": "rgba(150,150,150,.7)"
         },
         "name": "Neutral",
         "type": "bar",
         "uid": "604f22f5-19bf-4bc0-9a77-fb4cb64064c2",
         "x": [
          "American",
          "Delta",
          "Southwest",
          "US Airways",
          "United",
          "Virgin America"
         ],
         "y": [
          463,
          723,
          664,
          381,
          697,
          171
         ]
        },
        {
         "marker": {
          "color": "rgba(0,200,0,.7)"
         },
         "name": "Positive",
         "type": "bar",
         "uid": "0be0dc13-3458-4b47-ad82-696718f70435",
         "x": [
          "American",
          "Delta",
          "Southwest",
          "US Airways",
          "United",
          "Virgin America"
         ],
         "y": [
          336,
          544,
          570,
          269,
          492,
          152
         ]
        }
       ],
       "layout": {
        "barmode": "group",
        "title": "Sentiment per airline (Totals)",
        "yaxis": {
         "title": "Number of tweets"
        }
       }
      },
      "text/html": [
       "<div id=\"7324c447-f509-4bc5-84a7-276c10e4e02d\" style=\"height: 525px; width: 100%;\" class=\"plotly-graph-div\"></div><script type=\"text/javascript\">require([\"plotly\"], function(Plotly) { window.PLOTLYENV=window.PLOTLYENV || {};window.PLOTLYENV.BASE_URL=\"https://plot.ly\";Plotly.newPlot(\"7324c447-f509-4bc5-84a7-276c10e4e02d\", [{\"marker\": {\"color\": \"rgba(200,0,0,.7)\"}, \"name\": \"Negative\", \"x\": [\"American\", \"Delta\", \"Southwest\", \"US Airways\", \"United\", \"Virgin America\"], \"y\": [1960, 955, 1186, 2263, 2633, 181], \"type\": \"bar\", \"uid\": \"555fb65c-4c71-4f86-b6db-91136c0b8151\"}, {\"marker\": {\"color\": \"rgba(150,150,150,.7)\"}, \"name\": \"Neutral\", \"x\": [\"American\", \"Delta\", \"Southwest\", \"US Airways\", \"United\", \"Virgin America\"], \"y\": [463, 723, 664, 381, 697, 171], \"type\": \"bar\", \"uid\": \"604f22f5-19bf-4bc0-9a77-fb4cb64064c2\"}, {\"marker\": {\"color\": \"rgba(0,200,0,.7)\"}, \"name\": \"Positive\", \"x\": [\"American\", \"Delta\", \"Southwest\", \"US Airways\", \"United\", \"Virgin America\"], \"y\": [336, 544, 570, 269, 492, 152], \"type\": \"bar\", \"uid\": \"0be0dc13-3458-4b47-ad82-696718f70435\"}], {\"barmode\": \"group\", \"title\": \"Sentiment per airline (Totals)\", \"yaxis\": {\"title\": \"Number of tweets\"}}, {\"showLink\": true, \"linkText\": \"Export to plot.ly\"})});</script><script type=\"text/javascript\">window.addEventListener(\"resize\", function(){window._Plotly.Plots.resize(document.getElementById(\"7324c447-f509-4bc5-84a7-276c10e4e02d\"));});</script>"
      ],
      "text/vnd.plotly.v1+html": [
       "<div id=\"7324c447-f509-4bc5-84a7-276c10e4e02d\" style=\"height: 525px; width: 100%;\" class=\"plotly-graph-div\"></div><script type=\"text/javascript\">require([\"plotly\"], function(Plotly) { window.PLOTLYENV=window.PLOTLYENV || {};window.PLOTLYENV.BASE_URL=\"https://plot.ly\";Plotly.newPlot(\"7324c447-f509-4bc5-84a7-276c10e4e02d\", [{\"marker\": {\"color\": \"rgba(200,0,0,.7)\"}, \"name\": \"Negative\", \"x\": [\"American\", \"Delta\", \"Southwest\", \"US Airways\", \"United\", \"Virgin America\"], \"y\": [1960, 955, 1186, 2263, 2633, 181], \"type\": \"bar\", \"uid\": \"555fb65c-4c71-4f86-b6db-91136c0b8151\"}, {\"marker\": {\"color\": \"rgba(150,150,150,.7)\"}, \"name\": \"Neutral\", \"x\": [\"American\", \"Delta\", \"Southwest\", \"US Airways\", \"United\", \"Virgin America\"], \"y\": [463, 723, 664, 381, 697, 171], \"type\": \"bar\", \"uid\": \"604f22f5-19bf-4bc0-9a77-fb4cb64064c2\"}, {\"marker\": {\"color\": \"rgba(0,200,0,.7)\"}, \"name\": \"Positive\", \"x\": [\"American\", \"Delta\", \"Southwest\", \"US Airways\", \"United\", \"Virgin America\"], \"y\": [336, 544, 570, 269, 492, 152], \"type\": \"bar\", \"uid\": \"0be0dc13-3458-4b47-ad82-696718f70435\"}], {\"barmode\": \"group\", \"title\": \"Sentiment per airline (Totals)\", \"yaxis\": {\"title\": \"Number of tweets\"}}, {\"showLink\": true, \"linkText\": \"Export to plot.ly\"})});</script><script type=\"text/javascript\">window.addEventListener(\"resize\", function(){window._Plotly.Plots.resize(document.getElementById(\"7324c447-f509-4bc5-84a7-276c10e4e02d\"));});</script>"
      ]
     },
     "metadata": {},
     "output_type": "display_data"
    }
   ],
   "source": [
    "# Show distribution of texts\n",
    "\n",
    "trace1 = go.Bar(\n",
    "    x = sorted(airline_tweets['airline'].unique()),\n",
    "    y = airline_tweets[airline_tweets['airline_sentiment'] == 'negative'].groupby('airline')['airline_sentiment'].value_counts(),\n",
    "    name = 'Negative',\n",
    "    marker = dict(color='rgba(200,0,0,.7)')\n",
    ")\n",
    "\n",
    "trace2 = go.Bar(\n",
    "    x = sorted(airline_tweets['airline'].unique()),\n",
    "    y = airline_tweets[airline_tweets['airline_sentiment'] == 'neutral'].groupby('airline')['airline_sentiment'].value_counts(),\n",
    "    name = 'Neutral',\n",
    "    marker = dict(color='rgba(150,150,150,.7)')\n",
    ")\n",
    "\n",
    "trace3 = go.Bar(\n",
    "    x = sorted(airline_tweets['airline'].unique()),\n",
    "    y = airline_tweets[airline_tweets['airline_sentiment'] == 'positive'].groupby('airline')['airline_sentiment'].value_counts(),\n",
    "    name = 'Positive',\n",
    "    marker = dict(color='rgba(0,200,0,.7)')\n",
    ")\n",
    "\n",
    "data = [trace1, trace2, trace3]\n",
    "layout = go.Layout(\n",
    "    title = 'Sentiment per airline (Totals)',\n",
    "    barmode='group',\n",
    "    yaxis = dict(title='Number of tweets')\n",
    ")\n",
    "\n",
    "fig = go.Figure(data=data, layout=layout)\n",
    "py.offline.iplot(fig, filename='stacked-bar')"
   ]
  },
  {
   "cell_type": "code",
   "execution_count": 9,
   "metadata": {},
   "outputs": [
    {
     "data": {
      "application/vnd.plotly.v1+json": {
       "data": [
        {
         "marker": {
          "color": "rgba(200,0,0,.7)"
         },
         "name": "Negative",
         "type": "bar",
         "uid": "959f48ee-3800-4e62-b71b-cc73193ee635",
         "x": [
          "American",
          "Delta",
          "Southwest",
          "US Airways",
          "United",
          "Virgin America"
         ],
         "y": [
          0.7104023196810438,
          0.4297929792979298,
          0.4900826446280992,
          0.7768623412289736,
          0.6889063317634746,
          0.35912698412698413
         ]
        },
        {
         "marker": {
          "color": "rgba(150,150,150,.7)"
         },
         "name": "Neutral",
         "type": "bar",
         "uid": "0c7d8803-fbff-41e6-9209-c670ca582bc3",
         "x": [
          "American",
          "Delta",
          "Southwest",
          "US Airways",
          "United",
          "Virgin America"
         ],
         "y": [
          0.16781442551649148,
          0.3253825382538254,
          0.2743801652892562,
          0.13079299691040164,
          0.18236525379382523,
          0.3392857142857143
         ]
        },
        {
         "marker": {
          "color": "rgba(0,200,0,.7)"
         },
         "name": "Positive",
         "type": "bar",
         "uid": "7f38d433-1fd0-44de-88da-8494c7f34170",
         "x": [
          "American",
          "Delta",
          "Southwest",
          "US Airways",
          "United",
          "Virgin America"
         ],
         "y": [
          0.12178325480246466,
          0.2448244824482448,
          0.23553719008264462,
          0.09234466186062479,
          0.12872841444270017,
          0.30158730158730157
         ]
        }
       ],
       "layout": {
        "barmode": "stack",
        "title": "Sentiment per airline (Percentage)",
        "yaxis": {
         "title": "Number of tweets"
        }
       }
      },
      "text/html": [
       "<div id=\"acc8ff5c-de23-4ae6-bfee-3e32fa722a9a\" style=\"height: 525px; width: 100%;\" class=\"plotly-graph-div\"></div><script type=\"text/javascript\">require([\"plotly\"], function(Plotly) { window.PLOTLYENV=window.PLOTLYENV || {};window.PLOTLYENV.BASE_URL=\"https://plot.ly\";Plotly.newPlot(\"acc8ff5c-de23-4ae6-bfee-3e32fa722a9a\", [{\"marker\": {\"color\": \"rgba(200,0,0,.7)\"}, \"name\": \"Negative\", \"x\": [\"American\", \"Delta\", \"Southwest\", \"US Airways\", \"United\", \"Virgin America\"], \"y\": [0.7104023196810438, 0.4297929792979298, 0.4900826446280992, 0.7768623412289736, 0.6889063317634746, 0.35912698412698413], \"type\": \"bar\", \"uid\": \"959f48ee-3800-4e62-b71b-cc73193ee635\"}, {\"marker\": {\"color\": \"rgba(150,150,150,.7)\"}, \"name\": \"Neutral\", \"x\": [\"American\", \"Delta\", \"Southwest\", \"US Airways\", \"United\", \"Virgin America\"], \"y\": [0.16781442551649148, 0.3253825382538254, 0.2743801652892562, 0.13079299691040164, 0.18236525379382523, 0.3392857142857143], \"type\": \"bar\", \"uid\": \"0c7d8803-fbff-41e6-9209-c670ca582bc3\"}, {\"marker\": {\"color\": \"rgba(0,200,0,.7)\"}, \"name\": \"Positive\", \"x\": [\"American\", \"Delta\", \"Southwest\", \"US Airways\", \"United\", \"Virgin America\"], \"y\": [0.12178325480246466, 0.2448244824482448, 0.23553719008264462, 0.09234466186062479, 0.12872841444270017, 0.30158730158730157], \"type\": \"bar\", \"uid\": \"7f38d433-1fd0-44de-88da-8494c7f34170\"}], {\"barmode\": \"stack\", \"title\": \"Sentiment per airline (Percentage)\", \"yaxis\": {\"title\": \"Number of tweets\"}}, {\"showLink\": true, \"linkText\": \"Export to plot.ly\"})});</script><script type=\"text/javascript\">window.addEventListener(\"resize\", function(){window._Plotly.Plots.resize(document.getElementById(\"acc8ff5c-de23-4ae6-bfee-3e32fa722a9a\"));});</script>"
      ],
      "text/vnd.plotly.v1+html": [
       "<div id=\"acc8ff5c-de23-4ae6-bfee-3e32fa722a9a\" style=\"height: 525px; width: 100%;\" class=\"plotly-graph-div\"></div><script type=\"text/javascript\">require([\"plotly\"], function(Plotly) { window.PLOTLYENV=window.PLOTLYENV || {};window.PLOTLYENV.BASE_URL=\"https://plot.ly\";Plotly.newPlot(\"acc8ff5c-de23-4ae6-bfee-3e32fa722a9a\", [{\"marker\": {\"color\": \"rgba(200,0,0,.7)\"}, \"name\": \"Negative\", \"x\": [\"American\", \"Delta\", \"Southwest\", \"US Airways\", \"United\", \"Virgin America\"], \"y\": [0.7104023196810438, 0.4297929792979298, 0.4900826446280992, 0.7768623412289736, 0.6889063317634746, 0.35912698412698413], \"type\": \"bar\", \"uid\": \"959f48ee-3800-4e62-b71b-cc73193ee635\"}, {\"marker\": {\"color\": \"rgba(150,150,150,.7)\"}, \"name\": \"Neutral\", \"x\": [\"American\", \"Delta\", \"Southwest\", \"US Airways\", \"United\", \"Virgin America\"], \"y\": [0.16781442551649148, 0.3253825382538254, 0.2743801652892562, 0.13079299691040164, 0.18236525379382523, 0.3392857142857143], \"type\": \"bar\", \"uid\": \"0c7d8803-fbff-41e6-9209-c670ca582bc3\"}, {\"marker\": {\"color\": \"rgba(0,200,0,.7)\"}, \"name\": \"Positive\", \"x\": [\"American\", \"Delta\", \"Southwest\", \"US Airways\", \"United\", \"Virgin America\"], \"y\": [0.12178325480246466, 0.2448244824482448, 0.23553719008264462, 0.09234466186062479, 0.12872841444270017, 0.30158730158730157], \"type\": \"bar\", \"uid\": \"7f38d433-1fd0-44de-88da-8494c7f34170\"}], {\"barmode\": \"stack\", \"title\": \"Sentiment per airline (Percentage)\", \"yaxis\": {\"title\": \"Number of tweets\"}}, {\"showLink\": true, \"linkText\": \"Export to plot.ly\"})});</script><script type=\"text/javascript\">window.addEventListener(\"resize\", function(){window._Plotly.Plots.resize(document.getElementById(\"acc8ff5c-de23-4ae6-bfee-3e32fa722a9a\"));});</script>"
      ]
     },
     "metadata": {},
     "output_type": "display_data"
    }
   ],
   "source": [
    "# Show distribution of texts\n",
    "# (Percentage of total tweets per airline would be nice)\n",
    "\n",
    "trace1 = go.Bar(\n",
    "    x = sorted(airline_tweets['airline'].unique()),\n",
    "    y = (airline_tweets[airline_tweets['airline_sentiment'] == 'negative'].groupby('airline')['airline_sentiment'].value_counts().values) / (airline_tweets['airline'].value_counts().sort_index().values),\n",
    "    name = 'Negative',\n",
    "    marker = dict(color='rgba(200,0,0,.7)')\n",
    ")\n",
    "\n",
    "trace2 = go.Bar(\n",
    "    x = sorted(airline_tweets['airline'].unique()),\n",
    "    y = (airline_tweets[airline_tweets['airline_sentiment'] == 'neutral'].groupby('airline')['airline_sentiment'].value_counts().values) / (airline_tweets['airline'].value_counts().sort_index().values),\n",
    "    name = 'Neutral',\n",
    "    marker = dict(color='rgba(150,150,150,.7)')\n",
    ")\n",
    "\n",
    "trace3 = go.Bar(\n",
    "    x = sorted(airline_tweets['airline'].unique()),\n",
    "    y = (airline_tweets[airline_tweets['airline_sentiment'] == 'positive'].groupby('airline')['airline_sentiment'].value_counts().values) / (airline_tweets['airline'].value_counts().sort_index().values),\n",
    "    name = 'Positive',\n",
    "    marker = dict(color='rgba(0,200,0,.7)')\n",
    ")\n",
    "\n",
    "data = [trace1, trace2, trace3]\n",
    "layout = go.Layout(\n",
    "    title = 'Sentiment per airline (Percentage)',\n",
    "    barmode='stack',\n",
    "    yaxis = dict(title='Number of tweets')\n",
    ")\n",
    "\n",
    "fig = go.Figure(data=data, layout=layout)\n",
    "py.offline.iplot(fig, filename='stacked-bar')"
   ]
  },
  {
   "cell_type": "code",
   "execution_count": 10,
   "metadata": {},
   "outputs": [
    {
     "data": {
      "application/vnd.plotly.v1+json": {
       "data": [
        {
         "opacity": 0.7,
         "type": "bar",
         "uid": "aaa34723-53be-48fc-b04b-e4f1551ba219",
         "x": [
          "Customer Service Issue",
          "Late Flight",
          "Can't Tell",
          "Cancelled Flight",
          "Lost Luggage",
          "Bad Flight",
          "Flight Booking Problems",
          "Flight Attendant Complaints",
          "longlines",
          "Damaged Luggage"
         ],
         "y": [
          2910,
          1665,
          1190,
          847,
          724,
          580,
          529,
          481,
          178,
          74
         ]
        }
       ],
       "layout": {
        "title": "Negative Tweets by Reason",
        "yaxis": {
         "title": "Number of tweets"
        }
       }
      },
      "text/html": [
       "<div id=\"b656a20b-da0f-42fc-b83f-4fb00d19d4f8\" style=\"height: 525px; width: 100%;\" class=\"plotly-graph-div\"></div><script type=\"text/javascript\">require([\"plotly\"], function(Plotly) { window.PLOTLYENV=window.PLOTLYENV || {};window.PLOTLYENV.BASE_URL=\"https://plot.ly\";Plotly.newPlot(\"b656a20b-da0f-42fc-b83f-4fb00d19d4f8\", [{\"opacity\": 0.7, \"x\": [\"Customer Service Issue\", \"Late Flight\", \"Can't Tell\", \"Cancelled Flight\", \"Lost Luggage\", \"Bad Flight\", \"Flight Booking Problems\", \"Flight Attendant Complaints\", \"longlines\", \"Damaged Luggage\"], \"y\": [2910, 1665, 1190, 847, 724, 580, 529, 481, 178, 74], \"type\": \"bar\", \"uid\": \"aaa34723-53be-48fc-b04b-e4f1551ba219\"}], {\"title\": \"Negative Tweets by Reason\", \"yaxis\": {\"title\": \"Number of tweets\"}}, {\"showLink\": true, \"linkText\": \"Export to plot.ly\"})});</script><script type=\"text/javascript\">window.addEventListener(\"resize\", function(){window._Plotly.Plots.resize(document.getElementById(\"b656a20b-da0f-42fc-b83f-4fb00d19d4f8\"));});</script>"
      ],
      "text/vnd.plotly.v1+html": [
       "<div id=\"b656a20b-da0f-42fc-b83f-4fb00d19d4f8\" style=\"height: 525px; width: 100%;\" class=\"plotly-graph-div\"></div><script type=\"text/javascript\">require([\"plotly\"], function(Plotly) { window.PLOTLYENV=window.PLOTLYENV || {};window.PLOTLYENV.BASE_URL=\"https://plot.ly\";Plotly.newPlot(\"b656a20b-da0f-42fc-b83f-4fb00d19d4f8\", [{\"opacity\": 0.7, \"x\": [\"Customer Service Issue\", \"Late Flight\", \"Can't Tell\", \"Cancelled Flight\", \"Lost Luggage\", \"Bad Flight\", \"Flight Booking Problems\", \"Flight Attendant Complaints\", \"longlines\", \"Damaged Luggage\"], \"y\": [2910, 1665, 1190, 847, 724, 580, 529, 481, 178, 74], \"type\": \"bar\", \"uid\": \"aaa34723-53be-48fc-b04b-e4f1551ba219\"}], {\"title\": \"Negative Tweets by Reason\", \"yaxis\": {\"title\": \"Number of tweets\"}}, {\"showLink\": true, \"linkText\": \"Export to plot.ly\"})});</script><script type=\"text/javascript\">window.addEventListener(\"resize\", function(){window._Plotly.Plots.resize(document.getElementById(\"b656a20b-da0f-42fc-b83f-4fb00d19d4f8\"));});</script>"
      ]
     },
     "metadata": {},
     "output_type": "display_data"
    }
   ],
   "source": [
    "# Plots the complaint reasons, and their frequency\n",
    "# (It might be nice to somehow show how common each reason is for each airline)\n",
    "\n",
    "# The input is the number of negative tweets by reason\n",
    "data = [go.Bar(\n",
    "    x = airline_tweets.negativereason.value_counts().index,\n",
    "    y = airline_tweets.negativereason.value_counts(),\n",
    "    opacity = 0.7\n",
    ")]\n",
    "\n",
    "# Create the layout\n",
    "layout = go.Layout(\n",
    "    title = 'Negative Tweets by Reason',\n",
    "    yaxis = dict(title='Number of tweets')\n",
    ")\n",
    "\n",
    "fig = go.Figure(data = data, layout = layout)\n",
    "py.offline.iplot(fig, filename='cufflinks/simple')"
   ]
  },
  {
   "cell_type": "markdown",
   "metadata": {},
   "source": [
    "## Text Cleaning"
   ]
  },
  {
   "cell_type": "code",
   "execution_count": 11,
   "metadata": {},
   "outputs": [],
   "source": [
    "def text_cleaner(text):\n",
    "    # Visual inspection identifies a form of punctuation spaCy does not\n",
    "    # recognize: the double dash '--'.  Better get rid of it now!\n",
    "    text = re.sub(r'--',' ',text)\n",
    "    text = re.sub(\"[\\[].*?[\\]]\", \"\", text)\n",
    "    text = ' '.join(text.split())\n",
    "    return text"
   ]
  },
  {
   "cell_type": "code",
   "execution_count": 12,
   "metadata": {},
   "outputs": [
    {
     "data": {
      "text/plain": [
       "0                                                                                               @VirginAmerica What @dhepburn said.\n",
       "1                                                          @VirginAmerica plus you've added commercials to the experience... tacky.\n",
       "2                                                           @VirginAmerica I didn't today... Must mean I need to take another trip!\n",
       "3    @VirginAmerica it's really aggressive to blast obnoxious \"entertainment\" in your guests' faces &amp; they have little recourse\n",
       "4                                                                           @VirginAmerica and it's a really big bad thing about it\n",
       "Name: text, dtype: object"
      ]
     },
     "execution_count": 12,
     "metadata": {},
     "output_type": "execute_result"
    }
   ],
   "source": [
    "# Remove non-essential punctuation from the tweets\n",
    "pd.options.display.max_colwidth = 200\n",
    "airline_tweets['text'] = airline_tweets['text'].map(lambda x: text_cleaner(str(x)))\n",
    "airline_tweets['text'].head()"
   ]
  },
  {
   "cell_type": "code",
   "execution_count": 13,
   "metadata": {},
   "outputs": [],
   "source": [
    "lemmatizer = WordNetLemmatizer()\n",
    "\n",
    "# Reduce all text to their lemmas\n",
    "for tweet in airline_tweets['text']:\n",
    "    tweet = lemmatizer.lemmatize(tweet)"
   ]
  },
  {
   "cell_type": "code",
   "execution_count": 14,
   "metadata": {},
   "outputs": [],
   "source": [
    "# # Modify values of sentiment to numerical values\n",
    "# This block is useful before modelling, but it's pretty annoying right now\n",
    "# sentiment = {'negative': -1, 'neutral': 0, 'positive': 1}\n",
    "# airline_tweets['airline_sentiment'] = airline_tweets['airline_sentiment'].map(lambda x: sentiment[x])"
   ]
  },
  {
   "cell_type": "markdown",
   "metadata": {},
   "source": [
    "# Wordcloud generation"
   ]
  },
  {
   "cell_type": "code",
   "execution_count": 15,
   "metadata": {},
   "outputs": [
    {
     "ename": "NameError",
     "evalue": "name 'text' is not defined",
     "output_type": "error",
     "traceback": [
      "\u001b[1;31m---------------------------------------------------------------------------\u001b[0m",
      "\u001b[1;31mNameError\u001b[0m                                 Traceback (most recent call last)",
      "\u001b[1;32m<ipython-input-15-4280dcc6168b>\u001b[0m in \u001b[0;36m<module>\u001b[1;34m()\u001b[0m\n\u001b[1;32m----> 1\u001b[1;33m \u001b[0mwordcloud\u001b[0m \u001b[1;33m=\u001b[0m \u001b[0mWordCloud\u001b[0m\u001b[1;33m(\u001b[0m\u001b[0mstopwords\u001b[0m\u001b[1;33m=\u001b[0m\u001b[0mstopwords\u001b[0m\u001b[1;33m,\u001b[0m \u001b[0mmax_words\u001b[0m\u001b[1;33m=\u001b[0m\u001b[1;36m50\u001b[0m\u001b[1;33m,\u001b[0m \u001b[0mbackground_color\u001b[0m\u001b[1;33m=\u001b[0m\u001b[1;34m\"white\"\u001b[0m\u001b[1;33m)\u001b[0m\u001b[1;33m.\u001b[0m\u001b[0mgenerate\u001b[0m\u001b[1;33m(\u001b[0m\u001b[0mtext\u001b[0m\u001b[1;33m)\u001b[0m\u001b[1;33m\u001b[0m\u001b[0m\n\u001b[0m\u001b[0;32m      2\u001b[0m \u001b[0mplt\u001b[0m\u001b[1;33m.\u001b[0m\u001b[0mfigure\u001b[0m\u001b[1;33m(\u001b[0m\u001b[1;33m)\u001b[0m\u001b[1;33m\u001b[0m\u001b[0m\n\u001b[0;32m      3\u001b[0m \u001b[0mplt\u001b[0m\u001b[1;33m.\u001b[0m\u001b[0mimshow\u001b[0m\u001b[1;33m(\u001b[0m\u001b[0mwordcloud\u001b[0m\u001b[1;33m,\u001b[0m \u001b[0minterpolation\u001b[0m\u001b[1;33m=\u001b[0m\u001b[1;34m\"bilinear\"\u001b[0m\u001b[1;33m)\u001b[0m\u001b[1;33m\u001b[0m\u001b[0m\n\u001b[0;32m      4\u001b[0m \u001b[0mplt\u001b[0m\u001b[1;33m.\u001b[0m\u001b[0maxis\u001b[0m\u001b[1;33m(\u001b[0m\u001b[1;34m\"off\"\u001b[0m\u001b[1;33m)\u001b[0m\u001b[1;33m\u001b[0m\u001b[0m\n\u001b[0;32m      5\u001b[0m \u001b[0mplt\u001b[0m\u001b[1;33m.\u001b[0m\u001b[0mshow\u001b[0m\u001b[1;33m(\u001b[0m\u001b[1;33m)\u001b[0m\u001b[1;33m\u001b[0m\u001b[0m\n",
      "\u001b[1;31mNameError\u001b[0m: name 'text' is not defined"
     ]
    }
   ],
   "source": [
    "wordcloud = WordCloud(stopwords=stopwords, max_words=50, background_color=\"white\").generate(text)\n",
    "plt.figure()\n",
    "plt.imshow(wordcloud, interpolation=\"bilinear\")\n",
    "plt.axis(\"off\")\n",
    "plt.show()\n",
    "    \n",
    "text = \" \".join(tweet for tweet in airline_tweets['text'])"
   ]
  },
  {
   "cell_type": "markdown",
   "metadata": {},
   "source": [
    "# Natural Lanuage Processing"
   ]
  },
  {
   "cell_type": "code",
   "execution_count": null,
   "metadata": {},
   "outputs": [],
   "source": [
    "## Creating tf-idf matrix\n",
    "vectorizer = TfidfVectorizer(stop_words='english')\n",
    "synopsis_tfidf = vectorizer.fit_transform(job_data['Synopsis'])\n",
    "\n",
    "# Getting the word list.\n",
    "terms = vectorizer.get_feature_names()\n",
    "\n",
    "# Number of topics.\n",
    "ntopics=job_data['Query'].nunique()\n",
    "\n",
    "# Linking words to topics\n",
    "def word_topic(tfidf,solution, wordlist):\n",
    "    \n",
    "    # Loading scores for each word on each topic/component.\n",
    "    words_by_topic=tfidf.T * solution\n",
    "\n",
    "    # Linking the loadings to the words in an easy-to-read way.\n",
    "    components=pd.DataFrame(words_by_topic,index=wordlist)\n",
    "    \n",
    "    return components\n",
    "\n",
    "# Extracts the top N words and their loadings for each topic.\n",
    "def top_words(components, n_top_words):\n",
    "    n_topics = range(components.shape[1])\n",
    "    index= np.repeat(n_topics, n_top_words, axis=0)\n",
    "    topwords=pd.Series(index=index)\n",
    "    for column in range(components.shape[1]):\n",
    "        # Sort the column so that highest loadings are at the top.\n",
    "        sortedwords=components.iloc[:,column].sort_values(ascending=False)\n",
    "        # Choose the N highest loadings.\n",
    "        chosen=sortedwords[:n_top_words]\n",
    "        # Combine loading and index into a string.\n",
    "        chosenlist=chosen.index +\" \"+round(chosen,2).map(str) \n",
    "        topwords.loc[column]=chosenlist\n",
    "    return(topwords)\n",
    "\n",
    "# Number of words to look at for each topic.\n",
    "n_top_words = 50"
   ]
  },
  {
   "cell_type": "code",
   "execution_count": null,
   "metadata": {},
   "outputs": [],
   "source": []
  }
 ],
 "metadata": {
  "kernelspec": {
   "display_name": "Python 3",
   "language": "python",
   "name": "python3"
  },
  "language_info": {
   "codemirror_mode": {
    "name": "ipython",
    "version": 3
   },
   "file_extension": ".py",
   "mimetype": "text/x-python",
   "name": "python",
   "nbconvert_exporter": "python",
   "pygments_lexer": "ipython3",
   "version": "3.7.0"
  }
 },
 "nbformat": 4,
 "nbformat_minor": 2
}
