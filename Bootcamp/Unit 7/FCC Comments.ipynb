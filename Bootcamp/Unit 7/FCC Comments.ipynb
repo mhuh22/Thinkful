{
 "cells": [
  {
   "cell_type": "code",
   "execution_count": 1,
   "metadata": {},
   "outputs": [
    {
     "data": {
      "text/html": [
       "<script>requirejs.config({paths: { 'plotly': ['https://cdn.plot.ly/plotly-latest.min']},});if(!window.Plotly) {{require(['plotly'],function(plotly) {window.Plotly=plotly;});}}</script>"
      ],
      "text/vnd.plotly.v1+html": [
       "<script>requirejs.config({paths: { 'plotly': ['https://cdn.plot.ly/plotly-latest.min']},});if(!window.Plotly) {{require(['plotly'],function(plotly) {window.Plotly=plotly;});}}</script>"
      ]
     },
     "metadata": {},
     "output_type": "display_data"
    }
   ],
   "source": [
    "# Basic imports\n",
    "import os\n",
    "import time\n",
    "import timeit\n",
    "import numpy as np\n",
    "import pandas as pd\n",
    "import scipy\n",
    "import sklearn\n",
    "import matplotlib.pyplot as plt\n",
    "import seaborn as sns\n",
    "%matplotlib inline\n",
    "\n",
    "# Machine Learning packages\n",
    "from sklearn import ensemble\n",
    "from sklearn.feature_selection import chi2, f_classif, SelectKBest \n",
    "from sklearn.linear_model import LogisticRegression\n",
    "from sklearn.model_selection import cross_val_score, GridSearchCV, train_test_split\n",
    "from sklearn.preprocessing import normalize\n",
    "\n",
    "# Natural Language processing\n",
    "import nltk\n",
    "import re\n",
    "from collections import Counter\n",
    "from nltk.corpus import stopwords\n",
    "from nltk.stem import WordNetLemmatizer\n",
    "from sklearn.datasets import fetch_rcv1\n",
    "from sklearn.feature_extraction.text import TfidfVectorizer\n",
    "\n",
    "# Clustering packages\n",
    "import sklearn.cluster as cluster\n",
    "from sklearn.cluster import KMeans, MeanShift, estimate_bandwidth, SpectralClustering, AffinityPropagation\n",
    "from scipy.spatial.distance import cdist\n",
    "\n",
    "# Plotly packages\n",
    "import plotly as py\n",
    "import plotly.figure_factory as ff\n",
    "import plotly.graph_objs as go\n",
    "from plotly import tools\n",
    "import cufflinks as cf\n",
    "import ipywidgets as widgets\n",
    "from scipy import special\n",
    "py.offline.init_notebook_mode(connected=True)"
   ]
  },
  {
   "cell_type": "code",
   "execution_count": 3,
   "metadata": {},
   "outputs": [
    {
     "name": "stderr",
     "output_type": "stream",
     "text": [
      "C:\\Users\\mhuh22\\Anaconda3\\lib\\site-packages\\IPython\\core\\interactiveshell.py:2728: DtypeWarning:\n",
      "\n",
      "Columns (7) have mixed types. Specify dtype option on import or set low_memory=False.\n",
      "\n"
     ]
    }
   ],
   "source": [
    "# Import the data\n",
    "fcc_comments = pd.read_csv(\"FCC Comments/deidentified_survey_results.csv\")"
   ]
  },
  {
   "cell_type": "code",
   "execution_count": 5,
   "metadata": {},
   "outputs": [
    {
     "data": {
      "text/html": [
       "<div>\n",
       "<style scoped>\n",
       "    .dataframe tbody tr th:only-of-type {\n",
       "        vertical-align: middle;\n",
       "    }\n",
       "\n",
       "    .dataframe tbody tr th {\n",
       "        vertical-align: top;\n",
       "    }\n",
       "\n",
       "    .dataframe thead th {\n",
       "        text-align: right;\n",
       "    }\n",
       "</style>\n",
       "<table border=\"1\" class=\"dataframe\">\n",
       "  <thead>\n",
       "    <tr style=\"text-align: right;\">\n",
       "      <th></th>\n",
       "      <th>Unnamed: 0</th>\n",
       "      <th>docid</th>\n",
       "      <th>campaign</th>\n",
       "      <th>submitted</th>\n",
       "      <th>email_hash</th>\n",
       "      <th>email_domain</th>\n",
       "      <th>short_comment</th>\n",
       "      <th>email_valid</th>\n",
       "      <th>not_original_commenter</th>\n",
       "      <th>received</th>\n",
       "      <th>block</th>\n",
       "      <th>country</th>\n",
       "      <th>region</th>\n",
       "      <th>bounced_or_filtered</th>\n",
       "      <th>send_failed</th>\n",
       "      <th>pro_repeal</th>\n",
       "    </tr>\n",
       "  </thead>\n",
       "  <tbody>\n",
       "    <tr>\n",
       "      <th>0</th>\n",
       "      <td>0</td>\n",
       "      <td>19970698</td>\n",
       "      <td>3</td>\n",
       "      <td>2017-08-11T14:57:52+00:00</td>\n",
       "      <td>ed33934cc5701a337e210e61d5c12567</td>\n",
       "      <td>yahoo.com</td>\n",
       "      <td>In 2015, Chairman Tom Wheelers Federal Commun...</td>\n",
       "      <td>True</td>\n",
       "      <td>NaN</td>\n",
       "      <td>NaN</td>\n",
       "      <td>NaN</td>\n",
       "      <td>NaN</td>\n",
       "      <td>NaN</td>\n",
       "      <td>False</td>\n",
       "      <td>False</td>\n",
       "      <td>True</td>\n",
       "    </tr>\n",
       "    <tr>\n",
       "      <th>1</th>\n",
       "      <td>1</td>\n",
       "      <td>20235884</td>\n",
       "      <td>3</td>\n",
       "      <td>2017-08-11T15:09:48+00:00</td>\n",
       "      <td>212ce60ccc6d3f0afed35e2d4d5c1050</td>\n",
       "      <td>gmail.com</td>\n",
       "      <td>In 2015, Chairman Tom Wheelers Federal Commun...</td>\n",
       "      <td>True</td>\n",
       "      <td>NaN</td>\n",
       "      <td>NaN</td>\n",
       "      <td>NaN</td>\n",
       "      <td>NaN</td>\n",
       "      <td>NaN</td>\n",
       "      <td>False</td>\n",
       "      <td>False</td>\n",
       "      <td>True</td>\n",
       "    </tr>\n",
       "    <tr>\n",
       "      <th>2</th>\n",
       "      <td>2</td>\n",
       "      <td>16906326</td>\n",
       "      <td>3</td>\n",
       "      <td>2017-08-04T20:03:40+00:00</td>\n",
       "      <td>07ef30726e18a5672f8cac9c2c45c72e</td>\n",
       "      <td>sbcglobal.net</td>\n",
       "      <td>In 2015, Chairman Tom Wheelers Federal Commun...</td>\n",
       "      <td>True</td>\n",
       "      <td>NaN</td>\n",
       "      <td>NaN</td>\n",
       "      <td>NaN</td>\n",
       "      <td>NaN</td>\n",
       "      <td>NaN</td>\n",
       "      <td>False</td>\n",
       "      <td>False</td>\n",
       "      <td>True</td>\n",
       "    </tr>\n",
       "    <tr>\n",
       "      <th>3</th>\n",
       "      <td>3</td>\n",
       "      <td>20626870</td>\n",
       "      <td>3</td>\n",
       "      <td>2017-08-11T19:46:40+00:00</td>\n",
       "      <td>4b6479817123ced072a67e425d683fd6</td>\n",
       "      <td>yahoo.com</td>\n",
       "      <td>In 2015, Chairman Tom Wheelers Federal Commun...</td>\n",
       "      <td>True</td>\n",
       "      <td>NaN</td>\n",
       "      <td>NaN</td>\n",
       "      <td>NaN</td>\n",
       "      <td>NaN</td>\n",
       "      <td>NaN</td>\n",
       "      <td>False</td>\n",
       "      <td>False</td>\n",
       "      <td>True</td>\n",
       "    </tr>\n",
       "    <tr>\n",
       "      <th>4</th>\n",
       "      <td>4</td>\n",
       "      <td>20354907</td>\n",
       "      <td>3</td>\n",
       "      <td>2017-08-11T16:14:38+00:00</td>\n",
       "      <td>71e22da0855795acdb733cd0018ba95a</td>\n",
       "      <td>yahoo.com</td>\n",
       "      <td>In 2015, Chairman Tom Wheelers Federal Commun...</td>\n",
       "      <td>True</td>\n",
       "      <td>NaN</td>\n",
       "      <td>NaN</td>\n",
       "      <td>NaN</td>\n",
       "      <td>NaN</td>\n",
       "      <td>NaN</td>\n",
       "      <td>False</td>\n",
       "      <td>False</td>\n",
       "      <td>True</td>\n",
       "    </tr>\n",
       "  </tbody>\n",
       "</table>\n",
       "</div>"
      ],
      "text/plain": [
       "   Unnamed: 0     docid  campaign                  submitted  \\\n",
       "0           0  19970698         3  2017-08-11T14:57:52+00:00   \n",
       "1           1  20235884         3  2017-08-11T15:09:48+00:00   \n",
       "2           2  16906326         3  2017-08-04T20:03:40+00:00   \n",
       "3           3  20626870         3  2017-08-11T19:46:40+00:00   \n",
       "4           4  20354907         3  2017-08-11T16:14:38+00:00   \n",
       "\n",
       "                         email_hash   email_domain  \\\n",
       "0  ed33934cc5701a337e210e61d5c12567      yahoo.com   \n",
       "1  212ce60ccc6d3f0afed35e2d4d5c1050      gmail.com   \n",
       "2  07ef30726e18a5672f8cac9c2c45c72e  sbcglobal.net   \n",
       "3  4b6479817123ced072a67e425d683fd6      yahoo.com   \n",
       "4  71e22da0855795acdb733cd0018ba95a      yahoo.com   \n",
       "\n",
       "                                       short_comment email_valid  \\\n",
       "0  In 2015, Chairman Tom Wheelers Federal Commun...        True   \n",
       "1  In 2015, Chairman Tom Wheelers Federal Commun...        True   \n",
       "2  In 2015, Chairman Tom Wheelers Federal Commun...        True   \n",
       "3  In 2015, Chairman Tom Wheelers Federal Commun...        True   \n",
       "4  In 2015, Chairman Tom Wheelers Federal Commun...        True   \n",
       "\n",
       "   not_original_commenter received block country region  bounced_or_filtered  \\\n",
       "0                     NaN      NaN   NaN     NaN    NaN                False   \n",
       "1                     NaN      NaN   NaN     NaN    NaN                False   \n",
       "2                     NaN      NaN   NaN     NaN    NaN                False   \n",
       "3                     NaN      NaN   NaN     NaN    NaN                False   \n",
       "4                     NaN      NaN   NaN     NaN    NaN                False   \n",
       "\n",
       "   send_failed  pro_repeal  \n",
       "0        False        True  \n",
       "1        False        True  \n",
       "2        False        True  \n",
       "3        False        True  \n",
       "4        False        True  "
      ]
     },
     "execution_count": 5,
     "metadata": {},
     "output_type": "execute_result"
    }
   ],
   "source": [
    "# Preview the dataframe\n",
    "fcc_comments.head()"
   ]
  },
  {
   "cell_type": "code",
   "execution_count": 18,
   "metadata": {},
   "outputs": [
    {
     "data": {
      "text/plain": [
       "['Unnamed: 0',\n",
       " 'docid',\n",
       " 'campaign',\n",
       " 'submitted',\n",
       " 'email_hash',\n",
       " 'email_domain',\n",
       " 'short_comment',\n",
       " 'email_valid',\n",
       " 'not_original_commenter',\n",
       " 'received',\n",
       " 'block',\n",
       " 'country',\n",
       " 'region',\n",
       " 'bounced_or_filtered',\n",
       " 'send_failed',\n",
       " 'pro_repeal']"
      ]
     },
     "execution_count": 18,
     "metadata": {},
     "output_type": "execute_result"
    }
   ],
   "source": [
    "list(fcc_comments.columns.values)"
   ]
  },
  {
   "cell_type": "code",
   "execution_count": 24,
   "metadata": {},
   "outputs": [],
   "source": [
    "# Drop [] because they don't contain any valuable information\n",
    "fcc_comments.drop(['Unnamed: 0', 'docid', 'email_hash'], axis=1, inplace=True)"
   ]
  },
  {
   "cell_type": "code",
   "execution_count": 25,
   "metadata": {},
   "outputs": [
    {
     "name": "stdout",
     "output_type": "stream",
     "text": [
      "Size: (449659, 13)\n"
     ]
    }
   ],
   "source": [
    "# Print the size of the dataframe\n",
    "print(\"Size: \" + str(fcc_comments.shape))"
   ]
  },
  {
   "cell_type": "code",
   "execution_count": 27,
   "metadata": {},
   "outputs": [
    {
     "data": {
      "text/plain": [
       "submitted        227369\n",
       "email_domain       7736\n",
       "short_comment     43722\n",
       "email_valid           2\n",
       "received          12161\n",
       "block                 5\n",
       "country              78\n",
       "region              160\n",
       "dtype: int64"
      ]
     },
     "execution_count": 27,
     "metadata": {},
     "output_type": "execute_result"
    }
   ],
   "source": [
    "# Print number of unique categories for all non-numerical columns\n",
    "fcc_comments.select_dtypes(include=['object']).nunique()"
   ]
  },
  {
   "cell_type": "code",
   "execution_count": 33,
   "metadata": {},
   "outputs": [
    {
     "data": {
      "text/plain": [
       "The Open Internet rules (net neutrality) are extremely important to me. I don't want the ISP to have the power to block websites, slow them down, give some sites advantage on others, or split the internet into fast lanes for companies that ...                11551\n",
       "Please save the internet from the corporations. Tom Wheeler was right. Let the new neutrality stand....                                                                                                                                                            10255\n",
       "We need net neutralityto continue. A free and open internet is the single greatest technology of our time, and control should not be at the mercy of corporations....                                                                                              10244\n",
       "The Title II order created a gaping gap in privacy protections by taking the best cop, the FTC, off the beat. That is reason enough to support Chairman Pai's proposal to restore Internet freedom. Restore privacy by repealing Net Neutrality....                10224\n",
       "Don't kill net neutrality. We deserve a free and open Internet with strong Title II rules. This will ensure that the flow of data is determined by the interests of Internet users...                                                                              10223\n",
       "Don't kill net neutrality. We deserve a free and open Internet - one where the flow of data is determined by the interests of Internet users...                                                                                                                    10219\n",
       "make sure net neutrality does not dissapear. It is the only thing saving the internet at this moment. If it is removed many webservices will be at risk....                                                                                                        10204\n",
       "The Open Internet rules (net neutrality) are extremely important to me. I don't want the ISP to have the power to block websites, slow them down, give some sites advantage on others, or split the internet into fast lanes for companies that pay and slow...     8163\n",
       "Title II is a Depression-era regulatory framework designed for a telephone monopoly that no longer exists. It was wrong to apply it to the Internet and the FCC should repeal it and go back to the free-market approach that worked so well....                    7290\n",
       "The current FCC regulatory scheme known as \"Title II\" represents an unprecedented increase in government control over the internet. Such over-regulation is hurting our economy and suffocating innovation.\\n \\nI support Chairman Pai's plan to r...               6000\n",
       "As an Internet user, I'm asking the FCC to protect the net neutrality protections currently in place. \\n\\nThe FCC should throw out Chairman Ajit Pai's proposal to give the ISP monopolies like Comcast, AT&T, and Verizon the authority to create...               6000\n",
       "Please Save Net Neutrality and Title ll rules. As a freelance translator I rely on internet spped to do my work and corporations would interfere with my searches if given the change. Do the right thing and keep the needed regulations. Thank...                 6000\n",
       "In 2015, wealthy leftist billionaires and powerful Silicon Valley monopolies took the internet out of the hands of the people and placed it firmly under the thumb of the federal the government, monopolies like Google and global billionaires...                 6000\n",
       "I was outraged by the Obama/Wheeler FCC's decision to reclassify the Internet as a regulated \"public utility\" under a Depression-era law written for the old Ma Bell telephone monopoly.\\n\\nGovernment utility regulation of the Internet risks de...               6000\n",
       "Leave the net neutrality alone. Internet speed should not be for sale. There is nothing wrong with out current system save for the greedy corporations who wish to turn the internet into their own pay-to-play and a government willing to let ...                 6000\n",
       "The FCC's Net Neutrality rules were written in the Obama White House by political staff and Tech Industry special interests who overruled the FCC's own experts. The FCC's own chief economist Tim Brennan called the rules \"an economics-free z...                 6000\n",
       "Allowing broadband providers to throttle their service is unfair business practive. Weakening protections for consumers for the sake of big business is foolish and a countrer to the FCC's mandate. This proposal clearly gets rid of net neutr...                 6000\n",
       "Before leaving office, the Obama Administration rammed through a massive scheme that gave the federal government broad regulatory control over the internet. That misguided policy decision is threatening innovation and hurting broadband inve...                 6000\n",
       "A free and open internet is critical for Americans to connect with their friends and family, exercise their freedom of speech, and create innovative new businesses. In 2015, the FCC established strong net neutrality rules to protect the fre...                 6000\n",
       "The free-market Internet was an incredible engine of economic growth, innovation, and job creation since the 1990s and has already been substantially slowed by the 2015 Net Neutrality rules. The slowdown in investment is destroying jobs and...                 6000\n",
       "Name: short_comment, dtype: int64"
      ]
     },
     "execution_count": 33,
     "metadata": {},
     "output_type": "execute_result"
    }
   ],
   "source": [
    "comments = fcc_comments['short_comment'].value_counts()\n",
    "comments.head(20)"
   ]
  },
  {
   "cell_type": "markdown",
   "metadata": {},
   "source": [
    "# Text Cleaning"
   ]
  },
  {
   "cell_type": "code",
   "execution_count": 34,
   "metadata": {},
   "outputs": [],
   "source": [
    "def text_cleaner(text):\n",
    "    # Visual inspection identifies a form of punctuation spaCy does not\n",
    "    # recognize: the double dash '--'.  Better get rid of it now!\n",
    "    text = re.sub(r'--',' ',text)\n",
    "    text = re.sub(\"[\\[].*?[\\]]\", \"\", text)\n",
    "    text = ' '.join(text.split())\n",
    "    return text"
   ]
  },
  {
   "cell_type": "code",
   "execution_count": 35,
   "metadata": {},
   "outputs": [
    {
     "data": {
      "text/plain": [
       "0    In 2015, Chairman Tom Wheelers Federal Communications Commission (FCC) imposed restrictive Title II, utility-style regulations under the guise of an open internet. Not only have these regulatio...\n",
       "1    In 2015, Chairman Tom Wheelers Federal Communications Commission (FCC) imposed restrictive Title II, utility-style regulations under the guise of an open internet. Not only have these regulatio...\n",
       "2    In 2015, Chairman Tom Wheelers Federal Communications Commission (FCC) imposed restrictive Title II, utility-style regulations under the guise of an open internet. Not only have these regulatio...\n",
       "3    In 2015, Chairman Tom Wheelers Federal Communications Commission (FCC) imposed restrictive Title II, utility-style regulations under the guise of an open internet. Not only have these regulatio...\n",
       "4    In 2015, Chairman Tom Wheelers Federal Communications Commission (FCC) imposed restrictive Title II, utility-style regulations under the guise of an open internet. Not only have these regulatio...\n",
       "Name: short_comment, dtype: object"
      ]
     },
     "execution_count": 35,
     "metadata": {},
     "output_type": "execute_result"
    }
   ],
   "source": [
    "# Remove annoying punctuation from the articles\n",
    "pd.options.display.max_colwidth = 200\n",
    "fcc_comments['short_comment'] = fcc_comments['short_comment'].map(lambda x: text_cleaner(str(x)))\n",
    "fcc_comments['short_comment'].head()"
   ]
  },
  {
   "cell_type": "markdown",
   "metadata": {},
   "source": [
    "# Natural Language Processing"
   ]
  },
  {
   "cell_type": "code",
   "execution_count": 37,
   "metadata": {},
   "outputs": [],
   "source": [
    "lemmatizer = WordNetLemmatizer()\n",
    "\n",
    "# Reduce all text to their lemmas\n",
    "for comment in fcc_comments['short_comment']:\n",
    "    comment = lemmatizer.lemmatize(comme nt)"
   ]
  },
  {
   "cell_type": "code",
   "execution_count": 39,
   "metadata": {},
   "outputs": [],
   "source": [
    "# Predict job title using text data\n",
    "X = fcc_comments['short_comment']\n",
    "y = fcc_comments['pro_repeal']\n",
    "\n",
    "# Create training and testing sets\n",
    "X_train, X_test, y_train, y_test = train_test_split(X, y, test_size=0.25, random_state=42)"
   ]
  },
  {
   "cell_type": "code",
   "execution_count": null,
   "metadata": {},
   "outputs": [],
   "source": []
  }
 ],
 "metadata": {
  "kernelspec": {
   "display_name": "Python 3",
   "language": "python",
   "name": "python3"
  },
  "language_info": {
   "codemirror_mode": {
    "name": "ipython",
    "version": 3
   },
   "file_extension": ".py",
   "mimetype": "text/x-python",
   "name": "python",
   "nbconvert_exporter": "python",
   "pygments_lexer": "ipython3",
   "version": "3.6.4"
  }
 },
 "nbformat": 4,
 "nbformat_minor": 2
}
