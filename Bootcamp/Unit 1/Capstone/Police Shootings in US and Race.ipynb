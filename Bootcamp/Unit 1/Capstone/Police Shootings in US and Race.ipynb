{
 "cells": [
  {
   "cell_type": "markdown",
   "metadata": {},
   "source": [
    "# Overview\n",
    "\n",
    "With the recent publicity regarding police shootings in the United States, two of the questions that have arose from this are 1) Are police in the United States more prone to acts of excessive violence more so than any other developed country and 2) Are African-Americans disproportionately more likely to be targeted and shot at than any other race (respective to their population size)?  \n",
    "\n",
    "Barring all external factors, we should expect to see officers in uniform treat people of all demographics with the same respect and response, and for all ethnicities to behave more or less the same way, with respect to the law. All of these incidents regarding blue on black violence projects the image that police are unfairly targeting African Americans and quick to turn to excessive force.\n",
    "\n",
    "# Hypothesis\n",
    "\n",
    "One component of addressing this issue will be done by examining the demographics behind all reported fatal incidents between February 2015 to July 2017. Our hypothesis is that police unfairly bestow judgment and execution on certain demographics, mostly African-Americans, and we will not not see an equal distribution on killings relative to the proportion of each demographic in the US. The null hypothesis will be that race has no impact on police killing rates, and fatality rates by ethnicities  will be roughly in line with the average fatality rates."
   ]
  },
  {
   "cell_type": "code",
   "execution_count": 1,
   "metadata": {},
   "outputs": [],
   "source": [
    "%matplotlib inline\n",
    "import pandas as pd\n",
    "import numpy as np\n",
    "import seaborn as sns\n",
    "from matplotlib import pyplot as plt\n",
    "from scipy import stats"
   ]
  },
  {
   "cell_type": "code",
   "execution_count": 2,
   "metadata": {},
   "outputs": [],
   "source": [
    "PATH = 'C:\\\\Users\\\\mhuh22\\\\Desktop\\\\Thinkful\\\\Unit_1\\\\Capstone\\\\PoliceKillingsUS.csv'\n",
    "data = pd.read_csv(PATH, encoding='latin1')"
   ]
  },
  {
   "cell_type": "markdown",
   "metadata": {},
   "source": [
    "# Data\n",
    "\n",
    "In order to investigate this issue, i will examining data provided by the Guardian on police shooting fatalities from February 2015 to July 2017. The dataset used for this proposal requires minimal data cleanup, but all incomplete entries have been removed. Even with these entries missing at random (roughly 10% of the dataset), as well as incidents that may not have been properly reported, we have a sufficiently large sample size of 2254 incidents to assess this question.\n",
    "\n",
    "Since the population size of each ethnicity group is clearly not the same, I’ll be comparing the fatality rates to the US Census Population statistics. If it turns out that ethnicity is not a significant factor in these incidents, then we should expect to see these percentages be fairly close to one another."
   ]
  },
  {
   "cell_type": "code",
   "execution_count": 3,
   "metadata": {},
   "outputs": [
    {
     "name": "stdout",
     "output_type": "stream",
     "text": [
      "Total entries: 2535\n",
      "Valid entries: 2254\n"
     ]
    },
    {
     "data": {
      "text/html": [
       "<div>\n",
       "<style scoped>\n",
       "    .dataframe tbody tr th:only-of-type {\n",
       "        vertical-align: middle;\n",
       "    }\n",
       "\n",
       "    .dataframe tbody tr th {\n",
       "        vertical-align: top;\n",
       "    }\n",
       "\n",
       "    .dataframe thead th {\n",
       "        text-align: right;\n",
       "    }\n",
       "</style>\n",
       "<table border=\"1\" class=\"dataframe\">\n",
       "  <thead>\n",
       "    <tr style=\"text-align: right;\">\n",
       "      <th></th>\n",
       "      <th>id</th>\n",
       "      <th>name</th>\n",
       "      <th>date</th>\n",
       "      <th>manner_of_death</th>\n",
       "      <th>armed</th>\n",
       "      <th>age</th>\n",
       "      <th>gender</th>\n",
       "      <th>race</th>\n",
       "      <th>city</th>\n",
       "      <th>state</th>\n",
       "      <th>signs_of_mental_illness</th>\n",
       "      <th>threat_level</th>\n",
       "      <th>flee</th>\n",
       "      <th>body_camera</th>\n",
       "    </tr>\n",
       "  </thead>\n",
       "  <tbody>\n",
       "    <tr>\n",
       "      <th>0</th>\n",
       "      <td>3</td>\n",
       "      <td>Tim Elliot</td>\n",
       "      <td>02/01/15</td>\n",
       "      <td>shot</td>\n",
       "      <td>gun</td>\n",
       "      <td>53.0</td>\n",
       "      <td>M</td>\n",
       "      <td>A</td>\n",
       "      <td>Shelton</td>\n",
       "      <td>WA</td>\n",
       "      <td>True</td>\n",
       "      <td>attack</td>\n",
       "      <td>Not fleeing</td>\n",
       "      <td>False</td>\n",
       "    </tr>\n",
       "    <tr>\n",
       "      <th>1</th>\n",
       "      <td>4</td>\n",
       "      <td>Lewis Lee Lembke</td>\n",
       "      <td>02/01/15</td>\n",
       "      <td>shot</td>\n",
       "      <td>gun</td>\n",
       "      <td>47.0</td>\n",
       "      <td>M</td>\n",
       "      <td>W</td>\n",
       "      <td>Aloha</td>\n",
       "      <td>OR</td>\n",
       "      <td>False</td>\n",
       "      <td>attack</td>\n",
       "      <td>Not fleeing</td>\n",
       "      <td>False</td>\n",
       "    </tr>\n",
       "    <tr>\n",
       "      <th>2</th>\n",
       "      <td>5</td>\n",
       "      <td>John Paul Quintero</td>\n",
       "      <td>03/01/15</td>\n",
       "      <td>shot and Tasered</td>\n",
       "      <td>unarmed</td>\n",
       "      <td>23.0</td>\n",
       "      <td>M</td>\n",
       "      <td>H</td>\n",
       "      <td>Wichita</td>\n",
       "      <td>KS</td>\n",
       "      <td>False</td>\n",
       "      <td>other</td>\n",
       "      <td>Not fleeing</td>\n",
       "      <td>False</td>\n",
       "    </tr>\n",
       "    <tr>\n",
       "      <th>2525</th>\n",
       "      <td>2820</td>\n",
       "      <td>Deltra Henderson</td>\n",
       "      <td>27/07/17</td>\n",
       "      <td>shot</td>\n",
       "      <td>gun</td>\n",
       "      <td>39.0</td>\n",
       "      <td>M</td>\n",
       "      <td>B</td>\n",
       "      <td>Homer</td>\n",
       "      <td>LA</td>\n",
       "      <td>False</td>\n",
       "      <td>attack</td>\n",
       "      <td>Car</td>\n",
       "      <td>False</td>\n",
       "    </tr>\n",
       "    <tr>\n",
       "      <th>2533</th>\n",
       "      <td>2817</td>\n",
       "      <td>Isaiah Tucker</td>\n",
       "      <td>31/07/17</td>\n",
       "      <td>shot</td>\n",
       "      <td>vehicle</td>\n",
       "      <td>28.0</td>\n",
       "      <td>M</td>\n",
       "      <td>B</td>\n",
       "      <td>Oshkosh</td>\n",
       "      <td>WI</td>\n",
       "      <td>False</td>\n",
       "      <td>attack</td>\n",
       "      <td>Car</td>\n",
       "      <td>True</td>\n",
       "    </tr>\n",
       "    <tr>\n",
       "      <th>2534</th>\n",
       "      <td>2815</td>\n",
       "      <td>Dwayne Jeune</td>\n",
       "      <td>31/07/17</td>\n",
       "      <td>shot</td>\n",
       "      <td>knife</td>\n",
       "      <td>32.0</td>\n",
       "      <td>M</td>\n",
       "      <td>B</td>\n",
       "      <td>Brooklyn</td>\n",
       "      <td>NY</td>\n",
       "      <td>True</td>\n",
       "      <td>attack</td>\n",
       "      <td>Not fleeing</td>\n",
       "      <td>False</td>\n",
       "    </tr>\n",
       "  </tbody>\n",
       "</table>\n",
       "</div>"
      ],
      "text/plain": [
       "        id                name      date   manner_of_death    armed   age  \\\n",
       "0        3          Tim Elliot  02/01/15              shot      gun  53.0   \n",
       "1        4    Lewis Lee Lembke  02/01/15              shot      gun  47.0   \n",
       "2        5  John Paul Quintero  03/01/15  shot and Tasered  unarmed  23.0   \n",
       "2525  2820    Deltra Henderson  27/07/17              shot      gun  39.0   \n",
       "2533  2817       Isaiah Tucker  31/07/17              shot  vehicle  28.0   \n",
       "2534  2815        Dwayne Jeune  31/07/17              shot    knife  32.0   \n",
       "\n",
       "     gender race      city state  signs_of_mental_illness threat_level  \\\n",
       "0         M    A   Shelton    WA                     True       attack   \n",
       "1         M    W     Aloha    OR                    False       attack   \n",
       "2         M    H   Wichita    KS                    False        other   \n",
       "2525      M    B     Homer    LA                    False       attack   \n",
       "2533      M    B   Oshkosh    WI                    False       attack   \n",
       "2534      M    B  Brooklyn    NY                     True       attack   \n",
       "\n",
       "             flee  body_camera  \n",
       "0     Not fleeing        False  \n",
       "1     Not fleeing        False  \n",
       "2     Not fleeing        False  \n",
       "2525          Car        False  \n",
       "2533          Car         True  \n",
       "2534  Not fleeing        False  "
      ]
     },
     "execution_count": 3,
     "metadata": {},
     "output_type": "execute_result"
    }
   ],
   "source": [
    "print('Total entries: ' + str(len(data.index)))\n",
    "data = data.dropna()\n",
    "print('Valid entries: ' + str(len(data.index)))\n",
    "pd.concat([data.head(3),data.tail(3)])"
   ]
  },
  {
   "cell_type": "markdown",
   "metadata": {},
   "source": [
    "# Analysis\n",
    "\n",
    "For the purposes of this analysis, the only variable that we will be examining from this dataset will be ethnicity. In order to determine if there is a correlation and fatality rates, we will be examining the fatality rates for each ethnicity, divide that by the total to get the fatality rate. We will then compare it to the ethnic proportions in the United States, and finally divide the fatality rate for each ethnicity by their proportion to determine their probability of being a victim of police brutality.. A value of \n",
    "1. <1 means that this group is targeted less than average\n",
    "2. 1 means that this group is target fairly\n",
    "3. >1 means that this group is targeted more than average"
   ]
  },
  {
   "cell_type": "code",
   "execution_count": 5,
   "metadata": {},
   "outputs": [
    {
     "name": "stdout",
     "output_type": "stream",
     "text": [
      "      fatalities  bodycount  population  likelihood             race\n",
      "race                                                                \n",
      "A             36        1.6         4.8    0.333333            Asian\n",
      "B            592       26.3        12.6    2.087302            Black\n",
      "H            401       17.8        16.3    1.092025         Hispanic\n",
      "N             29        1.3         0.9    1.444444  Native American\n",
      "O             28        1.2         6.2    0.193548            Other\n",
      "W           1168       51.8        72.4    0.715470            White\n"
     ]
    }
   ],
   "source": [
    "data['fatalities'] = 0\n",
    "count = data[['race','fatalities']].groupby(['race']).count()\n",
    "\n",
    "count['bodycount'] = round(count['fatalities'].astype(float)/(len(data.index))*100,1)\n",
    "count['population'] = [4.8,12.6,16.3,0.9,6.2,72.4]\n",
    "count['likelihood'] = count['bodycount']/count['population']\n",
    "count['race'] = ['Asian','Black','Hispanic','Native American','Other','White']\n",
    "print(count)"
   ]
  },
  {
   "cell_type": "markdown",
   "metadata": {},
   "source": [
    "# Conclusion\n",
    "\n",
    "Our results show that African-Americans are indeed more likely to be a victim of police brutality than any other demographic when taking their population size into account. Now, the obvious way to continue this project would be to first examine other factors for these victims such as their location, what they were carrying that made them appear suspicious, and how they reacted to the officer."
   ]
  },
  {
   "cell_type": "markdown",
   "metadata": {},
   "source": [
    "# Sources\n",
    "\n",
    "Kaggle Dataset\n",
    "\n",
    "https://data.world/nicholsn/2016-police-killings-us-db\n",
    "\n",
    "Guardian Database of Police Killings\n",
    "\n",
    "https://www.theguardian.com/us-news/ng-interactive/2015/jun/01/about-the-counted\n",
    "https://www.theguardian.com/us-news/ng-interactive/2015/jun/01/the-counted-police-killings-us-database"
   ]
  },
  {
   "cell_type": "code",
   "execution_count": null,
   "metadata": {},
   "outputs": [],
   "source": []
  }
 ],
 "metadata": {
  "kernelspec": {
   "display_name": "Python 3",
   "language": "python",
   "name": "python3"
  },
  "language_info": {
   "codemirror_mode": {
    "name": "ipython",
    "version": 3
   },
   "file_extension": ".py",
   "mimetype": "text/x-python",
   "name": "python",
   "nbconvert_exporter": "python",
   "pygments_lexer": "ipython3",
   "version": "3.6.4"
  }
 },
 "nbformat": 4,
 "nbformat_minor": 2
}
