{
 "cells": [
  {
   "cell_type": "code",
   "execution_count": 1,
   "metadata": {
    "collapsed": true
   },
   "outputs": [
    {
     "ename": "ModuleNotFoundError",
     "evalue": "No module named 'scrapy'",
     "output_type": "error",
     "traceback": [
      "\u001b[1;31m---------------------------------------------------------------------------\u001b[0m",
      "\u001b[1;31mModuleNotFoundError\u001b[0m                       Traceback (most recent call last)",
      "\u001b[1;32m<ipython-input-1-95fd76f07513>\u001b[0m in \u001b[0;36m<module>\u001b[1;34m()\u001b[0m\n\u001b[0;32m      1\u001b[0m \u001b[1;31m# -*- coding: utf-8 -*-\u001b[0m\u001b[1;33m\u001b[0m\u001b[1;33m\u001b[0m\u001b[0m\n\u001b[1;32m----> 2\u001b[1;33m \u001b[1;32mimport\u001b[0m \u001b[0mscrapy\u001b[0m\u001b[1;33m\u001b[0m\u001b[0m\n\u001b[0m\u001b[0;32m      3\u001b[0m \u001b[1;33m\u001b[0m\u001b[0m\n\u001b[0;32m      4\u001b[0m \u001b[1;32mclass\u001b[0m \u001b[0mSouqSpider\u001b[0m\u001b[1;33m(\u001b[0m\u001b[0mscrapy\u001b[0m\u001b[1;33m.\u001b[0m\u001b[0mSpider\u001b[0m\u001b[1;33m)\u001b[0m\u001b[1;33m:\u001b[0m\u001b[1;33m\u001b[0m\u001b[0m\n\u001b[0;32m      5\u001b[0m     \u001b[0mname\u001b[0m \u001b[1;33m=\u001b[0m \u001b[1;34m\"Souq\"\u001b[0m  \u001b[1;31m# Name of the Spider, required value\u001b[0m\u001b[1;33m\u001b[0m\u001b[0m\n",
      "\u001b[1;31mModuleNotFoundError\u001b[0m: No module named 'scrapy'"
     ]
    }
   ],
   "source": [
    "# -*- coding: utf-8 -*-\n",
    "import scrapy\n",
    "\n",
    "class SouqSpider(scrapy.Spider):\n",
    "    name = \"Souq\"  # Name of the Spider, required value\n",
    "    start_urls = [\"http://deals.souq.com/ae-en/\"]  # The starting url, Scrapy will request this URL in parse\n",
    "\n",
    "    # Entry point for the spider\n",
    "    def parse(self, response):\n",
    "        for href in response.css('.sp-cms_unit--ttl a::attr(href)'):\n",
    "            url = href.extract()\n",
    "            yield scrapy.Request(url, callback=self.parse_item)\n",
    "\n",
    "    # Method for parsing a product page\n",
    "    def parse_item(self, response):\n",
    "        original_price = -1\n",
    "        savings=0\n",
    "        discounted = False\n",
    "        seller_rating = response.css('.vip-product-info .stats .inline-block small::text'). extract()[0]\n",
    "        seller_rating = int(filter(unicode.isdigit,seller_rating))\n",
    "\n",
    "        # Not all deals are discounted\n",
    "        if response.css('.vip-product-info .subhead::text').extract():\n",
    "            original_price = response.css('.vip-product-info .subhead::text').extract()[0].replace(\"AED\", \"\")\n",
    "            discounted = True\n",
    "            savings = response.css('.vip-product-info .message .noWrap::text').extract()[0].replace(\"AED\", \"\")\n",
    "        yield {\n",
    "            'Title': response.css('.product-title h1::text').extract()[0],\n",
    "            'Category': response.css('.product-title h1+ span a+ a::text').extract()[0],\n",
    "            'OriginalPrice': original_price,\n",
    "            'CurrentPrice': response.css('.vip-product-info .price::text').extract()[0].replace(u\"\\xa0\", \"\"),\n",
    "            'Discounted': discounted,\n",
    "            'Savings': savings,\n",
    "            'SoldBy': response.css('.vip-product-info .stats a::text').extract()[0],\n",
    "            'SellerRating': seller_rating,\n",
    "            'Url': response.url\n",
    "        }"
   ]
  },
  {
   "cell_type": "code",
   "execution_count": null,
   "metadata": {},
   "outputs": [],
   "source": []
  }
 ],
 "metadata": {
  "kernelspec": {
   "display_name": "Python 3",
   "language": "python",
   "name": "python3"
  },
  "language_info": {
   "codemirror_mode": {
    "name": "ipython",
    "version": 3
   },
   "file_extension": ".py",
   "mimetype": "text/x-python",
   "name": "python",
   "nbconvert_exporter": "python",
   "pygments_lexer": "ipython3",
   "version": "3.6.4"
  }
 },
 "nbformat": 4,
 "nbformat_minor": 2
}
