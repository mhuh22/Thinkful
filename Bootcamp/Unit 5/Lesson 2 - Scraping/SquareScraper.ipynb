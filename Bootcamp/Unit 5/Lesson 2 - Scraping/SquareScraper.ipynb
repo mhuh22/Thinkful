{
 "cells": [
  {
   "cell_type": "code",
   "execution_count": 1,
   "metadata": {},
   "outputs": [
    {
     "name": "stdout",
     "output_type": "stream",
     "text": [
      "Success!\n"
     ]
    }
   ],
   "source": [
    "# Importing in each cell because of the kernel restarts.\n",
    "import scrapy\n",
    "from scrapy.crawler import CrawlerProcess\n",
    "\n",
    "class ESSpider(scrapy.Spider):\n",
    "    # Naming the spider is important if you are running more than one spider of\n",
    "    # this class simultaneously.\n",
    "    name = \"ESS\"\n",
    "    \n",
    "    # URL(s) to start with.\n",
    "    start_urls = [\n",
    "        'https://foursquare.com/explore?mode=url&near=Arlington%2C%20VA%2C%20United%20States&nearGeoId=72057594042672645',\n",
    "    ]\n",
    "\n",
    "    # Use XPath to parse the response we get.\n",
    "    def parse(self, response):\n",
    "            \n",
    "        for venue in response.xpath(\"//div[@class='venueDetails']\"):\n",
    "#             print(venue.xpath(\"div[@class='venueName']/h2/a[@target='_blank']/text()\").extract_first())\n",
    "#             print(venue.xpath(\"div/div/div/span/span[@class='categoryName']/text()\").extract_first())\n",
    "#             print(venue.xpath(\"div/div/div[@class='venueAddress']/text()\").extract_first())\n",
    "#             print()\n",
    "            \n",
    "            yield {\n",
    "                #This is the code to choose what we want to extract\n",
    "                #You can modify this with other Xpath expressions to extract other information from the site\n",
    "                'name': venue.xpath(\"div[@class='venueName']/h2/a[@target='_blank']/text()\").extract_first(),\n",
    "                'category': venue.xpath(\"div/div/div/span/span[@class='categoryName']/text()\").extract_first(),\n",
    "                'address': venue.xpath(\"div/div/div[@class='venueAddress']/text()\").extract()\n",
    "            }\n",
    "\n",
    "# Tell the script how to run the crawler by passing in settings.\n",
    "process = CrawlerProcess({\n",
    "    'FEED_FORMAT': 'json',         # Store data in JSON format.\n",
    "    'FEED_URI': 'firstpage.json',  # Name our storage file.\n",
    "    'LOG_ENABLED': False           # Turn off logging for now.\n",
    "})\n",
    "\n",
    "# # Start the crawler with our spider.\n",
    "process.crawl(ESSpider)\n",
    "process.start()\n",
    "print('Success!')"
   ]
  },
  {
   "cell_type": "code",
   "execution_count": 2,
   "metadata": {},
   "outputs": [
    {
     "name": "stdout",
     "output_type": "stream",
     "text": [
      "(30, 3)\n",
      "                                             address  category  \\\n",
      "0                  [5837 Washington Blvd, Arlington]   Italian   \n",
      "1  [1 Air Force Memorial Dr (Columbia Pike), Arli...  Landmark   \n",
      "2                      [5104 Wilson Blvd, Arlington]     Pizza   \n",
      "3      [4200 Campbell Ave (Campbell Ave), Arlington]   Theater   \n",
      "4                     [2690 S Oxford St., Arlington]   Dog Run   \n",
      "\n",
      "                               name  \n",
      "0                 The Italian Store  \n",
      "1  United States Air Force Memorial  \n",
      "2        Pupatella Neapolitan Pizza  \n",
      "3                 Signature Theatre  \n",
      "4              Shirlington Dog Park  \n"
     ]
    }
   ],
   "source": [
    "import pandas as pd\n",
    "\n",
    "firstpage = pd.read_json('firstpage.json', orient='records')\n",
    "print(firstpage.shape)\n",
    "print(firstpage.head())"
   ]
  }
 ],
 "metadata": {
  "kernelspec": {
   "display_name": "Python 3",
   "language": "python",
   "name": "python3"
  },
  "language_info": {
   "codemirror_mode": {
    "name": "ipython",
    "version": 3
   },
   "file_extension": ".py",
   "mimetype": "text/x-python",
   "name": "python",
   "nbconvert_exporter": "python",
   "pygments_lexer": "ipython3",
   "version": "3.6.5"
  }
 },
 "nbformat": 4,
 "nbformat_minor": 2
}
