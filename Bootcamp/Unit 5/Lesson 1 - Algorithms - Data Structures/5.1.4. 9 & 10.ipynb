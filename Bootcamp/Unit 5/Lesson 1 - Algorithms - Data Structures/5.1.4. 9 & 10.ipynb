{
 "cells": [
  {
   "cell_type": "markdown",
   "metadata": {},
   "source": [
    "# Problem 9  - Special Pythagorean Triplet\n",
    "\n",
    "A Pythagorean triplet is a set of three natural numbers, a < b < c, for which,\n",
    "\n",
    "a2 + b2 = c2\n",
    "\n",
    "For example, 32 + 42 = 9 + 16 = 25 = 52.\n",
    "\n",
    "There exists exactly one Pythagorean triplet for which a + b + c = 1000.\n",
    "Find the product abc."
   ]
  },
  {
   "cell_type": "code",
   "execution_count": 2,
   "metadata": {},
   "outputs": [
    {
     "name": "stdout",
     "output_type": "stream",
     "text": [
      "[1, 4, 9, 16, 25, 36, 49, 64, 81, 100, 121, 144, 169, 196, 225, 256, 289, 324, 361, 400, 441, 484, 529, 576, 625, 676, 729, 784, 841, 900, 961]\n"
     ]
    }
   ],
   "source": [
    "products = []\n",
    "\n",
    "for i in range(1,32):\n",
    "    products.append(i**2)\n",
    "\n",
    "print(products)"
   ]
  },
  {
   "cell_type": "code",
   "execution_count": 23,
   "metadata": {},
   "outputs": [],
   "source": [
    "def triplet(sum):\n",
    "    products = []\n",
    "\n",
    "    for i in range(1,32):\n",
    "        products.append(i**2)\n",
    "\n",
    "    for a in range(1,30):\n",
    "        for b in range(2,31):\n",
    "            c = int(sum - (a**2 + b**2))**(1/2)\n",
    "            if (c**2) in products:\n",
    "                return('{}, {}, {} = {}'.format(a,b,c, a*b*c))"
   ]
  },
  {
   "cell_type": "code",
   "execution_count": 24,
   "metadata": {},
   "outputs": [
    {
     "data": {
      "text/plain": [
       "'6, 8, 30.0 = 1440.0'"
      ]
     },
     "execution_count": 24,
     "metadata": {},
     "output_type": "execute_result"
    }
   ],
   "source": [
    "triplet(1000)"
   ]
  },
  {
   "cell_type": "markdown",
   "metadata": {},
   "source": [
    "# Problem 10 - Summation of Primes\n",
    "\n",
    "The sum of the primes below 10 is 2 + 3 + 5 + 7 = 17.\n",
    "\n",
    "Find the sum of all the primes below two million."
   ]
  },
  {
   "cell_type": "code",
   "execution_count": 2,
   "metadata": {},
   "outputs": [],
   "source": [
    "import math"
   ]
  },
  {
   "cell_type": "code",
   "execution_count": 17,
   "metadata": {},
   "outputs": [
    {
     "name": "stdout",
     "output_type": "stream",
     "text": [
      "142913828922\n"
     ]
    }
   ],
   "source": [
    "sum_primes = 0\n",
    "for i in range(2, 2000000):\n",
    "    prime = True\n",
    "    for j in range(2, int(i**(1/2)+1)):\n",
    "        if i % j == 0:\n",
    "            prime=False\n",
    "    if prime == True:\n",
    "        sum_primes += i\n",
    "\n",
    "print(sum_primes)"
   ]
  },
  {
   "cell_type": "code",
   "execution_count": null,
   "metadata": {},
   "outputs": [],
   "source": []
  }
 ],
 "metadata": {
  "kernelspec": {
   "display_name": "Python 3",
   "language": "python",
   "name": "python3"
  },
  "language_info": {
   "codemirror_mode": {
    "name": "ipython",
    "version": 3
   },
   "file_extension": ".py",
   "mimetype": "text/x-python",
   "name": "python",
   "nbconvert_exporter": "python",
   "pygments_lexer": "ipython3",
   "version": "3.6.4"
  }
 },
 "nbformat": 4,
 "nbformat_minor": 2
}
