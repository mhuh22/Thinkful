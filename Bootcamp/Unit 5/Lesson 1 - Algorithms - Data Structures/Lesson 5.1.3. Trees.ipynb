{
 "cells": [
  {
   "cell_type": "markdown",
   "metadata": {},
   "source": [
    "# Binary Tree\n",
    "\n",
    "What this has done is create the framework for nodes. A node will take a value, which gives us the value at that point. It also lets us establish a left and right value, the two children of this node. To create a binary tree, we simply populate those children with their own nodes."
   ]
  },
  {
   "cell_type": "code",
   "execution_count": 1,
   "metadata": {},
   "outputs": [],
   "source": [
    "class Node:\n",
    "    def __init__(self, val):\n",
    "        self.left = None\n",
    "        self.right = None\n",
    "        self.val = val\n",
    "    \n",
    "    # Depth traversal\n",
    "    def printTree(self):\n",
    "        print(self.val)\n",
    "        if self.left:\n",
    "            self.left.printTree()\n",
    "        if self.right:\n",
    "            self.right.printTree()\n",
    "    \n",
    "    # Breadth traversal\n",
    "    def printBreadth(self):\n",
    "        print(self.val)\n",
    "        print(self.left)\n",
    "        print(self.right)"
   ]
  },
  {
   "cell_type": "code",
   "execution_count": 2,
   "metadata": {},
   "outputs": [],
   "source": [
    "# Establish the initial root node and children\n",
    "root = Node('A')\n",
    "root.left = Node('B')\n",
    "root.right = Node('C')\n",
    "\n",
    "# Add the appropriate children for ‘B’ and ‘C’\n",
    "root.left.left = Node('D')\n",
    "root.left.right = Node('E')\n",
    "root.right.left = Node('F')\n",
    "root.right.right = Node('G')"
   ]
  },
  {
   "cell_type": "markdown",
   "metadata": {},
   "source": [
    "# Drill\n",
    "\n",
    "Implement a binary tree, which is filled with 15 pieces of random data. Your job is to then write a program to traverse the tree using a breadth first traversal. If you want additional practice, try other forms of traversal."
   ]
  },
  {
   "cell_type": "code",
   "execution_count": 3,
   "metadata": {},
   "outputs": [],
   "source": [
    "import random"
   ]
  },
  {
   "cell_type": "code",
   "execution_count": 4,
   "metadata": {},
   "outputs": [],
   "source": [
    "root.left.left.left = Node('H')\n",
    "root.left.left.right = Node('I')\n",
    "\n",
    "root.left.right.left = Node('J')\n",
    "root.left.right.right = Node('K')\n",
    "\n",
    "root.right.left.left = Node('L')\n",
    "root.right.left.right = Node('M')\n",
    "\n",
    "root.right.right.left = Node('N')\n",
    "root.right.right.right = Node('O')"
   ]
  },
  {
   "cell_type": "code",
   "execution_count": 5,
   "metadata": {},
   "outputs": [
    {
     "name": "stdout",
     "output_type": "stream",
     "text": [
      "A\n",
      "B\n",
      "D\n",
      "H\n",
      "I\n",
      "E\n",
      "J\n",
      "K\n",
      "C\n",
      "F\n",
      "L\n",
      "M\n",
      "G\n",
      "N\n",
      "O\n"
     ]
    }
   ],
   "source": [
    "root.printTree()"
   ]
  },
  {
   "cell_type": "code",
   "execution_count": 6,
   "metadata": {},
   "outputs": [
    {
     "name": "stdout",
     "output_type": "stream",
     "text": [
      "A\n",
      "<__main__.Node object at 0x00000287B5088048>\n",
      "<__main__.Node object at 0x00000287B50880B8>\n"
     ]
    }
   ],
   "source": [
    "root.printBreadth()"
   ]
  },
  {
   "cell_type": "code",
   "execution_count": null,
   "metadata": {},
   "outputs": [],
   "source": []
  }
 ],
 "metadata": {
  "kernelspec": {
   "display_name": "Python 3",
   "language": "python",
   "name": "python3"
  },
  "language_info": {
   "codemirror_mode": {
    "name": "ipython",
    "version": 3
   },
   "file_extension": ".py",
   "mimetype": "text/x-python",
   "name": "python",
   "nbconvert_exporter": "python",
   "pygments_lexer": "ipython3",
   "version": "3.6.5"
  }
 },
 "nbformat": 4,
 "nbformat_minor": 2
}
