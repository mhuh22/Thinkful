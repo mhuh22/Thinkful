{
 "cells": [
  {
   "cell_type": "markdown",
   "metadata": {},
   "source": [
    "# Binary Tree\n",
    "\n",
    "What this has done is create the framework for nodes. A node will take a value, which gives us the value at that point. It also lets us establish a left and right value, the two children of this node. To create a binary tree, we simply populate those children with their own nodes."
   ]
  },
  {
   "cell_type": "code",
   "execution_count": 1,
   "metadata": {},
   "outputs": [],
   "source": [
    "class Node:\n",
    "    def __init__(self, val):\n",
    "        self.left = None\n",
    "        self.right = None\n",
    "        self.val = val    "
   ]
  },
  {
   "cell_type": "code",
   "execution_count": 2,
   "metadata": {},
   "outputs": [],
   "source": [
    "# Establish the initial root node and children\n",
    "root = Node('A')\n",
    "root.left = Node('B')\n",
    "root.right = Node('C')\n",
    "\n",
    "# Add the appropriate children for ‘B’ and ‘C’\n",
    "root.left.left = Node('D')\n",
    "root.left.right = Node('E')\n",
    "root.right.left = Node('F')\n",
    "root.right.right = Node('G')"
   ]
  },
  {
   "cell_type": "markdown",
   "metadata": {},
   "source": [
    "# Drill\n",
    "\n",
    "Implement a binary tree, which is filled with 15 pieces of random data. Your job is to then write a program to traverse the tree using a breadth first traversal. If you want additional practice, try other forms of traversal."
   ]
  },
  {
   "cell_type": "code",
   "execution_count": 22,
   "metadata": {},
   "outputs": [],
   "source": [
    "# Create a new binary tree with print functions\n",
    "class Node:\n",
    "    def __init__(self, val):tr\n",
    "        self.left = None\n",
    "        self.right = None\n",
    "        self.val = val\n",
    "    \n",
    "    # Depth traversal\n",
    "    def depth_traverse(self):\n",
    "        print(self.val)\n",
    "        if self.left:\n",
    "            self.left.printTree()\n",
    "        if self.right:\n",
    "            self.right.printTree()\n",
    "    \n",
    "    # Breadth traversal\n",
    "    def breadth_traverse(root):\n",
    "        level = [root]\n",
    "        while level:\n",
    "            nextlevel = list()\n",
    "            for i in level:\n",
    "                print(i.val)\n",
    "                if i.left: nextlevel.append(i.left)\n",
    "                if i.right: nextlevel.append(i.right)\n",
    "            level = nextlevel"
   ]
  },
  {
   "cell_type": "code",
   "execution_count": 6,
   "metadata": {},
   "outputs": [
    {
     "name": "stdout",
     "output_type": "stream",
     "text": [
      "1\n",
      "2\n",
      "3\n",
      "4\n",
      "5\n",
      "6\n",
      "7\n",
      "8\n",
      "9\n",
      "10\n",
      "11\n",
      "12\n",
      "13\n",
      "14\n",
      "15\n"
     ]
    }
   ],
   "source": [
    "import random\n",
    "\n",
    "# Establish the initial root node and children\n",
    "root = Node(1)\n",
    "root.left = Node(2)\n",
    "root.right = Node(3)\n",
    "\n",
    "# Add the appropriate children for ‘B’ and ‘C’\n",
    "root.left.left = Node(4)\n",
    "root.left.right = Node(5)\n",
    "root.right.left = Node(6)\n",
    "root.right.right = Node(7)\n",
    "\n",
    "# Add the next layer of children\n",
    "root.left.left.left = Node(8)\n",
    "root.left.left.right = Node(9)\n",
    "\n",
    "root.left.right.left = Node(10)\n",
    "root.left.right.right = Node(11)\n",
    "\n",
    "root.right.left.left = Node(12)\n",
    "root.right.left.right = Node(13)\n",
    "\n",
    "root.right.right.left = Node(14)\n",
    "root.right.right.right = Node(15)\n",
    "\n",
    "Node.breadth_traverse(root)"
   ]
  },
  {
   "cell_type": "code",
   "execution_count": 1,
   "metadata": {},
   "outputs": [],
   "source": [
    "# Create a new binary tree with print functions\n",
    "class Node:\n",
    "    def __init__(self, val):\n",
    "        self.left = None\n",
    "        self.right = None\n",
    "        self.val = val\n",
    "    \n",
    "    def breadth_traverse(root):\n",
    "        level = [root]\n",
    "        while level:\n",
    "            nextlevel = list()\n",
    "            for i in level:\n",
    "                print(i.val)\n",
    "                if i.left: nextlevel.append(i.left)\n",
    "                if i.right: nextlevel.append(i.right)\n",
    "            level = nextlevel"
   ]
  },
  {
   "cell_type": "code",
   "execution_count": null,
   "metadata": {},
   "outputs": [],
   "source": []
  }
 ],
 "metadata": {
  "kernelspec": {
   "display_name": "Python 3",
   "language": "python",
   "name": "python3"
  },
  "language_info": {
   "codemirror_mode": {
    "name": "ipython",
    "version": 3
   },
   "file_extension": ".py",
   "mimetype": "text/x-python",
   "name": "python",
   "nbconvert_exporter": "python",
   "pygments_lexer": "ipython3",
   "version": "3.6.5"
  }
 },
 "nbformat": 4,
 "nbformat_minor": 2
}
