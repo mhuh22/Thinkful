{
 "cells": [
  {
   "cell_type": "markdown",
   "metadata": {},
   "source": [
    "# Challenge 5.5.4: What Test to Use\n",
    "\n",
    "Using selected questions from the 2012 and 2014 editions of the European Social Survey, address the following questions. Keep track of your code and results in a Jupyter notebook or other source that you can share with your mentor. For each question, explain why you chose the approach you did.\n",
    "\n",
    "Here is the [data file](https://raw.githubusercontent.com/Thinkful-Ed/data-201-resources/master/ESS_practice_data/ESSdata_Thinkful.csv). And here is the [codebook](https://thinkful-ed.github.io/data-201-resources/ESS_practice_data/ESS_codebook.html), with information about the variable coding and content."
   ]
  },
  {
   "cell_type": "code",
   "execution_count": 41,
   "metadata": {},
   "outputs": [],
   "source": [
    "import pandas as pd\n",
    "import numpy as np\n",
    "import matplotlib as plt\n",
    "import scipy.stats as stats\n",
    "from statsmodels.stats.multicomp import pairwise_tukeyhsd\n",
    "from scipy.stats import ttest_ind, kruskal, wilcoxon\n",
    "%matplotlib inline"
   ]
  },
  {
   "cell_type": "code",
   "execution_count": 2,
   "metadata": {},
   "outputs": [],
   "source": [
    "# Import data and sort by deadline date\n",
    "ess = pd.read_csv(\"ESSdata_Thinkful.csv\")\n",
    "\n",
    "# Replace dataframe values with actual values for better visualization\n",
    "ess['year'] = ess['year'].map({6: 2012, 7: 2014})\n",
    "ess['gndr'] = ess['gndr'].map({1: 'Male', 2: 'Female'})\n",
    "ess['partner'] = ess['partner'].map({1: 'Together', 2: 'Alone'})\n",
    "ess['cntry'] = ess['cntry'].map({'CH': 'Switzerland',\n",
    "                                'CZ': 'Czech Republic',\n",
    "                                'DE': 'Denmark',\n",
    "                                'ES': 'Spain',\n",
    "                                'NO': 'Norway',\n",
    "                                'SE': 'Sweden'})"
   ]
  },
  {
   "cell_type": "code",
   "execution_count": 3,
   "metadata": {},
   "outputs": [
    {
     "data": {
      "text/html": [
       "<div>\n",
       "<style scoped>\n",
       "    .dataframe tbody tr th:only-of-type {\n",
       "        vertical-align: middle;\n",
       "    }\n",
       "\n",
       "    .dataframe tbody tr th {\n",
       "        vertical-align: top;\n",
       "    }\n",
       "\n",
       "    .dataframe thead th {\n",
       "        text-align: right;\n",
       "    }\n",
       "</style>\n",
       "<table border=\"1\" class=\"dataframe\">\n",
       "  <thead>\n",
       "    <tr style=\"text-align: right;\">\n",
       "      <th></th>\n",
       "      <th>cntry</th>\n",
       "      <th>idno</th>\n",
       "      <th>year</th>\n",
       "      <th>tvtot</th>\n",
       "      <th>ppltrst</th>\n",
       "      <th>pplfair</th>\n",
       "      <th>pplhlp</th>\n",
       "      <th>happy</th>\n",
       "      <th>sclmeet</th>\n",
       "      <th>sclact</th>\n",
       "      <th>gndr</th>\n",
       "      <th>agea</th>\n",
       "      <th>partner</th>\n",
       "    </tr>\n",
       "  </thead>\n",
       "  <tbody>\n",
       "    <tr>\n",
       "      <th>0</th>\n",
       "      <td>Switzerland</td>\n",
       "      <td>5.0</td>\n",
       "      <td>2012</td>\n",
       "      <td>3.0</td>\n",
       "      <td>3.0</td>\n",
       "      <td>10.0</td>\n",
       "      <td>5.0</td>\n",
       "      <td>8.0</td>\n",
       "      <td>5.0</td>\n",
       "      <td>4.0</td>\n",
       "      <td>Female</td>\n",
       "      <td>60.0</td>\n",
       "      <td>Together</td>\n",
       "    </tr>\n",
       "    <tr>\n",
       "      <th>1</th>\n",
       "      <td>Switzerland</td>\n",
       "      <td>25.0</td>\n",
       "      <td>2012</td>\n",
       "      <td>6.0</td>\n",
       "      <td>5.0</td>\n",
       "      <td>7.0</td>\n",
       "      <td>5.0</td>\n",
       "      <td>9.0</td>\n",
       "      <td>3.0</td>\n",
       "      <td>2.0</td>\n",
       "      <td>Female</td>\n",
       "      <td>59.0</td>\n",
       "      <td>Together</td>\n",
       "    </tr>\n",
       "    <tr>\n",
       "      <th>2</th>\n",
       "      <td>Switzerland</td>\n",
       "      <td>26.0</td>\n",
       "      <td>2012</td>\n",
       "      <td>1.0</td>\n",
       "      <td>8.0</td>\n",
       "      <td>8.0</td>\n",
       "      <td>8.0</td>\n",
       "      <td>7.0</td>\n",
       "      <td>6.0</td>\n",
       "      <td>3.0</td>\n",
       "      <td>Male</td>\n",
       "      <td>24.0</td>\n",
       "      <td>Alone</td>\n",
       "    </tr>\n",
       "    <tr>\n",
       "      <th>3</th>\n",
       "      <td>Switzerland</td>\n",
       "      <td>28.0</td>\n",
       "      <td>2012</td>\n",
       "      <td>4.0</td>\n",
       "      <td>6.0</td>\n",
       "      <td>6.0</td>\n",
       "      <td>7.0</td>\n",
       "      <td>10.0</td>\n",
       "      <td>6.0</td>\n",
       "      <td>2.0</td>\n",
       "      <td>Female</td>\n",
       "      <td>64.0</td>\n",
       "      <td>Together</td>\n",
       "    </tr>\n",
       "    <tr>\n",
       "      <th>4</th>\n",
       "      <td>Switzerland</td>\n",
       "      <td>29.0</td>\n",
       "      <td>2012</td>\n",
       "      <td>5.0</td>\n",
       "      <td>6.0</td>\n",
       "      <td>7.0</td>\n",
       "      <td>5.0</td>\n",
       "      <td>8.0</td>\n",
       "      <td>7.0</td>\n",
       "      <td>2.0</td>\n",
       "      <td>Female</td>\n",
       "      <td>55.0</td>\n",
       "      <td>Together</td>\n",
       "    </tr>\n",
       "  </tbody>\n",
       "</table>\n",
       "</div>"
      ],
      "text/plain": [
       "         cntry  idno  year  tvtot  ppltrst  pplfair  pplhlp  happy  sclmeet  \\\n",
       "0  Switzerland   5.0  2012    3.0      3.0     10.0     5.0    8.0      5.0   \n",
       "1  Switzerland  25.0  2012    6.0      5.0      7.0     5.0    9.0      3.0   \n",
       "2  Switzerland  26.0  2012    1.0      8.0      8.0     8.0    7.0      6.0   \n",
       "3  Switzerland  28.0  2012    4.0      6.0      6.0     7.0   10.0      6.0   \n",
       "4  Switzerland  29.0  2012    5.0      6.0      7.0     5.0    8.0      7.0   \n",
       "\n",
       "   sclact    gndr  agea   partner  \n",
       "0     4.0  Female  60.0  Together  \n",
       "1     2.0  Female  59.0  Together  \n",
       "2     3.0    Male  24.0     Alone  \n",
       "3     2.0  Female  64.0  Together  \n",
       "4     2.0  Female  55.0  Together  "
      ]
     },
     "execution_count": 3,
     "metadata": {},
     "output_type": "execute_result"
    }
   ],
   "source": [
    "# Preview the data\n",
    "ess.head()"
   ]
  },
  {
   "cell_type": "markdown",
   "metadata": {},
   "source": [
    "### 1. Did people become less trusting from 2012 to 2014? Compute results for each country in the sample."
   ]
  },
  {
   "cell_type": "code",
   "execution_count": 4,
   "metadata": {},
   "outputs": [
    {
     "data": {
      "text/plain": [
       "array([[<matplotlib.axes._subplots.AxesSubplot object at 0x000002347A2C4908>,\n",
       "        <matplotlib.axes._subplots.AxesSubplot object at 0x000002347A1C2E80>,\n",
       "        <matplotlib.axes._subplots.AxesSubplot object at 0x000002347A21A550>],\n",
       "       [<matplotlib.axes._subplots.AxesSubplot object at 0x000002347A278BE0>,\n",
       "        <matplotlib.axes._subplots.AxesSubplot object at 0x000002347A2A92B0>,\n",
       "        <matplotlib.axes._subplots.AxesSubplot object at 0x000002347A2A92E8>],\n",
       "       [<matplotlib.axes._subplots.AxesSubplot object at 0x000002347A604FD0>,\n",
       "        <matplotlib.axes._subplots.AxesSubplot object at 0x000002347A6346A0>,\n",
       "        <matplotlib.axes._subplots.AxesSubplot object at 0x000002347A65CD30>],\n",
       "       [<matplotlib.axes._subplots.AxesSubplot object at 0x000002347B65D400>,\n",
       "        <matplotlib.axes._subplots.AxesSubplot object at 0x000002347B682A90>,\n",
       "        <matplotlib.axes._subplots.AxesSubplot object at 0x000002347B6B3160>]],\n",
       "      dtype=object)"
      ]
     },
     "execution_count": 4,
     "metadata": {},
     "output_type": "execute_result"
    },
    {
     "data": {
      "image/png": "[encoded data removed]",
      "text/plain": [
       "<Figure size 864x1296 with 12 Axes>"
      ]
     },
     "metadata": {},
     "output_type": "display_data"
    }
   ],
   "source": [
    "plt.rcParams['figure.figsize'] = [12,18]\n",
    "\n",
    "ess.hist(by=['cntry', 'year'], column='ppltrst')"
   ]
  },
  {
   "cell_type": "code",
   "execution_count": 5,
   "metadata": {},
   "outputs": [
    {
     "data": {
      "text/html": [
       "<table class=\"simpletable\">\n",
       "<caption>Multiple Comparison of Means - Tukey HSD,FWER=0.05</caption>\n",
       "<tr>\n",
       "      <th>group1</th>       <th>group2</th>    <th>meandiff</th>  <th>lower</th>   <th>upper</th>  <th>reject</th>\n",
       "</tr>\n",
       "<tr>\n",
       "  <td>Czech Republic</td>   <td>Denmark</td>    <td>0.8428</td>  <td>-0.3146</td> <td>2.0001</td>   <td>False</td>\n",
       "</tr>\n",
       "<tr>\n",
       "  <td>Czech Republic</td>   <td>Norway</td>     <td>2.2445</td>  <td>2.0116</td>  <td>2.4773</td>   <td>True</td> \n",
       "</tr>\n",
       "<tr>\n",
       "  <td>Czech Republic</td>    <td>Spain</td>     <td>0.6555</td>  <td>0.4439</td>   <td>0.867</td>   <td>True</td> \n",
       "</tr>\n",
       "<tr>\n",
       "  <td>Czech Republic</td>   <td>Sweden</td>     <td>1.7625</td>  <td>1.5393</td>  <td>1.9857</td>   <td>True</td> \n",
       "</tr>\n",
       "<tr>\n",
       "  <td>Czech Republic</td> <td>Switzerland</td>   <td>1.346</td>  <td>1.1151</td>  <td>1.5768</td>   <td>True</td> \n",
       "</tr>\n",
       "<tr>\n",
       "      <td>Denmark</td>      <td>Norway</td>     <td>1.4017</td>  <td>0.2463</td>  <td>2.5572</td>   <td>True</td> \n",
       "</tr>\n",
       "<tr>\n",
       "      <td>Denmark</td>       <td>Spain</td>     <td>-0.1873</td> <td>-1.3386</td>  <td>0.964</td>   <td>False</td>\n",
       "</tr>\n",
       "<tr>\n",
       "      <td>Denmark</td>      <td>Sweden</td>     <td>0.9197</td>  <td>-0.2338</td> <td>2.0733</td>   <td>False</td>\n",
       "</tr>\n",
       "<tr>\n",
       "      <td>Denmark</td>    <td>Switzerland</td>  <td>0.5032</td>  <td>-0.6518</td> <td>1.6582</td>   <td>False</td>\n",
       "</tr>\n",
       "<tr>\n",
       "      <td>Norway</td>        <td>Spain</td>     <td>-1.589</td>  <td>-1.7899</td> <td>-1.3882</td>  <td>True</td> \n",
       "</tr>\n",
       "<tr>\n",
       "      <td>Norway</td>       <td>Sweden</td>     <td>-0.482</td>  <td>-0.6951</td> <td>-0.2689</td>  <td>True</td> \n",
       "</tr>\n",
       "<tr>\n",
       "      <td>Norway</td>     <td>Switzerland</td>  <td>-0.8985</td> <td>-1.1196</td> <td>-0.6774</td>  <td>True</td> \n",
       "</tr>\n",
       "<tr>\n",
       "       <td>Spain</td>       <td>Sweden</td>      <td>1.107</td>  <td>0.9175</td>  <td>1.2966</td>   <td>True</td> \n",
       "</tr>\n",
       "<tr>\n",
       "       <td>Spain</td>     <td>Switzerland</td>  <td>0.6905</td>   <td>0.492</td>  <td>0.8891</td>   <td>True</td> \n",
       "</tr>\n",
       "<tr>\n",
       "      <td>Sweden</td>     <td>Switzerland</td>  <td>-0.4165</td> <td>-0.6274</td> <td>-0.2056</td>  <td>True</td> \n",
       "</tr>\n",
       "</table>"
      ],
      "text/plain": [
       "<class 'statsmodels.iolib.table.SimpleTable'>"
      ]
     },
     "execution_count": 5,
     "metadata": {},
     "output_type": "execute_result"
    }
   ],
   "source": [
    "ess2 = ess.dropna()\n",
    "\n",
    "# Run normality test to determine what test to use\n",
    "tukey = pairwise_tukeyhsd(endog=ess2['ppltrst'],      \n",
    "                          groups=ess2['cntry'],   \n",
    "                          alpha=0.05)         \n",
    "\n",
    "tukey.summary()"
   ]
  },
  {
   "cell_type": "markdown",
   "metadata": {},
   "source": [
    "In order to determine normality, we can take a few approaches. The first is to examine the histograms, and determine if the distributions look roughly equal. The second approach is to run a tukey test to compare all of the distributions to each other.\n",
    "\n",
    "By running a tukey test on the people's trust by country for both years, it appears as though the majority of the distributions in our population are not normal. Also, since all participants were tested in both 2012 and 2014, we have an A/B test where all participants experience both versions. This means that the test that we will want to use is a Wilcoxon signed-rank test."
   ]
  },
  {
   "cell_type": "code",
   "execution_count": 6,
   "metadata": {},
   "outputs": [
    {
     "name": "stdout",
     "output_type": "stream",
     "text": [
      "Switzerland \t WilcoxonResult(statistic=106278.5, pvalue=0.4411286510952477)\n",
      "\n",
      " 5.677878395860285 \t 5.751617076326003 \n",
      "\n",
      "Czech Republic \t WilcoxonResult(statistic=82837.0, pvalue=0.2931891426327379)\n",
      "\n",
      " 4.362519201228879 \t 4.424657534246576 \n",
      "\n",
      "Denmark \t WilcoxonResult(statistic=44.0, pvalue=0.9157134600899863)\n",
      "\n",
      " 5.214285714285714 \t 5.357142857142857 \n",
      "\n",
      "Spain \t WilcoxonResult(statistic=243475.5, pvalue=0.005570829650439684)\n",
      "\n",
      " 5.114591920857379 \t 4.895127993393889 \n",
      "\n",
      "Norway \t WilcoxonResult(statistic=85392.0, pvalue=0.6139175669970661)\n",
      "\n",
      " 6.64931506849315 \t 6.598630136986301 \n",
      "\n",
      "Sweden \t WilcoxonResult(statistic=130719.5, pvalue=0.028545290985536906)\n",
      "\n",
      " 6.058498896247241 \t 6.257709251101321 \n",
      "\n"
     ]
    },
    {
     "name": "stderr",
     "output_type": "stream",
     "text": [
      "C:\\Users\\nu\\Anaconda3\\lib\\site-packages\\scipy\\stats\\morestats.py:2391: RuntimeWarning: invalid value encountered in greater\n",
      "  r_plus = np.sum((d > 0) * r, axis=0)\n",
      "C:\\Users\\nu\\Anaconda3\\lib\\site-packages\\scipy\\stats\\morestats.py:2392: RuntimeWarning: invalid value encountered in less\n",
      "  r_minus = np.sum((d < 0) * r, axis=0)\n"
     ]
    }
   ],
   "source": [
    "# Create a list for the countries\n",
    "countries = ess['cntry'].unique().tolist()\n",
    "\n",
    "# Print wilcoxon result for each country\n",
    "for country in countries:\n",
    "    ppltrst_2012 = (ess.loc[(ess['year']==2012) & (ess['cntry']==country)])['ppltrst']\n",
    "    ppltrst_2014 = (ess.loc[(ess['year']==2014) & (ess['cntry']==country)])['ppltrst']\n",
    "    \n",
    "    trst_avg_2012 = ((ess.loc[(ess['year']==2012) & (ess['cntry']==country)])['ppltrst']).mean()\n",
    "    trst_avg_2014 = ((ess.loc[(ess['year']==2014) & (ess['cntry']==country)])['ppltrst']).mean()\n",
    "    \n",
    "    print(country, '\\t', wilcoxon(ppltrst_2012,ppltrst_2014))\n",
    "    print('\\n', trst_avg_2012, '\\t', trst_avg_2014, '\\n')"
   ]
  },
  {
   "cell_type": "markdown",
   "metadata": {},
   "source": [
    "So, based on a 5% confidence interval, the only countries with a meaningful difference are Spain and Sweden (5%>confidence interval). Based on the averages for those two countries, it would appear as though \n",
    "* Spain is less trustful by about -0.22 points, and \n",
    "* Sweden is more trustful by about +0.20 points.\n",
    "\n",
    "### 2. Did people become happier from 2012 to 2014? Compute results for each country in the sample."
   ]
  },
  {
   "cell_type": "code",
   "execution_count": 7,
   "metadata": {},
   "outputs": [
    {
     "data": {
      "text/plain": [
       "array([[<matplotlib.axes._subplots.AxesSubplot object at 0x000002347B6FDA58>,\n",
       "        <matplotlib.axes._subplots.AxesSubplot object at 0x000002347B90BCF8>,\n",
       "        <matplotlib.axes._subplots.AxesSubplot object at 0x000002347B9663C8>],\n",
       "       [<matplotlib.axes._subplots.AxesSubplot object at 0x000002347B9A1A58>,\n",
       "        <matplotlib.axes._subplots.AxesSubplot object at 0x000002347B927128>,\n",
       "        <matplotlib.axes._subplots.AxesSubplot object at 0x000002347B927160>],\n",
       "       [<matplotlib.axes._subplots.AxesSubplot object at 0x000002347B9E8E48>,\n",
       "        <matplotlib.axes._subplots.AxesSubplot object at 0x000002347BA15518>,\n",
       "        <matplotlib.axes._subplots.AxesSubplot object at 0x000002347BA3DBA8>],\n",
       "       [<matplotlib.axes._subplots.AxesSubplot object at 0x000002347BA71278>,\n",
       "        <matplotlib.axes._subplots.AxesSubplot object at 0x000002347BA97908>,\n",
       "        <matplotlib.axes._subplots.AxesSubplot object at 0x000002347BABFF98>]],\n",
       "      dtype=object)"
      ]
     },
     "execution_count": 7,
     "metadata": {},
     "output_type": "execute_result"
    },
    {
     "data": {
      "image/png": "[encoded data removed]",
      "text/plain": [
       "<Figure size 864x1296 with 12 Axes>"
      ]
     },
     "metadata": {},
     "output_type": "display_data"
    }
   ],
   "source": [
    "plt.rcParams['figure.figsize'] = [12,18]\n",
    "\n",
    "ess.hist(by=['cntry', 'year'], column='happy')"
   ]
  },
  {
   "cell_type": "code",
   "execution_count": 8,
   "metadata": {},
   "outputs": [
    {
     "data": {
      "text/html": [
       "<table class=\"simpletable\">\n",
       "<caption>Multiple Comparison of Means - Tukey HSD,FWER=0.05</caption>\n",
       "<tr>\n",
       "      <th>group1</th>       <th>group2</th>    <th>meandiff</th>  <th>lower</th>   <th>upper</th>  <th>reject</th>\n",
       "</tr>\n",
       "<tr>\n",
       "  <td>Czech Republic</td>   <td>Denmark</td>    <td>0.7359</td>  <td>-0.1888</td> <td>1.6607</td>   <td>False</td>\n",
       "</tr>\n",
       "<tr>\n",
       "  <td>Czech Republic</td>   <td>Norway</td>     <td>1.2292</td>  <td>1.0432</td>  <td>1.4153</td>   <td>True</td> \n",
       "</tr>\n",
       "<tr>\n",
       "  <td>Czech Republic</td>    <td>Spain</td>     <td>0.6481</td>  <td>0.4791</td>  <td>0.8171</td>   <td>True</td> \n",
       "</tr>\n",
       "<tr>\n",
       "  <td>Czech Republic</td>   <td>Sweden</td>     <td>1.0634</td>  <td>0.8851</td>  <td>1.2417</td>   <td>True</td> \n",
       "</tr>\n",
       "<tr>\n",
       "  <td>Czech Republic</td> <td>Switzerland</td>  <td>1.2566</td>  <td>1.0721</td>   <td>1.441</td>   <td>True</td> \n",
       "</tr>\n",
       "<tr>\n",
       "      <td>Denmark</td>      <td>Norway</td>     <td>0.4933</td>  <td>-0.4299</td> <td>1.4166</td>   <td>False</td>\n",
       "</tr>\n",
       "<tr>\n",
       "      <td>Denmark</td>       <td>Spain</td>     <td>-0.0878</td> <td>-1.0077</td> <td>0.8322</td>   <td>False</td>\n",
       "</tr>\n",
       "<tr>\n",
       "      <td>Denmark</td>      <td>Sweden</td>     <td>0.3275</td>  <td>-0.5943</td> <td>1.2492</td>   <td>False</td>\n",
       "</tr>\n",
       "<tr>\n",
       "      <td>Denmark</td>    <td>Switzerland</td>  <td>0.5206</td>  <td>-0.4023</td> <td>1.4435</td>   <td>False</td>\n",
       "</tr>\n",
       "<tr>\n",
       "      <td>Norway</td>        <td>Spain</td>     <td>-0.5811</td> <td>-0.7416</td> <td>-0.4206</td>  <td>True</td> \n",
       "</tr>\n",
       "<tr>\n",
       "      <td>Norway</td>       <td>Sweden</td>     <td>-0.1659</td> <td>-0.3361</td> <td>0.0044</td>   <td>False</td>\n",
       "</tr>\n",
       "<tr>\n",
       "      <td>Norway</td>     <td>Switzerland</td>  <td>0.0273</td>  <td>-0.1494</td>  <td>0.204</td>   <td>False</td>\n",
       "</tr>\n",
       "<tr>\n",
       "       <td>Spain</td>       <td>Sweden</td>     <td>0.4152</td>  <td>0.2638</td>  <td>0.5667</td>   <td>True</td> \n",
       "</tr>\n",
       "<tr>\n",
       "       <td>Spain</td>     <td>Switzerland</td>  <td>0.6084</td>  <td>0.4498</td>  <td>0.7671</td>   <td>True</td> \n",
       "</tr>\n",
       "<tr>\n",
       "      <td>Sweden</td>     <td>Switzerland</td>  <td>0.1932</td>  <td>0.0247</td>  <td>0.3617</td>   <td>True</td> \n",
       "</tr>\n",
       "</table>"
      ],
      "text/plain": [
       "<class 'statsmodels.iolib.table.SimpleTable'>"
      ]
     },
     "execution_count": 8,
     "metadata": {},
     "output_type": "execute_result"
    }
   ],
   "source": [
    "# Run normality test to determine what test to use\n",
    "tukey = pairwise_tukeyhsd(endog=ess2['happy'],      \n",
    "                          groups=ess2['cntry'],   \n",
    "                          alpha=0.05)         \n",
    "\n",
    "tukey.summary()"
   ]
  },
  {
   "cell_type": "markdown",
   "metadata": {},
   "source": [
    "By running a tukey test on the people's happiness by country for both years, it's a bit more mixed, but leaning slightly towards non-normal, so it looks like we'll once again have to use a Wilcoxon signed-rank test."
   ]
  },
  {
   "cell_type": "code",
   "execution_count": 9,
   "metadata": {},
   "outputs": [
    {
     "name": "stdout",
     "output_type": "stream",
     "text": [
      "Switzerland \t WilcoxonResult(statistic=92816.5, pvalue=0.8208688161425343)\n",
      "\n",
      " 8.088311688311688 \t 8.116429495472186 \n",
      "\n",
      "Czech Republic \t WilcoxonResult(statistic=73213.0, pvalue=0.01064243454053068)\n",
      "\n",
      " 6.7708978328173375 \t 6.914110429447852 \n",
      "\n",
      "Denmark \t WilcoxonResult(statistic=23.5, pvalue=0.393351316918508)\n",
      "\n",
      " 7.428571428571429 \t 7.857142857142857 \n",
      "\n",
      "Spain \t WilcoxonResult(statistic=231958.5, pvalue=0.04923868084306013)\n",
      "\n",
      " 7.548679867986799 \t 7.41996699669967 \n",
      "\n",
      "Norway \t WilcoxonResult(statistic=67571.5, pvalue=2.7264367804254175e-06)\n",
      "\n",
      " 8.25171939477304 \t 7.9151846785225715 \n",
      "\n",
      "Sweden \t WilcoxonResult(statistic=125481.0, pvalue=0.5136403441005022)\n",
      "\n",
      " 7.907386990077177 \t 7.946961325966851 \n",
      "\n"
     ]
    },
    {
     "name": "stderr",
     "output_type": "stream",
     "text": [
      "C:\\Users\\nu\\Anaconda3\\lib\\site-packages\\scipy\\stats\\morestats.py:2391: RuntimeWarning: invalid value encountered in greater\n",
      "  r_plus = np.sum((d > 0) * r, axis=0)\n",
      "C:\\Users\\nu\\Anaconda3\\lib\\site-packages\\scipy\\stats\\morestats.py:2392: RuntimeWarning: invalid value encountered in less\n",
      "  r_minus = np.sum((d < 0) * r, axis=0)\n"
     ]
    }
   ],
   "source": [
    "# Print wilcoxon result for each country\n",
    "for country in countries:\n",
    "    pplhappy2012 = (ess.loc[(ess['year']==2012) & (ess['cntry']==country)])['happy']\n",
    "    pplhappy2014 = (ess.loc[(ess['year']==2014) & (ess['cntry']==country)])['happy']\n",
    "    happy_avg_2012 = ((ess.loc[(ess['year']==2012) & (ess['cntry']==country)])['happy']).mean()\n",
    "    happy_avg_2014 = ((ess.loc[(ess['year']==2014) & (ess['cntry']==country)])['happy']).mean()\n",
    "    \n",
    "    print(country, '\\t', wilcoxon(pplhappy2012,pplhappy2014))\n",
    "    print('\\n', happy_avg_2012, '\\t', happy_avg_2014, '\\n')"
   ]
  },
  {
   "cell_type": "markdown",
   "metadata": {},
   "source": [
    "So, based on a 5% confidence interval, the only countries with a meaningful difference are Czech Republic and Spain (5%>confidence interval). Based on the averages for those two countries, it would appear as though \n",
    "* Spain is less happy by about -0.13 points, and \n",
    "* Czech Republic is happier by about +0.14 points.\n",
    "\n",
    "### 3. Who reported watching more TV in 2012, men or women?"
   ]
  },
  {
   "cell_type": "code",
   "execution_count": 10,
   "metadata": {},
   "outputs": [
    {
     "data": {
      "text/plain": [
       "array([<matplotlib.axes._subplots.AxesSubplot object at 0x000002347BC016A0>,\n",
       "       <matplotlib.axes._subplots.AxesSubplot object at 0x000002347C9C7E80>],\n",
       "      dtype=object)"
      ]
     },
     "execution_count": 10,
     "metadata": {},
     "output_type": "execute_result"
    },
    {
     "data": {
      "image/png": "[encoded data removed]",
      "text/plain": [
       "<Figure size 576x216 with 2 Axes>"
      ]
     },
     "metadata": {},
     "output_type": "display_data"
    }
   ],
   "source": [
    "plt.rcParams['figure.figsize'] = [8,3]\n",
    "\n",
    "(ess.loc[(ess['year']==2012)]).hist(by=['gndr'], column='tvtot')"
   ]
  },
  {
   "cell_type": "code",
   "execution_count": 11,
   "metadata": {},
   "outputs": [
    {
     "data": {
      "text/html": [
       "<table class=\"simpletable\">\n",
       "<caption>Multiple Comparison of Means - Tukey HSD,FWER=0.05</caption>\n",
       "<tr>\n",
       "  <th>group1</th> <th>group2</th> <th>meandiff</th>  <th>lower</th>   <th>upper</th> <th>reject</th>\n",
       "</tr>\n",
       "<tr>\n",
       "  <td>Female</td>  <td>Male</td>   <td>-0.072</td>  <td>-0.1593</td> <td>0.0152</td>  <td>False</td>\n",
       "</tr>\n",
       "</table>"
      ],
      "text/plain": [
       "<class 'statsmodels.iolib.table.SimpleTable'>"
      ]
     },
     "execution_count": 11,
     "metadata": {},
     "output_type": "execute_result"
    }
   ],
   "source": [
    "# Run normality test to determine what test to use\n",
    "tukey = pairwise_tukeyhsd(endog=ess2['tvtot'],      \n",
    "                          groups=ess2['gndr'],   \n",
    "                          alpha=0.05)         \n",
    "\n",
    "tukey.summary()"
   ]
  },
  {
   "cell_type": "markdown",
   "metadata": {},
   "source": [
    "By running a tukey test on the distribution of tv time, separated by gender, it appears as though they do have a normal distrubtion. Since this entire experiment is an A/B test, we will use a t-test to compare the two groups."
   ]
  },
  {
   "cell_type": "code",
   "execution_count": 12,
   "metadata": {},
   "outputs": [
    {
     "data": {
      "text/plain": [
       "Ttest_indResult(statistic=-0.7321850526951791, pvalue=0.46409787829722293)"
      ]
     },
     "execution_count": 12,
     "metadata": {},
     "output_type": "execute_result"
    }
   ],
   "source": [
    "# Run t-test in order to see if the two groups are significantly different\n",
    "ttest_ind((ess2.loc[(ess2['year']==2012) & (ess2['gndr']=='Male')])['tvtot'],\n",
    "        (ess2.loc[(ess2['year']==2012) & (ess2['gndr']=='Female')])['tvtot'],\n",
    "         equal_var=False)"
   ]
  },
  {
   "cell_type": "code",
   "execution_count": 13,
   "metadata": {},
   "outputs": [
    {
     "name": "stdout",
     "output_type": "stream",
     "text": [
      "Men: 3.901906090190609 \n",
      "Women: 3.944392523364486\n"
     ]
    }
   ],
   "source": [
    "# Compute average tv time for men and women in 2012\n",
    "tv_men = ((ess.loc[(ess['year']==2012) & (ess['gndr']=='Male')])['tvtot']).mean()\n",
    "tv_women = ((ess.loc[(ess['year']==2012) & (ess['gndr']=='Female')])['tvtot']).mean()\n",
    "\n",
    "print(\"Men: {} \\nWomen: {}\".format(tv_men, tv_women))"
   ]
  },
  {
   "cell_type": "markdown",
   "metadata": {},
   "source": [
    "Based on our tests, it would appear as though men and women are statistically different, and women on average, watched tv slightly longer.\n",
    "\n",
    "### 4. Who was more likely to believe people were fair in 2012, people living with a partner or people living alone?"
   ]
  },
  {
   "cell_type": "code",
   "execution_count": 14,
   "metadata": {},
   "outputs": [
    {
     "data": {
      "text/plain": [
       "array([<matplotlib.axes._subplots.AxesSubplot object at 0x000002347C216978>,\n",
       "       <matplotlib.axes._subplots.AxesSubplot object at 0x000002347C254518>],\n",
       "      dtype=object)"
      ]
     },
     "execution_count": 14,
     "metadata": {},
     "output_type": "execute_result"
    },
    {
     "data": {
      "image/png": "[encoded data removed]",
      "text/plain": [
       "<Figure size 576x216 with 2 Axes>"
      ]
     },
     "metadata": {},
     "output_type": "display_data"
    }
   ],
   "source": [
    "plt.rcParams['figure.figsize'] = [8,3]\n",
    "\n",
    "(ess.loc[(ess['year']==2012)]).hist(by=['partner'], column='pplfair')"
   ]
  },
  {
   "cell_type": "code",
   "execution_count": 15,
   "metadata": {},
   "outputs": [
    {
     "data": {
      "text/html": [
       "<table class=\"simpletable\">\n",
       "<caption>Multiple Comparison of Means - Tukey HSD,FWER=0.05</caption>\n",
       "<tr>\n",
       "  <th>group1</th>  <th>group2</th>  <th>meandiff</th>  <th>lower</th> <th>upper</th> <th>reject</th>\n",
       "</tr>\n",
       "<tr>\n",
       "   <td>Alone</td> <td>Together</td>  <td>0.1484</td>  <td>0.0538</td> <td>0.243</td>  <td>True</td> \n",
       "</tr>\n",
       "</table>"
      ],
      "text/plain": [
       "<class 'statsmodels.iolib.table.SimpleTable'>"
      ]
     },
     "execution_count": 15,
     "metadata": {},
     "output_type": "execute_result"
    }
   ],
   "source": [
    "# Run normality test to determine what test to use\n",
    "tukey = pairwise_tukeyhsd(endog=ess2['pplfair'],      \n",
    "                          groups=ess2['partner'],   \n",
    "                          alpha=0.05)         \n",
    "\n",
    "tukey.summary()"
   ]
  },
  {
   "cell_type": "markdown",
   "metadata": {},
   "source": [
    "Based on the results of our histogram and tukey test, these distributions are clearly not normal, and since the variables that we want to measure are two independent groups, we will be using a Kruskal-Wallace test."
   ]
  },
  {
   "cell_type": "code",
   "execution_count": 43,
   "metadata": {},
   "outputs": [
    {
     "data": {
      "text/plain": [
       "KruskalResult(statistic=13.739649374653519, pvalue=0.00020997468964373384)"
      ]
     },
     "execution_count": 43,
     "metadata": {},
     "output_type": "execute_result"
    }
   ],
   "source": [
    "# Print Mood's Median test result for both domestic statuses\n",
    "alone_2012 = (ess.loc[(ess['year']==2012) & (ess['partner']=='Alone')])['pplfair']\n",
    "together_2012 = (ess.loc[(ess['year']==2012) & (ess['partner']=='Together')])['pplfair']\n",
    "    \n",
    "kruskal(alone_2012, together_2012, nan_policy='omit')"
   ]
  },
  {
   "cell_type": "markdown",
   "metadata": {},
   "source": [
    "Based on the results of our test, it would appear as though there is no significant difference between the two groups.\n",
    "\n",
    "### 5. Pick three or four of the countries in the sample and compare how often people met socially in 2014. Are there differences, and if so, which countries stand out?"
   ]
  },
  {
   "cell_type": "code",
   "execution_count": 17,
   "metadata": {},
   "outputs": [
    {
     "data": {
      "text/plain": [
       "array([[<matplotlib.axes._subplots.AxesSubplot object at 0x000002347C28D2E8>,\n",
       "        <matplotlib.axes._subplots.AxesSubplot object at 0x000002347C32DDA0>],\n",
       "       [<matplotlib.axes._subplots.AxesSubplot object at 0x000002347C360438>,\n",
       "        <matplotlib.axes._subplots.AxesSubplot object at 0x000002347C386AC8>],\n",
       "       [<matplotlib.axes._subplots.AxesSubplot object at 0x000002347C3B8198>,\n",
       "        <matplotlib.axes._subplots.AxesSubplot object at 0x000002347C3B81D0>]],\n",
       "      dtype=object)"
      ]
     },
     "execution_count": 17,
     "metadata": {},
     "output_type": "execute_result"
    },
    {
     "data": {
      "image/png": "[encoded data removed]",
      "text/plain": [
       "<Figure size 432x648 with 6 Axes>"
      ]
     },
     "metadata": {},
     "output_type": "display_data"
    }
   ],
   "source": [
    "plt.rcParams['figure.figsize'] = [6,9]\n",
    "\n",
    "(ess.loc[(ess['year']==2014)]).hist(by=['cntry'], column='sclmeet')"
   ]
  },
  {
   "cell_type": "code",
   "execution_count": 44,
   "metadata": {},
   "outputs": [
    {
     "data": {
      "text/html": [
       "<table class=\"simpletable\">\n",
       "<caption>Multiple Comparison of Means - Tukey HSD,FWER=0.05</caption>\n",
       "<tr>\n",
       "      <th>group1</th>       <th>group2</th>    <th>meandiff</th>  <th>lower</th>   <th>upper</th>  <th>reject</th>\n",
       "</tr>\n",
       "<tr>\n",
       "  <td>Czech Republic</td>   <td>Denmark</td>    <td>0.0536</td>  <td>-0.7292</td> <td>0.8363</td>   <td>False</td>\n",
       "</tr>\n",
       "<tr>\n",
       "  <td>Czech Republic</td>   <td>Norway</td>     <td>0.8235</td>   <td>0.666</td>   <td>0.981</td>   <td>True</td> \n",
       "</tr>\n",
       "<tr>\n",
       "  <td>Czech Republic</td>    <td>Spain</td>     <td>0.6295</td>  <td>0.4864</td>  <td>0.7726</td>   <td>True</td> \n",
       "</tr>\n",
       "<tr>\n",
       "  <td>Czech Republic</td>   <td>Sweden</td>     <td>0.8724</td>  <td>0.7215</td>  <td>1.0234</td>   <td>True</td> \n",
       "</tr>\n",
       "<tr>\n",
       "  <td>Czech Republic</td> <td>Switzerland</td>  <td>0.5367</td>  <td>0.3806</td>  <td>0.6929</td>   <td>True</td> \n",
       "</tr>\n",
       "<tr>\n",
       "      <td>Denmark</td>      <td>Norway</td>      <td>0.77</td>   <td>-0.0115</td> <td>1.5514</td>   <td>False</td>\n",
       "</tr>\n",
       "<tr>\n",
       "      <td>Denmark</td>       <td>Spain</td>     <td>0.5759</td>  <td>-0.2028</td> <td>1.3546</td>   <td>False</td>\n",
       "</tr>\n",
       "<tr>\n",
       "      <td>Denmark</td>      <td>Sweden</td>     <td>0.8188</td>  <td>0.0387</td>   <td>1.599</td>   <td>True</td> \n",
       "</tr>\n",
       "<tr>\n",
       "      <td>Denmark</td>    <td>Switzerland</td>  <td>0.4832</td>  <td>-0.298</td>  <td>1.2644</td>   <td>False</td>\n",
       "</tr>\n",
       "<tr>\n",
       "      <td>Norway</td>        <td>Spain</td>     <td>-0.194</td>  <td>-0.3299</td> <td>-0.0582</td>  <td>True</td> \n",
       "</tr>\n",
       "<tr>\n",
       "      <td>Norway</td>       <td>Sweden</td>     <td>0.0489</td>  <td>-0.0952</td>  <td>0.193</td>   <td>False</td>\n",
       "</tr>\n",
       "<tr>\n",
       "      <td>Norway</td>     <td>Switzerland</td>  <td>-0.2868</td> <td>-0.4363</td> <td>-0.1372</td>  <td>True</td> \n",
       "</tr>\n",
       "<tr>\n",
       "       <td>Spain</td>       <td>Sweden</td>     <td>0.2429</td>  <td>0.1147</td>  <td>0.3711</td>   <td>True</td> \n",
       "</tr>\n",
       "<tr>\n",
       "       <td>Spain</td>     <td>Switzerland</td>  <td>-0.0928</td> <td>-0.227</td>  <td>0.0415</td>   <td>False</td>\n",
       "</tr>\n",
       "<tr>\n",
       "      <td>Sweden</td>     <td>Switzerland</td>  <td>-0.3357</td> <td>-0.4783</td> <td>-0.193</td>   <td>True</td> \n",
       "</tr>\n",
       "</table>"
      ],
      "text/plain": [
       "<class 'statsmodels.iolib.table.SimpleTable'>"
      ]
     },
     "execution_count": 44,
     "metadata": {},
     "output_type": "execute_result"
    }
   ],
   "source": [
    "# Run normality test to determine what test to use\n",
    "tukey = pairwise_tukeyhsd(endog=ess2['sclmeet'],      \n",
    "                          groups=ess2['cntry'],   \n",
    "                          alpha=0.05)         \n",
    "\n",
    "tukey.summary()"
   ]
  },
  {
   "cell_type": "markdown",
   "metadata": {},
   "source": [
    "### 6. Pick three or four of the countries in the sample and compare how often people took part in social activities, relative to others their age, in 2014. Are there differences, and if so, which countries stand out?"
   ]
  },
  {
   "cell_type": "code",
   "execution_count": 46,
   "metadata": {},
   "outputs": [
    {
     "data": {
      "text/plain": [
       "array([[<matplotlib.axes._subplots.AxesSubplot object at 0x000002347CDFA898>,\n",
       "        <matplotlib.axes._subplots.AxesSubplot object at 0x000002347DDEDBA8>],\n",
       "       [<matplotlib.axes._subplots.AxesSubplot object at 0x000002347DE19FD0>,\n",
       "        <matplotlib.axes._subplots.AxesSubplot object at 0x000002347DE496A0>],\n",
       "       [<matplotlib.axes._subplots.AxesSubplot object at 0x000002347DE70D30>,\n",
       "        <matplotlib.axes._subplots.AxesSubplot object at 0x000002347DE70D68>]],\n",
       "      dtype=object)"
      ]
     },
     "execution_count": 46,
     "metadata": {},
     "output_type": "execute_result"
    },
    {
     "data": {
      "image/png": "[encoded data removed]",
      "text/plain": [
       "<Figure size 432x648 with 6 Axes>"
      ]
     },
     "metadata": {},
     "output_type": "display_data"
    }
   ],
   "source": [
    "plt.rcParams['figure.figsize'] = [6,9]\n",
    "\n",
    "(ess.loc[(ess['year']==2014)]).hist(by=['cntry'], column='sclact')"
   ]
  },
  {
   "cell_type": "code",
   "execution_count": 47,
   "metadata": {},
   "outputs": [
    {
     "data": {
      "text/html": [
       "<table class=\"simpletable\">\n",
       "<caption>Multiple Comparison of Means - Tukey HSD,FWER=0.05</caption>\n",
       "<tr>\n",
       "      <th>group1</th>       <th>group2</th>    <th>meandiff</th>  <th>lower</th>   <th>upper</th>  <th>reject</th>\n",
       "</tr>\n",
       "<tr>\n",
       "  <td>Czech Republic</td>   <td>Denmark</td>    <td>0.1412</td>  <td>-0.3539</td> <td>0.6363</td>   <td>False</td>\n",
       "</tr>\n",
       "<tr>\n",
       "  <td>Czech Republic</td>   <td>Norway</td>     <td>0.2405</td>  <td>0.1409</td>  <td>0.3401</td>   <td>True</td> \n",
       "</tr>\n",
       "<tr>\n",
       "  <td>Czech Republic</td>    <td>Spain</td>     <td>-0.0723</td> <td>-0.1628</td> <td>0.0181</td>   <td>False</td>\n",
       "</tr>\n",
       "<tr>\n",
       "  <td>Czech Republic</td>   <td>Sweden</td>     <td>0.2216</td>  <td>0.1261</td>   <td>0.317</td>   <td>True</td> \n",
       "</tr>\n",
       "<tr>\n",
       "  <td>Czech Republic</td> <td>Switzerland</td>  <td>0.0742</td>  <td>-0.0245</td>  <td>0.173</td>   <td>False</td>\n",
       "</tr>\n",
       "<tr>\n",
       "      <td>Denmark</td>      <td>Norway</td>     <td>0.0993</td>  <td>-0.395</td>  <td>0.5936</td>   <td>False</td>\n",
       "</tr>\n",
       "<tr>\n",
       "      <td>Denmark</td>       <td>Spain</td>     <td>-0.2136</td> <td>-0.7061</td> <td>0.2789</td>   <td>False</td>\n",
       "</tr>\n",
       "<tr>\n",
       "      <td>Denmark</td>      <td>Sweden</td>     <td>0.0803</td>  <td>-0.4132</td> <td>0.5738</td>   <td>False</td>\n",
       "</tr>\n",
       "<tr>\n",
       "      <td>Denmark</td>    <td>Switzerland</td>  <td>-0.067</td>  <td>-0.5611</td> <td>0.4271</td>   <td>False</td>\n",
       "</tr>\n",
       "<tr>\n",
       "      <td>Norway</td>        <td>Spain</td>     <td>-0.3129</td> <td>-0.3988</td> <td>-0.2269</td>  <td>True</td> \n",
       "</tr>\n",
       "<tr>\n",
       "      <td>Norway</td>       <td>Sweden</td>     <td>-0.019</td>  <td>-0.1101</td> <td>0.0722</td>   <td>False</td>\n",
       "</tr>\n",
       "<tr>\n",
       "      <td>Norway</td>     <td>Switzerland</td>  <td>-0.1663</td> <td>-0.2609</td> <td>-0.0717</td>  <td>True</td> \n",
       "</tr>\n",
       "<tr>\n",
       "       <td>Spain</td>       <td>Sweden</td>     <td>0.2939</td>  <td>0.2128</td>   <td>0.375</td>   <td>True</td> \n",
       "</tr>\n",
       "<tr>\n",
       "       <td>Spain</td>     <td>Switzerland</td>  <td>0.1466</td>  <td>0.0616</td>  <td>0.2315</td>   <td>True</td> \n",
       "</tr>\n",
       "<tr>\n",
       "      <td>Sweden</td>     <td>Switzerland</td>  <td>-0.1473</td> <td>-0.2376</td> <td>-0.0571</td>  <td>True</td> \n",
       "</tr>\n",
       "</table>"
      ],
      "text/plain": [
       "<class 'statsmodels.iolib.table.SimpleTable'>"
      ]
     },
     "execution_count": 47,
     "metadata": {},
     "output_type": "execute_result"
    }
   ],
   "source": [
    "# Run normality test to determine what test to use\n",
    "tukey = pairwise_tukeyhsd(endog=ess2['sclact'],      \n",
    "                          groups=ess2['cntry'],   \n",
    "                          alpha=0.05)         \n",
    "\n",
    "tukey.summary()"
   ]
  },
  {
   "cell_type": "code",
   "execution_count": null,
   "metadata": {},
   "outputs": [],
   "source": []
  }
 ],
 "metadata": {
  "kernelspec": {
   "display_name": "Python 3",
   "language": "python",
   "name": "python3"
  },
  "language_info": {
   "codemirror_mode": {
    "name": "ipython",
    "version": 3
   },
   "file_extension": ".py",
   "mimetype": "text/x-python",
   "name": "python",
   "nbconvert_exporter": "python",
   "pygments_lexer": "ipython3",
   "version": "3.6.5"
  }
 },
 "nbformat": 4,
 "nbformat_minor": 2
}
