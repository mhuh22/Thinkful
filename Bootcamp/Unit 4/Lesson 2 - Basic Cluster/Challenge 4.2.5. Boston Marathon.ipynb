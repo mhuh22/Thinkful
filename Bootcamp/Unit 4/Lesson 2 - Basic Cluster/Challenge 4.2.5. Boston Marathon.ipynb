{
 "cells": [
  {
   "cell_type": "markdown",
   "metadata": {},
   "source": [
    "# Overview\n",
    "\n",
    "The objective for this assignment is to look at the results for the boston marathon in 2014, and see what kind of observations we can generate from unsupervised clustering methods, and also determine what is the best clustering method for this dataset."
   ]
  },
  {
   "cell_type": "code",
   "execution_count": 1,
   "metadata": {},
   "outputs": [],
   "source": [
    "# Import statements\n",
    "import pickle\n",
    "import matplotlib.pyplot as plt\n",
    "import matplotlib\n",
    "import numpy as np\n",
    "from collections import Counter\n",
    "import pandas as pd\n",
    "import seaborn as sns\n",
    "from datetime import time\n",
    "%matplotlib inline"
   ]
  },
  {
   "cell_type": "code",
   "execution_count": 2,
   "metadata": {},
   "outputs": [],
   "source": [
    "# Machine learning packages\n",
    "from sklearn.preprocessing import normalize\n",
    "from sklearn import preprocessing\n",
    "from sklearn.decomposition import PCA\n",
    "from sklearn.model_selection import train_test_split\n",
    "from sklearn.cluster import KMeans"
   ]
  },
  {
   "cell_type": "code",
   "execution_count": 3,
   "metadata": {},
   "outputs": [],
   "source": [
    "# Retrive the data\n",
    "with open(\"bostonmarathon-master/results/2014/results.pkl\", 'rb') as f:\n",
    "    data = pickle.load(f)\n",
    "marathon = pd.DataFrame.from_dict(data).transpose()"
   ]
  },
  {
   "cell_type": "code",
   "execution_count": 4,
   "metadata": {},
   "outputs": [
    {
     "data": {
      "text/plain": [
       "(31984, 21)"
      ]
     },
     "execution_count": 4,
     "metadata": {},
     "output_type": "execute_result"
    }
   ],
   "source": [
    "marathon.shape"
   ]
  },
  {
   "cell_type": "markdown",
   "metadata": {},
   "source": [
    "So the dataset contains a collection of 31984 participants, and 21 features for each participant."
   ]
  },
  {
   "cell_type": "code",
   "execution_count": 5,
   "metadata": {},
   "outputs": [
    {
     "data": {
      "text/plain": [
       "10k          object\n",
       "20k          object\n",
       "25k          object\n",
       "30k          object\n",
       "35k          object\n",
       "40k          object\n",
       "5k           object\n",
       "age          object\n",
       "bib          object\n",
       "city         object\n",
       "country      object\n",
       "ctz          object\n",
       "division     object\n",
       "gender       object\n",
       "genderdiv    object\n",
       "half         object\n",
       "name         object\n",
       "official     object\n",
       "overall      object\n",
       "pace         object\n",
       "state        object\n",
       "dtype: object"
      ]
     },
     "execution_count": 5,
     "metadata": {},
     "output_type": "execute_result"
    }
   ],
   "source": [
    "marathon.dtypes"
   ]
  },
  {
   "cell_type": "markdown",
   "metadata": {},
   "source": [
    "Well, this isn't very useful. Every feature has been identified as an object. Let's take a look at the dataset and determine what type each feature should be."
   ]
  },
  {
   "cell_type": "code",
   "execution_count": 6,
   "metadata": {},
   "outputs": [
    {
     "data": {
      "text/html": [
       "<div>\n",
       "<style scoped>\n",
       "    .dataframe tbody tr th:only-of-type {\n",
       "        vertical-align: middle;\n",
       "    }\n",
       "\n",
       "    .dataframe tbody tr th {\n",
       "        vertical-align: top;\n",
       "    }\n",
       "\n",
       "    .dataframe thead th {\n",
       "        text-align: right;\n",
       "    }\n",
       "</style>\n",
       "<table border=\"1\" class=\"dataframe\">\n",
       "  <thead>\n",
       "    <tr style=\"text-align: right;\">\n",
       "      <th></th>\n",
       "      <th>10k</th>\n",
       "      <th>20k</th>\n",
       "      <th>25k</th>\n",
       "      <th>30k</th>\n",
       "      <th>35k</th>\n",
       "      <th>40k</th>\n",
       "      <th>5k</th>\n",
       "      <th>age</th>\n",
       "      <th>bib</th>\n",
       "      <th>city</th>\n",
       "      <th>...</th>\n",
       "      <th>ctz</th>\n",
       "      <th>division</th>\n",
       "      <th>gender</th>\n",
       "      <th>genderdiv</th>\n",
       "      <th>half</th>\n",
       "      <th>name</th>\n",
       "      <th>official</th>\n",
       "      <th>overall</th>\n",
       "      <th>pace</th>\n",
       "      <th>state</th>\n",
       "    </tr>\n",
       "  </thead>\n",
       "  <tbody>\n",
       "    <tr>\n",
       "      <th>35540</th>\n",
       "      <td>0:58:22</td>\n",
       "      <td>2:01:01</td>\n",
       "      <td>2:42:47</td>\n",
       "      <td>3:21:59</td>\n",
       "      <td>4:07:49</td>\n",
       "      <td>4:45:17</td>\n",
       "      <td>0:29:52</td>\n",
       "      <td>30</td>\n",
       "      <td>35540</td>\n",
       "      <td>New York</td>\n",
       "      <td>...</td>\n",
       "      <td>CHN</td>\n",
       "      <td>5258</td>\n",
       "      <td>M</td>\n",
       "      <td>15604</td>\n",
       "      <td>2:08:38</td>\n",
       "      <td>Zheng, Jiewu</td>\n",
       "      <td>5:06:24</td>\n",
       "      <td>27767</td>\n",
       "      <td>0:11:42</td>\n",
       "      <td>NY</td>\n",
       "    </tr>\n",
       "    <tr>\n",
       "      <th>35541</th>\n",
       "      <td>0:57:18</td>\n",
       "      <td>1:53:23</td>\n",
       "      <td>2:21:10</td>\n",
       "      <td>2:49:51</td>\n",
       "      <td>3:18:27</td>\n",
       "      <td>3:46:28</td>\n",
       "      <td>0:29:16</td>\n",
       "      <td>37</td>\n",
       "      <td>35541</td>\n",
       "      <td>Brunswick</td>\n",
       "      <td>...</td>\n",
       "      <td></td>\n",
       "      <td>3767</td>\n",
       "      <td>F</td>\n",
       "      <td>6676</td>\n",
       "      <td>1:59:27</td>\n",
       "      <td>Harrington, Kim L.</td>\n",
       "      <td>3:58:20</td>\n",
       "      <td>17647</td>\n",
       "      <td>0:09:06</td>\n",
       "      <td>OH</td>\n",
       "    </tr>\n",
       "    <tr>\n",
       "      <th>35542</th>\n",
       "      <td>1:02:28</td>\n",
       "      <td>2:15:31</td>\n",
       "      <td>2:57:57</td>\n",
       "      <td>3:36:45</td>\n",
       "      <td>4:12:27</td>\n",
       "      <td>4:56:56</td>\n",
       "      <td>0:31:03</td>\n",
       "      <td>37</td>\n",
       "      <td>35542</td>\n",
       "      <td>Boston</td>\n",
       "      <td>...</td>\n",
       "      <td></td>\n",
       "      <td>5385</td>\n",
       "      <td>M</td>\n",
       "      <td>15885</td>\n",
       "      <td>2:24:34</td>\n",
       "      <td>Gupta, Alok</td>\n",
       "      <td>5:12:24</td>\n",
       "      <td>28283</td>\n",
       "      <td>0:11:55</td>\n",
       "      <td>MA</td>\n",
       "    </tr>\n",
       "    <tr>\n",
       "      <th>35543</th>\n",
       "      <td>0:51:05</td>\n",
       "      <td>1:44:33</td>\n",
       "      <td>2:17:28</td>\n",
       "      <td>2:55:33</td>\n",
       "      <td>3:37:50</td>\n",
       "      <td>4:15:28</td>\n",
       "      <td>0:26:08</td>\n",
       "      <td>45</td>\n",
       "      <td>35543</td>\n",
       "      <td>Dorchester</td>\n",
       "      <td>...</td>\n",
       "      <td></td>\n",
       "      <td>2445</td>\n",
       "      <td>M</td>\n",
       "      <td>13736</td>\n",
       "      <td>1:50:49</td>\n",
       "      <td>Higgins, David J.</td>\n",
       "      <td>4:32:38</td>\n",
       "      <td>23843</td>\n",
       "      <td>0:10:24</td>\n",
       "      <td>MA</td>\n",
       "    </tr>\n",
       "    <tr>\n",
       "      <th>35544</th>\n",
       "      <td>1:19:19</td>\n",
       "      <td>2:47:08</td>\n",
       "      <td>-</td>\n",
       "      <td>4:30:17</td>\n",
       "      <td>5:21:07</td>\n",
       "      <td>6:08:52</td>\n",
       "      <td>0:40:21</td>\n",
       "      <td>22</td>\n",
       "      <td>35544</td>\n",
       "      <td>Waquoit</td>\n",
       "      <td>...</td>\n",
       "      <td></td>\n",
       "      <td>6882</td>\n",
       "      <td>F</td>\n",
       "      <td>14150</td>\n",
       "      <td>2:57:27</td>\n",
       "      <td>Bohnenberger, Helen</td>\n",
       "      <td>6:28:10</td>\n",
       "      <td>31567</td>\n",
       "      <td>0:14:49</td>\n",
       "      <td>MA</td>\n",
       "    </tr>\n",
       "  </tbody>\n",
       "</table>\n",
       "<p>5 rows × 21 columns</p>\n",
       "</div>"
      ],
      "text/plain": [
       "           10k      20k      25k      30k      35k      40k       5k age  \\\n",
       "35540  0:58:22  2:01:01  2:42:47  3:21:59  4:07:49  4:45:17  0:29:52  30   \n",
       "35541  0:57:18  1:53:23  2:21:10  2:49:51  3:18:27  3:46:28  0:29:16  37   \n",
       "35542  1:02:28  2:15:31  2:57:57  3:36:45  4:12:27  4:56:56  0:31:03  37   \n",
       "35543  0:51:05  1:44:33  2:17:28  2:55:33  3:37:50  4:15:28  0:26:08  45   \n",
       "35544  1:19:19  2:47:08        -  4:30:17  5:21:07  6:08:52  0:40:21  22   \n",
       "\n",
       "         bib        city  ...   ctz division gender genderdiv     half  \\\n",
       "35540  35540    New York  ...   CHN     5258      M     15604  2:08:38   \n",
       "35541  35541   Brunswick  ...           3767      F      6676  1:59:27   \n",
       "35542  35542      Boston  ...           5385      M     15885  2:24:34   \n",
       "35543  35543  Dorchester  ...           2445      M     13736  1:50:49   \n",
       "35544  35544     Waquoit  ...           6882      F     14150  2:57:27   \n",
       "\n",
       "                      name official overall     pace state  \n",
       "35540         Zheng, Jiewu  5:06:24   27767  0:11:42    NY  \n",
       "35541   Harrington, Kim L.  3:58:20   17647  0:09:06    OH  \n",
       "35542          Gupta, Alok  5:12:24   28283  0:11:55    MA  \n",
       "35543    Higgins, David J.  4:32:38   23843  0:10:24    MA  \n",
       "35544  Bohnenberger, Helen  6:28:10   31567  0:14:49    MA  \n",
       "\n",
       "[5 rows x 21 columns]"
      ]
     },
     "execution_count": 6,
     "metadata": {},
     "output_type": "execute_result"
    }
   ],
   "source": [
    "# Print raw data\n",
    "marathon.head()"
   ]
  },
  {
   "cell_type": "markdown",
   "metadata": {},
   "source": [
    "So, it seems like the dataset can be broken down to time, categorical, and numerical variables. \n",
    "1. Clustering can't process the time as it is, so these features will have to be converted into seconds, which can easily be normalized, and repurposed for the model.\n",
    "2. Categorical variables can be assigned arbitrary numerical values, but that doesn't tell us anything and would only obscure the results, so those has will have to be dropped for this model.\n",
    "3. Numerical values are simple and straightforward to convert."
   ]
  },
  {
   "cell_type": "code",
   "execution_count": 7,
   "metadata": {},
   "outputs": [
    {
     "name": "stderr",
     "output_type": "stream",
     "text": [
      "C:\\Users\\nu\\Anaconda3\\lib\\site-packages\\sklearn\\utils\\validation.py:475: DataConversionWarning: Data with input dtype int64 was converted to float64 by the scale function.\n",
      "  warnings.warn(msg, DataConversionWarning)\n"
     ]
    }
   ],
   "source": [
    "# Remove non-numeric features\n",
    "marathon.drop(['bib', 'city', 'country', 'ctz', 'name', 'state', 'gender'], 1, inplace=True)\n",
    "\n",
    "# Convert all time variables into seconds\n",
    "times = ['5k', '10k', '20k', '25k', '30k', '35k', '40k', 'half', 'official', 'pace']\n",
    "for time in times:\n",
    "    marathon[time] = pd.to_timedelta(marathon[time])\n",
    "    marathon[time] = marathon[time].dt.seconds\n",
    "\n",
    "# Convert numerical variables\n",
    "marathon[['age', 'division', 'genderdiv', 'overall']] = marathon[['age', 'division', 'genderdiv', 'overall']].apply(pd.to_numeric, errors='coerce')\n",
    "\n",
    "# Create target variable\n",
    "y = preprocessing.scale(marathon.official)\n",
    "\n",
    "# Drop target variable from original dataset\n",
    "marathon.drop(['official'], axis=1, inplace=True)"
   ]
  },
  {
   "cell_type": "code",
   "execution_count": 9,
   "metadata": {},
   "outputs": [
    {
     "data": {
      "text/html": [
       "<div>\n",
       "<style scoped>\n",
       "    .dataframe tbody tr th:only-of-type {\n",
       "        vertical-align: middle;\n",
       "    }\n",
       "\n",
       "    .dataframe tbody tr th {\n",
       "        vertical-align: top;\n",
       "    }\n",
       "\n",
       "    .dataframe thead th {\n",
       "        text-align: right;\n",
       "    }\n",
       "</style>\n",
       "<table border=\"1\" class=\"dataframe\">\n",
       "  <thead>\n",
       "    <tr style=\"text-align: right;\">\n",
       "      <th></th>\n",
       "      <th>10k</th>\n",
       "      <th>20k</th>\n",
       "      <th>25k</th>\n",
       "      <th>30k</th>\n",
       "      <th>35k</th>\n",
       "      <th>40k</th>\n",
       "      <th>5k</th>\n",
       "      <th>age</th>\n",
       "      <th>division</th>\n",
       "      <th>genderdiv</th>\n",
       "      <th>half</th>\n",
       "      <th>overall</th>\n",
       "      <th>pace</th>\n",
       "    </tr>\n",
       "  </thead>\n",
       "  <tbody>\n",
       "    <tr>\n",
       "      <th>35540</th>\n",
       "      <td>3502</td>\n",
       "      <td>7261</td>\n",
       "      <td>9767</td>\n",
       "      <td>12119</td>\n",
       "      <td>14869</td>\n",
       "      <td>17117</td>\n",
       "      <td>1792</td>\n",
       "      <td>30</td>\n",
       "      <td>5258</td>\n",
       "      <td>15604</td>\n",
       "      <td>7718</td>\n",
       "      <td>27767</td>\n",
       "      <td>702</td>\n",
       "    </tr>\n",
       "    <tr>\n",
       "      <th>35541</th>\n",
       "      <td>3438</td>\n",
       "      <td>6803</td>\n",
       "      <td>8470</td>\n",
       "      <td>10191</td>\n",
       "      <td>11907</td>\n",
       "      <td>13588</td>\n",
       "      <td>1756</td>\n",
       "      <td>37</td>\n",
       "      <td>3767</td>\n",
       "      <td>6676</td>\n",
       "      <td>7167</td>\n",
       "      <td>17647</td>\n",
       "      <td>546</td>\n",
       "    </tr>\n",
       "    <tr>\n",
       "      <th>35542</th>\n",
       "      <td>3748</td>\n",
       "      <td>8131</td>\n",
       "      <td>10677</td>\n",
       "      <td>13005</td>\n",
       "      <td>15147</td>\n",
       "      <td>17816</td>\n",
       "      <td>1863</td>\n",
       "      <td>37</td>\n",
       "      <td>5385</td>\n",
       "      <td>15885</td>\n",
       "      <td>8674</td>\n",
       "      <td>28283</td>\n",
       "      <td>715</td>\n",
       "    </tr>\n",
       "    <tr>\n",
       "      <th>35543</th>\n",
       "      <td>3065</td>\n",
       "      <td>6273</td>\n",
       "      <td>8248</td>\n",
       "      <td>10533</td>\n",
       "      <td>13070</td>\n",
       "      <td>15328</td>\n",
       "      <td>1568</td>\n",
       "      <td>45</td>\n",
       "      <td>2445</td>\n",
       "      <td>13736</td>\n",
       "      <td>6649</td>\n",
       "      <td>23843</td>\n",
       "      <td>624</td>\n",
       "    </tr>\n",
       "    <tr>\n",
       "      <th>35544</th>\n",
       "      <td>4759</td>\n",
       "      <td>10028</td>\n",
       "      <td>0</td>\n",
       "      <td>16217</td>\n",
       "      <td>19267</td>\n",
       "      <td>22132</td>\n",
       "      <td>2421</td>\n",
       "      <td>22</td>\n",
       "      <td>6882</td>\n",
       "      <td>14150</td>\n",
       "      <td>10647</td>\n",
       "      <td>31567</td>\n",
       "      <td>889</td>\n",
       "    </tr>\n",
       "  </tbody>\n",
       "</table>\n",
       "</div>"
      ],
      "text/plain": [
       "        10k    20k    25k    30k    35k    40k    5k  age  division  \\\n",
       "35540  3502   7261   9767  12119  14869  17117  1792   30      5258   \n",
       "35541  3438   6803   8470  10191  11907  13588  1756   37      3767   \n",
       "35542  3748   8131  10677  13005  15147  17816  1863   37      5385   \n",
       "35543  3065   6273   8248  10533  13070  15328  1568   45      2445   \n",
       "35544  4759  10028      0  16217  19267  22132  2421   22      6882   \n",
       "\n",
       "       genderdiv   half  overall  pace  \n",
       "35540      15604   7718    27767   702  \n",
       "35541       6676   7167    17647   546  \n",
       "35542      15885   8674    28283   715  \n",
       "35543      13736   6649    23843   624  \n",
       "35544      14150  10647    31567   889  "
      ]
     },
     "execution_count": 9,
     "metadata": {},
     "output_type": "execute_result"
    }
   ],
   "source": [
    "# View formatted data\n",
    "marathon.head()"
   ]
  },
  {
   "cell_type": "markdown",
   "metadata": {},
   "source": [
    "Here, we have all of the variables that will be used in our model, but one issue still persists. The values for each feature can't be compared as is since the scales are all off. It's not possible to compare the values between age, pace, and time, so these features will have to be normalized before running the model."
   ]
  },
  {
   "cell_type": "code",
   "execution_count": 10,
   "metadata": {},
   "outputs": [],
   "source": [
    "y = marathon['overall']\n",
    "\n",
    "# Normalize\n",
    "X_norm = normalize(marathon)\n",
    "\n",
    "# Data frame to store features and predicted cluster memberships.\n",
    "ypred = pd.DataFrame()\n",
    "\n",
    "# Create the two-feature PCA for graphing purposes.\n",
    "pca = PCA(n_components=2)\n",
    "X_pca = pca.fit_transform(X_norm)\n",
    "\n",
    "# Split the data into four equally-sized samples. First we break it in half:\n",
    "X_half1, X_half2, X_pcahalf1, X_pcahalf2 = train_test_split(\n",
    "    X_norm,\n",
    "    X_pca,\n",
    "    test_size=0.5,\n",
    "    random_state=42)\n",
    "\n",
    "# Then we halve the halves.\n",
    "X1, X2, X_pca1, X_pca2 = train_test_split(\n",
    "    X_half1,\n",
    "    X_pcahalf1,\n",
    "    test_size=0.5,\n",
    "    random_state=42)\n",
    "X3, X4, X_pca3, X_pca4 = train_test_split(\n",
    "    X_half2,\n",
    "    X_pcahalf2,\n",
    "    test_size=0.5,\n",
    "    random_state=42)\n",
    "\n",
    "for counter, data in enumerate([\n",
    "    (X1, X_pca1),\n",
    "    (X2, X_pca2),\n",
    "    (X3, X_pca3),\n",
    "    (X4, X_pca4)]):\n",
    "    \n",
    "    # Put the features into ypred.\n",
    "    ypred['pca_f1' + '_sample' + str(counter)] = data[1][:, 0]\n",
    "    ypred['pca_f2' + '_sample' + str(counter)] = data[1][:, 1]\n",
    "    \n",
    "    # Generate cluster predictions and store them for clusters 2 to 4.\n",
    "    for nclust in range(2, 5):\n",
    "        pred = KMeans(n_clusters=nclust, random_state=42).fit_predict(data[0])\n",
    "        ypred['clust' + str(nclust) + '_sample' + str(counter)] = pred"
   ]
  },
  {
   "cell_type": "code",
   "execution_count": 18,
   "metadata": {},
   "outputs": [
    {
     "data": {
      "image/png": "[encoded data removed]",
      "text/plain": [
       "<Figure size 432x288 with 4 Axes>"
      ]
     },
     "metadata": {},
     "output_type": "display_data"
    },
    {
     "name": "stdout",
     "output_type": "stream",
     "text": [
      "\n",
      "\n",
      "1.6422309107061604e-07\n"
     ]
    },
    {
     "data": {
      "image/png": "[encoded data removed]",
      "text/plain": [
       "<Figure size 432x288 with 4 Axes>"
      ]
     },
     "metadata": {},
     "output_type": "display_data"
    },
    {
     "name": "stdout",
     "output_type": "stream",
     "text": [
      "\n",
      "\n",
      "1.6422309107061604e-07\n"
     ]
    },
    {
     "data": {
      "image/png": "[encoded data removed]",
      "text/plain": [
       "<Figure size 432x288 with 4 Axes>"
      ]
     },
     "metadata": {},
     "output_type": "display_data"
    },
    {
     "name": "stdout",
     "output_type": "stream",
     "text": [
      "\n",
      "\n",
      "1.6422309107061604e-07\n"
     ]
    }
   ],
   "source": [
    "# For each  number of clusters, plot the clusters using the\n",
    "# pca features for each sample.\n",
    "for cluster in range(2, 5):\n",
    "    \n",
    "    # Make a grid of subplots.\n",
    "    f, axarr = plt.subplots(2, 2)\n",
    "    \n",
    "    # Make a plot for each sample.\n",
    "    for i in range(4):\n",
    "        \n",
    "        # PCA-created features.\n",
    "        x_sub = ypred['pca_f1_sample{}'.format(i)]\n",
    "        y_sub = ypred['pca_f2_sample{}'.format(i)]\n",
    "        \n",
    "        # Cluster assignments.\n",
    "        c = ypred['clust{}_sample{}'.format(cluster, i)]\n",
    "        \n",
    "        # Assign the subplot to its place on the grid.\n",
    "        rows = int(np.floor(i / 2))\n",
    "        cols = i % 2\n",
    "        axarr[rows, cols].scatter(x_sub, y_sub, c=c)\n",
    "        axarr[rows, cols].set_title('sample {}'.format(i))\n",
    "        axarr[rows, cols].set_xlim([-.3, .3])\n",
    "        axarr[rows, cols].set_ylim([-.3, .3])\n",
    "    \n",
    "    # Space out the plots so that the headings don't overlap axis values.\n",
    "    plt.suptitle('{} Clusters'.format(cluster), fontsize=20)\n",
    "    plt.tight_layout()\n",
    "    plt.show()\n",
    "    print('\\n')\n",
    "    print(metrics.adjusted_rand_score(y, full_pred))"
   ]
  },
  {
   "cell_type": "code",
   "execution_count": 15,
   "metadata": {},
   "outputs": [
    {
     "data": {
      "text/plain": [
       "1.6422309107061604e-07"
      ]
     },
     "execution_count": 15,
     "metadata": {},
     "output_type": "execute_result"
    }
   ],
   "source": [
    "from sklearn import metrics\n",
    "    \n",
    "metrics.adjusted_rand_score(y, full_pred)"
   ]
  },
  {
   "cell_type": "code",
   "execution_count": 21,
   "metadata": {},
   "outputs": [
    {
     "name": "stdout",
     "output_type": "stream",
     "text": [
      "Number of estimated clusters: 27\n"
     ]
    }
   ],
   "source": [
    "from sklearn.cluster import MeanShift, estimate_bandwidth\n",
    "\n",
    "# Here we set the bandwidth. This function automatically derives a bandwidth\n",
    "# number based on an inspection of the distances among points in the data.\n",
    "bandwidth = estimate_bandwidth(X1, quantile=0.2, n_samples=500)\n",
    "\n",
    "# Declare and fit the model.\n",
    "ms = MeanShift(bandwidth=bandwidth, bin_seeding=True)\n",
    "ms.fit(X1)\n",
    "\n",
    "# Extract cluster assignments for each data point.\n",
    "labels = ms.labels_\n",
    "\n",
    "# Coordinates of the cluster centers.\n",
    "cluster_centers = ms.cluster_centers_\n",
    "\n",
    "# Count our clusters.\n",
    "n_clusters_ = len(np.unique(labels))\n",
    "\n",
    "print(\"Number of estimated clusters: {}\".format(n_clusters_))"
   ]
  },
  {
   "cell_type": "code",
   "execution_count": 22,
   "metadata": {},
   "outputs": [
    {
     "data": {
      "image/png": "[encoded data removed]",
      "text/plain": [
       "<Figure size 432x288 with 1 Axes>"
      ]
     },
     "metadata": {},
     "output_type": "display_data"
    },
    {
     "name": "stdout",
     "output_type": "stream",
     "text": [
      "Comparing the assigned categories to the ones in the data:\n"
     ]
    },
    {
     "ename": "NameError",
     "evalue": "name 'y_train' is not defined",
     "output_type": "error",
     "traceback": [
      "\u001b[1;31m---------------------------------------------------------------------------\u001b[0m",
      "\u001b[1;31mNameError\u001b[0m                                 Traceback (most recent call last)",
      "\u001b[1;32m<ipython-input-22-33f17afb48b9>\u001b[0m in \u001b[0;36m<module>\u001b[1;34m()\u001b[0m\n\u001b[0;32m      3\u001b[0m \u001b[1;33m\u001b[0m\u001b[0m\n\u001b[0;32m      4\u001b[0m \u001b[0mprint\u001b[0m\u001b[1;33m(\u001b[0m\u001b[1;34m'Comparing the assigned categories to the ones in the data:'\u001b[0m\u001b[1;33m)\u001b[0m\u001b[1;33m\u001b[0m\u001b[0m\n\u001b[1;32m----> 5\u001b[1;33m \u001b[0mprint\u001b[0m\u001b[1;33m(\u001b[0m\u001b[0mpd\u001b[0m\u001b[1;33m.\u001b[0m\u001b[0mcrosstab\u001b[0m\u001b[1;33m(\u001b[0m\u001b[0my_train\u001b[0m\u001b[1;33m,\u001b[0m\u001b[0mlabels\u001b[0m\u001b[1;33m)\u001b[0m\u001b[1;33m)\u001b[0m\u001b[1;33m\u001b[0m\u001b[0m\n\u001b[0m",
      "\u001b[1;31mNameError\u001b[0m: name 'y_train' is not defined"
     ]
    }
   ],
   "source": [
    "plt.scatter(X1[:, 0], X1[:, 1], c=labels)\n",
    "plt.show()\n",
    "\n",
    "print('Comparing the assigned categories to the ones in the data:')\n",
    "print(pd.crosstab(y_train,labels))"
   ]
  },
  {
   "cell_type": "code",
   "execution_count": null,
   "metadata": {},
   "outputs": [],
   "source": []
  }
 ],
 "metadata": {
  "kernelspec": {
   "display_name": "Python 3",
   "language": "python",
   "name": "python3"
  },
  "language_info": {
   "codemirror_mode": {
    "name": "ipython",
    "version": 3
   },
   "file_extension": ".py",
   "mimetype": "text/x-python",
   "name": "python",
   "nbconvert_exporter": "python",
   "pygments_lexer": "ipython3",
   "version": "3.6.5"
  }
 },
 "nbformat": 4,
 "nbformat_minor": 2
}
