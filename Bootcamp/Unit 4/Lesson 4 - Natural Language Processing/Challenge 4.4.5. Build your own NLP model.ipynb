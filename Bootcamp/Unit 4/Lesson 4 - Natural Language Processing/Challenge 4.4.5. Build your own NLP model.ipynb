{
 "cells": [
  {
   "cell_type": "markdown",
   "metadata": {},
   "source": [
    "# Challenge 4.4.5. Build your own NLP model\n",
    "\n",
    "For this challenge, you will need to choose a corpus of data from nltk or another source that includes categories you can predict and create an analysis pipeline that includes the following steps:\n",
    "\n",
    "1. Data cleaning / processing / language parsing\n",
    "2. Create features using two different NLP methods: For example, BoW vs tf-idf.\n",
    "3. Use the features to fit supervised learning models for each feature set to predict the category outcomes.\n",
    "4. Assess your models using cross-validation and determine whether one model performed better.\n",
    "5. Pick one of the models and try to increase accuracy by at least 5 percentage points.\n",
    "\n",
    "# Overview\n",
    "\n",
    "The data selected for this challenge has been obtained from the gutenberg library in the NLTK package, and for this challenge, the two selected texts are from Gilbert Keith Chesterton, \"Brown\" and \"Thursday\". The point of this challenge is to wrangle the text data using two methods - \n",
    "1. Bag of words -\n",
    "2. Tf-dif - \n",
    "After processing the two works by both methods, the objective will be to see if we can predict which lines of text belong to each novel."
   ]
  },
  {
   "cell_type": "code",
   "execution_count": 1,
   "metadata": {},
   "outputs": [],
   "source": [
    "%matplotlib inline\n",
    "import numpy as np\n",
    "import pandas as pd\n",
    "import scipy\n",
    "import sklearn\n",
    "import spacy\n",
    "import matplotlib.pyplot as plt\n",
    "import seaborn as sns\n",
    "\n",
    "# Natural Language processing\n",
    "import re\n",
    "from nltk.corpus import gutenberg, stopwords\n",
    "from collections import Counter\n",
    "from sklearn.feature_extraction.text import TfidfVectorizer\n",
    "\n",
    "# Machine Learning packages\n",
    "from sklearn import ensemble\n",
    "from sklearn.model_selection import train_test_split\n",
    "from sklearn.linear_model import LogisticRegression"
   ]
  },
  {
   "cell_type": "code",
   "execution_count": 2,
   "metadata": {},
   "outputs": [
    {
     "name": "stdout",
     "output_type": "stream",
     "text": [
      "['austen-emma.txt', 'austen-persuasion.txt', 'austen-sense.txt', 'bible-kjv.txt', 'blake-poems.txt', 'bryant-stories.txt', 'burgess-busterbrown.txt', 'carroll-alice.txt', 'chesterton-ball.txt', 'chesterton-brown.txt', 'chesterton-thursday.txt', 'edgeworth-parents.txt', 'melville-moby_dick.txt', 'milton-paradise.txt', 'shakespeare-caesar.txt', 'shakespeare-hamlet.txt', 'shakespeare-macbeth.txt', 'whitman-leaves.txt']\n"
     ]
    }
   ],
   "source": [
    "# Print out all of the other available texts in gutenberg\n",
    "print(gutenberg.fileids())"
   ]
  },
  {
   "cell_type": "code",
   "execution_count": 3,
   "metadata": {},
   "outputs": [],
   "source": [
    "# Utility function for standard text cleaning.\n",
    "def text_cleaner(text):\n",
    "    # Visual inspection identifies a form of punctuation spaCy does not\n",
    "    # recognize: the double dash '--'.  Better get rid of it now!\n",
    "    text = re.sub(r'--',' ',text)\n",
    "    text = re.sub(\"[\\[].*?[\\]]\", \"\", text)\n",
    "    text = ' '.join(text.split())\n",
    "    return text\n",
    "    \n",
    "# Load and clean the data.\n",
    "brown = gutenberg.raw('chesterton-brown.txt')\n",
    "thursday = gutenberg.raw('chesterton-thursday.txt')\n",
    "\n",
    "# The Chapter indicator is idiosyncratic\n",
    "brown = re.sub(r'Chapter \\d+', '', brown)\n",
    "thursday = re.sub(r'CHAPTER .*', '', thursday)\n",
    "    \n",
    "brown = text_cleaner(brown)\n",
    "thursday = text_cleaner(thursday)"
   ]
  },
  {
   "cell_type": "code",
   "execution_count": 4,
   "metadata": {},
   "outputs": [],
   "source": [
    "# Parse the cleaned novels. This can take a bit.\n",
    "nlp = spacy.load('en')\n",
    "brown_doc = nlp(brown)"
   ]
  },
  {
   "cell_type": "code",
   "execution_count": 5,
   "metadata": {},
   "outputs": [],
   "source": [
    "thursday_doc = nlp(thursday)"
   ]
  },
  {
   "cell_type": "code",
   "execution_count": 6,
   "metadata": {},
   "outputs": [
    {
     "data": {
      "text/html": [
       "<div>\n",
       "<style scoped>\n",
       "    .dataframe tbody tr th:only-of-type {\n",
       "        vertical-align: middle;\n",
       "    }\n",
       "\n",
       "    .dataframe tbody tr th {\n",
       "        vertical-align: top;\n",
       "    }\n",
       "\n",
       "    .dataframe thead th {\n",
       "        text-align: right;\n",
       "    }\n",
       "</style>\n",
       "<table border=\"1\" class=\"dataframe\">\n",
       "  <thead>\n",
       "    <tr style=\"text-align: right;\">\n",
       "      <th></th>\n",
       "      <th>0</th>\n",
       "      <th>1</th>\n",
       "    </tr>\n",
       "  </thead>\n",
       "  <tbody>\n",
       "    <tr>\n",
       "      <th>0</th>\n",
       "      <td>(I.)</td>\n",
       "      <td>Hamlet</td>\n",
       "    </tr>\n",
       "    <tr>\n",
       "      <th>1</th>\n",
       "      <td>(The, Absence, of, Mr, Glass, THE, consulting,...</td>\n",
       "      <td>Hamlet</td>\n",
       "    </tr>\n",
       "    <tr>\n",
       "      <th>2</th>\n",
       "      <td>(In, such, a, place, the, sea, had, something,...</td>\n",
       "      <td>Hamlet</td>\n",
       "    </tr>\n",
       "    <tr>\n",
       "      <th>3</th>\n",
       "      <td>(It, must, not, be, supposed, that, Dr, Hood, ...</td>\n",
       "      <td>Hamlet</td>\n",
       "    </tr>\n",
       "    <tr>\n",
       "      <th>4</th>\n",
       "      <td>(These, things, were, there, ,, in, their, pla...</td>\n",
       "      <td>Hamlet</td>\n",
       "    </tr>\n",
       "  </tbody>\n",
       "</table>\n",
       "</div>"
      ],
      "text/plain": [
       "                                                   0       1\n",
       "0                                               (I.)  Hamlet\n",
       "1  (The, Absence, of, Mr, Glass, THE, consulting,...  Hamlet\n",
       "2  (In, such, a, place, the, sea, had, something,...  Hamlet\n",
       "3  (It, must, not, be, supposed, that, Dr, Hood, ...  Hamlet\n",
       "4  (These, things, were, there, ,, in, their, pla...  Hamlet"
      ]
     },
     "execution_count": 6,
     "metadata": {},
     "output_type": "execute_result"
    }
   ],
   "source": [
    "# Group into sentences.\n",
    "brown_sents = [[sent, \"Hamlet\"] for sent in brown_doc.sents]\n",
    "thursday_sents = [[sent, \"Macbeth\"] for sent in thursday_doc.sents]\n",
    "\n",
    "# Combine the sentences from the two novels into one data frame.\n",
    "sentences = pd.DataFrame(brown_sents + thursday_sents)\n",
    "sentences.head()"
   ]
  },
  {
   "cell_type": "markdown",
   "metadata": {},
   "source": [
    "# Bag of words"
   ]
  },
  {
   "cell_type": "code",
   "execution_count": 7,
   "metadata": {},
   "outputs": [],
   "source": [
    "# Utility function to create a list of the 200 most common words.\n",
    "def bag_of_words(text):\n",
    "    \n",
    "    # Filter out punctuation and stop words.\n",
    "    allwords = [token.lemma_\n",
    "                for token in text\n",
    "                if not token.is_punct\n",
    "                and not token.is_stop]\n",
    "    \n",
    "    # Return the most common words.\n",
    "    return [item[0] for item in Counter(allwords).most_common(200)]\n",
    "    \n",
    "\n",
    "# Creates a data frame with features for each word in our common word set.\n",
    "# Each value is the count of the times the word appears in each sentence.\n",
    "def bow_features(sentences, common_words):\n",
    "    \n",
    "    # Scaffold the data frame and initialize counts to zero.\n",
    "    df = pd.DataFrame(columns=common_words)\n",
    "    df['text_sentence'] = sentences[0]\n",
    "    df['text_source'] = sentences[1]\n",
    "    df.loc[:, common_words] = 0\n",
    "    \n",
    "    # Process each row, counting the occurrence of words in each sentence.\n",
    "    for i, sentence in enumerate(df['text_sentence']):\n",
    "        \n",
    "        # Convert the sentence to lemmas, then filter out punctuation,\n",
    "        # stop words, and uncommon words.\n",
    "        words = [token.lemma_\n",
    "                 for token in sentence\n",
    "                 if (\n",
    "                     not token.is_punct\n",
    "                     and not token.is_stop\n",
    "                     and token.lemma_ in common_words\n",
    "                 )]\n",
    "        \n",
    "        # Populate the row with word counts.\n",
    "        for word in words:\n",
    "            df.loc[i, word] += 1\n",
    "        \n",
    "        # This counter is just to make sure the kernel didn't hang.\n",
    "        if i % 500 == 0:\n",
    "            print(\"Processing row {}\".format(i))\n",
    "            \n",
    "    return df"
   ]
  },
  {
   "cell_type": "markdown",
   "metadata": {},
   "source": [
    "# Modeling with bag of words"
   ]
  },
  {
   "cell_type": "code",
   "execution_count": 8,
   "metadata": {},
   "outputs": [],
   "source": [
    "# Set up the bags.\n",
    "brownwords = bag_of_words(brown_doc)\n",
    "thursdaywords = bag_of_words(thursday_doc)\n",
    "\n",
    "# Combine bags to create a set of unique words.\n",
    "common_words = set(brownwords + thursdaywords)"
   ]
  },
  {
   "cell_type": "code",
   "execution_count": 9,
   "metadata": {},
   "outputs": [
    {
     "name": "stdout",
     "output_type": "stream",
     "text": [
      "Processing row 0\n",
      "Processing row 500\n",
      "Processing row 1000\n",
      "Processing row 1500\n",
      "Processing row 2000\n",
      "Processing row 2500\n",
      "Processing row 3000\n",
      "Processing row 3500\n",
      "Processing row 4000\n",
      "Processing row 4500\n",
      "Processing row 5000\n",
      "Processing row 5500\n",
      "Processing row 6000\n",
      "Processing row 6500\n",
      "Processing row 7000\n"
     ]
    },
    {
     "data": {
      "text/html": [
       "<div>\n",
       "<style scoped>\n",
       "    .dataframe tbody tr th:only-of-type {\n",
       "        vertical-align: middle;\n",
       "    }\n",
       "\n",
       "    .dataframe tbody tr th {\n",
       "        vertical-align: top;\n",
       "    }\n",
       "\n",
       "    .dataframe thead th {\n",
       "        text-align: right;\n",
       "    }\n",
       "</style>\n",
       "<table border=\"1\" class=\"dataframe\">\n",
       "  <thead>\n",
       "    <tr style=\"text-align: right;\">\n",
       "      <th></th>\n",
       "      <th>but</th>\n",
       "      <th>head</th>\n",
       "      <th>like</th>\n",
       "      <th>house</th>\n",
       "      <th>tower</th>\n",
       "      <th>sir</th>\n",
       "      <th>low</th>\n",
       "      <th>get</th>\n",
       "      <th>detective</th>\n",
       "      <th>wild</th>\n",
       "      <th>...</th>\n",
       "      <th>gogol</th>\n",
       "      <th>believe</th>\n",
       "      <th>face</th>\n",
       "      <th>open</th>\n",
       "      <th>say</th>\n",
       "      <th>garden</th>\n",
       "      <th>policeman</th>\n",
       "      <th>sense</th>\n",
       "      <th>text_sentence</th>\n",
       "      <th>text_source</th>\n",
       "    </tr>\n",
       "  </thead>\n",
       "  <tbody>\n",
       "    <tr>\n",
       "      <th>0</th>\n",
       "      <td>0</td>\n",
       "      <td>0</td>\n",
       "      <td>0</td>\n",
       "      <td>0</td>\n",
       "      <td>0</td>\n",
       "      <td>0</td>\n",
       "      <td>0</td>\n",
       "      <td>0</td>\n",
       "      <td>0</td>\n",
       "      <td>0</td>\n",
       "      <td>...</td>\n",
       "      <td>0</td>\n",
       "      <td>0</td>\n",
       "      <td>0</td>\n",
       "      <td>0</td>\n",
       "      <td>0</td>\n",
       "      <td>0</td>\n",
       "      <td>0</td>\n",
       "      <td>0</td>\n",
       "      <td>(I.)</td>\n",
       "      <td>Hamlet</td>\n",
       "    </tr>\n",
       "    <tr>\n",
       "      <th>1</th>\n",
       "      <td>0</td>\n",
       "      <td>0</td>\n",
       "      <td>1</td>\n",
       "      <td>0</td>\n",
       "      <td>0</td>\n",
       "      <td>0</td>\n",
       "      <td>0</td>\n",
       "      <td>0</td>\n",
       "      <td>0</td>\n",
       "      <td>0</td>\n",
       "      <td>...</td>\n",
       "      <td>0</td>\n",
       "      <td>0</td>\n",
       "      <td>0</td>\n",
       "      <td>0</td>\n",
       "      <td>0</td>\n",
       "      <td>0</td>\n",
       "      <td>0</td>\n",
       "      <td>0</td>\n",
       "      <td>(The, Absence, of, Mr, Glass, THE, consulting,...</td>\n",
       "      <td>Hamlet</td>\n",
       "    </tr>\n",
       "    <tr>\n",
       "      <th>2</th>\n",
       "      <td>0</td>\n",
       "      <td>0</td>\n",
       "      <td>0</td>\n",
       "      <td>0</td>\n",
       "      <td>0</td>\n",
       "      <td>0</td>\n",
       "      <td>0</td>\n",
       "      <td>0</td>\n",
       "      <td>0</td>\n",
       "      <td>0</td>\n",
       "      <td>...</td>\n",
       "      <td>0</td>\n",
       "      <td>0</td>\n",
       "      <td>0</td>\n",
       "      <td>0</td>\n",
       "      <td>0</td>\n",
       "      <td>0</td>\n",
       "      <td>0</td>\n",
       "      <td>0</td>\n",
       "      <td>(In, such, a, place, the, sea, had, something,...</td>\n",
       "      <td>Hamlet</td>\n",
       "    </tr>\n",
       "    <tr>\n",
       "      <th>3</th>\n",
       "      <td>0</td>\n",
       "      <td>0</td>\n",
       "      <td>0</td>\n",
       "      <td>0</td>\n",
       "      <td>0</td>\n",
       "      <td>0</td>\n",
       "      <td>0</td>\n",
       "      <td>0</td>\n",
       "      <td>0</td>\n",
       "      <td>0</td>\n",
       "      <td>...</td>\n",
       "      <td>0</td>\n",
       "      <td>0</td>\n",
       "      <td>0</td>\n",
       "      <td>0</td>\n",
       "      <td>0</td>\n",
       "      <td>0</td>\n",
       "      <td>0</td>\n",
       "      <td>0</td>\n",
       "      <td>(It, must, not, be, supposed, that, Dr, Hood, ...</td>\n",
       "      <td>Hamlet</td>\n",
       "    </tr>\n",
       "    <tr>\n",
       "      <th>4</th>\n",
       "      <td>0</td>\n",
       "      <td>0</td>\n",
       "      <td>0</td>\n",
       "      <td>0</td>\n",
       "      <td>0</td>\n",
       "      <td>0</td>\n",
       "      <td>0</td>\n",
       "      <td>0</td>\n",
       "      <td>0</td>\n",
       "      <td>0</td>\n",
       "      <td>...</td>\n",
       "      <td>0</td>\n",
       "      <td>0</td>\n",
       "      <td>0</td>\n",
       "      <td>0</td>\n",
       "      <td>0</td>\n",
       "      <td>0</td>\n",
       "      <td>0</td>\n",
       "      <td>0</td>\n",
       "      <td>(These, things, were, there, ,, in, their, pla...</td>\n",
       "      <td>Hamlet</td>\n",
       "    </tr>\n",
       "  </tbody>\n",
       "</table>\n",
       "<p>5 rows × 274 columns</p>\n",
       "</div>"
      ],
      "text/plain": [
       "  but head like house tower sir low get detective wild     ...     gogol  \\\n",
       "0   0    0    0     0     0   0   0   0         0    0     ...         0   \n",
       "1   0    0    1     0     0   0   0   0         0    0     ...         0   \n",
       "2   0    0    0     0     0   0   0   0         0    0     ...         0   \n",
       "3   0    0    0     0     0   0   0   0         0    0     ...         0   \n",
       "4   0    0    0     0     0   0   0   0         0    0     ...         0   \n",
       "\n",
       "  believe face open say garden policeman sense  \\\n",
       "0       0    0    0   0      0         0     0   \n",
       "1       0    0    0   0      0         0     0   \n",
       "2       0    0    0   0      0         0     0   \n",
       "3       0    0    0   0      0         0     0   \n",
       "4       0    0    0   0      0         0     0   \n",
       "\n",
       "                                       text_sentence text_source  \n",
       "0                                               (I.)      Hamlet  \n",
       "1  (The, Absence, of, Mr, Glass, THE, consulting,...      Hamlet  \n",
       "2  (In, such, a, place, the, sea, had, something,...      Hamlet  \n",
       "3  (It, must, not, be, supposed, that, Dr, Hood, ...      Hamlet  \n",
       "4  (These, things, were, there, ,, in, their, pla...      Hamlet  \n",
       "\n",
       "[5 rows x 274 columns]"
      ]
     },
     "execution_count": 9,
     "metadata": {},
     "output_type": "execute_result"
    }
   ],
   "source": [
    "# Create our data frame with features. This can take a while to run.\n",
    "word_counts = bow_features(sentences, common_words)\n",
    "word_counts.head()"
   ]
  },
  {
   "cell_type": "code",
   "execution_count": 10,
   "metadata": {},
   "outputs": [],
   "source": [
    "Y = word_counts['text_source']\n",
    "X = np.array(word_counts.drop(['text_sentence','text_source'], 1))\n",
    "X_train, X_test, y_train, y_test = train_test_split(X, Y, test_size=0.4, random_state=0)"
   ]
  },
  {
   "cell_type": "markdown",
   "metadata": {},
   "source": [
    "### Random Forest"
   ]
  },
  {
   "cell_type": "code",
   "execution_count": 11,
   "metadata": {},
   "outputs": [
    {
     "name": "stdout",
     "output_type": "stream",
     "text": [
      "Training set score: 0.9345362017117742\n",
      "\n",
      "Test set score: 0.7023933402705516\n"
     ]
    }
   ],
   "source": [
    "bow_rfc = ensemble.RandomForestClassifier()\n",
    "train = bow_rfc.fit(X_train, y_train)\n",
    "\n",
    "print('Training set score:', bow_rfc.score(X_train, y_train))\n",
    "print('\\nTest set score:', bow_rfc.score(X_test, y_test))"
   ]
  },
  {
   "cell_type": "markdown",
   "metadata": {},
   "source": [
    "### Logistic Regression"
   ]
  },
  {
   "cell_type": "code",
   "execution_count": 12,
   "metadata": {},
   "outputs": [
    {
     "name": "stdout",
     "output_type": "stream",
     "text": [
      "Training set score: 0.761970853573907\n",
      "\n",
      "Test set score: 0.719389524800555\n"
     ]
    }
   ],
   "source": [
    "bow_lr = LogisticRegression()\n",
    "train = bow_lr.fit(X_train, y_train)\n",
    "\n",
    "print('Training set score:', bow_lr.score(X_train, y_train))\n",
    "print('\\nTest set score:', bow_lr.score(X_test, y_test))"
   ]
  },
  {
   "cell_type": "markdown",
   "metadata": {},
   "source": [
    "### Gradient Boosting"
   ]
  },
  {
   "cell_type": "code",
   "execution_count": 13,
   "metadata": {},
   "outputs": [
    {
     "name": "stdout",
     "output_type": "stream",
     "text": [
      "Training set score: 0.7092297015961138\n",
      "\n",
      "Test set score: 0.7037807839056538\n"
     ]
    }
   ],
   "source": [
    "bow_clf = ensemble.GradientBoostingClassifier()\n",
    "train = bow_clf.fit(X_train, y_train)\n",
    "\n",
    "print('Training set score:', bow_clf.score(X_train, y_train))\n",
    "print('\\nTest set score:', bow_clf.score(X_test, y_test))"
   ]
  },
  {
   "cell_type": "markdown",
   "metadata": {},
   "source": [
    "# Tf-idf vectorizer"
   ]
  },
  {
   "cell_type": "code",
   "execution_count": 14,
   "metadata": {},
   "outputs": [
    {
     "name": "stdout",
     "output_type": "stream",
     "text": [
      "['[ The Wisdom of Father Brown by G . K . Chesterton 1914 ]', 'I .', 'THE consulting - rooms of Dr Orion Hood , the eminent criminologist and specialist in certain moral disorders , lay along the sea - front at Scarborough , in a series of very large and well - lighted french windows , which showed the North Sea like one endless outer wall of blue - green marble .', \"Dr Hood paced the length of his string of apartments , bounded  as the boys ' geographies say  on the east by the North Sea and on the west by the serried ranks of his sociological and criminologist library .\"]\n"
     ]
    }
   ],
   "source": [
    "hamlet = gutenberg.paras('chesterton-brown.txt')\n",
    "\n",
    "#processing\n",
    "hamlet_paras=[]\n",
    "for paragraph in hamlet:\n",
    "    para=paragraph[0]\n",
    "    #removing the double-dash from all words\n",
    "    para=[re.sub(r'--','',word) for word in para]\n",
    "    #Forming each paragraph into a string and adding it to the list of strings.\n",
    "    hamlet_paras.append(' '.join(para))\n",
    "\n",
    "print(hamlet_paras[0:4])"
   ]
  },
  {
   "cell_type": "code",
   "execution_count": 15,
   "metadata": {},
   "outputs": [
    {
     "name": "stdout",
     "output_type": "stream",
     "text": [
      "Number of features: 5361\n",
      "Original sentence: Luxury was there: there stood upon a special table eight or ten boxes of the best cigars; but they were built upon a plan so that the strongest were always nearest the wall and the mildest nearest the window.\n",
      "Tf_idf vector: {'saffron': 0.4021302976978583, 'remember': 0.33696011208924276, 'park': 0.3482274417177942, 'poet': 0.3301503198303272, 'second': 0.32888613329883737, 'appearance': 0.3700112365829785, 'marked': 0.41291142085244364, 'place': 0.28092218912100986}\n"
     ]
    }
   ],
   "source": [
    "# Prepare the dataset for vectorization\n",
    "X = sentences[0].map(lambda x: text_cleaner(str(x)))\n",
    "X_train, X_test, y_train, y_test = train_test_split(X, Y, test_size=0.4, random_state=0)\n",
    "\n",
    "# Set up parameters for the vectorizer\n",
    "vectorizer = TfidfVectorizer(max_df=0.5, # drop words that occur in more than half the paragraphs\n",
    "                             min_df=2, # only use words that appear at least twice\n",
    "                             stop_words='english', \n",
    "                             lowercase=True, #convert everything to lower case (since Alice in Wonderland has the HABIT of CAPITALIZING WORDS for EMPHASIS)\n",
    "                             use_idf=True,#we definitely want to use inverse document frequencies in our weighting\n",
    "                             norm=u'l2', #Applies a correction factor so that longer paragraphs and shorter paragraphs get treated equally\n",
    "                             smooth_idf=True #Adds 1 to all document frequencies, as if an extra document existed that used every word once.  Prevents divide-by-zero errors\n",
    "                            )\n",
    "\n",
    "#Applying the vectorizer\n",
    "X_tfidf=vectorizer.fit_transform(X)\n",
    "print(\"Number of features: %d\" % X_tfidf.get_shape()[1])\n",
    "\n",
    "#splitting into training and test sets\n",
    "X_train_tfidf, X_test_tfidf, y_train, y_test = train_test_split(X_tfidf, Y, test_size=0.4, random_state=0)\n",
    "\n",
    "\n",
    "#Removes all zeros from the matrix\n",
    "X_train_tfidf_csr = X_train_tfidf.tocsr()\n",
    "\n",
    "#number of paragraphs\n",
    "n = X_train_tfidf_csr.shape[0]\n",
    "\n",
    "#A list of dictionaries, one per paragraph\n",
    "tfidf_bypara = [{} for _ in range(0,n)]\n",
    "\n",
    "#List of features\n",
    "terms = vectorizer.get_feature_names()\n",
    "\n",
    "#for each paragraph, lists the feature words and their tf-idf scores\n",
    "for i, j in zip(*X_train_tfidf_csr.nonzero()):\n",
    "    tfidf_bypara[i][terms[j]] = X_train_tfidf_csr[i, j]\n",
    "\n",
    "#Keep in mind that the log base 2 of 1 is 0, so a tf-idf score of 0 indicates that the word was present once in that sentence.\n",
    "print('Original sentence:', X_train[5])\n",
    "print('Tf_idf vector:', tfidf_bypara[5])"
   ]
  },
  {
   "cell_type": "code",
   "execution_count": 16,
   "metadata": {},
   "outputs": [
    {
     "name": "stdout",
     "output_type": "stream",
     "text": [
      "Percent variance captured by all components: 64.85333269748416\n",
      "Component 0:\n",
      "0\n",
      "\"I do,\" said the other \"martyrs.                        0.766513\n",
      "\"What do you do, then?\" he said.                        0.766513\n",
      "he said.                                                0.766513\n",
      "\"I have the keys,\" he said.                             0.766513\n",
      "\" she said.                                             0.766513\n",
      "he said.                                                0.766513\n",
      "\" he said.                                              0.766513\n",
      "\"We were three,\" he said.                               0.766513\n",
      "\"No,\" said Syme. \"                                      0.713410\n",
      "\"No,\" said Syme, \"they are formed along the parade.\"    0.551917\n",
      "Name: 0, dtype: float64\n",
      "Component 1:\n",
      "0\n",
      "\"I do,\" said the other \"martyrs.                                                0.522305\n",
      "\"I have the keys,\" he said.                                                     0.522305\n",
      "he said.                                                                        0.522305\n",
      "\" she said.                                                                     0.522305\n",
      "\"What do you do, then?\" he said.                                                0.522305\n",
      "he said.                                                                        0.522305\n",
      "\" he said.                                                                      0.522305\n",
      "\"We were three,\" he said.                                                       0.522305\n",
      "\"I said nothing at all,\" said the Marquis, \"except something about the band.    0.352327\n",
      "\"I am only on my holiday,\" he said.                                             0.346298\n",
      "Name: 1, dtype: float64\n",
      "Component 2:\n",
      "0\n",
      "\" asked Syme.                                        0.781898\n",
      "\"What was that?\" asked Syme.                         0.781898\n",
      "\"What is his name?\" asked Syme.                      0.781898\n",
      "\"With whom?\" asked Syme. \"                           0.781898\n",
      "\"What do you mean?\" asked Syme.                      0.720074\n",
      "Whom?\" asked Syme quickly. \"                         0.704571\n",
      "\"Join you in what?\" asked Syme.                      0.686391\n",
      "\"Where did you have it?\" asked Syme, wondering. \"    0.616385\n",
      "asked Syme with eager eyes.                          0.597305\n",
      "\"Well?\" asked Syme with a sort of steadiness. \"      0.579823\n",
      "Name: 2, dtype: float64\n",
      "Component 3:\n",
      "0\n",
      "Not yours but I think I know whose.                           0.549870\n",
      "I know what they think I am.                                  0.549870\n",
      "but I think I know him.                                       0.549870\n",
      "I don't think what you think.                                 0.484480\n",
      "\"You don't know how serious this is.\"                         0.483128\n",
      "And we don't know where he is.\"                               0.483128\n",
      "Don't think me rude.                                          0.466114\n",
      "But if you want to know what I don't think, I'll tell you.    0.433060\n",
      "and I know what they mean.                                    0.412834\n",
      "\"I don't think he did it, and you don't either.\"              0.398182\n",
      "Name: 3, dtype: float64\n",
      "Component 4:\n",
      "0\n",
      "All this Father Brown absorbed in detail more at leisure.           0.876918\n",
      "\"There may be,\" said Father Brown agnostically.                     0.734882\n",
      "Father Brown was made of two men.                                   0.711607\n",
      "Father Brown stood ruefully contemplating the decapitated plant.    0.698947\n",
      "\"No,\" answered Father Brown.                                        0.693016\n",
      "\"Nor I,\" said Father Brown faintly.                                 0.685698\n",
      "Have you never heard a ventriloquist?\" asked Father Brown. \"        0.641125\n",
      "\"Who found his body?\" asked Father Brown. \"                         0.617202\n",
      "Father Brown laughed.                                               0.600830\n",
      "Father Brown smiled. \"                                              0.598551\n",
      "Name: 4, dtype: float64\n"
     ]
    }
   ],
   "source": [
    "from sklearn.decomposition import TruncatedSVD\n",
    "from sklearn.pipeline import make_pipeline\n",
    "from sklearn.preprocessing import Normalizer\n",
    "\n",
    "#Our SVD data reducer.  We are going to reduce the feature space from 5361 to 800.\n",
    "svd= TruncatedSVD(800)\n",
    "lsa = make_pipeline(svd, Normalizer(copy=False))\n",
    "# Run SVD on the training data, then project the training data.\n",
    "X_train_lsa = lsa.fit_transform(X_train_tfidf)\n",
    "\n",
    "variance_explained=svd.explained_variance_ratio_\n",
    "total_variance = variance_explained.sum()\n",
    "print(\"Percent variance captured by all components:\",total_variance*100)\n",
    "\n",
    "#Looking at what sorts of paragraphs our solution considers similar, for the first five identified topics\n",
    "paras_by_component=pd.DataFrame(X_train_lsa,index=X_train)\n",
    "for i in range(5):\n",
    "    print('Component {}:'.format(i))\n",
    "    print(paras_by_component.loc[:,i].sort_values(ascending=False)[0:10])"
   ]
  },
  {
   "cell_type": "code",
   "execution_count": 17,
   "metadata": {},
   "outputs": [
    {
     "data": {
      "image/png": "[encoded data removed]",
      "text/plain": [
       "<Figure size 432x288 with 2 Axes>"
      ]
     },
     "metadata": {},
     "output_type": "display_data"
    },
    {
     "name": "stdout",
     "output_type": "stream",
     "text": [
      "Key:\n",
      "0 It was security, eternity I can't convey it...\n",
      "1 \"I think them equally valueless,\" replied Brown. \"\n",
      "2 Rifles were ranked so far away that an enemy could not slink into the town by any detour; therefore it was vain to return to the city by any remote course.\n",
      "3 But, for the last time, where are your goloshes?\n",
      "4 \"Comrade Gregory,\" said the chairman after a painful pause, \"this is really not quite dignified.\n",
      "5 There are others who may remember it because it marked the first appearance in the place of the second poet of Saffron Park.\n",
      "6 Then he said, with a clearly modulated and rather mincing articulation: `Would it discommode you to contribute elsewhere a coin with a somewhat different superscription?' \"\n",
      "7 I am going to pull that meeting's great ugly, mahogany-coloured nose.\"\n",
      "8 On his right was a little wood; far away to his left lay the long curve of the railway line, which he was, so to speak, guarding from the Marquis, whose goal and escape it was.\n",
      "9 He's packing up, I tell you.\"\n"
     ]
    }
   ],
   "source": [
    "# Compute document similarity using LSA components\n",
    "similarity = np.asarray(np.asmatrix(X_train_lsa) * np.asmatrix(X_train_lsa).T)\n",
    "#Only taking the first 10 sentences\n",
    "sim_matrix=pd.DataFrame(similarity,index=X_train).iloc[0:10,0:10]\n",
    "#Making a plot\n",
    "ax = sns.heatmap(sim_matrix,yticklabels=range(10))\n",
    "plt.show()\n",
    "\n",
    "#Generating a key for the plot.\n",
    "print('Key:')\n",
    "for i in range(10):\n",
    "    print(i,sim_matrix.index[i])"
   ]
  },
  {
   "cell_type": "markdown",
   "metadata": {},
   "source": [
    "# Modelling with tf-idf"
   ]
  },
  {
   "cell_type": "markdown",
   "metadata": {},
   "source": [
    "### Random Forest"
   ]
  },
  {
   "cell_type": "code",
   "execution_count": 18,
   "metadata": {},
   "outputs": [
    {
     "name": "stdout",
     "output_type": "stream",
     "text": [
      "Training set score: 0.9733981031690956\n",
      "\n",
      "Test set score: 0.7356919875130072\n"
     ]
    }
   ],
   "source": [
    "tf_rfc = ensemble.RandomForestClassifier()\n",
    "train = tf_rfc.fit(X_train_tfidf, y_train)\n",
    "\n",
    "print('Training set score:', tf_rfc.score(X_train_tfidf, y_train))\n",
    "print('\\nTest set score:', tf_rfc.score(X_test_tfidf, y_test))"
   ]
  },
  {
   "cell_type": "markdown",
   "metadata": {},
   "source": [
    "### Logistic Regression"
   ]
  },
  {
   "cell_type": "code",
   "execution_count": 19,
   "metadata": {},
   "outputs": [
    {
     "name": "stdout",
     "output_type": "stream",
     "text": [
      "Training set score: 0.9218135554013417\n",
      "\n",
      "Test set score: 0.779743322927506\n"
     ]
    }
   ],
   "source": [
    "tf_lr = LogisticRegression()\n",
    "train = tf_lr.fit(X_train_tfidf, y_train)\n",
    "\n",
    "print('Training set score:', tf_lr.score(X_train_tfidf, y_train))\n",
    "print('\\nTest set score:', tf_lr.score(X_test_tfidf, y_test))"
   ]
  },
  {
   "cell_type": "markdown",
   "metadata": {},
   "source": [
    "### Gradient Boosting"
   ]
  },
  {
   "cell_type": "code",
   "execution_count": 20,
   "metadata": {},
   "outputs": [
    {
     "name": "stdout",
     "output_type": "stream",
     "text": [
      "Training set score: 0.7404580152671756\n",
      "\n",
      "Test set score: 0.704474505723205\n"
     ]
    }
   ],
   "source": [
    "tf_clf = ensemble.GradientBoostingClassifier()\n",
    "train = tf_clf.fit(X_train_tfidf, y_train)\n",
    "\n",
    "print('Training set score:', tf_clf.score(X_train_tfidf, y_train))\n",
    "print('\\nTest set score:', tf_clf.score(X_test_tfidf, y_test))"
   ]
  },
  {
   "cell_type": "code",
   "execution_count": null,
   "metadata": {},
   "outputs": [],
   "source": []
  }
 ],
 "metadata": {
  "kernelspec": {
   "display_name": "Python 3",
   "language": "python",
   "name": "python3"
  },
  "language_info": {
   "codemirror_mode": {
    "name": "ipython",
    "version": 3
   },
   "file_extension": ".py",
   "mimetype": "text/x-python",
   "name": "python",
   "nbconvert_exporter": "python",
   "pygments_lexer": "ipython3",
   "version": "3.6.5"
  }
 },
 "nbformat": 4,
 "nbformat_minor": 2
}
