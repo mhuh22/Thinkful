{
 "cells": [
  {
   "cell_type": "code",
   "execution_count": 1,
   "metadata": {},
   "outputs": [],
   "source": [
    "%matplotlib inline\n",
    "import numpy as np\n",
    "import pandas as pd\n",
    "import scipy\n",
    "import sklearn\n",
    "import spacy\n",
    "import matplotlib.pyplot as plt\n",
    "import seaborn as sns\n",
    "import re\n",
    "import nltk\n",
    "from nltk.corpus import gutenberg, stopwords\n",
    "from collections import Counter\n",
    "from sklearn.feature_extraction.text import CountVectorizer"
   ]
  },
  {
   "cell_type": "markdown",
   "metadata": {},
   "source": [
    "# Drill: tf-idf scores"
   ]
  },
  {
   "cell_type": "code",
   "execution_count": 6,
   "metadata": {},
   "outputs": [],
   "source": [
    "monty_python = [\"The best Monty Python sketch is the one about the dead parrot, I laughed so hard.\",\n",
    "\"I laugh when I think about Python's Ministry of Silly Walks sketch, it is funny, funny, funny, the best!\",\n",
    "\"Chocolate is the best ice cream dessert topping, with a great taste.\",\n",
    "\"The Lumberjack Song is the funniest Monty Python bit: I can't think of it without laughing.\",\n",
    "\"I would rather put strawberries on my ice cream for dessert, they have the best taste.\",\n",
    "\"The taste of caramel is a fantastic accompaniment to tasty mint ice cream.\"]"
   ]
  },
  {
   "cell_type": "code",
   "execution_count": 7,
   "metadata": {},
   "outputs": [
    {
     "name": "stdout",
     "output_type": "stream",
     "text": [
      "   about  accompaniment  best  bit  can  caramel  chocolate  cream  dead  \\\n",
      "0      1              0     1    0    0        0          0      0     1   \n",
      "1      1              0     1    0    0        0          0      0     0   \n",
      "2      0              0     1    0    0        0          1      1     0   \n",
      "3      0              0     0    1    1        0          0      0     0   \n",
      "4      0              0     1    0    0        0          0      1     0   \n",
      "5      0              1     0    0    0        1          0      1     0   \n",
      "\n",
      "   dessert  ...    the  they  think  to  topping  walks  when  with  without  \\\n",
      "0        0  ...      3     0      0   0        0      0     0     0        0   \n",
      "1        0  ...      1     0      1   0        0      1     1     0        0   \n",
      "2        1  ...      1     0      0   0        1      0     0     1        0   \n",
      "3        0  ...      2     0      1   0        0      0     0     0        1   \n",
      "4        1  ...      1     1      0   0        0      0     0     0        0   \n",
      "5        0  ...      1     0      0   1        0      0     0     0        0   \n",
      "\n",
      "   would  \n",
      "0      0  \n",
      "1      0  \n",
      "2      0  \n",
      "3      0  \n",
      "4      1  \n",
      "5      0  \n",
      "\n",
      "[6 rows x 52 columns]\n"
     ]
    }
   ],
   "source": [
    "vec = CountVectorizer()\n",
    "X = vec.fit_transform(monty_python)\n",
    "df = pd.DataFrame(X.toarray(), columns=vec.get_feature_names())\n",
    "print(df)"
   ]
  },
  {
   "cell_type": "code",
   "execution_count": null,
   "metadata": {},
   "outputs": [],
   "source": [
    "nlp = spacy.load('en')\n",
    "monty_python_doc = nlp(monty_python)"
   ]
  },
  {
   "cell_type": "code",
   "execution_count": null,
   "metadata": {},
   "outputs": [],
   "source": [
    "filtered_words = [token for token in monty_python if token not in stop_word_list]"
   ]
  },
  {
   "cell_type": "code",
   "execution_count": null,
   "metadata": {},
   "outputs": [],
   "source": [
    "allwords = [token.lemma_\n",
    "                for token in monty_python_doc\n",
    "                if not token.is_punct\n",
    "                and not token.is_stop]"
   ]
  },
  {
   "cell_type": "code",
   "execution_count": null,
   "metadata": {},
   "outputs": [],
   "source": [
    "allwords"
   ]
  },
  {
   "cell_type": "code",
   "execution_count": null,
   "metadata": {},
   "outputs": [],
   "source": [
    "nlp.vocab['the'].is_stop"
   ]
  },
  {
   "cell_type": "code",
   "execution_count": null,
   "metadata": {},
   "outputs": [],
   "source": []
  }
 ],
 "metadata": {
  "kernelspec": {
   "display_name": "Python 3",
   "language": "python",
   "name": "python3"
  },
  "language_info": {
   "codemirror_mode": {
    "name": "ipython",
    "version": 3
   },
   "file_extension": ".py",
   "mimetype": "text/x-python",
   "name": "python",
   "nbconvert_exporter": "python",
   "pygments_lexer": "ipython3",
   "version": "3.6.5"
  }
 },
 "nbformat": 4,
 "nbformat_minor": 2
}
