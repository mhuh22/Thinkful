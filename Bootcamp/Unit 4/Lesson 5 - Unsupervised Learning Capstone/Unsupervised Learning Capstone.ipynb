{
 "cells": [
  {
   "cell_type": "markdown",
   "metadata": {},
   "source": [
    "# Unsupervised learning Capstone (name TBA)\n",
    "Author: Matthew Huh\n",
    "    \n",
    "# About the Data\n",
    "\n",
    "Collection of 142,570 articles from 15 different publications...\n",
    "\n",
    "# Research Question\n",
    "\n",
    "...\n",
    "\n",
    "# Overview\n",
    "\n",
    "...\n",
    "\n",
    "# Packages"
   ]
  },
  {
   "cell_type": "code",
   "execution_count": 33,
   "metadata": {},
   "outputs": [],
   "source": [
    "# Basic imports\n",
    "import os\n",
    "import numpy as np\n",
    "import pandas as pd\n",
    "import scipy\n",
    "import sklearn\n",
    "import matplotlib.pyplot as plt\n",
    "import seaborn as sns\n",
    "%matplotlib inline\n",
    "\n",
    "# Clustering packages\n",
    "import sklearn.cluster as cluster\n",
    "from sklearn.cluster import KMeans\n",
    "from sklearn.cluster import MeanShift, estimate_bandwidth\n",
    "from sklearn.cluster import SpectralClustering\n",
    "from sklearn.cluster import AffinityPropagation\n",
    "\n",
    "# Natural Language processing\n",
    "import re\n",
    "import spacy\n",
    "import nltk\n",
    "from nltk.corpus import stopwords, twitter_samples, gutenberg\n",
    "from collections import Counter\n",
    "from sklearn.model_selection import train_test_split\n",
    "from sklearn.feature_extraction.text import TfidfVectorizer\n",
    "from sklearn.datasets import fetch_rcv1\n",
    "\n",
    "# Machine Learning packages\n",
    "from sklearn import ensemble\n",
    "from sklearn.model_selection import train_test_split\n",
    "from sklearn.linear_model import LogisticRegression"
   ]
  },
  {
   "cell_type": "markdown",
   "metadata": {},
   "source": [
    "# Data Preview"
   ]
  },
  {
   "cell_type": "code",
   "execution_count": 2,
   "metadata": {},
   "outputs": [
    {
     "data": {
      "text/html": [
       "<div>\n",
       "<style scoped>\n",
       "    .dataframe tbody tr th:only-of-type {\n",
       "        vertical-align: middle;\n",
       "    }\n",
       "\n",
       "    .dataframe tbody tr th {\n",
       "        vertical-align: top;\n",
       "    }\n",
       "\n",
       "    .dataframe thead th {\n",
       "        text-align: right;\n",
       "    }\n",
       "</style>\n",
       "<table border=\"1\" class=\"dataframe\">\n",
       "  <thead>\n",
       "    <tr style=\"text-align: right;\">\n",
       "      <th></th>\n",
       "      <th>Unnamed: 0</th>\n",
       "      <th>id</th>\n",
       "      <th>title</th>\n",
       "      <th>publication</th>\n",
       "      <th>author</th>\n",
       "      <th>date</th>\n",
       "      <th>year</th>\n",
       "      <th>month</th>\n",
       "      <th>url</th>\n",
       "      <th>content</th>\n",
       "    </tr>\n",
       "  </thead>\n",
       "  <tbody>\n",
       "    <tr>\n",
       "      <th>0</th>\n",
       "      <td>0</td>\n",
       "      <td>17283</td>\n",
       "      <td>House Republicans Fret About Winning Their Hea...</td>\n",
       "      <td>New York Times</td>\n",
       "      <td>Carl Hulse</td>\n",
       "      <td>2016-12-31</td>\n",
       "      <td>2016.0</td>\n",
       "      <td>12.0</td>\n",
       "      <td>NaN</td>\n",
       "      <td>WASHINGTON  —   Congressional Republicans have...</td>\n",
       "    </tr>\n",
       "    <tr>\n",
       "      <th>1</th>\n",
       "      <td>1</td>\n",
       "      <td>17284</td>\n",
       "      <td>Rift Between Officers and Residents as Killing...</td>\n",
       "      <td>New York Times</td>\n",
       "      <td>Benjamin Mueller and Al Baker</td>\n",
       "      <td>2017-06-19</td>\n",
       "      <td>2017.0</td>\n",
       "      <td>6.0</td>\n",
       "      <td>NaN</td>\n",
       "      <td>After the bullet shells get counted, the blood...</td>\n",
       "    </tr>\n",
       "    <tr>\n",
       "      <th>2</th>\n",
       "      <td>2</td>\n",
       "      <td>17285</td>\n",
       "      <td>Tyrus Wong, ‘Bambi’ Artist Thwarted by Racial ...</td>\n",
       "      <td>New York Times</td>\n",
       "      <td>Margalit Fox</td>\n",
       "      <td>2017-01-06</td>\n",
       "      <td>2017.0</td>\n",
       "      <td>1.0</td>\n",
       "      <td>NaN</td>\n",
       "      <td>When Walt Disney’s “Bambi” opened in 1942, cri...</td>\n",
       "    </tr>\n",
       "    <tr>\n",
       "      <th>3</th>\n",
       "      <td>3</td>\n",
       "      <td>17286</td>\n",
       "      <td>Among Deaths in 2016, a Heavy Toll in Pop Musi...</td>\n",
       "      <td>New York Times</td>\n",
       "      <td>William McDonald</td>\n",
       "      <td>2017-04-10</td>\n",
       "      <td>2017.0</td>\n",
       "      <td>4.0</td>\n",
       "      <td>NaN</td>\n",
       "      <td>Death may be the great equalizer, but it isn’t...</td>\n",
       "    </tr>\n",
       "    <tr>\n",
       "      <th>4</th>\n",
       "      <td>4</td>\n",
       "      <td>17287</td>\n",
       "      <td>Kim Jong-un Says North Korea Is Preparing to T...</td>\n",
       "      <td>New York Times</td>\n",
       "      <td>Choe Sang-Hun</td>\n",
       "      <td>2017-01-02</td>\n",
       "      <td>2017.0</td>\n",
       "      <td>1.0</td>\n",
       "      <td>NaN</td>\n",
       "      <td>SEOUL, South Korea  —   North Korea’s leader, ...</td>\n",
       "    </tr>\n",
       "  </tbody>\n",
       "</table>\n",
       "</div>"
      ],
      "text/plain": [
       "   Unnamed: 0     id                                              title  \\\n",
       "0           0  17283  House Republicans Fret About Winning Their Hea...   \n",
       "1           1  17284  Rift Between Officers and Residents as Killing...   \n",
       "2           2  17285  Tyrus Wong, ‘Bambi’ Artist Thwarted by Racial ...   \n",
       "3           3  17286  Among Deaths in 2016, a Heavy Toll in Pop Musi...   \n",
       "4           4  17287  Kim Jong-un Says North Korea Is Preparing to T...   \n",
       "\n",
       "      publication                         author        date    year  month  \\\n",
       "0  New York Times                     Carl Hulse  2016-12-31  2016.0   12.0   \n",
       "1  New York Times  Benjamin Mueller and Al Baker  2017-06-19  2017.0    6.0   \n",
       "2  New York Times                   Margalit Fox  2017-01-06  2017.0    1.0   \n",
       "3  New York Times               William McDonald  2017-04-10  2017.0    4.0   \n",
       "4  New York Times                  Choe Sang-Hun  2017-01-02  2017.0    1.0   \n",
       "\n",
       "   url                                            content  \n",
       "0  NaN  WASHINGTON  —   Congressional Republicans have...  \n",
       "1  NaN  After the bullet shells get counted, the blood...  \n",
       "2  NaN  When Walt Disney’s “Bambi” opened in 1942, cri...  \n",
       "3  NaN  Death may be the great equalizer, but it isn’t...  \n",
       "4  NaN  SEOUL, South Korea  —   North Korea’s leader, ...  "
      ]
     },
     "execution_count": 2,
     "metadata": {},
     "output_type": "execute_result"
    }
   ],
   "source": [
    "# Create list of files from directory\n",
    "filelist = os.listdir('articles')\n",
    "\n",
    "# Import the files\n",
    "df_list = [pd.read_csv(file) for file in filelist]\n",
    "\n",
    "#concatenate them together\n",
    "articles = pd.concat(df_list)\n",
    "\n",
    "# Preview the data\n",
    "articles.head()"
   ]
  },
  {
   "cell_type": "code",
   "execution_count": 3,
   "metadata": {},
   "outputs": [
    {
     "data": {
      "text/plain": [
       "(142570, 10)"
      ]
     },
     "execution_count": 3,
     "metadata": {},
     "output_type": "execute_result"
    }
   ],
   "source": [
    "articles.shape"
   ]
  },
  {
   "cell_type": "code",
   "execution_count": 4,
   "metadata": {},
   "outputs": [
    {
     "data": {
      "text/plain": [
       "title          142132\n",
       "publication        15\n",
       "author          15647\n",
       "date             1646\n",
       "url             85559\n",
       "content        142038\n",
       "dtype: int64"
      ]
     },
     "execution_count": 4,
     "metadata": {},
     "output_type": "execute_result"
    }
   ],
   "source": [
    "articles.select_dtypes(include=['object']).nunique()"
   ]
  },
  {
   "cell_type": "code",
   "execution_count": 5,
   "metadata": {},
   "outputs": [],
   "source": [
    "# Drop variables that have no impact on the outcome\n",
    "articles = articles[['title', 'publication', 'author', 'content']]"
   ]
  },
  {
   "cell_type": "code",
   "execution_count": 6,
   "metadata": {},
   "outputs": [
    {
     "data": {
      "text/plain": [
       "author\n",
       "Breitbart News                                                      1559\n",
       "Pam Key                                                             1282\n",
       "Associated Press                                                    1231\n",
       "Charlie Spiering                                                     928\n",
       "Jerome Hudson                                                        806\n",
       "John Hayward                                                         747\n",
       "Daniel Nussbaum                                                      735\n",
       "AWR Hawkins                                                          720\n",
       "Ian Hanchett                                                         647\n",
       "Joel B. Pollak                                                       624\n",
       "Post Editorial Board                                                 620\n",
       "Alex Swoyer                                                          604\n",
       "Camila Domonoske                                                     593\n",
       "Warner Todd Huston                                                   545\n",
       "NPR Staff                                                            514\n",
       "Jeff Poor                                                            505\n",
       "Merrit Kennedy                                                       484\n",
       "Trent Baker                                                          457\n",
       "Breitbart London                                                     447\n",
       "Katherine Rodriguez                                                  435\n",
       "Reuters                                                              434\n",
       "Charlie Nash                                                         421\n",
       "Bill Chappell                                                        412\n",
       "Ben Kew                                                              373\n",
       "Frances Martel                                                       366\n",
       "David French                                                         363\n",
       "German Lopez                                                         354\n",
       "David A. Graham                                                      351\n",
       "Bob Price                                                            340\n",
       "Esme Cribb                                                           338\n",
       "                                                                    ... \n",
       "Liz Lee                                                                1\n",
       "Liz Hampton and Valerie Volcovici                                      1\n",
       "Liz Hampton and Swetha Gopinath                                        1\n",
       "Liz Hampton and Nia Williams                                           1\n",
       "Liz Hampton and Ethan Lou                                              1\n",
       "Liz Hampton and Ernest Scheyder                                        1\n",
       "Lizette Alvarez and Nick Madigan                                       1\n",
       "Lizette Alvarez and Richard Pérez-Peña                                 1\n",
       "Lorena Mongelli, Daniel Halper and Bruce Golding                       1\n",
       "Lizette Alvarez, Frances Robles and Richard Pérez-Peña                 1\n",
       "Lorena Mongelli and Yaron Steinbuch                                    1\n",
       "Lorena Mongelli and Sophia Rosenbaum                                   1\n",
       "Lorena Mongelli and Max Jaeger                                         1\n",
       "Lorena Mongelli and Gabrielle Fonrouge                                 1\n",
       "Lorena Mongelli and Danika Fears                                       1\n",
       "Lorena Mongelli and Daniel Prendergast                                 1\n",
       "Lorena Mongelli and Chris Perez                                        1\n",
       "Lorena Mongelli                                                        1\n",
       "Lola Adesioye                                                          1\n",
       "Lois Weiss, Stephanie Pagones and Bruce Golding                        1\n",
       "Lois Weiss and Steve Cuozzo                                            1\n",
       "Lois Smith Brady                                                       1\n",
       "Lois Romano                                                            1\n",
       "Logan Hill                                                             1\n",
       "Logan Beirne                                                           1\n",
       "Lizzie Parry and Andrea Downey, The Sun                                1\n",
       "Lizzie Feidelson                                                       1\n",
       "Lizette Alvarez, Richard Fausset and Adam Goldman                      1\n",
       "Lizette Alvarez, Jess Bidgood, Mitch Smith and Sabrina Tavernise       1\n",
       "                                                                       1\n",
       "Length: 15647, dtype: int64"
      ]
     },
     "execution_count": 6,
     "metadata": {},
     "output_type": "execute_result"
    }
   ],
   "source": [
    "articles.groupby(['author']).size().sort_values(ascending=False)"
   ]
  },
  {
   "cell_type": "markdown",
   "metadata": {},
   "source": [
    "Well, that partly explains how there are so many authors in this dataset. It seems as though there are over 15,000 authors, and many of them have only published one article, or have co-written multiple articles with other authors. This complicates the problem, so in order to best represent each author's writing style, let's see what happens if we simply remove all authors that only published one article as is."
   ]
  },
  {
   "cell_type": "markdown",
   "metadata": {},
   "source": [
    "# Feature Selection"
   ]
  },
  {
   "cell_type": "code",
   "execution_count": 7,
   "metadata": {},
   "outputs": [],
   "source": [
    "# Drop author from the dataframe if they wrote less than 5 articles\n",
    "vc = articles['author'].value_counts()\n",
    "u  = [i not in set(vc[vc<=4].index) for i in articles['author']]\n",
    "articles = articles[u]"
   ]
  },
  {
   "cell_type": "code",
   "execution_count": 8,
   "metadata": {},
   "outputs": [
    {
     "data": {
      "text/plain": [
       "title          124811\n",
       "publication        15\n",
       "author           3063\n",
       "content        124724\n",
       "dtype: int64"
      ]
     },
     "execution_count": 8,
     "metadata": {},
     "output_type": "execute_result"
    }
   ],
   "source": [
    "# Reprint how many unique authors there are\n",
    "articles.select_dtypes(include=['object']).nunique()"
   ]
  },
  {
   "cell_type": "code",
   "execution_count": 11,
   "metadata": {},
   "outputs": [
    {
     "data": {
      "text/plain": [
       "(125223, 4)"
      ]
     },
     "execution_count": 11,
     "metadata": {},
     "output_type": "execute_result"
    }
   ],
   "source": [
    "# View number of articles after feature selection\n",
    "articles.shape"
   ]
  },
  {
   "cell_type": "markdown",
   "metadata": {},
   "source": [
    "So after removing authors that composed fewer than 5 articles, we are left with 125k articles, or 87.8% of the data, and roughly 3k/15k of the authors. Now, we can create a better representation of each author since each author has at least 5 articles to evaluate from."
   ]
  },
  {
   "cell_type": "code",
   "execution_count": 12,
   "metadata": {},
   "outputs": [],
   "source": [
    "def text_cleaner(text):\n",
    "    # Visual inspection identifies a form of punctuation spaCy does not\n",
    "    # recognize: the double dash '--'.  Better get rid of it now!\n",
    "    text = re.sub(r'--',' ',text)\n",
    "    text = re.sub(\"[\\[].*?[\\]]\", \"\", text)\n",
    "    text = ' '.join(text.split())\n",
    "    return text"
   ]
  },
  {
   "cell_type": "code",
   "execution_count": 15,
   "metadata": {},
   "outputs": [
    {
     "data": {
      "text/plain": [
       "0    WASHINGTON — Congressional Republicans have a ...\n",
       "2    When Walt Disney’s “Bambi” opened in 1942, cri...\n",
       "4    SEOUL, South Korea — North Korea’s leader, Kim...\n",
       "5    LONDON — Queen Elizabeth II, who has been batt...\n",
       "6    BEIJING — President Tsai of Taiwan sharply cri...\n",
       "Name: content, dtype: object"
      ]
     },
     "execution_count": 15,
     "metadata": {},
     "output_type": "execute_result"
    }
   ],
   "source": [
    "articles['content'] = articles.content.map(lambda x: text_cleaner(str(x)))\n",
    "articles['content'].head()"
   ]
  },
  {
   "cell_type": "code",
   "execution_count": 16,
   "metadata": {},
   "outputs": [],
   "source": [
    "# Identify predictor and target variables\n",
    "X = articles['content']\n",
    "y = articles['publication']\n",
    "\n",
    "# Create training and testing sets\n",
    "X_train, X_test, y_train, y_test = train_test_split(X, y, test_size=0.25, random_state=42)"
   ]
  },
  {
   "cell_type": "markdown",
   "metadata": {},
   "source": [
    "# Tf-idf"
   ]
  },
  {
   "cell_type": "code",
   "execution_count": 21,
   "metadata": {},
   "outputs": [
    {
     "name": "stdout",
     "output_type": "stream",
     "text": [
      "Number of features: 143632\n",
      "Original sentence: I have been battling depression and sleeplessness while thinking about how to fight Donald Trump and what his rise means about the United States of America. It is dispiriting that after both modest and substantial gains have been made during the Obama and Black Lives Matter years (on race, gender, political imagination, LGBT rights and healthcare) many stand to be rolled back with a vengeance in the coming months and years. The retrenchment is frightening. And it’s become clear that this fight is going to last for the rest of my life. For advice on how to deal with this, I turned to my late father, Bill Thrasher. He was an air force sergeant who went to night school as an adult to become a high school and community college teacher of US and “Afro American” history. My dad died suddenly, in 2003, while teaching a class full of students a blood clot killed him instantly while he was lecturing about the civil war and the reconstruction. His sudden death broke my heart, but he left me with a road map: the example of a civil rights life well lived, a binder of newspaper clippings from a column he wrote in our local newspaper, and a single audio recording of a monthly radio show in Ventura, California, he hosted called Minority Perspective. That sole episode I have was broadcast on 7 December 1986. It was Pearl Harbor day, and the height of Reagan’s affair. In it, Dad laments his sadness after the previous month’s election, when California voters a deeply conservative governor. Here’s a passage which gave me life after Trump was elected: Conservatism, by its nature, is racism. It’s racism only because conservatism simply means to conserve, to preserve the status quo. And the status quo with respect to minorities, is: “Stay in your place! Remain the same, exactly where you’re at. Be the victims of discrimination! Do not protest. Let the laws stand as they are. Do not enact laws that will try to redress grievances. ” So when the county of Ventura, the state of California, and the United States of America votes to support conservative candidates who represent those viewpoints, it is saying to us, the minorities: “It’s gone too far! You must stay in your place. There will be no more change. You must continue wherever you are at. You will always be on the low end of the pole economically and politically. ” And that is why it is so difficult for Afro Americans to accept the conservatives, no matter who they happen to be, whether they are in the Republican party or the Democratic party. Because conservatism, by its very nature, is racist! It’s . It’s American. It’s . It’s American. It’s American. It’s that isn’t white, Anglo Saxon, Protestant male. Because that group wants to preserve what it has illegally gained and wishes to continue — in politics, and in economics. And it will use the political institution to keep their gains, even though they weren’t gained honestly or legally. That’s my objection to conservatism. Conservatism will prevent my children and my grandchildren from fulfilling their destiny as Americans. My children and my grandchildren, as well as I am, as well my father and my grandfather and my were citizens and are citizens, and conservatism wants to keep us as citizens. I am not going to accept that! I will spend all of my energies fighting that type of thought, and I urge all minorities — not just Afro Americans, but all minorities — to resist this. We have to do whatever we can, everywhere, wherever we’re at, in whatever capacity we’re in, to keep the issue alive — to keep pushing, to keep probing, to keep challenging, until we have forged our way into the economic and political system, where we have a control our of destiny, and not have to leave it in control of people who are antagonistic toward us, who hate us, who do not want to see us have a share in the American dream. Listening to my father fighting Reaganism, 30 years ago next week, is both depressing and freeing as I think about fighting Trumpism. I feel depressed that the same issues he fought remain so present some three decades later — issues that won’t be solved in my lifetime. But I also feel less alone in knowing that I am connected to him — and to my ancestors and nieces and nephews — in an intergenerational struggle for a better America. Even if the fight doesn’t end with me, I hope to ease the path for those who follow, or at least give the comfort that my father’s words lend me today. Trump and his ilk will try to say “stay in your place” to all of us who aren’t conservative white men accommodationist white liberals will do so, as well. Fortunately, I know where (and who) I come from, and I can listen to my dad pushing back on Reaganism to guide me when I feel lost in Trumpland. If you, too, are feeling down about the fight ahead, don’t be afraid to ask your elders for guidance. They might just show the way towards the road just when you need it most.\n"
     ]
    },
    {
     "name": "stdout",
     "output_type": "stream",
     "text": [
      "Tf_idf vector: {'wallowed': 0.06931321625421569, 'thorniest': 0.06363930065064267, 'amenable': 0.05434236466942158, 'imploded': 0.05677460991608222, 'centrists': 0.056243465874808024, 'rep': 0.028934347418638647, 'substantively': 0.054178288918359074, 'faltered': 0.05381004305094117, 'manifested': 0.052096535996925306, 'enrollees': 0.04972473410552688, 'chopping': 0.04995449643779567, 'recess': 0.04414323379094647, 'gop': 0.141725614999326, 'allotted': 0.052176811867940986, 'iteration': 0.047161854553466095, 'plague': 0.0484404949865122, 'fallout': 0.040083951182843566, 'seeded': 0.056853957721552634, 'waiver': 0.045572223204764624, 'opt': 0.08420036636852049, 'opting': 0.04741939014331366, 'departed': 0.043801208858714365, 'meadows': 0.04620175193016908, 'waivers': 0.04687623045282667, 'hash': 0.052258037771310537, 'mulvaney': 0.09193813666859636, '115': 0.04661996302583731, 'illustrative': 0.056541926320211336, 'firmly': 0.03903188165195264, 'dominate': 0.039712860337673205, 'inability': 0.03981876035531991, 'gallup': 0.044411423599104924, 'staffers': 0.03511154740419138, 'canyon': 0.04860646010602596, 'protections': 0.03550563347887258, 'poll': 0.028523474238703928, 'broadside': 0.05468277370789, 'clearing': 0.04368307326188487, 'affair': 0.037622749825045154, 'removal': 0.037236634504343856, 'insist': 0.037078221402131746, 'confusion': 0.03628474692297442, 'complexity': 0.04259167583485557, 'boasted': 0.04146973495532218, 'requirements': 0.03507135104491096, 'moderates': 0.1257228215409532, 'chairs': 0.03986561042616811, 'charging': 0.07996147716055667, 'prevents': 0.042472824229037316, 'structure': 0.03358201570260938, 'undercut': 0.042992803965295374, 'exceedingly': 0.04855863058334169, 'tonight': 0.032650751477354, 'cap': 0.0376034023598601, 'counter': 0.03477715563536312, 'absence': 0.03558076254974747, 'blunt': 0.038672696288916675, 'disagreement': 0.041835643126759074, 'finds': 0.032557495848017245, 'pools': 0.13335181931555048, 'explicitly': 0.035653086809380695, 'guard': 0.03220104559869166, 'easily': 0.029179051792156234, 'mick': 0.044218796118139135, 'abandon': 0.037564870279824844, 'grand': 0.03151935826915362, 'et': 0.034603386639250194, 'decimated': 0.04966847552226701, 'dig': 0.03976560610142788, 'source': 0.026390950467354367, 'fashion': 0.03277629974506398, 'lawmaker': 0.08129440940904169, 'stated': 0.02941080808800288, 'proposal': 0.030626543288253448, 'obtain': 0.03707374860384407, 'premiums': 0.039292514181205024, 'provisions': 0.03740348020437658, 'overall': 0.02797598095123778, 'benefits': 0.08597184059593084, 'sources': 0.027327004088034658, 'privately': 0.03670383452828302, 'briefed': 0.038792262716465034, 'cnn': 0.0823300893009521, 'atop': 0.04029515273072517, 'wish': 0.0314836210877107, 'flag': 0.06756779632098475, 'specific': 0.027586908085027877, 'conservatives': 0.1128071461794859, 'commerce': 0.03546306894723371, 'discussion': 0.029708520277357688, 'agreements': 0.034844681915961705, 'essential': 0.10112043062508026, 'welcome': 0.031044498170517288, 'pence': 0.09539911880490974, 'language': 0.11287105568169863, 'prices': 0.03030224958947025, 'list': 0.024562487265926147, 'contain': 0.03571150000221076, 'exist': 0.031828797780889144, 'players': 0.029979852864596538, 'weren': 0.029167737536588457, 'emerged': 0.030893847658890885, 'lots': 0.031189037949989715, 'bar': 0.031173878344203244, 'caught': 0.028305687381653875, 'provision': 0.03731955038330278, 'involving': 0.030893847658890885, 'decisions': 0.02838213737000235, 'question': 0.02026900784027638, 'afternoon': 0.02752878976773478, 'participant': 0.09250531162583595, 'actual': 0.029020941347879955, 'agreement': 0.10940328281495547, 'robust': 0.03732418632318152, 'spring': 0.03091933551900719, 'close': 0.02098742889814904, 'identified': 0.0560521073411445, 'lowering': 0.043003403980884196, 'brought': 0.02382548839031139, 'aide': 0.06568713206462537, 'wednesday': 0.05865673366753754, 'trade': 0.025290367443336247, 'changing': 0.029821051969921523, 'approve': 0.036742071444612605, 'meetings': 0.03140682302911593, 'settled': 0.034144844751746894, 'lawmakers': 0.1424185399012886, 'caucus': 0.13426361668948683, 'moving': 0.026262971162842826, 'obamacare': 0.14926884395611015, 'break': 0.026209500978869336, 'legislative': 0.06548582442988057, 'roadblocks': 0.05062913369283291, 'repeal': 0.09523184115641832, 'regulations': 0.12285089202171387, 'tuesday': 0.0774224253138439, 'compromise': 0.07167460736846648, 'mike': 0.026363660138240774, 'technical': 0.07065305891643248, 'carolina': 0.026921021615488646, 'forward': 0.07147646517093416, 'guaranteed': 0.07801626492620536, 'plans': 0.04626477595819375, 'tough': 0.027584663641342235, 'ryan': 0.027330246945987513, 'unclear': 0.029263075461092122, 'stuck': 0.03301962578488858, 'rating': 0.10884228690722986, 'forms': 0.03374249339750604, 'areas': 0.05174873377924091, 'providing': 0.030283935789392837, 'protect': 0.025031068638233102, 'circulated': 0.08372508260241997, 'changed': 0.025115895666336614, 'majority': 0.02338204106872701, 'risk': 0.07397993337918822, 'placed': 0.030642291307543614, 'promise': 0.02894391519099491, 'measures': 0.05875152061539118, 'debate': 0.047330327392037096, 'true': 0.022837347698265103, 'freedom': 0.10552611098634468, 'tell': 0.021816031339893485, 'appeared': 0.024394084176122, 'vote': 0.02125876645761901, 'repeatedly': 0.08011335367686814, 'status': 0.055066485954246944, 'floor': 0.05829314689452786, 'meet': 0.024979442788893854, 'total': 0.025498306688328917, 'reaching': 0.033764544850143935, 'leave': 0.02298730122192331, 'planning': 0.029485884213551056, 'higher': 0.02500251084353353, 'box': 0.032569083743272845, 'option': 0.06228354985878497, 'text': 0.03289688451798167, 'navigate': 0.041187177746929454, 'check': 0.028214073531198976, 'regardless': 0.031251927682814554, 'closer': 0.02987410049424844, 'primarily': 0.0343914288235336, 'finish': 0.03347796051604072, 'preparing': 0.033861861775430824, 'reporters': 0.02431001442568259, 'requests': 0.03214412303096481, 'area': 0.02361589931952625, 'talks': 0.02952298836235069, 'head': 0.02144106827530897, 'ultimate': 0.03451042573198829, 'aides': 0.031799706268303245, 'red': 0.053228487624761754, 'women': 0.019967711208722903, 'table': 0.20907486717831592, 'instead': 0.020180311435639423, 'member': 0.046297660683781744, 'plan': 0.08734364330090819, 'groups': 0.02237933901170437, 'community': 0.06629917362744542, 'divided': 0.03295552645873754, 'mccarthy': 0.07998882182589204, 'acknowledged': 0.030285598662503223, 'require': 0.028820562548362745, 'applying': 0.040542644333914066, 'likely': 0.019027955556968016, 'open': 0.04292345674541249, 'exact': 0.03454745914231895, 'revive': 0.041572304865132775, 'legislation': 0.028171164968560272, 'optimism': 0.03884415005183863, 'actually': 0.040144123016083756, 'vice': 0.025707619789240896, 'putting': 0.05446084808277975, 'inside': 0.024061125996558307, 'management': 0.028855580526006418, 'official': 0.02218911292570119, 'meeting': 0.11436417786646853, 'crucial': 0.06277453771992969, 'cost': 0.02526151228997918, 'sell': 0.058606627804458286, 'purpose': 0.031367770242505505, 'energy': 0.02673115174711348, 'process': 0.043103030539396854, 'increase': 0.0255841172858499, 'pushing': 0.029503669173784147, 'driving': 0.029591788546538666, 'budget': 0.02819197276842981, 'essentially': 0.029713108695620744, 'asked': 0.017852535132934545, 'continues': 0.027137286333355316, 'accepted': 0.03237921287033448, 'fund': 0.0289057238674083, 'seemingly': 0.03323345955091541, '24': 0.0272753256605121, 'things': 0.03560542209037751, 'ago': 0.03893495353378131, 'giving': 0.05043532189906621, 'surprise': 0.029091850303348914, 'zero': 0.033154699193554626, 'drive': 0.02859070070457146, 'replace': 0.08955662191768213, 'according': 0.029720470099627413, 'sure': 0.02139537839329788, 'run': 0.04179496014475562, 'outside': 0.021445195322606584, 'coordinated': 0.039973912613798714, 'funded': 0.03538221746131703, 'sense': 0.02281827147436032, 'way': 0.056988759644131325, '10': 0.018785860444266292, 'searching': 0.036737812363663316, 'conditions': 0.08700894923370497, 'hours': 0.022165637447275132, 'tells': 0.027311890976830157, 'difficult': 0.047360786762801935, 'expected': 0.022061482019537247, 'try': 0.02237881345492709, 'initial': 0.029310524228272586, 'current': 0.02262600994668387, 'away': 0.03709620727593069, 'night': 0.07653042019679282, 'idea': 0.02169556950626878, 'federal': 0.03858861911538793, 'kevin': 0.03302954056989845, 'efforts': 0.02361149539975402, 'talk': 0.04346268622683585, 'start': 0.04260800462929354, 'directly': 0.05221482475983416, 've': 0.017102566918536267, 'evening': 0.05516932728268447, 'reality': 0.02580302542897392, 'thursday': 0.040068475367897476, 'scheduled': 0.029050050486397246, 'visit': 0.02749216062151488, 'stability': 0.036536423576839255, 'party': 0.057259751326108825, 'policies': 0.02455310250364526, 'sides': 0.029174806760335802, 'monday': 0.020284483627508457, 'sending': 0.030805378216779245, 'weeks': 0.042545238093511024, 'conference': 0.023865835291482302, 'news': 0.015115157853237582, 'path': 0.02846327325364942, 'week': 0.031030130253306875, 'launch': 0.030635287726599656, 'key': 0.04509708210289514, 'need': 0.017089666268841754, 'senior': 0.09038878247058323, 'changes': 0.025670165351248764, 'spoke': 0.024458530740981206, 'final': 0.023681664048576592, 'leader': 0.02192387440525929, 'north': 0.022432628619582482, 'make': 0.013981120573282074, 'home': 0.03671069151497304, 'outstanding': 0.039139781827974084, 'happened': 0.022814910578808204, 'far': 0.017858516641475454, 'quite': 0.04966121981285119, 'good': 0.01659822601085801, 'wake': 0.029987810556768586, 'impasse': 0.04459622153572919, 'members': 0.0397838793136752, 'progress': 0.11774884749156606, 'noting': 0.030423343793682497, 'high': 0.03941716849792757, 'possibly': 0.05922874665492387, 'half': 0.022582562998443443, 'clear': 0.07707950596707945, 'specifically': 0.028816533485300437, 'goal': 0.027043321405786736, '30': 0.021461728372706244, 'mean': 0.022753029034741183, 'series': 0.02334685284471303, 'does': 0.01746448688529504, 'came': 0.018026478341715082, 'bring': 0.02303917984178007, 'including': 0.01568793198760585, 'president': 0.02616877389225341, 'state': 0.029323823025664376, 'travel': 0.027487733979162453, 'really': 0.01730958222580019, 'direction': 0.02945192465179346, 'involved': 0.09382660722628659, 'director': 0.019966601715701728, 'helped': 0.02398964786414106, 'staff': 0.04882628525557511, 'paul': 0.024651190626093313, 'group': 0.03527487868842939, 'limited': 0.028231312349413538, 'general': 0.03991841935085855, 'making': 0.018691855250937986, 'mark': 0.024724023440329056, 'remains': 0.024545171561429217, 'know': 0.015337020094488917, 'did': 0.0141204352019122, 'dynamics': 0.04102624402623622, 'set': 0.01904086902969469, 'issue': 0.04118609587873388, 'important': 0.019928985271513256, 'white': 0.08484092533455448, 'internal': 0.030659831589846226, 'committee': 0.022811551328200542, 'speaker': 0.02836074590555056, 'want': 0.015907099471661842, 'say': 0.014598861244907741, 'individuals': 0.027714926401678604, 'produce': 0.031259589987522755, 'deal': 0.04198344254795942, 'participants': 0.07250586908565154, 'view': 0.023113059913409752, 'money': 0.04084518355514195, 'coverage': 0.026968039133913758, 'insurers': 0.11847931764592604, 'billion': 0.023817706633548603, 'possibility': 0.02884478672196616, 'officials': 0.01908755974532924, 'leadership': 0.026312198786104905, 'resolution': 0.03517906893970038, 'currently': 0.049868601095354605, 'told': 0.04100185695007357, 'month': 0.019058016890815488, 'standing': 0.02703917489683746, 'related': 0.07754454076361013, 'office': 0.018430913479977724, 'effort': 0.07076855426272113, 'states': 0.07910932597434184, 'late': 0.021431448138020993, 'central': 0.05006677870253209, 'republican': 0.05314674177640566, 'donald': 0.015072611926575557, 'end': 0.01784411548166932, 'conservative': 0.023093786123943295, 'issues': 0.06394168601454098, 'house': 0.19502053410155135, 'americans': 0.02036004023763793, 'insurance': 0.060174520382668746, 'trump': 0.02686389786594999, 'administration': 0.03839154534696029, 'care': 0.06460290022265397, 'health': 0.17291756975719416, 'fear': 0.025937625482390234, 'republicans': 0.06387429534697263, 'congressional': 0.026422137548632103, 'washington': 0.03446187736984745}\n"
     ]
    }
   ],
   "source": [
    "from sklearn.feature_extraction.text import TfidfVectorizer\n",
    "\n",
    "vectorizer = TfidfVectorizer(max_df=0.5, # drop words that occur in more than half the paragraphs\n",
    "                             min_df=2, # only use words that appear at least twice\n",
    "                             stop_words='english', \n",
    "                             lowercase=True, #convert everything to lower case (since Alice in Wonderland has the HABIT of CAPITALIZING WORDS for EMPHASIS)\n",
    "                             use_idf=True,#we definitely want to use inverse document frequencies in our weighting\n",
    "                             norm=u'l2', #Applies a correction factor so that longer paragraphs and shorter paragraphs get treated equally\n",
    "                             smooth_idf=True #Adds 1 to all document frequencies, as if an extra document existed that used every word once.  Prevents divide-by-zero errors\n",
    "                            )\n",
    "\n",
    "#Applying the vectorizer\n",
    "X_tfidf=vectorizer.fit_transform(X)\n",
    "print(\"Number of features: %d\" % X_tfidf.get_shape()[1])\n",
    "\n",
    "#splitting into training and test sets\n",
    "X_train_tfidf, X_test_tfidf, y_train, y_test = train_test_split(X_tfidf, y, test_size=0.25, random_state=42)\n",
    "\n",
    "#Removes all zeros from the matrix\n",
    "X_train_tfidf_csr = X_train_tfidf.tocsr()\n",
    "\n",
    "#number of paragraphs\n",
    "n = X_train_tfidf_csr.shape[0]\n",
    "\n",
    "#A list of dictionaries, one per paragraph\n",
    "tfidf_bypara = [{} for _ in range(0,n)]\n",
    "\n",
    "#List of features\n",
    "terms = vectorizer.get_feature_names()\n",
    "\n",
    "#for each paragraph, lists the feature words and their tf-idf scores\n",
    "for i, j in zip(*X_train_tfidf_csr.nonzero()):\n",
    "    tfidf_bypara[i][terms[j]] = X_train_tfidf_csr[i, j]\n",
    "\n",
    "#Keep in mind that the log base 2 of 1 is 0, so a tf-idf score of 0 indicates that the word was present once in that sentence.\n",
    "print('Original article:', X_train[5])\n",
    "print('Tf_idf vector:', tfidf_bypara[5])"
   ]
  },
  {
   "cell_type": "code",
   "execution_count": 38,
   "metadata": {},
   "outputs": [
    {
     "name": "stdout",
     "output_type": "stream",
     "text": [
      "(93917, 143632)\n",
      "(31306, 143632)\n"
     ]
    }
   ],
   "source": [
    "# Examining shapes \n",
    "print(X_train_tfidf.shape)\n",
    "print(X_test_tfidf.shape)"
   ]
  },
  {
   "cell_type": "code",
   "execution_count": 30,
   "metadata": {},
   "outputs": [],
   "source": [
    "from sklearn.preprocessing import normalize\n",
    "X_norm = normalize(X_train_tfidf)"
   ]
  },
  {
   "cell_type": "code",
   "execution_count": 31,
   "metadata": {},
   "outputs": [
    {
     "data": {
      "text/plain": [
       "<93917x143632 sparse matrix of type '<class 'numpy.float64'>'\n",
       "\twith 21890402 stored elements in Compressed Sparse Row format>"
      ]
     },
     "execution_count": 31,
     "metadata": {},
     "output_type": "execute_result"
    }
   ],
   "source": [
    "X_norm"
   ]
  },
  {
   "cell_type": "markdown",
   "metadata": {},
   "source": [
    "# Clustering\n",
    "\n",
    "### K-means"
   ]
  },
  {
   "cell_type": "code",
   "execution_count": 39,
   "metadata": {},
   "outputs": [
    {
     "ename": "KeyboardInterrupt",
     "evalue": "",
     "output_type": "error",
     "traceback": [
      "\u001b[1;31m---------------------------------------------------------------------------\u001b[0m",
      "\u001b[1;31mKeyboardInterrupt\u001b[0m                         Traceback (most recent call last)",
      "\u001b[1;32m<timed eval>\u001b[0m in \u001b[0;36m<module>\u001b[1;34m()\u001b[0m\n",
      "\u001b[1;32m~\\Anaconda3\\lib\\site-packages\\sklearn\\cluster\\k_means_.py\u001b[0m in \u001b[0;36mfit\u001b[1;34m(self, X, y)\u001b[0m\n\u001b[0;32m    894\u001b[0m                 \u001b[0mtol\u001b[0m\u001b[1;33m=\u001b[0m\u001b[0mself\u001b[0m\u001b[1;33m.\u001b[0m\u001b[0mtol\u001b[0m\u001b[1;33m,\u001b[0m \u001b[0mrandom_state\u001b[0m\u001b[1;33m=\u001b[0m\u001b[0mrandom_state\u001b[0m\u001b[1;33m,\u001b[0m \u001b[0mcopy_x\u001b[0m\u001b[1;33m=\u001b[0m\u001b[0mself\u001b[0m\u001b[1;33m.\u001b[0m\u001b[0mcopy_x\u001b[0m\u001b[1;33m,\u001b[0m\u001b[1;33m\u001b[0m\u001b[0m\n\u001b[0;32m    895\u001b[0m                 \u001b[0mn_jobs\u001b[0m\u001b[1;33m=\u001b[0m\u001b[0mself\u001b[0m\u001b[1;33m.\u001b[0m\u001b[0mn_jobs\u001b[0m\u001b[1;33m,\u001b[0m \u001b[0malgorithm\u001b[0m\u001b[1;33m=\u001b[0m\u001b[0mself\u001b[0m\u001b[1;33m.\u001b[0m\u001b[0malgorithm\u001b[0m\u001b[1;33m,\u001b[0m\u001b[1;33m\u001b[0m\u001b[0m\n\u001b[1;32m--> 896\u001b[1;33m                 return_n_iter=True)\n\u001b[0m\u001b[0;32m    897\u001b[0m         \u001b[1;32mreturn\u001b[0m \u001b[0mself\u001b[0m\u001b[1;33m\u001b[0m\u001b[0m\n\u001b[0;32m    898\u001b[0m \u001b[1;33m\u001b[0m\u001b[0m\n",
      "\u001b[1;32m~\\Anaconda3\\lib\\site-packages\\sklearn\\cluster\\k_means_.py\u001b[0m in \u001b[0;36mk_means\u001b[1;34m(X, n_clusters, init, precompute_distances, n_init, max_iter, verbose, tol, random_state, copy_x, n_jobs, algorithm, return_n_iter)\u001b[0m\n\u001b[0;32m    344\u001b[0m                 \u001b[0mX\u001b[0m\u001b[1;33m,\u001b[0m \u001b[0mn_clusters\u001b[0m\u001b[1;33m,\u001b[0m \u001b[0mmax_iter\u001b[0m\u001b[1;33m=\u001b[0m\u001b[0mmax_iter\u001b[0m\u001b[1;33m,\u001b[0m \u001b[0minit\u001b[0m\u001b[1;33m=\u001b[0m\u001b[0minit\u001b[0m\u001b[1;33m,\u001b[0m \u001b[0mverbose\u001b[0m\u001b[1;33m=\u001b[0m\u001b[0mverbose\u001b[0m\u001b[1;33m,\u001b[0m\u001b[1;33m\u001b[0m\u001b[0m\n\u001b[0;32m    345\u001b[0m                 \u001b[0mprecompute_distances\u001b[0m\u001b[1;33m=\u001b[0m\u001b[0mprecompute_distances\u001b[0m\u001b[1;33m,\u001b[0m \u001b[0mtol\u001b[0m\u001b[1;33m=\u001b[0m\u001b[0mtol\u001b[0m\u001b[1;33m,\u001b[0m\u001b[1;33m\u001b[0m\u001b[0m\n\u001b[1;32m--> 346\u001b[1;33m                 x_squared_norms=x_squared_norms, random_state=random_state)\n\u001b[0m\u001b[0;32m    347\u001b[0m             \u001b[1;31m# determine if these results are the best so far\u001b[0m\u001b[1;33m\u001b[0m\u001b[1;33m\u001b[0m\u001b[0m\n\u001b[0;32m    348\u001b[0m             \u001b[1;32mif\u001b[0m \u001b[0mbest_inertia\u001b[0m \u001b[1;32mis\u001b[0m \u001b[1;32mNone\u001b[0m \u001b[1;32mor\u001b[0m \u001b[0minertia\u001b[0m \u001b[1;33m<\u001b[0m \u001b[0mbest_inertia\u001b[0m\u001b[1;33m:\u001b[0m\u001b[1;33m\u001b[0m\u001b[0m\n",
      "\u001b[1;32m~\\Anaconda3\\lib\\site-packages\\sklearn\\cluster\\k_means_.py\u001b[0m in \u001b[0;36m_kmeans_single_lloyd\u001b[1;34m(X, n_clusters, max_iter, init, verbose, x_squared_norms, random_state, tol, precompute_distances)\u001b[0m\n\u001b[0;32m    496\u001b[0m         \u001b[1;32mif\u001b[0m \u001b[0msp\u001b[0m\u001b[1;33m.\u001b[0m\u001b[0missparse\u001b[0m\u001b[1;33m(\u001b[0m\u001b[0mX\u001b[0m\u001b[1;33m)\u001b[0m\u001b[1;33m:\u001b[0m\u001b[1;33m\u001b[0m\u001b[0m\n\u001b[0;32m    497\u001b[0m             centers = _k_means._centers_sparse(X, labels, n_clusters,\n\u001b[1;32m--> 498\u001b[1;33m                                                distances)\n\u001b[0m\u001b[0;32m    499\u001b[0m         \u001b[1;32melse\u001b[0m\u001b[1;33m:\u001b[0m\u001b[1;33m\u001b[0m\u001b[0m\n\u001b[0;32m    500\u001b[0m             \u001b[0mcenters\u001b[0m \u001b[1;33m=\u001b[0m \u001b[0m_k_means\u001b[0m\u001b[1;33m.\u001b[0m\u001b[0m_centers_dense\u001b[0m\u001b[1;33m(\u001b[0m\u001b[0mX\u001b[0m\u001b[1;33m,\u001b[0m \u001b[0mlabels\u001b[0m\u001b[1;33m,\u001b[0m \u001b[0mn_clusters\u001b[0m\u001b[1;33m,\u001b[0m \u001b[0mdistances\u001b[0m\u001b[1;33m)\u001b[0m\u001b[1;33m\u001b[0m\u001b[0m\n",
      "\u001b[1;31mKeyboardInterrupt\u001b[0m: "
     ]
    },
    {
     "ename": "AttributeError",
     "evalue": "'KMeans' object has no attribute 'labels_'",
     "output_type": "error",
     "traceback": [
      "\u001b[1;31m---------------------------------------------------------------------------\u001b[0m",
      "\u001b[1;31mAttributeError\u001b[0m                            Traceback (most recent call last)",
      "\u001b[1;32m<ipython-input-39-9019a376fbaf>\u001b[0m in \u001b[0;36m<module>\u001b[1;34m()\u001b[0m\n\u001b[0;32m      5\u001b[0m \u001b[0mget_ipython\u001b[0m\u001b[1;33m(\u001b[0m\u001b[1;33m)\u001b[0m\u001b[1;33m.\u001b[0m\u001b[0mrun_line_magic\u001b[0m\u001b[1;33m(\u001b[0m\u001b[1;34m'time'\u001b[0m\u001b[1;33m,\u001b[0m \u001b[1;34m'km.fit(X_tfidf)'\u001b[0m\u001b[1;33m)\u001b[0m\u001b[1;33m\u001b[0m\u001b[0m\n\u001b[0;32m      6\u001b[0m \u001b[1;33m\u001b[0m\u001b[0m\n\u001b[1;32m----> 7\u001b[1;33m \u001b[0mclusters\u001b[0m \u001b[1;33m=\u001b[0m \u001b[0mkm\u001b[0m\u001b[1;33m.\u001b[0m\u001b[0mlabels_\u001b[0m\u001b[1;33m.\u001b[0m\u001b[0mtolist\u001b[0m\u001b[1;33m(\u001b[0m\u001b[1;33m)\u001b[0m\u001b[1;33m\u001b[0m\u001b[0m\n\u001b[0m",
      "\u001b[1;31mAttributeError\u001b[0m: 'KMeans' object has no attribute 'labels_'"
     ]
    }
   ],
   "source": [
    "num_clusters = 5\n",
    "\n",
    "km = KMeans(n_clusters=num_clusters)\n",
    "\n",
    "%time km.fit(X_tfidf)\n",
    "\n",
    "clusters = km.labels_.tolist()"
   ]
  },
  {
   "cell_type": "markdown",
   "metadata": {},
   "source": [
    "# Modelling\n",
    "\n",
    "### Random Forest"
   ]
  },
  {
   "cell_type": "code",
   "execution_count": 34,
   "metadata": {},
   "outputs": [
    {
     "name": "stdout",
     "output_type": "stream",
     "text": [
      "Training set score: 0.9943780146299392\n",
      "\n",
      "Test set score: 0.44330160352648057\n"
     ]
    }
   ],
   "source": [
    "tf_rfc = ensemble.RandomForestClassifier()\n",
    "train = tf_rfc.fit(X_train_tfidf, y_train)\n",
    "\n",
    "print('Training set score:', tf_rfc.score(X_train_tfidf, y_train))\n",
    "print('\\nTest set score:', tf_rfc.score(X_test_tfidf, y_test))"
   ]
  },
  {
   "cell_type": "markdown",
   "metadata": {},
   "source": [
    "### Logistic Regression"
   ]
  },
  {
   "cell_type": "code",
   "execution_count": 35,
   "metadata": {},
   "outputs": [
    {
     "name": "stdout",
     "output_type": "stream",
     "text": [
      "Training set score: 0.8200538773597964\n",
      "\n",
      "Test set score: 0.722545199003386\n"
     ]
    }
   ],
   "source": [
    "tf_lr = LogisticRegression()\n",
    "train = tf_lr.fit(X_train_tfidf, y_train)\n",
    "\n",
    "print('Training set score:', tf_lr.score(X_train_tfidf, y_train))\n",
    "print('\\nTest set score:', tf_lr.score(X_test_tfidf, y_test))"
   ]
  },
  {
   "cell_type": "code",
   "execution_count": null,
   "metadata": {},
   "outputs": [],
   "source": []
  }
 ],
 "metadata": {
  "kernelspec": {
   "display_name": "Python 3",
   "language": "python",
   "name": "python3"
  },
  "language_info": {
   "codemirror_mode": {
    "name": "ipython",
    "version": 3
   },
   "file_extension": ".py",
   "mimetype": "text/x-python",
   "name": "python",
   "nbconvert_exporter": "python",
   "pygments_lexer": "ipython3",
   "version": "3.6.5"
  }
 },
 "nbformat": 4,
 "nbformat_minor": 2
}
