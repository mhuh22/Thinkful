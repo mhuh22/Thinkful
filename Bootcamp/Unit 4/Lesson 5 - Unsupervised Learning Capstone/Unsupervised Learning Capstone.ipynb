{
 "cells": [
  {
   "cell_type": "code",
   "execution_count": 1,
   "metadata": {},
   "outputs": [],
   "source": [
    "# Basic imports\n",
    "import os\n",
    "import numpy as np\n",
    "import pandas as pd\n",
    "import scipy\n",
    "import sklearn\n",
    "import matplotlib.pyplot as plt\n",
    "import seaborn as sns\n",
    "%matplotlib inline\n",
    "\n",
    "# Clustering packages\n",
    "import sklearn.cluster as cluster\n",
    "from sklearn.cluster import KMeans\n",
    "from sklearn.cluster import MeanShift, estimate_bandwidth\n",
    "from sklearn.cluster import SpectralClustering\n",
    "from sklearn.cluster import AffinityPropagation\n",
    "\n",
    "# Natural Language processing\n",
    "import re\n",
    "import spacy\n",
    "import nltk\n",
    "from nltk.corpus import stopwords, twitter_samples, gutenberg\n",
    "from collections import Counter\n",
    "from sklearn.model_selection import train_test_split\n",
    "from sklearn.feature_extraction.text import TfidfVectorizer\n",
    "from sklearn.datasets import fetch_rcv1"
   ]
  },
  {
   "cell_type": "code",
   "execution_count": 2,
   "metadata": {},
   "outputs": [
    {
     "data": {
      "text/html": [
       "<div>\n",
       "<style scoped>\n",
       "    .dataframe tbody tr th:only-of-type {\n",
       "        vertical-align: middle;\n",
       "    }\n",
       "\n",
       "    .dataframe tbody tr th {\n",
       "        vertical-align: top;\n",
       "    }\n",
       "\n",
       "    .dataframe thead th {\n",
       "        text-align: right;\n",
       "    }\n",
       "</style>\n",
       "<table border=\"1\" class=\"dataframe\">\n",
       "  <thead>\n",
       "    <tr style=\"text-align: right;\">\n",
       "      <th></th>\n",
       "      <th>Unnamed: 0</th>\n",
       "      <th>id</th>\n",
       "      <th>title</th>\n",
       "      <th>publication</th>\n",
       "      <th>author</th>\n",
       "      <th>date</th>\n",
       "      <th>year</th>\n",
       "      <th>month</th>\n",
       "      <th>url</th>\n",
       "      <th>content</th>\n",
       "    </tr>\n",
       "  </thead>\n",
       "  <tbody>\n",
       "    <tr>\n",
       "      <th>0</th>\n",
       "      <td>0</td>\n",
       "      <td>17283</td>\n",
       "      <td>House Republicans Fret About Winning Their Hea...</td>\n",
       "      <td>New York Times</td>\n",
       "      <td>Carl Hulse</td>\n",
       "      <td>2016-12-31</td>\n",
       "      <td>2016.0</td>\n",
       "      <td>12.0</td>\n",
       "      <td>NaN</td>\n",
       "      <td>WASHINGTON  —   Congressional Republicans have...</td>\n",
       "    </tr>\n",
       "    <tr>\n",
       "      <th>1</th>\n",
       "      <td>1</td>\n",
       "      <td>17284</td>\n",
       "      <td>Rift Between Officers and Residents as Killing...</td>\n",
       "      <td>New York Times</td>\n",
       "      <td>Benjamin Mueller and Al Baker</td>\n",
       "      <td>2017-06-19</td>\n",
       "      <td>2017.0</td>\n",
       "      <td>6.0</td>\n",
       "      <td>NaN</td>\n",
       "      <td>After the bullet shells get counted, the blood...</td>\n",
       "    </tr>\n",
       "    <tr>\n",
       "      <th>2</th>\n",
       "      <td>2</td>\n",
       "      <td>17285</td>\n",
       "      <td>Tyrus Wong, ‘Bambi’ Artist Thwarted by Racial ...</td>\n",
       "      <td>New York Times</td>\n",
       "      <td>Margalit Fox</td>\n",
       "      <td>2017-01-06</td>\n",
       "      <td>2017.0</td>\n",
       "      <td>1.0</td>\n",
       "      <td>NaN</td>\n",
       "      <td>When Walt Disney’s “Bambi” opened in 1942, cri...</td>\n",
       "    </tr>\n",
       "    <tr>\n",
       "      <th>3</th>\n",
       "      <td>3</td>\n",
       "      <td>17286</td>\n",
       "      <td>Among Deaths in 2016, a Heavy Toll in Pop Musi...</td>\n",
       "      <td>New York Times</td>\n",
       "      <td>William McDonald</td>\n",
       "      <td>2017-04-10</td>\n",
       "      <td>2017.0</td>\n",
       "      <td>4.0</td>\n",
       "      <td>NaN</td>\n",
       "      <td>Death may be the great equalizer, but it isn’t...</td>\n",
       "    </tr>\n",
       "    <tr>\n",
       "      <th>4</th>\n",
       "      <td>4</td>\n",
       "      <td>17287</td>\n",
       "      <td>Kim Jong-un Says North Korea Is Preparing to T...</td>\n",
       "      <td>New York Times</td>\n",
       "      <td>Choe Sang-Hun</td>\n",
       "      <td>2017-01-02</td>\n",
       "      <td>2017.0</td>\n",
       "      <td>1.0</td>\n",
       "      <td>NaN</td>\n",
       "      <td>SEOUL, South Korea  —   North Korea’s leader, ...</td>\n",
       "    </tr>\n",
       "  </tbody>\n",
       "</table>\n",
       "</div>"
      ],
      "text/plain": [
       "   Unnamed: 0     id                                              title  \\\n",
       "0           0  17283  House Republicans Fret About Winning Their Hea...   \n",
       "1           1  17284  Rift Between Officers and Residents as Killing...   \n",
       "2           2  17285  Tyrus Wong, ‘Bambi’ Artist Thwarted by Racial ...   \n",
       "3           3  17286  Among Deaths in 2016, a Heavy Toll in Pop Musi...   \n",
       "4           4  17287  Kim Jong-un Says North Korea Is Preparing to T...   \n",
       "\n",
       "      publication                         author        date    year  month  \\\n",
       "0  New York Times                     Carl Hulse  2016-12-31  2016.0   12.0   \n",
       "1  New York Times  Benjamin Mueller and Al Baker  2017-06-19  2017.0    6.0   \n",
       "2  New York Times                   Margalit Fox  2017-01-06  2017.0    1.0   \n",
       "3  New York Times               William McDonald  2017-04-10  2017.0    4.0   \n",
       "4  New York Times                  Choe Sang-Hun  2017-01-02  2017.0    1.0   \n",
       "\n",
       "   url                                            content  \n",
       "0  NaN  WASHINGTON  —   Congressional Republicans have...  \n",
       "1  NaN  After the bullet shells get counted, the blood...  \n",
       "2  NaN  When Walt Disney’s “Bambi” opened in 1942, cri...  \n",
       "3  NaN  Death may be the great equalizer, but it isn’t...  \n",
       "4  NaN  SEOUL, South Korea  —   North Korea’s leader, ...  "
      ]
     },
     "execution_count": 2,
     "metadata": {},
     "output_type": "execute_result"
    }
   ],
   "source": [
    "# Create list of files from directory\n",
    "filelist = os.listdir('articles')\n",
    "\n",
    "# Import the files\n",
    "df_list = [pd.read_csv(file) for file in filelist]\n",
    "\n",
    "#concatenate them together\n",
    "articles = pd.concat(df_list)\n",
    "\n",
    "# Preview the data\n",
    "articles.head()"
   ]
  },
  {
   "cell_type": "code",
   "execution_count": 3,
   "metadata": {},
   "outputs": [
    {
     "data": {
      "text/plain": [
       "(142570, 10)"
      ]
     },
     "execution_count": 3,
     "metadata": {},
     "output_type": "execute_result"
    }
   ],
   "source": [
    "articles.shape"
   ]
  },
  {
   "cell_type": "code",
   "execution_count": 4,
   "metadata": {},
   "outputs": [
    {
     "data": {
      "text/plain": [
       "title          142132\n",
       "publication        15\n",
       "author          15647\n",
       "date             1646\n",
       "url             85559\n",
       "content        142038\n",
       "dtype: int64"
      ]
     },
     "execution_count": 4,
     "metadata": {},
     "output_type": "execute_result"
    }
   ],
   "source": [
    "articles.select_dtypes(include=['object']).nunique()"
   ]
  },
  {
   "cell_type": "code",
   "execution_count": 5,
   "metadata": {},
   "outputs": [],
   "source": [
    "# Drop variables that have no impact on the outcome\n",
    "articles = articles[['title', 'publication', 'author', 'content']]"
   ]
  },
  {
   "cell_type": "code",
   "execution_count": 6,
   "metadata": {},
   "outputs": [
    {
     "data": {
      "text/plain": [
       "author\n",
       "Breitbart News                                                      1559\n",
       "Pam Key                                                             1282\n",
       "Associated Press                                                    1231\n",
       "Charlie Spiering                                                     928\n",
       "Jerome Hudson                                                        806\n",
       "John Hayward                                                         747\n",
       "Daniel Nussbaum                                                      735\n",
       "AWR Hawkins                                                          720\n",
       "Ian Hanchett                                                         647\n",
       "Joel B. Pollak                                                       624\n",
       "Post Editorial Board                                                 620\n",
       "Alex Swoyer                                                          604\n",
       "Camila Domonoske                                                     593\n",
       "Warner Todd Huston                                                   545\n",
       "NPR Staff                                                            514\n",
       "Jeff Poor                                                            505\n",
       "Merrit Kennedy                                                       484\n",
       "Trent Baker                                                          457\n",
       "Breitbart London                                                     447\n",
       "Katherine Rodriguez                                                  435\n",
       "Reuters                                                              434\n",
       "Charlie Nash                                                         421\n",
       "Bill Chappell                                                        412\n",
       "Ben Kew                                                              373\n",
       "Frances Martel                                                       366\n",
       "David French                                                         363\n",
       "German Lopez                                                         354\n",
       "David A. Graham                                                      351\n",
       "Bob Price                                                            340\n",
       "Esme Cribb                                                           338\n",
       "                                                                    ... \n",
       "Liz Lee                                                                1\n",
       "Liz Hampton and Valerie Volcovici                                      1\n",
       "Liz Hampton and Swetha Gopinath                                        1\n",
       "Liz Hampton and Nia Williams                                           1\n",
       "Liz Hampton and Ethan Lou                                              1\n",
       "Liz Hampton and Ernest Scheyder                                        1\n",
       "Lizette Alvarez and Nick Madigan                                       1\n",
       "Lizette Alvarez and Richard Pérez-Peña                                 1\n",
       "Lorena Mongelli, Daniel Halper and Bruce Golding                       1\n",
       "Lizette Alvarez, Frances Robles and Richard Pérez-Peña                 1\n",
       "Lorena Mongelli and Yaron Steinbuch                                    1\n",
       "Lorena Mongelli and Sophia Rosenbaum                                   1\n",
       "Lorena Mongelli and Max Jaeger                                         1\n",
       "Lorena Mongelli and Gabrielle Fonrouge                                 1\n",
       "Lorena Mongelli and Danika Fears                                       1\n",
       "Lorena Mongelli and Daniel Prendergast                                 1\n",
       "Lorena Mongelli and Chris Perez                                        1\n",
       "Lorena Mongelli                                                        1\n",
       "Lola Adesioye                                                          1\n",
       "Lois Weiss, Stephanie Pagones and Bruce Golding                        1\n",
       "Lois Weiss and Steve Cuozzo                                            1\n",
       "Lois Smith Brady                                                       1\n",
       "Lois Romano                                                            1\n",
       "Logan Hill                                                             1\n",
       "Logan Beirne                                                           1\n",
       "Lizzie Parry and Andrea Downey, The Sun                                1\n",
       "Lizzie Feidelson                                                       1\n",
       "Lizette Alvarez, Richard Fausset and Adam Goldman                      1\n",
       "Lizette Alvarez, Jess Bidgood, Mitch Smith and Sabrina Tavernise       1\n",
       "                                                                       1\n",
       "Length: 15647, dtype: int64"
      ]
     },
     "execution_count": 6,
     "metadata": {},
     "output_type": "execute_result"
    }
   ],
   "source": [
    "articles.groupby(['author']).size().sort_values(ascending=False)"
   ]
  },
  {
   "cell_type": "code",
   "execution_count": 7,
   "metadata": {},
   "outputs": [],
   "source": [
    "# Drop author from the dataframe if they wrote less than 5 articles\n",
    "vc = articles['author'].value_counts()\n",
    "u  = [i not in set(vc[vc<=4].index) for i in articles['author']]\n",
    "articles = articles[u]"
   ]
  },
  {
   "cell_type": "code",
   "execution_count": 8,
   "metadata": {},
   "outputs": [
    {
     "data": {
      "text/plain": [
       "title          124811\n",
       "publication        15\n",
       "author           3063\n",
       "content        124724\n",
       "dtype: int64"
      ]
     },
     "execution_count": 8,
     "metadata": {},
     "output_type": "execute_result"
    }
   ],
   "source": [
    "articles.select_dtypes(include=['object']).nunique()"
   ]
  },
  {
   "cell_type": "code",
   "execution_count": 9,
   "metadata": {},
   "outputs": [
    {
     "data": {
      "text/plain": [
       "(125223, 4)"
      ]
     },
     "execution_count": 9,
     "metadata": {},
     "output_type": "execute_result"
    }
   ],
   "source": [
    "articles.shape"
   ]
  },
  {
   "cell_type": "markdown",
   "metadata": {},
   "source": [
    "So after removing authors that composed fewer than 5 articles, we are left with 125k articles, or 87.8% of the data, and roughly 3k/15k of the authors. Now, we can create a better representation of each author since each author has at least 5 articles to evaluate from."
   ]
  },
  {
   "cell_type": "code",
   "execution_count": 10,
   "metadata": {},
   "outputs": [
    {
     "data": {
      "text/plain": [
       "author\n",
       "Breitbart News                                 1559\n",
       "Pam Key                                        1282\n",
       "Associated Press                               1231\n",
       "Charlie Spiering                                928\n",
       "Jerome Hudson                                   806\n",
       "John Hayward                                    747\n",
       "Daniel Nussbaum                                 735\n",
       "AWR Hawkins                                     720\n",
       "Ian Hanchett                                    647\n",
       "Joel B. Pollak                                  624\n",
       "Post Editorial Board                            620\n",
       "Alex Swoyer                                     604\n",
       "Camila Domonoske                                593\n",
       "Warner Todd Huston                              545\n",
       "NPR Staff                                       514\n",
       "Jeff Poor                                       505\n",
       "Merrit Kennedy                                  484\n",
       "Trent Baker                                     457\n",
       "Breitbart London                                447\n",
       "Katherine Rodriguez                             435\n",
       "Reuters                                         434\n",
       "Charlie Nash                                    421\n",
       "Bill Chappell                                   412\n",
       "Ben Kew                                         373\n",
       "Frances Martel                                  366\n",
       "David French                                    363\n",
       "German Lopez                                    354\n",
       "David A. Graham                                 351\n",
       "Bob Price                                       340\n",
       "Esme Cribb                                      338\n",
       "                                               ... \n",
       "Hugh Naylor                                       5\n",
       "Martin Weil                                       5\n",
       "Minami Funakoshi                                  5\n",
       "Conor Dougherty                                   5\n",
       "Dalya Alberge                                     5\n",
       "Mark Lawson                                       5\n",
       "John Templon                                      5\n",
       "John Harris                                       5\n",
       "Anya Alvarez                                      5\n",
       "John Schwartz                                     5\n",
       "N. R. Kleinfield                                  5\n",
       "Marjorie Dannenfelser                             5\n",
       "Harriet Gibsone                                   5\n",
       "John Podesta                                      5\n",
       "Moustafa Bayoumi                                  5\n",
       "Ariane Lange                                      5\n",
       "Motez Bishara                                     5\n",
       "Dan Tynan                                         5\n",
       "John Naughton                                     5\n",
       "Tamara Best                                       5\n",
       "Heidi Mitchell                                    5\n",
       "John Lynch                                        5\n",
       "Henry Blodget                                     5\n",
       "Sydney Lupkin                                     5\n",
       "Rosanna Greenstreet                               5\n",
       "Svea Herbst-Bayliss and Lawrence Delevingne       5\n",
       "Ashley Westerman                                  5\n",
       "Moira Weigel                                      5\n",
       "Damon Martin, Fox Sports                          5\n",
       "LA Johnson                                        5\n",
       "Length: 3063, dtype: int64"
      ]
     },
     "execution_count": 10,
     "metadata": {},
     "output_type": "execute_result"
    }
   ],
   "source": [
    "articles.groupby(['author']).size().sort_values(ascending=False)"
   ]
  },
  {
   "cell_type": "code",
   "execution_count": null,
   "metadata": {},
   "outputs": [],
   "source": []
  }
 ],
 "metadata": {
  "kernelspec": {
   "display_name": "Python 3",
   "language": "python",
   "name": "python3"
  },
  "language_info": {
   "codemirror_mode": {
    "name": "ipython",
    "version": 3
   },
   "file_extension": ".py",
   "mimetype": "text/x-python",
   "name": "python",
   "nbconvert_exporter": "python",
   "pygments_lexer": "ipython3",
   "version": "3.6.5"
  }
 },
 "nbformat": 4,
 "nbformat_minor": 2
}
