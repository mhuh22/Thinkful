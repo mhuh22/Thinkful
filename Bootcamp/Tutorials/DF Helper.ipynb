{
 "cells": [
  {
   "cell_type": "code",
   "execution_count": null,
   "metadata": {},
   "outputs": [],
   "source": [
    "# Import csv file as a dataframe\n",
    "df_name = pd.read_csv(\"insert name here\")\n",
    "\n",
    "# Drop all empty rows\n",
    "df = df.dropna()\n",
    "\n",
    "# Preview the top n rows, blank = 5\n",
    "df.head(n)\n",
    "\n",
    "# Sort values by column name\n",
    "df.sort_values('column_name')\n",
    "\n",
    "# Drop column name(s) from dataframe\n",
    "df.drop(['column1', 'column2'], 1, inplace=True) or\n",
    "df = df.drop(['column1', 'column2'])\n",
    "\n",
    "# Rename column name(s) in dataframe\n",
    "df = df.rename(index=str, columns = {'column1': 'c1',\n",
    "                                     'column2': 'c2'})\n",
    "\n",
    "# Replace instances of N,O with NO for column1\n",
    "df[column1] = df[column1].replace('N,O', 'NO')\n",
    "\n",
    "# Print shape of dataframe\n",
    "df.shape\n",
    "\n",
    "# Sample the dataframe with 105 of the data\n",
    "df = df.sample(frac=0.1)\n",
    "\n",
    "# Print out unique values for column1\n",
    "df.column1.unique()\n",
    "\n",
    "# Groupby common value, and sort by values descending\n",
    "df.groupby('column1').size.sort_values(ascending=False)\n",
    "\n",
    "# Reprint how many unique values there are for each [object] type\n",
    "df.select_dtypes(include=['object']).nunique()\n",
    "\n",
    "# Create new series variable, X, from dataframe\n",
    "X = df['column1']"
   ]
  },
  {
   "cell_type": "code",
   "execution_count": null,
   "metadata": {},
   "outputs": [],
   "source": [
    "# Import multiple files from a directory\n",
    "\n",
    "# Create list of files from directory\n",
    "filelist = os.listdir('articles')\n",
    "\n",
    "# Import the files\n",
    "df_list = [pd.read_csv(file) for file in filelist]\n",
    "\n",
    "#concatenate them together\n",
    "articles = pd.concat(df_list)"
   ]
  },
  {
   "cell_type": "code",
   "execution_count": null,
   "metadata": {},
   "outputs": [],
   "source": [
    "# Function built to remove punctuation\n",
    "def text_cleaner(text):\n",
    "    # Visual inspection identifies a form of punctuation spaCy does not\n",
    "    # recognize: the double dash '--'.  Better get rid of it now!\n",
    "    text = re.sub(r'--',' ',text)\n",
    "    text = re.sub(\"[\\[].*?[\\]]\", \"\", text)\n",
    "    text = ' '.join(text.split())\n",
    "    return text\n",
    "\n",
    "# Apply the function to each row in 'content' column\n",
    "articles['content'] = articles.content.map(lambda x: text_cleaner(str(x)))"
   ]
  }
 ],
 "metadata": {
  "kernelspec": {
   "display_name": "Python 3",
   "language": "python",
   "name": "python3"
  },
  "language_info": {
   "codemirror_mode": {
    "name": "ipython",
    "version": 3
   },
   "file_extension": ".py",
   "mimetype": "text/x-python",
   "name": "python",
   "nbconvert_exporter": "python",
   "pygments_lexer": "ipython3",
   "version": "3.6.5"
  }
 },
 "nbformat": 4,
 "nbformat_minor": 2
}
