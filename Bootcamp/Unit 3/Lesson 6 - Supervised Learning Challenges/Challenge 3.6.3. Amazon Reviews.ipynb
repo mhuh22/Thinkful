{
 "cells": [
  {
   "cell_type": "code",
   "execution_count": 1,
   "metadata": {},
   "outputs": [],
   "source": [
    "%matplotlib inline\n",
    "import numpy as np\n",
    "import pandas as pd\n",
    "import scipy\n",
    "import sklearn\n",
    "import gzip\n",
    "import matplotlib.pyplot as plt\n",
    "import seaborn as sns\n",
    "from sklearn.linear_model import LogisticRegression"
   ]
  },
  {
   "cell_type": "markdown",
   "metadata": {},
   "source": [
    "# Predicting Amazon review scores\n",
    "\n",
    "Can we predict whether a user will leave a positive or negative review based simply on what they have to say? In theory, we should be able to see some sort of correlation between negative reviews and their choice of words. To evaluate a case study, we'll be taking a look at Amazon review scores from May 1996 - July 2014, specifically their electronics division. "
   ]
  },
  {
   "cell_type": "code",
   "execution_count": 2,
   "metadata": {},
   "outputs": [],
   "source": [
    "# Grab and process the raw data.\n",
    "\n",
    "def parse(path):\n",
    "    g = gzip.open(path, 'rb')\n",
    "    for l in g:\n",
    "        yield eval(l)\n",
    "\n",
    "def getDF(path):\n",
    "    i = 0\n",
    "    df = {}\n",
    "    for d in parse(path):\n",
    "        df[i] = d\n",
    "        i += 1\n",
    "    return pd.DataFrame.from_dict(df, orient='index')\n",
    "\n",
    "df = getDF('Data\\\\reviews_Electronics_5.json.gz')"
   ]
  },
  {
   "cell_type": "code",
   "execution_count": 3,
   "metadata": {},
   "outputs": [
    {
     "data": {
      "text/html": [
       "<div>\n",
       "<style scoped>\n",
       "    .dataframe tbody tr th:only-of-type {\n",
       "        vertical-align: middle;\n",
       "    }\n",
       "\n",
       "    .dataframe tbody tr th {\n",
       "        vertical-align: top;\n",
       "    }\n",
       "\n",
       "    .dataframe thead th {\n",
       "        text-align: right;\n",
       "    }\n",
       "</style>\n",
       "<table border=\"1\" class=\"dataframe\">\n",
       "  <thead>\n",
       "    <tr style=\"text-align: right;\">\n",
       "      <th></th>\n",
       "      <th>reviewerID</th>\n",
       "      <th>asin</th>\n",
       "      <th>reviewerName</th>\n",
       "      <th>helpful</th>\n",
       "      <th>reviewText</th>\n",
       "      <th>overall</th>\n",
       "      <th>summary</th>\n",
       "      <th>unixReviewTime</th>\n",
       "      <th>reviewTime</th>\n",
       "    </tr>\n",
       "  </thead>\n",
       "  <tbody>\n",
       "    <tr>\n",
       "      <th>0</th>\n",
       "      <td>AO94DHGC771SJ</td>\n",
       "      <td>0528881469</td>\n",
       "      <td>amazdnu</td>\n",
       "      <td>[0, 0]</td>\n",
       "      <td>We got this GPS for my husband who is an (OTR)...</td>\n",
       "      <td>5.0</td>\n",
       "      <td>Gotta have GPS!</td>\n",
       "      <td>1370131200</td>\n",
       "      <td>06 2, 2013</td>\n",
       "    </tr>\n",
       "    <tr>\n",
       "      <th>1</th>\n",
       "      <td>AMO214LNFCEI4</td>\n",
       "      <td>0528881469</td>\n",
       "      <td>Amazon Customer</td>\n",
       "      <td>[12, 15]</td>\n",
       "      <td>I'm a professional OTR truck driver, and I bou...</td>\n",
       "      <td>1.0</td>\n",
       "      <td>Very Disappointed</td>\n",
       "      <td>1290643200</td>\n",
       "      <td>11 25, 2010</td>\n",
       "    </tr>\n",
       "    <tr>\n",
       "      <th>2</th>\n",
       "      <td>A3N7T0DY83Y4IG</td>\n",
       "      <td>0528881469</td>\n",
       "      <td>C. A. Freeman</td>\n",
       "      <td>[43, 45]</td>\n",
       "      <td>Well, what can I say.  I've had this unit in m...</td>\n",
       "      <td>3.0</td>\n",
       "      <td>1st impression</td>\n",
       "      <td>1283990400</td>\n",
       "      <td>09 9, 2010</td>\n",
       "    </tr>\n",
       "    <tr>\n",
       "      <th>3</th>\n",
       "      <td>A1H8PY3QHMQQA0</td>\n",
       "      <td>0528881469</td>\n",
       "      <td>Dave M. Shaw \"mack dave\"</td>\n",
       "      <td>[9, 10]</td>\n",
       "      <td>Not going to write a long review, even thought...</td>\n",
       "      <td>2.0</td>\n",
       "      <td>Great grafics, POOR GPS</td>\n",
       "      <td>1290556800</td>\n",
       "      <td>11 24, 2010</td>\n",
       "    </tr>\n",
       "    <tr>\n",
       "      <th>4</th>\n",
       "      <td>A24EV6RXELQZ63</td>\n",
       "      <td>0528881469</td>\n",
       "      <td>Wayne Smith</td>\n",
       "      <td>[0, 0]</td>\n",
       "      <td>I've had mine for a year and here's what we go...</td>\n",
       "      <td>1.0</td>\n",
       "      <td>Major issues, only excuses for support</td>\n",
       "      <td>1317254400</td>\n",
       "      <td>09 29, 2011</td>\n",
       "    </tr>\n",
       "  </tbody>\n",
       "</table>\n",
       "</div>"
      ],
      "text/plain": [
       "       reviewerID        asin              reviewerName   helpful  \\\n",
       "0   AO94DHGC771SJ  0528881469                   amazdnu    [0, 0]   \n",
       "1   AMO214LNFCEI4  0528881469           Amazon Customer  [12, 15]   \n",
       "2  A3N7T0DY83Y4IG  0528881469             C. A. Freeman  [43, 45]   \n",
       "3  A1H8PY3QHMQQA0  0528881469  Dave M. Shaw \"mack dave\"   [9, 10]   \n",
       "4  A24EV6RXELQZ63  0528881469               Wayne Smith    [0, 0]   \n",
       "\n",
       "                                          reviewText  overall  \\\n",
       "0  We got this GPS for my husband who is an (OTR)...      5.0   \n",
       "1  I'm a professional OTR truck driver, and I bou...      1.0   \n",
       "2  Well, what can I say.  I've had this unit in m...      3.0   \n",
       "3  Not going to write a long review, even thought...      2.0   \n",
       "4  I've had mine for a year and here's what we go...      1.0   \n",
       "\n",
       "                                  summary  unixReviewTime   reviewTime  \n",
       "0                         Gotta have GPS!      1370131200   06 2, 2013  \n",
       "1                       Very Disappointed      1290643200  11 25, 2010  \n",
       "2                          1st impression      1283990400   09 9, 2010  \n",
       "3                 Great grafics, POOR GPS      1290556800  11 24, 2010  \n",
       "4  Major issues, only excuses for support      1317254400  09 29, 2011  "
      ]
     },
     "execution_count": 3,
     "metadata": {},
     "output_type": "execute_result"
    }
   ],
   "source": [
    "# Prints first 5 rows in our dataframe\n",
    "df.head()"
   ]
  },
  {
   "cell_type": "code",
   "execution_count": 4,
   "metadata": {},
   "outputs": [],
   "source": [
    "# Drop all null values in our dataframe\n",
    "df = df.dropna()\n",
    "\n",
    "# Data cleaning\n",
    "df['summary'] = df['summary'].str.lower()\n",
    "df['summary'] = df['summary'].str.replace('[^\\w\\s]','')\n",
    "df['summary'] = df['summary'].str.strip()"
   ]
  },
  {
   "cell_type": "code",
   "execution_count": 5,
   "metadata": {},
   "outputs": [
    {
     "data": {
      "text/plain": [
       "(1664458, 9)"
      ]
     },
     "execution_count": 5,
     "metadata": {},
     "output_type": "execute_result"
    }
   ],
   "source": [
    "# Prints the dimensions of our dataframe\n",
    "df.shape"
   ]
  },
  {
   "cell_type": "markdown",
   "metadata": {},
   "source": [
    "So, if you look at the size of our dataset, you can see that that there are roughly 1.66 million reviews and 9 columns for electronics purchased on Amazon. Now, our dataset will require a bit of preparation before we can use it for our model. The only column that we really need for creating our model will be our 'reviewText' column, which contains what people had to say in their reviews. We will also need our 'overall' column, as that is the review score that we want to predict. As for everything else, while they may help assist us in predicting review scores, the challenge of this assignment is to rely only on text data, so we will be dropping them from our dataset."
   ]
  },
  {
   "cell_type": "code",
   "execution_count": 6,
   "metadata": {},
   "outputs": [],
   "source": [
    "# Creating our predictor dataframe\n",
    "X = df['summary']\n",
    "\n",
    "# Creating our outcome series\n",
    "Y = df['overall']"
   ]
  },
  {
   "cell_type": "code",
   "execution_count": 7,
   "metadata": {},
   "outputs": [
    {
     "name": "stderr",
     "output_type": "stream",
     "text": [
      "C:\\Users\\mhuh22\\Anaconda3\\lib\\site-packages\\scipy\\stats\\stats.py:1713: FutureWarning: Using a non-tuple sequence for multidimensional indexing is deprecated; use `arr[tuple(seq)]` instead of `arr[seq]`. In the future this will be interpreted as an array index, `arr[np.array(seq)]`, which will result either in an error or a different result.\n",
      "  return np.add.reduce(sorted[indexer] * weights, axis=axis) / sumval\n"
     ]
    },
    {
     "data": {
      "text/plain": [
       "<matplotlib.axes._subplots.AxesSubplot at 0x2526978b0f0>"
      ]
     },
     "execution_count": 7,
     "metadata": {},
     "output_type": "execute_result"
    },
    {
     "data": {
      "image/png": "[encoded data removed]",
      "text/plain": [
       "<Figure size 432x288 with 1 Axes>"
      ]
     },
     "metadata": {
      "needs_background": "light"
     },
     "output_type": "display_data"
    }
   ],
   "source": [
    "# Plot distribution of review scores\n",
    "sns.distplot(Y, kde=False)"
   ]
  },
  {
   "cell_type": "markdown",
   "metadata": {},
   "source": [
    "Based on the distribution of review scores above, we can see that people that review products tend to leave very positive reviews. Since we want to have roughly equal groups in both of our outcomes, we'll have to revise what our definition of a good and bad review are."
   ]
  },
  {
   "cell_type": "code",
   "execution_count": 8,
   "metadata": {},
   "outputs": [
    {
     "name": "stderr",
     "output_type": "stream",
     "text": [
      "C:\\Users\\mhuh22\\Anaconda3\\lib\\site-packages\\scipy\\stats\\stats.py:1713: FutureWarning: Using a non-tuple sequence for multidimensional indexing is deprecated; use `arr[tuple(seq)]` instead of `arr[seq]`. In the future this will be interpreted as an array index, `arr[np.array(seq)]`, which will result either in an error or a different result.\n",
      "  return np.add.reduce(sorted[indexer] * weights, axis=axis) / sumval\n"
     ]
    },
    {
     "data": {
      "text/plain": [
       "<matplotlib.axes._subplots.AxesSubplot at 0x25252f1f208>"
      ]
     },
     "execution_count": 8,
     "metadata": {},
     "output_type": "execute_result"
    },
    {
     "data": {
      "image/png": "[encoded data removed]",
      "text/plain": [
       "<Figure size 432x288 with 1 Axes>"
      ]
     },
     "metadata": {
      "needs_background": "light"
     },
     "output_type": "display_data"
    }
   ],
   "source": [
    "# Let's combine all values lower than 5 into a single value\n",
    "Y = np.where(Y > 4, 1, 0)\n",
    "\n",
    "# Plots 1-4 star reviews against 5 star reviews\n",
    "sns.distplot(Y, kde=False)"
   ]
  },
  {
   "cell_type": "markdown",
   "metadata": {},
   "source": [
    "If we decide that positive reviews are only perfect 5 star reviews, and everything else (1-4) is an imperfect review, we have enough entries for both outcomes, so we can proceed with the model."
   ]
  },
  {
   "cell_type": "code",
   "execution_count": 9,
   "metadata": {},
   "outputs": [
    {
     "name": "stdout",
     "output_type": "stream",
     "text": [
      "[nltk_data] Downloading package stopwords to\n",
      "[nltk_data]     C:\\Users\\mhuh22\\AppData\\Roaming\\nltk_data...\n",
      "[nltk_data]   Package stopwords is already up-to-date!\n"
     ]
    }
   ],
   "source": [
    "# Import nltk for language processing\n",
    "import nltk\n",
    "nltk.download('stopwords')\n",
    "from nltk.corpus import stopwords\n",
    "\n",
    "# Import our list of stopwords\n",
    "stop = stopwords.words('english')\n",
    "\n",
    "# Remove stopwords from the reviews\n",
    "X = df['summary'].apply(lambda x: ' '.join([word for word in x.split() if word not in (stop)]))"
   ]
  },
  {
   "cell_type": "code",
   "execution_count": 10,
   "metadata": {},
   "outputs": [
    {
     "data": {
      "text/plain": [
       "0                       gotta gps\n",
       "1                    disappointed\n",
       "2                  1st impression\n",
       "3          great grafics poor gps\n",
       "4    major issues excuses support\n",
       "Name: summary, dtype: object"
      ]
     },
     "execution_count": 10,
     "metadata": {},
     "output_type": "execute_result"
    }
   ],
   "source": [
    "X.head()"
   ]
  },
  {
   "cell_type": "code",
   "execution_count": 11,
   "metadata": {},
   "outputs": [],
   "source": [
    "X2 = X.sample(frac=0.0001, replace=True)"
   ]
  },
  {
   "cell_type": "code",
   "execution_count": 12,
   "metadata": {},
   "outputs": [
    {
     "name": "stdout",
     "output_type": "stream",
     "text": [
      "real good deal\n",
      "missing 82mm\n",
      "works great far\n",
      "great quality great price\n",
      "perfect many things well indeed\n",
      "cannot beat sound quality size\n",
      "nothing good\n",
      "works well\n",
      "great asus tablet case\n",
      "people know value\n",
      "nice\n",
      "good affordable sd usb adapter\n",
      "perfect fit\n",
      "exactly described\n",
      "engineered\n",
      "good card compatible nikon d800\n",
      "cable works\n",
      "large inexpensive\n",
      "love\n",
      "great value product\n",
      "good\n",
      "lasted less year\n",
      "foscam fi8910w wireless ip camera black 6999\n",
      "caveat emptor buy tamron risk\n",
      "big sticking zipper still like\n",
      "ok modification\n",
      "good alarm room works describe\n",
      "poor warranty support\n",
      "game console protection plan\n",
      "perfect\n",
      "quality basic mouse mat\n",
      "rewards careful use\n",
      "25 external hdd case\n",
      "outstanding piece hardware\n",
      "works\n",
      "direct dlink support\n",
      "sony baloney\n",
      "excellent camcorder price\n",
      "nice design beads fall though\n",
      "backup\n",
      "really close fit even\n",
      "portable streetwise camera\n",
      "cool\n",
      "cool boombox\n",
      "good true\n",
      "useful\n",
      "nice price nice product\n",
      "wobble wobble like beyonce song\n",
      "installed seamlessly immediately recognized win 7 umonitexe crashes windows 8\n",
      "excellent\n",
      "cheap job\n",
      "well made\n",
      "damn\n",
      "good little speaker set\n",
      "case leather obscures display light sensor magnets interfere compass ipad slip\n",
      "great camera pack carry small selection\n",
      "blocks light view\n",
      "easy install\n",
      "nice case\n",
      "good ipod touch 3g least\n",
      "love\n",
      "one section wouldnt tighten plastic lock ring pieces box\n",
      "great shelf mount single component\n",
      "work beautifully\n",
      "convert digital analog signal\n",
      "decent product\n",
      "good durability ok sound great price\n",
      "perfect perscription glasses\n",
      "small\n",
      "nice dont leave home go home without\n",
      "nice layout easy work\n",
      "absolutely phenomenal\n",
      "carrying case\n",
      "great product\n",
      "work even plugged\n",
      "like\n",
      "excellent quality excellent sound excellent price\n",
      "like really help\n",
      "follow money\n",
      "perfect\n",
      "decent hreo3 spares hero 2 spares great\n",
      "tapi compatible windows 78\n",
      "theyre inexpensive work\n",
      "fast clean parallels mac\n",
      "great customer support\n",
      "job looks nice\n",
      "garmin 255w product wanted expected\n",
      "great price 64 gb\n",
      "glad bought\n",
      "cowboystudio 77mm center pinch snapon lens cap nikon\n",
      "meh\n",
      "motorola t505 bluetooth\n",
      "great design\n",
      "look good practical\n",
      "well made\n",
      "put gopro tripod\n",
      "nice\n",
      "backup software slow dont reformat ntfs\n",
      "ipad review\n",
      "get pay\n",
      "works awesome\n",
      "best webcam ive tried\n",
      "excellent every way\n",
      "compact\n",
      "pulls mb sata headers\n",
      "love\n",
      "worked great good price\n",
      "solid light useful\n",
      "fastest works fine\n",
      "terrible firmware solid product\n",
      "nice\n",
      "great\n",
      "good little machine pros cons\n",
      "buy\n",
      "amazonbasics vs mohu leaf ultimate\n",
      "look pictured\n",
      "works like champ\n",
      "buy friend\n",
      "work\n",
      "couldnt happier\n",
      "thumb screw stripped 1st day oops\n",
      "pretty good\n",
      "brainer set upand nice little switch\n",
      "works lexus\n",
      "decent price mileage may vary\n",
      "cheap effective protection\n",
      "tomtom 720\n",
      "great little machine\n",
      "sleek functional cheap\n",
      "works fine paperwhite\n",
      "great value\n",
      "flash stand pentax flash nikon\n",
      "played lottery bought lost\n",
      "small lightweight sharp\n",
      "great\n",
      "story three bags\n",
      "simple beautiful design\n",
      "ehhhh\n",
      "bad product get\n",
      "nice dvd player price\n",
      "still running\n",
      "youll never forget fingerprints\n",
      "works great\n",
      "wanted\n",
      "pioneer ts d1302r\n",
      "good design well thought\n",
      "usb outlet plug\n",
      "cheaply made flimsy piece equipment\n",
      "good case ipad mini stand feature could use improvement\n",
      "new model good\n",
      "handsome speakers price\n",
      "let break judge\n",
      "fast\n",
      "great product useful\n",
      "great flash drive\n",
      "love kindle 3 kindle cover\n",
      "installed without problem\n",
      "great protection high quality earphones\n",
      "good value money\n",
      "best internet security used far\n",
      "amazing\n",
      "great case great price\n",
      "see video upload\n",
      "excellent quality price\n",
      "great\n",
      "want quality pay\n"
     ]
    }
   ],
   "source": [
    "for i in X2:\n",
    "    print(i)"
   ]
  },
  {
   "cell_type": "markdown",
   "metadata": {},
   "source": [
    "# Source\n",
    "\n",
    "Amazon review data - electronics\n",
    "http://jmcauley.ucsd.edu/data/amazon/"
   ]
  }
 ],
 "metadata": {
  "kernelspec": {
   "display_name": "Python 3",
   "language": "python",
   "name": "python3"
  },
  "language_info": {
   "codemirror_mode": {
    "name": "ipython",
    "version": 3
   },
   "file_extension": ".py",
   "mimetype": "text/x-python",
   "name": "python",
   "nbconvert_exporter": "python",
   "pygments_lexer": "ipython3",
   "version": "3.7.0"
  }
 },
 "nbformat": 4,
 "nbformat_minor": 2
}
