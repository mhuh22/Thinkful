{
 "cells": [
  {
   "cell_type": "code",
   "execution_count": 1,
   "metadata": {},
   "outputs": [],
   "source": [
    "import numpy as np\n",
    "import pandas as pd\n",
    "import scipy\n",
    "import matplotlib.pyplot as plt\n",
    "import seaborn as sns\n",
    "from sklearn.svm import SVR\n",
    "from sklearn.feature_selection import SelectKBest, f_classif\n",
    "%matplotlib inline"
   ]
  },
  {
   "cell_type": "markdown",
   "metadata": {},
   "source": [
    "# About the Data\n",
    "\n",
    "In this dataset, we have a collection of over 20000 recipes with data on each recipe's title, rating, caloriecount, protein, fat, sodium, ingredients, and category. The last two have been converted to dummies so we can utilize them.\n",
    "\n",
    "# Objective\n",
    "\n",
    "Our objective will be to predict what factors we are likely to see when looking for positive ratings. We are interested in seeing what tags are associated with better ratings, so we will not be using the first size columns in our dataset, and use binary predictors to predict if the rating is positive or negative."
   ]
  },
  {
   "cell_type": "code",
   "execution_count": 2,
   "metadata": {},
   "outputs": [],
   "source": [
    "raw_data = pd.read_csv('epi_r.csv')\n",
    "\n",
    "#Drop missing values\n",
    "raw_data = raw_data.dropna()\n",
    "\n",
    "# Drop rows with a rating of 0\n",
    "raw_data = raw_data[(raw_data['rating'] != 0)]"
   ]
  },
  {
   "cell_type": "code",
   "execution_count": 3,
   "metadata": {},
   "outputs": [],
   "source": [
    "# Setting up our support vector machine\n",
    "svr = SVR()\n",
    "\n",
    "# Target variable\n",
    "Y = raw_data.rating\n",
    "\n",
    "# We will not be using these variables in our prediction algorithm\n",
    "raw_data = raw_data.drop(['rating', 'title', 'calories', 'protein', 'fat', 'sodium'], 1)"
   ]
  },
  {
   "cell_type": "code",
   "execution_count": 4,
   "metadata": {},
   "outputs": [
    {
     "data": {
      "text/plain": [
       "count    14568.000000\n",
       "mean         4.095535\n",
       "std          0.655129\n",
       "min          1.250000\n",
       "25%          3.750000\n",
       "50%          4.375000\n",
       "75%          4.375000\n",
       "max          5.000000\n",
       "Name: rating, dtype: float64"
      ]
     },
     "execution_count": 4,
     "metadata": {},
     "output_type": "execute_result"
    }
   ],
   "source": [
    "Y.describe()"
   ]
  },
  {
   "cell_type": "code",
   "execution_count": 5,
   "metadata": {},
   "outputs": [
    {
     "data": {
      "image/png": "[encoded data removed]",
      "text/plain": [
       "<matplotlib.figure.Figure at 0x1642bff02b0>"
      ]
     },
     "metadata": {},
     "output_type": "display_data"
    }
   ],
   "source": [
    "Y.hist(bins=20)\n",
    "plt.title('Histogram of Recipe Ratings')\n",
    "plt.show()"
   ]
  },
  {
   "cell_type": "code",
   "execution_count": 6,
   "metadata": {},
   "outputs": [],
   "source": [
    "# Replace the 1-5 rating system with 0 for 1-3 and 1 for 3-5\n",
    "Y = np.where(Y > 4, 1, 0)"
   ]
  },
  {
   "cell_type": "markdown",
   "metadata": {},
   "source": [
    "# Data Cleaning\n",
    "\n",
    "Based on our observations regarding ratings in our dataset, we can see that the ratings do not follow a normal distribution, and more than half of our ratings lie above 4/5. Based on the data above, the best place to set the boundary to start appears to be for ratings up to 4 stars, and over 4 stars.\n",
    "\n",
    "Since we have over 600 features in our dataset, we'll obviously need to do some cleaning before fitting it to our model. To make this as easy as possible, I will be using the kbest module to extract the 30 best features for predicting our ratings."
   ]
  },
  {
   "cell_type": "code",
   "execution_count": 7,
   "metadata": {},
   "outputs": [
    {
     "name": "stderr",
     "output_type": "stream",
     "text": [
      "C:\\ProgramData\\Anaconda3\\lib\\site-packages\\sklearn\\feature_selection\\univariate_selection.py:113: UserWarning: Features [ 93 105 163 183 195 213 221 225 226 234 243 288 294 308 319 358 381 394\n",
      " 397 400 463 489 501 524 567 643 670] are constant.\n",
      "  UserWarning)\n",
      "C:\\ProgramData\\Anaconda3\\lib\\site-packages\\sklearn\\feature_selection\\univariate_selection.py:114: RuntimeWarning: invalid value encountered in true_divide\n",
      "  f = msb / msw\n"
     ]
    }
   ],
   "source": [
    "# Selects the 30 best features to determine rating\n",
    "kbest = SelectKBest().fit(raw_data,Y)\n",
    "result_kb = pd.DataFrame(kbest.score_func(raw_data,Y)[1], index=raw_data.columns)\n",
    "result_kb = result_kb[0].sort_values().head(30)\n",
    "\n",
    "# Store the values in a new dataframe\n",
    "X = raw_data[result_kb.index.values.tolist()]"
   ]
  },
  {
   "cell_type": "code",
   "execution_count": 8,
   "metadata": {},
   "outputs": [
    {
     "data": {
      "text/plain": [
       "SVR(C=1.0, cache_size=200, coef0=0.0, degree=3, epsilon=0.1, gamma='auto',\n",
       "  kernel='rbf', max_iter=-1, shrinking=True, tol=0.001, verbose=False)"
      ]
     },
     "execution_count": 8,
     "metadata": {},
     "output_type": "execute_result"
    }
   ],
   "source": [
    "# Fit the svr model\n",
    "svr.fit(X,Y)"
   ]
  },
  {
   "cell_type": "code",
   "execution_count": 9,
   "metadata": {},
   "outputs": [
    {
     "data": {
      "text/plain": [
       "-0.22440657456904223"
      ]
     },
     "execution_count": 9,
     "metadata": {},
     "output_type": "execute_result"
    }
   ],
   "source": [
    "# Print the accuracy of our test\n",
    "svr.score(X, Y)"
   ]
  },
  {
   "cell_type": "code",
   "execution_count": 10,
   "metadata": {},
   "outputs": [
    {
     "data": {
      "text/plain": [
       "array([-0.25965376, -0.205922  , -0.22800935, -0.26008851, -0.25158983])"
      ]
     },
     "execution_count": 10,
     "metadata": {},
     "output_type": "execute_result"
    }
   ],
   "source": [
    "# Perform cross validation to determine repeatability\n",
    "from sklearn.model_selection import cross_val_score\n",
    "cross_val_score(svr, X, Y, cv=5)"
   ]
  },
  {
   "cell_type": "markdown",
   "metadata": {},
   "source": [
    "# Conclusion\n",
    "\n",
    "By reducing our featureset from 600+ features to 30, we were able to increase the accuracy of our model from 3.8% to 22.4%. It's still a poor result, but a significant increase in predictive accuracy, nonetheless."
   ]
  },
  {
   "cell_type": "code",
   "execution_count": null,
   "metadata": {},
   "outputs": [],
   "source": []
  }
 ],
 "metadata": {
  "kernelspec": {
   "display_name": "Python 3",
   "language": "python",
   "name": "python3"
  },
  "language_info": {
   "codemirror_mode": {
    "name": "ipython",
    "version": 3
   },
   "file_extension": ".py",
   "mimetype": "text/x-python",
   "name": "python",
   "nbconvert_exporter": "python",
   "pygments_lexer": "ipython3",
   "version": "3.6.4"
  }
 },
 "nbformat": 4,
 "nbformat_minor": 2
}
