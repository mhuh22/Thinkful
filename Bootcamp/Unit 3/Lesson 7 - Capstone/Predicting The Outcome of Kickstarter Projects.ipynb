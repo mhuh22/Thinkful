{
 "cells": [
  {
   "cell_type": "markdown",
   "metadata": {},
   "source": [
    "# Predicting The Outcome of Kickstarter Projects\n",
    "Author: Matthew Huh\n",
    "\n",
    "\n",
    "## What is Kickstarter\n",
    "\n",
    "To put it in their own words “Kickstarter helps artists, musicians, filmmakers, designers, and other creators find the resources and support they need to make their ideas a reality. To date, tens of thousands of creative projects — big and small — have come to life with the support of the Kickstarter community.”\n",
    "\n",
    "It is a platform that allows creators to transform ideas through the use of crowdfunding from backers in order to create tangible products. Creators set deadlines with funding goals that need to be met in order for them to create their projects, as well as stretch goals that may be created if that goal is surpassed. There's no guarantee that the creator will successfully create their project, or even meet expectations. In addition, pledges are between backers and the creator, so refunds are left up to the creators. There is a lot of risk involved, but that is the nature of undertaking a kickstarter project. \n",
    "\n",
    "## About the Data\n",
    "\n",
    "In this dataset lies a collection of 378,661 projects from April 2009 to January 2018 that contain a wide variety of project types and goals. The columns provided in the dataset are the\n",
    "1. Project ID\n",
    "2. Project name\n",
    "3. Category\n",
    "4. Main category\n",
    "5. Currency type (USD,  EUR, GBP, etc.)\n",
    "6. Deadline\n",
    "7. Goal\n",
    "8. Launch date\n",
    "9. Pledged amount\n",
    "10. State of the project (Successful, failed, cancelled, live, suspended)\n",
    "11. Number of backers\n",
    "12. Country of origin\n",
    "13. USD pledged\n",
    "14. USD pledged real\n",
    "15. USD goal real\n",
    "\n",
    "## Research Question\n",
    "\n",
    "Now, the goal of this project is to determine what factors ultimately determine the success (or failure) of a kickstarter project, given the data and tools at our disposal. So the columns that we want to focus on out of these are variables that the project designer is in control of\n",
    "1. Main category (15 categories)\n",
    "2. Duration (deadline - launch date)\n",
    "3. Goal (USD goal real specifically)\n",
    "4. What month to launch\n",
    "5. What day of the month to launch\n",
    "\n",
    "A few extra variables that we will consider are \n",
    "4. Year\n",
    "5. Currency\n",
    "6. Country\n",
    "\n",
    "The objective is to see if we can predict the state of the project given these predictors.\n",
    "\n",
    "## Packages"
   ]
  },
  {
   "cell_type": "code",
   "execution_count": 1,
   "metadata": {},
   "outputs": [
    {
     "data": {
      "text/html": [
       "<script>requirejs.config({paths: { 'plotly': ['https://cdn.plot.ly/plotly-latest.min']},});if(!window.Plotly) {{require(['plotly'],function(plotly) {window.Plotly=plotly;});}}</script>"
      ],
      "text/vnd.plotly.v1+html": [
       "<script>requirejs.config({paths: { 'plotly': ['https://cdn.plot.ly/plotly-latest.min']},});if(!window.Plotly) {{require(['plotly'],function(plotly) {window.Plotly=plotly;});}}</script>"
      ]
     },
     "metadata": {},
     "output_type": "display_data"
    }
   ],
   "source": [
    "# Basic import statements\n",
    "import pandas as pd\n",
    "import numpy as np\n",
    "import warnings\n",
    "warnings.filterwarnings(\"ignore\")\n",
    "from IPython.core.display import HTML\n",
    "import datetime\n",
    "import timeit\n",
    "\n",
    "# Visualization packages\n",
    "import matplotlib.pyplot as plt\n",
    "import seaborn as sns\n",
    "%matplotlib inline\n",
    "\n",
    "# (Optional) Plotly packages\n",
    "import plotly as py\n",
    "import plotly.graph_objs as go\n",
    "from plotly import tools\n",
    "import cufflinks as cf\n",
    "import ipywidgets as widgets\n",
    "from scipy import special\n",
    "py.offline.init_notebook_mode(connected=True)"
   ]
  },
  {
   "cell_type": "markdown",
   "metadata": {},
   "source": [
    "## Data Preview"
   ]
  },
  {
   "cell_type": "code",
   "execution_count": 2,
   "metadata": {},
   "outputs": [
    {
     "data": {
      "text/html": [
       "<div>\n",
       "<style scoped>\n",
       "    .dataframe tbody tr th:only-of-type {\n",
       "        vertical-align: middle;\n",
       "    }\n",
       "\n",
       "    .dataframe tbody tr th {\n",
       "        vertical-align: top;\n",
       "    }\n",
       "\n",
       "    .dataframe thead th {\n",
       "        text-align: right;\n",
       "    }\n",
       "</style>\n",
       "<table border=\"1\" class=\"dataframe\">\n",
       "  <thead>\n",
       "    <tr style=\"text-align: right;\">\n",
       "      <th></th>\n",
       "      <th>ID</th>\n",
       "      <th>name</th>\n",
       "      <th>category</th>\n",
       "      <th>main_category</th>\n",
       "      <th>currency</th>\n",
       "      <th>deadline</th>\n",
       "      <th>goal</th>\n",
       "      <th>launched</th>\n",
       "      <th>pledged</th>\n",
       "      <th>state</th>\n",
       "      <th>backers</th>\n",
       "      <th>country</th>\n",
       "      <th>usd pledged</th>\n",
       "      <th>usd_pledged_real</th>\n",
       "      <th>usd_goal_real</th>\n",
       "    </tr>\n",
       "  </thead>\n",
       "  <tbody>\n",
       "    <tr>\n",
       "      <th>138572</th>\n",
       "      <td>1703704063</td>\n",
       "      <td>drawing for dollars</td>\n",
       "      <td>Illustration</td>\n",
       "      <td>Art</td>\n",
       "      <td>USD</td>\n",
       "      <td>2009-05-03</td>\n",
       "      <td>20.0</td>\n",
       "      <td>2009-04-24 21:52:03</td>\n",
       "      <td>35.0</td>\n",
       "      <td>successful</td>\n",
       "      <td>3</td>\n",
       "      <td>US</td>\n",
       "      <td>35.0</td>\n",
       "      <td>35.0</td>\n",
       "      <td>20.0</td>\n",
       "    </tr>\n",
       "    <tr>\n",
       "      <th>213711</th>\n",
       "      <td>2089078683</td>\n",
       "      <td>New York Makes a Book!!</td>\n",
       "      <td>Journalism</td>\n",
       "      <td>Journalism</td>\n",
       "      <td>USD</td>\n",
       "      <td>2009-05-16</td>\n",
       "      <td>3000.0</td>\n",
       "      <td>2009-04-28 13:55:41</td>\n",
       "      <td>3329.0</td>\n",
       "      <td>successful</td>\n",
       "      <td>110</td>\n",
       "      <td>US</td>\n",
       "      <td>3329.0</td>\n",
       "      <td>3329.0</td>\n",
       "      <td>3000.0</td>\n",
       "    </tr>\n",
       "    <tr>\n",
       "      <th>342226</th>\n",
       "      <td>813230527</td>\n",
       "      <td>Sponsor Dereck Blackburn (Lostwars) Artist in ...</td>\n",
       "      <td>Rock</td>\n",
       "      <td>Music</td>\n",
       "      <td>USD</td>\n",
       "      <td>2009-05-16</td>\n",
       "      <td>300.0</td>\n",
       "      <td>2009-04-29 05:26:32</td>\n",
       "      <td>15.0</td>\n",
       "      <td>failed</td>\n",
       "      <td>2</td>\n",
       "      <td>US</td>\n",
       "      <td>15.0</td>\n",
       "      <td>15.0</td>\n",
       "      <td>300.0</td>\n",
       "    </tr>\n",
       "    <tr>\n",
       "      <th>28960</th>\n",
       "      <td>1147015301</td>\n",
       "      <td>\"All We Had\" Gets Into Cannes -- $10 or More G...</td>\n",
       "      <td>Documentary</td>\n",
       "      <td>Film &amp; Video</td>\n",
       "      <td>USD</td>\n",
       "      <td>2009-05-20</td>\n",
       "      <td>300.0</td>\n",
       "      <td>2009-04-30 22:10:30</td>\n",
       "      <td>40.0</td>\n",
       "      <td>failed</td>\n",
       "      <td>4</td>\n",
       "      <td>US</td>\n",
       "      <td>40.0</td>\n",
       "      <td>40.0</td>\n",
       "      <td>300.0</td>\n",
       "    </tr>\n",
       "    <tr>\n",
       "      <th>196244</th>\n",
       "      <td>199916122</td>\n",
       "      <td>Mr. Squiggles</td>\n",
       "      <td>Illustration</td>\n",
       "      <td>Art</td>\n",
       "      <td>USD</td>\n",
       "      <td>2009-05-22</td>\n",
       "      <td>30.0</td>\n",
       "      <td>2009-05-12 23:39:58</td>\n",
       "      <td>0.0</td>\n",
       "      <td>failed</td>\n",
       "      <td>0</td>\n",
       "      <td>US</td>\n",
       "      <td>0.0</td>\n",
       "      <td>0.0</td>\n",
       "      <td>30.0</td>\n",
       "    </tr>\n",
       "  </tbody>\n",
       "</table>\n",
       "</div>"
      ],
      "text/plain": [
       "                ID                                               name  \\\n",
       "138572  1703704063                                drawing for dollars   \n",
       "213711  2089078683                            New York Makes a Book!!   \n",
       "342226   813230527  Sponsor Dereck Blackburn (Lostwars) Artist in ...   \n",
       "28960   1147015301  \"All We Had\" Gets Into Cannes -- $10 or More G...   \n",
       "196244   199916122                                      Mr. Squiggles   \n",
       "\n",
       "            category main_category currency    deadline    goal  \\\n",
       "138572  Illustration           Art      USD  2009-05-03    20.0   \n",
       "213711    Journalism    Journalism      USD  2009-05-16  3000.0   \n",
       "342226          Rock         Music      USD  2009-05-16   300.0   \n",
       "28960    Documentary  Film & Video      USD  2009-05-20   300.0   \n",
       "196244  Illustration           Art      USD  2009-05-22    30.0   \n",
       "\n",
       "                   launched  pledged       state  backers country  \\\n",
       "138572  2009-04-24 21:52:03     35.0  successful        3      US   \n",
       "213711  2009-04-28 13:55:41   3329.0  successful      110      US   \n",
       "342226  2009-04-29 05:26:32     15.0      failed        2      US   \n",
       "28960   2009-04-30 22:10:30     40.0      failed        4      US   \n",
       "196244  2009-05-12 23:39:58      0.0      failed        0      US   \n",
       "\n",
       "        usd pledged  usd_pledged_real  usd_goal_real  \n",
       "138572         35.0              35.0           20.0  \n",
       "213711       3329.0            3329.0         3000.0  \n",
       "342226         15.0              15.0          300.0  \n",
       "28960          40.0              40.0          300.0  \n",
       "196244          0.0               0.0           30.0  "
      ]
     },
     "execution_count": 2,
     "metadata": {},
     "output_type": "execute_result"
    }
   ],
   "source": [
    "# Import data and sort by deadline date\n",
    "kickstart_data = pd.read_csv(\"ks-projects-201801.csv\")\n",
    "\n",
    "# Drop all empty rows\n",
    "kickstart_data.dropna()\n",
    "\n",
    "# Preview the data, ordered by deadline\n",
    "kickstart_data.sort_values('deadline').head()"
   ]
  },
  {
   "cell_type": "code",
   "execution_count": 3,
   "metadata": {},
   "outputs": [
    {
     "data": {
      "text/plain": [
       "(378661, 15)"
      ]
     },
     "execution_count": 3,
     "metadata": {},
     "output_type": "execute_result"
    }
   ],
   "source": [
    "# Check the size of our dataset\n",
    "kickstart_data.shape"
   ]
  },
  {
   "cell_type": "code",
   "execution_count": 4,
   "metadata": {},
   "outputs": [
    {
     "data": {
      "text/plain": [
       "name             375764\n",
       "category            159\n",
       "main_category        15\n",
       "currency             14\n",
       "deadline           3164\n",
       "launched         378089\n",
       "state                 6\n",
       "country              23\n",
       "dtype: int64"
      ]
     },
     "execution_count": 4,
     "metadata": {},
     "output_type": "execute_result"
    }
   ],
   "source": [
    "# Print out column names and # of unique values in each categorical variable\n",
    "kickstart_data.select_dtypes(include=['object']).nunique()"
   ]
  },
  {
   "cell_type": "markdown",
   "metadata": {},
   "source": [
    "## Data Cleaning"
   ]
  },
  {
   "cell_type": "code",
   "execution_count": 5,
   "metadata": {},
   "outputs": [],
   "source": [
    "# Convert 'launched' and 'deadline' columns into dates\n",
    "kickstart_data['launched'] = kickstart_data['launched'].astype('datetime64[ns]')\n",
    "kickstart_data['deadline'] = pd.to_datetime(kickstart_data['deadline'])\n",
    "kickstart_data['launched'] = pd.DatetimeIndex(kickstart_data.launched).normalize()\n",
    "\n",
    "# Project duration is more useful and less data\n",
    "# than the launch date and deadline\n",
    "kickstart_data['duration'] = kickstart_data['deadline'] - kickstart_data['launched']\n",
    "kickstart_data['duration'] = (kickstart_data['duration'] / np.timedelta64(1, 'D')).astype(int)\n",
    "\n",
    "# Create year variable from the deadline\n",
    "kickstart_data['year'] = kickstart_data['launched'].dt.year\n",
    "kickstart_data['launch_month'] = kickstart_data['launched'].dt.month\n",
    "kickstart_data['deadline_month'] = kickstart_data['deadline'].dt.month\n",
    "kickstart_data['day'] = kickstart_data['launched'].dt.day\n",
    "\n",
    "# Drop the launch and duration now that we don't need them\n",
    "kickstart_data.drop(['launched', 'deadline'], 1, inplace=True)"
   ]
  },
  {
   "cell_type": "code",
   "execution_count": 6,
   "metadata": {},
   "outputs": [],
   "source": [
    "# Drop variables that have no impact on the outcome, and\n",
    "# variables that have over 15 unique values\n",
    "kickstart_data.drop(['ID', 'category', 'country', 'goal', 'pledged', 'usd pledged'], 1, inplace=True)\n",
    "\n",
    "# Rename usd_pledged_real and usd_goal_real to \n",
    "# pledged and goal\n",
    "kickstart_data = kickstart_data.rename(index=str, columns = {'usd_pledged_real': 'pledged', \n",
    "                                                             'usd_goal_real': 'goal', \n",
    "                                                             'main_category': 'category'})"
   ]
  },
  {
   "cell_type": "code",
   "execution_count": 7,
   "metadata": {},
   "outputs": [],
   "source": [
    "# Clean the name column\n",
    "kickstart_data['name'] = kickstart_data['name'].str.lower()\n",
    "kickstart_data['name'] = kickstart_data['name'].str.replace('[^\\w\\s]','')\n",
    "kickstart_data['name'] = kickstart_data['name'].str.strip()\n",
    "\n",
    "# Save name length as a new variable\n",
    "kickstart_data['name_length'] = kickstart_data['name'].str.split(\" \").str.len()\n",
    "\n",
    "# Drop name from the dataset\n",
    "kickstart_data.drop(['name'], 1, inplace=True)"
   ]
  },
  {
   "cell_type": "markdown",
   "metadata": {},
   "source": [
    "## Exploratory Data Analysis"
   ]
  },
  {
   "cell_type": "code",
   "execution_count": 8,
   "metadata": {},
   "outputs": [
    {
     "data": {
      "text/html": [
       "<div>\n",
       "<style scoped>\n",
       "    .dataframe tbody tr th:only-of-type {\n",
       "        vertical-align: middle;\n",
       "    }\n",
       "\n",
       "    .dataframe tbody tr th {\n",
       "        vertical-align: top;\n",
       "    }\n",
       "\n",
       "    .dataframe thead th {\n",
       "        text-align: right;\n",
       "    }\n",
       "</style>\n",
       "<table border=\"1\" class=\"dataframe\">\n",
       "  <thead>\n",
       "    <tr style=\"text-align: right;\">\n",
       "      <th></th>\n",
       "      <th>backers</th>\n",
       "      <th>pledged</th>\n",
       "      <th>goal</th>\n",
       "      <th>duration</th>\n",
       "      <th>year</th>\n",
       "      <th>launch_month</th>\n",
       "      <th>deadline_month</th>\n",
       "      <th>day</th>\n",
       "      <th>name_length</th>\n",
       "    </tr>\n",
       "  </thead>\n",
       "  <tbody>\n",
       "    <tr>\n",
       "      <th>count</th>\n",
       "      <td>378661.000000</td>\n",
       "      <td>3.786610e+05</td>\n",
       "      <td>3.786610e+05</td>\n",
       "      <td>378661.000000</td>\n",
       "      <td>378661.000000</td>\n",
       "      <td>378661.000000</td>\n",
       "      <td>378661.000000</td>\n",
       "      <td>378661.000000</td>\n",
       "      <td>378657.00000</td>\n",
       "    </tr>\n",
       "    <tr>\n",
       "      <th>mean</th>\n",
       "      <td>105.617476</td>\n",
       "      <td>9.058924e+03</td>\n",
       "      <td>4.545440e+04</td>\n",
       "      <td>34.481095</td>\n",
       "      <td>2014.247829</td>\n",
       "      <td>6.461550</td>\n",
       "      <td>6.720726</td>\n",
       "      <td>15.294142</td>\n",
       "      <td>5.69296</td>\n",
       "    </tr>\n",
       "    <tr>\n",
       "      <th>std</th>\n",
       "      <td>907.185035</td>\n",
       "      <td>9.097334e+04</td>\n",
       "      <td>1.152950e+06</td>\n",
       "      <td>65.909173</td>\n",
       "      <td>1.933293</td>\n",
       "      <td>3.330133</td>\n",
       "      <td>3.342550</td>\n",
       "      <td>8.808409</td>\n",
       "      <td>2.77218</td>\n",
       "    </tr>\n",
       "    <tr>\n",
       "      <th>min</th>\n",
       "      <td>0.000000</td>\n",
       "      <td>0.000000e+00</td>\n",
       "      <td>1.000000e-02</td>\n",
       "      <td>1.000000</td>\n",
       "      <td>1970.000000</td>\n",
       "      <td>1.000000</td>\n",
       "      <td>1.000000</td>\n",
       "      <td>1.000000</td>\n",
       "      <td>1.00000</td>\n",
       "    </tr>\n",
       "    <tr>\n",
       "      <th>25%</th>\n",
       "      <td>2.000000</td>\n",
       "      <td>3.100000e+01</td>\n",
       "      <td>2.000000e+03</td>\n",
       "      <td>30.000000</td>\n",
       "      <td>2013.000000</td>\n",
       "      <td>4.000000</td>\n",
       "      <td>4.000000</td>\n",
       "      <td>8.000000</td>\n",
       "      <td>3.00000</td>\n",
       "    </tr>\n",
       "    <tr>\n",
       "      <th>50%</th>\n",
       "      <td>12.000000</td>\n",
       "      <td>6.243300e+02</td>\n",
       "      <td>5.500000e+03</td>\n",
       "      <td>30.000000</td>\n",
       "      <td>2014.000000</td>\n",
       "      <td>7.000000</td>\n",
       "      <td>7.000000</td>\n",
       "      <td>15.000000</td>\n",
       "      <td>5.00000</td>\n",
       "    </tr>\n",
       "    <tr>\n",
       "      <th>75%</th>\n",
       "      <td>56.000000</td>\n",
       "      <td>4.050000e+03</td>\n",
       "      <td>1.550000e+04</td>\n",
       "      <td>37.000000</td>\n",
       "      <td>2016.000000</td>\n",
       "      <td>9.000000</td>\n",
       "      <td>10.000000</td>\n",
       "      <td>23.000000</td>\n",
       "      <td>8.00000</td>\n",
       "    </tr>\n",
       "    <tr>\n",
       "      <th>max</th>\n",
       "      <td>219382.000000</td>\n",
       "      <td>2.033899e+07</td>\n",
       "      <td>1.663614e+08</td>\n",
       "      <td>16739.000000</td>\n",
       "      <td>2018.000000</td>\n",
       "      <td>12.000000</td>\n",
       "      <td>12.000000</td>\n",
       "      <td>31.000000</td>\n",
       "      <td>41.00000</td>\n",
       "    </tr>\n",
       "  </tbody>\n",
       "</table>\n",
       "</div>"
      ],
      "text/plain": [
       "             backers       pledged          goal       duration  \\\n",
       "count  378661.000000  3.786610e+05  3.786610e+05  378661.000000   \n",
       "mean      105.617476  9.058924e+03  4.545440e+04      34.481095   \n",
       "std       907.185035  9.097334e+04  1.152950e+06      65.909173   \n",
       "min         0.000000  0.000000e+00  1.000000e-02       1.000000   \n",
       "25%         2.000000  3.100000e+01  2.000000e+03      30.000000   \n",
       "50%        12.000000  6.243300e+02  5.500000e+03      30.000000   \n",
       "75%        56.000000  4.050000e+03  1.550000e+04      37.000000   \n",
       "max    219382.000000  2.033899e+07  1.663614e+08   16739.000000   \n",
       "\n",
       "                year   launch_month  deadline_month            day  \\\n",
       "count  378661.000000  378661.000000   378661.000000  378661.000000   \n",
       "mean     2014.247829       6.461550        6.720726      15.294142   \n",
       "std         1.933293       3.330133        3.342550       8.808409   \n",
       "min      1970.000000       1.000000        1.000000       1.000000   \n",
       "25%      2013.000000       4.000000        4.000000       8.000000   \n",
       "50%      2014.000000       7.000000        7.000000      15.000000   \n",
       "75%      2016.000000       9.000000       10.000000      23.000000   \n",
       "max      2018.000000      12.000000       12.000000      31.000000   \n",
       "\n",
       "        name_length  \n",
       "count  378657.00000  \n",
       "mean        5.69296  \n",
       "std         2.77218  \n",
       "min         1.00000  \n",
       "25%         3.00000  \n",
       "50%         5.00000  \n",
       "75%         8.00000  \n",
       "max        41.00000  "
      ]
     },
     "execution_count": 8,
     "metadata": {},
     "output_type": "execute_result"
    }
   ],
   "source": [
    "# Summary of the dataset\n",
    "kickstart_data.describe()"
   ]
  },
  {
   "cell_type": "code",
   "execution_count": 9,
   "metadata": {},
   "outputs": [
    {
     "data": {
      "application/vnd.plotly.v1+json": {
       "data": [
        {
         "opacity": 0.5,
         "text": [
          7,
          1329,
          10519,
          26237,
          41165,
          44851,
          67745,
          77300,
          57184,
          52200,
          124
         ],
         "textposition": "top",
         "type": "bar",
         "x": [
          2009,
          2010,
          2011,
          2012,
          2013,
          2014,
          2015,
          2016,
          2017,
          2018
         ],
         "y": [
          7,
          1329,
          10519,
          26237,
          41165,
          44851,
          67745,
          77300,
          57184,
          52200,
          124
         ]
        }
       ],
       "layout": {
        "title": "Number of projects per year"
       }
      },
      "text/html": [
       "<div id=\"2471455f-f689-4f1e-9c4d-65177a740df1\" style=\"height: 525px; width: 100%;\" class=\"plotly-graph-div\"></div><script type=\"text/javascript\">require([\"plotly\"], function(Plotly) { window.PLOTLYENV=window.PLOTLYENV || {};window.PLOTLYENV.BASE_URL=\"https://plot.ly\";Plotly.newPlot(\"2471455f-f689-4f1e-9c4d-65177a740df1\", [{\"type\": \"bar\", \"x\": [2009, 2010, 2011, 2012, 2013, 2014, 2015, 2016, 2017, 2018], \"y\": [7, 1329, 10519, 26237, 41165, 44851, 67745, 77300, 57184, 52200, 124], \"opacity\": 0.5, \"text\": [7, 1329, 10519, 26237, 41165, 44851, 67745, 77300, 57184, 52200, 124], \"textposition\": \"top\"}], {\"title\": \"Number of projects per year\"}, {\"showLink\": true, \"linkText\": \"Export to plot.ly\"})});</script>"
      ],
      "text/vnd.plotly.v1+html": [
       "<div id=\"2471455f-f689-4f1e-9c4d-65177a740df1\" style=\"height: 525px; width: 100%;\" class=\"plotly-graph-div\"></div><script type=\"text/javascript\">require([\"plotly\"], function(Plotly) { window.PLOTLYENV=window.PLOTLYENV || {};window.PLOTLYENV.BASE_URL=\"https://plot.ly\";Plotly.newPlot(\"2471455f-f689-4f1e-9c4d-65177a740df1\", [{\"type\": \"bar\", \"x\": [2009, 2010, 2011, 2012, 2013, 2014, 2015, 2016, 2017, 2018], \"y\": [7, 1329, 10519, 26237, 41165, 44851, 67745, 77300, 57184, 52200, 124], \"opacity\": 0.5, \"text\": [7, 1329, 10519, 26237, 41165, 44851, 67745, 77300, 57184, 52200, 124], \"textposition\": \"top\"}], {\"title\": \"Number of projects per year\"}, {\"showLink\": true, \"linkText\": \"Export to plot.ly\"})});</script>"
      ]
     },
     "metadata": {},
     "output_type": "display_data"
    }
   ],
   "source": [
    "data = [go.Bar(\n",
    "    x = list(range(2009,2019)),\n",
    "    y = (kickstart_data['year']).value_counts().sort_index(),\n",
    "    opacity = 0.5,\n",
    "    text = (kickstart_data['year']).value_counts().sort_index(),\n",
    "    textposition = 'top'\n",
    ")]\n",
    "\n",
    "layout = go.Layout(\n",
    "    title='Number of projects per year',\n",
    ")\n",
    "\n",
    "fig = go.Figure(data=data, layout=layout)\n",
    "py.offline.iplot(fig, filename='cufflinks/simple')"
   ]
  },
  {
   "cell_type": "code",
   "execution_count": 10,
   "metadata": {},
   "outputs": [
    {
     "data": {
      "application/vnd.plotly.v1+json": {
       "data": [
        {
         "marker": {
          "color": "rgb(0,255,0)",
          "line": {
           "color": "rgb(8,48,107)",
           "width": 1.5
          }
         },
         "opacity": 0.5,
         "text": [
          7,
          1329,
          10519,
          26237,
          41165,
          44851,
          67745,
          77300,
          57184,
          52200,
          124
         ],
         "textposition": "top",
         "type": "bar",
         "x": [
          2009,
          2010,
          2011,
          2012,
          2013,
          2014,
          2015,
          2016,
          2017,
          2018
         ],
         "y": [
          0,
          2141.084356659142,
          2800.4822673257927,
          3954.4381510843373,
          7833.156323332941,
          10669.566476778698,
          7744.49558653778,
          8894.54946093142,
          11488.352414836298,
          11954.014957088124,
          509.8612096774194
         ]
        }
       ],
       "layout": {
        "title": "Revenue per year"
       }
      },
      "text/html": [
       "<div id=\"e2775ef1-4fc9-42e0-95c1-f59cf19b6270\" style=\"height: 525px; width: 100%;\" class=\"plotly-graph-div\"></div><script type=\"text/javascript\">require([\"plotly\"], function(Plotly) { window.PLOTLYENV=window.PLOTLYENV || {};window.PLOTLYENV.BASE_URL=\"https://plot.ly\";Plotly.newPlot(\"e2775ef1-4fc9-42e0-95c1-f59cf19b6270\", [{\"type\": \"bar\", \"x\": [2009, 2010, 2011, 2012, 2013, 2014, 2015, 2016, 2017, 2018], \"y\": [0.0, 2141.084356659142, 2800.4822673257927, 3954.4381510843373, 7833.156323332941, 10669.566476778698, 7744.49558653778, 8894.54946093142, 11488.352414836298, 11954.014957088124, 509.8612096774194], \"opacity\": 0.5, \"text\": [7, 1329, 10519, 26237, 41165, 44851, 67745, 77300, 57184, 52200, 124], \"textposition\": \"top\", \"marker\": {\"color\": \"rgb(0,255,0)\", \"line\": {\"color\": \"rgb(8,48,107)\", \"width\": 1.5}}}], {\"title\": \"Revenue per year\"}, {\"showLink\": true, \"linkText\": \"Export to plot.ly\"})});</script>"
      ],
      "text/vnd.plotly.v1+html": [
       "<div id=\"e2775ef1-4fc9-42e0-95c1-f59cf19b6270\" style=\"height: 525px; width: 100%;\" class=\"plotly-graph-div\"></div><script type=\"text/javascript\">require([\"plotly\"], function(Plotly) { window.PLOTLYENV=window.PLOTLYENV || {};window.PLOTLYENV.BASE_URL=\"https://plot.ly\";Plotly.newPlot(\"e2775ef1-4fc9-42e0-95c1-f59cf19b6270\", [{\"type\": \"bar\", \"x\": [2009, 2010, 2011, 2012, 2013, 2014, 2015, 2016, 2017, 2018], \"y\": [0.0, 2141.084356659142, 2800.4822673257927, 3954.4381510843373, 7833.156323332941, 10669.566476778698, 7744.49558653778, 8894.54946093142, 11488.352414836298, 11954.014957088124, 509.8612096774194], \"opacity\": 0.5, \"text\": [7, 1329, 10519, 26237, 41165, 44851, 67745, 77300, 57184, 52200, 124], \"textposition\": \"top\", \"marker\": {\"color\": \"rgb(0,255,0)\", \"line\": {\"color\": \"rgb(8,48,107)\", \"width\": 1.5}}}], {\"title\": \"Revenue per year\"}, {\"showLink\": true, \"linkText\": \"Export to plot.ly\"})});</script>"
      ]
     },
     "metadata": {},
     "output_type": "display_data"
    }
   ],
   "source": [
    "data = [go.Bar(\n",
    "    x = list(range(2009,2019)),\n",
    "    y = (kickstart_data.groupby('year')[['pledged']].sum()).pledged/ (kickstart_data['year']).value_counts().sort_index(),\n",
    "    opacity = 0.5,\n",
    "    text = (kickstart_data['year']).value_counts().sort_index(),\n",
    "    textposition = 'top',\n",
    "    marker=dict(\n",
    "        color='rgb(0,255,0)',\n",
    "        line=dict(\n",
    "            color='rgb(8,48,107)',\n",
    "            width=1.5),\n",
    "        ),\n",
    ")]\n",
    "\n",
    "layout = go.Layout(\n",
    "    title='Revenue per year',\n",
    ")\n",
    "\n",
    "fig = go.Figure(data=data, layout=layout)\n",
    "py.offline.iplot(fig, filename='cufflinks/simple')"
   ]
  },
  {
   "cell_type": "code",
   "execution_count": 11,
   "metadata": {},
   "outputs": [
    {
     "data": {
      "application/vnd.plotly.v1+json": {
       "data": [
        {
         "marker": {
          "color": "rgb(0,255,0)",
          "line": {
           "color": "rgb(8,48,107)",
           "width": 1.5
          }
         },
         "opacity": 0.5,
         "text": [
          7,
          1329,
          10519,
          26237,
          41165,
          44851,
          67745,
          77300,
          57184,
          52200,
          124
         ],
         "textposition": "top",
         "type": "bar",
         "x": [
          2009,
          2010,
          2011,
          2012,
          2013,
          2014,
          2015,
          2016,
          2017,
          2018
         ],
         "y": [
          0,
          2141.084356659142,
          2800.4822673257927,
          3954.4381510843373,
          7833.156323332941,
          10669.566476778698,
          7744.49558653778,
          8894.54946093142,
          11488.352414836298,
          11954.014957088124,
          509.8612096774194
         ]
        }
       ],
       "layout": {
        "title": "Average pledge per project"
       }
      },
      "text/html": [
       "<div id=\"c9ea7b09-06d1-4b08-be2c-e77fc1d27945\" style=\"height: 525px; width: 100%;\" class=\"plotly-graph-div\"></div><script type=\"text/javascript\">require([\"plotly\"], function(Plotly) { window.PLOTLYENV=window.PLOTLYENV || {};window.PLOTLYENV.BASE_URL=\"https://plot.ly\";Plotly.newPlot(\"c9ea7b09-06d1-4b08-be2c-e77fc1d27945\", [{\"type\": \"bar\", \"x\": [2009, 2010, 2011, 2012, 2013, 2014, 2015, 2016, 2017, 2018], \"y\": [0.0, 2141.084356659142, 2800.4822673257927, 3954.4381510843373, 7833.156323332941, 10669.566476778698, 7744.49558653778, 8894.54946093142, 11488.352414836298, 11954.014957088124, 509.8612096774194], \"opacity\": 0.5, \"text\": [7, 1329, 10519, 26237, 41165, 44851, 67745, 77300, 57184, 52200, 124], \"textposition\": \"top\", \"marker\": {\"color\": \"rgb(0,255,0)\", \"line\": {\"color\": \"rgb(8,48,107)\", \"width\": 1.5}}}], {\"title\": \"Average pledge per project\"}, {\"showLink\": true, \"linkText\": \"Export to plot.ly\"})});</script>"
      ],
      "text/vnd.plotly.v1+html": [
       "<div id=\"c9ea7b09-06d1-4b08-be2c-e77fc1d27945\" style=\"height: 525px; width: 100%;\" class=\"plotly-graph-div\"></div><script type=\"text/javascript\">require([\"plotly\"], function(Plotly) { window.PLOTLYENV=window.PLOTLYENV || {};window.PLOTLYENV.BASE_URL=\"https://plot.ly\";Plotly.newPlot(\"c9ea7b09-06d1-4b08-be2c-e77fc1d27945\", [{\"type\": \"bar\", \"x\": [2009, 2010, 2011, 2012, 2013, 2014, 2015, 2016, 2017, 2018], \"y\": [0.0, 2141.084356659142, 2800.4822673257927, 3954.4381510843373, 7833.156323332941, 10669.566476778698, 7744.49558653778, 8894.54946093142, 11488.352414836298, 11954.014957088124, 509.8612096774194], \"opacity\": 0.5, \"text\": [7, 1329, 10519, 26237, 41165, 44851, 67745, 77300, 57184, 52200, 124], \"textposition\": \"top\", \"marker\": {\"color\": \"rgb(0,255,0)\", \"line\": {\"color\": \"rgb(8,48,107)\", \"width\": 1.5}}}], {\"title\": \"Average pledge per project\"}, {\"showLink\": true, \"linkText\": \"Export to plot.ly\"})});</script>"
      ]
     },
     "metadata": {},
     "output_type": "display_data"
    }
   ],
   "source": [
    "data = [go.Bar(\n",
    "    x = list(range(2009,2019)),\n",
    "    y = (kickstart_data.groupby('year')[['pledged']].sum()).pledged/ (kickstart_data['year']).value_counts().sort_index(),\n",
    "    opacity = 0.5,\n",
    "    text = (kickstart_data['year']).value_counts().sort_index(),\n",
    "    textposition = 'top',\n",
    "    marker=dict(\n",
    "        color='rgb(0,255,0)',\n",
    "        line=dict(\n",
    "            color='rgb(8,48,107)',\n",
    "            width=1.5),\n",
    "        ),\n",
    ")]\n",
    "\n",
    "layout = go.Layout(\n",
    "    title='Average pledge per project',\n",
    ")\n",
    "\n",
    "fig = go.Figure(data=data, layout=layout)\n",
    "py.offline.iplot(fig, filename='cufflinks/simple')"
   ]
  },
  {
   "cell_type": "code",
   "execution_count": 12,
   "metadata": {},
   "outputs": [
    {
     "data": {
      "image/png": "[encoded data removed]",
      "text/plain": [
       "<Figure size 1440x360 with 2 Axes>"
      ]
     },
     "metadata": {},
     "output_type": "display_data"
    }
   ],
   "source": [
    "# Plot all of variables, and try to identify outliers# Plot  \n",
    "plt.rcParams['figure.figsize'] = [20,5]\n",
    "\n",
    "plt.subplot(1,2,1)\n",
    "plt.title('Goal')\n",
    "plt.xticks(rotation=60)\n",
    "ax = sns.boxplot(x=\"category\", y=\"goal\", data=kickstart_data)\n",
    "\n",
    "plt.subplot(1,2,2)\n",
    "plt.title('Duration')\n",
    "plt.xticks(rotation=60)\n",
    "ax = sns.boxplot(x=\"category\", y=\"duration\", data=kickstart_data)"
   ]
  },
  {
   "cell_type": "markdown",
   "metadata": {},
   "source": [
    "So, based on the distribution of our data, it appears as though we have some work to do before making use of them before modelling. We have far too many outliers, but the variables seem to require different optimizations. The issue with the goal amount is that practically all categories contain projects where a significant number of projects set goals above the 75th percentile. The duration column looks a little suspicious, as we only have a few outliers to consider. Let's take a closer look to see what the data shows us. "
   ]
  },
  {
   "cell_type": "code",
   "execution_count": 14,
   "metadata": {},
   "outputs": [
    {
     "data": {
      "text/html": [
       "<div>\n",
       "<style scoped>\n",
       "    .dataframe tbody tr th:only-of-type {\n",
       "        vertical-align: middle;\n",
       "    }\n",
       "\n",
       "    .dataframe tbody tr th {\n",
       "        vertical-align: top;\n",
       "    }\n",
       "\n",
       "    .dataframe thead th {\n",
       "        text-align: right;\n",
       "    }\n",
       "</style>\n",
       "<table border=\"1\" class=\"dataframe\">\n",
       "  <thead>\n",
       "    <tr style=\"text-align: right;\">\n",
       "      <th></th>\n",
       "      <th>category</th>\n",
       "      <th>currency</th>\n",
       "      <th>state</th>\n",
       "      <th>backers</th>\n",
       "      <th>pledged</th>\n",
       "      <th>goal</th>\n",
       "      <th>duration</th>\n",
       "      <th>year</th>\n",
       "      <th>launch_month</th>\n",
       "      <th>deadline_month</th>\n",
       "      <th>day</th>\n",
       "      <th>name_length</th>\n",
       "    </tr>\n",
       "  </thead>\n",
       "  <tbody>\n",
       "    <tr>\n",
       "      <th>319002</th>\n",
       "      <td>Publishing</td>\n",
       "      <td>CHF</td>\n",
       "      <td>suspended</td>\n",
       "      <td>0</td>\n",
       "      <td>0.0</td>\n",
       "      <td>1905.97</td>\n",
       "      <td>16739</td>\n",
       "      <td>1970</td>\n",
       "      <td>1</td>\n",
       "      <td>10</td>\n",
       "      <td>1</td>\n",
       "      <td>4.0</td>\n",
       "    </tr>\n",
       "    <tr>\n",
       "      <th>2842</th>\n",
       "      <td>Film &amp; Video</td>\n",
       "      <td>USD</td>\n",
       "      <td>canceled</td>\n",
       "      <td>0</td>\n",
       "      <td>0.0</td>\n",
       "      <td>5000.00</td>\n",
       "      <td>14867</td>\n",
       "      <td>1970</td>\n",
       "      <td>1</td>\n",
       "      <td>9</td>\n",
       "      <td>1</td>\n",
       "      <td>9.0</td>\n",
       "    </tr>\n",
       "    <tr>\n",
       "      <th>48147</th>\n",
       "      <td>Art</td>\n",
       "      <td>USD</td>\n",
       "      <td>canceled</td>\n",
       "      <td>0</td>\n",
       "      <td>0.0</td>\n",
       "      <td>15000.00</td>\n",
       "      <td>14835</td>\n",
       "      <td>1970</td>\n",
       "      <td>1</td>\n",
       "      <td>8</td>\n",
       "      <td>1</td>\n",
       "      <td>8.0</td>\n",
       "    </tr>\n",
       "    <tr>\n",
       "      <th>94579</th>\n",
       "      <td>Theater</td>\n",
       "      <td>USD</td>\n",
       "      <td>canceled</td>\n",
       "      <td>0</td>\n",
       "      <td>0.0</td>\n",
       "      <td>4000.00</td>\n",
       "      <td>14761</td>\n",
       "      <td>1970</td>\n",
       "      <td>1</td>\n",
       "      <td>6</td>\n",
       "      <td>1</td>\n",
       "      <td>9.0</td>\n",
       "    </tr>\n",
       "    <tr>\n",
       "      <th>75397</th>\n",
       "      <td>Film &amp; Video</td>\n",
       "      <td>USD</td>\n",
       "      <td>canceled</td>\n",
       "      <td>0</td>\n",
       "      <td>0.0</td>\n",
       "      <td>700.00</td>\n",
       "      <td>14750</td>\n",
       "      <td>1970</td>\n",
       "      <td>1</td>\n",
       "      <td>5</td>\n",
       "      <td>1</td>\n",
       "      <td>3.0</td>\n",
       "    </tr>\n",
       "    <tr>\n",
       "      <th>247913</th>\n",
       "      <td>Music</td>\n",
       "      <td>USD</td>\n",
       "      <td>canceled</td>\n",
       "      <td>0</td>\n",
       "      <td>0.0</td>\n",
       "      <td>10000.00</td>\n",
       "      <td>14733</td>\n",
       "      <td>1970</td>\n",
       "      <td>1</td>\n",
       "      <td>5</td>\n",
       "      <td>1</td>\n",
       "      <td>16.0</td>\n",
       "    </tr>\n",
       "    <tr>\n",
       "      <th>273779</th>\n",
       "      <td>Design</td>\n",
       "      <td>USD</td>\n",
       "      <td>canceled</td>\n",
       "      <td>0</td>\n",
       "      <td>0.0</td>\n",
       "      <td>500.00</td>\n",
       "      <td>14709</td>\n",
       "      <td>1970</td>\n",
       "      <td>1</td>\n",
       "      <td>4</td>\n",
       "      <td>1</td>\n",
       "      <td>4.0</td>\n",
       "    </tr>\n",
       "    <tr>\n",
       "      <th>200310</th>\n",
       "      <td>Film &amp; Video</td>\n",
       "      <td>USD</td>\n",
       "      <td>failed</td>\n",
       "      <td>0</td>\n",
       "      <td>0.0</td>\n",
       "      <td>250000.00</td>\n",
       "      <td>92</td>\n",
       "      <td>2011</td>\n",
       "      <td>1</td>\n",
       "      <td>4</td>\n",
       "      <td>2</td>\n",
       "      <td>3.0</td>\n",
       "    </tr>\n",
       "    <tr>\n",
       "      <th>38476</th>\n",
       "      <td>Technology</td>\n",
       "      <td>USD</td>\n",
       "      <td>failed</td>\n",
       "      <td>1</td>\n",
       "      <td>100.0</td>\n",
       "      <td>65000.00</td>\n",
       "      <td>92</td>\n",
       "      <td>2011</td>\n",
       "      <td>3</td>\n",
       "      <td>6</td>\n",
       "      <td>15</td>\n",
       "      <td>4.0</td>\n",
       "    </tr>\n",
       "    <tr>\n",
       "      <th>305126</th>\n",
       "      <td>Film &amp; Video</td>\n",
       "      <td>USD</td>\n",
       "      <td>failed</td>\n",
       "      <td>4</td>\n",
       "      <td>1530.0</td>\n",
       "      <td>20000.00</td>\n",
       "      <td>92</td>\n",
       "      <td>2011</td>\n",
       "      <td>1</td>\n",
       "      <td>4</td>\n",
       "      <td>2</td>\n",
       "      <td>4.0</td>\n",
       "    </tr>\n",
       "  </tbody>\n",
       "</table>\n",
       "</div>"
      ],
      "text/plain": [
       "            category currency      state  backers  pledged       goal  \\\n",
       "319002    Publishing      CHF  suspended        0      0.0    1905.97   \n",
       "2842    Film & Video      USD   canceled        0      0.0    5000.00   \n",
       "48147            Art      USD   canceled        0      0.0   15000.00   \n",
       "94579        Theater      USD   canceled        0      0.0    4000.00   \n",
       "75397   Film & Video      USD   canceled        0      0.0     700.00   \n",
       "247913         Music      USD   canceled        0      0.0   10000.00   \n",
       "273779        Design      USD   canceled        0      0.0     500.00   \n",
       "200310  Film & Video      USD     failed        0      0.0  250000.00   \n",
       "38476     Technology      USD     failed        1    100.0   65000.00   \n",
       "305126  Film & Video      USD     failed        4   1530.0   20000.00   \n",
       "\n",
       "        duration  year  launch_month  deadline_month  day  name_length  \n",
       "319002     16739  1970             1              10    1          4.0  \n",
       "2842       14867  1970             1               9    1          9.0  \n",
       "48147      14835  1970             1               8    1          8.0  \n",
       "94579      14761  1970             1               6    1          9.0  \n",
       "75397      14750  1970             1               5    1          3.0  \n",
       "247913     14733  1970             1               5    1         16.0  \n",
       "273779     14709  1970             1               4    1          4.0  \n",
       "200310        92  2011             1               4    2          3.0  \n",
       "38476         92  2011             3               6   15          4.0  \n",
       "305126        92  2011             1               4    2          4.0  "
      ]
     },
     "execution_count": 14,
     "metadata": {},
     "output_type": "execute_result"
    }
   ],
   "source": [
    "# Order by duration\n",
    "kickstart_data.sort_values('duration', ascending = False).head(10)"
   ]
  },
  {
   "cell_type": "markdown",
   "metadata": {},
   "source": [
    "As we had expected earlier, it seems as though out of 370,000+ projects, only 7 of them seem to have a suspiciously long duration at well over 10,000 days. The rest of the projects in this dataset last no more than 92 days. It seems as though the reason for this difference is because they have a start date with the year, 1970. Kickstarter was launched in 2009, so this is clearly an error. Since this is an extremely small subset of rows from our dataframe, we can safely remove these rows from the dataset before proceeding."
   ]
  },
  {
   "cell_type": "code",
   "execution_count": 15,
   "metadata": {},
   "outputs": [],
   "source": [
    "# Drop our 7 outliers from the dataset based on duration\n",
    "kickstart_data.drop(kickstart_data.sort_values('duration', ascending = False).head(7).index, axis=0, inplace = True)"
   ]
  },
  {
   "cell_type": "code",
   "execution_count": 16,
   "metadata": {},
   "outputs": [],
   "source": [
    "# Applying log transformations to 'goal' column\n",
    "kickstart_data['goal'] = np.log(kickstart_data['goal'] + 1)"
   ]
  },
  {
   "cell_type": "code",
   "execution_count": 17,
   "metadata": {},
   "outputs": [],
   "source": [
    "# fig = tools.make_subplots(rows=1, cols=2, subplot_titles=('Goal', 'Duration'))\n",
    "\n",
    "# trace1 = go.Box(\n",
    "#     x=kickstart_data[\"category\"],\n",
    "#     y=kickstart_data[\"goal\"],\n",
    "#     text='# of backers'\n",
    "# )\n",
    "\n",
    "# trace2 = go.Box(\n",
    "#     x=kickstart_data[\"category\"],\n",
    "#     y=kickstart_data[\"duration\"],\n",
    "#     text='Amount pledged (in $)'\n",
    "# )\n",
    "\n",
    "# layout = {'xaxis': {'showgrid':False,'zeroline':False, 'tickangle':60,'showticklabels':False},\n",
    "#           'yaxis': {'zeroline':False,'gridcolor':'white'},\n",
    "#           'paper_bgcolor': 'rgb(233,233,233)',\n",
    "#           'plot_bgcolor': 'rgb(233,233,233)',\n",
    "#           }\n",
    "\n",
    "# fig.append_trace(trace1, 1, 1)\n",
    "# fig.append_trace(trace2, 1, 2)\n",
    "\n",
    "# fig['layout'].update(height=500, width=1000)\n",
    "# py.offline.iplot(fig, filename='simple-subplot-with-annotations')"
   ]
  },
  {
   "cell_type": "markdown",
   "metadata": {},
   "source": [
    "So after removing our outliers from the 'duration' column, and applying a log transformation to the 'backers', 'pledged', and 'goal' columns, we can see a somewhat normal distribution."
   ]
  },
  {
   "cell_type": "code",
   "execution_count": 18,
   "metadata": {},
   "outputs": [
    {
     "data": {
      "image/png": "[encoded data removed]",
      "text/plain": [
       "<Figure size 360x360 with 2 Axes>"
      ]
     },
     "metadata": {},
     "output_type": "display_data"
    }
   ],
   "source": [
    "# Creates a correlation matrix among the predictor variables\n",
    "plt.rcParams['figure.figsize'] = [5,5]\n",
    "\n",
    "correlation_martix = kickstart_data.corr()\n",
    "sns.heatmap(correlation_martix, vmax = 1, square = True)\n",
    "plt.show()"
   ]
  },
  {
   "cell_type": "markdown",
   "metadata": {},
   "source": [
    "There appears to be a very high degree of similarity between the number of backers, and total monetary amount contributed. This makes sense if we assume that each backer donates roughly the same amount, leading to two columns that have quite a lot in common. We can try removing one or the other later if we need to determine which of these factors is more important than the other. For now, we'll use both predictors in our model."
   ]
  },
  {
   "cell_type": "code",
   "execution_count": 19,
   "metadata": {},
   "outputs": [],
   "source": [
    "# Drop backers and pledged from the dataset since they are dependent variables\n",
    "kickstart_data.drop(['backers', 'pledged'], 1, inplace=True)"
   ]
  },
  {
   "cell_type": "code",
   "execution_count": 20,
   "metadata": {},
   "outputs": [
    {
     "data": {
      "application/vnd.plotly.v1+json": {
       "data": [
        {
         "labels": [
          "Film & Video",
          "Music",
          "Publishing",
          "Games",
          "Technology",
          "Design",
          "Art",
          "Food",
          "Fashion",
          "Theater",
          "Comics",
          "Photography",
          "Crafts",
          "Journalism",
          "Dance"
         ],
         "type": "pie",
         "values": [
          63583,
          51917,
          39873,
          35231,
          32569,
          30069,
          28152,
          24602,
          22816,
          10912,
          10819,
          10779,
          8809,
          4755,
          3768
         ]
        }
       ],
       "layout": {
        "autosize": false,
        "height": 600,
        "title": "Kickstarter Projects by Category",
        "width": 800
       }
      },
      "text/html": [
       "<div id=\"eb3513ef-dae2-4156-8758-cbc3b320f1d7\" style=\"height: 600px; width: 800px;\" class=\"plotly-graph-div\"></div><script type=\"text/javascript\">require([\"plotly\"], function(Plotly) { window.PLOTLYENV=window.PLOTLYENV || {};window.PLOTLYENV.BASE_URL=\"https://plot.ly\";Plotly.newPlot(\"eb3513ef-dae2-4156-8758-cbc3b320f1d7\", [{\"type\": \"pie\", \"labels\": [\"Film & Video\", \"Music\", \"Publishing\", \"Games\", \"Technology\", \"Design\", \"Art\", \"Food\", \"Fashion\", \"Theater\", \"Comics\", \"Photography\", \"Crafts\", \"Journalism\", \"Dance\"], \"values\": [63583, 51917, 39873, 35231, 32569, 30069, 28152, 24602, 22816, 10912, 10819, 10779, 8809, 4755, 3768]}], {\"title\": \"Kickstarter Projects by Category\", \"height\": 600, \"width\": 800, \"autosize\": false}, {\"showLink\": true, \"linkText\": \"Export to plot.ly\"})});</script>"
      ],
      "text/vnd.plotly.v1+html": [
       "<div id=\"eb3513ef-dae2-4156-8758-cbc3b320f1d7\" style=\"height: 600px; width: 800px;\" class=\"plotly-graph-div\"></div><script type=\"text/javascript\">require([\"plotly\"], function(Plotly) { window.PLOTLYENV=window.PLOTLYENV || {};window.PLOTLYENV.BASE_URL=\"https://plot.ly\";Plotly.newPlot(\"eb3513ef-dae2-4156-8758-cbc3b320f1d7\", [{\"type\": \"pie\", \"labels\": [\"Film & Video\", \"Music\", \"Publishing\", \"Games\", \"Technology\", \"Design\", \"Art\", \"Food\", \"Fashion\", \"Theater\", \"Comics\", \"Photography\", \"Crafts\", \"Journalism\", \"Dance\"], \"values\": [63583, 51917, 39873, 35231, 32569, 30069, 28152, 24602, 22816, 10912, 10819, 10779, 8809, 4755, 3768]}], {\"title\": \"Kickstarter Projects by Category\", \"height\": 600, \"width\": 800, \"autosize\": false}, {\"showLink\": true, \"linkText\": \"Export to plot.ly\"})});</script>"
      ]
     },
     "metadata": {},
     "output_type": "display_data"
    }
   ],
   "source": [
    "# Pass in values for our pie chart\n",
    "trace = go.Pie(labels=kickstart_data['category'].value_counts().index, values = kickstart_data['category'].value_counts())\n",
    "\n",
    "# Create the layout\n",
    "layout = go.Layout(\n",
    "    title = 'Kickstarter Projects by Category',\n",
    "    height = 600,\n",
    "    width = 800,\n",
    "    autosize = False\n",
    ")\n",
    "\n",
    "# Construct the chart\n",
    "fig = go.Figure(data = [trace], layout = layout)\n",
    "py.offline.iplot(fig, filename ='cufflinks/simple')"
   ]
  },
  {
   "cell_type": "markdown",
   "metadata": {},
   "source": [
    "Kickstarter divides their main categories into 14 distinct groups of unequal size. Publishing, at 16.8% (63,000 projects), is the largest category in the dataset, while journalism is a little under 1% (3768 projects). While the distribution is unfortunately unbalanced, that is the data that we have, and we still have plenty of observations for each category to work with."
   ]
  },
  {
   "cell_type": "code",
   "execution_count": 21,
   "metadata": {},
   "outputs": [
    {
     "data": {
      "application/vnd.plotly.v1+json": {
       "data": [
        {
         "hoverinfo": "none",
         "marker": {
          "color": [
           "rgba(205,45,45,1)",
           "rgba(45,205,45,1)rgba(205,45,45,1)",
           "rgba(204,204,204,1)",
           "rgba(204,204,204,1)",
           "rgba(204,204,204,1)"
          ]
         },
         "orientation": "h",
         "text": [
          197719,
          133956,
          38773,
          3562,
          2799,
          1845
         ],
         "textposition": "auto",
         "type": "bar",
         "x": [
          197719,
          133956,
          38773,
          3562,
          2799,
          1845
         ],
         "y": [
          "failed",
          "successful",
          "canceled",
          "undefined",
          "live",
          "suspended"
         ]
        }
       ],
       "layout": {
        "title": "Revenue per year"
       }
      },
      "text/html": [
       "<div id=\"71b7d194-5d12-4714-a7cb-2a6ba4a79b7d\" style=\"height: 525px; width: 100%;\" class=\"plotly-graph-div\"></div><script type=\"text/javascript\">require([\"plotly\"], function(Plotly) { window.PLOTLYENV=window.PLOTLYENV || {};window.PLOTLYENV.BASE_URL=\"https://plot.ly\";Plotly.newPlot(\"71b7d194-5d12-4714-a7cb-2a6ba4a79b7d\", [{\"type\": \"bar\", \"x\": [197719, 133956, 38773, 3562, 2799, 1845], \"y\": [\"failed\", \"successful\", \"canceled\", \"undefined\", \"live\", \"suspended\"], \"text\": [197719, 133956, 38773, 3562, 2799, 1845], \"textposition\": \"auto\", \"orientation\": \"h\", \"hoverinfo\": \"none\", \"marker\": {\"color\": [\"rgba(205,45,45,1)\", \"rgba(45,205,45,1)rgba(205,45,45,1)\", \"rgba(204,204,204,1)\", \"rgba(204,204,204,1)\", \"rgba(204,204,204,1)\"]}}], {\"title\": \"Revenue per year\"}, {\"showLink\": true, \"linkText\": \"Export to plot.ly\"})});</script>"
      ],
      "text/vnd.plotly.v1+html": [
       "<div id=\"71b7d194-5d12-4714-a7cb-2a6ba4a79b7d\" style=\"height: 525px; width: 100%;\" class=\"plotly-graph-div\"></div><script type=\"text/javascript\">require([\"plotly\"], function(Plotly) { window.PLOTLYENV=window.PLOTLYENV || {};window.PLOTLYENV.BASE_URL=\"https://plot.ly\";Plotly.newPlot(\"71b7d194-5d12-4714-a7cb-2a6ba4a79b7d\", [{\"type\": \"bar\", \"x\": [197719, 133956, 38773, 3562, 2799, 1845], \"y\": [\"failed\", \"successful\", \"canceled\", \"undefined\", \"live\", \"suspended\"], \"text\": [197719, 133956, 38773, 3562, 2799, 1845], \"textposition\": \"auto\", \"orientation\": \"h\", \"hoverinfo\": \"none\", \"marker\": {\"color\": [\"rgba(205,45,45,1)\", \"rgba(45,205,45,1)rgba(205,45,45,1)\", \"rgba(204,204,204,1)\", \"rgba(204,204,204,1)\", \"rgba(204,204,204,1)\"]}}], {\"title\": \"Revenue per year\"}, {\"showLink\": true, \"linkText\": \"Export to plot.ly\"})});</script>"
      ]
     },
     "metadata": {},
     "output_type": "display_data"
    }
   ],
   "source": [
    "data = [go.Bar(\n",
    "    x = kickstart_data['state'].value_counts(),\n",
    "    y = kickstart_data['state'].value_counts().index,\n",
    "    text = kickstart_data['state'].value_counts(),\n",
    "    textposition = 'auto',\n",
    "    orientation = 'h',\n",
    "    hoverinfo='none',\n",
    "    marker=dict(\n",
    "        color=['rgba(205,45,45,1)', 'rgba(45,205,45,1)'\n",
    "               'rgba(205,45,45,1)', 'rgba(204,204,204,1)',\n",
    "               'rgba(204,204,204,1)', 'rgba(204,204,204,1)'])\n",
    ")]\n",
    "\n",
    "layout = go.Layout(\n",
    "    title='Revenue per year',\n",
    ")\n",
    "\n",
    "fig = go.Figure(data=data, layout=layout)\n",
    "py.offline.iplot(fig, filename ='cufflinks/simple')"
   ]
  },
  {
   "cell_type": "markdown",
   "metadata": {},
   "source": [
    "So in this dataset, the six possible states for a project are suspended, live, undefined, canceled, successful, and failed. The first three states have very few values, relative to what we really want to know - if a project succeeds or fails. In addition, if we do want to utilize these three columns, we would need to look at the following factors.\n",
    "1. A follow up to investigate the reason for a project to be suspended\n",
    "2. Live projects can fall into either category - success or failure\n",
    "3. Undefined is a result that we can't interpret or use.\n",
    "\n",
    "Success and failure are easy to define, and can be recoded as 1 and 0 so that we can predict the outcome as an easily modelable binary variable. Cancellation is generally caused by the inability to meet a project's demands for a multitude of reasons leading to lack of funding, planning, or budgeting.. It would simplify the following models to treat cancellation the same as failure, 0."
   ]
  },
  {
   "cell_type": "code",
   "execution_count": 22,
   "metadata": {},
   "outputs": [],
   "source": [
    "# Remove 'suspended', 'live', and 'undefined' states from the dataset\n",
    "kickstart_data = kickstart_data[kickstart_data.state != ('suspended', 'live', 'undefined')]\n",
    "\n",
    "# Consolidate 'canceled' and 'failed' into one category\n",
    "kickstart_data['state'] = np.where(kickstart_data.state == 'successful', 1, 0)\n",
    "success_rate = kickstart_data['state']"
   ]
  },
  {
   "cell_type": "code",
   "execution_count": 23,
   "metadata": {},
   "outputs": [
    {
     "data": {
      "text/plain": [
       "(-1.1154681955525665,\n",
       " 1.1143348565040996,\n",
       " -1.1132377615610414,\n",
       " 1.117099503783597)"
      ]
     },
     "execution_count": 23,
     "metadata": {},
     "output_type": "execute_result"
    },
    {
     "data": {
      "image/png": "[encoded data removed]",
      "text/plain": [
       "<Figure size 360x360 with 1 Axes>"
      ]
     },
     "metadata": {},
     "output_type": "display_data"
    }
   ],
   "source": [
    "# Constructs a pie chart displaying our final successful and unsuccessful values\n",
    "plt.pie(np.bincount(success_rate), labels=['unsuccessful', 'successful'],\n",
    "        autopct='%1.1f%%', shadow=True, startangle=140)\n",
    "plt.axis('equal')"
   ]
  },
  {
   "cell_type": "markdown",
   "metadata": {},
   "source": [
    "After removing 3 of the project states, and combining cancelled and failed into 1 state, we end up with 35.4% projects succeeding, and 67.6% failing. The outcome is a bit unbalanced, so it will be necessary to keep in mind that there will most likely be some bias in the predictive variables towards unsuccessful projects."
   ]
  },
  {
   "cell_type": "code",
   "execution_count": 24,
   "metadata": {},
   "outputs": [],
   "source": [
    "plt.rcParams['figure.figsize'] = [15,5]\n",
    "\n",
    "def percent_extraction (feature):\n",
    "    # Finds percentages of all values in a category\n",
    "    container = kickstart_data.groupby([feature, 'state'])[feature].count().unstack('state')\n",
    "    totals = kickstart_data.groupby([feature])['state'].count()\n",
    "    container = container.div(totals, axis = 0)\n",
    "    \n",
    "    # Plots the bar chart\n",
    "    container.columns = ['unsuccessful', 'successful']\n",
    "    container.plot(kind='bar', stacked=True)\n",
    "    plt.title('Kickstarter success by {}'.format(feature))\n",
    "    plt.axhline(y=0.646, color='r', ls='--')\n",
    "    plt.legend(bbox_to_anchor=(1, 1), loc=2, borderaxespad=0.)\n",
    "    plt.show()"
   ]
  },
  {
   "cell_type": "code",
   "execution_count": 25,
   "metadata": {},
   "outputs": [
    {
     "data": {
      "image/png": "[encoded data removed]",
      "text/plain": [
       "<Figure size 1080x360 with 1 Axes>"
      ]
     },
     "metadata": {},
     "output_type": "display_data"
    },
    {
     "data": {
      "image/png": "[encoded data removed]",
      "text/plain": [
       "<Figure size 1080x360 with 1 Axes>"
      ]
     },
     "metadata": {},
     "output_type": "display_data"
    },
    {
     "data": {
      "image/png": "[encoded data removed]",
      "text/plain": [
       "<Figure size 1080x360 with 1 Axes>"
      ]
     },
     "metadata": {},
     "output_type": "display_data"
    },
    {
     "data": {
      "image/png": "[encoded data removed]",
      "text/plain": [
       "<Figure size 1080x360 with 1 Axes>"
      ]
     },
     "metadata": {},
     "output_type": "display_data"
    }
   ],
   "source": [
    "# View success rate bu year, launch month, deadline month, and day of month\n",
    "percent_extraction('year')\n",
    "percent_extraction('launch_month')\n",
    "percent_extraction('deadline_month')\n",
    "percent_extraction('day')"
   ]
  },
  {
   "cell_type": "markdown",
   "metadata": {},
   "source": [
    "<div class=\"alert alert-block alert-warning\">\n",
    "The dotted red line above represents the line between success/ failure in the entire dataset.\n",
    "</div>\n",
    "\n",
    "Based on the observations from kickstarter success rates with respect to year, month, and day, we can observe some trends. \n",
    "\n",
    "By examining the success rates with respect to year the first thing that should scream out is that the success rate in 2018 is 0. This should not be very surprising given that the year column has been extracted from the deadline date, and that this dataset terminates in January 2018. It would make sense to remove projects with an end date in 2018 given the limitations of this dataset.\n",
    "\n",
    "What we can see in our month columns is that month doesn't quite have too much of an impact, but it seems as though the worst month to launch is December and worst to end on is January. This is most likely due to the holiday season. If you want every edge you can as a creator, make sure to avoid the season.\n",
    "\n",
    "Once again, not too much variance with the day, but the best time to try appears to be on the 1st."
   ]
  },
  {
   "cell_type": "code",
   "execution_count": 26,
   "metadata": {},
   "outputs": [],
   "source": [
    "# Drop rows where the deadline is in 2018\n",
    "kickstart_data[kickstart_data.year != 2018];"
   ]
  },
  {
   "cell_type": "code",
   "execution_count": 27,
   "metadata": {},
   "outputs": [],
   "source": [
    "# Normalize year column for modelling by changing from 2009 - 2018 to 0 - 9\n",
    "kickstart_data['year'] = kickstart_data['year'] - 2009"
   ]
  },
  {
   "cell_type": "code",
   "execution_count": 28,
   "metadata": {},
   "outputs": [
    {
     "data": {
      "image/png": "[encoded data removed]",
      "text/plain": [
       "<Figure size 1080x360 with 1 Axes>"
      ]
     },
     "metadata": {},
     "output_type": "display_data"
    }
   ],
   "source": [
    "percent_extraction('category')"
   ]
  },
  {
   "cell_type": "markdown",
   "metadata": {},
   "source": [
    "Earlier in the page, we investigated the size of each category in the dataset, and noticed that the groups are not equal, meaning some groups have a higher impact on the average outcome than others. Above, we see that the categories do not mirror the average results with some categories being much more successful than not, such as dance and theater, while certain others don't fare quite as well such as journalism and technology."
   ]
  },
  {
   "cell_type": "code",
   "execution_count": 29,
   "metadata": {},
   "outputs": [
    {
     "data": {
      "text/plain": [
       "currency\n",
       "AUD      7950\n",
       "CAD     14962\n",
       "CHF       767\n",
       "DKK      1129\n",
       "EUR     17405\n",
       "GBP     34132\n",
       "HKD       618\n",
       "JPY        40\n",
       "MXN      1752\n",
       "NOK       722\n",
       "NZD      1475\n",
       "SEK      1788\n",
       "SGD       555\n",
       "USD    295359\n",
       "dtype: int64"
      ]
     },
     "execution_count": 29,
     "metadata": {},
     "output_type": "execute_result"
    }
   ],
   "source": [
    "kickstart_data.groupby(['currency']).size()"
   ]
  },
  {
   "cell_type": "markdown",
   "metadata": {},
   "source": [
    "As an American company and one of the largest countries in the list, it's not too surprising to see that the vast majority of projects are backed by the US dollar. Given the vast difference in population size of the projects, this may not be the most useful category for prediction, but we'll keep it for now and see if it makes it past the feature selection process."
   ]
  },
  {
   "cell_type": "code",
   "execution_count": 30,
   "metadata": {},
   "outputs": [
    {
     "data": {
      "image/png": "[encoded data removed]",
      "text/plain": [
       "<Figure size 1080x360 with 1 Axes>"
      ]
     },
     "metadata": {},
     "output_type": "display_data"
    }
   ],
   "source": [
    "percent_extraction('currency')"
   ]
  },
  {
   "cell_type": "markdown",
   "metadata": {},
   "source": [
    "Well isn't that ... not all that interesting? It seems like only 2 of the currencies have a success rate greater than average, one of which is the US, which heavily skews the result. The success rate is quite a bit lower in the majority of other available currencies, but it hardly has an impact on the average."
   ]
  },
  {
   "cell_type": "code",
   "execution_count": 31,
   "metadata": {},
   "outputs": [],
   "source": [
    "# Create separate dataframe for numerical values\n",
    "numerical = kickstart_data.select_dtypes(exclude=['object'])\n",
    "\n",
    "# Create separate dataframe for categorical values\n",
    "categorical = pd.get_dummies(kickstart_data.select_dtypes(include='object'))\n",
    "\n",
    "# Create the combined dataframe\n",
    "kickstart_data = pd.concat([numerical, categorical], axis=1, sort = False)"
   ]
  },
  {
   "cell_type": "markdown",
   "metadata": {},
   "source": [
    "In order to make use of the categorical variables in the dataset, category and country, they'll first need to be recoded to 1s and 0s so that they can be interpretted."
   ]
  },
  {
   "cell_type": "code",
   "execution_count": 32,
   "metadata": {},
   "outputs": [
    {
     "data": {
      "text/html": [
       "<div>\n",
       "<style scoped>\n",
       "    .dataframe tbody tr th:only-of-type {\n",
       "        vertical-align: middle;\n",
       "    }\n",
       "\n",
       "    .dataframe tbody tr th {\n",
       "        vertical-align: top;\n",
       "    }\n",
       "\n",
       "    .dataframe thead th {\n",
       "        text-align: right;\n",
       "    }\n",
       "</style>\n",
       "<table border=\"1\" class=\"dataframe\">\n",
       "  <thead>\n",
       "    <tr style=\"text-align: right;\">\n",
       "      <th></th>\n",
       "      <th>state</th>\n",
       "      <th>goal</th>\n",
       "      <th>duration</th>\n",
       "      <th>year</th>\n",
       "      <th>launch_month</th>\n",
       "      <th>deadline_month</th>\n",
       "      <th>day</th>\n",
       "      <th>name_length</th>\n",
       "      <th>category_Art</th>\n",
       "      <th>category_Comics</th>\n",
       "      <th>...</th>\n",
       "      <th>currency_EUR</th>\n",
       "      <th>currency_GBP</th>\n",
       "      <th>currency_HKD</th>\n",
       "      <th>currency_JPY</th>\n",
       "      <th>currency_MXN</th>\n",
       "      <th>currency_NOK</th>\n",
       "      <th>currency_NZD</th>\n",
       "      <th>currency_SEK</th>\n",
       "      <th>currency_SGD</th>\n",
       "      <th>currency_USD</th>\n",
       "    </tr>\n",
       "  </thead>\n",
       "  <tbody>\n",
       "    <tr>\n",
       "      <th>0</th>\n",
       "      <td>0</td>\n",
       "      <td>7.336253</td>\n",
       "      <td>59</td>\n",
       "      <td>6</td>\n",
       "      <td>8</td>\n",
       "      <td>10</td>\n",
       "      <td>11</td>\n",
       "      <td>6.0</td>\n",
       "      <td>0</td>\n",
       "      <td>0</td>\n",
       "      <td>...</td>\n",
       "      <td>0</td>\n",
       "      <td>1</td>\n",
       "      <td>0</td>\n",
       "      <td>0</td>\n",
       "      <td>0</td>\n",
       "      <td>0</td>\n",
       "      <td>0</td>\n",
       "      <td>0</td>\n",
       "      <td>0</td>\n",
       "      <td>0</td>\n",
       "    </tr>\n",
       "    <tr>\n",
       "      <th>1</th>\n",
       "      <td>0</td>\n",
       "      <td>10.308986</td>\n",
       "      <td>60</td>\n",
       "      <td>8</td>\n",
       "      <td>9</td>\n",
       "      <td>11</td>\n",
       "      <td>2</td>\n",
       "      <td>8.0</td>\n",
       "      <td>0</td>\n",
       "      <td>0</td>\n",
       "      <td>...</td>\n",
       "      <td>0</td>\n",
       "      <td>0</td>\n",
       "      <td>0</td>\n",
       "      <td>0</td>\n",
       "      <td>0</td>\n",
       "      <td>0</td>\n",
       "      <td>0</td>\n",
       "      <td>0</td>\n",
       "      <td>0</td>\n",
       "      <td>1</td>\n",
       "    </tr>\n",
       "    <tr>\n",
       "      <th>2</th>\n",
       "      <td>0</td>\n",
       "      <td>10.714440</td>\n",
       "      <td>45</td>\n",
       "      <td>4</td>\n",
       "      <td>1</td>\n",
       "      <td>2</td>\n",
       "      <td>12</td>\n",
       "      <td>3.0</td>\n",
       "      <td>0</td>\n",
       "      <td>0</td>\n",
       "      <td>...</td>\n",
       "      <td>0</td>\n",
       "      <td>0</td>\n",
       "      <td>0</td>\n",
       "      <td>0</td>\n",
       "      <td>0</td>\n",
       "      <td>0</td>\n",
       "      <td>0</td>\n",
       "      <td>0</td>\n",
       "      <td>0</td>\n",
       "      <td>1</td>\n",
       "    </tr>\n",
       "    <tr>\n",
       "      <th>3</th>\n",
       "      <td>0</td>\n",
       "      <td>8.517393</td>\n",
       "      <td>30</td>\n",
       "      <td>3</td>\n",
       "      <td>3</td>\n",
       "      <td>4</td>\n",
       "      <td>17</td>\n",
       "      <td>7.0</td>\n",
       "      <td>0</td>\n",
       "      <td>0</td>\n",
       "      <td>...</td>\n",
       "      <td>0</td>\n",
       "      <td>0</td>\n",
       "      <td>0</td>\n",
       "      <td>0</td>\n",
       "      <td>0</td>\n",
       "      <td>0</td>\n",
       "      <td>0</td>\n",
       "      <td>0</td>\n",
       "      <td>0</td>\n",
       "      <td>1</td>\n",
       "    </tr>\n",
       "    <tr>\n",
       "      <th>4</th>\n",
       "      <td>0</td>\n",
       "      <td>9.878221</td>\n",
       "      <td>56</td>\n",
       "      <td>6</td>\n",
       "      <td>7</td>\n",
       "      <td>8</td>\n",
       "      <td>4</td>\n",
       "      <td>8.0</td>\n",
       "      <td>0</td>\n",
       "      <td>0</td>\n",
       "      <td>...</td>\n",
       "      <td>0</td>\n",
       "      <td>0</td>\n",
       "      <td>0</td>\n",
       "      <td>0</td>\n",
       "      <td>0</td>\n",
       "      <td>0</td>\n",
       "      <td>0</td>\n",
       "      <td>0</td>\n",
       "      <td>0</td>\n",
       "      <td>1</td>\n",
       "    </tr>\n",
       "  </tbody>\n",
       "</table>\n",
       "<p>5 rows × 37 columns</p>\n",
       "</div>"
      ],
      "text/plain": [
       "   state       goal  duration  year  launch_month  deadline_month  day  \\\n",
       "0      0   7.336253        59     6             8              10   11   \n",
       "1      0  10.308986        60     8             9              11    2   \n",
       "2      0  10.714440        45     4             1               2   12   \n",
       "3      0   8.517393        30     3             3               4   17   \n",
       "4      0   9.878221        56     6             7               8    4   \n",
       "\n",
       "   name_length  category_Art  category_Comics      ...       currency_EUR  \\\n",
       "0          6.0             0                0      ...                  0   \n",
       "1          8.0             0                0      ...                  0   \n",
       "2          3.0             0                0      ...                  0   \n",
       "3          7.0             0                0      ...                  0   \n",
       "4          8.0             0                0      ...                  0   \n",
       "\n",
       "   currency_GBP  currency_HKD  currency_JPY  currency_MXN  currency_NOK  \\\n",
       "0             1             0             0             0             0   \n",
       "1             0             0             0             0             0   \n",
       "2             0             0             0             0             0   \n",
       "3             0             0             0             0             0   \n",
       "4             0             0             0             0             0   \n",
       "\n",
       "   currency_NZD  currency_SEK  currency_SGD  currency_USD  \n",
       "0             0             0             0             0  \n",
       "1             0             0             0             1  \n",
       "2             0             0             0             1  \n",
       "3             0             0             0             1  \n",
       "4             0             0             0             1  \n",
       "\n",
       "[5 rows x 37 columns]"
      ]
     },
     "execution_count": 32,
     "metadata": {},
     "output_type": "execute_result"
    }
   ],
   "source": [
    "# Preview the data after applying the dummy transformation\n",
    "kickstart_data.head()"
   ]
  },
  {
   "cell_type": "code",
   "execution_count": 33,
   "metadata": {},
   "outputs": [
    {
     "data": {
      "image/png": "[encoded data removed]",
      "text/plain": [
       "<Figure size 1080x1080 with 2 Axes>"
      ]
     },
     "metadata": {},
     "output_type": "display_data"
    }
   ],
   "source": [
    "plt.rcParams['figure.figsize'] = [15,15]\n",
    "\n",
    "# Creates a correlation matrix among the predictor variables\n",
    "correlation_martix = kickstart_data.corr()\n",
    "sns.heatmap(correlation_martix, vmax = 1, square = True)\n",
    "plt.show()"
   ]
  },
  {
   "cell_type": "code",
   "execution_count": 34,
   "metadata": {},
   "outputs": [
    {
     "ename": "SyntaxError",
     "evalue": "invalid syntax (<ipython-input-34-ea4ecb6c5f3a>, line 1)",
     "output_type": "error",
     "traceback": [
      "\u001b[1;36m  File \u001b[1;32m\"<ipython-input-34-ea4ecb6c5f3a>\"\u001b[1;36m, line \u001b[1;32m1\u001b[0m\n\u001b[1;33m    break everything\u001b[0m\n\u001b[1;37m                   ^\u001b[0m\n\u001b[1;31mSyntaxError\u001b[0m\u001b[1;31m:\u001b[0m invalid syntax\n"
     ]
    }
   ],
   "source": [
    "break everything"
   ]
  },
  {
   "cell_type": "markdown",
   "metadata": {},
   "source": [
    "By re-examining our correlation matrix after recoding the categorical variables (category and currency), the results are the same as before, except we can also confirm that the different values in category and country have no correlation to each other, or any other variable.\n",
    "\n",
    "Now that we've examined and prepared our dataset, it's time to get to the fun part, modeling."
   ]
  },
  {
   "cell_type": "markdown",
   "metadata": {},
   "source": [
    "# Modelling"
   ]
  },
  {
   "cell_type": "code",
   "execution_count": null,
   "metadata": {},
   "outputs": [],
   "source": [
    "# Machine learning packages\n",
    "from sklearn.model_selection import GridSearchCV\n",
    "from sklearn.metrics import confusion_matrix\n",
    "from sklearn.model_selection import cross_val_score\n",
    "from sklearn.model_selection import train_test_split\n",
    "from sklearn.metrics import classification_report\n",
    "from sklearn.feature_selection import RFECV\n",
    "from sklearn.feature_selection import SelectKBest, f_classif\n",
    "from sklearn import ensemble\n",
    "from sklearn import preprocessing\n",
    "from sklearn.decomposition import PCA"
   ]
  },
  {
   "cell_type": "markdown",
   "metadata": {},
   "source": [
    "### Feature Selection\n",
    "\n",
    "In order to expedite the modelling process, remove any potential overfitting, and decrease runtimes, we will be reducing the size of the dataset and apply feature selection. To maintain a sufficient sample size, we will still be keeping ⅓ of the dataset, and as for feature selection, we will be limiting it to the 10 (of 34)  best features using the SelectKBest algorithm."
   ]
  },
  {
   "cell_type": "code",
   "execution_count": null,
   "metadata": {},
   "outputs": [],
   "source": [
    "# Drop any remaining issues before the modelling phase\n",
    "kickstart_data.dropna(inplace=True)\n",
    "\n",
    "# Samples data\n",
    "kickstart_data = kickstart_data.sample(frac=0.33, replace=True)\n",
    "\n",
    "# Create a series with the target data\n",
    "y = kickstart_data['state']\n",
    "\n",
    "# Remove the 'state' column from our dataset\n",
    "# since it's not a predictor, it's the outcome\n",
    "kickstart_data.drop(['state'], axis = 1, inplace = True)"
   ]
  },
  {
   "cell_type": "code",
   "execution_count": null,
   "metadata": {},
   "outputs": [],
   "source": [
    "kickstart_data.shape"
   ]
  },
  {
   "cell_type": "code",
   "execution_count": null,
   "metadata": {},
   "outputs": [],
   "source": [
    "y.shape"
   ]
  },
  {
   "cell_type": "code",
   "execution_count": null,
   "metadata": {},
   "outputs": [],
   "source": [
    "# Select 10 best features\n",
    "kclassifier = SelectKBest(f_classif, k=10)\n",
    "X = kclassifier.fit_transform(kickstart_data, y)\n",
    "\n",
    "# Retrieve feature names\n",
    "mask = kclassifier.get_support()\n",
    "column_names = kickstart_data.columns[mask]\n",
    "\n",
    "# Create new dataframe with k best features\n",
    "X = pd.DataFrame(data=X, columns=column_names)"
   ]
  },
  {
   "cell_type": "code",
   "execution_count": null,
   "metadata": {},
   "outputs": [],
   "source": [
    "# Divide the dataset into training and testing datasets\n",
    "X_train, X_test, y_train, y_test = train_test_split(X, y, test_size=0.3, stratify = y, random_state=0)"
   ]
  },
  {
   "cell_type": "markdown",
   "metadata": {},
   "source": [
    "## Logistic Regression Model\n",
    "\n",
    "Let's start out with one of the simplest and quickest models for predicting outcomes, logistic regression. This model will determine the correlation between each of our predictor variables and outcome, then weigh the correlations depending on the strength of the relationships in order to construct the line of best fit. \n",
    "\n",
    "We'll start with a standard logistic regression model with L2 (Ridge) penalty, then test if using an L1 (Lasso) penalty and modifying the cost penalty will have any improvement in our model. Lastly, we'll examine if implementing feature selection will improve the accuracy by removing any overfitting from an excess number of variables."
   ]
  },
  {
   "cell_type": "code",
   "execution_count": null,
   "metadata": {},
   "outputs": [],
   "source": [
    "# Packages for linear regression modelling\n",
    "from sklearn import linear_model\n",
    "from sklearn.linear_model import LogisticRegression"
   ]
  },
  {
   "cell_type": "code",
   "execution_count": null,
   "metadata": {},
   "outputs": [],
   "source": [
    "lr = LogisticRegression(random_state=0)\n",
    "\n",
    "# Parameters for logistic regression model\n",
    "param_grid = {'penalty': ['l1', 'l2'],\n",
    "              'C': [1, 10, 100, 1000]}\n",
    "\n",
    "# Run grid search to find ideal parameters\n",
    "start_time = timeit.default_timer()\n",
    "lr_grid = GridSearchCV(lr, param_grid, cv=5, n_jobs=-2)\n",
    "elapsed_lr = timeit.default_timer() - start_time\n",
    "\n",
    "# Fitting the parameters to the data\n",
    "lr_grid.fit(X_train, y_train)\n",
    "\n",
    "# Reports best model parameters and accuracy\n",
    "print(lr_grid.best_params_)\n",
    "print(lr_grid.best_score_)"
   ]
  },
  {
   "cell_type": "code",
   "execution_count": null,
   "metadata": {},
   "outputs": [],
   "source": [
    "# Store the predicted values in a dataframe\n",
    "y_pred = lr_grid.predict(X_test)"
   ]
  },
  {
   "cell_type": "code",
   "execution_count": null,
   "metadata": {},
   "outputs": [],
   "source": [
    "# Create a confusion matrix\n",
    "confusion_matrix(y_test, y_pred)"
   ]
  },
  {
   "cell_type": "code",
   "execution_count": null,
   "metadata": {},
   "outputs": [],
   "source": [
    "# Print model statisitcs\n",
    "print(classification_report(y_test, y_pred))"
   ]
  },
  {
   "cell_type": "code",
   "execution_count": null,
   "metadata": {},
   "outputs": [],
   "source": [
    "# Checks the accuracy of the model using cross validation\n",
    "cv_lr_train = cross_val_score(lr_grid, X_train, y_train, cv=5, n_jobs=-2)  \n",
    "print('Cross Validation Accuracy Scores - Training Set: {:.5f}(+/- {:.2f})'.format(cv_lr_train.mean(), cv_lr_train.std()*2))\n",
    "\n",
    "cv_lr_test = cross_val_score(lr_grid, X_test, y_test, cv=5, n_jobs=-2)  \n",
    "print('Cross Validation Accuracy Scores - Testing Set: {:.5f}(+/- {:.2f})'.format(cv_lr_test.mean(), cv_lr_test.std()*2))"
   ]
  },
  {
   "cell_type": "code",
   "execution_count": null,
   "metadata": {},
   "outputs": [],
   "source": [
    "# Create the RFE object and compute a cross-validated score.\n",
    "# The \"accuracy\" scoring is proportional to the number of correct classifications\n",
    "rfecv = RFECV(estimator=LogisticRegression(), step=1, cv=5, scoring='accuracy', n_jobs=-2)\n",
    "rfecv.fit(X, y)\n",
    "\n",
    "print(\"Optimal number of features: %d\" % rfecv.n_features_)\n",
    "print('Selected features: %s' % list(X.columns[rfecv.support_]))\n",
    "\n",
    "# Plot number of features VS. cross-validation scores\n",
    "plt.figure(figsize=(10,6))\n",
    "plt.xlabel(\"Number of features selected\")\n",
    "plt.ylabel(\"Cross validation score (nb of correct classifications)\")\n",
    "plt.plot(range(1, len(rfecv.grid_scores_) + 1), rfecv.grid_scores_)\n",
    "plt.show()"
   ]
  },
  {
   "cell_type": "markdown",
   "metadata": {},
   "source": [
    "### Analysis\n",
    "\n",
    "From our results, it seems as though the strongest predictors for the outcome based on logistic regression is the goal, followed by the duration, year, name length. It is able to predict the outcome 66.8% of the time in the testing dataset. Not bad, but let’s see if our ensemble methods can fare any better."
   ]
  },
  {
   "cell_type": "markdown",
   "metadata": {},
   "source": [
    "## Random Forest Classifier"
   ]
  },
  {
   "cell_type": "markdown",
   "metadata": {},
   "source": [
    "The second model that I will utilize is the random forest model, aka \"The Black Box\". This is a far more complex and opaque model than logistic regression, and many other models. The reason that we want to try using a random forest classifier is because this model constructs a multitude of decision trees that randomly classifies subsets of the data into bins. This ensemble method runs these in parallel and vote to determine the single best model. "
   ]
  },
  {
   "cell_type": "code",
   "execution_count": null,
   "metadata": {},
   "outputs": [],
   "source": [
    "# Packages for modelling decision trees\n",
    "from sklearn import ensemble\n",
    "from sklearn import tree\n",
    "from IPython.display import Image\n",
    "import pydotplus\n",
    "import graphviz\n",
    "from sklearn.ensemble import RandomForestClassifier"
   ]
  },
  {
   "cell_type": "code",
   "execution_count": null,
   "metadata": {},
   "outputs": [],
   "source": [
    "# Constructing the shape of our decision tree\n",
    "rfc = RandomForestClassifier(n_jobs=-2)\n",
    "\n",
    "# Fit model to data\n",
    "rfc.fit(X_train, y_train)"
   ]
  },
  {
   "cell_type": "code",
   "execution_count": null,
   "metadata": {},
   "outputs": [],
   "source": [
    "# Setting up parameters for the random forest\n",
    "param_grid = {'max_features': ['sqrt'],\n",
    "              'n_estimators' : [100, 200, 400],\n",
    "              'max_depth' : [4, 8, 12],\n",
    "              'min_samples_leaf' : [4, 8, 12]}\n",
    "\n",
    "# Run grid search to find ideal parameters\n",
    "rfc_grid = GridSearchCV(rfc, param_grid, cv=5, n_jobs=-2)\n",
    "\n",
    "# Fit the best parameters to our model\n",
    "start_time = timeit.default_timer()\n",
    "rfc_grid.fit(X_train, y_train)\n",
    "elapsed_rfc = timeit.default_timer() - start_time\n",
    "\n",
    "# Return model scores\n",
    "print(rfc_grid.best_params_)\n",
    "print(rfc_grid.best_score_)"
   ]
  },
  {
   "cell_type": "code",
   "execution_count": null,
   "metadata": {},
   "outputs": [],
   "source": [
    "# Predict outcome using random forest model\n",
    "y_pred = rfc_grid.predict(X_test)"
   ]
  },
  {
   "cell_type": "code",
   "execution_count": null,
   "metadata": {},
   "outputs": [],
   "source": [
    "# Create a confusion matrix\n",
    "confusion_matrix(y_test, y_pred)"
   ]
  },
  {
   "cell_type": "code",
   "execution_count": null,
   "metadata": {},
   "outputs": [],
   "source": [
    "# Print model statisitcs\n",
    "print(classification_report(y_test, y_pred))"
   ]
  },
  {
   "cell_type": "code",
   "execution_count": null,
   "metadata": {},
   "outputs": [],
   "source": [
    "# Cross validation test with 10 samples\n",
    "cv_rfc_train = cross_val_score(rfc_grid, X_train, y_train, cv=5, n_jobs=-2)\n",
    "print('Cross Validation Accuracy Scores - Training Set: {:.5f}(+/- {:.2f})'.format(cv_rfc_train.mean(), cv_rfc_train.std()*2))\n",
    "\n",
    "cv_rfc_test = cross_val_score(rfc_grid, X_test, y_test, cv=5, n_jobs=-2)\n",
    "print('Cross Validation Accuracy Scores - Training Set: {:.5f}(+/- {:.2f})'.format(cv_rfc_test.mean(), cv_rfc_test.std()*2))"
   ]
  },
  {
   "cell_type": "code",
   "execution_count": null,
   "metadata": {},
   "outputs": [],
   "source": [
    "plt.rcParams['figure.figsize'] = [10,5]\n",
    "\n",
    "# Plot feature importances for random forest model\n",
    "rfc_features = pd.Series(rfc.feature_importances_, X_train.columns).sort_values(ascending=False).head(15)\n",
    "rfc_features.plot(kind='bar', title = 'Feature importance')\n",
    "plt.ylabel('Feature Importance Score')\n",
    "plt.show()"
   ]
  },
  {
   "cell_type": "markdown",
   "metadata": {},
   "source": [
    "### Analysis\n",
    "\n",
    "With our random forest classifier, we are able to see that once again, the goal is the most important feature for determining the success of a project, followed by the duration, name length, and year. Our model did take a lot longer to run as the best model demanded a large number of estimators, 50, and a fairly deep length at up to 12 splits."
   ]
  },
  {
   "cell_type": "markdown",
   "metadata": {},
   "source": [
    "# Gradient Boosting Classifier\n",
    "\n",
    "Now for the last model in this project, gradient boosting. Compared to the previous random forest mode, the gradient boosting model instead runs weaker models in succession and build upon the last. What we hope to see is that our relatively weak predictors can be fixed to allow for a much stronger predictive model in the end."
   ]
  },
  {
   "cell_type": "code",
   "execution_count": null,
   "metadata": {},
   "outputs": [],
   "source": [
    "# Creating the gradient boosting classifer\n",
    "gbc = ensemble.GradientBoostingClassifier()\n",
    "\n",
    "gbc.fit(X_train, y_train)"
   ]
  },
  {
   "cell_type": "code",
   "execution_count": null,
   "metadata": {},
   "outputs": [],
   "source": [
    "# Parameters for gradient boosting classifier\n",
    "param_grid  = {'loss':['deviance'],\n",
    "               'max_features': ['sqrt'],\n",
    "               'n_estimators': [100,200,400],\n",
    "               'max_depth': [4, 8, 12],\n",
    "               \"min_samples_leaf\" : [4, 8, 12]}\n",
    "\n",
    "# Run grid search to find ideal parameters\n",
    "gbc_grid = GridSearchCV(gbc, param_grid = param_grid, n_jobs=-2)\n",
    "\n",
    "# Initialize and fit the model.\n",
    "start_time = timeit.default_timer()\n",
    "gbc_grid.fit(X_train, y_train)\n",
    "elapsed_gbc = timeit.default_timer() - start_time\n",
    "\n",
    "# Return best parameters and best score\n",
    "print('Best parameters:')\n",
    "print(gbc_grid.best_params_)\n",
    "print('Best Score:')\n",
    "print(gbc_grid.best_score_)"
   ]
  },
  {
   "cell_type": "code",
   "execution_count": null,
   "metadata": {},
   "outputs": [],
   "source": [
    "# Predict outcome using gradient boosting classifier\n",
    "y_pred = rfc_grid.predict(X_test)"
   ]
  },
  {
   "cell_type": "code",
   "execution_count": null,
   "metadata": {},
   "outputs": [],
   "source": [
    "# Print model statisitcs\n",
    "print(classification_report(y_test, y_pred))"
   ]
  },
  {
   "cell_type": "code",
   "execution_count": null,
   "metadata": {},
   "outputs": [],
   "source": [
    "# Cross validation test\n",
    "cv_gbc_train = cross_val_score(gbc_grid, X_train, y_train, cv=5, n_jobs=-2)\n",
    "print('Cross Validation Accuracy Scores - Training Set: {:.5f}(+/- {:.2f})'.format(cv_gbc_train.mean(), cv_gbc_train.std()*2))\n",
    "\n",
    "cv_gbc_test = cross_val_score(gbc_grid, X_train, y_train, cv=5, n_jobs=-2)\n",
    "print('Cross Validation Accuracy Scores - Training Set: {:.5f}(+/- {:.2f})'.format(cv_gbc_test.mean(), cv_gbc_test.std()*2))"
   ]
  },
  {
   "cell_type": "code",
   "execution_count": null,
   "metadata": {},
   "outputs": [],
   "source": [
    "# Plot feature importances for gradient boosting classifier\n",
    "gbc_features = pd.Series(gbc.feature_importances_, X_train.columns).sort_values(ascending=False).head(15)\n",
    "gbc_features.plot(kind='bar', title = 'Feature importance')\n",
    "plt.ylabel('Feature Importance Score')\n",
    "plt.show()"
   ]
  },
  {
   "cell_type": "markdown",
   "metadata": {},
   "source": [
    "### Analysis\n",
    "\n",
    "So, it seems as though the longer the model runs, the more accurate it becomes. In our gradient boosting classifier, we have the highest accuracy at 69.2%, but also the longest runtime. The order of feature importance is a little different here as our gradient boosting classifier values duration more than goal, then year and name length again. Unlike the other two models though, gradient boosting classifier has more emphasis on our weaker predictors like category and currency.\n",
    "\n",
    "# Model Comparison"
   ]
  },
  {
   "cell_type": "code",
   "execution_count": null,
   "metadata": {},
   "outputs": [],
   "source": [
    "print('Logistic regression accuracy: {:.5f}(+/- {:.2f})'.format(cv_lr_test.mean(), cv_lr_test.std()*2))\n",
    "print('Logistic regression runtime: {} \\n'.format(elapsed_lr))\n",
    "print('Random forest accuracy: {:.5f}(+/- {:.2f})'.format(cv_rfc_test.mean(), cv_rfc_test.std()*2))\n",
    "print('Random forest runtime: {} \\n'.format(elapsed_rfc))\n",
    "print('Gradient boosting classifier accuracy: {:.5f}(+/- {:.2f})'.format(cv_gbc_test.mean(), cv_gbc_test.std()*2))\n",
    "print('Gradient boosting classifier runtime: {} '.format(elapsed_gbc))"
   ]
  },
  {
   "cell_type": "markdown",
   "metadata": {},
   "source": [
    "# Conclusion\n",
    "\n",
    "All 3 of the models in this project agree that the goal amount and duration are the most important factors to determine the success of a project. Now, all of these variables do play a part in determining the success of a project, so it is still in the creator's best interest to acknowledge the outcome in relation to these variables."
   ]
  },
  {
   "cell_type": "markdown",
   "metadata": {},
   "source": [
    "# Source:\n",
    "Kickstarter Data Page - \n",
    "https://www.kaggle.com/kemical/kickstarter-projects/data"
   ]
  },
  {
   "cell_type": "code",
   "execution_count": null,
   "metadata": {},
   "outputs": [],
   "source": []
  },
  {
   "cell_type": "code",
   "execution_count": null,
   "metadata": {},
   "outputs": [],
   "source": []
  }
 ],
 "metadata": {
  "kernelspec": {
   "display_name": "Python 3",
   "language": "python",
   "name": "python3"
  },
  "language_info": {
   "codemirror_mode": {
    "name": "ipython",
    "version": 3
   },
   "file_extension": ".py",
   "mimetype": "text/x-python",
   "name": "python",
   "nbconvert_exporter": "python",
   "pygments_lexer": "ipython3",
   "version": "3.6.5"
  }
 },
 "nbformat": 4,
 "nbformat_minor": 2
}
