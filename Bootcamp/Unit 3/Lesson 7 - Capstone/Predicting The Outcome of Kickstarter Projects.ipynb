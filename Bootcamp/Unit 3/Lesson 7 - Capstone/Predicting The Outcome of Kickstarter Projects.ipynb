{
 "cells": [
  {
   "cell_type": "markdown",
   "metadata": {},
   "source": [
    "# Predicting The Outcome of Kickstarter Projects\n",
    "\n",
    "\n",
    "# Abstract\n",
    "\n",
    "(Insert abstract here)\n",
    "\n",
    "# What is Kickstarter\n",
    "\n",
    "To put it in their own words “Kickstarter helps artists, musicians, filmmakers, designers, and other creators find the resources and support they need to make their ideas a reality. To date, tens of thousands of creative projects — big and small — have come to life with the support of the Kickstarter community.”\n",
    "\n",
    "It is a platform that allows creators to transform ideas through the use of crowdfunding from backers in order to create tangible products. Creators are the people that set deadlines with funding goals that need to be met in order for them to create their projects, as well as stretch goals that may be created if that goal is surpassed. Projects can also have their deadlines extended and funding goals adjusted after the fact\n",
    "\n",
    "# About the Data\n",
    "\n",
    "In this dataset lies a collection of 378,661 projects from April 2009 to January 2018 that contain a wide variety of project types and goals. The columns provided in the dataset are the\n",
    "1. Project ID\n",
    "2. Project name\n",
    "3. Category\n",
    "4. Main category\n",
    "5. Currency type (USD,  EUR, GBP, etc.)\n",
    "6. Deadline\n",
    "7. Goal\n",
    "8. Launch date\n",
    "9. Pledged amount\n",
    "10. State of the project (Successful, failed, cancelled, live, suspended)\n",
    "11. Number of backers\n",
    "12. Country of origin\n",
    "13. USD pledged\n",
    "14. USD pledged real\n",
    "15. USD goal real\n",
    "\n",
    "# Research Question\n",
    "\n",
    "Now, the goal of this project is to determine what factors ultimately determine the success (or failure) of a kickstarter project, given the tools at our disposal."
   ]
  },
  {
   "cell_type": "code",
   "execution_count": 1,
   "metadata": {},
   "outputs": [
    {
     "data": {
      "text/html": [
       "<script>requirejs.config({paths: { 'plotly': ['https://cdn.plot.ly/plotly-latest.min']},});if(!window.Plotly) {{require(['plotly'],function(plotly) {window.Plotly=plotly;});}}</script>"
      ],
      "text/vnd.plotly.v1+html": [
       "<script>requirejs.config({paths: { 'plotly': ['https://cdn.plot.ly/plotly-latest.min']},});if(!window.Plotly) {{require(['plotly'],function(plotly) {window.Plotly=plotly;});}}</script>"
      ]
     },
     "metadata": {},
     "output_type": "display_data"
    }
   ],
   "source": [
    "# Import basic statements\n",
    "import pandas as pd\n",
    "import numpy as np\n",
    "import warnings\n",
    "warnings.filterwarnings(\"ignore\")\n",
    "\n",
    "from IPython.core.display import HTML\n",
    "\n",
    "# Import visualization packages\n",
    "import matplotlib.pyplot as plt\n",
    "import seaborn as sns\n",
    "%matplotlib inline\n",
    "\n",
    "import plotly as py\n",
    "import plotly.graph_objs as go\n",
    "from plotly import tools\n",
    "import cufflinks as cf\n",
    "import ipywidgets as widgets\n",
    "from scipy import special\n",
    "py.offline.init_notebook_mode(connected=True)\n",
    "\n",
    "# Machine learning packages\n",
    "from sklearn import linear_model\n",
    "from sklearn.linear_model import LogisticRegression\n",
    "from sklearn.model_selection import cross_val_score\n",
    "from sklearn.model_selection import train_test_split\n",
    "from sklearn.metrics import confusion_matrix"
   ]
  },
  {
   "cell_type": "code",
   "execution_count": 2,
   "metadata": {},
   "outputs": [
    {
     "data": {
      "text/html": [
       "<div>\n",
       "<style scoped>\n",
       "    .dataframe tbody tr th:only-of-type {\n",
       "        vertical-align: middle;\n",
       "    }\n",
       "\n",
       "    .dataframe tbody tr th {\n",
       "        vertical-align: top;\n",
       "    }\n",
       "\n",
       "    .dataframe thead th {\n",
       "        text-align: right;\n",
       "    }\n",
       "</style>\n",
       "<table border=\"1\" class=\"dataframe\">\n",
       "  <thead>\n",
       "    <tr style=\"text-align: right;\">\n",
       "      <th></th>\n",
       "      <th>ID</th>\n",
       "      <th>name</th>\n",
       "      <th>category</th>\n",
       "      <th>main_category</th>\n",
       "      <th>currency</th>\n",
       "      <th>deadline</th>\n",
       "      <th>goal</th>\n",
       "      <th>launched</th>\n",
       "      <th>pledged</th>\n",
       "      <th>state</th>\n",
       "      <th>backers</th>\n",
       "      <th>country</th>\n",
       "      <th>usd pledged</th>\n",
       "      <th>usd_pledged_real</th>\n",
       "      <th>usd_goal_real</th>\n",
       "    </tr>\n",
       "  </thead>\n",
       "  <tbody>\n",
       "    <tr>\n",
       "      <th>138572</th>\n",
       "      <td>1703704063</td>\n",
       "      <td>drawing for dollars</td>\n",
       "      <td>Illustration</td>\n",
       "      <td>Art</td>\n",
       "      <td>USD</td>\n",
       "      <td>2009-05-03</td>\n",
       "      <td>20.0</td>\n",
       "      <td>2009-04-24 21:52:03</td>\n",
       "      <td>35.0</td>\n",
       "      <td>successful</td>\n",
       "      <td>3</td>\n",
       "      <td>US</td>\n",
       "      <td>35.0</td>\n",
       "      <td>35.0</td>\n",
       "      <td>20.0</td>\n",
       "    </tr>\n",
       "    <tr>\n",
       "      <th>213711</th>\n",
       "      <td>2089078683</td>\n",
       "      <td>New York Makes a Book!!</td>\n",
       "      <td>Journalism</td>\n",
       "      <td>Journalism</td>\n",
       "      <td>USD</td>\n",
       "      <td>2009-05-16</td>\n",
       "      <td>3000.0</td>\n",
       "      <td>2009-04-28 13:55:41</td>\n",
       "      <td>3329.0</td>\n",
       "      <td>successful</td>\n",
       "      <td>110</td>\n",
       "      <td>US</td>\n",
       "      <td>3329.0</td>\n",
       "      <td>3329.0</td>\n",
       "      <td>3000.0</td>\n",
       "    </tr>\n",
       "    <tr>\n",
       "      <th>342226</th>\n",
       "      <td>813230527</td>\n",
       "      <td>Sponsor Dereck Blackburn (Lostwars) Artist in ...</td>\n",
       "      <td>Rock</td>\n",
       "      <td>Music</td>\n",
       "      <td>USD</td>\n",
       "      <td>2009-05-16</td>\n",
       "      <td>300.0</td>\n",
       "      <td>2009-04-29 05:26:32</td>\n",
       "      <td>15.0</td>\n",
       "      <td>failed</td>\n",
       "      <td>2</td>\n",
       "      <td>US</td>\n",
       "      <td>15.0</td>\n",
       "      <td>15.0</td>\n",
       "      <td>300.0</td>\n",
       "    </tr>\n",
       "    <tr>\n",
       "      <th>28960</th>\n",
       "      <td>1147015301</td>\n",
       "      <td>\"All We Had\" Gets Into Cannes -- $10 or More G...</td>\n",
       "      <td>Documentary</td>\n",
       "      <td>Film &amp; Video</td>\n",
       "      <td>USD</td>\n",
       "      <td>2009-05-20</td>\n",
       "      <td>300.0</td>\n",
       "      <td>2009-04-30 22:10:30</td>\n",
       "      <td>40.0</td>\n",
       "      <td>failed</td>\n",
       "      <td>4</td>\n",
       "      <td>US</td>\n",
       "      <td>40.0</td>\n",
       "      <td>40.0</td>\n",
       "      <td>300.0</td>\n",
       "    </tr>\n",
       "    <tr>\n",
       "      <th>196244</th>\n",
       "      <td>199916122</td>\n",
       "      <td>Mr. Squiggles</td>\n",
       "      <td>Illustration</td>\n",
       "      <td>Art</td>\n",
       "      <td>USD</td>\n",
       "      <td>2009-05-22</td>\n",
       "      <td>30.0</td>\n",
       "      <td>2009-05-12 23:39:58</td>\n",
       "      <td>0.0</td>\n",
       "      <td>failed</td>\n",
       "      <td>0</td>\n",
       "      <td>US</td>\n",
       "      <td>0.0</td>\n",
       "      <td>0.0</td>\n",
       "      <td>30.0</td>\n",
       "    </tr>\n",
       "  </tbody>\n",
       "</table>\n",
       "</div>"
      ],
      "text/plain": [
       "                ID                                               name  \\\n",
       "138572  1703704063                                drawing for dollars   \n",
       "213711  2089078683                            New York Makes a Book!!   \n",
       "342226   813230527  Sponsor Dereck Blackburn (Lostwars) Artist in ...   \n",
       "28960   1147015301  \"All We Had\" Gets Into Cannes -- $10 or More G...   \n",
       "196244   199916122                                      Mr. Squiggles   \n",
       "\n",
       "            category main_category currency    deadline    goal  \\\n",
       "138572  Illustration           Art      USD  2009-05-03    20.0   \n",
       "213711    Journalism    Journalism      USD  2009-05-16  3000.0   \n",
       "342226          Rock         Music      USD  2009-05-16   300.0   \n",
       "28960    Documentary  Film & Video      USD  2009-05-20   300.0   \n",
       "196244  Illustration           Art      USD  2009-05-22    30.0   \n",
       "\n",
       "                   launched  pledged       state  backers country  \\\n",
       "138572  2009-04-24 21:52:03     35.0  successful        3      US   \n",
       "213711  2009-04-28 13:55:41   3329.0  successful      110      US   \n",
       "342226  2009-04-29 05:26:32     15.0      failed        2      US   \n",
       "28960   2009-04-30 22:10:30     40.0      failed        4      US   \n",
       "196244  2009-05-12 23:39:58      0.0      failed        0      US   \n",
       "\n",
       "        usd pledged  usd_pledged_real  usd_goal_real  \n",
       "138572         35.0              35.0           20.0  \n",
       "213711       3329.0            3329.0         3000.0  \n",
       "342226         15.0              15.0          300.0  \n",
       "28960          40.0              40.0          300.0  \n",
       "196244          0.0               0.0           30.0  "
      ]
     },
     "execution_count": 2,
     "metadata": {},
     "output_type": "execute_result"
    }
   ],
   "source": [
    "# Import data and sort by deadline date\n",
    "kickstart_data = pd.read_csv(\"ks-projects-201801.csv\")\n",
    "\n",
    "# Drop all empty rows\n",
    "kickstart_data.dropna()\n",
    "\n",
    "# Preview the data, ordered by deadline\n",
    "kickstart_data.sort_values('deadline').head()"
   ]
  },
  {
   "cell_type": "markdown",
   "metadata": {},
   "source": [
    "# Data Cleaning"
   ]
  },
  {
   "cell_type": "code",
   "execution_count": 3,
   "metadata": {},
   "outputs": [
    {
     "data": {
      "text/plain": [
       "(378661, 15)"
      ]
     },
     "execution_count": 3,
     "metadata": {},
     "output_type": "execute_result"
    }
   ],
   "source": [
    "# Check the size of our dataset\n",
    "kickstart_data.shape"
   ]
  },
  {
   "cell_type": "code",
   "execution_count": 4,
   "metadata": {},
   "outputs": [
    {
     "data": {
      "text/plain": [
       "name             375764\n",
       "category            159\n",
       "main_category        15\n",
       "currency             14\n",
       "deadline           3164\n",
       "launched         378089\n",
       "state                 6\n",
       "country              23\n",
       "dtype: int64"
      ]
     },
     "execution_count": 4,
     "metadata": {},
     "output_type": "execute_result"
    }
   ],
   "source": [
    "# Print out column names and # of unique values in each categorical variable\n",
    "kickstart_data.select_dtypes(include=['object']).nunique()"
   ]
  },
  {
   "cell_type": "code",
   "execution_count": 5,
   "metadata": {},
   "outputs": [],
   "source": [
    "# Convert 'launched' and 'deadline' columns into dates\n",
    "kickstart_data['launched'] = kickstart_data['launched'].astype('datetime64[ns]')\n",
    "kickstart_data['deadline'] = pd.to_datetime(kickstart_data['deadline'])\n",
    "kickstart_data['launched'] = pd.DatetimeIndex(kickstart_data.launched).normalize()\n",
    "\n",
    "# Project duration is more useful and less data\n",
    "# than the launch date and deadline\n",
    "kickstart_data['duration'] = kickstart_data['deadline'] - kickstart_data['launched']\n",
    "kickstart_data['duration'] = (kickstart_data['duration'] / np.timedelta64(1, 'D')).astype(int)\n",
    "\n",
    "# Drop variables that have no impact on the outcome, and\n",
    "# variables that have over 15 unique values\n",
    "kickstart_data.drop(['ID', 'name', 'category', 'launched', 'deadline', \n",
    "                     'currency', 'goal', 'pledged', 'usd pledged'], 1, inplace=True)\n",
    "\n",
    "# Rename usd_pledged_real and usd_goal_real to \n",
    "# pledged and goal\n",
    "kickstart_data = kickstart_data.rename(index=str, columns = {'usd_pledged_real': 'pledged', \n",
    "                                                             'usd_goal_real': 'goal', \n",
    "                                                             'main_category': 'category'})\n",
    "\n",
    "# Let's create a new variable, pledged% to show how much\n",
    "# of the goal was met\n",
    "kickstart_data['pledge_percent'] = kickstart_data['pledged'] / kickstart_data['goal'] * 100"
   ]
  },
  {
   "cell_type": "markdown",
   "metadata": {},
   "source": [
    "# Exploratory Data Analysis"
   ]
  },
  {
   "cell_type": "code",
   "execution_count": 6,
   "metadata": {},
   "outputs": [
    {
     "data": {
      "text/html": [
       "<div>\n",
       "<style scoped>\n",
       "    .dataframe tbody tr th:only-of-type {\n",
       "        vertical-align: middle;\n",
       "    }\n",
       "\n",
       "    .dataframe tbody tr th {\n",
       "        vertical-align: top;\n",
       "    }\n",
       "\n",
       "    .dataframe thead th {\n",
       "        text-align: right;\n",
       "    }\n",
       "</style>\n",
       "<table border=\"1\" class=\"dataframe\">\n",
       "  <thead>\n",
       "    <tr style=\"text-align: right;\">\n",
       "      <th></th>\n",
       "      <th>backers</th>\n",
       "      <th>pledged</th>\n",
       "      <th>goal</th>\n",
       "      <th>duration</th>\n",
       "      <th>pledge_percent</th>\n",
       "    </tr>\n",
       "  </thead>\n",
       "  <tbody>\n",
       "    <tr>\n",
       "      <th>count</th>\n",
       "      <td>378661.000000</td>\n",
       "      <td>3.786610e+05</td>\n",
       "      <td>3.786610e+05</td>\n",
       "      <td>378661.000000</td>\n",
       "      <td>3.786610e+05</td>\n",
       "    </tr>\n",
       "    <tr>\n",
       "      <th>mean</th>\n",
       "      <td>105.617476</td>\n",
       "      <td>9.058924e+03</td>\n",
       "      <td>4.545440e+04</td>\n",
       "      <td>34.481095</td>\n",
       "      <td>3.236121e+02</td>\n",
       "    </tr>\n",
       "    <tr>\n",
       "      <th>std</th>\n",
       "      <td>907.185035</td>\n",
       "      <td>9.097334e+04</td>\n",
       "      <td>1.152950e+06</td>\n",
       "      <td>65.909173</td>\n",
       "      <td>2.669054e+04</td>\n",
       "    </tr>\n",
       "    <tr>\n",
       "      <th>min</th>\n",
       "      <td>0.000000</td>\n",
       "      <td>0.000000e+00</td>\n",
       "      <td>1.000000e-02</td>\n",
       "      <td>1.000000</td>\n",
       "      <td>0.000000e+00</td>\n",
       "    </tr>\n",
       "    <tr>\n",
       "      <th>25%</th>\n",
       "      <td>2.000000</td>\n",
       "      <td>3.100000e+01</td>\n",
       "      <td>2.000000e+03</td>\n",
       "      <td>30.000000</td>\n",
       "      <td>4.533333e-01</td>\n",
       "    </tr>\n",
       "    <tr>\n",
       "      <th>50%</th>\n",
       "      <td>12.000000</td>\n",
       "      <td>6.243300e+02</td>\n",
       "      <td>5.500000e+03</td>\n",
       "      <td>30.000000</td>\n",
       "      <td>1.346400e+01</td>\n",
       "    </tr>\n",
       "    <tr>\n",
       "      <th>75%</th>\n",
       "      <td>56.000000</td>\n",
       "      <td>4.050000e+03</td>\n",
       "      <td>1.550000e+04</td>\n",
       "      <td>37.000000</td>\n",
       "      <td>1.065400e+02</td>\n",
       "    </tr>\n",
       "    <tr>\n",
       "      <th>max</th>\n",
       "      <td>219382.000000</td>\n",
       "      <td>2.033899e+07</td>\n",
       "      <td>1.663614e+08</td>\n",
       "      <td>16739.000000</td>\n",
       "      <td>1.042779e+07</td>\n",
       "    </tr>\n",
       "  </tbody>\n",
       "</table>\n",
       "</div>"
      ],
      "text/plain": [
       "             backers       pledged          goal       duration  \\\n",
       "count  378661.000000  3.786610e+05  3.786610e+05  378661.000000   \n",
       "mean      105.617476  9.058924e+03  4.545440e+04      34.481095   \n",
       "std       907.185035  9.097334e+04  1.152950e+06      65.909173   \n",
       "min         0.000000  0.000000e+00  1.000000e-02       1.000000   \n",
       "25%         2.000000  3.100000e+01  2.000000e+03      30.000000   \n",
       "50%        12.000000  6.243300e+02  5.500000e+03      30.000000   \n",
       "75%        56.000000  4.050000e+03  1.550000e+04      37.000000   \n",
       "max    219382.000000  2.033899e+07  1.663614e+08   16739.000000   \n",
       "\n",
       "       pledge_percent  \n",
       "count    3.786610e+05  \n",
       "mean     3.236121e+02  \n",
       "std      2.669054e+04  \n",
       "min      0.000000e+00  \n",
       "25%      4.533333e-01  \n",
       "50%      1.346400e+01  \n",
       "75%      1.065400e+02  \n",
       "max      1.042779e+07  "
      ]
     },
     "execution_count": 6,
     "metadata": {},
     "output_type": "execute_result"
    }
   ],
   "source": [
    "# Summary of the dataset\n",
    "kickstart_data.describe()"
   ]
  },
  {
   "cell_type": "code",
   "execution_count": 7,
   "metadata": {},
   "outputs": [
    {
     "data": {
      "image/png": "[encoded data removed]",
      "text/plain": [
       "<Figure size 1440x360 with 4 Axes>"
      ]
     },
     "metadata": {},
     "output_type": "display_data"
    }
   ],
   "source": [
    "# Plot all of variables, and try to identify outliers\n",
    "plt.rcParams['figure.figsize'] = [20,5]\n",
    "\n",
    "plt.subplot(1,4,1)\n",
    "plt.title('Backers')\n",
    "plt.xticks(rotation=70)\n",
    "ax = sns.boxplot(x=\"category\", y=\"backers\", data=kickstart_data)\n",
    "\n",
    "plt.subplot(1,4,2)\n",
    "plt.title('Pledged')\n",
    "plt.xticks(rotation=70)\n",
    "ax = sns.boxplot(x=\"category\", y=\"pledged\", data=kickstart_data)\n",
    "\n",
    "plt.subplot(1,4,3)\n",
    "plt.title('Goal')\n",
    "plt.xticks(rotation=70)\n",
    "ax = sns.boxplot(x=\"category\", y=\"goal\", data=kickstart_data)\n",
    "\n",
    "plt.subplot(1,4,4)\n",
    "plt.title('Duration')\n",
    "plt.xticks(rotation=70)\n",
    "ax = sns.boxplot(x=\"category\", y=\"duration\", data=kickstart_data)"
   ]
  },
  {
   "cell_type": "markdown",
   "metadata": {},
   "source": [
    "Well, one of the great things about Kickstarter is that there are technically no limits to the scale of the projects that can emerge from the platform. Feel free to look at Star Citizen if you were wondering what project generated over 2 million dollars in pledges.\n",
    "\n",
    "<a href=\"https://www.kickstarter.com/projects/cig/star-citizen\">Star Citizen</a>\n",
    "\n",
    "\n",
    "\n",
    "So, our problem is that there are quite a lot of ambitious projects that drew in a substantial amount of backers with goals far above 75% of other projects, resulting in the messy distribution above. The duration variable looks like there are few enough genuine outliers for us to examine. As for the rest, it seems like we'll need to transform them before proceeding because there are simply too many outliers for us to ignore."
   ]
  },
  {
   "cell_type": "code",
   "execution_count": 8,
   "metadata": {},
   "outputs": [
    {
     "data": {
      "text/html": [
       "<div>\n",
       "<style scoped>\n",
       "    .dataframe tbody tr th:only-of-type {\n",
       "        vertical-align: middle;\n",
       "    }\n",
       "\n",
       "    .dataframe tbody tr th {\n",
       "        vertical-align: top;\n",
       "    }\n",
       "\n",
       "    .dataframe thead th {\n",
       "        text-align: right;\n",
       "    }\n",
       "</style>\n",
       "<table border=\"1\" class=\"dataframe\">\n",
       "  <thead>\n",
       "    <tr style=\"text-align: right;\">\n",
       "      <th></th>\n",
       "      <th>category</th>\n",
       "      <th>state</th>\n",
       "      <th>backers</th>\n",
       "      <th>country</th>\n",
       "      <th>pledged</th>\n",
       "      <th>goal</th>\n",
       "      <th>duration</th>\n",
       "      <th>pledge_percent</th>\n",
       "    </tr>\n",
       "  </thead>\n",
       "  <tbody>\n",
       "    <tr>\n",
       "      <th>319002</th>\n",
       "      <td>Publishing</td>\n",
       "      <td>suspended</td>\n",
       "      <td>0</td>\n",
       "      <td>CH</td>\n",
       "      <td>0.0</td>\n",
       "      <td>1905.97</td>\n",
       "      <td>16739</td>\n",
       "      <td>0.000000</td>\n",
       "    </tr>\n",
       "    <tr>\n",
       "      <th>2842</th>\n",
       "      <td>Film &amp; Video</td>\n",
       "      <td>canceled</td>\n",
       "      <td>0</td>\n",
       "      <td>US</td>\n",
       "      <td>0.0</td>\n",
       "      <td>5000.00</td>\n",
       "      <td>14867</td>\n",
       "      <td>0.000000</td>\n",
       "    </tr>\n",
       "    <tr>\n",
       "      <th>48147</th>\n",
       "      <td>Art</td>\n",
       "      <td>canceled</td>\n",
       "      <td>0</td>\n",
       "      <td>US</td>\n",
       "      <td>0.0</td>\n",
       "      <td>15000.00</td>\n",
       "      <td>14835</td>\n",
       "      <td>0.000000</td>\n",
       "    </tr>\n",
       "    <tr>\n",
       "      <th>94579</th>\n",
       "      <td>Theater</td>\n",
       "      <td>canceled</td>\n",
       "      <td>0</td>\n",
       "      <td>US</td>\n",
       "      <td>0.0</td>\n",
       "      <td>4000.00</td>\n",
       "      <td>14761</td>\n",
       "      <td>0.000000</td>\n",
       "    </tr>\n",
       "    <tr>\n",
       "      <th>75397</th>\n",
       "      <td>Film &amp; Video</td>\n",
       "      <td>canceled</td>\n",
       "      <td>0</td>\n",
       "      <td>US</td>\n",
       "      <td>0.0</td>\n",
       "      <td>700.00</td>\n",
       "      <td>14750</td>\n",
       "      <td>0.000000</td>\n",
       "    </tr>\n",
       "    <tr>\n",
       "      <th>247913</th>\n",
       "      <td>Music</td>\n",
       "      <td>canceled</td>\n",
       "      <td>0</td>\n",
       "      <td>US</td>\n",
       "      <td>0.0</td>\n",
       "      <td>10000.00</td>\n",
       "      <td>14733</td>\n",
       "      <td>0.000000</td>\n",
       "    </tr>\n",
       "    <tr>\n",
       "      <th>273779</th>\n",
       "      <td>Design</td>\n",
       "      <td>canceled</td>\n",
       "      <td>0</td>\n",
       "      <td>US</td>\n",
       "      <td>0.0</td>\n",
       "      <td>500.00</td>\n",
       "      <td>14709</td>\n",
       "      <td>0.000000</td>\n",
       "    </tr>\n",
       "    <tr>\n",
       "      <th>200310</th>\n",
       "      <td>Film &amp; Video</td>\n",
       "      <td>failed</td>\n",
       "      <td>0</td>\n",
       "      <td>US</td>\n",
       "      <td>0.0</td>\n",
       "      <td>250000.00</td>\n",
       "      <td>92</td>\n",
       "      <td>0.000000</td>\n",
       "    </tr>\n",
       "    <tr>\n",
       "      <th>38476</th>\n",
       "      <td>Technology</td>\n",
       "      <td>failed</td>\n",
       "      <td>1</td>\n",
       "      <td>US</td>\n",
       "      <td>100.0</td>\n",
       "      <td>65000.00</td>\n",
       "      <td>92</td>\n",
       "      <td>0.153846</td>\n",
       "    </tr>\n",
       "    <tr>\n",
       "      <th>305126</th>\n",
       "      <td>Film &amp; Video</td>\n",
       "      <td>failed</td>\n",
       "      <td>4</td>\n",
       "      <td>US</td>\n",
       "      <td>1530.0</td>\n",
       "      <td>20000.00</td>\n",
       "      <td>92</td>\n",
       "      <td>7.650000</td>\n",
       "    </tr>\n",
       "  </tbody>\n",
       "</table>\n",
       "</div>"
      ],
      "text/plain": [
       "            category      state  backers country  pledged       goal  \\\n",
       "319002    Publishing  suspended        0      CH      0.0    1905.97   \n",
       "2842    Film & Video   canceled        0      US      0.0    5000.00   \n",
       "48147            Art   canceled        0      US      0.0   15000.00   \n",
       "94579        Theater   canceled        0      US      0.0    4000.00   \n",
       "75397   Film & Video   canceled        0      US      0.0     700.00   \n",
       "247913         Music   canceled        0      US      0.0   10000.00   \n",
       "273779        Design   canceled        0      US      0.0     500.00   \n",
       "200310  Film & Video     failed        0      US      0.0  250000.00   \n",
       "38476     Technology     failed        1      US    100.0   65000.00   \n",
       "305126  Film & Video     failed        4      US   1530.0   20000.00   \n",
       "\n",
       "        duration  pledge_percent  \n",
       "319002     16739        0.000000  \n",
       "2842       14867        0.000000  \n",
       "48147      14835        0.000000  \n",
       "94579      14761        0.000000  \n",
       "75397      14750        0.000000  \n",
       "247913     14733        0.000000  \n",
       "273779     14709        0.000000  \n",
       "200310        92        0.000000  \n",
       "38476         92        0.153846  \n",
       "305126        92        7.650000  "
      ]
     },
     "execution_count": 8,
     "metadata": {},
     "output_type": "execute_result"
    }
   ],
   "source": [
    "# Order by duration\n",
    "kickstart_data.sort_values('duration', ascending = False).head(10)"
   ]
  },
  {
   "cell_type": "markdown",
   "metadata": {},
   "source": [
    "As we had expected earlier, it seems as though out of 370,000+ projects, only 7 of them seem to have a suspiciously long duration at well over 10,000 days. The rest of the projects in this dataset last no more than 92 days. Since this is an extremely small subset of rows from our dataframe, we can safely remove them from the dataset before proceeding."
   ]
  },
  {
   "cell_type": "code",
   "execution_count": 9,
   "metadata": {},
   "outputs": [],
   "source": [
    "# Drop our 7 outliers from the dataset based on duration\n",
    "kickstart_data.drop(kickstart_data.sort_values('duration', ascending = False).head(7).index, axis=0, inplace = True)"
   ]
  },
  {
   "cell_type": "code",
   "execution_count": 10,
   "metadata": {},
   "outputs": [],
   "source": [
    "# Applying log transformations to 'backers', 'pledged', and 'goal' columns\n",
    "kickstart_data['backers'] = np.log(kickstart_data['backers'] + 1)\n",
    "kickstart_data['pledged'] = np.log(kickstart_data['pledged'] + 1)\n",
    "kickstart_data['goal'] = np.log(kickstart_data['goal'] + 1)"
   ]
  },
  {
   "cell_type": "markdown",
   "metadata": {},
   "source": [
    "# Same as below, but runs terribly\n",
    "trace1 = go.Box(\n",
    "    y = kickstart_data['backers'],\n",
    "    x = kickstart_data['category'],\n",
    "    name = 'backers',\n",
    ")\n",
    "\n",
    "trace2 = go.Box(\n",
    "    y = kickstart_data['pledged'],\n",
    "    x = kickstart_data['category'],\n",
    "    name = 'pledged',\n",
    ")\n",
    "\n",
    "trace3 = go.Box(\n",
    "    y = kickstart_data['goal'],\n",
    "    x = kickstart_data['category'],\n",
    "    name = 'goal',\n",
    ")\n",
    "\n",
    "trace4 = go.Box(\n",
    "    y = kickstart_data['pledged'],\n",
    "    x = kickstart_data['category'],\n",
    "    name = 'pledged',\n",
    ")\n",
    "\n",
    "boxplt = [trace1, trace2, trace3, trace4]\n",
    "layout = go.Layout(\n",
    "    xaxis=dict(\n",
    "        title='Category',\n",
    "        zeroline=False\n",
    "    ),\n",
    "    boxmode='group'\n",
    ")\n",
    "\n",
    "\n",
    "fig = tools.make_subplots(rows=2, cols=2)\n",
    "\n",
    "fig.append_trace(trace1, 1, 1)\n",
    "fig.append_trace(trace2, 1, 2)\n",
    "fig.append_trace(trace3, 2, 1)\n",
    "fig.append_trace(trace4, 2, 2)\n",
    "\n",
    "\n",
    "py.offline.iplot(fig, filename ='boxplot')"
   ]
  },
  {
   "cell_type": "code",
   "execution_count": 11,
   "metadata": {},
   "outputs": [
    {
     "data": {
      "image/png": "[encoded data removed]",
      "text/plain": [
       "<Figure size 1080x1080 with 4 Axes>"
      ]
     },
     "metadata": {},
     "output_type": "display_data"
    }
   ],
   "source": [
    "# Plot all of variables, and try to identify outliers\n",
    "plt.rcParams['figure.figsize'] = [15,15]\n",
    "\n",
    "plt.subplot(2,2,1)\n",
    "plt.title('Backers')\n",
    "plt.xticks(rotation=70)\n",
    "ax = sns.boxplot(x=\"category\", y=\"backers\", data=kickstart_data)\n",
    "\n",
    "plt.subplot(2,2,2)\n",
    "plt.title('Pledged')\n",
    "plt.xticks(rotation=70)\n",
    "ax = sns.boxplot(x=\"category\", y=\"pledged\", data=kickstart_data)\n",
    "\n",
    "plt.subplot(2,2,3)\n",
    "plt.title('Goal')\n",
    "plt.xticks(rotation=70)\n",
    "ax = sns.boxplot(x=\"category\", y=\"goal\", data=kickstart_data)\n",
    "\n",
    "plt.subplot(2,2,4)\n",
    "plt.title('Duration')\n",
    "plt.xticks(rotation=70)\n",
    "ax = sns.boxplot(x=\"category\", y=\"duration\", data=kickstart_data)"
   ]
  },
  {
   "cell_type": "markdown",
   "metadata": {},
   "source": [
    "So after removing our outliers from the 'duration' column, and applying a log transformation to the 'backers', 'pledged', and 'goal' columns, we can see a somewhat normal distribution."
   ]
  },
  {
   "cell_type": "code",
   "execution_count": 12,
   "metadata": {},
   "outputs": [
    {
     "data": {
      "image/png": "[encoded data removed]",
      "text/plain": [
       "<Figure size 360x360 with 2 Axes>"
      ]
     },
     "metadata": {},
     "output_type": "display_data"
    }
   ],
   "source": [
    "# Creates a correlation matrix among the predictor variables\n",
    "plt.rcParams['figure.figsize'] = [5,5]\n",
    "\n",
    "correlation_martix = kickstart_data.corr()\n",
    "sns.heatmap(correlation_martix, vmax = 1, square = True)\n",
    "plt.show()"
   ]
  },
  {
   "cell_type": "markdown",
   "metadata": {},
   "source": [
    "There appears to be a very high degree of similarity between the number of backers, and total monetary amount contributed. This makes sense if we assume that each backer donates roughly the same amount, leading to two columns that have quite a lot in common. We can try removing one or the other later if we need to determine which of these factors is more important than the other. For now, we'll use both predictors in our model."
   ]
  },
  {
   "cell_type": "code",
   "execution_count": 13,
   "metadata": {},
   "outputs": [],
   "source": [
    "# Create separate dataframe for numerical values\n",
    "numerical = kickstart_data.select_dtypes(exclude=['object'])"
   ]
  },
  {
   "cell_type": "code",
   "execution_count": 30,
   "metadata": {},
   "outputs": [],
   "source": [
    "# Create separate dataframe for categorical values\n",
    "categorical = pd.get_dummies(kickstart_data.select_dtypes(include='object'))"
   ]
  },
  {
   "cell_type": "code",
   "execution_count": 29,
   "metadata": {},
   "outputs": [
    {
     "data": {
      "text/html": [
       "<div>\n",
       "<style scoped>\n",
       "    .dataframe tbody tr th:only-of-type {\n",
       "        vertical-align: middle;\n",
       "    }\n",
       "\n",
       "    .dataframe tbody tr th {\n",
       "        vertical-align: top;\n",
       "    }\n",
       "\n",
       "    .dataframe thead th {\n",
       "        text-align: right;\n",
       "    }\n",
       "</style>\n",
       "<table border=\"1\" class=\"dataframe\">\n",
       "  <thead>\n",
       "    <tr style=\"text-align: right;\">\n",
       "      <th></th>\n",
       "      <th>category_Art</th>\n",
       "      <th>category_Comics</th>\n",
       "      <th>category_Crafts</th>\n",
       "      <th>category_Dance</th>\n",
       "      <th>category_Design</th>\n",
       "      <th>category_Fashion</th>\n",
       "      <th>category_Film &amp; Video</th>\n",
       "      <th>category_Food</th>\n",
       "      <th>category_Games</th>\n",
       "      <th>category_Journalism</th>\n",
       "      <th>...</th>\n",
       "      <th>country_JP</th>\n",
       "      <th>country_LU</th>\n",
       "      <th>country_MX</th>\n",
       "      <th>country_N,0\"</th>\n",
       "      <th>country_NL</th>\n",
       "      <th>country_NO</th>\n",
       "      <th>country_NZ</th>\n",
       "      <th>country_SE</th>\n",
       "      <th>country_SG</th>\n",
       "      <th>country_US</th>\n",
       "    </tr>\n",
       "  </thead>\n",
       "  <tbody>\n",
       "    <tr>\n",
       "      <th>0</th>\n",
       "      <td>0</td>\n",
       "      <td>0</td>\n",
       "      <td>0</td>\n",
       "      <td>0</td>\n",
       "      <td>0</td>\n",
       "      <td>0</td>\n",
       "      <td>0</td>\n",
       "      <td>0</td>\n",
       "      <td>0</td>\n",
       "      <td>0</td>\n",
       "      <td>...</td>\n",
       "      <td>0</td>\n",
       "      <td>0</td>\n",
       "      <td>0</td>\n",
       "      <td>0</td>\n",
       "      <td>0</td>\n",
       "      <td>0</td>\n",
       "      <td>0</td>\n",
       "      <td>0</td>\n",
       "      <td>0</td>\n",
       "      <td>0</td>\n",
       "    </tr>\n",
       "    <tr>\n",
       "      <th>1</th>\n",
       "      <td>0</td>\n",
       "      <td>0</td>\n",
       "      <td>0</td>\n",
       "      <td>0</td>\n",
       "      <td>0</td>\n",
       "      <td>0</td>\n",
       "      <td>1</td>\n",
       "      <td>0</td>\n",
       "      <td>0</td>\n",
       "      <td>0</td>\n",
       "      <td>...</td>\n",
       "      <td>0</td>\n",
       "      <td>0</td>\n",
       "      <td>0</td>\n",
       "      <td>0</td>\n",
       "      <td>0</td>\n",
       "      <td>0</td>\n",
       "      <td>0</td>\n",
       "      <td>0</td>\n",
       "      <td>0</td>\n",
       "      <td>1</td>\n",
       "    </tr>\n",
       "    <tr>\n",
       "      <th>2</th>\n",
       "      <td>0</td>\n",
       "      <td>0</td>\n",
       "      <td>0</td>\n",
       "      <td>0</td>\n",
       "      <td>0</td>\n",
       "      <td>0</td>\n",
       "      <td>1</td>\n",
       "      <td>0</td>\n",
       "      <td>0</td>\n",
       "      <td>0</td>\n",
       "      <td>...</td>\n",
       "      <td>0</td>\n",
       "      <td>0</td>\n",
       "      <td>0</td>\n",
       "      <td>0</td>\n",
       "      <td>0</td>\n",
       "      <td>0</td>\n",
       "      <td>0</td>\n",
       "      <td>0</td>\n",
       "      <td>0</td>\n",
       "      <td>1</td>\n",
       "    </tr>\n",
       "    <tr>\n",
       "      <th>3</th>\n",
       "      <td>0</td>\n",
       "      <td>0</td>\n",
       "      <td>0</td>\n",
       "      <td>0</td>\n",
       "      <td>0</td>\n",
       "      <td>0</td>\n",
       "      <td>0</td>\n",
       "      <td>0</td>\n",
       "      <td>0</td>\n",
       "      <td>0</td>\n",
       "      <td>...</td>\n",
       "      <td>0</td>\n",
       "      <td>0</td>\n",
       "      <td>0</td>\n",
       "      <td>0</td>\n",
       "      <td>0</td>\n",
       "      <td>0</td>\n",
       "      <td>0</td>\n",
       "      <td>0</td>\n",
       "      <td>0</td>\n",
       "      <td>1</td>\n",
       "    </tr>\n",
       "    <tr>\n",
       "      <th>4</th>\n",
       "      <td>0</td>\n",
       "      <td>0</td>\n",
       "      <td>0</td>\n",
       "      <td>0</td>\n",
       "      <td>0</td>\n",
       "      <td>0</td>\n",
       "      <td>1</td>\n",
       "      <td>0</td>\n",
       "      <td>0</td>\n",
       "      <td>0</td>\n",
       "      <td>...</td>\n",
       "      <td>0</td>\n",
       "      <td>0</td>\n",
       "      <td>0</td>\n",
       "      <td>0</td>\n",
       "      <td>0</td>\n",
       "      <td>0</td>\n",
       "      <td>0</td>\n",
       "      <td>0</td>\n",
       "      <td>0</td>\n",
       "      <td>1</td>\n",
       "    </tr>\n",
       "  </tbody>\n",
       "</table>\n",
       "<p>5 rows × 38 columns</p>\n",
       "</div>"
      ],
      "text/plain": [
       "   category_Art  category_Comics  category_Crafts  category_Dance  \\\n",
       "0             0                0                0               0   \n",
       "1             0                0                0               0   \n",
       "2             0                0                0               0   \n",
       "3             0                0                0               0   \n",
       "4             0                0                0               0   \n",
       "\n",
       "   category_Design  category_Fashion  category_Film & Video  category_Food  \\\n",
       "0                0                 0                      0              0   \n",
       "1                0                 0                      1              0   \n",
       "2                0                 0                      1              0   \n",
       "3                0                 0                      0              0   \n",
       "4                0                 0                      1              0   \n",
       "\n",
       "   category_Games  category_Journalism     ...      country_JP  country_LU  \\\n",
       "0               0                    0     ...               0           0   \n",
       "1               0                    0     ...               0           0   \n",
       "2               0                    0     ...               0           0   \n",
       "3               0                    0     ...               0           0   \n",
       "4               0                    0     ...               0           0   \n",
       "\n",
       "   country_MX  country_N,0\"  country_NL  country_NO  country_NZ  country_SE  \\\n",
       "0           0             0           0           0           0           0   \n",
       "1           0             0           0           0           0           0   \n",
       "2           0             0           0           0           0           0   \n",
       "3           0             0           0           0           0           0   \n",
       "4           0             0           0           0           0           0   \n",
       "\n",
       "   country_SG  country_US  \n",
       "0           0           0  \n",
       "1           0           1  \n",
       "2           0           1  \n",
       "3           0           1  \n",
       "4           0           1  \n",
       "\n",
       "[5 rows x 38 columns]"
      ]
     },
     "execution_count": 29,
     "metadata": {},
     "output_type": "execute_result"
    }
   ],
   "source": [
    "categorical.head()"
   ]
  },
  {
   "cell_type": "code",
   "execution_count": 16,
   "metadata": {},
   "outputs": [
    {
     "data": {
      "application/vnd.plotly.v1+json": {
       "data": [
        {
         "labels": [
          "Publishing",
          "Film & Video",
          "Music",
          "Food",
          "Design",
          "Crafts",
          "Games",
          "Comics",
          "Fashion",
          "Theater",
          "Art",
          "Photography",
          "Technology",
          "Dance",
          "Journalism"
         ],
         "type": "pie",
         "values": [
          63583,
          51917,
          39873,
          35231,
          32569,
          30069,
          28152,
          24602,
          22816,
          10912,
          10819,
          10779,
          8809,
          4755,
          3768
         ]
        }
       ],
       "layout": {
        "autosize": false,
        "height": 600,
        "title": "Kickstarter Projects by Category",
        "width": 800
       }
      },
      "text/html": [
       "<div id=\"1e266bb4-cdf8-40b0-ab04-d4c4cc40a6dc\" style=\"height: 600px; width: 800px;\" class=\"plotly-graph-div\"></div><script type=\"text/javascript\">require([\"plotly\"], function(Plotly) { window.PLOTLYENV=window.PLOTLYENV || {};window.PLOTLYENV.BASE_URL=\"https://plot.ly\";Plotly.newPlot(\"1e266bb4-cdf8-40b0-ab04-d4c4cc40a6dc\", [{\"type\": \"pie\", \"labels\": [\"Publishing\", \"Film & Video\", \"Music\", \"Food\", \"Design\", \"Crafts\", \"Games\", \"Comics\", \"Fashion\", \"Theater\", \"Art\", \"Photography\", \"Technology\", \"Dance\", \"Journalism\"], \"values\": [63583, 51917, 39873, 35231, 32569, 30069, 28152, 24602, 22816, 10912, 10819, 10779, 8809, 4755, 3768]}], {\"title\": \"Kickstarter Projects by Category\", \"height\": 600, \"width\": 800, \"autosize\": false}, {\"showLink\": true, \"linkText\": \"Export to plot.ly\"})});</script>"
      ],
      "text/vnd.plotly.v1+html": [
       "<div id=\"1e266bb4-cdf8-40b0-ab04-d4c4cc40a6dc\" style=\"height: 600px; width: 800px;\" class=\"plotly-graph-div\"></div><script type=\"text/javascript\">require([\"plotly\"], function(Plotly) { window.PLOTLYENV=window.PLOTLYENV || {};window.PLOTLYENV.BASE_URL=\"https://plot.ly\";Plotly.newPlot(\"1e266bb4-cdf8-40b0-ab04-d4c4cc40a6dc\", [{\"type\": \"pie\", \"labels\": [\"Publishing\", \"Film & Video\", \"Music\", \"Food\", \"Design\", \"Crafts\", \"Games\", \"Comics\", \"Fashion\", \"Theater\", \"Art\", \"Photography\", \"Technology\", \"Dance\", \"Journalism\"], \"values\": [63583, 51917, 39873, 35231, 32569, 30069, 28152, 24602, 22816, 10912, 10819, 10779, 8809, 4755, 3768]}], {\"title\": \"Kickstarter Projects by Category\", \"height\": 600, \"width\": 800, \"autosize\": false}, {\"showLink\": true, \"linkText\": \"Export to plot.ly\"})});</script>"
      ]
     },
     "metadata": {},
     "output_type": "display_data"
    }
   ],
   "source": [
    "# Pass in values for our pie chart\n",
    "trace = go.Pie(labels=kickstart_data['category'].unique(), values = kickstart_data['category'].value_counts())\n",
    "\n",
    "# Create the layout\n",
    "layout = go.Layout(\n",
    "    title = 'Kickstarter Projects by Category',\n",
    "    height = 600,\n",
    "    width = 800,\n",
    "    autosize = False\n",
    ")\n",
    "\n",
    "# Construct the chart\n",
    "fig = go.Figure(data = [trace], layout = layout)\n",
    "py.offline.iplot(fig, filename ='cufflinks/simple')"
   ]
  },
  {
   "cell_type": "code",
   "execution_count": 17,
   "metadata": {},
   "outputs": [
    {
     "data": {
      "text/plain": [
       "<matplotlib.axes._subplots.AxesSubplot at 0x13c0d0c99b0>"
      ]
     },
     "execution_count": 17,
     "metadata": {},
     "output_type": "execute_result"
    },
    {
     "data": {
      "image/png": "[encoded data removed]",
      "text/plain": [
       "<Figure size 864x432 with 1 Axes>"
      ]
     },
     "metadata": {},
     "output_type": "display_data"
    }
   ],
   "source": [
    "# Plot kickstarter states\n",
    "plt.rcParams['figure.figsize'] = [12,6]\n",
    "plt.title('Kickstarter States')\n",
    "plt.xlabel('State count')\n",
    "kickstart_data['state'].value_counts().plot(kind='barh')"
   ]
  },
  {
   "cell_type": "code",
   "execution_count": 18,
   "metadata": {},
   "outputs": [],
   "source": [
    "# Remove 'suspended', 'live', and 'undefined' states from the dataset\n",
    "kickstart_data = kickstart_data[kickstart_data.state != ('suspended', 'live', 'undefined')]\n",
    "\n",
    "# Consolidate 'canceled' and 'failed' into one category\n",
    "success_rate = np.where(kickstart_data.state == 'successful', 1, 0)\n",
    "\n",
    "# Remove the 'state' column from our dataset\n",
    "# since it's not a predictor, it's the outcome\n",
    "kickstart_data.drop(['state'], axis = 1, inplace = True)"
   ]
  },
  {
   "cell_type": "code",
   "execution_count": 19,
   "metadata": {},
   "outputs": [
    {
     "data": {
      "text/plain": [
       "(-1.1154681955525665,\n",
       " 1.1143348565040996,\n",
       " -1.1132377615610414,\n",
       " 1.117099503783597)"
      ]
     },
     "execution_count": 19,
     "metadata": {},
     "output_type": "execute_result"
    },
    {
     "data": {
      "image/png": "[encoded data removed]",
      "text/plain": [
       "<Figure size 864x432 with 1 Axes>"
      ]
     },
     "metadata": {},
     "output_type": "display_data"
    }
   ],
   "source": [
    "# Constructs a pie chart displaying our final successful and unsuccessful values\n",
    "plt.pie(np.bincount(success_rate), labels=['unsuccessful', 'successful'],\n",
    "        autopct='%1.1f%%', shadow=True, startangle=140)\n",
    "plt.axis('equal')"
   ]
  },
  {
   "cell_type": "code",
   "execution_count": 20,
   "metadata": {},
   "outputs": [
    {
     "data": {
      "text/plain": [
       "<BarContainer object of 2 artists>"
      ]
     },
     "execution_count": 20,
     "metadata": {},
     "output_type": "execute_result"
    },
    {
     "data": {
      "image/png": "[encoded data removed]",
      "text/plain": [
       "<Figure size 864x432 with 1 Axes>"
      ]
     },
     "metadata": {},
     "output_type": "display_data"
    }
   ],
   "source": [
    "# Plot kickstarter states - same as above, not sure which one to keep yet\n",
    "plt.rcParams['figure.figsize'] = [12,6]\n",
    "plt.title('Kickstarter States')\n",
    "plt.xlabel('State count')\n",
    "plt.barh(np.unique(success_rate), np.bincount(success_rate))"
   ]
  },
  {
   "cell_type": "markdown",
   "metadata": {},
   "source": [
    "# Model 1: Linear Regression"
   ]
  },
  {
   "cell_type": "code",
   "execution_count": 21,
   "metadata": {},
   "outputs": [],
   "source": [
    "# Divide the dataset into training and testing datasets\n",
    "X_train, X_test, y_train, y_test = train_test_split(numerical, success_rate, test_size=0.3)"
   ]
  },
  {
   "cell_type": "code",
   "execution_count": 22,
   "metadata": {},
   "outputs": [
    {
     "data": {
      "text/plain": [
       "array([0.98704067, 0.9860409 , 0.98634271, 0.98785158, 0.98885116])"
      ]
     },
     "execution_count": 22,
     "metadata": {},
     "output_type": "execute_result"
    }
   ],
   "source": [
    "# Constructing our logistic regression model\n",
    "lr = LogisticRegression(C = 1e9)\n",
    "\n",
    "# Checking the accuracy of our model using cross validation\n",
    "cross_val_score(lr, X_train, y_train, cv=5)"
   ]
  },
  {
   "cell_type": "code",
   "execution_count": 23,
   "metadata": {},
   "outputs": [
    {
     "data": {
      "text/plain": [
       "array([[72131,  1373],\n",
       "       [   40, 40053]], dtype=int64)"
      ]
     },
     "execution_count": 23,
     "metadata": {},
     "output_type": "execute_result"
    }
   ],
   "source": [
    "lr.fit(X_train, y_train)\n",
    "\n",
    "lr_pred = lr.predict(X_test)\n",
    "\n",
    "confusion_matrix(y_test, lr_pred)"
   ]
  },
  {
   "cell_type": "markdown",
   "metadata": {},
   "source": [
    "# Model 2: Random Forest"
   ]
  },
  {
   "cell_type": "code",
   "execution_count": 24,
   "metadata": {},
   "outputs": [],
   "source": [
    "# sns.distplot(kickstart_data['pledge_percent'], kde = False, rug = True)"
   ]
  },
  {
   "cell_type": "code",
   "execution_count": 25,
   "metadata": {},
   "outputs": [],
   "source": [
    "# sns.jointplot(kickstart_data['pledged'], kickstart_data['goal'], kickstart_data)"
   ]
  },
  {
   "cell_type": "code",
   "execution_count": 26,
   "metadata": {},
   "outputs": [],
   "source": [
    "#from sklearn import ensemble\n",
    "#from sklearn.model_selection import cross_val_score\n",
    "\n",
    "#rfc = ensemble.RandomForestClassifier()\n",
    "#X = data.drop('state', 1)\n",
    "#Y = data['state']\n",
    "#X = pd.get_dummies(X)\n",
    "#X = X.dropna(axis=1)\n",
    "\n",
    "#cross_val_score(rfc, X, Y, cv=10)"
   ]
  },
  {
   "cell_type": "markdown",
   "metadata": {},
   "source": [
    "# Source:\n",
    "Kickstarter Data Page - \n",
    "https://www.kaggle.com/kemical/kickstarter-projects/data"
   ]
  },
  {
   "cell_type": "code",
   "execution_count": null,
   "metadata": {},
   "outputs": [],
   "source": []
  }
 ],
 "metadata": {
  "kernelspec": {
   "display_name": "Python 3",
   "language": "python",
   "name": "python3"
  },
  "language_info": {
   "codemirror_mode": {
    "name": "ipython",
    "version": 3
   },
   "file_extension": ".py",
   "mimetype": "text/x-python",
   "name": "python",
   "nbconvert_exporter": "python",
   "pygments_lexer": "ipython3",
   "version": "3.6.5"
  }
 },
 "nbformat": 4,
 "nbformat_minor": 2
}
