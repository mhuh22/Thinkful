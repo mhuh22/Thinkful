{
 "cells": [
  {
   "cell_type": "markdown",
   "metadata": {},
   "source": [
    "# Predicting Successful Kickstarter Project\n",
    "\n",
    "# Abstract\n",
    "\n",
    "(Insert abstract here)\n",
    "\n",
    "# What is Kickstarter\n",
    "\n",
    "To put it in their own words “Kickstarter helps artists, musicians, filmmakers, designers, and other creators find the resources and support they need to make their ideas a reality. To date, tens of thousands of creative projects — big and small — have come to life with the support of the Kickstarter community.”\n",
    "\n",
    "It is a platform that allows creators to transform ideas through the use of crowdfunding from backers in order to create tangible products. Creators are the people that set deadlines with funding goals that need to be met in order for them to create their projects, as well as stretch goals that may be created if that goal is surpassed. Projects can also have their deadlines extended and funding goals adjusted after the fact\n",
    "\n",
    "# About the Data\n",
    "\n",
    "In our dataset lies a collection of 378,661 projects from 2009 to January 2018 that contain a wide variety of project types and goals. The columns provided in our dataset are\n",
    "1. The project ID\n",
    "2. The project name\n",
    "3. Category\n",
    "4. Main category\n",
    "5. Currency type (USD,  EUR, GBP, etc.)\n",
    "6. Deadline\n",
    "7. Goal\n",
    "8. Launch date\n",
    "9. Pledged amount\n",
    "10. State of the project (Successful, failed, cancelled, live, suspended)\n",
    "11. Number of backers\n",
    "12. Country of origin\n",
    "13. USD pledged\n",
    "14. USD pledged real\n",
    "15. USD goal real\n",
    "\n",
    "# Research Question\n",
    "\n",
    "Now, the goal of this project is to determine what factors ultimately determine the success (or failure) of a kickstarter project.\n",
    "\n",
    "\n"
   ]
  },
  {
   "cell_type": "code",
   "execution_count": 1,
   "metadata": {},
   "outputs": [],
   "source": [
    "# Import statements\n",
    "import pandas as pd\n",
    "import numpy as np\n",
    "import matplotlib.pyplot as plt\n",
    "import seaborn as sns\n",
    "%matplotlib inline"
   ]
  },
  {
   "cell_type": "code",
   "execution_count": 2,
   "metadata": {},
   "outputs": [
    {
     "data": {
      "text/html": [
       "<div>\n",
       "<style scoped>\n",
       "    .dataframe tbody tr th:only-of-type {\n",
       "        vertical-align: middle;\n",
       "    }\n",
       "\n",
       "    .dataframe tbody tr th {\n",
       "        vertical-align: top;\n",
       "    }\n",
       "\n",
       "    .dataframe thead th {\n",
       "        text-align: right;\n",
       "    }\n",
       "</style>\n",
       "<table border=\"1\" class=\"dataframe\">\n",
       "  <thead>\n",
       "    <tr style=\"text-align: right;\">\n",
       "      <th></th>\n",
       "      <th>ID</th>\n",
       "      <th>name</th>\n",
       "      <th>category</th>\n",
       "      <th>main_category</th>\n",
       "      <th>currency</th>\n",
       "      <th>deadline</th>\n",
       "      <th>goal</th>\n",
       "      <th>launched</th>\n",
       "      <th>pledged</th>\n",
       "      <th>state</th>\n",
       "      <th>backers</th>\n",
       "      <th>country</th>\n",
       "      <th>usd pledged</th>\n",
       "      <th>usd_pledged_real</th>\n",
       "      <th>usd_goal_real</th>\n",
       "    </tr>\n",
       "  </thead>\n",
       "  <tbody>\n",
       "    <tr>\n",
       "      <th>138572</th>\n",
       "      <td>1703704063</td>\n",
       "      <td>drawing for dollars</td>\n",
       "      <td>Illustration</td>\n",
       "      <td>Art</td>\n",
       "      <td>USD</td>\n",
       "      <td>2009-05-03</td>\n",
       "      <td>20.0</td>\n",
       "      <td>2009-04-24 21:52:03</td>\n",
       "      <td>35.0</td>\n",
       "      <td>successful</td>\n",
       "      <td>3</td>\n",
       "      <td>US</td>\n",
       "      <td>35.0</td>\n",
       "      <td>35.0</td>\n",
       "      <td>20.0</td>\n",
       "    </tr>\n",
       "    <tr>\n",
       "      <th>213711</th>\n",
       "      <td>2089078683</td>\n",
       "      <td>New York Makes a Book!!</td>\n",
       "      <td>Journalism</td>\n",
       "      <td>Journalism</td>\n",
       "      <td>USD</td>\n",
       "      <td>2009-05-16</td>\n",
       "      <td>3000.0</td>\n",
       "      <td>2009-04-28 13:55:41</td>\n",
       "      <td>3329.0</td>\n",
       "      <td>successful</td>\n",
       "      <td>110</td>\n",
       "      <td>US</td>\n",
       "      <td>3329.0</td>\n",
       "      <td>3329.0</td>\n",
       "      <td>3000.0</td>\n",
       "    </tr>\n",
       "    <tr>\n",
       "      <th>342226</th>\n",
       "      <td>813230527</td>\n",
       "      <td>Sponsor Dereck Blackburn (Lostwars) Artist in ...</td>\n",
       "      <td>Rock</td>\n",
       "      <td>Music</td>\n",
       "      <td>USD</td>\n",
       "      <td>2009-05-16</td>\n",
       "      <td>300.0</td>\n",
       "      <td>2009-04-29 05:26:32</td>\n",
       "      <td>15.0</td>\n",
       "      <td>failed</td>\n",
       "      <td>2</td>\n",
       "      <td>US</td>\n",
       "      <td>15.0</td>\n",
       "      <td>15.0</td>\n",
       "      <td>300.0</td>\n",
       "    </tr>\n",
       "    <tr>\n",
       "      <th>28960</th>\n",
       "      <td>1147015301</td>\n",
       "      <td>\"All We Had\" Gets Into Cannes -- $10 or More G...</td>\n",
       "      <td>Documentary</td>\n",
       "      <td>Film &amp; Video</td>\n",
       "      <td>USD</td>\n",
       "      <td>2009-05-20</td>\n",
       "      <td>300.0</td>\n",
       "      <td>2009-04-30 22:10:30</td>\n",
       "      <td>40.0</td>\n",
       "      <td>failed</td>\n",
       "      <td>4</td>\n",
       "      <td>US</td>\n",
       "      <td>40.0</td>\n",
       "      <td>40.0</td>\n",
       "      <td>300.0</td>\n",
       "    </tr>\n",
       "    <tr>\n",
       "      <th>196244</th>\n",
       "      <td>199916122</td>\n",
       "      <td>Mr. Squiggles</td>\n",
       "      <td>Illustration</td>\n",
       "      <td>Art</td>\n",
       "      <td>USD</td>\n",
       "      <td>2009-05-22</td>\n",
       "      <td>30.0</td>\n",
       "      <td>2009-05-12 23:39:58</td>\n",
       "      <td>0.0</td>\n",
       "      <td>failed</td>\n",
       "      <td>0</td>\n",
       "      <td>US</td>\n",
       "      <td>0.0</td>\n",
       "      <td>0.0</td>\n",
       "      <td>30.0</td>\n",
       "    </tr>\n",
       "  </tbody>\n",
       "</table>\n",
       "</div>"
      ],
      "text/plain": [
       "                ID                                               name  \\\n",
       "138572  1703704063                                drawing for dollars   \n",
       "213711  2089078683                            New York Makes a Book!!   \n",
       "342226   813230527  Sponsor Dereck Blackburn (Lostwars) Artist in ...   \n",
       "28960   1147015301  \"All We Had\" Gets Into Cannes -- $10 or More G...   \n",
       "196244   199916122                                      Mr. Squiggles   \n",
       "\n",
       "            category main_category currency    deadline    goal  \\\n",
       "138572  Illustration           Art      USD  2009-05-03    20.0   \n",
       "213711    Journalism    Journalism      USD  2009-05-16  3000.0   \n",
       "342226          Rock         Music      USD  2009-05-16   300.0   \n",
       "28960    Documentary  Film & Video      USD  2009-05-20   300.0   \n",
       "196244  Illustration           Art      USD  2009-05-22    30.0   \n",
       "\n",
       "                   launched  pledged       state  backers country  \\\n",
       "138572  2009-04-24 21:52:03     35.0  successful        3      US   \n",
       "213711  2009-04-28 13:55:41   3329.0  successful      110      US   \n",
       "342226  2009-04-29 05:26:32     15.0      failed        2      US   \n",
       "28960   2009-04-30 22:10:30     40.0      failed        4      US   \n",
       "196244  2009-05-12 23:39:58      0.0      failed        0      US   \n",
       "\n",
       "        usd pledged  usd_pledged_real  usd_goal_real  \n",
       "138572         35.0              35.0           20.0  \n",
       "213711       3329.0            3329.0         3000.0  \n",
       "342226         15.0              15.0          300.0  \n",
       "28960          40.0              40.0          300.0  \n",
       "196244          0.0               0.0           30.0  "
      ]
     },
     "execution_count": 2,
     "metadata": {},
     "output_type": "execute_result"
    }
   ],
   "source": [
    "# Import data and sort by deadline date\n",
    "kickstart_data = pd.read_csv(\"ks-projects-201801.csv\")\n",
    "\n",
    "# Drop all empty rows\n",
    "kickstart_data.dropna()\n",
    "\n",
    "# Preview the data, ordered by deadline\n",
    "kickstart_data.sort_values('deadline').head()"
   ]
  },
  {
   "cell_type": "markdown",
   "metadata": {},
   "source": [
    "# Exploratory Data Analysis"
   ]
  },
  {
   "cell_type": "code",
   "execution_count": 3,
   "metadata": {},
   "outputs": [
    {
     "data": {
      "text/plain": [
       "(378661, 15)"
      ]
     },
     "execution_count": 3,
     "metadata": {},
     "output_type": "execute_result"
    }
   ],
   "source": [
    "# Check the size of our dataset\n",
    "kickstart_data.shape"
   ]
  },
  {
   "cell_type": "code",
   "execution_count": 4,
   "metadata": {},
   "outputs": [
    {
     "data": {
      "text/plain": [
       "name             375764\n",
       "category            159\n",
       "main_category        15\n",
       "currency             14\n",
       "deadline           3164\n",
       "launched         378089\n",
       "state                 6\n",
       "country              23\n",
       "dtype: int64"
      ]
     },
     "execution_count": 4,
     "metadata": {},
     "output_type": "execute_result"
    }
   ],
   "source": [
    "# Print out column names and # of unique values in each categorical variable\n",
    "kickstart_data.select_dtypes(include=['object']).nunique()"
   ]
  },
  {
   "cell_type": "code",
   "execution_count": 5,
   "metadata": {},
   "outputs": [],
   "source": [
    "# Convert 'launched' and 'deadline' columns into dates\n",
    "kickstart_data['launched'] = kickstart_data['launched'].astype('datetime64[ns]')\n",
    "kickstart_data['deadline'] = pd.to_datetime(kickstart_data['deadline'])\n",
    "kickstart_data['launched'] = pd.DatetimeIndex(kickstart_data.launched).normalize()\n",
    "\n",
    "# Project duration is more useful and less data\n",
    "# than the launch date and deadline\n",
    "kickstart_data['duration'] = kickstart_data['deadline'] - kickstart_data['launched']\n",
    "kickstart_data['duration'] = (kickstart_data['duration'] / np.timedelta64(1, 'D')).astype(int)\n",
    "\n",
    "# Drop variables that have no relation to state, and\n",
    "# variables that have over 15 unique values\n",
    "kickstart_data.drop(['ID', 'name', 'category', 'launched', 'deadline', \n",
    "                     'currency', 'goal', 'pledged', 'usd pledged'], 1, inplace=True)\n",
    "\n",
    "# Rename usd_pledged_real and usd_goal_real to \n",
    "# pledged and goal\n",
    "kickstart_data = kickstart_data.rename(index=str, columns = {'usd_pledged_real': 'pledged', \n",
    "                                                             'usd_goal_real': 'goal', \n",
    "                                                             'main_category': 'category'})\n",
    "\n",
    "# Let's create a new variable, pledged% to show how much\n",
    "# of the goal was met\n",
    "kickstart_data['pledge_percent'] = kickstart_data['pledged'] / kickstart_data['goal'] * 100"
   ]
  },
  {
   "cell_type": "code",
   "execution_count": 6,
   "metadata": {},
   "outputs": [
    {
     "data": {
      "text/plain": [
       "array(['failed', 'canceled', 'successful', 'live', 'undefined',\n",
       "       'suspended'], dtype=object)"
      ]
     },
     "execution_count": 6,
     "metadata": {},
     "output_type": "execute_result"
    }
   ],
   "source": [
    "# Create dataframe to track kickstarter successes\n",
    "success = kickstart_data['state']\n",
    "\n",
    "# Return the different states\n",
    "success.unique()"
   ]
  },
  {
   "cell_type": "code",
   "execution_count": 7,
   "metadata": {},
   "outputs": [
    {
     "data": {
      "text/html": [
       "<div>\n",
       "<style scoped>\n",
       "    .dataframe tbody tr th:only-of-type {\n",
       "        vertical-align: middle;\n",
       "    }\n",
       "\n",
       "    .dataframe tbody tr th {\n",
       "        vertical-align: top;\n",
       "    }\n",
       "\n",
       "    .dataframe thead th {\n",
       "        text-align: right;\n",
       "    }\n",
       "</style>\n",
       "<table border=\"1\" class=\"dataframe\">\n",
       "  <thead>\n",
       "    <tr style=\"text-align: right;\">\n",
       "      <th></th>\n",
       "      <th>category</th>\n",
       "      <th>state</th>\n",
       "      <th>backers</th>\n",
       "      <th>country</th>\n",
       "      <th>pledged</th>\n",
       "      <th>goal</th>\n",
       "      <th>duration</th>\n",
       "      <th>pledge_percent</th>\n",
       "    </tr>\n",
       "  </thead>\n",
       "  <tbody>\n",
       "    <tr>\n",
       "      <th>0</th>\n",
       "      <td>Publishing</td>\n",
       "      <td>failed</td>\n",
       "      <td>0</td>\n",
       "      <td>GB</td>\n",
       "      <td>0.0</td>\n",
       "      <td>1533.95</td>\n",
       "      <td>59</td>\n",
       "      <td>0.000000</td>\n",
       "    </tr>\n",
       "    <tr>\n",
       "      <th>1</th>\n",
       "      <td>Film &amp; Video</td>\n",
       "      <td>failed</td>\n",
       "      <td>15</td>\n",
       "      <td>US</td>\n",
       "      <td>2421.0</td>\n",
       "      <td>30000.00</td>\n",
       "      <td>60</td>\n",
       "      <td>8.070000</td>\n",
       "    </tr>\n",
       "    <tr>\n",
       "      <th>2</th>\n",
       "      <td>Film &amp; Video</td>\n",
       "      <td>failed</td>\n",
       "      <td>3</td>\n",
       "      <td>US</td>\n",
       "      <td>220.0</td>\n",
       "      <td>45000.00</td>\n",
       "      <td>45</td>\n",
       "      <td>0.488889</td>\n",
       "    </tr>\n",
       "    <tr>\n",
       "      <th>3</th>\n",
       "      <td>Music</td>\n",
       "      <td>failed</td>\n",
       "      <td>1</td>\n",
       "      <td>US</td>\n",
       "      <td>1.0</td>\n",
       "      <td>5000.00</td>\n",
       "      <td>30</td>\n",
       "      <td>0.020000</td>\n",
       "    </tr>\n",
       "    <tr>\n",
       "      <th>4</th>\n",
       "      <td>Film &amp; Video</td>\n",
       "      <td>canceled</td>\n",
       "      <td>14</td>\n",
       "      <td>US</td>\n",
       "      <td>1283.0</td>\n",
       "      <td>19500.00</td>\n",
       "      <td>56</td>\n",
       "      <td>6.579487</td>\n",
       "    </tr>\n",
       "  </tbody>\n",
       "</table>\n",
       "</div>"
      ],
      "text/plain": [
       "       category     state  backers country  pledged      goal  duration  \\\n",
       "0    Publishing    failed        0      GB      0.0   1533.95        59   \n",
       "1  Film & Video    failed       15      US   2421.0  30000.00        60   \n",
       "2  Film & Video    failed        3      US    220.0  45000.00        45   \n",
       "3         Music    failed        1      US      1.0   5000.00        30   \n",
       "4  Film & Video  canceled       14      US   1283.0  19500.00        56   \n",
       "\n",
       "   pledge_percent  \n",
       "0        0.000000  \n",
       "1        8.070000  \n",
       "2        0.488889  \n",
       "3        0.020000  \n",
       "4        6.579487  "
      ]
     },
     "execution_count": 7,
     "metadata": {},
     "output_type": "execute_result"
    }
   ],
   "source": [
    "kickstart_data.head()"
   ]
  },
  {
   "cell_type": "code",
   "execution_count": 8,
   "metadata": {},
   "outputs": [
    {
     "data": {
      "text/html": [
       "<div>\n",
       "<style scoped>\n",
       "    .dataframe tbody tr th:only-of-type {\n",
       "        vertical-align: middle;\n",
       "    }\n",
       "\n",
       "    .dataframe tbody tr th {\n",
       "        vertical-align: top;\n",
       "    }\n",
       "\n",
       "    .dataframe thead th {\n",
       "        text-align: right;\n",
       "    }\n",
       "</style>\n",
       "<table border=\"1\" class=\"dataframe\">\n",
       "  <thead>\n",
       "    <tr style=\"text-align: right;\">\n",
       "      <th></th>\n",
       "      <th>backers</th>\n",
       "      <th>pledged</th>\n",
       "      <th>goal</th>\n",
       "      <th>duration</th>\n",
       "      <th>pledge_percent</th>\n",
       "    </tr>\n",
       "  </thead>\n",
       "  <tbody>\n",
       "    <tr>\n",
       "      <th>count</th>\n",
       "      <td>378661.000000</td>\n",
       "      <td>3.786610e+05</td>\n",
       "      <td>3.786610e+05</td>\n",
       "      <td>378661.000000</td>\n",
       "      <td>3.786610e+05</td>\n",
       "    </tr>\n",
       "    <tr>\n",
       "      <th>mean</th>\n",
       "      <td>105.617476</td>\n",
       "      <td>9.058924e+03</td>\n",
       "      <td>4.545440e+04</td>\n",
       "      <td>34.481095</td>\n",
       "      <td>3.236121e+02</td>\n",
       "    </tr>\n",
       "    <tr>\n",
       "      <th>std</th>\n",
       "      <td>907.185035</td>\n",
       "      <td>9.097334e+04</td>\n",
       "      <td>1.152950e+06</td>\n",
       "      <td>65.909173</td>\n",
       "      <td>2.669054e+04</td>\n",
       "    </tr>\n",
       "    <tr>\n",
       "      <th>min</th>\n",
       "      <td>0.000000</td>\n",
       "      <td>0.000000e+00</td>\n",
       "      <td>1.000000e-02</td>\n",
       "      <td>1.000000</td>\n",
       "      <td>0.000000e+00</td>\n",
       "    </tr>\n",
       "    <tr>\n",
       "      <th>25%</th>\n",
       "      <td>2.000000</td>\n",
       "      <td>3.100000e+01</td>\n",
       "      <td>2.000000e+03</td>\n",
       "      <td>30.000000</td>\n",
       "      <td>4.533333e-01</td>\n",
       "    </tr>\n",
       "    <tr>\n",
       "      <th>50%</th>\n",
       "      <td>12.000000</td>\n",
       "      <td>6.243300e+02</td>\n",
       "      <td>5.500000e+03</td>\n",
       "      <td>30.000000</td>\n",
       "      <td>1.346400e+01</td>\n",
       "    </tr>\n",
       "    <tr>\n",
       "      <th>75%</th>\n",
       "      <td>56.000000</td>\n",
       "      <td>4.050000e+03</td>\n",
       "      <td>1.550000e+04</td>\n",
       "      <td>37.000000</td>\n",
       "      <td>1.065400e+02</td>\n",
       "    </tr>\n",
       "    <tr>\n",
       "      <th>max</th>\n",
       "      <td>219382.000000</td>\n",
       "      <td>2.033899e+07</td>\n",
       "      <td>1.663614e+08</td>\n",
       "      <td>16739.000000</td>\n",
       "      <td>1.042779e+07</td>\n",
       "    </tr>\n",
       "  </tbody>\n",
       "</table>\n",
       "</div>"
      ],
      "text/plain": [
       "             backers       pledged          goal       duration  \\\n",
       "count  378661.000000  3.786610e+05  3.786610e+05  378661.000000   \n",
       "mean      105.617476  9.058924e+03  4.545440e+04      34.481095   \n",
       "std       907.185035  9.097334e+04  1.152950e+06      65.909173   \n",
       "min         0.000000  0.000000e+00  1.000000e-02       1.000000   \n",
       "25%         2.000000  3.100000e+01  2.000000e+03      30.000000   \n",
       "50%        12.000000  6.243300e+02  5.500000e+03      30.000000   \n",
       "75%        56.000000  4.050000e+03  1.550000e+04      37.000000   \n",
       "max    219382.000000  2.033899e+07  1.663614e+08   16739.000000   \n",
       "\n",
       "       pledge_percent  \n",
       "count    3.786610e+05  \n",
       "mean     3.236121e+02  \n",
       "std      2.669054e+04  \n",
       "min      0.000000e+00  \n",
       "25%      4.533333e-01  \n",
       "50%      1.346400e+01  \n",
       "75%      1.065400e+02  \n",
       "max      1.042779e+07  "
      ]
     },
     "execution_count": 8,
     "metadata": {},
     "output_type": "execute_result"
    }
   ],
   "source": [
    "kickstart_data.describe()"
   ]
  },
  {
   "cell_type": "code",
   "execution_count": 10,
   "metadata": {},
   "outputs": [
    {
     "name": "stderr",
     "output_type": "stream",
     "text": [
      "C:\\Users\\nu\\Anaconda3\\lib\\site-packages\\matplotlib\\axes\\_axes.py:6462: UserWarning: The 'normed' kwarg is deprecated, and has been replaced by the 'density' kwarg.\n",
      "  warnings.warn(\"The 'normed' kwarg is deprecated, and has been \"\n"
     ]
    },
    {
     "data": {
      "text/plain": [
       "(0, 60)"
      ]
     },
     "execution_count": 10,
     "metadata": {},
     "output_type": "execute_result"
    },
    {
     "data": {
      "image/png": "[encoded data removed]",
      "text/plain": [
       "<Figure size 432x288 with 1 Axes>"
      ]
     },
     "metadata": {},
     "output_type": "display_data"
    }
   ],
   "source": [
    "sns.distplot(kickstart_data['duration'])\n",
    "plt.xlim(0, 60)"
   ]
  },
  {
   "cell_type": "code",
   "execution_count": null,
   "metadata": {},
   "outputs": [],
   "source": [
    "sns.distplot(kickstart_data['backers'])"
   ]
  },
  {
   "cell_type": "code",
   "execution_count": null,
   "metadata": {},
   "outputs": [],
   "source": [
    "# Creates a pie chart that represents the different categories in our dataset\n",
    "plt.pie(kickstart_data['category'].value_counts(), explode = np.ones(15)*0.1, labels=kickstart_data['category'].unique(),\n",
    "        labeldistance = 1.3, autopct='%1.1f%%', shadow=True, startangle=140)\n",
    "plt.axis('equal')"
   ]
  },
  {
   "cell_type": "code",
   "execution_count": null,
   "metadata": {},
   "outputs": [],
   "source": [
    "# Plot kickstarter states\n",
    "plt.rcParams['figure.figsize'] = [12,6]\n",
    "plt.title('Kickstarter states')\n",
    "plt.xlabel('State count')\n",
    "success.value_counts().plot(kind='barh')"
   ]
  },
  {
   "cell_type": "code",
   "execution_count": null,
   "metadata": {},
   "outputs": [],
   "source": [
    "plt.pie(success.value_counts(), explode = np.ones(6)*0.1, labels=success.unique(),\n",
    "        labeldistance = 1.1, autopct='%1.1f%%', shadow=True, startangle=140)\n",
    "plt.axis('equal')"
   ]
  },
  {
   "cell_type": "code",
   "execution_count": null,
   "metadata": {},
   "outputs": [],
   "source": [
    "sns.distplot(kickstart_data['pledge_percent'], kde = False, rug = True)"
   ]
  },
  {
   "cell_type": "code",
   "execution_count": null,
   "metadata": {},
   "outputs": [],
   "source": [
    "sns.jointplot(kickstart_data['pledged'], kickstart_data['goal'], kickstart_data)"
   ]
  },
  {
   "cell_type": "code",
   "execution_count": null,
   "metadata": {},
   "outputs": [],
   "source": [
    "#from sklearn import ensemble\n",
    "#from sklearn.model_selection import cross_val_score\n",
    "\n",
    "#rfc = ensemble.RandomForestClassifier()\n",
    "#X = data.drop('state', 1)\n",
    "#Y = data['state']\n",
    "#X = pd.get_dummies(X)\n",
    "#X = X.dropna(axis=1)\n",
    "\n",
    "#cross_val_score(rfc, X, Y, cv=10)"
   ]
  },
  {
   "cell_type": "markdown",
   "metadata": {},
   "source": [
    "# Source:\n",
    "Kickstarter Data Page - \n",
    "https://www.kaggle.com/kemical/kickstarter-projects/data"
   ]
  },
  {
   "cell_type": "code",
   "execution_count": null,
   "metadata": {},
   "outputs": [],
   "source": []
  }
 ],
 "metadata": {
  "kernelspec": {
   "display_name": "Python 3",
   "language": "python",
   "name": "python3"
  },
  "language_info": {
   "codemirror_mode": {
    "name": "ipython",
    "version": 3
   },
   "file_extension": ".py",
   "mimetype": "text/x-python",
   "name": "python",
   "nbconvert_exporter": "python",
   "pygments_lexer": "ipython3",
   "version": "3.6.5"
  }
 },
 "nbformat": 4,
 "nbformat_minor": 2
}
