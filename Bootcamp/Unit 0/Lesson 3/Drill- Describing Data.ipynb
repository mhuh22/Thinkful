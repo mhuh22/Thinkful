{
 "cells": [
  {
   "cell_type": "markdown",
   "metadata": {},
   "source": [
    "# Drill # 1"
   ]
  },
  {
   "cell_type": "code",
   "execution_count": 153,
   "metadata": {},
   "outputs": [
    {
     "data": {
      "text/html": [
       "<div>\n",
       "<style scoped>\n",
       "    .dataframe tbody tr th:only-of-type {\n",
       "        vertical-align: middle;\n",
       "    }\n",
       "\n",
       "    .dataframe tbody tr th {\n",
       "        vertical-align: top;\n",
       "    }\n",
       "\n",
       "    .dataframe thead th {\n",
       "        text-align: right;\n",
       "    }\n",
       "</style>\n",
       "<table border=\"1\" class=\"dataframe\">\n",
       "  <thead>\n",
       "    <tr style=\"text-align: right;\">\n",
       "      <th></th>\n",
       "      <th>stats</th>\n",
       "      <th>values</th>\n",
       "    </tr>\n",
       "  </thead>\n",
       "  <tbody>\n",
       "    <tr>\n",
       "      <th>0</th>\n",
       "      <td>mean</td>\n",
       "      <td>9.86</td>\n",
       "    </tr>\n",
       "    <tr>\n",
       "      <th>1</th>\n",
       "      <td>median</td>\n",
       "      <td>10</td>\n",
       "    </tr>\n",
       "    <tr>\n",
       "      <th>2</th>\n",
       "      <td>mode</td>\n",
       "      <td>[8]</td>\n",
       "    </tr>\n",
       "    <tr>\n",
       "      <th>3</th>\n",
       "      <td>variance</td>\n",
       "      <td>6.41</td>\n",
       "    </tr>\n",
       "    <tr>\n",
       "      <th>4</th>\n",
       "      <td>st_dev</td>\n",
       "      <td>2.53</td>\n",
       "    </tr>\n",
       "    <tr>\n",
       "      <th>5</th>\n",
       "      <td>se</td>\n",
       "      <td>1.03</td>\n",
       "    </tr>\n",
       "  </tbody>\n",
       "</table>\n",
       "</div>"
      ],
      "text/plain": [
       "      stats values\n",
       "0      mean   9.86\n",
       "1    median     10\n",
       "2      mode    [8]\n",
       "3  variance   6.41\n",
       "4    st_dev   2.53\n",
       "5        se   1.03"
      ]
     },
     "execution_count": 153,
     "metadata": {},
     "output_type": "execute_result"
    }
   ],
   "source": [
    "import pandas as pd\n",
    "import numpy as np\n",
    "\n",
    "# create dataframe with the kids' ages\n",
    "names = ['Greg', 'Marcia', 'Peter', 'Jan', 'Bobby', 'Cindy', 'Cousin Oliver']\n",
    "df = pd.DataFrame(index = names)\n",
    "df['age'] = [14, 12, 11, 10, 8, 6, 8]\n",
    "\n",
    "# I imported this from a previous drill, so that drill #4 won't break\n",
    "def modes(data):\n",
    "    frequency = {}\n",
    "    common = []\n",
    "    for c in data:\n",
    "        if c in frequency:\n",
    "            frequency[c] += 1\n",
    "        else:\n",
    "            frequency[c] = 1\n",
    "    for f in frequency:\n",
    "        if frequency[f] == max(frequency.values()) != min(frequency.values()):\n",
    "            common.append(f)\n",
    "    return sorted(common)\n",
    "\n",
    "def stats_test():\n",
    "    # Compute our statistics\n",
    "    mean = round(sum(df['age']/len(df['age'])),2)\n",
    "    median = np.median([df['age']])\n",
    "    mode = modes(df['age'].tolist())\n",
    "    variance = round(np.var(df.age),2)\n",
    "    st_dev = round(np.std(df['age']),2)\n",
    "    se = round(np.std(df['age'] ,ddof=1) / np.sqrt(len(df['age'])),2)\n",
    "    \n",
    "    # create dataframe with statistics\n",
    "    summary = pd.DataFrame()\n",
    "    summary['stats'] = ['mean', 'median', 'mode', 'variance', 'st_dev', 'se']\n",
    "    summary['values'] = [mean, median, mode, variance, st_dev, se]\n",
    "    \n",
    "    return summary\n",
    "  \n",
    "stats_test()"
   ]
  },
  {
   "cell_type": "markdown",
   "metadata": {},
   "source": [
    "# Drill # 2\n",
    "\n",
    "1. Mean is the most useful estimate of central tendency in this dataset. The mode under-represents the higher values in our dataset and while the median isn't a bad representation, it does have a higher variance than the mean for this dataset.\n",
    "2. The best estimate of variance for our dataset is variance, since it best represents how far away the upper and lower ends of the age spectrum are from the mean."
   ]
  },
  {
   "cell_type": "markdown",
   "metadata": {},
   "source": [
    "# Drill # 3"
   ]
  },
  {
   "cell_type": "code",
   "execution_count": 105,
   "metadata": {},
   "outputs": [
    {
     "data": {
      "text/html": [
       "<div>\n",
       "<style scoped>\n",
       "    .dataframe tbody tr th:only-of-type {\n",
       "        vertical-align: middle;\n",
       "    }\n",
       "\n",
       "    .dataframe tbody tr th {\n",
       "        vertical-align: top;\n",
       "    }\n",
       "\n",
       "    .dataframe thead th {\n",
       "        text-align: right;\n",
       "    }\n",
       "</style>\n",
       "<table border=\"1\" class=\"dataframe\">\n",
       "  <thead>\n",
       "    <tr style=\"text-align: right;\">\n",
       "      <th></th>\n",
       "      <th>stats</th>\n",
       "      <th>values</th>\n",
       "    </tr>\n",
       "  </thead>\n",
       "  <tbody>\n",
       "    <tr>\n",
       "      <th>0</th>\n",
       "      <td>mean</td>\n",
       "      <td>10.00</td>\n",
       "    </tr>\n",
       "    <tr>\n",
       "      <th>1</th>\n",
       "      <td>median</td>\n",
       "      <td>10.00</td>\n",
       "    </tr>\n",
       "    <tr>\n",
       "      <th>2</th>\n",
       "      <td>mode</td>\n",
       "      <td>8.00</td>\n",
       "    </tr>\n",
       "    <tr>\n",
       "      <th>3</th>\n",
       "      <td>variance</td>\n",
       "      <td>5.43</td>\n",
       "    </tr>\n",
       "    <tr>\n",
       "      <th>4</th>\n",
       "      <td>st_dev</td>\n",
       "      <td>2.33</td>\n",
       "    </tr>\n",
       "    <tr>\n",
       "      <th>5</th>\n",
       "      <td>se</td>\n",
       "      <td>0.95</td>\n",
       "    </tr>\n",
       "  </tbody>\n",
       "</table>\n",
       "</div>"
      ],
      "text/plain": [
       "      stats  values\n",
       "0      mean   10.00\n",
       "1    median   10.00\n",
       "2      mode    8.00\n",
       "3  variance    5.43\n",
       "4    st_dev    2.33\n",
       "5        se    0.95"
      ]
     },
     "execution_count": 105,
     "metadata": {},
     "output_type": "execute_result"
    }
   ],
   "source": [
    "df.loc[['Cindy'], ['age']] = 7\n",
    "stats_test()"
   ]
  },
  {
   "cell_type": "markdown",
   "metadata": {},
   "source": [
    "1. What changed - mean, variance, standard deviation, and standard error\n",
    "2. What did not change - median, mode"
   ]
  },
  {
   "cell_type": "markdown",
   "metadata": {},
   "source": [
    "# Drill # 4"
   ]
  },
  {
   "cell_type": "code",
   "execution_count": 156,
   "metadata": {},
   "outputs": [
    {
     "data": {
      "text/html": [
       "<div>\n",
       "<style scoped>\n",
       "    .dataframe tbody tr th:only-of-type {\n",
       "        vertical-align: middle;\n",
       "    }\n",
       "\n",
       "    .dataframe tbody tr th {\n",
       "        vertical-align: top;\n",
       "    }\n",
       "\n",
       "    .dataframe thead th {\n",
       "        text-align: right;\n",
       "    }\n",
       "</style>\n",
       "<table border=\"1\" class=\"dataframe\">\n",
       "  <thead>\n",
       "    <tr style=\"text-align: right;\">\n",
       "      <th></th>\n",
       "      <th>stats</th>\n",
       "      <th>values</th>\n",
       "    </tr>\n",
       "  </thead>\n",
       "  <tbody>\n",
       "    <tr>\n",
       "      <th>0</th>\n",
       "      <td>mean</td>\n",
       "      <td>8.86</td>\n",
       "    </tr>\n",
       "    <tr>\n",
       "      <th>1</th>\n",
       "      <td>median</td>\n",
       "      <td>10</td>\n",
       "    </tr>\n",
       "    <tr>\n",
       "      <th>2</th>\n",
       "      <td>mode</td>\n",
       "      <td>[]</td>\n",
       "    </tr>\n",
       "    <tr>\n",
       "      <th>3</th>\n",
       "      <td>variance</td>\n",
       "      <td>16.12</td>\n",
       "    </tr>\n",
       "    <tr>\n",
       "      <th>4</th>\n",
       "      <td>st_dev</td>\n",
       "      <td>4.02</td>\n",
       "    </tr>\n",
       "    <tr>\n",
       "      <th>5</th>\n",
       "      <td>se</td>\n",
       "      <td>1.64</td>\n",
       "    </tr>\n",
       "  </tbody>\n",
       "</table>\n",
       "</div>"
      ],
      "text/plain": [
       "      stats values\n",
       "0      mean   8.86\n",
       "1    median     10\n",
       "2      mode     []\n",
       "3  variance  16.12\n",
       "4    st_dev   4.02\n",
       "5        se   1.64"
      ]
     },
     "execution_count": 156,
     "metadata": {},
     "output_type": "execute_result"
    }
   ],
   "source": [
    "# print(df)\n",
    "# df.loc[['Cousin Oliver']] = [['Jessica']]\n",
    "df.loc[['Cousin Oliver'],['age']] = 1\n",
    "#print(df) # doesn't update the name yet\n",
    "stats_test()"
   ]
  },
  {
   "cell_type": "markdown",
   "metadata": {},
   "source": [
    "1. Mode is now meangingless, and because 1 is a large outlier, the median is now a better unit of central tendency.\n",
    "2. Variance is much higher since the difference between 1 is much further from the mean that any of the other values, and it best captures the difference in values from the mean."
   ]
  },
  {
   "cell_type": "markdown",
   "metadata": {},
   "source": [
    "# Drill # 5"
   ]
  },
  {
   "cell_type": "code",
   "execution_count": 126,
   "metadata": {},
   "outputs": [
    {
     "name": "stdout",
     "output_type": "stream",
     "text": [
      "0.16\n"
     ]
    }
   ],
   "source": [
    "magazines = ['TV Guide', 'Entertainment Weekly', 'Pop Culture Today', 'SciPhi Phanatic']\n",
    "df = pd.DataFrame(index = magazines)\n",
    "df['fans'] = [.2,.23,.17,.05]\n",
    "mean = round(sum(df['fans']/len(df['fans'])),2)\n",
    "print(mean)"
   ]
  },
  {
   "cell_type": "markdown",
   "metadata": {},
   "source": [
    "Since the population is all adult Americans, and we don't have any numbers of how many people read each magazine, or if they read multiple magazines, I'm assuming they have an equal population/ weight and are distinct categories. Based on these conditions, 16% of adult Americans are likely to watch the Brady Bunch.\n",
    "\n",
    "Conversely, we could throw out SciPhi Phanatic since it's an outlier and \"probably\" a smaller group of people, and get an average of 20%. However, this figure over-represents the population since it disregards adult Americans (the population) that are uninterested in those topics, or do not subscribe to magazines. People that subscribe to these magazines are more likely than the average young American to watch the Brady Bunch."
   ]
  },
  {
   "cell_type": "code",
   "execution_count": null,
   "metadata": {},
   "outputs": [],
   "source": []
  }
 ],
 "metadata": {
  "kernelspec": {
   "display_name": "Python 3",
   "language": "python",
   "name": "python3"
  },
  "language_info": {
   "codemirror_mode": {
    "name": "ipython",
    "version": 3
   },
   "file_extension": ".py",
   "mimetype": "text/x-python",
   "name": "python",
   "nbconvert_exporter": "python",
   "pygments_lexer": "ipython3",
   "version": "3.6.4"
  }
 },
 "nbformat": 4,
 "nbformat_minor": 2
}
